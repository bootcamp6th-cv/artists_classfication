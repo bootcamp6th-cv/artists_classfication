{
 "cells": [
  {
   "cell_type": "code",
   "execution_count": 1,
   "id": "initial_id",
   "metadata": {
    "collapsed": true,
    "ExecuteTime": {
     "end_time": "2023-12-12T10:00:30.933140700Z",
     "start_time": "2023-12-12T10:00:25.117622800Z"
    }
   },
   "outputs": [],
   "source": [
    "import gc\n",
    "import os\n",
    "from glob import glob\n",
    "import random\n",
    "import time\n",
    "import copy\n",
    "import datetime as dt\n",
    "import warnings\n",
    "from collections import Counter\n",
    "import itertools\n",
    "import shutil\n",
    "from pprint import pprint\n",
    "\n",
    "import numpy as np\n",
    "import pandas as pd\n",
    "import matplotlib.pyplot as plt\n",
    "import cv2\n",
    "from PIL import Image\n",
    "from albumentations.pytorch import ToTensorV2\n",
    "from tqdm.auto import tqdm\n",
    "import torch\n",
    "from torch import nn\n",
    "from torch.nn import functional as F\n",
    "import torch.optim as optim\n",
    "from torch.optim import lr_scheduler\n",
    "from torch.utils.data import Dataset, DataLoader, random_split\n",
    "import torchvision\n",
    "import albumentations as A\n",
    "import sklearn\n",
    "from sklearn.metrics import confusion_matrix\n",
    "from joblib import parallel_backend\n",
    "import timm\n",
    "from timm.models.layers import Conv2dSame\n",
    "from sklearn.metrics import f1_score"
   ]
  },
  {
   "cell_type": "code",
   "execution_count": 2,
   "outputs": [],
   "source": [
    "data_path = '../../data/'"
   ],
   "metadata": {
    "collapsed": false,
    "ExecuteTime": {
     "end_time": "2023-12-12T10:00:30.953531900Z",
     "start_time": "2023-12-12T10:00:30.938022500Z"
    }
   },
   "id": "ffd207eabffdb68d"
  },
  {
   "cell_type": "code",
   "execution_count": 3,
   "outputs": [],
   "source": [
    "warnings.filterwarnings(action='ignore') \n",
    "time_now = dt.datetime.now()\n",
    "run_id = time_now.strftime(\"%Y%m%d%H%M%S\")\n",
    "\n",
    "\n",
    "def seed_everything(seed: int=42):\n",
    "    random.seed(seed)\n",
    "    np.random.seed(seed)\n",
    "    os.environ[\"PYTHONHASHSEED\"] = str(seed)\n",
    "    torch.manual_seed(seed)\n",
    "    torch.cuda.manual_seed(seed)\n",
    "    torch.cuda.manual_seed_all(seed)\n",
    "    torch.backends.cudnn.deterministic = True\n",
    "    torch.backends.cudnn.benchmark = False\n",
    "\n",
    "seed_everything(42)\n",
    "\n",
    "\n",
    "def imshow(img):\n",
    "    img = img / 2 + 0.5 \n",
    "    npimg = img.numpy()\n",
    "    plt.imshow(np.transpose(npimg, (1, 2, 0)))\n",
    "    plt.show()\n",
    "\n",
    "\n",
    "def plot_confusion_matrix(\n",
    "                        cm, classes, runid, epoch, \n",
    "                        f1, normalize=False, \n",
    "                        title='Confusion matrix',\n",
    "                        cmap=plt.cm.Blues):\n",
    "    plt.imshow(cm, interpolation='nearest', cmap=cmap)\n",
    "    plt.title(f'{title}-{runid}-{epoch}-{f1:.4f}')\n",
    "    plt.colorbar()\n",
    "    tick_marks = np.arange(len(classes))\n",
    "    plt.xticks(tick_marks, classes, rotation=45)\n",
    "    plt.yticks(tick_marks, classes)\n",
    "\n",
    "    if normalize:\n",
    "        cm = cm.astype('float') / cm.sum(axis=1)[:, np.newaxis]\n",
    "\n",
    "    thresh = cm.max() / 2.\n",
    "    for i, j in itertools.product(range(cm.shape[0]), range(cm.shape[1])):\n",
    "        plt.text(j, i, cm[i, j],\n",
    "                horizontalalignment=\"center\",\n",
    "                color=\"white\" if cm[i, j] > thresh else \"black\")\n",
    "\n",
    "    plt.tight_layout()\n",
    "    plt.ylabel('True label')\n",
    "    plt.xlabel('Predicted label')\n",
    "    # plt.savefig(data_path+f'./cms/cm-{runid}.jpg', dpi=400)\n",
    "    plt.clf()"
   ],
   "metadata": {
    "collapsed": false,
    "ExecuteTime": {
     "end_time": "2023-12-12T10:00:31.052112200Z",
     "start_time": "2023-12-12T10:00:30.960013700Z"
    }
   },
   "id": "59ed2ba05afb34f2"
  },
  {
   "cell_type": "code",
   "execution_count": 4,
   "outputs": [],
   "source": [
    "transform_train = A.Compose(\n",
    "    [\n",
    "        A.RandomResizedCrop(\n",
    "            height=380, \n",
    "            width=380, \n",
    "            scale=(0.24, 0.26),\n",
    "            ratio=(0.90, 1.10),\n",
    "            always_apply=True\n",
    "        ),\n",
    "        A.HorizontalFlip(p=0.5),\n",
    "        A.Normalize(mean=(0.548, 0.504, 0.479), std=(0.237, 0.247, 0.246)),\n",
    "        ToTensorV2()\n",
    "    ]\n",
    ")\n",
    "\n",
    "transform_test = A.Compose(\n",
    "    [\n",
    "        A.Resize(380, 380),\n",
    "        A.Normalize(mean=(0.548, 0.504, 0.479), std=(0.237, 0.247, 0.246)),\n",
    "        ToTensorV2()\n",
    "    ]\n",
    ")"
   ],
   "metadata": {
    "collapsed": false,
    "ExecuteTime": {
     "end_time": "2023-12-12T10:00:31.065584500Z",
     "start_time": "2023-12-12T10:00:31.052112200Z"
    }
   },
   "id": "73433b0f623d05d7"
  },
  {
   "cell_type": "code",
   "execution_count": 5,
   "outputs": [],
   "source": [
    "class ARTDataset(Dataset):\n",
    "    def __init__(self, phase, csv, transform) -> None:\n",
    "        super().__init__()\n",
    "        df = csv.sort_values(by=['id'])\n",
    "        self.phase = phase\n",
    "        self.transform = transform\n",
    "        self.images = df['img_path']\n",
    "\n",
    "        if self.phase != 'test':\n",
    "            self.label = df['artist']\n",
    "    \n",
    "    def __getitem__(self, index):\n",
    "        image_path = self.images.iloc[index]\n",
    "        if self.phase != 'test':\n",
    "            label = int(self.label.iloc[index])\n",
    "\n",
    "        image_path = os.path.join(data_path, f'{image_path}')\n",
    "        temp = Image.open(image_path).convert(\"RGB\")\n",
    "        image = np.array(temp).copy()\n",
    "        temp.close()\n",
    "\n",
    "        if self.transform:\n",
    "            transformed = self.transform(image=image)\n",
    "            image = transformed['image']\n",
    "\n",
    "        if self.phase != 'test':\n",
    "            return image, label\n",
    "        else:\n",
    "            return image\n",
    "\n",
    "    def __len__(self):\n",
    "        return len(self.images)\n"
   ],
   "metadata": {
    "collapsed": false,
    "ExecuteTime": {
     "end_time": "2023-12-12T10:00:31.081704700Z",
     "start_time": "2023-12-12T10:00:31.065584500Z"
    }
   },
   "id": "9ccbdc8f39e6bb84"
  },
  {
   "cell_type": "code",
   "execution_count": 6,
   "outputs": [],
   "source": [
    "class EarlyStopping:\n",
    "    def __init__(self, patience=10, verbose=False, delta=0):\n",
    "        self.patience = patience\n",
    "        self.verbose = verbose\n",
    "        self.counter = 0\n",
    "        self.best_score = None\n",
    "        self.early_stop = False\n",
    "        self.val_loss_min = np.Inf\n",
    "        self.delta = delta\n",
    "\n",
    "    def __call__(self, score):\n",
    "        if self.best_score is None:\n",
    "            self.best_score = score\n",
    "        elif score < self.best_score + self.delta:\n",
    "            self.counter += 1\n",
    "            print(f'EarlyStopping counter: {self.counter} out of {self.patience}')\n",
    "            print(f'Best F1 score from now: {self.best_score}')\n",
    "            if self.counter >= self.patience:\n",
    "                self.early_stop = True\n",
    "        else:\n",
    "            self.best_score = score\n",
    "            self.counter = 0\n",
    "        \n",
    "        return self.early_stop"
   ],
   "metadata": {
    "collapsed": false,
    "ExecuteTime": {
     "end_time": "2023-12-12T10:00:31.097338300Z",
     "start_time": "2023-12-12T10:00:31.081704700Z"
    }
   },
   "id": "5d7945fd2d76ac5e"
  },
  {
   "cell_type": "code",
   "execution_count": 7,
   "outputs": [],
   "source": [
    "train_csv = pd.read_csv(os.path.join(data_path, 'train.csv'))\n",
    "train_csv.loc[3896, 'artist'] = 'Titian'\n",
    "train_csv.loc[3986, 'artist'] = 'Alfred Sisley'\n",
    "le = sklearn.preprocessing.LabelEncoder()\n",
    "train_csv['artist'] = le.fit_transform(train_csv['artist'].values)\n",
    "\n",
    "assert len(le.classes_) == 50"
   ],
   "metadata": {
    "collapsed": false,
    "ExecuteTime": {
     "end_time": "2023-12-12T10:00:31.128590200Z",
     "start_time": "2023-12-12T10:00:31.097338300Z"
    }
   },
   "id": "50ef8fadaea87745"
  },
  {
   "cell_type": "code",
   "execution_count": 8,
   "outputs": [],
   "source": [
    "def clear_mem():\n",
    "    gc.collect()\n",
    "    torch.cuda.empty_cache()"
   ],
   "metadata": {
    "collapsed": false,
    "ExecuteTime": {
     "end_time": "2023-12-12T10:00:31.152143500Z",
     "start_time": "2023-12-12T10:00:31.128590200Z"
    }
   },
   "id": "f96ceefe2b9055b"
  },
  {
   "cell_type": "code",
   "execution_count": 9,
   "outputs": [
    {
     "name": "stdout",
     "output_type": "stream",
     "text": [
      "cls_cnts: 50\n",
      "num_samples:4728\n",
      "{'Jackson Pollock': 278.12, 'Eugene Delacroix': 225.14, 'Kazimir Malevich': 64.77, 'Georges Seurat': 197.0, 'Peter Paul Rubens': 60.62, 'Edouard Manet': 94.56, 'Claude Monet': 100.6, 'Paul Klee': 41.47, 'Mikhail Vrubel': 50.3, 'Andrei Rublev': 80.14, 'Pablo Picasso': 19.54, 'Rembrandt': 32.61, 'Marc Chagall': 34.26, 'Michelangelo': 175.11, 'Raphael': 80.14, 'Joan Miro': 77.51, 'Sandro Botticelli': 49.25, 'Gustave Courbet': 139.06, 'Andy Warhol': 45.03, 'Pieter Bruegel': 69.53, 'Albrecht Du rer': 26.86, 'El Greco': 90.92, 'Vincent van Gogh': 9.38, 'Camille Pissarro': 92.71, 'Leonardo da Vinci': 58.37, 'Francisco Goya': 29.01, 'Hieronymus Bosch': 51.39, 'Amedeo Modigliani': 45.03, 'Paul Gauguin': 26.86, 'Vasiliy Kandinskiy': 98.5, 'Henri Rousseau': 112.57, 'Pierre-Auguste Renoir': 25.42, 'Titian': 34.01, 'Edgar Degas': 12.09, 'Alfred Sisley': 35.82, 'Diego Rivera': 118.2, 'William Turner': 135.09, 'Gustav Klimt': 84.43, 'Jan van Eyck': 92.71, 'Diego Velazquez': 73.88, 'Caravaggio': 189.12, 'Giotto di Bondone': 81.52, 'Frida Kahlo': 70.57, 'Rene Magritte': 42.98, 'Henri de Toulouse-Lautrec': 98.5, 'Salvador Dali': 59.85, 'Edvard Munch': 135.09, 'Henri Matisse': 48.74, 'Piet Mondrian': 100.6, 'Paul Cezanne': 181.85}\n",
      "--------------------------------------------------\n",
      "Fold: 0\n",
      "Epoch 0/299\n"
     ]
    },
    {
     "data": {
      "text/plain": "  0%|          | 0/296 [00:00<?, ?it/s]",
      "application/vnd.jupyter.widget-view+json": {
       "version_major": 2,
       "version_minor": 0,
       "model_id": "d4b3cb49e1704280adb957cec9cda837"
      }
     },
     "metadata": {},
     "output_type": "display_data"
    },
    {
     "name": "stdout",
     "output_type": "stream",
     "text": [
      "[train] Loss: 2.0815 Macro F1: 0.4355\n"
     ]
    },
    {
     "data": {
      "text/plain": "  0%|          | 0/74 [00:00<?, ?it/s]",
      "application/vnd.jupyter.widget-view+json": {
       "version_major": 2,
       "version_minor": 0,
       "model_id": "5d785afbb2f9496891fe2eebf8d558ea"
      }
     },
     "metadata": {},
     "output_type": "display_data"
    },
    {
     "name": "stdout",
     "output_type": "stream",
     "text": [
      "[val] Loss: 1.9581 Macro F1: 0.4603\n",
      "--------------------------------------------------\n",
      "Fold: 0\n",
      "Epoch 1/299\n"
     ]
    },
    {
     "data": {
      "text/plain": "  0%|          | 0/296 [00:00<?, ?it/s]",
      "application/vnd.jupyter.widget-view+json": {
       "version_major": 2,
       "version_minor": 0,
       "model_id": "af82024bb76f4d50b851cfc3799a21a0"
      }
     },
     "metadata": {},
     "output_type": "display_data"
    },
    {
     "name": "stdout",
     "output_type": "stream",
     "text": [
      "[train] Loss: 1.2537 Macro F1: 0.6366\n"
     ]
    },
    {
     "data": {
      "text/plain": "  0%|          | 0/74 [00:00<?, ?it/s]",
      "application/vnd.jupyter.widget-view+json": {
       "version_major": 2,
       "version_minor": 0,
       "model_id": "316876ff95164610a9d2513f3c2f6a45"
      }
     },
     "metadata": {},
     "output_type": "display_data"
    },
    {
     "name": "stdout",
     "output_type": "stream",
     "text": [
      "[val] Loss: 1.7908 Macro F1: 0.5542\n",
      "--------------------------------------------------\n",
      "Fold: 0\n",
      "Epoch 2/299\n"
     ]
    },
    {
     "data": {
      "text/plain": "  0%|          | 0/296 [00:00<?, ?it/s]",
      "application/vnd.jupyter.widget-view+json": {
       "version_major": 2,
       "version_minor": 0,
       "model_id": "4a86d557bbe44f65adeb6541adb34d71"
      }
     },
     "metadata": {},
     "output_type": "display_data"
    },
    {
     "name": "stdout",
     "output_type": "stream",
     "text": [
      "[train] Loss: 1.0516 Macro F1: 0.6936\n"
     ]
    },
    {
     "data": {
      "text/plain": "  0%|          | 0/74 [00:00<?, ?it/s]",
      "application/vnd.jupyter.widget-view+json": {
       "version_major": 2,
       "version_minor": 0,
       "model_id": "7e50e0656b99478c83f79385edabdd2a"
      }
     },
     "metadata": {},
     "output_type": "display_data"
    },
    {
     "name": "stdout",
     "output_type": "stream",
     "text": [
      "[val] Loss: 1.5305 Macro F1: 0.5882\n",
      "--------------------------------------------------\n",
      "Fold: 0\n",
      "Epoch 3/299\n"
     ]
    },
    {
     "data": {
      "text/plain": "  0%|          | 0/296 [00:00<?, ?it/s]",
      "application/vnd.jupyter.widget-view+json": {
       "version_major": 2,
       "version_minor": 0,
       "model_id": "87353cefbb95486b85835f0549af3e8f"
      }
     },
     "metadata": {},
     "output_type": "display_data"
    },
    {
     "name": "stdout",
     "output_type": "stream",
     "text": [
      "[train] Loss: 0.8780 Macro F1: 0.7371\n"
     ]
    },
    {
     "data": {
      "text/plain": "  0%|          | 0/74 [00:00<?, ?it/s]",
      "application/vnd.jupyter.widget-view+json": {
       "version_major": 2,
       "version_minor": 0,
       "model_id": "961b009bcaf248679bbf6053cff65341"
      }
     },
     "metadata": {},
     "output_type": "display_data"
    },
    {
     "name": "stdout",
     "output_type": "stream",
     "text": [
      "[val] Loss: 1.4912 Macro F1: 0.5766\n",
      "EarlyStopping counter: 1 out of 10\n",
      "Best F1 score from now: 0.5882012857175393\n",
      "--------------------------------------------------\n",
      "Fold: 0\n",
      "Epoch 4/299\n"
     ]
    },
    {
     "data": {
      "text/plain": "  0%|          | 0/296 [00:00<?, ?it/s]",
      "application/vnd.jupyter.widget-view+json": {
       "version_major": 2,
       "version_minor": 0,
       "model_id": "85ee483a47ee496aa68dc27fa2ccd03e"
      }
     },
     "metadata": {},
     "output_type": "display_data"
    },
    {
     "name": "stdout",
     "output_type": "stream",
     "text": [
      "[train] Loss: 0.7983 Macro F1: 0.7664\n"
     ]
    },
    {
     "data": {
      "text/plain": "  0%|          | 0/74 [00:00<?, ?it/s]",
      "application/vnd.jupyter.widget-view+json": {
       "version_major": 2,
       "version_minor": 0,
       "model_id": "0af34645e39c479583eac25d42eb054b"
      }
     },
     "metadata": {},
     "output_type": "display_data"
    },
    {
     "name": "stdout",
     "output_type": "stream",
     "text": [
      "[val] Loss: nan Macro F1: 0.5452\n",
      "EarlyStopping counter: 2 out of 10\n",
      "Best F1 score from now: 0.5882012857175393\n",
      "--------------------------------------------------\n",
      "Fold: 0\n",
      "Epoch 5/299\n"
     ]
    },
    {
     "data": {
      "text/plain": "  0%|          | 0/296 [00:00<?, ?it/s]",
      "application/vnd.jupyter.widget-view+json": {
       "version_major": 2,
       "version_minor": 0,
       "model_id": "a61c8d3fecb8489787a26d00a7c1ae10"
      }
     },
     "metadata": {},
     "output_type": "display_data"
    },
    {
     "name": "stdout",
     "output_type": "stream",
     "text": [
      "[train] Loss: 0.4576 Macro F1: 0.8636\n"
     ]
    },
    {
     "data": {
      "text/plain": "  0%|          | 0/74 [00:00<?, ?it/s]",
      "application/vnd.jupyter.widget-view+json": {
       "version_major": 2,
       "version_minor": 0,
       "model_id": "aed2957281a4425ea05c3f1ab35d5530"
      }
     },
     "metadata": {},
     "output_type": "display_data"
    },
    {
     "name": "stdout",
     "output_type": "stream",
     "text": [
      "[val] Loss: nan Macro F1: 0.6935\n",
      "--------------------------------------------------\n",
      "Fold: 0\n",
      "Epoch 6/299\n"
     ]
    },
    {
     "data": {
      "text/plain": "  0%|          | 0/296 [00:00<?, ?it/s]",
      "application/vnd.jupyter.widget-view+json": {
       "version_major": 2,
       "version_minor": 0,
       "model_id": "1acb1f1ba48b4c35b00db2e3d251e7b3"
      }
     },
     "metadata": {},
     "output_type": "display_data"
    },
    {
     "name": "stdout",
     "output_type": "stream",
     "text": [
      "[train] Loss: 0.3665 Macro F1: 0.8875\n"
     ]
    },
    {
     "data": {
      "text/plain": "  0%|          | 0/74 [00:00<?, ?it/s]",
      "application/vnd.jupyter.widget-view+json": {
       "version_major": 2,
       "version_minor": 0,
       "model_id": "0068f47dc03944b79b3e2bb987c36c1b"
      }
     },
     "metadata": {},
     "output_type": "display_data"
    },
    {
     "name": "stdout",
     "output_type": "stream",
     "text": [
      "[val] Loss: 1.1104 Macro F1: 0.7001\n",
      "--------------------------------------------------\n",
      "Fold: 0\n",
      "Epoch 7/299\n"
     ]
    },
    {
     "data": {
      "text/plain": "  0%|          | 0/296 [00:00<?, ?it/s]",
      "application/vnd.jupyter.widget-view+json": {
       "version_major": 2,
       "version_minor": 0,
       "model_id": "4478ac067d7e4618a198bfa600e7a2c4"
      }
     },
     "metadata": {},
     "output_type": "display_data"
    },
    {
     "name": "stdout",
     "output_type": "stream",
     "text": [
      "[train] Loss: 0.2942 Macro F1: 0.9087\n"
     ]
    },
    {
     "data": {
      "text/plain": "  0%|          | 0/74 [00:00<?, ?it/s]",
      "application/vnd.jupyter.widget-view+json": {
       "version_major": 2,
       "version_minor": 0,
       "model_id": "7d4c75bd0e244880aa085a49abbd65d9"
      }
     },
     "metadata": {},
     "output_type": "display_data"
    },
    {
     "name": "stdout",
     "output_type": "stream",
     "text": [
      "[val] Loss: 1.4828 Macro F1: 0.6977\n",
      "EarlyStopping counter: 1 out of 10\n",
      "Best F1 score from now: 0.7001410140028136\n",
      "--------------------------------------------------\n",
      "Fold: 0\n",
      "Epoch 8/299\n"
     ]
    },
    {
     "data": {
      "text/plain": "  0%|          | 0/296 [00:00<?, ?it/s]",
      "application/vnd.jupyter.widget-view+json": {
       "version_major": 2,
       "version_minor": 0,
       "model_id": "af871ec33d9a4eb98c88b236291f2d81"
      }
     },
     "metadata": {},
     "output_type": "display_data"
    },
    {
     "name": "stdout",
     "output_type": "stream",
     "text": [
      "[train] Loss: 0.3097 Macro F1: 0.9108\n"
     ]
    },
    {
     "data": {
      "text/plain": "  0%|          | 0/74 [00:00<?, ?it/s]",
      "application/vnd.jupyter.widget-view+json": {
       "version_major": 2,
       "version_minor": 0,
       "model_id": "7802bc2d866d48c6b6a92f9f8961611c"
      }
     },
     "metadata": {},
     "output_type": "display_data"
    },
    {
     "name": "stdout",
     "output_type": "stream",
     "text": [
      "[val] Loss: 1.2066 Macro F1: 0.7128\n",
      "--------------------------------------------------\n",
      "Fold: 0\n",
      "Epoch 9/299\n"
     ]
    },
    {
     "data": {
      "text/plain": "  0%|          | 0/296 [00:00<?, ?it/s]",
      "application/vnd.jupyter.widget-view+json": {
       "version_major": 2,
       "version_minor": 0,
       "model_id": "332cfa56f944439ba18fc5902b68c6db"
      }
     },
     "metadata": {},
     "output_type": "display_data"
    },
    {
     "name": "stdout",
     "output_type": "stream",
     "text": [
      "[train] Loss: 0.2690 Macro F1: 0.9186\n"
     ]
    },
    {
     "data": {
      "text/plain": "  0%|          | 0/74 [00:00<?, ?it/s]",
      "application/vnd.jupyter.widget-view+json": {
       "version_major": 2,
       "version_minor": 0,
       "model_id": "c3496cc5a35d4852a0ee0da4cd8f1223"
      }
     },
     "metadata": {},
     "output_type": "display_data"
    },
    {
     "name": "stdout",
     "output_type": "stream",
     "text": [
      "[val] Loss: 1.1363 Macro F1: 0.7157\n",
      "--------------------------------------------------\n",
      "Fold: 0\n",
      "Epoch 10/299\n"
     ]
    },
    {
     "data": {
      "text/plain": "  0%|          | 0/296 [00:00<?, ?it/s]",
      "application/vnd.jupyter.widget-view+json": {
       "version_major": 2,
       "version_minor": 0,
       "model_id": "de9682a8ed6d4e539460119af9a90551"
      }
     },
     "metadata": {},
     "output_type": "display_data"
    },
    {
     "name": "stdout",
     "output_type": "stream",
     "text": [
      "[train] Loss: 0.1770 Macro F1: 0.9470\n"
     ]
    },
    {
     "data": {
      "text/plain": "  0%|          | 0/74 [00:00<?, ?it/s]",
      "application/vnd.jupyter.widget-view+json": {
       "version_major": 2,
       "version_minor": 0,
       "model_id": "9176dc1862034bdd92a313530f030563"
      }
     },
     "metadata": {},
     "output_type": "display_data"
    },
    {
     "name": "stdout",
     "output_type": "stream",
     "text": [
      "[val] Loss: 1.2000 Macro F1: 0.7559\n",
      "--------------------------------------------------\n",
      "Fold: 0\n",
      "Epoch 11/299\n"
     ]
    },
    {
     "data": {
      "text/plain": "  0%|          | 0/296 [00:00<?, ?it/s]",
      "application/vnd.jupyter.widget-view+json": {
       "version_major": 2,
       "version_minor": 0,
       "model_id": "7d7f4811db704145828e7b77b17d2087"
      }
     },
     "metadata": {},
     "output_type": "display_data"
    },
    {
     "name": "stdout",
     "output_type": "stream",
     "text": [
      "[train] Loss: 0.1325 Macro F1: 0.9569\n"
     ]
    },
    {
     "data": {
      "text/plain": "  0%|          | 0/74 [00:00<?, ?it/s]",
      "application/vnd.jupyter.widget-view+json": {
       "version_major": 2,
       "version_minor": 0,
       "model_id": "2025d518b613457ea4da0468cef277ec"
      }
     },
     "metadata": {},
     "output_type": "display_data"
    },
    {
     "name": "stdout",
     "output_type": "stream",
     "text": [
      "[val] Loss: 0.9814 Macro F1: 0.7612\n",
      "--------------------------------------------------\n",
      "Fold: 0\n",
      "Epoch 12/299\n"
     ]
    },
    {
     "data": {
      "text/plain": "  0%|          | 0/296 [00:00<?, ?it/s]",
      "application/vnd.jupyter.widget-view+json": {
       "version_major": 2,
       "version_minor": 0,
       "model_id": "5fd5c57278db4c1a971493e553f8b142"
      }
     },
     "metadata": {},
     "output_type": "display_data"
    },
    {
     "name": "stdout",
     "output_type": "stream",
     "text": [
      "[train] Loss: 0.1118 Macro F1: 0.9698\n"
     ]
    },
    {
     "data": {
      "text/plain": "  0%|          | 0/74 [00:00<?, ?it/s]",
      "application/vnd.jupyter.widget-view+json": {
       "version_major": 2,
       "version_minor": 0,
       "model_id": "370d99fec99e48c188f8ca168f6e1331"
      }
     },
     "metadata": {},
     "output_type": "display_data"
    },
    {
     "name": "stdout",
     "output_type": "stream",
     "text": [
      "[val] Loss: 1.1832 Macro F1: 0.7536\n",
      "EarlyStopping counter: 1 out of 10\n",
      "Best F1 score from now: 0.7612167488252309\n",
      "--------------------------------------------------\n",
      "Fold: 0\n",
      "Epoch 13/299\n"
     ]
    },
    {
     "data": {
      "text/plain": "  0%|          | 0/296 [00:00<?, ?it/s]",
      "application/vnd.jupyter.widget-view+json": {
       "version_major": 2,
       "version_minor": 0,
       "model_id": "858c09f947f445ec8b57c2d8538bb584"
      }
     },
     "metadata": {},
     "output_type": "display_data"
    },
    {
     "name": "stdout",
     "output_type": "stream",
     "text": [
      "[train] Loss: 0.1246 Macro F1: 0.9601\n"
     ]
    },
    {
     "data": {
      "text/plain": "  0%|          | 0/74 [00:00<?, ?it/s]",
      "application/vnd.jupyter.widget-view+json": {
       "version_major": 2,
       "version_minor": 0,
       "model_id": "4494d74b3a574906943cc20f05ecb04b"
      }
     },
     "metadata": {},
     "output_type": "display_data"
    },
    {
     "name": "stdout",
     "output_type": "stream",
     "text": [
      "[val] Loss: 0.9623 Macro F1: 0.7616\n",
      "--------------------------------------------------\n",
      "Fold: 0\n",
      "Epoch 14/299\n"
     ]
    },
    {
     "data": {
      "text/plain": "  0%|          | 0/296 [00:00<?, ?it/s]",
      "application/vnd.jupyter.widget-view+json": {
       "version_major": 2,
       "version_minor": 0,
       "model_id": "4c9507a79dd24bcebae57efe917cd51c"
      }
     },
     "metadata": {},
     "output_type": "display_data"
    },
    {
     "name": "stdout",
     "output_type": "stream",
     "text": [
      "[train] Loss: 0.1054 Macro F1: 0.9712\n"
     ]
    },
    {
     "data": {
      "text/plain": "  0%|          | 0/74 [00:00<?, ?it/s]",
      "application/vnd.jupyter.widget-view+json": {
       "version_major": 2,
       "version_minor": 0,
       "model_id": "07fcfe465f2040ebb3b938a82ca0dde7"
      }
     },
     "metadata": {},
     "output_type": "display_data"
    },
    {
     "name": "stdout",
     "output_type": "stream",
     "text": [
      "[val] Loss: 0.9539 Macro F1: 0.7530\n",
      "EarlyStopping counter: 1 out of 10\n",
      "Best F1 score from now: 0.7616028747290031\n",
      "--------------------------------------------------\n",
      "Fold: 0\n",
      "Epoch 15/299\n"
     ]
    },
    {
     "data": {
      "text/plain": "  0%|          | 0/296 [00:00<?, ?it/s]",
      "application/vnd.jupyter.widget-view+json": {
       "version_major": 2,
       "version_minor": 0,
       "model_id": "eb11f41a68d14b0eb57366b28e82e9f8"
      }
     },
     "metadata": {},
     "output_type": "display_data"
    },
    {
     "name": "stdout",
     "output_type": "stream",
     "text": [
      "[train] Loss: 0.0864 Macro F1: 0.9735\n"
     ]
    },
    {
     "data": {
      "text/plain": "  0%|          | 0/74 [00:00<?, ?it/s]",
      "application/vnd.jupyter.widget-view+json": {
       "version_major": 2,
       "version_minor": 0,
       "model_id": "450584cd21b44be2b1beaa1ced6559a7"
      }
     },
     "metadata": {},
     "output_type": "display_data"
    },
    {
     "name": "stdout",
     "output_type": "stream",
     "text": [
      "[val] Loss: 0.8109 Macro F1: 0.7808\n",
      "--------------------------------------------------\n",
      "Fold: 0\n",
      "Epoch 16/299\n"
     ]
    },
    {
     "data": {
      "text/plain": "  0%|          | 0/296 [00:00<?, ?it/s]",
      "application/vnd.jupyter.widget-view+json": {
       "version_major": 2,
       "version_minor": 0,
       "model_id": "d62303400604422f8118883b9f056ad7"
      }
     },
     "metadata": {},
     "output_type": "display_data"
    },
    {
     "name": "stdout",
     "output_type": "stream",
     "text": [
      "[train] Loss: 0.0752 Macro F1: 0.9782\n"
     ]
    },
    {
     "data": {
      "text/plain": "  0%|          | 0/74 [00:00<?, ?it/s]",
      "application/vnd.jupyter.widget-view+json": {
       "version_major": 2,
       "version_minor": 0,
       "model_id": "b1e146f11e2b4366bab8cbf8835cbcb0"
      }
     },
     "metadata": {},
     "output_type": "display_data"
    },
    {
     "name": "stdout",
     "output_type": "stream",
     "text": [
      "[val] Loss: 0.7748 Macro F1: 0.7759\n",
      "EarlyStopping counter: 1 out of 10\n",
      "Best F1 score from now: 0.7808421154035757\n",
      "--------------------------------------------------\n",
      "Fold: 0\n",
      "Epoch 17/299\n"
     ]
    },
    {
     "data": {
      "text/plain": "  0%|          | 0/296 [00:00<?, ?it/s]",
      "application/vnd.jupyter.widget-view+json": {
       "version_major": 2,
       "version_minor": 0,
       "model_id": "a6d4eca13a3a457e9f02d8036e32044c"
      }
     },
     "metadata": {},
     "output_type": "display_data"
    },
    {
     "name": "stdout",
     "output_type": "stream",
     "text": [
      "[train] Loss: 0.0567 Macro F1: 0.9834\n"
     ]
    },
    {
     "data": {
      "text/plain": "  0%|          | 0/74 [00:00<?, ?it/s]",
      "application/vnd.jupyter.widget-view+json": {
       "version_major": 2,
       "version_minor": 0,
       "model_id": "bcd1775ac9a84fab83e4e4e4b6b2d38b"
      }
     },
     "metadata": {},
     "output_type": "display_data"
    },
    {
     "name": "stdout",
     "output_type": "stream",
     "text": [
      "[val] Loss: 0.8458 Macro F1: 0.7922\n",
      "--------------------------------------------------\n",
      "Fold: 0\n",
      "Epoch 18/299\n"
     ]
    },
    {
     "data": {
      "text/plain": "  0%|          | 0/296 [00:00<?, ?it/s]",
      "application/vnd.jupyter.widget-view+json": {
       "version_major": 2,
       "version_minor": 0,
       "model_id": "df9d5d7bf54b44589e4390e85208459e"
      }
     },
     "metadata": {},
     "output_type": "display_data"
    },
    {
     "name": "stdout",
     "output_type": "stream",
     "text": [
      "[train] Loss: 0.0600 Macro F1: 0.9842\n"
     ]
    },
    {
     "data": {
      "text/plain": "  0%|          | 0/74 [00:00<?, ?it/s]",
      "application/vnd.jupyter.widget-view+json": {
       "version_major": 2,
       "version_minor": 0,
       "model_id": "d2e38073879445abbef38b17158d6dca"
      }
     },
     "metadata": {},
     "output_type": "display_data"
    },
    {
     "name": "stdout",
     "output_type": "stream",
     "text": [
      "[val] Loss: 0.9144 Macro F1: 0.7911\n",
      "EarlyStopping counter: 1 out of 10\n",
      "Best F1 score from now: 0.7922240935167033\n",
      "--------------------------------------------------\n",
      "Fold: 0\n",
      "Epoch 19/299\n"
     ]
    },
    {
     "data": {
      "text/plain": "  0%|          | 0/296 [00:00<?, ?it/s]",
      "application/vnd.jupyter.widget-view+json": {
       "version_major": 2,
       "version_minor": 0,
       "model_id": "68b8daafe049490796bd0ff3ebc0c7be"
      }
     },
     "metadata": {},
     "output_type": "display_data"
    },
    {
     "name": "stdout",
     "output_type": "stream",
     "text": [
      "[train] Loss: 0.0502 Macro F1: 0.9848\n"
     ]
    },
    {
     "data": {
      "text/plain": "  0%|          | 0/74 [00:00<?, ?it/s]",
      "application/vnd.jupyter.widget-view+json": {
       "version_major": 2,
       "version_minor": 0,
       "model_id": "b349b38d93994c7eabdb87f5fde6a998"
      }
     },
     "metadata": {},
     "output_type": "display_data"
    },
    {
     "name": "stdout",
     "output_type": "stream",
     "text": [
      "[val] Loss: 0.9293 Macro F1: 0.7784\n",
      "EarlyStopping counter: 2 out of 10\n",
      "Best F1 score from now: 0.7922240935167033\n",
      "--------------------------------------------------\n",
      "Fold: 0\n",
      "Epoch 20/299\n"
     ]
    },
    {
     "data": {
      "text/plain": "  0%|          | 0/296 [00:00<?, ?it/s]",
      "application/vnd.jupyter.widget-view+json": {
       "version_major": 2,
       "version_minor": 0,
       "model_id": "fa62234e79d64240ae9878202838811d"
      }
     },
     "metadata": {},
     "output_type": "display_data"
    },
    {
     "name": "stdout",
     "output_type": "stream",
     "text": [
      "[train] Loss: 0.0621 Macro F1: 0.9819\n"
     ]
    },
    {
     "data": {
      "text/plain": "  0%|          | 0/74 [00:00<?, ?it/s]",
      "application/vnd.jupyter.widget-view+json": {
       "version_major": 2,
       "version_minor": 0,
       "model_id": "8a9a58f432a448f3977e2802933c7570"
      }
     },
     "metadata": {},
     "output_type": "display_data"
    },
    {
     "name": "stdout",
     "output_type": "stream",
     "text": [
      "[val] Loss: 0.9670 Macro F1: 0.7687\n",
      "EarlyStopping counter: 3 out of 10\n",
      "Best F1 score from now: 0.7922240935167033\n",
      "--------------------------------------------------\n",
      "Fold: 0\n",
      "Epoch 21/299\n"
     ]
    },
    {
     "data": {
      "text/plain": "  0%|          | 0/296 [00:00<?, ?it/s]",
      "application/vnd.jupyter.widget-view+json": {
       "version_major": 2,
       "version_minor": 0,
       "model_id": "2bec0e844a8749cdb9207a5a414e9760"
      }
     },
     "metadata": {},
     "output_type": "display_data"
    },
    {
     "name": "stdout",
     "output_type": "stream",
     "text": [
      "[train] Loss: 0.0450 Macro F1: 0.9854\n"
     ]
    },
    {
     "data": {
      "text/plain": "  0%|          | 0/74 [00:00<?, ?it/s]",
      "application/vnd.jupyter.widget-view+json": {
       "version_major": 2,
       "version_minor": 0,
       "model_id": "5f5853684e1944a09cce22bf631bb96e"
      }
     },
     "metadata": {},
     "output_type": "display_data"
    },
    {
     "name": "stdout",
     "output_type": "stream",
     "text": [
      "[val] Loss: 0.8722 Macro F1: 0.7757\n",
      "EarlyStopping counter: 4 out of 10\n",
      "Best F1 score from now: 0.7922240935167033\n",
      "--------------------------------------------------\n",
      "Fold: 0\n",
      "Epoch 22/299\n"
     ]
    },
    {
     "data": {
      "text/plain": "  0%|          | 0/296 [00:00<?, ?it/s]",
      "application/vnd.jupyter.widget-view+json": {
       "version_major": 2,
       "version_minor": 0,
       "model_id": "b8932c8e55c3413cb9f3921ce975a1b4"
      }
     },
     "metadata": {},
     "output_type": "display_data"
    },
    {
     "name": "stdout",
     "output_type": "stream",
     "text": [
      "[train] Loss: 0.0436 Macro F1: 0.9883\n"
     ]
    },
    {
     "data": {
      "text/plain": "  0%|          | 0/74 [00:00<?, ?it/s]",
      "application/vnd.jupyter.widget-view+json": {
       "version_major": 2,
       "version_minor": 0,
       "model_id": "329b15c3900f487fb3547b31b312a94e"
      }
     },
     "metadata": {},
     "output_type": "display_data"
    },
    {
     "name": "stdout",
     "output_type": "stream",
     "text": [
      "[val] Loss: 0.9886 Macro F1: 0.7806\n",
      "EarlyStopping counter: 5 out of 10\n",
      "Best F1 score from now: 0.7922240935167033\n",
      "--------------------------------------------------\n",
      "Fold: 0\n",
      "Epoch 23/299\n"
     ]
    },
    {
     "data": {
      "text/plain": "  0%|          | 0/296 [00:00<?, ?it/s]",
      "application/vnd.jupyter.widget-view+json": {
       "version_major": 2,
       "version_minor": 0,
       "model_id": "91762750f0d240d280300886a7799a72"
      }
     },
     "metadata": {},
     "output_type": "display_data"
    },
    {
     "name": "stdout",
     "output_type": "stream",
     "text": [
      "[train] Loss: 0.0385 Macro F1: 0.9885\n"
     ]
    },
    {
     "data": {
      "text/plain": "  0%|          | 0/74 [00:00<?, ?it/s]",
      "application/vnd.jupyter.widget-view+json": {
       "version_major": 2,
       "version_minor": 0,
       "model_id": "a2f10b44a3e94aaa927c3995f3ea52c1"
      }
     },
     "metadata": {},
     "output_type": "display_data"
    },
    {
     "name": "stdout",
     "output_type": "stream",
     "text": [
      "[val] Loss: 0.9114 Macro F1: 0.7964\n",
      "--------------------------------------------------\n",
      "Fold: 0\n",
      "Epoch 24/299\n"
     ]
    },
    {
     "data": {
      "text/plain": "  0%|          | 0/296 [00:00<?, ?it/s]",
      "application/vnd.jupyter.widget-view+json": {
       "version_major": 2,
       "version_minor": 0,
       "model_id": "1293f62d5a104ee6971ba13d609ced63"
      }
     },
     "metadata": {},
     "output_type": "display_data"
    },
    {
     "name": "stdout",
     "output_type": "stream",
     "text": [
      "[train] Loss: 0.0409 Macro F1: 0.9887\n"
     ]
    },
    {
     "data": {
      "text/plain": "  0%|          | 0/74 [00:00<?, ?it/s]",
      "application/vnd.jupyter.widget-view+json": {
       "version_major": 2,
       "version_minor": 0,
       "model_id": "8ca3eb43793841c0bc8fbf30010196e8"
      }
     },
     "metadata": {},
     "output_type": "display_data"
    },
    {
     "name": "stdout",
     "output_type": "stream",
     "text": [
      "[val] Loss: 0.8450 Macro F1: 0.7951\n",
      "EarlyStopping counter: 1 out of 10\n",
      "Best F1 score from now: 0.7964468957245294\n",
      "--------------------------------------------------\n",
      "Fold: 0\n",
      "Epoch 25/299\n"
     ]
    },
    {
     "data": {
      "text/plain": "  0%|          | 0/296 [00:00<?, ?it/s]",
      "application/vnd.jupyter.widget-view+json": {
       "version_major": 2,
       "version_minor": 0,
       "model_id": "684bac3996c449f281b609efb76b1c38"
      }
     },
     "metadata": {},
     "output_type": "display_data"
    },
    {
     "name": "stdout",
     "output_type": "stream",
     "text": [
      "[train] Loss: 0.0327 Macro F1: 0.9898\n"
     ]
    },
    {
     "data": {
      "text/plain": "  0%|          | 0/74 [00:00<?, ?it/s]",
      "application/vnd.jupyter.widget-view+json": {
       "version_major": 2,
       "version_minor": 0,
       "model_id": "27735ae2c82444f29bb010220acb7d9d"
      }
     },
     "metadata": {},
     "output_type": "display_data"
    },
    {
     "name": "stdout",
     "output_type": "stream",
     "text": [
      "[val] Loss: 0.7678 Macro F1: 0.7929\n",
      "EarlyStopping counter: 2 out of 10\n",
      "Best F1 score from now: 0.7964468957245294\n",
      "--------------------------------------------------\n",
      "Fold: 0\n",
      "Epoch 26/299\n"
     ]
    },
    {
     "data": {
      "text/plain": "  0%|          | 0/296 [00:00<?, ?it/s]",
      "application/vnd.jupyter.widget-view+json": {
       "version_major": 2,
       "version_minor": 0,
       "model_id": "64b747550a90401fbf62e8c966dc32b7"
      }
     },
     "metadata": {},
     "output_type": "display_data"
    },
    {
     "name": "stdout",
     "output_type": "stream",
     "text": [
      "[train] Loss: 0.0231 Macro F1: 0.9950\n"
     ]
    },
    {
     "data": {
      "text/plain": "  0%|          | 0/74 [00:00<?, ?it/s]",
      "application/vnd.jupyter.widget-view+json": {
       "version_major": 2,
       "version_minor": 0,
       "model_id": "7240613c4d814e7b97894d55e0887b41"
      }
     },
     "metadata": {},
     "output_type": "display_data"
    },
    {
     "name": "stdout",
     "output_type": "stream",
     "text": [
      "[val] Loss: 0.7960 Macro F1: 0.7988\n",
      "--------------------------------------------------\n",
      "Fold: 0\n",
      "Epoch 27/299\n"
     ]
    },
    {
     "data": {
      "text/plain": "  0%|          | 0/296 [00:00<?, ?it/s]",
      "application/vnd.jupyter.widget-view+json": {
       "version_major": 2,
       "version_minor": 0,
       "model_id": "ae0f5c2bb46e4203a127de007d97c07a"
      }
     },
     "metadata": {},
     "output_type": "display_data"
    },
    {
     "name": "stdout",
     "output_type": "stream",
     "text": [
      "[train] Loss: 0.0280 Macro F1: 0.9902\n"
     ]
    },
    {
     "data": {
      "text/plain": "  0%|          | 0/74 [00:00<?, ?it/s]",
      "application/vnd.jupyter.widget-view+json": {
       "version_major": 2,
       "version_minor": 0,
       "model_id": "4eb1a2c7523249a7b538aabaf40a9257"
      }
     },
     "metadata": {},
     "output_type": "display_data"
    },
    {
     "name": "stdout",
     "output_type": "stream",
     "text": [
      "[val] Loss: 0.7450 Macro F1: 0.8078\n",
      "--------------------------------------------------\n",
      "Fold: 0\n",
      "Epoch 28/299\n"
     ]
    },
    {
     "data": {
      "text/plain": "  0%|          | 0/296 [00:00<?, ?it/s]",
      "application/vnd.jupyter.widget-view+json": {
       "version_major": 2,
       "version_minor": 0,
       "model_id": "1f212e9d849d422a8545f177010f5df0"
      }
     },
     "metadata": {},
     "output_type": "display_data"
    },
    {
     "name": "stdout",
     "output_type": "stream",
     "text": [
      "[train] Loss: 0.0321 Macro F1: 0.9914\n"
     ]
    },
    {
     "data": {
      "text/plain": "  0%|          | 0/74 [00:00<?, ?it/s]",
      "application/vnd.jupyter.widget-view+json": {
       "version_major": 2,
       "version_minor": 0,
       "model_id": "f7d7466b6fb0434b880e6e72a81886c1"
      }
     },
     "metadata": {},
     "output_type": "display_data"
    },
    {
     "name": "stdout",
     "output_type": "stream",
     "text": [
      "[val] Loss: 0.7064 Macro F1: 0.8156\n",
      "--------------------------------------------------\n",
      "Fold: 0\n",
      "Epoch 29/299\n"
     ]
    },
    {
     "data": {
      "text/plain": "  0%|          | 0/296 [00:00<?, ?it/s]",
      "application/vnd.jupyter.widget-view+json": {
       "version_major": 2,
       "version_minor": 0,
       "model_id": "5f8767b3c74846089c91dc0ff8060558"
      }
     },
     "metadata": {},
     "output_type": "display_data"
    },
    {
     "name": "stdout",
     "output_type": "stream",
     "text": [
      "[train] Loss: 0.0299 Macro F1: 0.9905\n"
     ]
    },
    {
     "data": {
      "text/plain": "  0%|          | 0/74 [00:00<?, ?it/s]",
      "application/vnd.jupyter.widget-view+json": {
       "version_major": 2,
       "version_minor": 0,
       "model_id": "e4a992686ac7493ab75b552f4fd05297"
      }
     },
     "metadata": {},
     "output_type": "display_data"
    },
    {
     "name": "stdout",
     "output_type": "stream",
     "text": [
      "[val] Loss: 0.7239 Macro F1: 0.8062\n",
      "EarlyStopping counter: 1 out of 10\n",
      "Best F1 score from now: 0.8156220324306078\n",
      "--------------------------------------------------\n",
      "Fold: 0\n",
      "Epoch 30/299\n"
     ]
    },
    {
     "data": {
      "text/plain": "  0%|          | 0/296 [00:00<?, ?it/s]",
      "application/vnd.jupyter.widget-view+json": {
       "version_major": 2,
       "version_minor": 0,
       "model_id": "25d2b16f2a7c471c94fe2141de2d1483"
      }
     },
     "metadata": {},
     "output_type": "display_data"
    },
    {
     "name": "stdout",
     "output_type": "stream",
     "text": [
      "[train] Loss: 0.0227 Macro F1: 0.9935\n"
     ]
    },
    {
     "data": {
      "text/plain": "  0%|          | 0/74 [00:00<?, ?it/s]",
      "application/vnd.jupyter.widget-view+json": {
       "version_major": 2,
       "version_minor": 0,
       "model_id": "ffbc4049d3f34506a2b53f31b32bdcf4"
      }
     },
     "metadata": {},
     "output_type": "display_data"
    },
    {
     "name": "stdout",
     "output_type": "stream",
     "text": [
      "[val] Loss: 0.7843 Macro F1: 0.8014\n",
      "EarlyStopping counter: 2 out of 10\n",
      "Best F1 score from now: 0.8156220324306078\n",
      "--------------------------------------------------\n",
      "Fold: 0\n",
      "Epoch 31/299\n"
     ]
    },
    {
     "data": {
      "text/plain": "  0%|          | 0/296 [00:00<?, ?it/s]",
      "application/vnd.jupyter.widget-view+json": {
       "version_major": 2,
       "version_minor": 0,
       "model_id": "a6acf513534a485cb72354df1cd52c20"
      }
     },
     "metadata": {},
     "output_type": "display_data"
    },
    {
     "name": "stdout",
     "output_type": "stream",
     "text": [
      "[train] Loss: 0.0239 Macro F1: 0.9926\n"
     ]
    },
    {
     "data": {
      "text/plain": "  0%|          | 0/74 [00:00<?, ?it/s]",
      "application/vnd.jupyter.widget-view+json": {
       "version_major": 2,
       "version_minor": 0,
       "model_id": "d29032c990a94486a8f43cbb947d25f0"
      }
     },
     "metadata": {},
     "output_type": "display_data"
    },
    {
     "name": "stdout",
     "output_type": "stream",
     "text": [
      "[val] Loss: 0.8339 Macro F1: 0.8039\n",
      "EarlyStopping counter: 3 out of 10\n",
      "Best F1 score from now: 0.8156220324306078\n",
      "--------------------------------------------------\n",
      "Fold: 0\n",
      "Epoch 32/299\n"
     ]
    },
    {
     "data": {
      "text/plain": "  0%|          | 0/296 [00:00<?, ?it/s]",
      "application/vnd.jupyter.widget-view+json": {
       "version_major": 2,
       "version_minor": 0,
       "model_id": "84f8341bc61a4346937208d7bf675076"
      }
     },
     "metadata": {},
     "output_type": "display_data"
    },
    {
     "name": "stdout",
     "output_type": "stream",
     "text": [
      "[train] Loss: 0.0215 Macro F1: 0.9953\n"
     ]
    },
    {
     "data": {
      "text/plain": "  0%|          | 0/74 [00:00<?, ?it/s]",
      "application/vnd.jupyter.widget-view+json": {
       "version_major": 2,
       "version_minor": 0,
       "model_id": "b04f0bab0fb04ecd9c94f2692b082683"
      }
     },
     "metadata": {},
     "output_type": "display_data"
    },
    {
     "name": "stdout",
     "output_type": "stream",
     "text": [
      "[val] Loss: 0.8314 Macro F1: 0.8027\n",
      "EarlyStopping counter: 4 out of 10\n",
      "Best F1 score from now: 0.8156220324306078\n",
      "--------------------------------------------------\n",
      "Fold: 0\n",
      "Epoch 33/299\n"
     ]
    },
    {
     "data": {
      "text/plain": "  0%|          | 0/296 [00:00<?, ?it/s]",
      "application/vnd.jupyter.widget-view+json": {
       "version_major": 2,
       "version_minor": 0,
       "model_id": "893bb8938ef148388155f33dd225ec6c"
      }
     },
     "metadata": {},
     "output_type": "display_data"
    },
    {
     "name": "stdout",
     "output_type": "stream",
     "text": [
      "[train] Loss: 0.0253 Macro F1: 0.9930\n"
     ]
    },
    {
     "data": {
      "text/plain": "  0%|          | 0/74 [00:00<?, ?it/s]",
      "application/vnd.jupyter.widget-view+json": {
       "version_major": 2,
       "version_minor": 0,
       "model_id": "be17bbb69cc54f128a3a8f399c71df02"
      }
     },
     "metadata": {},
     "output_type": "display_data"
    },
    {
     "name": "stdout",
     "output_type": "stream",
     "text": [
      "[val] Loss: 1.0346 Macro F1: 0.8135\n",
      "EarlyStopping counter: 5 out of 10\n",
      "Best F1 score from now: 0.8156220324306078\n",
      "--------------------------------------------------\n",
      "Fold: 0\n",
      "Epoch 34/299\n"
     ]
    },
    {
     "data": {
      "text/plain": "  0%|          | 0/296 [00:00<?, ?it/s]",
      "application/vnd.jupyter.widget-view+json": {
       "version_major": 2,
       "version_minor": 0,
       "model_id": "d2f0e2daa21942509a99d285812aa80c"
      }
     },
     "metadata": {},
     "output_type": "display_data"
    },
    {
     "name": "stdout",
     "output_type": "stream",
     "text": [
      "[train] Loss: 0.0275 Macro F1: 0.9919\n"
     ]
    },
    {
     "data": {
      "text/plain": "  0%|          | 0/74 [00:00<?, ?it/s]",
      "application/vnd.jupyter.widget-view+json": {
       "version_major": 2,
       "version_minor": 0,
       "model_id": "aedddebbd09644e5b58a164e63b37060"
      }
     },
     "metadata": {},
     "output_type": "display_data"
    },
    {
     "name": "stdout",
     "output_type": "stream",
     "text": [
      "[val] Loss: 0.8213 Macro F1: 0.8064\n",
      "EarlyStopping counter: 6 out of 10\n",
      "Best F1 score from now: 0.8156220324306078\n",
      "--------------------------------------------------\n",
      "Fold: 0\n",
      "Epoch 35/299\n"
     ]
    },
    {
     "data": {
      "text/plain": "  0%|          | 0/296 [00:00<?, ?it/s]",
      "application/vnd.jupyter.widget-view+json": {
       "version_major": 2,
       "version_minor": 0,
       "model_id": "c2c45b61461b4110a20153c6623ebf58"
      }
     },
     "metadata": {},
     "output_type": "display_data"
    },
    {
     "name": "stdout",
     "output_type": "stream",
     "text": [
      "[train] Loss: 0.0228 Macro F1: 0.9934\n"
     ]
    },
    {
     "data": {
      "text/plain": "  0%|          | 0/74 [00:00<?, ?it/s]",
      "application/vnd.jupyter.widget-view+json": {
       "version_major": 2,
       "version_minor": 0,
       "model_id": "4d35dfde688441ada207b3195ec7659e"
      }
     },
     "metadata": {},
     "output_type": "display_data"
    },
    {
     "name": "stdout",
     "output_type": "stream",
     "text": [
      "[val] Loss: 0.7924 Macro F1: 0.8100\n",
      "EarlyStopping counter: 7 out of 10\n",
      "Best F1 score from now: 0.8156220324306078\n",
      "--------------------------------------------------\n",
      "Fold: 0\n",
      "Epoch 36/299\n"
     ]
    },
    {
     "data": {
      "text/plain": "  0%|          | 0/296 [00:00<?, ?it/s]",
      "application/vnd.jupyter.widget-view+json": {
       "version_major": 2,
       "version_minor": 0,
       "model_id": "82f3340141b7484d82cdc8c9bd3e4904"
      }
     },
     "metadata": {},
     "output_type": "display_data"
    },
    {
     "name": "stdout",
     "output_type": "stream",
     "text": [
      "[train] Loss: 0.0219 Macro F1: 0.9940\n"
     ]
    },
    {
     "data": {
      "text/plain": "  0%|          | 0/74 [00:00<?, ?it/s]",
      "application/vnd.jupyter.widget-view+json": {
       "version_major": 2,
       "version_minor": 0,
       "model_id": "4832f6f6a5394ba094f99192754ad07e"
      }
     },
     "metadata": {},
     "output_type": "display_data"
    },
    {
     "name": "stdout",
     "output_type": "stream",
     "text": [
      "[val] Loss: 0.8073 Macro F1: 0.8037\n",
      "EarlyStopping counter: 8 out of 10\n",
      "Best F1 score from now: 0.8156220324306078\n",
      "--------------------------------------------------\n",
      "Fold: 0\n",
      "Epoch 37/299\n"
     ]
    },
    {
     "data": {
      "text/plain": "  0%|          | 0/296 [00:00<?, ?it/s]",
      "application/vnd.jupyter.widget-view+json": {
       "version_major": 2,
       "version_minor": 0,
       "model_id": "f65eaf771ac94875993cc9c801c4ca9b"
      }
     },
     "metadata": {},
     "output_type": "display_data"
    },
    {
     "name": "stdout",
     "output_type": "stream",
     "text": [
      "[train] Loss: 0.0229 Macro F1: 0.9944\n"
     ]
    },
    {
     "data": {
      "text/plain": "  0%|          | 0/74 [00:00<?, ?it/s]",
      "application/vnd.jupyter.widget-view+json": {
       "version_major": 2,
       "version_minor": 0,
       "model_id": "4a3c0698feaa4ac3865884a09b0db737"
      }
     },
     "metadata": {},
     "output_type": "display_data"
    },
    {
     "name": "stdout",
     "output_type": "stream",
     "text": [
      "[val] Loss: 0.7652 Macro F1: 0.8087\n",
      "EarlyStopping counter: 9 out of 10\n",
      "Best F1 score from now: 0.8156220324306078\n",
      "--------------------------------------------------\n",
      "Fold: 0\n",
      "Epoch 38/299\n"
     ]
    },
    {
     "data": {
      "text/plain": "  0%|          | 0/296 [00:00<?, ?it/s]",
      "application/vnd.jupyter.widget-view+json": {
       "version_major": 2,
       "version_minor": 0,
       "model_id": "d67be660c1da4d9a97699819f2ad3938"
      }
     },
     "metadata": {},
     "output_type": "display_data"
    },
    {
     "name": "stdout",
     "output_type": "stream",
     "text": [
      "[train] Loss: 0.0191 Macro F1: 0.9946\n"
     ]
    },
    {
     "data": {
      "text/plain": "  0%|          | 0/74 [00:00<?, ?it/s]",
      "application/vnd.jupyter.widget-view+json": {
       "version_major": 2,
       "version_minor": 0,
       "model_id": "dacb5185c262453e83df9cfe94318e17"
      }
     },
     "metadata": {},
     "output_type": "display_data"
    },
    {
     "name": "stdout",
     "output_type": "stream",
     "text": [
      "[val] Loss: 0.9353 Macro F1: 0.8051\n",
      "EarlyStopping counter: 10 out of 10\n",
      "Best F1 score from now: 0.8156220324306078\n",
      "called\n",
      "Training complete in 97m 4s\n",
      "Best val_F1: 0.815622\n",
      "CHECKPOINT LOADED: ../data/../data/runs/20231212190031/best_model_fold0.pt\n"
     ]
    },
    {
     "data": {
      "text/plain": "  0%|          | 0/792 [00:00<?, ?it/s]",
      "application/vnd.jupyter.widget-view+json": {
       "version_major": 2,
       "version_minor": 0,
       "model_id": "4ff9a116b2c840da8a48080397df718b"
      }
     },
     "metadata": {},
     "output_type": "display_data"
    },
    {
     "ename": "RuntimeError",
     "evalue": "Input type (torch.FloatTensor) and weight type (torch.cuda.FloatTensor) should be the same or input should be a MKLDNN tensor and weight is a dense tensor",
     "output_type": "error",
     "traceback": [
      "\u001B[1;31m---------------------------------------------------------------------------\u001B[0m",
      "\u001B[1;31mRuntimeError\u001B[0m                              Traceback (most recent call last)",
      "Cell \u001B[1;32mIn[9], line 179\u001B[0m\n\u001B[0;32m    177\u001B[0m \u001B[38;5;28;01mwith\u001B[39;00m torch\u001B[38;5;241m.\u001B[39mno_grad():\n\u001B[0;32m    178\u001B[0m     \u001B[38;5;28;01mfor\u001B[39;00m x \u001B[38;5;129;01min\u001B[39;00m tqdm(\u001B[38;5;28miter\u001B[39m(dataloaders[\u001B[38;5;124m'\u001B[39m\u001B[38;5;124mtest\u001B[39m\u001B[38;5;124m'\u001B[39m])):\n\u001B[1;32m--> 179\u001B[0m             batch_pred \u001B[38;5;241m=\u001B[39m \u001B[43mmodel\u001B[49m\u001B[43m(\u001B[49m\u001B[43mx\u001B[49m\u001B[43m)\u001B[49m\n\u001B[0;32m    180\u001B[0m             _, pred \u001B[38;5;241m=\u001B[39m torch\u001B[38;5;241m.\u001B[39mmax(batch_pred, \u001B[38;5;241m1\u001B[39m)\n\u001B[0;32m    181\u001B[0m             pred \u001B[38;5;241m=\u001B[39m pred\u001B[38;5;241m.\u001B[39mdetach()\u001B[38;5;241m.\u001B[39mcpu()\u001B[38;5;241m.\u001B[39mnumpy()\u001B[38;5;241m.\u001B[39mtolist()\n",
      "File \u001B[1;32m~\\miniconda3\\envs\\artists_classification\\lib\\site-packages\\torch\\nn\\modules\\module.py:1518\u001B[0m, in \u001B[0;36mModule._wrapped_call_impl\u001B[1;34m(self, *args, **kwargs)\u001B[0m\n\u001B[0;32m   1516\u001B[0m     \u001B[38;5;28;01mreturn\u001B[39;00m \u001B[38;5;28mself\u001B[39m\u001B[38;5;241m.\u001B[39m_compiled_call_impl(\u001B[38;5;241m*\u001B[39margs, \u001B[38;5;241m*\u001B[39m\u001B[38;5;241m*\u001B[39mkwargs)  \u001B[38;5;66;03m# type: ignore[misc]\u001B[39;00m\n\u001B[0;32m   1517\u001B[0m \u001B[38;5;28;01melse\u001B[39;00m:\n\u001B[1;32m-> 1518\u001B[0m     \u001B[38;5;28;01mreturn\u001B[39;00m \u001B[38;5;28;43mself\u001B[39;49m\u001B[38;5;241;43m.\u001B[39;49m\u001B[43m_call_impl\u001B[49m\u001B[43m(\u001B[49m\u001B[38;5;241;43m*\u001B[39;49m\u001B[43margs\u001B[49m\u001B[43m,\u001B[49m\u001B[43m \u001B[49m\u001B[38;5;241;43m*\u001B[39;49m\u001B[38;5;241;43m*\u001B[39;49m\u001B[43mkwargs\u001B[49m\u001B[43m)\u001B[49m\n",
      "File \u001B[1;32m~\\miniconda3\\envs\\artists_classification\\lib\\site-packages\\torch\\nn\\modules\\module.py:1527\u001B[0m, in \u001B[0;36mModule._call_impl\u001B[1;34m(self, *args, **kwargs)\u001B[0m\n\u001B[0;32m   1522\u001B[0m \u001B[38;5;66;03m# If we don't have any hooks, we want to skip the rest of the logic in\u001B[39;00m\n\u001B[0;32m   1523\u001B[0m \u001B[38;5;66;03m# this function, and just call forward.\u001B[39;00m\n\u001B[0;32m   1524\u001B[0m \u001B[38;5;28;01mif\u001B[39;00m \u001B[38;5;129;01mnot\u001B[39;00m (\u001B[38;5;28mself\u001B[39m\u001B[38;5;241m.\u001B[39m_backward_hooks \u001B[38;5;129;01mor\u001B[39;00m \u001B[38;5;28mself\u001B[39m\u001B[38;5;241m.\u001B[39m_backward_pre_hooks \u001B[38;5;129;01mor\u001B[39;00m \u001B[38;5;28mself\u001B[39m\u001B[38;5;241m.\u001B[39m_forward_hooks \u001B[38;5;129;01mor\u001B[39;00m \u001B[38;5;28mself\u001B[39m\u001B[38;5;241m.\u001B[39m_forward_pre_hooks\n\u001B[0;32m   1525\u001B[0m         \u001B[38;5;129;01mor\u001B[39;00m _global_backward_pre_hooks \u001B[38;5;129;01mor\u001B[39;00m _global_backward_hooks\n\u001B[0;32m   1526\u001B[0m         \u001B[38;5;129;01mor\u001B[39;00m _global_forward_hooks \u001B[38;5;129;01mor\u001B[39;00m _global_forward_pre_hooks):\n\u001B[1;32m-> 1527\u001B[0m     \u001B[38;5;28;01mreturn\u001B[39;00m \u001B[43mforward_call\u001B[49m\u001B[43m(\u001B[49m\u001B[38;5;241;43m*\u001B[39;49m\u001B[43margs\u001B[49m\u001B[43m,\u001B[49m\u001B[43m \u001B[49m\u001B[38;5;241;43m*\u001B[39;49m\u001B[38;5;241;43m*\u001B[39;49m\u001B[43mkwargs\u001B[49m\u001B[43m)\u001B[49m\n\u001B[0;32m   1529\u001B[0m \u001B[38;5;28;01mtry\u001B[39;00m:\n\u001B[0;32m   1530\u001B[0m     result \u001B[38;5;241m=\u001B[39m \u001B[38;5;28;01mNone\u001B[39;00m\n",
      "File \u001B[1;32m~\\miniconda3\\envs\\artists_classification\\lib\\site-packages\\timm\\models\\efficientnet.py:179\u001B[0m, in \u001B[0;36mEfficientNet.forward\u001B[1;34m(self, x)\u001B[0m\n\u001B[0;32m    178\u001B[0m \u001B[38;5;28;01mdef\u001B[39;00m \u001B[38;5;21mforward\u001B[39m(\u001B[38;5;28mself\u001B[39m, x):\n\u001B[1;32m--> 179\u001B[0m     x \u001B[38;5;241m=\u001B[39m \u001B[38;5;28;43mself\u001B[39;49m\u001B[38;5;241;43m.\u001B[39;49m\u001B[43mforward_features\u001B[49m\u001B[43m(\u001B[49m\u001B[43mx\u001B[49m\u001B[43m)\u001B[49m\n\u001B[0;32m    180\u001B[0m     x \u001B[38;5;241m=\u001B[39m \u001B[38;5;28mself\u001B[39m\u001B[38;5;241m.\u001B[39mforward_head(x)\n\u001B[0;32m    181\u001B[0m     \u001B[38;5;28;01mreturn\u001B[39;00m x\n",
      "File \u001B[1;32m~\\miniconda3\\envs\\artists_classification\\lib\\site-packages\\timm\\models\\efficientnet.py:162\u001B[0m, in \u001B[0;36mEfficientNet.forward_features\u001B[1;34m(self, x)\u001B[0m\n\u001B[0;32m    161\u001B[0m \u001B[38;5;28;01mdef\u001B[39;00m \u001B[38;5;21mforward_features\u001B[39m(\u001B[38;5;28mself\u001B[39m, x):\n\u001B[1;32m--> 162\u001B[0m     x \u001B[38;5;241m=\u001B[39m \u001B[38;5;28;43mself\u001B[39;49m\u001B[38;5;241;43m.\u001B[39;49m\u001B[43mconv_stem\u001B[49m\u001B[43m(\u001B[49m\u001B[43mx\u001B[49m\u001B[43m)\u001B[49m\n\u001B[0;32m    163\u001B[0m     x \u001B[38;5;241m=\u001B[39m \u001B[38;5;28mself\u001B[39m\u001B[38;5;241m.\u001B[39mbn1(x)\n\u001B[0;32m    164\u001B[0m     \u001B[38;5;28;01mif\u001B[39;00m \u001B[38;5;28mself\u001B[39m\u001B[38;5;241m.\u001B[39mgrad_checkpointing \u001B[38;5;129;01mand\u001B[39;00m \u001B[38;5;129;01mnot\u001B[39;00m torch\u001B[38;5;241m.\u001B[39mjit\u001B[38;5;241m.\u001B[39mis_scripting():\n",
      "File \u001B[1;32m~\\miniconda3\\envs\\artists_classification\\lib\\site-packages\\torch\\nn\\modules\\module.py:1518\u001B[0m, in \u001B[0;36mModule._wrapped_call_impl\u001B[1;34m(self, *args, **kwargs)\u001B[0m\n\u001B[0;32m   1516\u001B[0m     \u001B[38;5;28;01mreturn\u001B[39;00m \u001B[38;5;28mself\u001B[39m\u001B[38;5;241m.\u001B[39m_compiled_call_impl(\u001B[38;5;241m*\u001B[39margs, \u001B[38;5;241m*\u001B[39m\u001B[38;5;241m*\u001B[39mkwargs)  \u001B[38;5;66;03m# type: ignore[misc]\u001B[39;00m\n\u001B[0;32m   1517\u001B[0m \u001B[38;5;28;01melse\u001B[39;00m:\n\u001B[1;32m-> 1518\u001B[0m     \u001B[38;5;28;01mreturn\u001B[39;00m \u001B[38;5;28;43mself\u001B[39;49m\u001B[38;5;241;43m.\u001B[39;49m\u001B[43m_call_impl\u001B[49m\u001B[43m(\u001B[49m\u001B[38;5;241;43m*\u001B[39;49m\u001B[43margs\u001B[49m\u001B[43m,\u001B[49m\u001B[43m \u001B[49m\u001B[38;5;241;43m*\u001B[39;49m\u001B[38;5;241;43m*\u001B[39;49m\u001B[43mkwargs\u001B[49m\u001B[43m)\u001B[49m\n",
      "File \u001B[1;32m~\\miniconda3\\envs\\artists_classification\\lib\\site-packages\\torch\\nn\\modules\\module.py:1527\u001B[0m, in \u001B[0;36mModule._call_impl\u001B[1;34m(self, *args, **kwargs)\u001B[0m\n\u001B[0;32m   1522\u001B[0m \u001B[38;5;66;03m# If we don't have any hooks, we want to skip the rest of the logic in\u001B[39;00m\n\u001B[0;32m   1523\u001B[0m \u001B[38;5;66;03m# this function, and just call forward.\u001B[39;00m\n\u001B[0;32m   1524\u001B[0m \u001B[38;5;28;01mif\u001B[39;00m \u001B[38;5;129;01mnot\u001B[39;00m (\u001B[38;5;28mself\u001B[39m\u001B[38;5;241m.\u001B[39m_backward_hooks \u001B[38;5;129;01mor\u001B[39;00m \u001B[38;5;28mself\u001B[39m\u001B[38;5;241m.\u001B[39m_backward_pre_hooks \u001B[38;5;129;01mor\u001B[39;00m \u001B[38;5;28mself\u001B[39m\u001B[38;5;241m.\u001B[39m_forward_hooks \u001B[38;5;129;01mor\u001B[39;00m \u001B[38;5;28mself\u001B[39m\u001B[38;5;241m.\u001B[39m_forward_pre_hooks\n\u001B[0;32m   1525\u001B[0m         \u001B[38;5;129;01mor\u001B[39;00m _global_backward_pre_hooks \u001B[38;5;129;01mor\u001B[39;00m _global_backward_hooks\n\u001B[0;32m   1526\u001B[0m         \u001B[38;5;129;01mor\u001B[39;00m _global_forward_hooks \u001B[38;5;129;01mor\u001B[39;00m _global_forward_pre_hooks):\n\u001B[1;32m-> 1527\u001B[0m     \u001B[38;5;28;01mreturn\u001B[39;00m \u001B[43mforward_call\u001B[49m\u001B[43m(\u001B[49m\u001B[38;5;241;43m*\u001B[39;49m\u001B[43margs\u001B[49m\u001B[43m,\u001B[49m\u001B[43m \u001B[49m\u001B[38;5;241;43m*\u001B[39;49m\u001B[38;5;241;43m*\u001B[39;49m\u001B[43mkwargs\u001B[49m\u001B[43m)\u001B[49m\n\u001B[0;32m   1529\u001B[0m \u001B[38;5;28;01mtry\u001B[39;00m:\n\u001B[0;32m   1530\u001B[0m     result \u001B[38;5;241m=\u001B[39m \u001B[38;5;28;01mNone\u001B[39;00m\n",
      "File \u001B[1;32m~\\miniconda3\\envs\\artists_classification\\lib\\site-packages\\timm\\layers\\conv2d_same.py:51\u001B[0m, in \u001B[0;36mConv2dSame.forward\u001B[1;34m(self, x)\u001B[0m\n\u001B[0;32m     50\u001B[0m \u001B[38;5;28;01mdef\u001B[39;00m \u001B[38;5;21mforward\u001B[39m(\u001B[38;5;28mself\u001B[39m, x):\n\u001B[1;32m---> 51\u001B[0m     \u001B[38;5;28;01mreturn\u001B[39;00m \u001B[43mconv2d_same\u001B[49m\u001B[43m(\u001B[49m\n\u001B[0;32m     52\u001B[0m \u001B[43m        \u001B[49m\u001B[43mx\u001B[49m\u001B[43m,\u001B[49m\u001B[43m \u001B[49m\u001B[38;5;28;43mself\u001B[39;49m\u001B[38;5;241;43m.\u001B[39;49m\u001B[43mweight\u001B[49m\u001B[43m,\u001B[49m\u001B[43m \u001B[49m\u001B[38;5;28;43mself\u001B[39;49m\u001B[38;5;241;43m.\u001B[39;49m\u001B[43mbias\u001B[49m\u001B[43m,\u001B[49m\n\u001B[0;32m     53\u001B[0m \u001B[43m        \u001B[49m\u001B[38;5;28;43mself\u001B[39;49m\u001B[38;5;241;43m.\u001B[39;49m\u001B[43mstride\u001B[49m\u001B[43m,\u001B[49m\u001B[43m \u001B[49m\u001B[38;5;28;43mself\u001B[39;49m\u001B[38;5;241;43m.\u001B[39;49m\u001B[43mpadding\u001B[49m\u001B[43m,\u001B[49m\u001B[43m \u001B[49m\u001B[38;5;28;43mself\u001B[39;49m\u001B[38;5;241;43m.\u001B[39;49m\u001B[43mdilation\u001B[49m\u001B[43m,\u001B[49m\u001B[43m \u001B[49m\u001B[38;5;28;43mself\u001B[39;49m\u001B[38;5;241;43m.\u001B[39;49m\u001B[43mgroups\u001B[49m\u001B[43m,\u001B[49m\n\u001B[0;32m     54\u001B[0m \u001B[43m    \u001B[49m\u001B[43m)\u001B[49m\n",
      "File \u001B[1;32m~\\miniconda3\\envs\\artists_classification\\lib\\site-packages\\timm\\layers\\conv2d_same.py:27\u001B[0m, in \u001B[0;36mconv2d_same\u001B[1;34m(x, weight, bias, stride, padding, dilation, groups)\u001B[0m\n\u001B[0;32m     17\u001B[0m \u001B[38;5;28;01mdef\u001B[39;00m \u001B[38;5;21mconv2d_same\u001B[39m(\n\u001B[0;32m     18\u001B[0m         x,\n\u001B[0;32m     19\u001B[0m         weight: torch\u001B[38;5;241m.\u001B[39mTensor,\n\u001B[1;32m   (...)\u001B[0m\n\u001B[0;32m     24\u001B[0m         groups: \u001B[38;5;28mint\u001B[39m \u001B[38;5;241m=\u001B[39m \u001B[38;5;241m1\u001B[39m,\n\u001B[0;32m     25\u001B[0m ):\n\u001B[0;32m     26\u001B[0m     x \u001B[38;5;241m=\u001B[39m pad_same(x, weight\u001B[38;5;241m.\u001B[39mshape[\u001B[38;5;241m-\u001B[39m\u001B[38;5;241m2\u001B[39m:], stride, dilation)\n\u001B[1;32m---> 27\u001B[0m     \u001B[38;5;28;01mreturn\u001B[39;00m \u001B[43mF\u001B[49m\u001B[38;5;241;43m.\u001B[39;49m\u001B[43mconv2d\u001B[49m\u001B[43m(\u001B[49m\u001B[43mx\u001B[49m\u001B[43m,\u001B[49m\u001B[43m \u001B[49m\u001B[43mweight\u001B[49m\u001B[43m,\u001B[49m\u001B[43m \u001B[49m\u001B[43mbias\u001B[49m\u001B[43m,\u001B[49m\u001B[43m \u001B[49m\u001B[43mstride\u001B[49m\u001B[43m,\u001B[49m\u001B[43m \u001B[49m\u001B[43m(\u001B[49m\u001B[38;5;241;43m0\u001B[39;49m\u001B[43m,\u001B[49m\u001B[43m \u001B[49m\u001B[38;5;241;43m0\u001B[39;49m\u001B[43m)\u001B[49m\u001B[43m,\u001B[49m\u001B[43m \u001B[49m\u001B[43mdilation\u001B[49m\u001B[43m,\u001B[49m\u001B[43m \u001B[49m\u001B[43mgroups\u001B[49m\u001B[43m)\u001B[49m\n",
      "\u001B[1;31mRuntimeError\u001B[0m: Input type (torch.FloatTensor) and weight type (torch.cuda.FloatTensor) should be the same or input should be a MKLDNN tensor and weight is a dense tensor"
     ]
    },
    {
     "data": {
      "text/plain": "<Figure size 640x480 with 0 Axes>"
     },
     "metadata": {},
     "output_type": "display_data"
    }
   ],
   "source": [
    "# skf = sklearn.model_selection.StratifiedKFold(n_splits=20, shuffle=False)\n",
    "skf = sklearn.model_selection.StratifiedKFold(n_splits=5, shuffle=False)\n",
    "t = train_csv.artist\n",
    "\n",
    "for fold, (train_index, test_index) in enumerate(skf.split(np.zeros(len(t)), t)):\n",
    "    early_stopping = EarlyStopping(patience=10, verbose=True)\n",
    "    data_train = train_csv.loc[train_index]\n",
    "    data_validation = train_csv.loc[test_index]\n",
    "\n",
    "    class_counts = data_train['artist'].value_counts(sort=False).to_dict()\n",
    "    num_samples = sum(class_counts.values())\n",
    "    print(f'cls_cnts: {len(class_counts)}\\nnum_samples:{num_samples}')\n",
    "    labels = data_train['artist'].to_list()\n",
    "\n",
    "    # weight 제작, 전체 학습 데이터 수를 해당 클래스의 데이터 수로 나누어 줌\n",
    "    class_weights = {l:round(num_samples/class_counts[l], 2) for l in class_counts.keys()}\n",
    "    \n",
    "    # weighted vote를 시도해보기 위해 만들었지만 최종 제출에는 사용하지 않았음\n",
    "    class_weights_keys = le.inverse_transform(list(class_weights.keys()))\n",
    "    class_weights_values = class_weights.values()\n",
    "    class_weights2 = dict(zip(class_weights_keys, class_weights_values))\n",
    "    print(class_weights2)\n",
    "\n",
    "    # class 별 weight를 전체 trainset에 대응시켜 sampler에 넣어줌\n",
    "    weights = [class_weights[labels[i]] for i in range(int(num_samples))] \n",
    "    sampler = torch.utils.data.WeightedRandomSampler(torch.DoubleTensor(weights), int(num_samples))\n",
    "\n",
    "    # batch_size=288; GPU 개당 batch 32개 * 9 == 288\n",
    "    train_dataset = ARTDataset('train', data_train, transform=transform_train)\n",
    "    validation_dataset = ARTDataset('validation', data_validation, transform=transform_train)\n",
    "    \n",
    "    train_loader = DataLoader(\n",
    "        train_dataset, \n",
    "        batch_size=16,\n",
    "        sampler=sampler,  # trainset에 sampler를 설정해줌\n",
    "        shuffle=False,\n",
    "        num_workers=0,\n",
    "        pin_memory=True\n",
    "        )\n",
    "    validation_loader = DataLoader(\n",
    "        validation_dataset, \n",
    "        batch_size=16,\n",
    "        shuffle=False,\n",
    "        num_workers=0)\n",
    "\n",
    "    ss = pd.read_csv(os.path.join(data_path, 'test.csv'))\n",
    "    test_dataset = ARTDataset('test', ss, transform=transform_test)\n",
    "\n",
    "    test_loader = DataLoader(\n",
    "        test_dataset, \n",
    "        batch_size=16,\n",
    "        shuffle=False, \n",
    "        num_workers=0,\n",
    "        pin_memory=True)\n",
    "\n",
    "    dataloaders = {\n",
    "        'train': train_loader,\n",
    "        'val': validation_loader,\n",
    "        'test': test_loader\n",
    "    }\n",
    "\n",
    "    dataset_sizes = {\n",
    "        'train': len(train_dataset),\n",
    "        'val': len(validation_dataset),\n",
    "        'test': len(test_dataset)\n",
    "    }\n",
    "\n",
    "    # timm에서 모델을 가져옴\n",
    "    device =  torch.device(\"cuda\")\n",
    "    model = timm.create_model('tf_efficientnet_b4_ns', pretrained=True, num_classes=50)\n",
    "    model.to(device)\n",
    "    # model = nn.DataParallel(model, device_ids=[0, 1, 2, 3, 4, 5, 6, 7, 8])\n",
    "\n",
    "    epochs = 300  # 보통 30~40 epoch에서 멈춥니다.\n",
    "    optimizer = optim.Adam(model.parameters(), lr=1e-3)\n",
    "    # optimizer = optim.AdamW(model.parameters(), lr=1e-3)\n",
    "    criterion = nn.CrossEntropyLoss()\n",
    "    scheduler = lr_scheduler.StepLR(optimizer, step_size=5, gamma=0.5)\n",
    "\n",
    "    os.makedirs(data_path+f'./runs/{run_id}', exist_ok=True)\n",
    "    os.makedirs(data_path+f'./cms/', exist_ok=True)\n",
    "    \n",
    "    since = time.time()\n",
    "    best_f1 = 0.0\n",
    "    scaler = torch.cuda.amp.GradScaler()\n",
    "\n",
    "    \n",
    "    fold_run_id = f'{run_id}_fold{str(fold)}'\n",
    "    \n",
    "    # 학습\n",
    "    for epoch in range(epochs):\n",
    "        print('-'*50)\n",
    "        print(f'Fold: {fold}')\n",
    "        print('Epoch {}/{}'.format(epoch, epochs - 1))\n",
    "        train_loss = 0.0\n",
    "\n",
    "        for phase in ['train', 'val']:\n",
    "            running_loss = 0.0\n",
    "            cm_preds = []\n",
    "            cm_labels = []\n",
    "            model_preds = []\n",
    "            model_labels = []\n",
    "\n",
    "            if phase == 'train':\n",
    "                model.train()\n",
    "            else:\n",
    "                model.eval()\n",
    "            \n",
    "            for x, y in tqdm(iter(dataloaders[phase])):\n",
    "                x = x.to(device)\n",
    "                y = y.to(device)\n",
    "                optimizer.zero_grad()\n",
    "\n",
    "                with torch.set_grad_enabled(phase == 'train'):\n",
    "                    with torch.cuda.amp.autocast(enabled=True):\n",
    "                        y_hat = model(x)\n",
    "                        loss = criterion(y_hat, y)\n",
    "                    _, preds = torch.max(y_hat, 1)\n",
    "\n",
    "                    if phase == 'train':\n",
    "                        scaler.scale(loss).backward()\n",
    "                        scaler.step(optimizer)\n",
    "                        scaler.update()\n",
    "\n",
    "                running_loss += loss.item() * x.size(0)\n",
    "                \n",
    "                model_labels += y.detach().cpu().numpy().tolist()\n",
    "                model_preds += preds.detach().cpu().numpy().tolist()\n",
    "\n",
    "            if phase == 'train' and scheduler != None:\n",
    "                scheduler.step()\n",
    "\n",
    "            epoch_loss = running_loss / dataset_sizes[phase]\n",
    "            epoch_f1 = f1_score(\n",
    "                        model_labels, \n",
    "                        model_preds, \n",
    "                        average='macro')\n",
    "            print(f'[{phase}] Loss: {epoch_loss:.4f} Macro F1: {epoch_f1:.4f}')\n",
    "\n",
    "            # 체크포인트 저장\n",
    "            if phase == 'val':\n",
    "                if epoch_f1 > best_f1:\n",
    "                    best_f1 = epoch_f1\n",
    "                    torch.save(model, data_path+f'./runs/{run_id}/best_model_fold{fold}.pt')\n",
    "                    confusion_mtx = confusion_matrix(model_labels, model_preds)\n",
    "                    plot_confusion_matrix(confusion_mtx, classes=class_counts.keys(), runid=fold_run_id, epoch=epoch, f1=best_f1)\n",
    "            \n",
    "            # 로그\n",
    "            if phase == 'val':\n",
    "                pass\n",
    "            else:\n",
    "                train_loss = epoch_loss\n",
    "                train_f1 = epoch_f1\n",
    "            \n",
    "        # EARLY STOPPING\n",
    "        stop = early_stopping(epoch_f1)\n",
    "        if stop:\n",
    "            print(\"called\")   \n",
    "            break\n",
    "\n",
    "    time_elapsed = time.time() - since\n",
    "    print('Training complete in {:.0f}m {:.0f}s'.format(time_elapsed // 60, time_elapsed % 60))\n",
    "    print('Best val_F1: {:4f}'.format(best_f1))\n",
    "\n",
    "    # 해당 fold의 checkpoint를 불러와 test\n",
    "    device =  torch.device(\"cuda\")\n",
    "    checkpoint = os.path.join(data_path, data_path+f'runs/{run_id}/best_model_fold{fold}.pt')\n",
    "    print(f'CHECKPOINT LOADED: {checkpoint}')\n",
    "    model = torch.load(checkpoint)\n",
    "    model.to(device)\n",
    "    model.eval()\n",
    "\n",
    "    test_preds = []\n",
    "\n",
    "    with torch.no_grad():\n",
    "        for x in tqdm(iter(dataloaders['test'])):\n",
    "            x = x.to(device)\n",
    "            batch_pred = model(x)\n",
    "            _, pred = torch.max(batch_pred, 1)\n",
    "            pred = pred.detach().cpu().numpy().tolist()\n",
    "            test_preds.extend(pred)\n",
    "\n",
    "    # trainset에 fit_trainsform 되어있는 LabelEncoder로 inverse transform 해줌\n",
    "    test_preds = le.inverse_transform(test_preds)\n",
    "\n",
    "    sample_submission = pd.read_csv(data_path+'./data/sample_submission.csv')\n",
    "    sample_submission['artist'] = test_preds\n",
    "    os.makedirs(data_path+'./output/', exist_ok=True)\n",
    "    sample_submission.to_csv(data_path+f'./output/{run_id}_fold{fold}.csv', index=False)\n",
    "    \n",
    "    clear_mem()"
   ],
   "metadata": {
    "collapsed": false,
    "ExecuteTime": {
     "end_time": "2023-12-12T11:37:38.772023300Z",
     "start_time": "2023-12-12T10:00:31.160660600Z"
    }
   },
   "id": "2b29d9705067b471"
  },
  {
   "cell_type": "code",
   "execution_count": null,
   "outputs": [],
   "source": [
    "import pandas as pd\n",
    "from collections import Counter\n",
    "from glob import glob\n",
    "\n",
    "\n",
    "# 경로 수정(run_id*.csv)\n",
    "csvs = glob(data_path + 'output/20221010220426*.csv')\n",
    "csvs2 = glob(data_path + 'output/20221030183609*.csv')\n",
    "csvs.extend(csvs2)\n",
    "print(len(csvs))\n",
    "\n",
    "preds = []\n",
    "for csv in csvs:\n",
    "    f = pd.read_csv(csv)\n",
    "    artist = f['artist'].tolist()\n",
    "    preds.append(artist)\n",
    "\n",
    "out = []\n",
    "cols = list(zip(*preds))\n",
    "for c in cols:\n",
    "    most = Counter(c).most_common()[0][0]\n",
    "    out.append(most)\n",
    "\n",
    "print(out[:20])\n",
    "ss = pd.read_csv(os.path.join(data_path, 'sample_submission.csv'))\n",
    "ss['artist'] = out\n",
    "ss.to_csv(os.path.join(data_path, 'vote1234.csv'), index=False)  # 구분 가능하게 경로 수정"
   ],
   "metadata": {
    "collapsed": false,
    "ExecuteTime": {
     "start_time": "2023-12-12T11:37:38.755988300Z"
    }
   },
   "id": "6b1d1b1e498e36e8"
  },
  {
   "cell_type": "code",
   "execution_count": null,
   "outputs": [],
   "source": [],
   "metadata": {
    "collapsed": false,
    "ExecuteTime": {
     "start_time": "2023-12-12T11:37:38.758516500Z"
    }
   },
   "id": "7bbec727070ec433"
  },
  {
   "cell_type": "code",
   "execution_count": null,
   "outputs": [],
   "source": [],
   "metadata": {
    "collapsed": false,
    "ExecuteTime": {
     "start_time": "2023-12-12T11:37:38.760503300Z"
    }
   },
   "id": "838f5b5f716669c"
  },
  {
   "cell_type": "code",
   "execution_count": null,
   "outputs": [],
   "source": [],
   "metadata": {
    "collapsed": false,
    "ExecuteTime": {
     "start_time": "2023-12-12T11:37:38.762504400Z"
    }
   },
   "id": "3c37d3c01cfde84a"
  },
  {
   "cell_type": "code",
   "execution_count": null,
   "outputs": [],
   "source": [],
   "metadata": {
    "collapsed": false,
    "ExecuteTime": {
     "start_time": "2023-12-12T11:37:38.764504300Z"
    }
   },
   "id": "645045ca4b0d94b1"
  },
  {
   "cell_type": "code",
   "execution_count": null,
   "outputs": [],
   "source": [],
   "metadata": {
    "collapsed": false,
    "ExecuteTime": {
     "start_time": "2023-12-12T11:37:38.766505100Z"
    }
   },
   "id": "2bef886929655884"
  },
  {
   "cell_type": "code",
   "execution_count": null,
   "outputs": [],
   "source": [],
   "metadata": {
    "collapsed": false,
    "ExecuteTime": {
     "start_time": "2023-12-12T11:37:38.768010Z"
    }
   },
   "id": "4b56c026643c6b7b"
  }
 ],
 "metadata": {
  "kernelspec": {
   "display_name": "Python 3",
   "language": "python",
   "name": "python3"
  },
  "language_info": {
   "codemirror_mode": {
    "name": "ipython",
    "version": 2
   },
   "file_extension": ".py",
   "mimetype": "text/x-python",
   "name": "python",
   "nbconvert_exporter": "python",
   "pygments_lexer": "ipython2",
   "version": "2.7.6"
  }
 },
 "nbformat": 4,
 "nbformat_minor": 5
}
