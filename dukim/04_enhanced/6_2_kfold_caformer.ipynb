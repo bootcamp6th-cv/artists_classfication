{
 "cells": [
  {
   "cell_type": "markdown",
   "source": [
    "#  CAFormer-S18\n",
    "* CAFormer-S18 적용\n",
    "    - caformer_s18.sail_in22k_ft_in1k_384\n",
    "    - dropout, normalization 적용\n",
    "* Augmentation\n",
    "    - Transpose # 행렬 스왑\n",
    "    - HorizontalFlip # 좌우 반전\n",
    "    - VerticalFlip # 상하 반전\n",
    "    - CoarseDrop\n",
    "* lr scheduler\n",
    "    - Custom CosineAnnealingWarmUpRestarts\n",
    "    - T_hold : min_lr * 10 적용\n",
    "* optimizer\n",
    "    - AdamW\n",
    "* focal loss 적용\n",
    "* cutmix \n",
    "    - lam `0~0.25`, `0.75~1`\n",
    "* kfold\n",
    "* result\n",
    "    - fold0 : Epoch [0-36], lr : [0.000001], Train Loss : [0.2117], Val Loss : [0.4140], Val F1 Score : [0.8261]\n",
    "    - fold1 : Epoch [1-44], lr : [0.000004], Train Loss : [0.1957], Val Loss : [0.3691], Val F1 Score : [0.8332]\n",
    "    - fold2 : Epoch [2-33], lr : [0.000003], Train Loss : [0.2024], Val Loss : [0.3810], Val F1 Score : [0.8270]\n",
    "    - fold3 : Epoch [3-39], lr : [0.000003], Train Loss : [0.2342], Val Loss : [0.3681], Val F1 Score : [0.8416]\n",
    "    - fold4 : Epoch [4-22], lr : [0.000004], Train Loss : [0.2593], Val Loss : [0.4221], Val F1 Score : [0.8260]\n",
    "    - 41539\n",
    "    - public 점수 : 0.8404591477\n",
    "    - private 점수 : 0.8416979765"
   ],
   "metadata": {
    "collapsed": false
   },
   "id": "35ad6a7e30f8925e"
  },
  {
   "cell_type": "code",
   "execution_count": 1,
   "outputs": [],
   "source": [
    "import gc\n",
    "import os\n",
    "import random\n",
    "from datetime import datetime\n",
    "\n",
    "import pandas as pd\n",
    "import numpy as np\n",
    "import matplotlib.pyplot as plt\n",
    "import seaborn as sns\n",
    "import cv2\n",
    "\n",
    "from sklearn import preprocessing\n",
    "from sklearn.model_selection import train_test_split, StratifiedKFold\n",
    "from sklearn.metrics import f1_score\n",
    "\n",
    "import torch\n",
    "import torch.nn as nn\n",
    "import torch.optim as optim\n",
    "import torch.nn.functional as F\n",
    "from torch.utils.data import Dataset, DataLoader\n",
    "\n",
    "from tqdm.auto import tqdm\n",
    "\n",
    "import albumentations as A\n",
    "from albumentations.pytorch.transforms import ToTensorV2\n",
    "\n",
    "import timm\n",
    "\n",
    "import warnings\n",
    "warnings.filterwarnings(action='ignore') "
   ],
   "metadata": {
    "collapsed": false,
    "ExecuteTime": {
     "end_time": "2023-12-27T13:04:29.728389900Z",
     "start_time": "2023-12-27T13:04:26.811455800Z"
    }
   },
   "id": "initial_id"
  },
  {
   "cell_type": "code",
   "execution_count": 2,
   "outputs": [],
   "source": [
    "device = torch.device('cuda') if torch.cuda.is_available() else torch.device('cpu')"
   ],
   "metadata": {
    "collapsed": false,
    "ExecuteTime": {
     "end_time": "2023-12-27T13:04:29.777085600Z",
     "start_time": "2023-12-27T13:04:29.728389900Z"
    }
   },
   "id": "5fc1ff58a4a9d6d1"
  },
  {
   "cell_type": "code",
   "execution_count": 3,
   "outputs": [],
   "source": [
    "CFG = {\n",
    "    'IMG_SIZE': 272,\n",
    "    'EPOCHS': 1000,\n",
    "    'LEARNING_RATE': 5e-7,\n",
    "    'BATCH_SIZE': 16,\n",
    "    'PATIENCE': 12,\n",
    "    'WARMUP': 6,\n",
    "    'K-FOLD': 5,\n",
    "    'FILENAME': 'kfold_caformer',\n",
    "    'SEED': 6\n",
    "}"
   ],
   "metadata": {
    "collapsed": false,
    "ExecuteTime": {
     "end_time": "2023-12-27T13:04:29.794966300Z",
     "start_time": "2023-12-27T13:04:29.777085600Z"
    }
   },
   "id": "5c99354cb0d52004"
  },
  {
   "cell_type": "code",
   "execution_count": 4,
   "outputs": [],
   "source": [
    "def seed_everything(seed):\n",
    "    random.seed(seed)\n",
    "    os.environ['PYTHONHASHSEED'] = str(seed)\n",
    "    np.random.seed(seed)\n",
    "    torch.manual_seed(seed)\n",
    "    torch.cuda.manual_seed(seed)\n",
    "    torch.cuda.manual_seed_all(seed)\n",
    "    torch.backends.cudnn.deterministic = True\n",
    "    torch.backends.cudnn.benchmark = False\n",
    "\n",
    "seed_everything(CFG['SEED']) # Seed 고정"
   ],
   "metadata": {
    "collapsed": false,
    "ExecuteTime": {
     "end_time": "2023-12-27T13:04:29.807756Z",
     "start_time": "2023-12-27T13:04:29.789688300Z"
    }
   },
   "id": "57142b16a76126df"
  },
  {
   "cell_type": "code",
   "execution_count": 5,
   "outputs": [],
   "source": [
    "running_colab = 'google.colab' in str(get_ipython()) if hasattr(__builtins__,'__IPYTHON__') else False\n",
    "if running_colab:\n",
    "    from google.colab import drive\n",
    "    drive.mount('/content/drive')\n",
    "if running_colab:\n",
    "    data_path = '/content/drive/MyDrive/Colab Notebooks/ai6th/data/optiver/'\n",
    "else:\n",
    "    data_path = '../../data/'"
   ],
   "metadata": {
    "collapsed": false,
    "ExecuteTime": {
     "end_time": "2023-12-27T13:04:29.823312300Z",
     "start_time": "2023-12-27T13:04:29.805003500Z"
    }
   },
   "id": "858b421c8c479378"
  },
  {
   "cell_type": "code",
   "execution_count": 6,
   "outputs": [
    {
     "data": {
      "text/plain": "   id          img_path            artist\n0   0  ./train/0000.jpg   Diego Velazquez\n1   1  ./train/0001.jpg  Vincent van Gogh\n2   2  ./train/0002.jpg      Claude Monet\n3   3  ./train/0003.jpg       Edgar Degas\n4   4  ./train/0004.jpg  Hieronymus Bosch",
      "text/html": "<div>\n<style scoped>\n    .dataframe tbody tr th:only-of-type {\n        vertical-align: middle;\n    }\n\n    .dataframe tbody tr th {\n        vertical-align: top;\n    }\n\n    .dataframe thead th {\n        text-align: right;\n    }\n</style>\n<table border=\"1\" class=\"dataframe\">\n  <thead>\n    <tr style=\"text-align: right;\">\n      <th></th>\n      <th>id</th>\n      <th>img_path</th>\n      <th>artist</th>\n    </tr>\n  </thead>\n  <tbody>\n    <tr>\n      <th>0</th>\n      <td>0</td>\n      <td>./train/0000.jpg</td>\n      <td>Diego Velazquez</td>\n    </tr>\n    <tr>\n      <th>1</th>\n      <td>1</td>\n      <td>./train/0001.jpg</td>\n      <td>Vincent van Gogh</td>\n    </tr>\n    <tr>\n      <th>2</th>\n      <td>2</td>\n      <td>./train/0002.jpg</td>\n      <td>Claude Monet</td>\n    </tr>\n    <tr>\n      <th>3</th>\n      <td>3</td>\n      <td>./train/0003.jpg</td>\n      <td>Edgar Degas</td>\n    </tr>\n    <tr>\n      <th>4</th>\n      <td>4</td>\n      <td>./train/0004.jpg</td>\n      <td>Hieronymus Bosch</td>\n    </tr>\n  </tbody>\n</table>\n</div>"
     },
     "execution_count": 6,
     "metadata": {},
     "output_type": "execute_result"
    }
   ],
   "source": [
    "df = pd.read_csv(os.path.join(data_path, 'train.csv'))\n",
    "df.loc[3896, 'artist'] = 'Titian'\n",
    "df.loc[3986, 'artist'] = 'Alfred Sisley'\n",
    "df.head()"
   ],
   "metadata": {
    "collapsed": false,
    "ExecuteTime": {
     "end_time": "2023-12-27T13:04:29.842429500Z",
     "start_time": "2023-12-27T13:04:29.813151700Z"
    }
   },
   "id": "60ed6dfb973bafc5"
  },
  {
   "cell_type": "code",
   "execution_count": 7,
   "outputs": [],
   "source": [
    "artists = df.groupby('artist')[['id']].count().rename(columns={'id':'count'}).reset_index()"
   ],
   "metadata": {
    "collapsed": false,
    "ExecuteTime": {
     "end_time": "2023-12-27T13:04:29.880657700Z",
     "start_time": "2023-12-27T13:04:29.843431Z"
    }
   },
   "id": "c031773f1ed5ca85"
  },
  {
   "cell_type": "code",
   "execution_count": 8,
   "outputs": [],
   "source": [
    "# Label Encoding\n",
    "le = preprocessing.LabelEncoder()\n",
    "df['artist'] = le.fit_transform(df['artist'].values)"
   ],
   "metadata": {
    "collapsed": false,
    "ExecuteTime": {
     "end_time": "2023-12-27T13:04:29.880657700Z",
     "start_time": "2023-12-27T13:04:29.855608500Z"
    }
   },
   "id": "2ae8b183518c9394"
  },
  {
   "cell_type": "code",
   "execution_count": 9,
   "outputs": [],
   "source": [
    "def get_data(df, infer=False):\n",
    "    if infer:\n",
    "        return df['img_path'].apply(lambda p: os.path.join(data_path, p)).values\n",
    "    return df['img_path'].apply(lambda p: os.path.join(data_path, p)).values, df['artist'].values"
   ],
   "metadata": {
    "collapsed": false,
    "ExecuteTime": {
     "end_time": "2023-12-27T13:04:29.920547200Z",
     "start_time": "2023-12-27T13:04:29.866656100Z"
    }
   },
   "id": "db002acff51c03bd"
  },
  {
   "cell_type": "code",
   "execution_count": 10,
   "outputs": [],
   "source": [
    "from torchvision.transforms import ToTensor\n",
    "\n",
    "\n",
    "class CustomDataset(Dataset):\n",
    "    def __init__(self, img_paths, labels, transforms=None):\n",
    "        self.img_paths = img_paths\n",
    "        self.labels = labels\n",
    "        self.transforms = transforms if transforms else ToTensor()\n",
    "\n",
    "    def __getitem__(self, index):\n",
    "        img_path = self.img_paths[index]\n",
    "        image = cv2.imread(img_path)\n",
    "        image = cv2.cvtColor(image, cv2.COLOR_BGR2RGB)\n",
    "        image = self.transforms(image=image)['image']\n",
    "        \n",
    "        if self.labels is not None:\n",
    "            label = self.labels[index]\n",
    "            return image, label\n",
    "        else:\n",
    "            return image\n",
    "    \n",
    "    def __len__(self):\n",
    "        return len(self.img_paths)"
   ],
   "metadata": {
    "collapsed": false,
    "ExecuteTime": {
     "end_time": "2023-12-27T13:04:29.949081600Z",
     "start_time": "2023-12-27T13:04:29.884695800Z"
    }
   },
   "id": "daa8f5c45d3e6316"
  },
  {
   "cell_type": "code",
   "execution_count": 11,
   "outputs": [],
   "source": [
    "train_transform = A.Compose([\n",
    "    A.Resize(CFG['IMG_SIZE']*2,CFG['IMG_SIZE']*2),\n",
    "    A.RandomCrop(CFG['IMG_SIZE'],CFG['IMG_SIZE']),\n",
    "    A.Transpose(p=0.5), # 행렬 스왑\n",
    "    A.HorizontalFlip(p=0.5), # 좌우 반전\n",
    "    A.VerticalFlip(p=0.5), # 상하 반전\n",
    "    # A.ShiftScaleRotate(p=0.5), # 랜덤하게 옮기고, scale, 회전\n",
    "    A.Normalize(mean=(0.485, 0.456, 0.406), std=(0.229, 0.224, 0.225), max_pixel_value=255.0, always_apply=False, p=1.0),\n",
    "    A.CoarseDropout(p=0.5),\n",
    "    ToTensorV2()\n",
    "])\n",
    "\n",
    "validation_transform = A.Compose([\n",
    "    A.Resize(CFG['IMG_SIZE']*2,CFG['IMG_SIZE']*2),\n",
    "    A.RandomCrop(CFG['IMG_SIZE'],CFG['IMG_SIZE']),\n",
    "    A.Normalize(mean=(0.485, 0.456, 0.406), std=(0.229, 0.224, 0.225), max_pixel_value=255.0, always_apply=False, p=1.0),\n",
    "    ToTensorV2()\n",
    "])\n",
    "\n",
    "test_transform = A.Compose([\n",
    "    A.Resize(CFG['IMG_SIZE'],CFG['IMG_SIZE']),\n",
    "    A.Normalize(mean=(0.485, 0.456, 0.406), std=(0.229, 0.224, 0.225), max_pixel_value=255.0, always_apply=False, p=1.0),\n",
    "    ToTensorV2()\n",
    "])"
   ],
   "metadata": {
    "collapsed": false,
    "ExecuteTime": {
     "end_time": "2023-12-27T13:04:30.003462600Z",
     "start_time": "2023-12-27T13:04:29.887697400Z"
    }
   },
   "id": "17b5b770a5fb4839"
  },
  {
   "cell_type": "code",
   "execution_count": 12,
   "outputs": [
    {
     "data": {
      "text/plain": "<torch._C.Generator at 0x2af35c0c890>"
     },
     "execution_count": 12,
     "metadata": {},
     "output_type": "execute_result"
    }
   ],
   "source": [
    "def seed_worker(worker_id):\n",
    "    worker_seed = torch.initial_seed() % 2 ** 32\n",
    "    np.random.seed(worker_seed)\n",
    "    random.seed(worker_seed)\n",
    "g = torch.Generator()\n",
    "g.manual_seed(0)"
   ],
   "metadata": {
    "collapsed": false,
    "ExecuteTime": {
     "end_time": "2023-12-27T13:04:30.061404900Z",
     "start_time": "2023-12-27T13:04:29.895959900Z"
    }
   },
   "id": "c69fe868589b1093"
  },
  {
   "cell_type": "code",
   "execution_count": 13,
   "outputs": [],
   "source": [
    "class CAFormerModel(nn.Module):\n",
    "    def __init__(self, num_classes=len(le.classes_)):\n",
    "        super(CAFormerModel, self).__init__()\n",
    "        self.backbone = timm.create_model('caformer_s18.sail_in22k_ft_in1k_384', pretrained=True, num_classes=0)\n",
    "        self.classifier = nn.Sequential(\n",
    "            nn.LayerNorm(512),\n",
    "            nn.GELU(),\n",
    "            nn.Dropout(p=0.4),\n",
    "            nn.Linear(512, num_classes)\n",
    "        )\n",
    "            \n",
    "    def forward(self, x):\n",
    "        x = self.backbone(x)\n",
    "        x = self.classifier(x)\n",
    "        return x"
   ],
   "metadata": {
    "collapsed": false,
    "ExecuteTime": {
     "end_time": "2023-12-27T13:04:30.061404900Z",
     "start_time": "2023-12-27T13:04:29.914003300Z"
    }
   },
   "id": "cd5ecc94fada5c8b"
  },
  {
   "cell_type": "code",
   "execution_count": 14,
   "outputs": [
    {
     "name": "stdout",
     "output_type": "stream",
     "text": [
      "===============================================================================================\n",
      "Layer (type:depth-idx)                        Output Shape              Param #\n",
      "===============================================================================================\n",
      "├─MetaFormer: 1-1                             [-1, 512]                 --\n",
      "|    └─Stem: 2-1                              [-1, 64, 68, 68]          --\n",
      "|    |    └─Conv2d: 3-1                       [-1, 64, 68, 68]          9,472\n",
      "|    |    └─LayerNorm2dNoBias: 3-2            [-1, 64, 68, 68]          64\n",
      "|    └─Sequential: 2-2                        [-1, 512, 9, 9]           --\n",
      "|    |    └─MetaFormerStage: 3-3              [-1, 64, 68, 68]          166,668\n",
      "|    |    └─MetaFormerStage: 3-4              [-1, 128, 34, 34]         702,156\n",
      "|    |    └─MetaFormerStage: 3-5              [-1, 320, 17, 17]         11,439,826\n",
      "|    |    └─MetaFormerStage: 3-6              [-1, 512, 9, 9]           10,918,726\n",
      "|    └─Sequential: 2                          []                        --\n",
      "|    |    └─SelectAdaptivePool2d: 3-7         [-1, 512, 1, 1]           --\n",
      "|    |    └─LayerNorm2d: 3-8                  [-1, 512, 1, 1]           1,024\n",
      "|    |    └─Flatten: 3-9                      [-1, 512]                 --\n",
      "|    |    └─Dropout: 3-10                     [-1, 512]                 --\n",
      "|    |    └─Identity: 3-11                    [-1, 512]                 --\n",
      "├─Sequential: 1-2                             [-1, 50]                  --\n",
      "|    └─LayerNorm: 2-3                         [-1, 512]                 1,024\n",
      "|    └─GELU: 2-4                              [-1, 512]                 --\n",
      "|    └─Dropout: 2-5                           [-1, 512]                 --\n",
      "|    └─Linear: 2-6                            [-1, 50]                  25,650\n",
      "===============================================================================================\n",
      "Total params: 23,264,610\n",
      "Trainable params: 23,264,610\n",
      "Non-trainable params: 0\n",
      "Total mult-adds (M): 136.44\n",
      "===============================================================================================\n",
      "Input size (MB): 0.85\n",
      "Forward/backward pass size (MB): 4.52\n",
      "Params size (MB): 88.75\n",
      "Estimated Total Size (MB): 94.12\n",
      "===============================================================================================\n"
     ]
    },
    {
     "data": {
      "text/plain": "===============================================================================================\nLayer (type:depth-idx)                        Output Shape              Param #\n===============================================================================================\n├─MetaFormer: 1-1                             [-1, 512]                 --\n|    └─Stem: 2-1                              [-1, 64, 68, 68]          --\n|    |    └─Conv2d: 3-1                       [-1, 64, 68, 68]          9,472\n|    |    └─LayerNorm2dNoBias: 3-2            [-1, 64, 68, 68]          64\n|    └─Sequential: 2-2                        [-1, 512, 9, 9]           --\n|    |    └─MetaFormerStage: 3-3              [-1, 64, 68, 68]          166,668\n|    |    └─MetaFormerStage: 3-4              [-1, 128, 34, 34]         702,156\n|    |    └─MetaFormerStage: 3-5              [-1, 320, 17, 17]         11,439,826\n|    |    └─MetaFormerStage: 3-6              [-1, 512, 9, 9]           10,918,726\n|    └─Sequential: 2                          []                        --\n|    |    └─SelectAdaptivePool2d: 3-7         [-1, 512, 1, 1]           --\n|    |    └─LayerNorm2d: 3-8                  [-1, 512, 1, 1]           1,024\n|    |    └─Flatten: 3-9                      [-1, 512]                 --\n|    |    └─Dropout: 3-10                     [-1, 512]                 --\n|    |    └─Identity: 3-11                    [-1, 512]                 --\n├─Sequential: 1-2                             [-1, 50]                  --\n|    └─LayerNorm: 2-3                         [-1, 512]                 1,024\n|    └─GELU: 2-4                              [-1, 512]                 --\n|    └─Dropout: 2-5                           [-1, 512]                 --\n|    └─Linear: 2-6                            [-1, 50]                  25,650\n===============================================================================================\nTotal params: 23,264,610\nTrainable params: 23,264,610\nNon-trainable params: 0\nTotal mult-adds (M): 136.44\n===============================================================================================\nInput size (MB): 0.85\nForward/backward pass size (MB): 4.52\nParams size (MB): 88.75\nEstimated Total Size (MB): 94.12\n==============================================================================================="
     },
     "execution_count": 14,
     "metadata": {},
     "output_type": "execute_result"
    }
   ],
   "source": [
    "from torchsummary import summary\n",
    "\n",
    "model = CAFormerModel()\n",
    "summary(model, (3,CFG['IMG_SIZE'],CFG['IMG_SIZE']))"
   ],
   "metadata": {
    "collapsed": false,
    "ExecuteTime": {
     "end_time": "2023-12-27T13:04:43.068887Z",
     "start_time": "2023-12-27T13:04:29.926241600Z"
    }
   },
   "id": "67da3204ab03efc8"
  },
  {
   "cell_type": "code",
   "execution_count": 15,
   "outputs": [],
   "source": [
    "def clear_mem():\n",
    "    gc.collect()\n",
    "    torch.cuda.empty_cache()"
   ],
   "metadata": {
    "collapsed": false,
    "ExecuteTime": {
     "end_time": "2023-12-27T13:04:43.085899500Z",
     "start_time": "2023-12-27T13:04:43.070886500Z"
    }
   },
   "id": "ecce2baec16e71e7"
  },
  {
   "cell_type": "code",
   "execution_count": 16,
   "outputs": [],
   "source": [
    "class EarlyStopping:\n",
    "    def __init__(self, patience=10, verbose=False, delta=0):\n",
    "        self.patience = patience\n",
    "        self.verbose = verbose\n",
    "        self.counter = 0\n",
    "        self.best_score = None\n",
    "        self.early_stop = False\n",
    "        self.val_loss_min = np.Inf\n",
    "        self.delta = delta\n",
    "\n",
    "    def __call__(self, score):\n",
    "        if self.best_score is None:\n",
    "            self.best_score = score\n",
    "        elif score < self.best_score + self.delta:\n",
    "            self.counter += 1\n",
    "            print(f'EarlyStopping counter: {self.counter} out of {self.patience}')\n",
    "            print(f'Best F1 score from now: {self.best_score}')\n",
    "            if self.counter >= self.patience:\n",
    "                self.early_stop = True\n",
    "        else:\n",
    "            self.best_score = score\n",
    "            self.counter = 0\n",
    "        \n",
    "        return self.early_stop"
   ],
   "metadata": {
    "collapsed": false,
    "ExecuteTime": {
     "end_time": "2023-12-27T13:04:43.160367400Z",
     "start_time": "2023-12-27T13:04:43.085899500Z"
    }
   },
   "id": "51d7e36eb5ffba31"
  },
  {
   "cell_type": "code",
   "execution_count": 17,
   "outputs": [],
   "source": [
    "def rand_bbox(size, lam):   # size : [B, C, W, H]\n",
    "    W = size[2] # 이미지의 width\n",
    "    H = size[3] # 이미지의 height\n",
    "    cut_rat = np.sqrt(1. - lam)  # 패치 크기의 비율 정하기\n",
    "    cut_w = np.int32(W * cut_rat)  # 패치의 너비\n",
    "    cut_h = np.int32(H * cut_rat)  # 패치의 높이\n",
    "\n",
    "    # uniform\n",
    "    # 기존 이미지의 크기에서 랜덤하게 값을 가져옵니다.(중간 좌표 추출)\n",
    "    cx = np.random.randint(W)\n",
    "    cy = np.random.randint(H)\n",
    "\n",
    "    # 패치 부분에 대한 좌표값을 추출합니다.\n",
    "    bbx1 = np.clip(cx - cut_w // 2, 0, W)\n",
    "    bby1 = np.clip(cy - cut_h // 2, 0, H)\n",
    "    bbx2 = np.clip(cx + cut_w // 2, 0, W)\n",
    "    bby2 = np.clip(cy + cut_h // 2, 0, H)\n",
    "\n",
    "    return bbx1, bby1, bbx2, bby2"
   ],
   "metadata": {
    "collapsed": false,
    "ExecuteTime": {
     "end_time": "2023-12-27T13:04:43.174359500Z",
     "start_time": "2023-12-27T13:04:43.105884600Z"
    }
   },
   "id": "ce87987e0b603241"
  },
  {
   "cell_type": "code",
   "execution_count": 18,
   "outputs": [],
   "source": [
    "import math\n",
    "from torch.optim.lr_scheduler import LRScheduler\n",
    "\n",
    "class CosineAnnealingWarmUpRestarts(LRScheduler):\n",
    "    def __init__(self, optimizer, T_0, T_mult=1, eta_max=0.1, T_up=0, gamma=1., last_epoch=-1, T_hold=5e-5):\n",
    "        if T_0 <= 0 or not isinstance(T_0, int):\n",
    "            raise ValueError(\"Expected positive integer T_0, but got {}\".format(T_0))\n",
    "        if T_mult < 1 or not isinstance(T_mult, int):\n",
    "            raise ValueError(\"Expected integer T_mult >= 1, but got {}\".format(T_mult))\n",
    "        if T_up < 0 or not isinstance(T_up, int):\n",
    "            raise ValueError(\"Expected positive integer T_up, but got {}\".format(T_up))\n",
    "        self.T_0 = T_0\n",
    "        self.T_mult = T_mult\n",
    "        self.base_eta_max = eta_max\n",
    "        self.eta_max = eta_max\n",
    "        self.T_up = T_up\n",
    "        self.T_i = T_0\n",
    "        self.gamma = gamma\n",
    "        self.cycle = 0\n",
    "        self.T_cur = last_epoch\n",
    "        self.T_hold = T_hold # custom\n",
    "        super(CosineAnnealingWarmUpRestarts, self).__init__(optimizer, last_epoch)\n",
    "    \n",
    "    def get_lr(self):\n",
    "        if self.T_cur == -1:\n",
    "            return self.base_lrs\n",
    "        elif self.T_cur < self.T_up:\n",
    "            return [(self.eta_max - base_lr)*self.T_cur / self.T_up + base_lr for base_lr in self.base_lrs]\n",
    "        else:\n",
    "            return [base_lr + (self.eta_max - base_lr) * (1 + math.cos(math.pi * (self.T_cur-self.T_up) / (self.T_i - self.T_up))) / 2\n",
    "                    for base_lr in self.base_lrs]\n",
    "\n",
    "    def step(self, epoch=None):\n",
    "        if epoch is None:\n",
    "            epoch = self.last_epoch + 1\n",
    "            self.T_cur = self.T_cur + 1\n",
    "            if self.T_cur >= self.T_i:\n",
    "                self.cycle += 1\n",
    "                self.T_cur = self.T_cur - self.T_i\n",
    "                self.T_i = (self.T_i - self.T_up) * self.T_mult + self.T_up\n",
    "        else:\n",
    "            if epoch >= self.T_0:\n",
    "                if self.T_mult == 1:\n",
    "                    self.T_cur = epoch % self.T_0\n",
    "                    self.cycle = epoch // self.T_0\n",
    "                else:\n",
    "                    n = int(math.log((epoch / self.T_0 * (self.T_mult - 1) + 1), self.T_mult))\n",
    "                    self.cycle = n\n",
    "                    self.T_cur = epoch - self.T_0 * (self.T_mult ** n - 1) / (self.T_mult - 1)\n",
    "                    self.T_i = self.T_0 * self.T_mult ** (n)\n",
    "            else:\n",
    "                self.T_i = self.T_0\n",
    "                self.T_cur = epoch\n",
    "                \n",
    "        self.eta_max = self.base_eta_max * (self.gamma**self.cycle)\n",
    "        if self.eta_max < self.T_hold:\n",
    "            self.eta_max = self.T_hold\n",
    "        self.last_epoch = math.floor(epoch)\n",
    "        for param_group, lr in zip(self.optimizer.param_groups, self.get_lr()):\n",
    "            param_group['lr'] = lr"
   ],
   "metadata": {
    "collapsed": false,
    "ExecuteTime": {
     "end_time": "2023-12-27T13:04:43.176356700Z",
     "start_time": "2023-12-27T13:04:43.128355700Z"
    }
   },
   "id": "66827c3c4d6466cd"
  },
  {
   "cell_type": "code",
   "execution_count": 19,
   "outputs": [
    {
     "name": "stdout",
     "output_type": "stream",
     "text": [
      "run_id='20231227220443'\n"
     ]
    }
   ],
   "source": [
    "time_now = datetime.now()\n",
    "run_id = time_now.strftime(\"%Y%m%d%H%M%S\")\n",
    "os.makedirs(os.path.join(data_path, f'./runs/{run_id}'), exist_ok=True)\n",
    "print(f'{run_id=}')"
   ],
   "metadata": {
    "collapsed": false,
    "ExecuteTime": {
     "end_time": "2023-12-27T13:04:43.178361700Z",
     "start_time": "2023-12-27T13:04:43.151356800Z"
    }
   },
   "id": "17fc703a3126967"
  },
  {
   "cell_type": "code",
   "execution_count": 20,
   "outputs": [],
   "source": [
    "import torch\n",
    "import torch.nn as nn\n",
    "import torch.nn.functional as F\n",
    "\n",
    "class FocalLoss(nn.Module):\n",
    "    def __init__(self, alpha=1, gamma=2, reduction='mean'):\n",
    "        super(FocalLoss, self).__init__()\n",
    "        self.alpha = alpha\n",
    "        self.gamma = gamma\n",
    "        self.reduction = reduction\n",
    "\n",
    "    def forward(self, inputs, targets):\n",
    "        ce_loss = F.cross_entropy(inputs, targets, reduction='none')\n",
    "        pt = torch.exp(-ce_loss)\n",
    "        focal_loss = self.alpha * (1 - pt) ** self.gamma * ce_loss\n",
    "\n",
    "        if self.reduction == 'mean':\n",
    "            return focal_loss.mean()\n",
    "        elif self.reduction == 'sum':\n",
    "            return focal_loss.sum()\n",
    "        else:\n",
    "            return focal_loss"
   ],
   "metadata": {
    "collapsed": false,
    "ExecuteTime": {
     "end_time": "2023-12-27T13:04:43.196361500Z",
     "start_time": "2023-12-27T13:04:43.167358400Z"
    }
   },
   "id": "18993a2b09eac846"
  },
  {
   "cell_type": "code",
   "execution_count": 21,
   "outputs": [],
   "source": [
    "def train(epoch, model, optimizer, criterion, train_loader, device, beta=1, cutmix_prob=0.5, lr_scheduler=None):\n",
    "    model.train()\n",
    "    train_loss = []\n",
    "    lr_list = []\n",
    "    bar = tqdm(enumerate(train_loader), total = len(train_loader), desc='Train Loop')\n",
    "    for idx, (img, label) in bar:\n",
    "        img, label = img.float().to(device), label.long().to(device)\n",
    "        \n",
    "        optimizer.zero_grad()\n",
    "        r = np.random.rand(1)\n",
    "        if beta > 0 and r < cutmix_prob:\n",
    "            lam = np.random.beta(beta, beta)\n",
    "            if lam < 0.5:\n",
    "                lam = lam/2\n",
    "            else:\n",
    "                lam = 0.5 + lam/2\n",
    "            rand_index = torch.randperm(img.size()[0]).cuda()\n",
    "            target_a = label\n",
    "            target_b = label[rand_index]\n",
    "            bbx1, bby1, bbx2, bby2 = rand_bbox(img.size(), lam)\n",
    "            img[:, :, bbx1:bbx2, bby1:bby2] = img[rand_index, :, bbx1:bbx2, bby1:bby2]\n",
    "\n",
    "            lam = 1 - ((bbx2 - bbx1) * (bby2 - bby1) / (img.size()[-1] * img.size()[-2]))\n",
    "\n",
    "            model_pred = model(img)\n",
    "            loss = criterion(model_pred, target_a) * lam + criterion(model_pred, target_b) * (1. - lam)\n",
    "        else:\n",
    "            model_pred = model(img)\n",
    "            loss = criterion(model_pred, label)\n",
    "        \n",
    "        loss.backward()\n",
    "        if ((epoch-1)*len(train_loader) + idx)%10 == 0:\n",
    "            lr_list.append(optimizer.param_groups[0]['lr'])\n",
    "        optimizer.step()\n",
    "        train_loss.append(loss.item())\n",
    "        bar.set_postfix(train_loss = f'{loss.item():.4f}', lr = f\"{optimizer.param_groups[0]['lr']:.6f}\")\n",
    "        if lr_scheduler:\n",
    "            lr_scheduler.step()\n",
    "    return np.mean(train_loss), lr_list"
   ],
   "metadata": {
    "collapsed": false,
    "ExecuteTime": {
     "end_time": "2023-12-27T13:04:43.254547800Z",
     "start_time": "2023-12-27T13:04:43.192358700Z"
    }
   },
   "id": "8837f76bd55e594f"
  },
  {
   "cell_type": "code",
   "execution_count": 22,
   "outputs": [],
   "source": [
    "def competition_metric(true, pred):\n",
    "    return f1_score(true, pred, average=\"macro\")\n",
    "\n",
    "def validation(model, criterion, test_loader, device):\n",
    "    model.eval()\n",
    "    \n",
    "    model_preds = []\n",
    "    true_labels = []\n",
    "    \n",
    "    val_loss = []\n",
    "    \n",
    "    with torch.no_grad():\n",
    "        for img, label in iter(test_loader):\n",
    "            img, label = img.float().to(device), label.long().to(device)\n",
    "            \n",
    "            model_pred = model(img)\n",
    "            \n",
    "            loss = criterion(model_pred, label)\n",
    "            \n",
    "            val_loss.append(loss.item())\n",
    "            \n",
    "            model_preds += model_pred.argmax(1).detach().cpu().numpy().tolist()\n",
    "            true_labels += label.detach().cpu().numpy().tolist()\n",
    "        \n",
    "    val_f1 = competition_metric(true_labels, model_preds)\n",
    "    return np.mean(val_loss), val_f1"
   ],
   "metadata": {
    "collapsed": false,
    "ExecuteTime": {
     "end_time": "2023-12-27T13:04:43.271561300Z",
     "start_time": "2023-12-27T13:04:43.202356400Z"
    }
   },
   "id": "6e0713601b2fa53a"
  },
  {
   "cell_type": "code",
   "execution_count": 23,
   "outputs": [],
   "source": [
    "def train_epoch(k, model, optimizer, train_loader, test_loader, lr_scheduler, device):\n",
    "    model.to(device)\n",
    "\n",
    "    criterion = FocalLoss(alpha=1, gamma=2).to(device)\n",
    "    early_stopping = EarlyStopping(patience=CFG['PATIENCE'], verbose=True)\n",
    "\n",
    "    best_score = 0\n",
    "    lr_list = []\n",
    "    train_loss_list, val_loss_list = [], []\n",
    "\n",
    "    for epoch in range(1,CFG[\"EPOCHS\"]+1):\n",
    "        tr_loss, lr_ = train(epoch, model, optimizer, criterion, train_loader, device, beta=1, lr_scheduler=lr_scheduler)\n",
    "        val_loss, val_score = validation(model, criterion, test_loader, device)\n",
    "        train_loss_list.append(tr_loss)\n",
    "        val_loss_list.append(val_loss)\n",
    "\n",
    "        if lr_scheduler is not None:\n",
    "            lr_list.extend(lr_)\n",
    "\n",
    "        if best_score < val_score:\n",
    "            print(f'**Epoch [{k}-{epoch}], lr : [{lr_[-1]:.6f}], Train Loss : [{tr_loss:.4f}], Val Loss : [{val_loss:.4f}], Val F1 Score : [{val_score:.4f}]')\n",
    "            best_score = val_score\n",
    "            torch.save(model, os.path.join(data_path, f'runs/{run_id}/best_model_{k}.pt'))\n",
    "        else:\n",
    "            print(f'Epoch [{k}-{epoch}], lr : [{lr_[-1]:.6f}], Train Loss : [{tr_loss:.4f}], Val Loss : [{val_loss:.4f}], Val F1 Score : [{val_score:.4f}]')\n",
    "        clear_mem()\n",
    "        if early_stopping(val_score):\n",
    "            print(f'Epoch [{k}-{epoch}], early stopping')\n",
    "            break\n",
    "    if lr_list:\n",
    "        return (train_loss_list, val_loss_list, best_score, lr_list)\n",
    "    else:\n",
    "        return (train_loss_list, val_loss_list, best_score, None)"
   ],
   "metadata": {
    "collapsed": false,
    "ExecuteTime": {
     "end_time": "2023-12-27T13:04:43.272579500Z",
     "start_time": "2023-12-27T13:04:43.217360200Z"
    }
   },
   "id": "533c937dd1370a10"
  },
  {
   "cell_type": "code",
   "execution_count": 24,
   "outputs": [],
   "source": [
    "def k_fold(k): # k-fold\n",
    "    skf = StratifiedKFold(n_splits=k, shuffle=False)\n",
    "    f1_sum = 0\n",
    "    \n",
    "    for k_, (train_index, valid_index) in enumerate(skf.split(df, df['artist'])):\n",
    "        print(f'{k_}-fold start')\n",
    "        \n",
    "        class_counts = df.loc[train_index, 'artist'].value_counts(sort=False).to_dict()\n",
    "        num_samples = sum(class_counts.values())\n",
    "        labels = df.loc[train_index, 'artist'].to_list()\n",
    "        class_weights = {l:round(num_samples/(class_counts[l]**0.5), 2) for l in class_counts.keys()}\n",
    "        weights = [class_weights[labels[i]] for i in range(int(num_samples))]\n",
    "        sampler = torch.utils.data.WeightedRandomSampler(torch.DoubleTensor(weights), int(num_samples))\n",
    "\n",
    "        train_img_paths, train_labels = get_data(df.iloc[train_index])\n",
    "        val_img_paths, val_labels = get_data(df.iloc[valid_index])\n",
    "        train_dataset = CustomDataset(train_img_paths, train_labels, train_transform)\n",
    "        train_loader = DataLoader(\n",
    "            train_dataset, batch_size = CFG['BATCH_SIZE'], shuffle=True, #sampler=sampler,\n",
    "            worker_init_fn=seed_worker, generator=g, num_workers=0\n",
    "        )\n",
    "        \n",
    "        val_dataset = CustomDataset(val_img_paths, val_labels, validation_transform)\n",
    "        val_loader = DataLoader(val_dataset, batch_size=CFG['BATCH_SIZE'], shuffle=False, worker_init_fn=seed_worker, generator=g, num_workers=0)\n",
    "\n",
    "        model = CAFormerModel()\n",
    "        model.eval()\n",
    "        optimizer = torch.optim.AdamW(params = model.parameters(), lr = CFG['LEARNING_RATE'])\n",
    "        # lr : 5epochs 동안 0.001->CFG['LEARNING_RATE']\n",
    "        lr_scheduler = CosineAnnealingWarmUpRestarts(optimizer, T_0=CFG['WARMUP']*len(train_loader), T_mult=1, eta_max=0.0001, T_up=50, gamma=0.5, T_hold=CFG['LEARNING_RATE']*10)\n",
    "        _, _, f1_score, _ = train_epoch(k_, model, optimizer, train_loader, val_loader, lr_scheduler, device)\n",
    "        f1_sum += f1_score\n",
    "    return f1_sum/k"
   ],
   "metadata": {
    "collapsed": false,
    "ExecuteTime": {
     "end_time": "2023-12-27T13:04:43.272579500Z",
     "start_time": "2023-12-27T13:04:43.234606700Z"
    }
   },
   "id": "3fdc1f9a44a2408e"
  },
  {
   "cell_type": "code",
   "execution_count": 25,
   "outputs": [
    {
     "name": "stdout",
     "output_type": "stream",
     "text": [
      "0-fold start\n"
     ]
    },
    {
     "data": {
      "text/plain": "Train Loop:   0%|          | 0/296 [00:00<?, ?it/s]",
      "application/vnd.jupyter.widget-view+json": {
       "version_major": 2,
       "version_minor": 0,
       "model_id": "7e066eacc32344f28ab852c009be054e"
      }
     },
     "metadata": {},
     "output_type": "display_data"
    },
    {
     "name": "stdout",
     "output_type": "stream",
     "text": [
      "**Epoch [0-1], lr : [0.000095], Train Loss : [2.7250], Val Loss : [1.6424], Val F1 Score : [0.3115]\n"
     ]
    },
    {
     "data": {
      "text/plain": "Train Loop:   0%|          | 0/296 [00:00<?, ?it/s]",
      "application/vnd.jupyter.widget-view+json": {
       "version_major": 2,
       "version_minor": 0,
       "model_id": "10eaa32f6f604bb6a9875ff3bd73dcfe"
      }
     },
     "metadata": {},
     "output_type": "display_data"
    },
    {
     "name": "stdout",
     "output_type": "stream",
     "text": [
      "**Epoch [0-2], lr : [0.000078], Train Loss : [1.5610], Val Loss : [1.0739], Val F1 Score : [0.4753]\n"
     ]
    },
    {
     "data": {
      "text/plain": "Train Loop:   0%|          | 0/296 [00:00<?, ?it/s]",
      "application/vnd.jupyter.widget-view+json": {
       "version_major": 2,
       "version_minor": 0,
       "model_id": "b6335e117636486da8303f5c6c89752f"
      }
     },
     "metadata": {},
     "output_type": "display_data"
    },
    {
     "name": "stdout",
     "output_type": "stream",
     "text": [
      "**Epoch [0-3], lr : [0.000053], Train Loss : [1.1123], Val Loss : [0.7849], Val F1 Score : [0.5914]\n"
     ]
    },
    {
     "data": {
      "text/plain": "Train Loop:   0%|          | 0/296 [00:00<?, ?it/s]",
      "application/vnd.jupyter.widget-view+json": {
       "version_major": 2,
       "version_minor": 0,
       "model_id": "ad4ae7e8787543828e1f5c0101473fae"
      }
     },
     "metadata": {},
     "output_type": "display_data"
    },
    {
     "name": "stdout",
     "output_type": "stream",
     "text": [
      "**Epoch [0-4], lr : [0.000027], Train Loss : [0.8585], Val Loss : [0.6368], Val F1 Score : [0.6653]\n"
     ]
    },
    {
     "data": {
      "text/plain": "Train Loop:   0%|          | 0/296 [00:00<?, ?it/s]",
      "application/vnd.jupyter.widget-view+json": {
       "version_major": 2,
       "version_minor": 0,
       "model_id": "a2be11a80e1645f1bf02bbabbe95364f"
      }
     },
     "metadata": {},
     "output_type": "display_data"
    },
    {
     "name": "stdout",
     "output_type": "stream",
     "text": [
      "**Epoch [0-5], lr : [0.000008], Train Loss : [0.6714], Val Loss : [0.5680], Val F1 Score : [0.7039]\n"
     ]
    },
    {
     "data": {
      "text/plain": "Train Loop:   0%|          | 0/296 [00:00<?, ?it/s]",
      "application/vnd.jupyter.widget-view+json": {
       "version_major": 2,
       "version_minor": 0,
       "model_id": "4bc8e9e629314d349b083b3d4af5d939"
      }
     },
     "metadata": {},
     "output_type": "display_data"
    },
    {
     "name": "stdout",
     "output_type": "stream",
     "text": [
      "**Epoch [0-6], lr : [0.000001], Train Loss : [0.6128], Val Loss : [0.5212], Val F1 Score : [0.7214]\n"
     ]
    },
    {
     "data": {
      "text/plain": "Train Loop:   0%|          | 0/296 [00:00<?, ?it/s]",
      "application/vnd.jupyter.widget-view+json": {
       "version_major": 2,
       "version_minor": 0,
       "model_id": "d5fb3fe639e74f0a8eeb9ad4ac6b0b3f"
      }
     },
     "metadata": {},
     "output_type": "display_data"
    },
    {
     "name": "stdout",
     "output_type": "stream",
     "text": [
      "Epoch [0-7], lr : [0.000048], Train Loss : [0.7085], Val Loss : [0.6111], Val F1 Score : [0.6901]\n",
      "EarlyStopping counter: 1 out of 12\n",
      "Best F1 score from now: 0.7214015679818969\n"
     ]
    },
    {
     "data": {
      "text/plain": "Train Loop:   0%|          | 0/296 [00:00<?, ?it/s]",
      "application/vnd.jupyter.widget-view+json": {
       "version_major": 2,
       "version_minor": 0,
       "model_id": "17a79013b2ff4eccba05af02ec5459b2"
      }
     },
     "metadata": {},
     "output_type": "display_data"
    },
    {
     "name": "stdout",
     "output_type": "stream",
     "text": [
      "Epoch [0-8], lr : [0.000039], Train Loss : [0.6560], Val Loss : [0.5854], Val F1 Score : [0.7047]\n",
      "EarlyStopping counter: 2 out of 12\n",
      "Best F1 score from now: 0.7214015679818969\n"
     ]
    },
    {
     "data": {
      "text/plain": "Train Loop:   0%|          | 0/296 [00:00<?, ?it/s]",
      "application/vnd.jupyter.widget-view+json": {
       "version_major": 2,
       "version_minor": 0,
       "model_id": "8c70ae5f05c84ceaa24b69d5d2a4d925"
      }
     },
     "metadata": {},
     "output_type": "display_data"
    },
    {
     "name": "stdout",
     "output_type": "stream",
     "text": [
      "**Epoch [0-9], lr : [0.000027], Train Loss : [0.5045], Val Loss : [0.5438], Val F1 Score : [0.7396]\n"
     ]
    },
    {
     "data": {
      "text/plain": "Train Loop:   0%|          | 0/296 [00:00<?, ?it/s]",
      "application/vnd.jupyter.widget-view+json": {
       "version_major": 2,
       "version_minor": 0,
       "model_id": "c21348ff43b24cb398ddbd8e8c9680a4"
      }
     },
     "metadata": {},
     "output_type": "display_data"
    },
    {
     "name": "stdout",
     "output_type": "stream",
     "text": [
      "**Epoch [0-10], lr : [0.000014], Train Loss : [0.4626], Val Loss : [0.4261], Val F1 Score : [0.7943]\n"
     ]
    },
    {
     "data": {
      "text/plain": "Train Loop:   0%|          | 0/296 [00:00<?, ?it/s]",
      "application/vnd.jupyter.widget-view+json": {
       "version_major": 2,
       "version_minor": 0,
       "model_id": "fd9adca314674ecf80eed1508ebf43cf"
      }
     },
     "metadata": {},
     "output_type": "display_data"
    },
    {
     "name": "stdout",
     "output_type": "stream",
     "text": [
      "Epoch [0-11], lr : [0.000004], Train Loss : [0.4110], Val Loss : [0.4564], Val F1 Score : [0.7796]\n",
      "EarlyStopping counter: 1 out of 12\n",
      "Best F1 score from now: 0.7942745488867032\n"
     ]
    },
    {
     "data": {
      "text/plain": "Train Loop:   0%|          | 0/296 [00:00<?, ?it/s]",
      "application/vnd.jupyter.widget-view+json": {
       "version_major": 2,
       "version_minor": 0,
       "model_id": "bb921eee4dcc4922a8028e17e68d1c56"
      }
     },
     "metadata": {},
     "output_type": "display_data"
    },
    {
     "name": "stdout",
     "output_type": "stream",
     "text": [
      "Epoch [0-12], lr : [0.000001], Train Loss : [0.3255], Val Loss : [0.4125], Val F1 Score : [0.7837]\n",
      "EarlyStopping counter: 2 out of 12\n",
      "Best F1 score from now: 0.7942745488867032\n"
     ]
    },
    {
     "data": {
      "text/plain": "Train Loop:   0%|          | 0/296 [00:00<?, ?it/s]",
      "application/vnd.jupyter.widget-view+json": {
       "version_major": 2,
       "version_minor": 0,
       "model_id": "b1bf4fdd00ee4ce3ae9348419ffcb0de"
      }
     },
     "metadata": {},
     "output_type": "display_data"
    },
    {
     "name": "stdout",
     "output_type": "stream",
     "text": [
      "Epoch [0-13], lr : [0.000024], Train Loss : [0.4022], Val Loss : [0.4732], Val F1 Score : [0.7629]\n",
      "EarlyStopping counter: 3 out of 12\n",
      "Best F1 score from now: 0.7942745488867032\n"
     ]
    },
    {
     "data": {
      "text/plain": "Train Loop:   0%|          | 0/296 [00:00<?, ?it/s]",
      "application/vnd.jupyter.widget-view+json": {
       "version_major": 2,
       "version_minor": 0,
       "model_id": "9e304373dfd64d149a83db3619fa2a38"
      }
     },
     "metadata": {},
     "output_type": "display_data"
    },
    {
     "name": "stdout",
     "output_type": "stream",
     "text": [
      "Epoch [0-14], lr : [0.000020], Train Loss : [0.3662], Val Loss : [0.4617], Val F1 Score : [0.7912]\n",
      "EarlyStopping counter: 4 out of 12\n",
      "Best F1 score from now: 0.7942745488867032\n"
     ]
    },
    {
     "data": {
      "text/plain": "Train Loop:   0%|          | 0/296 [00:00<?, ?it/s]",
      "application/vnd.jupyter.widget-view+json": {
       "version_major": 2,
       "version_minor": 0,
       "model_id": "59f951c83fd74d888844b5f2621e8ce2"
      }
     },
     "metadata": {},
     "output_type": "display_data"
    },
    {
     "name": "stdout",
     "output_type": "stream",
     "text": [
      "Epoch [0-15], lr : [0.000014], Train Loss : [0.3604], Val Loss : [0.4243], Val F1 Score : [0.7894]\n",
      "EarlyStopping counter: 5 out of 12\n",
      "Best F1 score from now: 0.7942745488867032\n"
     ]
    },
    {
     "data": {
      "text/plain": "Train Loop:   0%|          | 0/296 [00:00<?, ?it/s]",
      "application/vnd.jupyter.widget-view+json": {
       "version_major": 2,
       "version_minor": 0,
       "model_id": "3b52a85affda432ebb355d53c5d42797"
      }
     },
     "metadata": {},
     "output_type": "display_data"
    },
    {
     "name": "stdout",
     "output_type": "stream",
     "text": [
      "**Epoch [0-16], lr : [0.000007], Train Loss : [0.3254], Val Loss : [0.3999], Val F1 Score : [0.7995]\n"
     ]
    },
    {
     "data": {
      "text/plain": "Train Loop:   0%|          | 0/296 [00:00<?, ?it/s]",
      "application/vnd.jupyter.widget-view+json": {
       "version_major": 2,
       "version_minor": 0,
       "model_id": "b818021933f74919a7b647920cbb8ccf"
      }
     },
     "metadata": {},
     "output_type": "display_data"
    },
    {
     "name": "stdout",
     "output_type": "stream",
     "text": [
      "Epoch [0-17], lr : [0.000002], Train Loss : [0.2905], Val Loss : [0.4313], Val F1 Score : [0.7982]\n",
      "EarlyStopping counter: 1 out of 12\n",
      "Best F1 score from now: 0.7995298179176881\n"
     ]
    },
    {
     "data": {
      "text/plain": "Train Loop:   0%|          | 0/296 [00:00<?, ?it/s]",
      "application/vnd.jupyter.widget-view+json": {
       "version_major": 2,
       "version_minor": 0,
       "model_id": "61e9fb442ce0490cba7b8f1bd3eb7a65"
      }
     },
     "metadata": {},
     "output_type": "display_data"
    },
    {
     "name": "stdout",
     "output_type": "stream",
     "text": [
      "**Epoch [0-18], lr : [0.000001], Train Loss : [0.2823], Val Loss : [0.4023], Val F1 Score : [0.8031]\n"
     ]
    },
    {
     "data": {
      "text/plain": "Train Loop:   0%|          | 0/296 [00:00<?, ?it/s]",
      "application/vnd.jupyter.widget-view+json": {
       "version_major": 2,
       "version_minor": 0,
       "model_id": "7574e52bfeed4bbdaa925a8d0cf25e49"
      }
     },
     "metadata": {},
     "output_type": "display_data"
    },
    {
     "name": "stdout",
     "output_type": "stream",
     "text": [
      "Epoch [0-19], lr : [0.000012], Train Loss : [0.2523], Val Loss : [0.4370], Val F1 Score : [0.7941]\n",
      "EarlyStopping counter: 1 out of 12\n",
      "Best F1 score from now: 0.8030769288685032\n"
     ]
    },
    {
     "data": {
      "text/plain": "Train Loop:   0%|          | 0/296 [00:00<?, ?it/s]",
      "application/vnd.jupyter.widget-view+json": {
       "version_major": 2,
       "version_minor": 0,
       "model_id": "94a6271fb8d64c2a88a727e9e57c0715"
      }
     },
     "metadata": {},
     "output_type": "display_data"
    },
    {
     "name": "stdout",
     "output_type": "stream",
     "text": [
      "Epoch [0-20], lr : [0.000010], Train Loss : [0.2978], Val Loss : [0.4305], Val F1 Score : [0.7937]\n",
      "EarlyStopping counter: 2 out of 12\n",
      "Best F1 score from now: 0.8030769288685032\n"
     ]
    },
    {
     "data": {
      "text/plain": "Train Loop:   0%|          | 0/296 [00:00<?, ?it/s]",
      "application/vnd.jupyter.widget-view+json": {
       "version_major": 2,
       "version_minor": 0,
       "model_id": "f293bc9359a6461ba46576a408bb8b05"
      }
     },
     "metadata": {},
     "output_type": "display_data"
    },
    {
     "name": "stdout",
     "output_type": "stream",
     "text": [
      "Epoch [0-21], lr : [0.000007], Train Loss : [0.2993], Val Loss : [0.4244], Val F1 Score : [0.7996]\n",
      "EarlyStopping counter: 3 out of 12\n",
      "Best F1 score from now: 0.8030769288685032\n"
     ]
    },
    {
     "data": {
      "text/plain": "Train Loop:   0%|          | 0/296 [00:00<?, ?it/s]",
      "application/vnd.jupyter.widget-view+json": {
       "version_major": 2,
       "version_minor": 0,
       "model_id": "72780db664e64fee9c58ef7e288b550c"
      }
     },
     "metadata": {},
     "output_type": "display_data"
    },
    {
     "name": "stdout",
     "output_type": "stream",
     "text": [
      "**Epoch [0-22], lr : [0.000004], Train Loss : [0.2551], Val Loss : [0.4249], Val F1 Score : [0.8033]\n"
     ]
    },
    {
     "data": {
      "text/plain": "Train Loop:   0%|          | 0/296 [00:00<?, ?it/s]",
      "application/vnd.jupyter.widget-view+json": {
       "version_major": 2,
       "version_minor": 0,
       "model_id": "281b169e22b249178c7c4d17fc3973d1"
      }
     },
     "metadata": {},
     "output_type": "display_data"
    },
    {
     "name": "stdout",
     "output_type": "stream",
     "text": [
      "**Epoch [0-23], lr : [0.000001], Train Loss : [0.2453], Val Loss : [0.4035], Val F1 Score : [0.8181]\n"
     ]
    },
    {
     "data": {
      "text/plain": "Train Loop:   0%|          | 0/296 [00:00<?, ?it/s]",
      "application/vnd.jupyter.widget-view+json": {
       "version_major": 2,
       "version_minor": 0,
       "model_id": "6bb262498387400d81ae53be3d80da0a"
      }
     },
     "metadata": {},
     "output_type": "display_data"
    },
    {
     "name": "stdout",
     "output_type": "stream",
     "text": [
      "Epoch [0-24], lr : [0.000001], Train Loss : [0.2678], Val Loss : [0.4132], Val F1 Score : [0.7957]\n",
      "EarlyStopping counter: 1 out of 12\n",
      "Best F1 score from now: 0.81813814467561\n"
     ]
    },
    {
     "data": {
      "text/plain": "Train Loop:   0%|          | 0/296 [00:00<?, ?it/s]",
      "application/vnd.jupyter.widget-view+json": {
       "version_major": 2,
       "version_minor": 0,
       "model_id": "b48d003f231547b69823f90512ed5a1a"
      }
     },
     "metadata": {},
     "output_type": "display_data"
    },
    {
     "name": "stdout",
     "output_type": "stream",
     "text": [
      "Epoch [0-25], lr : [0.000006], Train Loss : [0.2358], Val Loss : [0.4246], Val F1 Score : [0.7861]\n",
      "EarlyStopping counter: 2 out of 12\n",
      "Best F1 score from now: 0.81813814467561\n"
     ]
    },
    {
     "data": {
      "text/plain": "Train Loop:   0%|          | 0/296 [00:00<?, ?it/s]",
      "application/vnd.jupyter.widget-view+json": {
       "version_major": 2,
       "version_minor": 0,
       "model_id": "ec5cc6892d4640288b5907e5a05f17cb"
      }
     },
     "metadata": {},
     "output_type": "display_data"
    },
    {
     "name": "stdout",
     "output_type": "stream",
     "text": [
      "Epoch [0-26], lr : [0.000005], Train Loss : [0.2543], Val Loss : [0.3851], Val F1 Score : [0.7946]\n",
      "EarlyStopping counter: 3 out of 12\n",
      "Best F1 score from now: 0.81813814467561\n"
     ]
    },
    {
     "data": {
      "text/plain": "Train Loop:   0%|          | 0/296 [00:00<?, ?it/s]",
      "application/vnd.jupyter.widget-view+json": {
       "version_major": 2,
       "version_minor": 0,
       "model_id": "f7e875078e3a4d36b827124c80347688"
      }
     },
     "metadata": {},
     "output_type": "display_data"
    },
    {
     "name": "stdout",
     "output_type": "stream",
     "text": [
      "Epoch [0-27], lr : [0.000004], Train Loss : [0.2353], Val Loss : [0.3845], Val F1 Score : [0.8165]\n",
      "EarlyStopping counter: 4 out of 12\n",
      "Best F1 score from now: 0.81813814467561\n"
     ]
    },
    {
     "data": {
      "text/plain": "Train Loop:   0%|          | 0/296 [00:00<?, ?it/s]",
      "application/vnd.jupyter.widget-view+json": {
       "version_major": 2,
       "version_minor": 0,
       "model_id": "7ca15c060914438a97048151e513523a"
      }
     },
     "metadata": {},
     "output_type": "display_data"
    },
    {
     "name": "stdout",
     "output_type": "stream",
     "text": [
      "Epoch [0-28], lr : [0.000002], Train Loss : [0.2432], Val Loss : [0.3718], Val F1 Score : [0.8150]\n",
      "EarlyStopping counter: 5 out of 12\n",
      "Best F1 score from now: 0.81813814467561\n"
     ]
    },
    {
     "data": {
      "text/plain": "Train Loop:   0%|          | 0/296 [00:00<?, ?it/s]",
      "application/vnd.jupyter.widget-view+json": {
       "version_major": 2,
       "version_minor": 0,
       "model_id": "491afaac1312496f906072ca71a1cb49"
      }
     },
     "metadata": {},
     "output_type": "display_data"
    },
    {
     "name": "stdout",
     "output_type": "stream",
     "text": [
      "Epoch [0-29], lr : [0.000001], Train Loss : [0.2407], Val Loss : [0.4095], Val F1 Score : [0.8163]\n",
      "EarlyStopping counter: 6 out of 12\n",
      "Best F1 score from now: 0.81813814467561\n"
     ]
    },
    {
     "data": {
      "text/plain": "Train Loop:   0%|          | 0/296 [00:00<?, ?it/s]",
      "application/vnd.jupyter.widget-view+json": {
       "version_major": 2,
       "version_minor": 0,
       "model_id": "1ca6be7bd6c441328f12eef5934ed314"
      }
     },
     "metadata": {},
     "output_type": "display_data"
    },
    {
     "name": "stdout",
     "output_type": "stream",
     "text": [
      "Epoch [0-30], lr : [0.000001], Train Loss : [0.2456], Val Loss : [0.3951], Val F1 Score : [0.8141]\n",
      "EarlyStopping counter: 7 out of 12\n",
      "Best F1 score from now: 0.81813814467561\n"
     ]
    },
    {
     "data": {
      "text/plain": "Train Loop:   0%|          | 0/296 [00:00<?, ?it/s]",
      "application/vnd.jupyter.widget-view+json": {
       "version_major": 2,
       "version_minor": 0,
       "model_id": "42f50e2de61b4a07bf2b708f32bef6af"
      }
     },
     "metadata": {},
     "output_type": "display_data"
    },
    {
     "name": "stdout",
     "output_type": "stream",
     "text": [
      "Epoch [0-31], lr : [0.000005], Train Loss : [0.2435], Val Loss : [0.4306], Val F1 Score : [0.7997]\n",
      "EarlyStopping counter: 8 out of 12\n",
      "Best F1 score from now: 0.81813814467561\n"
     ]
    },
    {
     "data": {
      "text/plain": "Train Loop:   0%|          | 0/296 [00:00<?, ?it/s]",
      "application/vnd.jupyter.widget-view+json": {
       "version_major": 2,
       "version_minor": 0,
       "model_id": "9f0718b2b8db4f6496e38796e70c6e90"
      }
     },
     "metadata": {},
     "output_type": "display_data"
    },
    {
     "name": "stdout",
     "output_type": "stream",
     "text": [
      "Epoch [0-32], lr : [0.000004], Train Loss : [0.2562], Val Loss : [0.3964], Val F1 Score : [0.8129]\n",
      "EarlyStopping counter: 9 out of 12\n",
      "Best F1 score from now: 0.81813814467561\n"
     ]
    },
    {
     "data": {
      "text/plain": "Train Loop:   0%|          | 0/296 [00:00<?, ?it/s]",
      "application/vnd.jupyter.widget-view+json": {
       "version_major": 2,
       "version_minor": 0,
       "model_id": "10b5980d7e35425a9b36aeef0ece8e04"
      }
     },
     "metadata": {},
     "output_type": "display_data"
    },
    {
     "name": "stdout",
     "output_type": "stream",
     "text": [
      "Epoch [0-33], lr : [0.000003], Train Loss : [0.2196], Val Loss : [0.4097], Val F1 Score : [0.8077]\n",
      "EarlyStopping counter: 10 out of 12\n",
      "Best F1 score from now: 0.81813814467561\n"
     ]
    },
    {
     "data": {
      "text/plain": "Train Loop:   0%|          | 0/296 [00:00<?, ?it/s]",
      "application/vnd.jupyter.widget-view+json": {
       "version_major": 2,
       "version_minor": 0,
       "model_id": "2450ca447e564f8c97d846c2b1558020"
      }
     },
     "metadata": {},
     "output_type": "display_data"
    },
    {
     "name": "stdout",
     "output_type": "stream",
     "text": [
      "**Epoch [0-34], lr : [0.000002], Train Loss : [0.2236], Val Loss : [0.3967], Val F1 Score : [0.8213]\n"
     ]
    },
    {
     "data": {
      "text/plain": "Train Loop:   0%|          | 0/296 [00:00<?, ?it/s]",
      "application/vnd.jupyter.widget-view+json": {
       "version_major": 2,
       "version_minor": 0,
       "model_id": "3eff0ea20cfc46dd89756fe6c62575e4"
      }
     },
     "metadata": {},
     "output_type": "display_data"
    },
    {
     "name": "stdout",
     "output_type": "stream",
     "text": [
      "Epoch [0-35], lr : [0.000001], Train Loss : [0.2191], Val Loss : [0.4213], Val F1 Score : [0.7957]\n",
      "EarlyStopping counter: 1 out of 12\n",
      "Best F1 score from now: 0.8213314141052424\n"
     ]
    },
    {
     "data": {
      "text/plain": "Train Loop:   0%|          | 0/296 [00:00<?, ?it/s]",
      "application/vnd.jupyter.widget-view+json": {
       "version_major": 2,
       "version_minor": 0,
       "model_id": "ebc179d1fc9c4c63bbcb74758ac0d104"
      }
     },
     "metadata": {},
     "output_type": "display_data"
    },
    {
     "name": "stdout",
     "output_type": "stream",
     "text": [
      "**Epoch [0-36], lr : [0.000001], Train Loss : [0.2117], Val Loss : [0.4140], Val F1 Score : [0.8261]\n"
     ]
    },
    {
     "data": {
      "text/plain": "Train Loop:   0%|          | 0/296 [00:00<?, ?it/s]",
      "application/vnd.jupyter.widget-view+json": {
       "version_major": 2,
       "version_minor": 0,
       "model_id": "f205e427929b4354aa475a017faceb67"
      }
     },
     "metadata": {},
     "output_type": "display_data"
    },
    {
     "name": "stdout",
     "output_type": "stream",
     "text": [
      "Epoch [0-37], lr : [0.000005], Train Loss : [0.2390], Val Loss : [0.4094], Val F1 Score : [0.8104]\n",
      "EarlyStopping counter: 1 out of 12\n",
      "Best F1 score from now: 0.8260691106226179\n"
     ]
    },
    {
     "data": {
      "text/plain": "Train Loop:   0%|          | 0/296 [00:00<?, ?it/s]",
      "application/vnd.jupyter.widget-view+json": {
       "version_major": 2,
       "version_minor": 0,
       "model_id": "b974aedbba574530997774e4d5c90581"
      }
     },
     "metadata": {},
     "output_type": "display_data"
    },
    {
     "name": "stdout",
     "output_type": "stream",
     "text": [
      "Epoch [0-38], lr : [0.000004], Train Loss : [0.2617], Val Loss : [0.4177], Val F1 Score : [0.8116]\n",
      "EarlyStopping counter: 2 out of 12\n",
      "Best F1 score from now: 0.8260691106226179\n"
     ]
    },
    {
     "data": {
      "text/plain": "Train Loop:   0%|          | 0/296 [00:00<?, ?it/s]",
      "application/vnd.jupyter.widget-view+json": {
       "version_major": 2,
       "version_minor": 0,
       "model_id": "6ca9154905ca411e8a1e72a2a79c0faf"
      }
     },
     "metadata": {},
     "output_type": "display_data"
    },
    {
     "name": "stdout",
     "output_type": "stream",
     "text": [
      "Epoch [0-39], lr : [0.000003], Train Loss : [0.2364], Val Loss : [0.3955], Val F1 Score : [0.8124]\n",
      "EarlyStopping counter: 3 out of 12\n",
      "Best F1 score from now: 0.8260691106226179\n"
     ]
    },
    {
     "data": {
      "text/plain": "Train Loop:   0%|          | 0/296 [00:00<?, ?it/s]",
      "application/vnd.jupyter.widget-view+json": {
       "version_major": 2,
       "version_minor": 0,
       "model_id": "73f65330649a4654835717b53ab4533e"
      }
     },
     "metadata": {},
     "output_type": "display_data"
    },
    {
     "name": "stdout",
     "output_type": "stream",
     "text": [
      "Epoch [0-40], lr : [0.000002], Train Loss : [0.2322], Val Loss : [0.4165], Val F1 Score : [0.8069]\n",
      "EarlyStopping counter: 4 out of 12\n",
      "Best F1 score from now: 0.8260691106226179\n"
     ]
    },
    {
     "data": {
      "text/plain": "Train Loop:   0%|          | 0/296 [00:00<?, ?it/s]",
      "application/vnd.jupyter.widget-view+json": {
       "version_major": 2,
       "version_minor": 0,
       "model_id": "abfbf2ad843e46a8b0506caa6ad116f2"
      }
     },
     "metadata": {},
     "output_type": "display_data"
    },
    {
     "name": "stdout",
     "output_type": "stream",
     "text": [
      "Epoch [0-41], lr : [0.000001], Train Loss : [0.2144], Val Loss : [0.3875], Val F1 Score : [0.8083]\n",
      "EarlyStopping counter: 5 out of 12\n",
      "Best F1 score from now: 0.8260691106226179\n"
     ]
    },
    {
     "data": {
      "text/plain": "Train Loop:   0%|          | 0/296 [00:00<?, ?it/s]",
      "application/vnd.jupyter.widget-view+json": {
       "version_major": 2,
       "version_minor": 0,
       "model_id": "fe0bcf81827b46a1b9f683b828e25c66"
      }
     },
     "metadata": {},
     "output_type": "display_data"
    },
    {
     "name": "stdout",
     "output_type": "stream",
     "text": [
      "Epoch [0-42], lr : [0.000001], Train Loss : [0.2087], Val Loss : [0.3949], Val F1 Score : [0.8049]\n",
      "EarlyStopping counter: 6 out of 12\n",
      "Best F1 score from now: 0.8260691106226179\n"
     ]
    },
    {
     "data": {
      "text/plain": "Train Loop:   0%|          | 0/296 [00:00<?, ?it/s]",
      "application/vnd.jupyter.widget-view+json": {
       "version_major": 2,
       "version_minor": 0,
       "model_id": "4329555eca7247f782cbc564a7d94535"
      }
     },
     "metadata": {},
     "output_type": "display_data"
    },
    {
     "name": "stdout",
     "output_type": "stream",
     "text": [
      "Epoch [0-43], lr : [0.000005], Train Loss : [0.2428], Val Loss : [0.3992], Val F1 Score : [0.8173]\n",
      "EarlyStopping counter: 7 out of 12\n",
      "Best F1 score from now: 0.8260691106226179\n"
     ]
    },
    {
     "data": {
      "text/plain": "Train Loop:   0%|          | 0/296 [00:00<?, ?it/s]",
      "application/vnd.jupyter.widget-view+json": {
       "version_major": 2,
       "version_minor": 0,
       "model_id": "604255e5d6a244a6a8df570b21d5aec7"
      }
     },
     "metadata": {},
     "output_type": "display_data"
    },
    {
     "name": "stdout",
     "output_type": "stream",
     "text": [
      "Epoch [0-44], lr : [0.000004], Train Loss : [0.2187], Val Loss : [0.4340], Val F1 Score : [0.8047]\n",
      "EarlyStopping counter: 8 out of 12\n",
      "Best F1 score from now: 0.8260691106226179\n"
     ]
    },
    {
     "data": {
      "text/plain": "Train Loop:   0%|          | 0/296 [00:00<?, ?it/s]",
      "application/vnd.jupyter.widget-view+json": {
       "version_major": 2,
       "version_minor": 0,
       "model_id": "c72b486d75c140edbf2ad199da303d87"
      }
     },
     "metadata": {},
     "output_type": "display_data"
    },
    {
     "name": "stdout",
     "output_type": "stream",
     "text": [
      "Epoch [0-45], lr : [0.000003], Train Loss : [0.2197], Val Loss : [0.3960], Val F1 Score : [0.8168]\n",
      "EarlyStopping counter: 9 out of 12\n",
      "Best F1 score from now: 0.8260691106226179\n"
     ]
    },
    {
     "data": {
      "text/plain": "Train Loop:   0%|          | 0/296 [00:00<?, ?it/s]",
      "application/vnd.jupyter.widget-view+json": {
       "version_major": 2,
       "version_minor": 0,
       "model_id": "5a532ceb38e34e7b9a1c437940714f57"
      }
     },
     "metadata": {},
     "output_type": "display_data"
    },
    {
     "name": "stdout",
     "output_type": "stream",
     "text": [
      "Epoch [0-46], lr : [0.000002], Train Loss : [0.2080], Val Loss : [0.3994], Val F1 Score : [0.8171]\n",
      "EarlyStopping counter: 10 out of 12\n",
      "Best F1 score from now: 0.8260691106226179\n"
     ]
    },
    {
     "data": {
      "text/plain": "Train Loop:   0%|          | 0/296 [00:00<?, ?it/s]",
      "application/vnd.jupyter.widget-view+json": {
       "version_major": 2,
       "version_minor": 0,
       "model_id": "5896ca2ee48942cb874bb8a96b0fed74"
      }
     },
     "metadata": {},
     "output_type": "display_data"
    },
    {
     "name": "stdout",
     "output_type": "stream",
     "text": [
      "Epoch [0-47], lr : [0.000001], Train Loss : [0.1881], Val Loss : [0.3829], Val F1 Score : [0.8211]\n",
      "EarlyStopping counter: 11 out of 12\n",
      "Best F1 score from now: 0.8260691106226179\n"
     ]
    },
    {
     "data": {
      "text/plain": "Train Loop:   0%|          | 0/296 [00:00<?, ?it/s]",
      "application/vnd.jupyter.widget-view+json": {
       "version_major": 2,
       "version_minor": 0,
       "model_id": "3828acc4e6e74e9fb25b4a617ae6cde1"
      }
     },
     "metadata": {},
     "output_type": "display_data"
    },
    {
     "name": "stdout",
     "output_type": "stream",
     "text": [
      "Epoch [0-48], lr : [0.000001], Train Loss : [0.1942], Val Loss : [0.3785], Val F1 Score : [0.8211]\n",
      "EarlyStopping counter: 12 out of 12\n",
      "Best F1 score from now: 0.8260691106226179\n",
      "Epoch [0-48], early stopping\n",
      "1-fold start\n"
     ]
    },
    {
     "data": {
      "text/plain": "Train Loop:   0%|          | 0/296 [00:00<?, ?it/s]",
      "application/vnd.jupyter.widget-view+json": {
       "version_major": 2,
       "version_minor": 0,
       "model_id": "5c7e9900a36a4baaaeae4498859e9207"
      }
     },
     "metadata": {},
     "output_type": "display_data"
    },
    {
     "name": "stdout",
     "output_type": "stream",
     "text": [
      "**Epoch [1-1], lr : [0.000095], Train Loss : [2.6530], Val Loss : [1.5553], Val F1 Score : [0.3143]\n"
     ]
    },
    {
     "data": {
      "text/plain": "Train Loop:   0%|          | 0/296 [00:00<?, ?it/s]",
      "application/vnd.jupyter.widget-view+json": {
       "version_major": 2,
       "version_minor": 0,
       "model_id": "e1a4f346786444cbb9ddeed10d85da03"
      }
     },
     "metadata": {},
     "output_type": "display_data"
    },
    {
     "name": "stdout",
     "output_type": "stream",
     "text": [
      "**Epoch [1-2], lr : [0.000078], Train Loss : [1.5878], Val Loss : [1.0434], Val F1 Score : [0.4914]\n"
     ]
    },
    {
     "data": {
      "text/plain": "Train Loop:   0%|          | 0/296 [00:00<?, ?it/s]",
      "application/vnd.jupyter.widget-view+json": {
       "version_major": 2,
       "version_minor": 0,
       "model_id": "44106b65b9ed4d3fabd83f879b265048"
      }
     },
     "metadata": {},
     "output_type": "display_data"
    },
    {
     "name": "stdout",
     "output_type": "stream",
     "text": [
      "**Epoch [1-3], lr : [0.000053], Train Loss : [1.1619], Val Loss : [0.7959], Val F1 Score : [0.6107]\n"
     ]
    },
    {
     "data": {
      "text/plain": "Train Loop:   0%|          | 0/296 [00:00<?, ?it/s]",
      "application/vnd.jupyter.widget-view+json": {
       "version_major": 2,
       "version_minor": 0,
       "model_id": "31501ec3c5314eac93a3ca53d2044035"
      }
     },
     "metadata": {},
     "output_type": "display_data"
    },
    {
     "name": "stdout",
     "output_type": "stream",
     "text": [
      "**Epoch [1-4], lr : [0.000027], Train Loss : [0.8521], Val Loss : [0.5926], Val F1 Score : [0.6997]\n"
     ]
    },
    {
     "data": {
      "text/plain": "Train Loop:   0%|          | 0/296 [00:00<?, ?it/s]",
      "application/vnd.jupyter.widget-view+json": {
       "version_major": 2,
       "version_minor": 0,
       "model_id": "bfc7ae4f0bea4d689071254592898bd2"
      }
     },
     "metadata": {},
     "output_type": "display_data"
    },
    {
     "name": "stdout",
     "output_type": "stream",
     "text": [
      "**Epoch [1-5], lr : [0.000008], Train Loss : [0.6876], Val Loss : [0.5458], Val F1 Score : [0.7122]\n"
     ]
    },
    {
     "data": {
      "text/plain": "Train Loop:   0%|          | 0/296 [00:00<?, ?it/s]",
      "application/vnd.jupyter.widget-view+json": {
       "version_major": 2,
       "version_minor": 0,
       "model_id": "2a42c367d06b45ad8190d25d6719831a"
      }
     },
     "metadata": {},
     "output_type": "display_data"
    },
    {
     "name": "stdout",
     "output_type": "stream",
     "text": [
      "**Epoch [1-6], lr : [0.000001], Train Loss : [0.5475], Val Loss : [0.4987], Val F1 Score : [0.7405]\n"
     ]
    },
    {
     "data": {
      "text/plain": "Train Loop:   0%|          | 0/296 [00:00<?, ?it/s]",
      "application/vnd.jupyter.widget-view+json": {
       "version_major": 2,
       "version_minor": 0,
       "model_id": "9d1f7077af4d4795a9d9fb0faa3529d1"
      }
     },
     "metadata": {},
     "output_type": "display_data"
    },
    {
     "name": "stdout",
     "output_type": "stream",
     "text": [
      "Epoch [1-7], lr : [0.000048], Train Loss : [0.7065], Val Loss : [0.6980], Val F1 Score : [0.6514]\n",
      "EarlyStopping counter: 1 out of 12\n",
      "Best F1 score from now: 0.7404630673082272\n"
     ]
    },
    {
     "data": {
      "text/plain": "Train Loop:   0%|          | 0/296 [00:00<?, ?it/s]",
      "application/vnd.jupyter.widget-view+json": {
       "version_major": 2,
       "version_minor": 0,
       "model_id": "499c58ab1c2a4233a888d6f41f02c34a"
      }
     },
     "metadata": {},
     "output_type": "display_data"
    },
    {
     "name": "stdout",
     "output_type": "stream",
     "text": [
      "Epoch [1-8], lr : [0.000039], Train Loss : [0.6608], Val Loss : [0.5651], Val F1 Score : [0.6893]\n",
      "EarlyStopping counter: 2 out of 12\n",
      "Best F1 score from now: 0.7404630673082272\n"
     ]
    },
    {
     "data": {
      "text/plain": "Train Loop:   0%|          | 0/296 [00:00<?, ?it/s]",
      "application/vnd.jupyter.widget-view+json": {
       "version_major": 2,
       "version_minor": 0,
       "model_id": "2e6d0e8b20a84757af964440d698295a"
      }
     },
     "metadata": {},
     "output_type": "display_data"
    },
    {
     "name": "stdout",
     "output_type": "stream",
     "text": [
      "**Epoch [1-9], lr : [0.000027], Train Loss : [0.5285], Val Loss : [0.4572], Val F1 Score : [0.7613]\n"
     ]
    },
    {
     "data": {
      "text/plain": "Train Loop:   0%|          | 0/296 [00:00<?, ?it/s]",
      "application/vnd.jupyter.widget-view+json": {
       "version_major": 2,
       "version_minor": 0,
       "model_id": "c2ac2ec4dfb34c94ab8a839bf8141f49"
      }
     },
     "metadata": {},
     "output_type": "display_data"
    },
    {
     "name": "stdout",
     "output_type": "stream",
     "text": [
      "**Epoch [1-10], lr : [0.000014], Train Loss : [0.4129], Val Loss : [0.4165], Val F1 Score : [0.7771]\n"
     ]
    },
    {
     "data": {
      "text/plain": "Train Loop:   0%|          | 0/296 [00:00<?, ?it/s]",
      "application/vnd.jupyter.widget-view+json": {
       "version_major": 2,
       "version_minor": 0,
       "model_id": "92aee23e799f432f9cabc10b9cb87b1e"
      }
     },
     "metadata": {},
     "output_type": "display_data"
    },
    {
     "name": "stdout",
     "output_type": "stream",
     "text": [
      "**Epoch [1-11], lr : [0.000004], Train Loss : [0.3624], Val Loss : [0.4481], Val F1 Score : [0.7843]\n"
     ]
    },
    {
     "data": {
      "text/plain": "Train Loop:   0%|          | 0/296 [00:00<?, ?it/s]",
      "application/vnd.jupyter.widget-view+json": {
       "version_major": 2,
       "version_minor": 0,
       "model_id": "27514ea0bc0c4e829ea7b3d0b36deb4b"
      }
     },
     "metadata": {},
     "output_type": "display_data"
    },
    {
     "name": "stdout",
     "output_type": "stream",
     "text": [
      "Epoch [1-12], lr : [0.000001], Train Loss : [0.3815], Val Loss : [0.4334], Val F1 Score : [0.7838]\n",
      "EarlyStopping counter: 1 out of 12\n",
      "Best F1 score from now: 0.7843006684426362\n"
     ]
    },
    {
     "data": {
      "text/plain": "Train Loop:   0%|          | 0/296 [00:00<?, ?it/s]",
      "application/vnd.jupyter.widget-view+json": {
       "version_major": 2,
       "version_minor": 0,
       "model_id": "502bd7e9e5834926a0bbed6b898425da"
      }
     },
     "metadata": {},
     "output_type": "display_data"
    },
    {
     "name": "stdout",
     "output_type": "stream",
     "text": [
      "Epoch [1-13], lr : [0.000024], Train Loss : [0.3516], Val Loss : [0.4550], Val F1 Score : [0.7635]\n",
      "EarlyStopping counter: 2 out of 12\n",
      "Best F1 score from now: 0.7843006684426362\n"
     ]
    },
    {
     "data": {
      "text/plain": "Train Loop:   0%|          | 0/296 [00:00<?, ?it/s]",
      "application/vnd.jupyter.widget-view+json": {
       "version_major": 2,
       "version_minor": 0,
       "model_id": "244515ec8f6a4b16810c7566a325dfc4"
      }
     },
     "metadata": {},
     "output_type": "display_data"
    },
    {
     "name": "stdout",
     "output_type": "stream",
     "text": [
      "**Epoch [1-14], lr : [0.000020], Train Loss : [0.3523], Val Loss : [0.4362], Val F1 Score : [0.7911]\n"
     ]
    },
    {
     "data": {
      "text/plain": "Train Loop:   0%|          | 0/296 [00:00<?, ?it/s]",
      "application/vnd.jupyter.widget-view+json": {
       "version_major": 2,
       "version_minor": 0,
       "model_id": "8d8f3506db094f689bffdd93a65d68a6"
      }
     },
     "metadata": {},
     "output_type": "display_data"
    },
    {
     "name": "stdout",
     "output_type": "stream",
     "text": [
      "Epoch [1-15], lr : [0.000014], Train Loss : [0.3162], Val Loss : [0.4105], Val F1 Score : [0.7904]\n",
      "EarlyStopping counter: 1 out of 12\n",
      "Best F1 score from now: 0.7910748474943979\n"
     ]
    },
    {
     "data": {
      "text/plain": "Train Loop:   0%|          | 0/296 [00:00<?, ?it/s]",
      "application/vnd.jupyter.widget-view+json": {
       "version_major": 2,
       "version_minor": 0,
       "model_id": "a105390ef16243fa832819845ed9ce74"
      }
     },
     "metadata": {},
     "output_type": "display_data"
    },
    {
     "name": "stdout",
     "output_type": "stream",
     "text": [
      "**Epoch [1-16], lr : [0.000007], Train Loss : [0.3048], Val Loss : [0.3852], Val F1 Score : [0.7960]\n"
     ]
    },
    {
     "data": {
      "text/plain": "Train Loop:   0%|          | 0/296 [00:00<?, ?it/s]",
      "application/vnd.jupyter.widget-view+json": {
       "version_major": 2,
       "version_minor": 0,
       "model_id": "76bfa33bf0284708b5e3d420e8702803"
      }
     },
     "metadata": {},
     "output_type": "display_data"
    },
    {
     "name": "stdout",
     "output_type": "stream",
     "text": [
      "Epoch [1-17], lr : [0.000002], Train Loss : [0.2774], Val Loss : [0.4143], Val F1 Score : [0.7913]\n",
      "EarlyStopping counter: 1 out of 12\n",
      "Best F1 score from now: 0.7959965171656905\n"
     ]
    },
    {
     "data": {
      "text/plain": "Train Loop:   0%|          | 0/296 [00:00<?, ?it/s]",
      "application/vnd.jupyter.widget-view+json": {
       "version_major": 2,
       "version_minor": 0,
       "model_id": "6dcbba41e8664b5aafbd2b7c08550926"
      }
     },
     "metadata": {},
     "output_type": "display_data"
    },
    {
     "name": "stdout",
     "output_type": "stream",
     "text": [
      "**Epoch [1-18], lr : [0.000001], Train Loss : [0.2743], Val Loss : [0.4120], Val F1 Score : [0.8063]\n"
     ]
    },
    {
     "data": {
      "text/plain": "Train Loop:   0%|          | 0/296 [00:00<?, ?it/s]",
      "application/vnd.jupyter.widget-view+json": {
       "version_major": 2,
       "version_minor": 0,
       "model_id": "14b6656ffe3349298b417e9b288ab03d"
      }
     },
     "metadata": {},
     "output_type": "display_data"
    },
    {
     "name": "stdout",
     "output_type": "stream",
     "text": [
      "Epoch [1-19], lr : [0.000012], Train Loss : [0.2971], Val Loss : [0.4143], Val F1 Score : [0.7848]\n",
      "EarlyStopping counter: 1 out of 12\n",
      "Best F1 score from now: 0.806278659110037\n"
     ]
    },
    {
     "data": {
      "text/plain": "Train Loop:   0%|          | 0/296 [00:00<?, ?it/s]",
      "application/vnd.jupyter.widget-view+json": {
       "version_major": 2,
       "version_minor": 0,
       "model_id": "acf6fbc995c64223ac5b2b92f12c3cfd"
      }
     },
     "metadata": {},
     "output_type": "display_data"
    },
    {
     "name": "stdout",
     "output_type": "stream",
     "text": [
      "Epoch [1-20], lr : [0.000010], Train Loss : [0.2925], Val Loss : [0.4335], Val F1 Score : [0.7867]\n",
      "EarlyStopping counter: 2 out of 12\n",
      "Best F1 score from now: 0.806278659110037\n"
     ]
    },
    {
     "data": {
      "text/plain": "Train Loop:   0%|          | 0/296 [00:00<?, ?it/s]",
      "application/vnd.jupyter.widget-view+json": {
       "version_major": 2,
       "version_minor": 0,
       "model_id": "d4d7c95d0359431391db75e7ff60288a"
      }
     },
     "metadata": {},
     "output_type": "display_data"
    },
    {
     "name": "stdout",
     "output_type": "stream",
     "text": [
      "Epoch [1-21], lr : [0.000007], Train Loss : [0.2741], Val Loss : [0.3978], Val F1 Score : [0.7965]\n",
      "EarlyStopping counter: 3 out of 12\n",
      "Best F1 score from now: 0.806278659110037\n"
     ]
    },
    {
     "data": {
      "text/plain": "Train Loop:   0%|          | 0/296 [00:00<?, ?it/s]",
      "application/vnd.jupyter.widget-view+json": {
       "version_major": 2,
       "version_minor": 0,
       "model_id": "dbf25bdc08b9486e94fdb72f6327e474"
      }
     },
     "metadata": {},
     "output_type": "display_data"
    },
    {
     "name": "stdout",
     "output_type": "stream",
     "text": [
      "Epoch [1-22], lr : [0.000004], Train Loss : [0.2513], Val Loss : [0.4150], Val F1 Score : [0.7855]\n",
      "EarlyStopping counter: 4 out of 12\n",
      "Best F1 score from now: 0.806278659110037\n"
     ]
    },
    {
     "data": {
      "text/plain": "Train Loop:   0%|          | 0/296 [00:00<?, ?it/s]",
      "application/vnd.jupyter.widget-view+json": {
       "version_major": 2,
       "version_minor": 0,
       "model_id": "6b6910f4e1be473496ed981d15566041"
      }
     },
     "metadata": {},
     "output_type": "display_data"
    },
    {
     "name": "stdout",
     "output_type": "stream",
     "text": [
      "Epoch [1-23], lr : [0.000001], Train Loss : [0.2476], Val Loss : [0.3953], Val F1 Score : [0.7953]\n",
      "EarlyStopping counter: 5 out of 12\n",
      "Best F1 score from now: 0.806278659110037\n"
     ]
    },
    {
     "data": {
      "text/plain": "Train Loop:   0%|          | 0/296 [00:00<?, ?it/s]",
      "application/vnd.jupyter.widget-view+json": {
       "version_major": 2,
       "version_minor": 0,
       "model_id": "d9a17570d92b4b6b8cbb3a8f6e91d1ed"
      }
     },
     "metadata": {},
     "output_type": "display_data"
    },
    {
     "name": "stdout",
     "output_type": "stream",
     "text": [
      "Epoch [1-24], lr : [0.000001], Train Loss : [0.2441], Val Loss : [0.3782], Val F1 Score : [0.7944]\n",
      "EarlyStopping counter: 6 out of 12\n",
      "Best F1 score from now: 0.806278659110037\n"
     ]
    },
    {
     "data": {
      "text/plain": "Train Loop:   0%|          | 0/296 [00:00<?, ?it/s]",
      "application/vnd.jupyter.widget-view+json": {
       "version_major": 2,
       "version_minor": 0,
       "model_id": "5cf0ce29763a468ca58d375ec815c1d1"
      }
     },
     "metadata": {},
     "output_type": "display_data"
    },
    {
     "name": "stdout",
     "output_type": "stream",
     "text": [
      "Epoch [1-25], lr : [0.000006], Train Loss : [0.2371], Val Loss : [0.4232], Val F1 Score : [0.7944]\n",
      "EarlyStopping counter: 7 out of 12\n",
      "Best F1 score from now: 0.806278659110037\n"
     ]
    },
    {
     "data": {
      "text/plain": "Train Loop:   0%|          | 0/296 [00:00<?, ?it/s]",
      "application/vnd.jupyter.widget-view+json": {
       "version_major": 2,
       "version_minor": 0,
       "model_id": "b979c47a761e436b93454961a4b3859d"
      }
     },
     "metadata": {},
     "output_type": "display_data"
    },
    {
     "name": "stdout",
     "output_type": "stream",
     "text": [
      "**Epoch [1-26], lr : [0.000005], Train Loss : [0.2399], Val Loss : [0.3797], Val F1 Score : [0.8114]\n"
     ]
    },
    {
     "data": {
      "text/plain": "Train Loop:   0%|          | 0/296 [00:00<?, ?it/s]",
      "application/vnd.jupyter.widget-view+json": {
       "version_major": 2,
       "version_minor": 0,
       "model_id": "3392114795854aeead007376bd566bf2"
      }
     },
     "metadata": {},
     "output_type": "display_data"
    },
    {
     "name": "stdout",
     "output_type": "stream",
     "text": [
      "Epoch [1-27], lr : [0.000004], Train Loss : [0.2212], Val Loss : [0.4086], Val F1 Score : [0.7955]\n",
      "EarlyStopping counter: 1 out of 12\n",
      "Best F1 score from now: 0.8113807361103063\n"
     ]
    },
    {
     "data": {
      "text/plain": "Train Loop:   0%|          | 0/296 [00:00<?, ?it/s]",
      "application/vnd.jupyter.widget-view+json": {
       "version_major": 2,
       "version_minor": 0,
       "model_id": "a7f837951c8745a8aeee096d19aa7e3d"
      }
     },
     "metadata": {},
     "output_type": "display_data"
    },
    {
     "name": "stdout",
     "output_type": "stream",
     "text": [
      "Epoch [1-28], lr : [0.000002], Train Loss : [0.2296], Val Loss : [0.3934], Val F1 Score : [0.8063]\n",
      "EarlyStopping counter: 2 out of 12\n",
      "Best F1 score from now: 0.8113807361103063\n"
     ]
    },
    {
     "data": {
      "text/plain": "Train Loop:   0%|          | 0/296 [00:00<?, ?it/s]",
      "application/vnd.jupyter.widget-view+json": {
       "version_major": 2,
       "version_minor": 0,
       "model_id": "addd9f59ec3f4494943124acc50f3c5e"
      }
     },
     "metadata": {},
     "output_type": "display_data"
    },
    {
     "name": "stdout",
     "output_type": "stream",
     "text": [
      "Epoch [1-29], lr : [0.000001], Train Loss : [0.2135], Val Loss : [0.3962], Val F1 Score : [0.8087]\n",
      "EarlyStopping counter: 3 out of 12\n",
      "Best F1 score from now: 0.8113807361103063\n"
     ]
    },
    {
     "data": {
      "text/plain": "Train Loop:   0%|          | 0/296 [00:00<?, ?it/s]",
      "application/vnd.jupyter.widget-view+json": {
       "version_major": 2,
       "version_minor": 0,
       "model_id": "cb9cedff060b4889a37e5074b9e88608"
      }
     },
     "metadata": {},
     "output_type": "display_data"
    },
    {
     "name": "stdout",
     "output_type": "stream",
     "text": [
      "Epoch [1-30], lr : [0.000001], Train Loss : [0.2388], Val Loss : [0.4294], Val F1 Score : [0.7929]\n",
      "EarlyStopping counter: 4 out of 12\n",
      "Best F1 score from now: 0.8113807361103063\n"
     ]
    },
    {
     "data": {
      "text/plain": "Train Loop:   0%|          | 0/296 [00:00<?, ?it/s]",
      "application/vnd.jupyter.widget-view+json": {
       "version_major": 2,
       "version_minor": 0,
       "model_id": "328aaeb516424400993c277cc7709baa"
      }
     },
     "metadata": {},
     "output_type": "display_data"
    },
    {
     "name": "stdout",
     "output_type": "stream",
     "text": [
      "Epoch [1-31], lr : [0.000005], Train Loss : [0.2362], Val Loss : [0.4146], Val F1 Score : [0.7888]\n",
      "EarlyStopping counter: 5 out of 12\n",
      "Best F1 score from now: 0.8113807361103063\n"
     ]
    },
    {
     "data": {
      "text/plain": "Train Loop:   0%|          | 0/296 [00:00<?, ?it/s]",
      "application/vnd.jupyter.widget-view+json": {
       "version_major": 2,
       "version_minor": 0,
       "model_id": "1e890ad56eca4c3fb70762222aaf938a"
      }
     },
     "metadata": {},
     "output_type": "display_data"
    },
    {
     "name": "stdout",
     "output_type": "stream",
     "text": [
      "**Epoch [1-32], lr : [0.000004], Train Loss : [0.2470], Val Loss : [0.4011], Val F1 Score : [0.8167]\n"
     ]
    },
    {
     "data": {
      "text/plain": "Train Loop:   0%|          | 0/296 [00:00<?, ?it/s]",
      "application/vnd.jupyter.widget-view+json": {
       "version_major": 2,
       "version_minor": 0,
       "model_id": "e8f9b9e66d6140d3a92c91f3d3a4b557"
      }
     },
     "metadata": {},
     "output_type": "display_data"
    },
    {
     "name": "stdout",
     "output_type": "stream",
     "text": [
      "Epoch [1-33], lr : [0.000003], Train Loss : [0.2133], Val Loss : [0.4042], Val F1 Score : [0.8020]\n",
      "EarlyStopping counter: 1 out of 12\n",
      "Best F1 score from now: 0.8167295195894418\n"
     ]
    },
    {
     "data": {
      "text/plain": "Train Loop:   0%|          | 0/296 [00:00<?, ?it/s]",
      "application/vnd.jupyter.widget-view+json": {
       "version_major": 2,
       "version_minor": 0,
       "model_id": "f155e226dca94a99a21bdef574171f9b"
      }
     },
     "metadata": {},
     "output_type": "display_data"
    },
    {
     "name": "stdout",
     "output_type": "stream",
     "text": [
      "Epoch [1-34], lr : [0.000002], Train Loss : [0.2230], Val Loss : [0.3864], Val F1 Score : [0.7885]\n",
      "EarlyStopping counter: 2 out of 12\n",
      "Best F1 score from now: 0.8167295195894418\n"
     ]
    },
    {
     "data": {
      "text/plain": "Train Loop:   0%|          | 0/296 [00:00<?, ?it/s]",
      "application/vnd.jupyter.widget-view+json": {
       "version_major": 2,
       "version_minor": 0,
       "model_id": "f5949d8293c445dfb4fb1247ac9c7d40"
      }
     },
     "metadata": {},
     "output_type": "display_data"
    },
    {
     "name": "stdout",
     "output_type": "stream",
     "text": [
      "**Epoch [1-35], lr : [0.000001], Train Loss : [0.2059], Val Loss : [0.4025], Val F1 Score : [0.8217]\n"
     ]
    },
    {
     "data": {
      "text/plain": "Train Loop:   0%|          | 0/296 [00:00<?, ?it/s]",
      "application/vnd.jupyter.widget-view+json": {
       "version_major": 2,
       "version_minor": 0,
       "model_id": "723086120deb4444b83311ca8f53b930"
      }
     },
     "metadata": {},
     "output_type": "display_data"
    },
    {
     "name": "stdout",
     "output_type": "stream",
     "text": [
      "Epoch [1-36], lr : [0.000001], Train Loss : [0.2015], Val Loss : [0.4062], Val F1 Score : [0.8134]\n",
      "EarlyStopping counter: 1 out of 12\n",
      "Best F1 score from now: 0.8216978480201165\n"
     ]
    },
    {
     "data": {
      "text/plain": "Train Loop:   0%|          | 0/296 [00:00<?, ?it/s]",
      "application/vnd.jupyter.widget-view+json": {
       "version_major": 2,
       "version_minor": 0,
       "model_id": "fedbd0536d5249a5a379447b4c82e3fc"
      }
     },
     "metadata": {},
     "output_type": "display_data"
    },
    {
     "name": "stdout",
     "output_type": "stream",
     "text": [
      "Epoch [1-37], lr : [0.000005], Train Loss : [0.2085], Val Loss : [0.4200], Val F1 Score : [0.7943]\n",
      "EarlyStopping counter: 2 out of 12\n",
      "Best F1 score from now: 0.8216978480201165\n"
     ]
    },
    {
     "data": {
      "text/plain": "Train Loop:   0%|          | 0/296 [00:00<?, ?it/s]",
      "application/vnd.jupyter.widget-view+json": {
       "version_major": 2,
       "version_minor": 0,
       "model_id": "f4c22c5ece4a481bb2731b068834d65f"
      }
     },
     "metadata": {},
     "output_type": "display_data"
    },
    {
     "name": "stdout",
     "output_type": "stream",
     "text": [
      "**Epoch [1-38], lr : [0.000004], Train Loss : [0.2098], Val Loss : [0.3801], Val F1 Score : [0.8221]\n"
     ]
    },
    {
     "data": {
      "text/plain": "Train Loop:   0%|          | 0/296 [00:00<?, ?it/s]",
      "application/vnd.jupyter.widget-view+json": {
       "version_major": 2,
       "version_minor": 0,
       "model_id": "d7a689074d4c4a11b6abd984b39e072a"
      }
     },
     "metadata": {},
     "output_type": "display_data"
    },
    {
     "name": "stdout",
     "output_type": "stream",
     "text": [
      "Epoch [1-39], lr : [0.000003], Train Loss : [0.2036], Val Loss : [0.4297], Val F1 Score : [0.8061]\n",
      "EarlyStopping counter: 1 out of 12\n",
      "Best F1 score from now: 0.8221449151974989\n"
     ]
    },
    {
     "data": {
      "text/plain": "Train Loop:   0%|          | 0/296 [00:00<?, ?it/s]",
      "application/vnd.jupyter.widget-view+json": {
       "version_major": 2,
       "version_minor": 0,
       "model_id": "6d58a6ad3ad4425ba3531b0d40d1f761"
      }
     },
     "metadata": {},
     "output_type": "display_data"
    },
    {
     "name": "stdout",
     "output_type": "stream",
     "text": [
      "Epoch [1-40], lr : [0.000002], Train Loss : [0.2056], Val Loss : [0.3967], Val F1 Score : [0.8157]\n",
      "EarlyStopping counter: 2 out of 12\n",
      "Best F1 score from now: 0.8221449151974989\n"
     ]
    },
    {
     "data": {
      "text/plain": "Train Loop:   0%|          | 0/296 [00:00<?, ?it/s]",
      "application/vnd.jupyter.widget-view+json": {
       "version_major": 2,
       "version_minor": 0,
       "model_id": "52688c45825c4ce3be6249c2435b81e2"
      }
     },
     "metadata": {},
     "output_type": "display_data"
    },
    {
     "name": "stdout",
     "output_type": "stream",
     "text": [
      "Epoch [1-41], lr : [0.000001], Train Loss : [0.2011], Val Loss : [0.3996], Val F1 Score : [0.8046]\n",
      "EarlyStopping counter: 3 out of 12\n",
      "Best F1 score from now: 0.8221449151974989\n"
     ]
    },
    {
     "data": {
      "text/plain": "Train Loop:   0%|          | 0/296 [00:00<?, ?it/s]",
      "application/vnd.jupyter.widget-view+json": {
       "version_major": 2,
       "version_minor": 0,
       "model_id": "d90317491280415f9fbc7808d2cf333f"
      }
     },
     "metadata": {},
     "output_type": "display_data"
    },
    {
     "name": "stdout",
     "output_type": "stream",
     "text": [
      "Epoch [1-42], lr : [0.000001], Train Loss : [0.1958], Val Loss : [0.3889], Val F1 Score : [0.8156]\n",
      "EarlyStopping counter: 4 out of 12\n",
      "Best F1 score from now: 0.8221449151974989\n"
     ]
    },
    {
     "data": {
      "text/plain": "Train Loop:   0%|          | 0/296 [00:00<?, ?it/s]",
      "application/vnd.jupyter.widget-view+json": {
       "version_major": 2,
       "version_minor": 0,
       "model_id": "09bf7d8e4e8f40c5ba15db38bd5cd23f"
      }
     },
     "metadata": {},
     "output_type": "display_data"
    },
    {
     "name": "stdout",
     "output_type": "stream",
     "text": [
      "Epoch [1-43], lr : [0.000005], Train Loss : [0.1703], Val Loss : [0.4105], Val F1 Score : [0.8050]\n",
      "EarlyStopping counter: 5 out of 12\n",
      "Best F1 score from now: 0.8221449151974989\n"
     ]
    },
    {
     "data": {
      "text/plain": "Train Loop:   0%|          | 0/296 [00:00<?, ?it/s]",
      "application/vnd.jupyter.widget-view+json": {
       "version_major": 2,
       "version_minor": 0,
       "model_id": "e695912d8f564faea9ef224f24b7f526"
      }
     },
     "metadata": {},
     "output_type": "display_data"
    },
    {
     "name": "stdout",
     "output_type": "stream",
     "text": [
      "**Epoch [1-44], lr : [0.000004], Train Loss : [0.1957], Val Loss : [0.3691], Val F1 Score : [0.8332]\n"
     ]
    },
    {
     "data": {
      "text/plain": "Train Loop:   0%|          | 0/296 [00:00<?, ?it/s]",
      "application/vnd.jupyter.widget-view+json": {
       "version_major": 2,
       "version_minor": 0,
       "model_id": "7e3e639d9d014b82b82c8cb4525923d3"
      }
     },
     "metadata": {},
     "output_type": "display_data"
    },
    {
     "name": "stdout",
     "output_type": "stream",
     "text": [
      "Epoch [1-45], lr : [0.000003], Train Loss : [0.2048], Val Loss : [0.3905], Val F1 Score : [0.8104]\n",
      "EarlyStopping counter: 1 out of 12\n",
      "Best F1 score from now: 0.8332379814821277\n"
     ]
    },
    {
     "data": {
      "text/plain": "Train Loop:   0%|          | 0/296 [00:00<?, ?it/s]",
      "application/vnd.jupyter.widget-view+json": {
       "version_major": 2,
       "version_minor": 0,
       "model_id": "e369d75b587741288a064eccac6e59a1"
      }
     },
     "metadata": {},
     "output_type": "display_data"
    },
    {
     "name": "stdout",
     "output_type": "stream",
     "text": [
      "Epoch [1-46], lr : [0.000002], Train Loss : [0.1881], Val Loss : [0.4111], Val F1 Score : [0.8071]\n",
      "EarlyStopping counter: 2 out of 12\n",
      "Best F1 score from now: 0.8332379814821277\n"
     ]
    },
    {
     "data": {
      "text/plain": "Train Loop:   0%|          | 0/296 [00:00<?, ?it/s]",
      "application/vnd.jupyter.widget-view+json": {
       "version_major": 2,
       "version_minor": 0,
       "model_id": "b0995fcf4a7145928f95378afa273663"
      }
     },
     "metadata": {},
     "output_type": "display_data"
    },
    {
     "name": "stdout",
     "output_type": "stream",
     "text": [
      "Epoch [1-47], lr : [0.000001], Train Loss : [0.2064], Val Loss : [0.3826], Val F1 Score : [0.8145]\n",
      "EarlyStopping counter: 3 out of 12\n",
      "Best F1 score from now: 0.8332379814821277\n"
     ]
    },
    {
     "data": {
      "text/plain": "Train Loop:   0%|          | 0/296 [00:00<?, ?it/s]",
      "application/vnd.jupyter.widget-view+json": {
       "version_major": 2,
       "version_minor": 0,
       "model_id": "15c9b6851e7b44af9170470e0f7dbc61"
      }
     },
     "metadata": {},
     "output_type": "display_data"
    },
    {
     "name": "stdout",
     "output_type": "stream",
     "text": [
      "Epoch [1-48], lr : [0.000001], Train Loss : [0.2023], Val Loss : [0.3788], Val F1 Score : [0.8137]\n",
      "EarlyStopping counter: 4 out of 12\n",
      "Best F1 score from now: 0.8332379814821277\n"
     ]
    },
    {
     "data": {
      "text/plain": "Train Loop:   0%|          | 0/296 [00:00<?, ?it/s]",
      "application/vnd.jupyter.widget-view+json": {
       "version_major": 2,
       "version_minor": 0,
       "model_id": "abf78f4774bc4c4bb1beadf3b1638b0b"
      }
     },
     "metadata": {},
     "output_type": "display_data"
    },
    {
     "name": "stdout",
     "output_type": "stream",
     "text": [
      "Epoch [1-49], lr : [0.000005], Train Loss : [0.1888], Val Loss : [0.4091], Val F1 Score : [0.7939]\n",
      "EarlyStopping counter: 5 out of 12\n",
      "Best F1 score from now: 0.8332379814821277\n"
     ]
    },
    {
     "data": {
      "text/plain": "Train Loop:   0%|          | 0/296 [00:00<?, ?it/s]",
      "application/vnd.jupyter.widget-view+json": {
       "version_major": 2,
       "version_minor": 0,
       "model_id": "5d1a70e2cbd449ed8a80c35f40efaa06"
      }
     },
     "metadata": {},
     "output_type": "display_data"
    },
    {
     "name": "stdout",
     "output_type": "stream",
     "text": [
      "Epoch [1-50], lr : [0.000004], Train Loss : [0.1559], Val Loss : [0.4098], Val F1 Score : [0.8199]\n",
      "EarlyStopping counter: 6 out of 12\n",
      "Best F1 score from now: 0.8332379814821277\n"
     ]
    },
    {
     "data": {
      "text/plain": "Train Loop:   0%|          | 0/296 [00:00<?, ?it/s]",
      "application/vnd.jupyter.widget-view+json": {
       "version_major": 2,
       "version_minor": 0,
       "model_id": "8f7eac634c1544989f494d14ba5d8297"
      }
     },
     "metadata": {},
     "output_type": "display_data"
    },
    {
     "name": "stdout",
     "output_type": "stream",
     "text": [
      "Epoch [1-51], lr : [0.000003], Train Loss : [0.1863], Val Loss : [0.3947], Val F1 Score : [0.8101]\n",
      "EarlyStopping counter: 7 out of 12\n",
      "Best F1 score from now: 0.8332379814821277\n"
     ]
    },
    {
     "data": {
      "text/plain": "Train Loop:   0%|          | 0/296 [00:00<?, ?it/s]",
      "application/vnd.jupyter.widget-view+json": {
       "version_major": 2,
       "version_minor": 0,
       "model_id": "04ec4b368b4349659a934c382fa084b3"
      }
     },
     "metadata": {},
     "output_type": "display_data"
    },
    {
     "name": "stdout",
     "output_type": "stream",
     "text": [
      "Epoch [1-52], lr : [0.000002], Train Loss : [0.1933], Val Loss : [0.4034], Val F1 Score : [0.8195]\n",
      "EarlyStopping counter: 8 out of 12\n",
      "Best F1 score from now: 0.8332379814821277\n"
     ]
    },
    {
     "data": {
      "text/plain": "Train Loop:   0%|          | 0/296 [00:00<?, ?it/s]",
      "application/vnd.jupyter.widget-view+json": {
       "version_major": 2,
       "version_minor": 0,
       "model_id": "f6e69dc19f6e4451a835b4909def284c"
      }
     },
     "metadata": {},
     "output_type": "display_data"
    },
    {
     "name": "stdout",
     "output_type": "stream",
     "text": [
      "Epoch [1-53], lr : [0.000001], Train Loss : [0.1965], Val Loss : [0.4019], Val F1 Score : [0.8124]\n",
      "EarlyStopping counter: 9 out of 12\n",
      "Best F1 score from now: 0.8332379814821277\n"
     ]
    },
    {
     "data": {
      "text/plain": "Train Loop:   0%|          | 0/296 [00:00<?, ?it/s]",
      "application/vnd.jupyter.widget-view+json": {
       "version_major": 2,
       "version_minor": 0,
       "model_id": "c428eb807276491da0325d697f0ba0aa"
      }
     },
     "metadata": {},
     "output_type": "display_data"
    },
    {
     "name": "stdout",
     "output_type": "stream",
     "text": [
      "Epoch [1-54], lr : [0.000001], Train Loss : [0.1920], Val Loss : [0.4094], Val F1 Score : [0.8074]\n",
      "EarlyStopping counter: 10 out of 12\n",
      "Best F1 score from now: 0.8332379814821277\n"
     ]
    },
    {
     "data": {
      "text/plain": "Train Loop:   0%|          | 0/296 [00:00<?, ?it/s]",
      "application/vnd.jupyter.widget-view+json": {
       "version_major": 2,
       "version_minor": 0,
       "model_id": "cdd3270988844f6da31a054f5034fb1e"
      }
     },
     "metadata": {},
     "output_type": "display_data"
    },
    {
     "name": "stdout",
     "output_type": "stream",
     "text": [
      "Epoch [1-55], lr : [0.000005], Train Loss : [0.2150], Val Loss : [0.4192], Val F1 Score : [0.8154]\n",
      "EarlyStopping counter: 11 out of 12\n",
      "Best F1 score from now: 0.8332379814821277\n"
     ]
    },
    {
     "data": {
      "text/plain": "Train Loop:   0%|          | 0/296 [00:00<?, ?it/s]",
      "application/vnd.jupyter.widget-view+json": {
       "version_major": 2,
       "version_minor": 0,
       "model_id": "4cd2004f88e04f2f841814e05b2a923b"
      }
     },
     "metadata": {},
     "output_type": "display_data"
    },
    {
     "name": "stdout",
     "output_type": "stream",
     "text": [
      "Epoch [1-56], lr : [0.000004], Train Loss : [0.1987], Val Loss : [0.3944], Val F1 Score : [0.8034]\n",
      "EarlyStopping counter: 12 out of 12\n",
      "Best F1 score from now: 0.8332379814821277\n",
      "Epoch [1-56], early stopping\n",
      "2-fold start\n"
     ]
    },
    {
     "data": {
      "text/plain": "Train Loop:   0%|          | 0/296 [00:00<?, ?it/s]",
      "application/vnd.jupyter.widget-view+json": {
       "version_major": 2,
       "version_minor": 0,
       "model_id": "12d82a3e963546c08adef9da7ebd70bc"
      }
     },
     "metadata": {},
     "output_type": "display_data"
    },
    {
     "name": "stdout",
     "output_type": "stream",
     "text": [
      "**Epoch [2-1], lr : [0.000095], Train Loss : [2.6726], Val Loss : [1.6951], Val F1 Score : [0.2716]\n"
     ]
    },
    {
     "data": {
      "text/plain": "Train Loop:   0%|          | 0/296 [00:00<?, ?it/s]",
      "application/vnd.jupyter.widget-view+json": {
       "version_major": 2,
       "version_minor": 0,
       "model_id": "e4213f6432334094baa3da5dc62b6305"
      }
     },
     "metadata": {},
     "output_type": "display_data"
    },
    {
     "name": "stdout",
     "output_type": "stream",
     "text": [
      "**Epoch [2-2], lr : [0.000078], Train Loss : [1.5972], Val Loss : [1.1518], Val F1 Score : [0.4667]\n"
     ]
    },
    {
     "data": {
      "text/plain": "Train Loop:   0%|          | 0/296 [00:00<?, ?it/s]",
      "application/vnd.jupyter.widget-view+json": {
       "version_major": 2,
       "version_minor": 0,
       "model_id": "21ef66bd166047e69c8c5b5eb1666a90"
      }
     },
     "metadata": {},
     "output_type": "display_data"
    },
    {
     "name": "stdout",
     "output_type": "stream",
     "text": [
      "**Epoch [2-3], lr : [0.000053], Train Loss : [1.1184], Val Loss : [0.7540], Val F1 Score : [0.6245]\n"
     ]
    },
    {
     "data": {
      "text/plain": "Train Loop:   0%|          | 0/296 [00:00<?, ?it/s]",
      "application/vnd.jupyter.widget-view+json": {
       "version_major": 2,
       "version_minor": 0,
       "model_id": "81f69a5c67aa4ceea48aaa4d72811a39"
      }
     },
     "metadata": {},
     "output_type": "display_data"
    },
    {
     "name": "stdout",
     "output_type": "stream",
     "text": [
      "**Epoch [2-4], lr : [0.000027], Train Loss : [0.8582], Val Loss : [0.6328], Val F1 Score : [0.6717]\n"
     ]
    },
    {
     "data": {
      "text/plain": "Train Loop:   0%|          | 0/296 [00:00<?, ?it/s]",
      "application/vnd.jupyter.widget-view+json": {
       "version_major": 2,
       "version_minor": 0,
       "model_id": "74d4c756e6c84325bfa2ae50d2ef879b"
      }
     },
     "metadata": {},
     "output_type": "display_data"
    },
    {
     "name": "stdout",
     "output_type": "stream",
     "text": [
      "**Epoch [2-5], lr : [0.000008], Train Loss : [0.6210], Val Loss : [0.5190], Val F1 Score : [0.7304]\n"
     ]
    },
    {
     "data": {
      "text/plain": "Train Loop:   0%|          | 0/296 [00:00<?, ?it/s]",
      "application/vnd.jupyter.widget-view+json": {
       "version_major": 2,
       "version_minor": 0,
       "model_id": "8033fcc2bcb74ecfa110734fdb35e81f"
      }
     },
     "metadata": {},
     "output_type": "display_data"
    },
    {
     "name": "stdout",
     "output_type": "stream",
     "text": [
      "**Epoch [2-6], lr : [0.000001], Train Loss : [0.5711], Val Loss : [0.5099], Val F1 Score : [0.7528]\n"
     ]
    },
    {
     "data": {
      "text/plain": "Train Loop:   0%|          | 0/296 [00:00<?, ?it/s]",
      "application/vnd.jupyter.widget-view+json": {
       "version_major": 2,
       "version_minor": 0,
       "model_id": "06e2d6d8f89d4d38826c5681f0453cc0"
      }
     },
     "metadata": {},
     "output_type": "display_data"
    },
    {
     "name": "stdout",
     "output_type": "stream",
     "text": [
      "Epoch [2-7], lr : [0.000048], Train Loss : [0.6654], Val Loss : [0.6389], Val F1 Score : [0.6833]\n",
      "EarlyStopping counter: 1 out of 12\n",
      "Best F1 score from now: 0.7528149301344724\n"
     ]
    },
    {
     "data": {
      "text/plain": "Train Loop:   0%|          | 0/296 [00:00<?, ?it/s]",
      "application/vnd.jupyter.widget-view+json": {
       "version_major": 2,
       "version_minor": 0,
       "model_id": "3c7b29b3218342838165d001bba09802"
      }
     },
     "metadata": {},
     "output_type": "display_data"
    },
    {
     "name": "stdout",
     "output_type": "stream",
     "text": [
      "Epoch [2-8], lr : [0.000039], Train Loss : [0.6237], Val Loss : [0.5719], Val F1 Score : [0.7156]\n",
      "EarlyStopping counter: 2 out of 12\n",
      "Best F1 score from now: 0.7528149301344724\n"
     ]
    },
    {
     "data": {
      "text/plain": "Train Loop:   0%|          | 0/296 [00:00<?, ?it/s]",
      "application/vnd.jupyter.widget-view+json": {
       "version_major": 2,
       "version_minor": 0,
       "model_id": "c2e8b6609d8242908208d8c3950e3cd3"
      }
     },
     "metadata": {},
     "output_type": "display_data"
    },
    {
     "name": "stdout",
     "output_type": "stream",
     "text": [
      "**Epoch [2-9], lr : [0.000027], Train Loss : [0.5144], Val Loss : [0.5069], Val F1 Score : [0.7633]\n"
     ]
    },
    {
     "data": {
      "text/plain": "Train Loop:   0%|          | 0/296 [00:00<?, ?it/s]",
      "application/vnd.jupyter.widget-view+json": {
       "version_major": 2,
       "version_minor": 0,
       "model_id": "0692815de3864fb19cb920ed79f11059"
      }
     },
     "metadata": {},
     "output_type": "display_data"
    },
    {
     "name": "stdout",
     "output_type": "stream",
     "text": [
      "**Epoch [2-10], lr : [0.000014], Train Loss : [0.4199], Val Loss : [0.4457], Val F1 Score : [0.7747]\n"
     ]
    },
    {
     "data": {
      "text/plain": "Train Loop:   0%|          | 0/296 [00:00<?, ?it/s]",
      "application/vnd.jupyter.widget-view+json": {
       "version_major": 2,
       "version_minor": 0,
       "model_id": "4b6a470e7e7245c4bb1e6c24621e0372"
      }
     },
     "metadata": {},
     "output_type": "display_data"
    },
    {
     "name": "stdout",
     "output_type": "stream",
     "text": [
      "**Epoch [2-11], lr : [0.000004], Train Loss : [0.3382], Val Loss : [0.4160], Val F1 Score : [0.7824]\n"
     ]
    },
    {
     "data": {
      "text/plain": "Train Loop:   0%|          | 0/296 [00:00<?, ?it/s]",
      "application/vnd.jupyter.widget-view+json": {
       "version_major": 2,
       "version_minor": 0,
       "model_id": "28e2e43e8afd45e68f88c61a33fa6d47"
      }
     },
     "metadata": {},
     "output_type": "display_data"
    },
    {
     "name": "stdout",
     "output_type": "stream",
     "text": [
      "Epoch [2-12], lr : [0.000001], Train Loss : [0.3011], Val Loss : [0.4125], Val F1 Score : [0.7819]\n",
      "EarlyStopping counter: 1 out of 12\n",
      "Best F1 score from now: 0.7823765793224345\n"
     ]
    },
    {
     "data": {
      "text/plain": "Train Loop:   0%|          | 0/296 [00:00<?, ?it/s]",
      "application/vnd.jupyter.widget-view+json": {
       "version_major": 2,
       "version_minor": 0,
       "model_id": "355b306d79484d6f98d66ae4ba9bf4d7"
      }
     },
     "metadata": {},
     "output_type": "display_data"
    },
    {
     "name": "stdout",
     "output_type": "stream",
     "text": [
      "Epoch [2-13], lr : [0.000024], Train Loss : [0.3626], Val Loss : [0.4990], Val F1 Score : [0.7446]\n",
      "EarlyStopping counter: 2 out of 12\n",
      "Best F1 score from now: 0.7823765793224345\n"
     ]
    },
    {
     "data": {
      "text/plain": "Train Loop:   0%|          | 0/296 [00:00<?, ?it/s]",
      "application/vnd.jupyter.widget-view+json": {
       "version_major": 2,
       "version_minor": 0,
       "model_id": "b4fa8e64b7244dc4b00aea7ad214ef78"
      }
     },
     "metadata": {},
     "output_type": "display_data"
    },
    {
     "name": "stdout",
     "output_type": "stream",
     "text": [
      "Epoch [2-14], lr : [0.000020], Train Loss : [0.3757], Val Loss : [0.4834], Val F1 Score : [0.7674]\n",
      "EarlyStopping counter: 3 out of 12\n",
      "Best F1 score from now: 0.7823765793224345\n"
     ]
    },
    {
     "data": {
      "text/plain": "Train Loop:   0%|          | 0/296 [00:00<?, ?it/s]",
      "application/vnd.jupyter.widget-view+json": {
       "version_major": 2,
       "version_minor": 0,
       "model_id": "8fce2e6c6fff48499548b70435cd1428"
      }
     },
     "metadata": {},
     "output_type": "display_data"
    },
    {
     "name": "stdout",
     "output_type": "stream",
     "text": [
      "Epoch [2-15], lr : [0.000014], Train Loss : [0.3628], Val Loss : [0.4597], Val F1 Score : [0.7685]\n",
      "EarlyStopping counter: 4 out of 12\n",
      "Best F1 score from now: 0.7823765793224345\n"
     ]
    },
    {
     "data": {
      "text/plain": "Train Loop:   0%|          | 0/296 [00:00<?, ?it/s]",
      "application/vnd.jupyter.widget-view+json": {
       "version_major": 2,
       "version_minor": 0,
       "model_id": "a3bc0c8ca5c843b1978e7bd752379bfa"
      }
     },
     "metadata": {},
     "output_type": "display_data"
    },
    {
     "name": "stdout",
     "output_type": "stream",
     "text": [
      "**Epoch [2-16], lr : [0.000007], Train Loss : [0.2879], Val Loss : [0.4307], Val F1 Score : [0.8075]\n"
     ]
    },
    {
     "data": {
      "text/plain": "Train Loop:   0%|          | 0/296 [00:00<?, ?it/s]",
      "application/vnd.jupyter.widget-view+json": {
       "version_major": 2,
       "version_minor": 0,
       "model_id": "bc7335f2697340438d4dec0221e4038e"
      }
     },
     "metadata": {},
     "output_type": "display_data"
    },
    {
     "name": "stdout",
     "output_type": "stream",
     "text": [
      "Epoch [2-17], lr : [0.000002], Train Loss : [0.2716], Val Loss : [0.4349], Val F1 Score : [0.7836]\n",
      "EarlyStopping counter: 1 out of 12\n",
      "Best F1 score from now: 0.8074650370511381\n"
     ]
    },
    {
     "data": {
      "text/plain": "Train Loop:   0%|          | 0/296 [00:00<?, ?it/s]",
      "application/vnd.jupyter.widget-view+json": {
       "version_major": 2,
       "version_minor": 0,
       "model_id": "8b99fb05189b478c9918438fd0fb869d"
      }
     },
     "metadata": {},
     "output_type": "display_data"
    },
    {
     "name": "stdout",
     "output_type": "stream",
     "text": [
      "Epoch [2-18], lr : [0.000001], Train Loss : [0.2652], Val Loss : [0.4299], Val F1 Score : [0.7898]\n",
      "EarlyStopping counter: 2 out of 12\n",
      "Best F1 score from now: 0.8074650370511381\n"
     ]
    },
    {
     "data": {
      "text/plain": "Train Loop:   0%|          | 0/296 [00:00<?, ?it/s]",
      "application/vnd.jupyter.widget-view+json": {
       "version_major": 2,
       "version_minor": 0,
       "model_id": "0a62895307c64fcf98c3c5760e8a95c3"
      }
     },
     "metadata": {},
     "output_type": "display_data"
    },
    {
     "name": "stdout",
     "output_type": "stream",
     "text": [
      "Epoch [2-19], lr : [0.000012], Train Loss : [0.2716], Val Loss : [0.4433], Val F1 Score : [0.7782]\n",
      "EarlyStopping counter: 3 out of 12\n",
      "Best F1 score from now: 0.8074650370511381\n"
     ]
    },
    {
     "data": {
      "text/plain": "Train Loop:   0%|          | 0/296 [00:00<?, ?it/s]",
      "application/vnd.jupyter.widget-view+json": {
       "version_major": 2,
       "version_minor": 0,
       "model_id": "06904b7e5d5d496ea3068fb61f73efdd"
      }
     },
     "metadata": {},
     "output_type": "display_data"
    },
    {
     "name": "stdout",
     "output_type": "stream",
     "text": [
      "Epoch [2-20], lr : [0.000010], Train Loss : [0.2650], Val Loss : [0.4210], Val F1 Score : [0.7896]\n",
      "EarlyStopping counter: 4 out of 12\n",
      "Best F1 score from now: 0.8074650370511381\n"
     ]
    },
    {
     "data": {
      "text/plain": "Train Loop:   0%|          | 0/296 [00:00<?, ?it/s]",
      "application/vnd.jupyter.widget-view+json": {
       "version_major": 2,
       "version_minor": 0,
       "model_id": "04338b58d14e4393977ef6a61c404521"
      }
     },
     "metadata": {},
     "output_type": "display_data"
    },
    {
     "name": "stdout",
     "output_type": "stream",
     "text": [
      "Epoch [2-21], lr : [0.000007], Train Loss : [0.2845], Val Loss : [0.4090], Val F1 Score : [0.8011]\n",
      "EarlyStopping counter: 5 out of 12\n",
      "Best F1 score from now: 0.8074650370511381\n"
     ]
    },
    {
     "data": {
      "text/plain": "Train Loop:   0%|          | 0/296 [00:00<?, ?it/s]",
      "application/vnd.jupyter.widget-view+json": {
       "version_major": 2,
       "version_minor": 0,
       "model_id": "9728125d172e43839c95a4a2d209e1fe"
      }
     },
     "metadata": {},
     "output_type": "display_data"
    },
    {
     "name": "stdout",
     "output_type": "stream",
     "text": [
      "Epoch [2-22], lr : [0.000004], Train Loss : [0.2417], Val Loss : [0.4330], Val F1 Score : [0.8026]\n",
      "EarlyStopping counter: 6 out of 12\n",
      "Best F1 score from now: 0.8074650370511381\n"
     ]
    },
    {
     "data": {
      "text/plain": "Train Loop:   0%|          | 0/296 [00:00<?, ?it/s]",
      "application/vnd.jupyter.widget-view+json": {
       "version_major": 2,
       "version_minor": 0,
       "model_id": "b4a9e63d1d6247dc8e227f595969ec73"
      }
     },
     "metadata": {},
     "output_type": "display_data"
    },
    {
     "name": "stdout",
     "output_type": "stream",
     "text": [
      "Epoch [2-23], lr : [0.000001], Train Loss : [0.2475], Val Loss : [0.3957], Val F1 Score : [0.7966]\n",
      "EarlyStopping counter: 7 out of 12\n",
      "Best F1 score from now: 0.8074650370511381\n"
     ]
    },
    {
     "data": {
      "text/plain": "Train Loop:   0%|          | 0/296 [00:00<?, ?it/s]",
      "application/vnd.jupyter.widget-view+json": {
       "version_major": 2,
       "version_minor": 0,
       "model_id": "c296cf58c4e141f3b6863abcfc06ceff"
      }
     },
     "metadata": {},
     "output_type": "display_data"
    },
    {
     "name": "stdout",
     "output_type": "stream",
     "text": [
      "**Epoch [2-24], lr : [0.000001], Train Loss : [0.2141], Val Loss : [0.3818], Val F1 Score : [0.8230]\n"
     ]
    },
    {
     "data": {
      "text/plain": "Train Loop:   0%|          | 0/296 [00:00<?, ?it/s]",
      "application/vnd.jupyter.widget-view+json": {
       "version_major": 2,
       "version_minor": 0,
       "model_id": "20324706694540a3b5647a989d2495a5"
      }
     },
     "metadata": {},
     "output_type": "display_data"
    },
    {
     "name": "stdout",
     "output_type": "stream",
     "text": [
      "Epoch [2-25], lr : [0.000006], Train Loss : [0.2494], Val Loss : [0.4305], Val F1 Score : [0.7945]\n",
      "EarlyStopping counter: 1 out of 12\n",
      "Best F1 score from now: 0.823002932198762\n"
     ]
    },
    {
     "data": {
      "text/plain": "Train Loop:   0%|          | 0/296 [00:00<?, ?it/s]",
      "application/vnd.jupyter.widget-view+json": {
       "version_major": 2,
       "version_minor": 0,
       "model_id": "5a59f85fffd44d6192593a7fbbc517cd"
      }
     },
     "metadata": {},
     "output_type": "display_data"
    },
    {
     "name": "stdout",
     "output_type": "stream",
     "text": [
      "Epoch [2-26], lr : [0.000005], Train Loss : [0.2333], Val Loss : [0.3831], Val F1 Score : [0.8088]\n",
      "EarlyStopping counter: 2 out of 12\n",
      "Best F1 score from now: 0.823002932198762\n"
     ]
    },
    {
     "data": {
      "text/plain": "Train Loop:   0%|          | 0/296 [00:00<?, ?it/s]",
      "application/vnd.jupyter.widget-view+json": {
       "version_major": 2,
       "version_minor": 0,
       "model_id": "3d29a252b43542ad9208d85bfa42e983"
      }
     },
     "metadata": {},
     "output_type": "display_data"
    },
    {
     "name": "stdout",
     "output_type": "stream",
     "text": [
      "Epoch [2-27], lr : [0.000004], Train Loss : [0.2379], Val Loss : [0.3866], Val F1 Score : [0.8144]\n",
      "EarlyStopping counter: 3 out of 12\n",
      "Best F1 score from now: 0.823002932198762\n"
     ]
    },
    {
     "data": {
      "text/plain": "Train Loop:   0%|          | 0/296 [00:00<?, ?it/s]",
      "application/vnd.jupyter.widget-view+json": {
       "version_major": 2,
       "version_minor": 0,
       "model_id": "ac739a2d64144480b927f447a2a9b6a5"
      }
     },
     "metadata": {},
     "output_type": "display_data"
    },
    {
     "name": "stdout",
     "output_type": "stream",
     "text": [
      "Epoch [2-28], lr : [0.000002], Train Loss : [0.2273], Val Loss : [0.4369], Val F1 Score : [0.8013]\n",
      "EarlyStopping counter: 4 out of 12\n",
      "Best F1 score from now: 0.823002932198762\n"
     ]
    },
    {
     "data": {
      "text/plain": "Train Loop:   0%|          | 0/296 [00:00<?, ?it/s]",
      "application/vnd.jupyter.widget-view+json": {
       "version_major": 2,
       "version_minor": 0,
       "model_id": "8905939e5c3c47a5b466ca1213dccc81"
      }
     },
     "metadata": {},
     "output_type": "display_data"
    },
    {
     "name": "stdout",
     "output_type": "stream",
     "text": [
      "Epoch [2-29], lr : [0.000001], Train Loss : [0.2191], Val Loss : [0.4048], Val F1 Score : [0.8132]\n",
      "EarlyStopping counter: 5 out of 12\n",
      "Best F1 score from now: 0.823002932198762\n"
     ]
    },
    {
     "data": {
      "text/plain": "Train Loop:   0%|          | 0/296 [00:00<?, ?it/s]",
      "application/vnd.jupyter.widget-view+json": {
       "version_major": 2,
       "version_minor": 0,
       "model_id": "7c01f4f421e7486b80ff2ca26deefa8e"
      }
     },
     "metadata": {},
     "output_type": "display_data"
    },
    {
     "name": "stdout",
     "output_type": "stream",
     "text": [
      "Epoch [2-30], lr : [0.000001], Train Loss : [0.1950], Val Loss : [0.4107], Val F1 Score : [0.8090]\n",
      "EarlyStopping counter: 6 out of 12\n",
      "Best F1 score from now: 0.823002932198762\n"
     ]
    },
    {
     "data": {
      "text/plain": "Train Loop:   0%|          | 0/296 [00:00<?, ?it/s]",
      "application/vnd.jupyter.widget-view+json": {
       "version_major": 2,
       "version_minor": 0,
       "model_id": "b05eb2d412f847a580722264b15662fb"
      }
     },
     "metadata": {},
     "output_type": "display_data"
    },
    {
     "name": "stdout",
     "output_type": "stream",
     "text": [
      "Epoch [2-31], lr : [0.000005], Train Loss : [0.2407], Val Loss : [0.4147], Val F1 Score : [0.8028]\n",
      "EarlyStopping counter: 7 out of 12\n",
      "Best F1 score from now: 0.823002932198762\n"
     ]
    },
    {
     "data": {
      "text/plain": "Train Loop:   0%|          | 0/296 [00:00<?, ?it/s]",
      "application/vnd.jupyter.widget-view+json": {
       "version_major": 2,
       "version_minor": 0,
       "model_id": "b55995348fe742f885f70ef87755a3eb"
      }
     },
     "metadata": {},
     "output_type": "display_data"
    },
    {
     "name": "stdout",
     "output_type": "stream",
     "text": [
      "Epoch [2-32], lr : [0.000004], Train Loss : [0.2215], Val Loss : [0.4139], Val F1 Score : [0.8029]\n",
      "EarlyStopping counter: 8 out of 12\n",
      "Best F1 score from now: 0.823002932198762\n"
     ]
    },
    {
     "data": {
      "text/plain": "Train Loop:   0%|          | 0/296 [00:00<?, ?it/s]",
      "application/vnd.jupyter.widget-view+json": {
       "version_major": 2,
       "version_minor": 0,
       "model_id": "964f87bc69434a81bba3bd054966e85d"
      }
     },
     "metadata": {},
     "output_type": "display_data"
    },
    {
     "name": "stdout",
     "output_type": "stream",
     "text": [
      "**Epoch [2-33], lr : [0.000003], Train Loss : [0.2024], Val Loss : [0.3810], Val F1 Score : [0.8270]\n"
     ]
    },
    {
     "data": {
      "text/plain": "Train Loop:   0%|          | 0/296 [00:00<?, ?it/s]",
      "application/vnd.jupyter.widget-view+json": {
       "version_major": 2,
       "version_minor": 0,
       "model_id": "5bdb9298227e4872944a88e7766436f5"
      }
     },
     "metadata": {},
     "output_type": "display_data"
    },
    {
     "name": "stdout",
     "output_type": "stream",
     "text": [
      "Epoch [2-34], lr : [0.000002], Train Loss : [0.2136], Val Loss : [0.4040], Val F1 Score : [0.8067]\n",
      "EarlyStopping counter: 1 out of 12\n",
      "Best F1 score from now: 0.826989350021853\n"
     ]
    },
    {
     "data": {
      "text/plain": "Train Loop:   0%|          | 0/296 [00:00<?, ?it/s]",
      "application/vnd.jupyter.widget-view+json": {
       "version_major": 2,
       "version_minor": 0,
       "model_id": "512ea60abacd4206bf766cde254808a5"
      }
     },
     "metadata": {},
     "output_type": "display_data"
    },
    {
     "name": "stdout",
     "output_type": "stream",
     "text": [
      "Epoch [2-35], lr : [0.000001], Train Loss : [0.2088], Val Loss : [0.4047], Val F1 Score : [0.8116]\n",
      "EarlyStopping counter: 2 out of 12\n",
      "Best F1 score from now: 0.826989350021853\n"
     ]
    },
    {
     "data": {
      "text/plain": "Train Loop:   0%|          | 0/296 [00:00<?, ?it/s]",
      "application/vnd.jupyter.widget-view+json": {
       "version_major": 2,
       "version_minor": 0,
       "model_id": "a521bcd73a1c4cf8a00303b37f905fba"
      }
     },
     "metadata": {},
     "output_type": "display_data"
    },
    {
     "name": "stdout",
     "output_type": "stream",
     "text": [
      "Epoch [2-36], lr : [0.000001], Train Loss : [0.1948], Val Loss : [0.3894], Val F1 Score : [0.7950]\n",
      "EarlyStopping counter: 3 out of 12\n",
      "Best F1 score from now: 0.826989350021853\n"
     ]
    },
    {
     "data": {
      "text/plain": "Train Loop:   0%|          | 0/296 [00:00<?, ?it/s]",
      "application/vnd.jupyter.widget-view+json": {
       "version_major": 2,
       "version_minor": 0,
       "model_id": "eb651e7c430f48f08510fda47d207996"
      }
     },
     "metadata": {},
     "output_type": "display_data"
    },
    {
     "name": "stdout",
     "output_type": "stream",
     "text": [
      "Epoch [2-37], lr : [0.000005], Train Loss : [0.2288], Val Loss : [0.4137], Val F1 Score : [0.7942]\n",
      "EarlyStopping counter: 4 out of 12\n",
      "Best F1 score from now: 0.826989350021853\n"
     ]
    },
    {
     "data": {
      "text/plain": "Train Loop:   0%|          | 0/296 [00:00<?, ?it/s]",
      "application/vnd.jupyter.widget-view+json": {
       "version_major": 2,
       "version_minor": 0,
       "model_id": "caf2a16166de49d4aaeb680ff2018f04"
      }
     },
     "metadata": {},
     "output_type": "display_data"
    },
    {
     "name": "stdout",
     "output_type": "stream",
     "text": [
      "Epoch [2-38], lr : [0.000004], Train Loss : [0.2049], Val Loss : [0.4463], Val F1 Score : [0.7850]\n",
      "EarlyStopping counter: 5 out of 12\n",
      "Best F1 score from now: 0.826989350021853\n"
     ]
    },
    {
     "data": {
      "text/plain": "Train Loop:   0%|          | 0/296 [00:00<?, ?it/s]",
      "application/vnd.jupyter.widget-view+json": {
       "version_major": 2,
       "version_minor": 0,
       "model_id": "9848950ce5f9475180d920a86d7e1780"
      }
     },
     "metadata": {},
     "output_type": "display_data"
    },
    {
     "name": "stdout",
     "output_type": "stream",
     "text": [
      "Epoch [2-39], lr : [0.000003], Train Loss : [0.1978], Val Loss : [0.4095], Val F1 Score : [0.8076]\n",
      "EarlyStopping counter: 6 out of 12\n",
      "Best F1 score from now: 0.826989350021853\n"
     ]
    },
    {
     "data": {
      "text/plain": "Train Loop:   0%|          | 0/296 [00:00<?, ?it/s]",
      "application/vnd.jupyter.widget-view+json": {
       "version_major": 2,
       "version_minor": 0,
       "model_id": "6d06a28e14384930bdf5921673ee88b2"
      }
     },
     "metadata": {},
     "output_type": "display_data"
    },
    {
     "name": "stdout",
     "output_type": "stream",
     "text": [
      "Epoch [2-40], lr : [0.000002], Train Loss : [0.1961], Val Loss : [0.4091], Val F1 Score : [0.8074]\n",
      "EarlyStopping counter: 7 out of 12\n",
      "Best F1 score from now: 0.826989350021853\n"
     ]
    },
    {
     "data": {
      "text/plain": "Train Loop:   0%|          | 0/296 [00:00<?, ?it/s]",
      "application/vnd.jupyter.widget-view+json": {
       "version_major": 2,
       "version_minor": 0,
       "model_id": "b43cfc0e200f467581f8d80c5923540a"
      }
     },
     "metadata": {},
     "output_type": "display_data"
    },
    {
     "name": "stdout",
     "output_type": "stream",
     "text": [
      "Epoch [2-41], lr : [0.000001], Train Loss : [0.2131], Val Loss : [0.4133], Val F1 Score : [0.7986]\n",
      "EarlyStopping counter: 8 out of 12\n",
      "Best F1 score from now: 0.826989350021853\n"
     ]
    },
    {
     "data": {
      "text/plain": "Train Loop:   0%|          | 0/296 [00:00<?, ?it/s]",
      "application/vnd.jupyter.widget-view+json": {
       "version_major": 2,
       "version_minor": 0,
       "model_id": "93b149d560324781b3445af0d5ef8ee8"
      }
     },
     "metadata": {},
     "output_type": "display_data"
    },
    {
     "name": "stdout",
     "output_type": "stream",
     "text": [
      "Epoch [2-42], lr : [0.000001], Train Loss : [0.1903], Val Loss : [0.4173], Val F1 Score : [0.8252]\n",
      "EarlyStopping counter: 9 out of 12\n",
      "Best F1 score from now: 0.826989350021853\n"
     ]
    },
    {
     "data": {
      "text/plain": "Train Loop:   0%|          | 0/296 [00:00<?, ?it/s]",
      "application/vnd.jupyter.widget-view+json": {
       "version_major": 2,
       "version_minor": 0,
       "model_id": "2551b4b74d0a4aa6ab031cc3f38aa972"
      }
     },
     "metadata": {},
     "output_type": "display_data"
    },
    {
     "name": "stdout",
     "output_type": "stream",
     "text": [
      "Epoch [2-43], lr : [0.000005], Train Loss : [0.1923], Val Loss : [0.4147], Val F1 Score : [0.8069]\n",
      "EarlyStopping counter: 10 out of 12\n",
      "Best F1 score from now: 0.826989350021853\n"
     ]
    },
    {
     "data": {
      "text/plain": "Train Loop:   0%|          | 0/296 [00:00<?, ?it/s]",
      "application/vnd.jupyter.widget-view+json": {
       "version_major": 2,
       "version_minor": 0,
       "model_id": "2338d23d27934a06999d7ff50b3acf2c"
      }
     },
     "metadata": {},
     "output_type": "display_data"
    },
    {
     "name": "stdout",
     "output_type": "stream",
     "text": [
      "Epoch [2-44], lr : [0.000004], Train Loss : [0.1846], Val Loss : [0.4346], Val F1 Score : [0.8063]\n",
      "EarlyStopping counter: 11 out of 12\n",
      "Best F1 score from now: 0.826989350021853\n"
     ]
    },
    {
     "data": {
      "text/plain": "Train Loop:   0%|          | 0/296 [00:00<?, ?it/s]",
      "application/vnd.jupyter.widget-view+json": {
       "version_major": 2,
       "version_minor": 0,
       "model_id": "6353ed800fb949d9ad0bd47f955e7a34"
      }
     },
     "metadata": {},
     "output_type": "display_data"
    },
    {
     "name": "stdout",
     "output_type": "stream",
     "text": [
      "Epoch [2-45], lr : [0.000003], Train Loss : [0.1859], Val Loss : [0.4081], Val F1 Score : [0.8080]\n",
      "EarlyStopping counter: 12 out of 12\n",
      "Best F1 score from now: 0.826989350021853\n",
      "Epoch [2-45], early stopping\n",
      "3-fold start\n"
     ]
    },
    {
     "data": {
      "text/plain": "Train Loop:   0%|          | 0/296 [00:00<?, ?it/s]",
      "application/vnd.jupyter.widget-view+json": {
       "version_major": 2,
       "version_minor": 0,
       "model_id": "f9c4fec89ce9472c99f13eb7a99e2e3b"
      }
     },
     "metadata": {},
     "output_type": "display_data"
    },
    {
     "name": "stdout",
     "output_type": "stream",
     "text": [
      "**Epoch [3-1], lr : [0.000095], Train Loss : [2.7148], Val Loss : [1.7673], Val F1 Score : [0.2308]\n"
     ]
    },
    {
     "data": {
      "text/plain": "Train Loop:   0%|          | 0/296 [00:00<?, ?it/s]",
      "application/vnd.jupyter.widget-view+json": {
       "version_major": 2,
       "version_minor": 0,
       "model_id": "b98abe95e79d4debba65ebb6a33429bf"
      }
     },
     "metadata": {},
     "output_type": "display_data"
    },
    {
     "name": "stdout",
     "output_type": "stream",
     "text": [
      "**Epoch [3-2], lr : [0.000078], Train Loss : [1.6930], Val Loss : [1.0774], Val F1 Score : [0.4866]\n"
     ]
    },
    {
     "data": {
      "text/plain": "Train Loop:   0%|          | 0/296 [00:00<?, ?it/s]",
      "application/vnd.jupyter.widget-view+json": {
       "version_major": 2,
       "version_minor": 0,
       "model_id": "a2d4d3733f1c4b678c77e366646dfec1"
      }
     },
     "metadata": {},
     "output_type": "display_data"
    },
    {
     "name": "stdout",
     "output_type": "stream",
     "text": [
      "**Epoch [3-3], lr : [0.000053], Train Loss : [1.1594], Val Loss : [0.8253], Val F1 Score : [0.5926]\n"
     ]
    },
    {
     "data": {
      "text/plain": "Train Loop:   0%|          | 0/296 [00:00<?, ?it/s]",
      "application/vnd.jupyter.widget-view+json": {
       "version_major": 2,
       "version_minor": 0,
       "model_id": "2769e700583045618cc31cf945b99c31"
      }
     },
     "metadata": {},
     "output_type": "display_data"
    },
    {
     "name": "stdout",
     "output_type": "stream",
     "text": [
      "**Epoch [3-4], lr : [0.000027], Train Loss : [0.8861], Val Loss : [0.6554], Val F1 Score : [0.6758]\n"
     ]
    },
    {
     "data": {
      "text/plain": "Train Loop:   0%|          | 0/296 [00:00<?, ?it/s]",
      "application/vnd.jupyter.widget-view+json": {
       "version_major": 2,
       "version_minor": 0,
       "model_id": "e89dcd8a859745cb92fed092d9912b65"
      }
     },
     "metadata": {},
     "output_type": "display_data"
    },
    {
     "name": "stdout",
     "output_type": "stream",
     "text": [
      "**Epoch [3-5], lr : [0.000008], Train Loss : [0.7085], Val Loss : [0.5182], Val F1 Score : [0.7514]\n"
     ]
    },
    {
     "data": {
      "text/plain": "Train Loop:   0%|          | 0/296 [00:00<?, ?it/s]",
      "application/vnd.jupyter.widget-view+json": {
       "version_major": 2,
       "version_minor": 0,
       "model_id": "44685f1756e94788b3cc5fad72138794"
      }
     },
     "metadata": {},
     "output_type": "display_data"
    },
    {
     "name": "stdout",
     "output_type": "stream",
     "text": [
      "Epoch [3-6], lr : [0.000001], Train Loss : [0.5925], Val Loss : [0.5263], Val F1 Score : [0.7376]\n",
      "EarlyStopping counter: 1 out of 12\n",
      "Best F1 score from now: 0.7513921111200448\n"
     ]
    },
    {
     "data": {
      "text/plain": "Train Loop:   0%|          | 0/296 [00:00<?, ?it/s]",
      "application/vnd.jupyter.widget-view+json": {
       "version_major": 2,
       "version_minor": 0,
       "model_id": "53794be197c04b7d9f6bc18c0c1e9c51"
      }
     },
     "metadata": {},
     "output_type": "display_data"
    },
    {
     "name": "stdout",
     "output_type": "stream",
     "text": [
      "Epoch [3-7], lr : [0.000048], Train Loss : [0.7764], Val Loss : [0.6797], Val F1 Score : [0.6794]\n",
      "EarlyStopping counter: 2 out of 12\n",
      "Best F1 score from now: 0.7513921111200448\n"
     ]
    },
    {
     "data": {
      "text/plain": "Train Loop:   0%|          | 0/296 [00:00<?, ?it/s]",
      "application/vnd.jupyter.widget-view+json": {
       "version_major": 2,
       "version_minor": 0,
       "model_id": "949fb587809a42278c2d01286a408cb5"
      }
     },
     "metadata": {},
     "output_type": "display_data"
    },
    {
     "name": "stdout",
     "output_type": "stream",
     "text": [
      "Epoch [3-8], lr : [0.000039], Train Loss : [0.6450], Val Loss : [0.5642], Val F1 Score : [0.7058]\n",
      "EarlyStopping counter: 3 out of 12\n",
      "Best F1 score from now: 0.7513921111200448\n"
     ]
    },
    {
     "data": {
      "text/plain": "Train Loop:   0%|          | 0/296 [00:00<?, ?it/s]",
      "application/vnd.jupyter.widget-view+json": {
       "version_major": 2,
       "version_minor": 0,
       "model_id": "4e3678b796154e55aa558d1f624dba89"
      }
     },
     "metadata": {},
     "output_type": "display_data"
    },
    {
     "name": "stdout",
     "output_type": "stream",
     "text": [
      "Epoch [3-9], lr : [0.000027], Train Loss : [0.5492], Val Loss : [0.5027], Val F1 Score : [0.7430]\n",
      "EarlyStopping counter: 4 out of 12\n",
      "Best F1 score from now: 0.7513921111200448\n"
     ]
    },
    {
     "data": {
      "text/plain": "Train Loop:   0%|          | 0/296 [00:00<?, ?it/s]",
      "application/vnd.jupyter.widget-view+json": {
       "version_major": 2,
       "version_minor": 0,
       "model_id": "73269c14625f4abf82c8a5fcb38a049b"
      }
     },
     "metadata": {},
     "output_type": "display_data"
    },
    {
     "name": "stdout",
     "output_type": "stream",
     "text": [
      "**Epoch [3-10], lr : [0.000014], Train Loss : [0.4572], Val Loss : [0.4400], Val F1 Score : [0.7720]\n"
     ]
    },
    {
     "data": {
      "text/plain": "Train Loop:   0%|          | 0/296 [00:00<?, ?it/s]",
      "application/vnd.jupyter.widget-view+json": {
       "version_major": 2,
       "version_minor": 0,
       "model_id": "23cc5a5ce6984ea09b1ca2146b6e8cb8"
      }
     },
     "metadata": {},
     "output_type": "display_data"
    },
    {
     "name": "stdout",
     "output_type": "stream",
     "text": [
      "**Epoch [3-11], lr : [0.000004], Train Loss : [0.3784], Val Loss : [0.4045], Val F1 Score : [0.7843]\n"
     ]
    },
    {
     "data": {
      "text/plain": "Train Loop:   0%|          | 0/296 [00:00<?, ?it/s]",
      "application/vnd.jupyter.widget-view+json": {
       "version_major": 2,
       "version_minor": 0,
       "model_id": "c6d6c59c3bf04da995fbd25053945dff"
      }
     },
     "metadata": {},
     "output_type": "display_data"
    },
    {
     "name": "stdout",
     "output_type": "stream",
     "text": [
      "Epoch [3-12], lr : [0.000001], Train Loss : [0.3553], Val Loss : [0.4209], Val F1 Score : [0.7788]\n",
      "EarlyStopping counter: 1 out of 12\n",
      "Best F1 score from now: 0.7843283945667472\n"
     ]
    },
    {
     "data": {
      "text/plain": "Train Loop:   0%|          | 0/296 [00:00<?, ?it/s]",
      "application/vnd.jupyter.widget-view+json": {
       "version_major": 2,
       "version_minor": 0,
       "model_id": "36bf6955c2574eb6822f792980023ca9"
      }
     },
     "metadata": {},
     "output_type": "display_data"
    },
    {
     "name": "stdout",
     "output_type": "stream",
     "text": [
      "Epoch [3-13], lr : [0.000024], Train Loss : [0.4070], Val Loss : [0.4467], Val F1 Score : [0.7824]\n",
      "EarlyStopping counter: 2 out of 12\n",
      "Best F1 score from now: 0.7843283945667472\n"
     ]
    },
    {
     "data": {
      "text/plain": "Train Loop:   0%|          | 0/296 [00:00<?, ?it/s]",
      "application/vnd.jupyter.widget-view+json": {
       "version_major": 2,
       "version_minor": 0,
       "model_id": "8c317dd020ff4c6596d80cd86834461a"
      }
     },
     "metadata": {},
     "output_type": "display_data"
    },
    {
     "name": "stdout",
     "output_type": "stream",
     "text": [
      "Epoch [3-14], lr : [0.000020], Train Loss : [0.4037], Val Loss : [0.4535], Val F1 Score : [0.7772]\n",
      "EarlyStopping counter: 3 out of 12\n",
      "Best F1 score from now: 0.7843283945667472\n"
     ]
    },
    {
     "data": {
      "text/plain": "Train Loop:   0%|          | 0/296 [00:00<?, ?it/s]",
      "application/vnd.jupyter.widget-view+json": {
       "version_major": 2,
       "version_minor": 0,
       "model_id": "d2eaa5a603ff491aaf5e52553d7ae0dd"
      }
     },
     "metadata": {},
     "output_type": "display_data"
    },
    {
     "name": "stdout",
     "output_type": "stream",
     "text": [
      "**Epoch [3-15], lr : [0.000014], Train Loss : [0.3299], Val Loss : [0.3866], Val F1 Score : [0.8150]\n"
     ]
    },
    {
     "data": {
      "text/plain": "Train Loop:   0%|          | 0/296 [00:00<?, ?it/s]",
      "application/vnd.jupyter.widget-view+json": {
       "version_major": 2,
       "version_minor": 0,
       "model_id": "de0c9c237d184327955085b6654bf583"
      }
     },
     "metadata": {},
     "output_type": "display_data"
    },
    {
     "name": "stdout",
     "output_type": "stream",
     "text": [
      "Epoch [3-16], lr : [0.000007], Train Loss : [0.3054], Val Loss : [0.4086], Val F1 Score : [0.8106]\n",
      "EarlyStopping counter: 1 out of 12\n",
      "Best F1 score from now: 0.815022384881669\n"
     ]
    },
    {
     "data": {
      "text/plain": "Train Loop:   0%|          | 0/296 [00:00<?, ?it/s]",
      "application/vnd.jupyter.widget-view+json": {
       "version_major": 2,
       "version_minor": 0,
       "model_id": "ca27b89baf26453e9aac95d01db93612"
      }
     },
     "metadata": {},
     "output_type": "display_data"
    },
    {
     "name": "stdout",
     "output_type": "stream",
     "text": [
      "Epoch [3-17], lr : [0.000002], Train Loss : [0.2980], Val Loss : [0.4045], Val F1 Score : [0.8063]\n",
      "EarlyStopping counter: 2 out of 12\n",
      "Best F1 score from now: 0.815022384881669\n"
     ]
    },
    {
     "data": {
      "text/plain": "Train Loop:   0%|          | 0/296 [00:00<?, ?it/s]",
      "application/vnd.jupyter.widget-view+json": {
       "version_major": 2,
       "version_minor": 0,
       "model_id": "724e8f2ef3814a80a6ef504df4fefef1"
      }
     },
     "metadata": {},
     "output_type": "display_data"
    },
    {
     "name": "stdout",
     "output_type": "stream",
     "text": [
      "Epoch [3-18], lr : [0.000001], Train Loss : [0.3098], Val Loss : [0.3929], Val F1 Score : [0.8130]\n",
      "EarlyStopping counter: 3 out of 12\n",
      "Best F1 score from now: 0.815022384881669\n"
     ]
    },
    {
     "data": {
      "text/plain": "Train Loop:   0%|          | 0/296 [00:00<?, ?it/s]",
      "application/vnd.jupyter.widget-view+json": {
       "version_major": 2,
       "version_minor": 0,
       "model_id": "91cb84775cf1406581c071194ab3c8f4"
      }
     },
     "metadata": {},
     "output_type": "display_data"
    },
    {
     "name": "stdout",
     "output_type": "stream",
     "text": [
      "Epoch [3-19], lr : [0.000012], Train Loss : [0.2919], Val Loss : [0.4253], Val F1 Score : [0.8086]\n",
      "EarlyStopping counter: 4 out of 12\n",
      "Best F1 score from now: 0.815022384881669\n"
     ]
    },
    {
     "data": {
      "text/plain": "Train Loop:   0%|          | 0/296 [00:00<?, ?it/s]",
      "application/vnd.jupyter.widget-view+json": {
       "version_major": 2,
       "version_minor": 0,
       "model_id": "fe7b2f8480e6485783ac9887cf4407a8"
      }
     },
     "metadata": {},
     "output_type": "display_data"
    },
    {
     "name": "stdout",
     "output_type": "stream",
     "text": [
      "Epoch [3-20], lr : [0.000010], Train Loss : [0.2735], Val Loss : [0.4115], Val F1 Score : [0.8082]\n",
      "EarlyStopping counter: 5 out of 12\n",
      "Best F1 score from now: 0.815022384881669\n"
     ]
    },
    {
     "data": {
      "text/plain": "Train Loop:   0%|          | 0/296 [00:00<?, ?it/s]",
      "application/vnd.jupyter.widget-view+json": {
       "version_major": 2,
       "version_minor": 0,
       "model_id": "2e827a7e63744521a91898a4da21b062"
      }
     },
     "metadata": {},
     "output_type": "display_data"
    },
    {
     "name": "stdout",
     "output_type": "stream",
     "text": [
      "**Epoch [3-21], lr : [0.000007], Train Loss : [0.2765], Val Loss : [0.3952], Val F1 Score : [0.8270]\n"
     ]
    },
    {
     "data": {
      "text/plain": "Train Loop:   0%|          | 0/296 [00:00<?, ?it/s]",
      "application/vnd.jupyter.widget-view+json": {
       "version_major": 2,
       "version_minor": 0,
       "model_id": "99f505890a1947b392f8999c58f9be8e"
      }
     },
     "metadata": {},
     "output_type": "display_data"
    },
    {
     "name": "stdout",
     "output_type": "stream",
     "text": [
      "Epoch [3-22], lr : [0.000004], Train Loss : [0.2286], Val Loss : [0.4225], Val F1 Score : [0.8023]\n",
      "EarlyStopping counter: 1 out of 12\n",
      "Best F1 score from now: 0.8269709780725567\n"
     ]
    },
    {
     "data": {
      "text/plain": "Train Loop:   0%|          | 0/296 [00:00<?, ?it/s]",
      "application/vnd.jupyter.widget-view+json": {
       "version_major": 2,
       "version_minor": 0,
       "model_id": "460bd7817e8d447182b1dff001acf9fb"
      }
     },
     "metadata": {},
     "output_type": "display_data"
    },
    {
     "name": "stdout",
     "output_type": "stream",
     "text": [
      "Epoch [3-23], lr : [0.000001], Train Loss : [0.2317], Val Loss : [0.3999], Val F1 Score : [0.8150]\n",
      "EarlyStopping counter: 2 out of 12\n",
      "Best F1 score from now: 0.8269709780725567\n"
     ]
    },
    {
     "data": {
      "text/plain": "Train Loop:   0%|          | 0/296 [00:00<?, ?it/s]",
      "application/vnd.jupyter.widget-view+json": {
       "version_major": 2,
       "version_minor": 0,
       "model_id": "af7bba07f131487c92132f4e23b9ed84"
      }
     },
     "metadata": {},
     "output_type": "display_data"
    },
    {
     "name": "stdout",
     "output_type": "stream",
     "text": [
      "Epoch [3-24], lr : [0.000001], Train Loss : [0.2399], Val Loss : [0.3989], Val F1 Score : [0.8193]\n",
      "EarlyStopping counter: 3 out of 12\n",
      "Best F1 score from now: 0.8269709780725567\n"
     ]
    },
    {
     "data": {
      "text/plain": "Train Loop:   0%|          | 0/296 [00:00<?, ?it/s]",
      "application/vnd.jupyter.widget-view+json": {
       "version_major": 2,
       "version_minor": 0,
       "model_id": "5c234263a799493a99ca448034154361"
      }
     },
     "metadata": {},
     "output_type": "display_data"
    },
    {
     "name": "stdout",
     "output_type": "stream",
     "text": [
      "Epoch [3-25], lr : [0.000006], Train Loss : [0.2598], Val Loss : [0.3765], Val F1 Score : [0.8157]\n",
      "EarlyStopping counter: 4 out of 12\n",
      "Best F1 score from now: 0.8269709780725567\n"
     ]
    },
    {
     "data": {
      "text/plain": "Train Loop:   0%|          | 0/296 [00:00<?, ?it/s]",
      "application/vnd.jupyter.widget-view+json": {
       "version_major": 2,
       "version_minor": 0,
       "model_id": "f942b186d462453f945372009dc82b7c"
      }
     },
     "metadata": {},
     "output_type": "display_data"
    },
    {
     "name": "stdout",
     "output_type": "stream",
     "text": [
      "Epoch [3-26], lr : [0.000005], Train Loss : [0.2592], Val Loss : [0.4186], Val F1 Score : [0.8049]\n",
      "EarlyStopping counter: 5 out of 12\n",
      "Best F1 score from now: 0.8269709780725567\n"
     ]
    },
    {
     "data": {
      "text/plain": "Train Loop:   0%|          | 0/296 [00:00<?, ?it/s]",
      "application/vnd.jupyter.widget-view+json": {
       "version_major": 2,
       "version_minor": 0,
       "model_id": "945da8e0b34646f7b4d4384b659d1e5d"
      }
     },
     "metadata": {},
     "output_type": "display_data"
    },
    {
     "name": "stdout",
     "output_type": "stream",
     "text": [
      "Epoch [3-27], lr : [0.000004], Train Loss : [0.2404], Val Loss : [0.3891], Val F1 Score : [0.8190]\n",
      "EarlyStopping counter: 6 out of 12\n",
      "Best F1 score from now: 0.8269709780725567\n"
     ]
    },
    {
     "data": {
      "text/plain": "Train Loop:   0%|          | 0/296 [00:00<?, ?it/s]",
      "application/vnd.jupyter.widget-view+json": {
       "version_major": 2,
       "version_minor": 0,
       "model_id": "52046cf7e50a4844a746476099447a53"
      }
     },
     "metadata": {},
     "output_type": "display_data"
    },
    {
     "name": "stdout",
     "output_type": "stream",
     "text": [
      "Epoch [3-28], lr : [0.000002], Train Loss : [0.2537], Val Loss : [0.4051], Val F1 Score : [0.8123]\n",
      "EarlyStopping counter: 7 out of 12\n",
      "Best F1 score from now: 0.8269709780725567\n"
     ]
    },
    {
     "data": {
      "text/plain": "Train Loop:   0%|          | 0/296 [00:00<?, ?it/s]",
      "application/vnd.jupyter.widget-view+json": {
       "version_major": 2,
       "version_minor": 0,
       "model_id": "16de9e00877c4e55988a0a17e5c6839c"
      }
     },
     "metadata": {},
     "output_type": "display_data"
    },
    {
     "name": "stdout",
     "output_type": "stream",
     "text": [
      "Epoch [3-29], lr : [0.000001], Train Loss : [0.2143], Val Loss : [0.3704], Val F1 Score : [0.8150]\n",
      "EarlyStopping counter: 8 out of 12\n",
      "Best F1 score from now: 0.8269709780725567\n"
     ]
    },
    {
     "data": {
      "text/plain": "Train Loop:   0%|          | 0/296 [00:00<?, ?it/s]",
      "application/vnd.jupyter.widget-view+json": {
       "version_major": 2,
       "version_minor": 0,
       "model_id": "f57c3dc7360f4f57bce404a219f021c2"
      }
     },
     "metadata": {},
     "output_type": "display_data"
    },
    {
     "name": "stdout",
     "output_type": "stream",
     "text": [
      "Epoch [3-30], lr : [0.000001], Train Loss : [0.2092], Val Loss : [0.3850], Val F1 Score : [0.8076]\n",
      "EarlyStopping counter: 9 out of 12\n",
      "Best F1 score from now: 0.8269709780725567\n"
     ]
    },
    {
     "data": {
      "text/plain": "Train Loop:   0%|          | 0/296 [00:00<?, ?it/s]",
      "application/vnd.jupyter.widget-view+json": {
       "version_major": 2,
       "version_minor": 0,
       "model_id": "6c0a3a1f94a24f2fbc29b1ce2ca415e4"
      }
     },
     "metadata": {},
     "output_type": "display_data"
    },
    {
     "name": "stdout",
     "output_type": "stream",
     "text": [
      "**Epoch [3-31], lr : [0.000005], Train Loss : [0.2179], Val Loss : [0.3903], Val F1 Score : [0.8270]\n"
     ]
    },
    {
     "data": {
      "text/plain": "Train Loop:   0%|          | 0/296 [00:00<?, ?it/s]",
      "application/vnd.jupyter.widget-view+json": {
       "version_major": 2,
       "version_minor": 0,
       "model_id": "d046cc15303448a89183704beaa6637d"
      }
     },
     "metadata": {},
     "output_type": "display_data"
    },
    {
     "name": "stdout",
     "output_type": "stream",
     "text": [
      "**Epoch [3-32], lr : [0.000004], Train Loss : [0.2088], Val Loss : [0.3964], Val F1 Score : [0.8273]\n"
     ]
    },
    {
     "data": {
      "text/plain": "Train Loop:   0%|          | 0/296 [00:00<?, ?it/s]",
      "application/vnd.jupyter.widget-view+json": {
       "version_major": 2,
       "version_minor": 0,
       "model_id": "560474c07d3b451c8187f5151b099d84"
      }
     },
     "metadata": {},
     "output_type": "display_data"
    },
    {
     "name": "stdout",
     "output_type": "stream",
     "text": [
      "Epoch [3-33], lr : [0.000003], Train Loss : [0.2413], Val Loss : [0.4246], Val F1 Score : [0.8103]\n",
      "EarlyStopping counter: 1 out of 12\n",
      "Best F1 score from now: 0.8272650456729412\n"
     ]
    },
    {
     "data": {
      "text/plain": "Train Loop:   0%|          | 0/296 [00:00<?, ?it/s]",
      "application/vnd.jupyter.widget-view+json": {
       "version_major": 2,
       "version_minor": 0,
       "model_id": "bc46c9723a3a4cd1bd45a0808d4337b8"
      }
     },
     "metadata": {},
     "output_type": "display_data"
    },
    {
     "name": "stdout",
     "output_type": "stream",
     "text": [
      "Epoch [3-34], lr : [0.000002], Train Loss : [0.2408], Val Loss : [0.3981], Val F1 Score : [0.8114]\n",
      "EarlyStopping counter: 2 out of 12\n",
      "Best F1 score from now: 0.8272650456729412\n"
     ]
    },
    {
     "data": {
      "text/plain": "Train Loop:   0%|          | 0/296 [00:00<?, ?it/s]",
      "application/vnd.jupyter.widget-view+json": {
       "version_major": 2,
       "version_minor": 0,
       "model_id": "f79fcea777934cbeb219045fad6a0c5c"
      }
     },
     "metadata": {},
     "output_type": "display_data"
    },
    {
     "name": "stdout",
     "output_type": "stream",
     "text": [
      "Epoch [3-35], lr : [0.000001], Train Loss : [0.2165], Val Loss : [0.4014], Val F1 Score : [0.8033]\n",
      "EarlyStopping counter: 3 out of 12\n",
      "Best F1 score from now: 0.8272650456729412\n"
     ]
    },
    {
     "data": {
      "text/plain": "Train Loop:   0%|          | 0/296 [00:00<?, ?it/s]",
      "application/vnd.jupyter.widget-view+json": {
       "version_major": 2,
       "version_minor": 0,
       "model_id": "e718b30ae2fb4d72bc9ea84e41a51eeb"
      }
     },
     "metadata": {},
     "output_type": "display_data"
    },
    {
     "name": "stdout",
     "output_type": "stream",
     "text": [
      "Epoch [3-36], lr : [0.000001], Train Loss : [0.2025], Val Loss : [0.3849], Val F1 Score : [0.8185]\n",
      "EarlyStopping counter: 4 out of 12\n",
      "Best F1 score from now: 0.8272650456729412\n"
     ]
    },
    {
     "data": {
      "text/plain": "Train Loop:   0%|          | 0/296 [00:00<?, ?it/s]",
      "application/vnd.jupyter.widget-view+json": {
       "version_major": 2,
       "version_minor": 0,
       "model_id": "0f4ab9a17503432fa9322c976a4e3dfd"
      }
     },
     "metadata": {},
     "output_type": "display_data"
    },
    {
     "name": "stdout",
     "output_type": "stream",
     "text": [
      "Epoch [3-37], lr : [0.000005], Train Loss : [0.1884], Val Loss : [0.4305], Val F1 Score : [0.8215]\n",
      "EarlyStopping counter: 5 out of 12\n",
      "Best F1 score from now: 0.8272650456729412\n"
     ]
    },
    {
     "data": {
      "text/plain": "Train Loop:   0%|          | 0/296 [00:00<?, ?it/s]",
      "application/vnd.jupyter.widget-view+json": {
       "version_major": 2,
       "version_minor": 0,
       "model_id": "eebff08a3f5c4b5dac872df86360c06e"
      }
     },
     "metadata": {},
     "output_type": "display_data"
    },
    {
     "name": "stdout",
     "output_type": "stream",
     "text": [
      "Epoch [3-38], lr : [0.000004], Train Loss : [0.2240], Val Loss : [0.4012], Val F1 Score : [0.8231]\n",
      "EarlyStopping counter: 6 out of 12\n",
      "Best F1 score from now: 0.8272650456729412\n"
     ]
    },
    {
     "data": {
      "text/plain": "Train Loop:   0%|          | 0/296 [00:00<?, ?it/s]",
      "application/vnd.jupyter.widget-view+json": {
       "version_major": 2,
       "version_minor": 0,
       "model_id": "e3226732afba4ef5b31b22e31a0833cb"
      }
     },
     "metadata": {},
     "output_type": "display_data"
    },
    {
     "name": "stdout",
     "output_type": "stream",
     "text": [
      "**Epoch [3-39], lr : [0.000003], Train Loss : [0.2342], Val Loss : [0.3681], Val F1 Score : [0.8416]\n"
     ]
    },
    {
     "data": {
      "text/plain": "Train Loop:   0%|          | 0/296 [00:00<?, ?it/s]",
      "application/vnd.jupyter.widget-view+json": {
       "version_major": 2,
       "version_minor": 0,
       "model_id": "f38e0158ea0940d19b0cbb1356884a08"
      }
     },
     "metadata": {},
     "output_type": "display_data"
    },
    {
     "name": "stdout",
     "output_type": "stream",
     "text": [
      "Epoch [3-40], lr : [0.000002], Train Loss : [0.2004], Val Loss : [0.4048], Val F1 Score : [0.8266]\n",
      "EarlyStopping counter: 1 out of 12\n",
      "Best F1 score from now: 0.8415579903027046\n"
     ]
    },
    {
     "data": {
      "text/plain": "Train Loop:   0%|          | 0/296 [00:00<?, ?it/s]",
      "application/vnd.jupyter.widget-view+json": {
       "version_major": 2,
       "version_minor": 0,
       "model_id": "313c787389b2401a9c276bb1864308df"
      }
     },
     "metadata": {},
     "output_type": "display_data"
    },
    {
     "name": "stdout",
     "output_type": "stream",
     "text": [
      "Epoch [3-41], lr : [0.000001], Train Loss : [0.1969], Val Loss : [0.4045], Val F1 Score : [0.8200]\n",
      "EarlyStopping counter: 2 out of 12\n",
      "Best F1 score from now: 0.8415579903027046\n"
     ]
    },
    {
     "data": {
      "text/plain": "Train Loop:   0%|          | 0/296 [00:00<?, ?it/s]",
      "application/vnd.jupyter.widget-view+json": {
       "version_major": 2,
       "version_minor": 0,
       "model_id": "9dd714620cf4433a9ece953e7a6ff225"
      }
     },
     "metadata": {},
     "output_type": "display_data"
    },
    {
     "name": "stdout",
     "output_type": "stream",
     "text": [
      "Epoch [3-42], lr : [0.000001], Train Loss : [0.2218], Val Loss : [0.4011], Val F1 Score : [0.8343]\n",
      "EarlyStopping counter: 3 out of 12\n",
      "Best F1 score from now: 0.8415579903027046\n"
     ]
    },
    {
     "data": {
      "text/plain": "Train Loop:   0%|          | 0/296 [00:00<?, ?it/s]",
      "application/vnd.jupyter.widget-view+json": {
       "version_major": 2,
       "version_minor": 0,
       "model_id": "5f0c401fe6d844248b3c75ecec463b28"
      }
     },
     "metadata": {},
     "output_type": "display_data"
    },
    {
     "name": "stdout",
     "output_type": "stream",
     "text": [
      "Epoch [3-43], lr : [0.000005], Train Loss : [0.2234], Val Loss : [0.4108], Val F1 Score : [0.8192]\n",
      "EarlyStopping counter: 4 out of 12\n",
      "Best F1 score from now: 0.8415579903027046\n"
     ]
    },
    {
     "data": {
      "text/plain": "Train Loop:   0%|          | 0/296 [00:00<?, ?it/s]",
      "application/vnd.jupyter.widget-view+json": {
       "version_major": 2,
       "version_minor": 0,
       "model_id": "d8f9a15e57584abbae56d204dd2768d6"
      }
     },
     "metadata": {},
     "output_type": "display_data"
    },
    {
     "name": "stdout",
     "output_type": "stream",
     "text": [
      "Epoch [3-44], lr : [0.000004], Train Loss : [0.1944], Val Loss : [0.3807], Val F1 Score : [0.8184]\n",
      "EarlyStopping counter: 5 out of 12\n",
      "Best F1 score from now: 0.8415579903027046\n"
     ]
    },
    {
     "data": {
      "text/plain": "Train Loop:   0%|          | 0/296 [00:00<?, ?it/s]",
      "application/vnd.jupyter.widget-view+json": {
       "version_major": 2,
       "version_minor": 0,
       "model_id": "3586c7a8a2ca43d1a83aa7d964cf5967"
      }
     },
     "metadata": {},
     "output_type": "display_data"
    },
    {
     "name": "stdout",
     "output_type": "stream",
     "text": [
      "Epoch [3-45], lr : [0.000003], Train Loss : [0.1977], Val Loss : [0.3907], Val F1 Score : [0.8213]\n",
      "EarlyStopping counter: 6 out of 12\n",
      "Best F1 score from now: 0.8415579903027046\n"
     ]
    },
    {
     "data": {
      "text/plain": "Train Loop:   0%|          | 0/296 [00:00<?, ?it/s]",
      "application/vnd.jupyter.widget-view+json": {
       "version_major": 2,
       "version_minor": 0,
       "model_id": "4745923ed95d439bb9fd378560d8bf32"
      }
     },
     "metadata": {},
     "output_type": "display_data"
    },
    {
     "name": "stdout",
     "output_type": "stream",
     "text": [
      "Epoch [3-46], lr : [0.000002], Train Loss : [0.2010], Val Loss : [0.3859], Val F1 Score : [0.8217]\n",
      "EarlyStopping counter: 7 out of 12\n",
      "Best F1 score from now: 0.8415579903027046\n"
     ]
    },
    {
     "data": {
      "text/plain": "Train Loop:   0%|          | 0/296 [00:00<?, ?it/s]",
      "application/vnd.jupyter.widget-view+json": {
       "version_major": 2,
       "version_minor": 0,
       "model_id": "07258a018ec54fa9bd87277b062142b2"
      }
     },
     "metadata": {},
     "output_type": "display_data"
    },
    {
     "name": "stdout",
     "output_type": "stream",
     "text": [
      "Epoch [3-47], lr : [0.000001], Train Loss : [0.1723], Val Loss : [0.3948], Val F1 Score : [0.8252]\n",
      "EarlyStopping counter: 8 out of 12\n",
      "Best F1 score from now: 0.8415579903027046\n"
     ]
    },
    {
     "data": {
      "text/plain": "Train Loop:   0%|          | 0/296 [00:00<?, ?it/s]",
      "application/vnd.jupyter.widget-view+json": {
       "version_major": 2,
       "version_minor": 0,
       "model_id": "d0272a1bc5c44efca0755200fcb1ab4c"
      }
     },
     "metadata": {},
     "output_type": "display_data"
    },
    {
     "name": "stdout",
     "output_type": "stream",
     "text": [
      "Epoch [3-48], lr : [0.000001], Train Loss : [0.1968], Val Loss : [0.4043], Val F1 Score : [0.8275]\n",
      "EarlyStopping counter: 9 out of 12\n",
      "Best F1 score from now: 0.8415579903027046\n"
     ]
    },
    {
     "data": {
      "text/plain": "Train Loop:   0%|          | 0/296 [00:00<?, ?it/s]",
      "application/vnd.jupyter.widget-view+json": {
       "version_major": 2,
       "version_minor": 0,
       "model_id": "7151fbfcf6fa4e37b91dcca081684d95"
      }
     },
     "metadata": {},
     "output_type": "display_data"
    },
    {
     "name": "stdout",
     "output_type": "stream",
     "text": [
      "Epoch [3-49], lr : [0.000005], Train Loss : [0.2047], Val Loss : [0.3909], Val F1 Score : [0.8199]\n",
      "EarlyStopping counter: 10 out of 12\n",
      "Best F1 score from now: 0.8415579903027046\n"
     ]
    },
    {
     "data": {
      "text/plain": "Train Loop:   0%|          | 0/296 [00:00<?, ?it/s]",
      "application/vnd.jupyter.widget-view+json": {
       "version_major": 2,
       "version_minor": 0,
       "model_id": "93b7f79565d54f3abceda04187d362de"
      }
     },
     "metadata": {},
     "output_type": "display_data"
    },
    {
     "name": "stdout",
     "output_type": "stream",
     "text": [
      "Epoch [3-50], lr : [0.000004], Train Loss : [0.2076], Val Loss : [0.4048], Val F1 Score : [0.8151]\n",
      "EarlyStopping counter: 11 out of 12\n",
      "Best F1 score from now: 0.8415579903027046\n"
     ]
    },
    {
     "data": {
      "text/plain": "Train Loop:   0%|          | 0/296 [00:00<?, ?it/s]",
      "application/vnd.jupyter.widget-view+json": {
       "version_major": 2,
       "version_minor": 0,
       "model_id": "2f4b87b08068429197c515361e04ca05"
      }
     },
     "metadata": {},
     "output_type": "display_data"
    },
    {
     "name": "stdout",
     "output_type": "stream",
     "text": [
      "Epoch [3-51], lr : [0.000003], Train Loss : [0.1950], Val Loss : [0.4040], Val F1 Score : [0.8230]\n",
      "EarlyStopping counter: 12 out of 12\n",
      "Best F1 score from now: 0.8415579903027046\n",
      "Epoch [3-51], early stopping\n",
      "4-fold start\n"
     ]
    },
    {
     "data": {
      "text/plain": "Train Loop:   0%|          | 0/296 [00:00<?, ?it/s]",
      "application/vnd.jupyter.widget-view+json": {
       "version_major": 2,
       "version_minor": 0,
       "model_id": "2ad030bb374b4eaaabe7f515ea791244"
      }
     },
     "metadata": {},
     "output_type": "display_data"
    },
    {
     "name": "stdout",
     "output_type": "stream",
     "text": [
      "**Epoch [4-1], lr : [0.000095], Train Loss : [2.7229], Val Loss : [1.7059], Val F1 Score : [0.2527]\n"
     ]
    },
    {
     "data": {
      "text/plain": "Train Loop:   0%|          | 0/296 [00:00<?, ?it/s]",
      "application/vnd.jupyter.widget-view+json": {
       "version_major": 2,
       "version_minor": 0,
       "model_id": "1350e5b1958949a89a599110fe35381b"
      }
     },
     "metadata": {},
     "output_type": "display_data"
    },
    {
     "name": "stdout",
     "output_type": "stream",
     "text": [
      "**Epoch [4-2], lr : [0.000078], Train Loss : [1.6385], Val Loss : [1.0516], Val F1 Score : [0.4521]\n"
     ]
    },
    {
     "data": {
      "text/plain": "Train Loop:   0%|          | 0/296 [00:00<?, ?it/s]",
      "application/vnd.jupyter.widget-view+json": {
       "version_major": 2,
       "version_minor": 0,
       "model_id": "921fc32e46bc4cce888196b8142840aa"
      }
     },
     "metadata": {},
     "output_type": "display_data"
    },
    {
     "name": "stdout",
     "output_type": "stream",
     "text": [
      "**Epoch [4-3], lr : [0.000053], Train Loss : [1.1733], Val Loss : [0.8708], Val F1 Score : [0.5818]\n"
     ]
    },
    {
     "data": {
      "text/plain": "Train Loop:   0%|          | 0/296 [00:00<?, ?it/s]",
      "application/vnd.jupyter.widget-view+json": {
       "version_major": 2,
       "version_minor": 0,
       "model_id": "430dd741006e4315a244caf2eb1bd195"
      }
     },
     "metadata": {},
     "output_type": "display_data"
    },
    {
     "name": "stdout",
     "output_type": "stream",
     "text": [
      "**Epoch [4-4], lr : [0.000027], Train Loss : [0.8251], Val Loss : [0.6863], Val F1 Score : [0.6755]\n"
     ]
    },
    {
     "data": {
      "text/plain": "Train Loop:   0%|          | 0/296 [00:00<?, ?it/s]",
      "application/vnd.jupyter.widget-view+json": {
       "version_major": 2,
       "version_minor": 0,
       "model_id": "7b4f2b075bbd4236a6c8e2f02a7d3ba7"
      }
     },
     "metadata": {},
     "output_type": "display_data"
    },
    {
     "name": "stdout",
     "output_type": "stream",
     "text": [
      "**Epoch [4-5], lr : [0.000008], Train Loss : [0.6563], Val Loss : [0.5523], Val F1 Score : [0.7286]\n"
     ]
    },
    {
     "data": {
      "text/plain": "Train Loop:   0%|          | 0/296 [00:00<?, ?it/s]",
      "application/vnd.jupyter.widget-view+json": {
       "version_major": 2,
       "version_minor": 0,
       "model_id": "c84634bf6dcf41b3a3a87f6c4a8266fa"
      }
     },
     "metadata": {},
     "output_type": "display_data"
    },
    {
     "name": "stdout",
     "output_type": "stream",
     "text": [
      "**Epoch [4-6], lr : [0.000001], Train Loss : [0.5544], Val Loss : [0.5033], Val F1 Score : [0.7410]\n"
     ]
    },
    {
     "data": {
      "text/plain": "Train Loop:   0%|          | 0/296 [00:00<?, ?it/s]",
      "application/vnd.jupyter.widget-view+json": {
       "version_major": 2,
       "version_minor": 0,
       "model_id": "12cc1d65ee874902a26a3adb054e2013"
      }
     },
     "metadata": {},
     "output_type": "display_data"
    },
    {
     "name": "stdout",
     "output_type": "stream",
     "text": [
      "Epoch [4-7], lr : [0.000048], Train Loss : [0.7109], Val Loss : [0.6626], Val F1 Score : [0.6913]\n",
      "EarlyStopping counter: 1 out of 12\n",
      "Best F1 score from now: 0.7409782745225497\n"
     ]
    },
    {
     "data": {
      "text/plain": "Train Loop:   0%|          | 0/296 [00:00<?, ?it/s]",
      "application/vnd.jupyter.widget-view+json": {
       "version_major": 2,
       "version_minor": 0,
       "model_id": "6f37ccde6e9340e4aa63afff676cddbb"
      }
     },
     "metadata": {},
     "output_type": "display_data"
    },
    {
     "name": "stdout",
     "output_type": "stream",
     "text": [
      "Epoch [4-8], lr : [0.000039], Train Loss : [0.6644], Val Loss : [0.5960], Val F1 Score : [0.7339]\n",
      "EarlyStopping counter: 2 out of 12\n",
      "Best F1 score from now: 0.7409782745225497\n"
     ]
    },
    {
     "data": {
      "text/plain": "Train Loop:   0%|          | 0/296 [00:00<?, ?it/s]",
      "application/vnd.jupyter.widget-view+json": {
       "version_major": 2,
       "version_minor": 0,
       "model_id": "948adc62a8da416898135be3d379b28a"
      }
     },
     "metadata": {},
     "output_type": "display_data"
    },
    {
     "name": "stdout",
     "output_type": "stream",
     "text": [
      "**Epoch [4-9], lr : [0.000027], Train Loss : [0.5225], Val Loss : [0.5323], Val F1 Score : [0.7637]\n"
     ]
    },
    {
     "data": {
      "text/plain": "Train Loop:   0%|          | 0/296 [00:00<?, ?it/s]",
      "application/vnd.jupyter.widget-view+json": {
       "version_major": 2,
       "version_minor": 0,
       "model_id": "c9fe3b6d454a4f97aff28c7ed4cd9936"
      }
     },
     "metadata": {},
     "output_type": "display_data"
    },
    {
     "name": "stdout",
     "output_type": "stream",
     "text": [
      "**Epoch [4-10], lr : [0.000014], Train Loss : [0.4595], Val Loss : [0.4644], Val F1 Score : [0.7731]\n"
     ]
    },
    {
     "data": {
      "text/plain": "Train Loop:   0%|          | 0/296 [00:00<?, ?it/s]",
      "application/vnd.jupyter.widget-view+json": {
       "version_major": 2,
       "version_minor": 0,
       "model_id": "58cd14ed43c54a35bc83fde578bc0a45"
      }
     },
     "metadata": {},
     "output_type": "display_data"
    },
    {
     "name": "stdout",
     "output_type": "stream",
     "text": [
      "**Epoch [4-11], lr : [0.000004], Train Loss : [0.3763], Val Loss : [0.4181], Val F1 Score : [0.8038]\n"
     ]
    },
    {
     "data": {
      "text/plain": "Train Loop:   0%|          | 0/296 [00:00<?, ?it/s]",
      "application/vnd.jupyter.widget-view+json": {
       "version_major": 2,
       "version_minor": 0,
       "model_id": "f3b0b8d5582744fe8c9ef7380ff69bc2"
      }
     },
     "metadata": {},
     "output_type": "display_data"
    },
    {
     "name": "stdout",
     "output_type": "stream",
     "text": [
      "Epoch [4-12], lr : [0.000001], Train Loss : [0.3204], Val Loss : [0.4320], Val F1 Score : [0.7935]\n",
      "EarlyStopping counter: 1 out of 12\n",
      "Best F1 score from now: 0.8037925706601672\n"
     ]
    },
    {
     "data": {
      "text/plain": "Train Loop:   0%|          | 0/296 [00:00<?, ?it/s]",
      "application/vnd.jupyter.widget-view+json": {
       "version_major": 2,
       "version_minor": 0,
       "model_id": "be5892424d5b45a6802bec9cd01fee47"
      }
     },
     "metadata": {},
     "output_type": "display_data"
    },
    {
     "name": "stdout",
     "output_type": "stream",
     "text": [
      "Epoch [4-13], lr : [0.000024], Train Loss : [0.3823], Val Loss : [0.4957], Val F1 Score : [0.7610]\n",
      "EarlyStopping counter: 2 out of 12\n",
      "Best F1 score from now: 0.8037925706601672\n"
     ]
    },
    {
     "data": {
      "text/plain": "Train Loop:   0%|          | 0/296 [00:00<?, ?it/s]",
      "application/vnd.jupyter.widget-view+json": {
       "version_major": 2,
       "version_minor": 0,
       "model_id": "3e7a46801b85454b969ce7069833fb20"
      }
     },
     "metadata": {},
     "output_type": "display_data"
    },
    {
     "name": "stdout",
     "output_type": "stream",
     "text": [
      "Epoch [4-14], lr : [0.000020], Train Loss : [0.3795], Val Loss : [0.4956], Val F1 Score : [0.7574]\n",
      "EarlyStopping counter: 3 out of 12\n",
      "Best F1 score from now: 0.8037925706601672\n"
     ]
    },
    {
     "data": {
      "text/plain": "Train Loop:   0%|          | 0/296 [00:00<?, ?it/s]",
      "application/vnd.jupyter.widget-view+json": {
       "version_major": 2,
       "version_minor": 0,
       "model_id": "11cf579dd78644f1b5213249535b69c2"
      }
     },
     "metadata": {},
     "output_type": "display_data"
    },
    {
     "name": "stdout",
     "output_type": "stream",
     "text": [
      "Epoch [4-15], lr : [0.000014], Train Loss : [0.2913], Val Loss : [0.4777], Val F1 Score : [0.7913]\n",
      "EarlyStopping counter: 4 out of 12\n",
      "Best F1 score from now: 0.8037925706601672\n"
     ]
    },
    {
     "data": {
      "text/plain": "Train Loop:   0%|          | 0/296 [00:00<?, ?it/s]",
      "application/vnd.jupyter.widget-view+json": {
       "version_major": 2,
       "version_minor": 0,
       "model_id": "7d14ea4b51e24d43a30abf835bc7bc56"
      }
     },
     "metadata": {},
     "output_type": "display_data"
    },
    {
     "name": "stdout",
     "output_type": "stream",
     "text": [
      "Epoch [4-16], lr : [0.000007], Train Loss : [0.3209], Val Loss : [0.4371], Val F1 Score : [0.7950]\n",
      "EarlyStopping counter: 5 out of 12\n",
      "Best F1 score from now: 0.8037925706601672\n"
     ]
    },
    {
     "data": {
      "text/plain": "Train Loop:   0%|          | 0/296 [00:00<?, ?it/s]",
      "application/vnd.jupyter.widget-view+json": {
       "version_major": 2,
       "version_minor": 0,
       "model_id": "01d72c6e10dd468a85b3d9ebe2ee1af1"
      }
     },
     "metadata": {},
     "output_type": "display_data"
    },
    {
     "name": "stdout",
     "output_type": "stream",
     "text": [
      "**Epoch [4-17], lr : [0.000002], Train Loss : [0.2719], Val Loss : [0.4130], Val F1 Score : [0.8121]\n"
     ]
    },
    {
     "data": {
      "text/plain": "Train Loop:   0%|          | 0/296 [00:00<?, ?it/s]",
      "application/vnd.jupyter.widget-view+json": {
       "version_major": 2,
       "version_minor": 0,
       "model_id": "be5dece19d1842db97bbdd1b2807188c"
      }
     },
     "metadata": {},
     "output_type": "display_data"
    },
    {
     "name": "stdout",
     "output_type": "stream",
     "text": [
      "Epoch [4-18], lr : [0.000001], Train Loss : [0.2594], Val Loss : [0.4205], Val F1 Score : [0.8093]\n",
      "EarlyStopping counter: 1 out of 12\n",
      "Best F1 score from now: 0.812059789693094\n"
     ]
    },
    {
     "data": {
      "text/plain": "Train Loop:   0%|          | 0/296 [00:00<?, ?it/s]",
      "application/vnd.jupyter.widget-view+json": {
       "version_major": 2,
       "version_minor": 0,
       "model_id": "48a58dc8794d41a9b0b0bc05f1a9a4ee"
      }
     },
     "metadata": {},
     "output_type": "display_data"
    },
    {
     "name": "stdout",
     "output_type": "stream",
     "text": [
      "**Epoch [4-19], lr : [0.000012], Train Loss : [0.2754], Val Loss : [0.4504], Val F1 Score : [0.8150]\n"
     ]
    },
    {
     "data": {
      "text/plain": "Train Loop:   0%|          | 0/296 [00:00<?, ?it/s]",
      "application/vnd.jupyter.widget-view+json": {
       "version_major": 2,
       "version_minor": 0,
       "model_id": "5e1bf05f9f184d8eb0db4cc8d5a3a178"
      }
     },
     "metadata": {},
     "output_type": "display_data"
    },
    {
     "name": "stdout",
     "output_type": "stream",
     "text": [
      "Epoch [4-20], lr : [0.000010], Train Loss : [0.2841], Val Loss : [0.4647], Val F1 Score : [0.7815]\n",
      "EarlyStopping counter: 1 out of 12\n",
      "Best F1 score from now: 0.815045095110753\n"
     ]
    },
    {
     "data": {
      "text/plain": "Train Loop:   0%|          | 0/296 [00:00<?, ?it/s]",
      "application/vnd.jupyter.widget-view+json": {
       "version_major": 2,
       "version_minor": 0,
       "model_id": "ecb336e89fe74d6db8fcd5a50baeb0ab"
      }
     },
     "metadata": {},
     "output_type": "display_data"
    },
    {
     "name": "stdout",
     "output_type": "stream",
     "text": [
      "Epoch [4-21], lr : [0.000007], Train Loss : [0.2543], Val Loss : [0.4526], Val F1 Score : [0.7913]\n",
      "EarlyStopping counter: 2 out of 12\n",
      "Best F1 score from now: 0.815045095110753\n"
     ]
    },
    {
     "data": {
      "text/plain": "Train Loop:   0%|          | 0/296 [00:00<?, ?it/s]",
      "application/vnd.jupyter.widget-view+json": {
       "version_major": 2,
       "version_minor": 0,
       "model_id": "4ce2a6aab20f430f810e234cff433d40"
      }
     },
     "metadata": {},
     "output_type": "display_data"
    },
    {
     "name": "stdout",
     "output_type": "stream",
     "text": [
      "**Epoch [4-22], lr : [0.000004], Train Loss : [0.2593], Val Loss : [0.4221], Val F1 Score : [0.8260]\n"
     ]
    },
    {
     "data": {
      "text/plain": "Train Loop:   0%|          | 0/296 [00:00<?, ?it/s]",
      "application/vnd.jupyter.widget-view+json": {
       "version_major": 2,
       "version_minor": 0,
       "model_id": "7c2d7207d4694dd09a8eb1c3a7317a96"
      }
     },
     "metadata": {},
     "output_type": "display_data"
    },
    {
     "name": "stdout",
     "output_type": "stream",
     "text": [
      "Epoch [4-23], lr : [0.000001], Train Loss : [0.2580], Val Loss : [0.4326], Val F1 Score : [0.8101]\n",
      "EarlyStopping counter: 1 out of 12\n",
      "Best F1 score from now: 0.8259727272520294\n"
     ]
    },
    {
     "data": {
      "text/plain": "Train Loop:   0%|          | 0/296 [00:00<?, ?it/s]",
      "application/vnd.jupyter.widget-view+json": {
       "version_major": 2,
       "version_minor": 0,
       "model_id": "a03ea49cd7ce412b88624214e821fc0a"
      }
     },
     "metadata": {},
     "output_type": "display_data"
    },
    {
     "name": "stdout",
     "output_type": "stream",
     "text": [
      "Epoch [4-24], lr : [0.000001], Train Loss : [0.2344], Val Loss : [0.4284], Val F1 Score : [0.8092]\n",
      "EarlyStopping counter: 2 out of 12\n",
      "Best F1 score from now: 0.8259727272520294\n"
     ]
    },
    {
     "data": {
      "text/plain": "Train Loop:   0%|          | 0/296 [00:00<?, ?it/s]",
      "application/vnd.jupyter.widget-view+json": {
       "version_major": 2,
       "version_minor": 0,
       "model_id": "64ff1961461b427ea71f00f6d64b0ca5"
      }
     },
     "metadata": {},
     "output_type": "display_data"
    },
    {
     "name": "stdout",
     "output_type": "stream",
     "text": [
      "Epoch [4-25], lr : [0.000006], Train Loss : [0.2691], Val Loss : [0.4432], Val F1 Score : [0.7996]\n",
      "EarlyStopping counter: 3 out of 12\n",
      "Best F1 score from now: 0.8259727272520294\n"
     ]
    },
    {
     "data": {
      "text/plain": "Train Loop:   0%|          | 0/296 [00:00<?, ?it/s]",
      "application/vnd.jupyter.widget-view+json": {
       "version_major": 2,
       "version_minor": 0,
       "model_id": "56899f939d0a437b81f6fa6ee5686f3e"
      }
     },
     "metadata": {},
     "output_type": "display_data"
    },
    {
     "name": "stdout",
     "output_type": "stream",
     "text": [
      "Epoch [4-26], lr : [0.000005], Train Loss : [0.2405], Val Loss : [0.4470], Val F1 Score : [0.7954]\n",
      "EarlyStopping counter: 4 out of 12\n",
      "Best F1 score from now: 0.8259727272520294\n"
     ]
    },
    {
     "data": {
      "text/plain": "Train Loop:   0%|          | 0/296 [00:00<?, ?it/s]",
      "application/vnd.jupyter.widget-view+json": {
       "version_major": 2,
       "version_minor": 0,
       "model_id": "83f4606096f94eabb0270c38f5aac1d7"
      }
     },
     "metadata": {},
     "output_type": "display_data"
    },
    {
     "name": "stdout",
     "output_type": "stream",
     "text": [
      "Epoch [4-27], lr : [0.000004], Train Loss : [0.2347], Val Loss : [0.4414], Val F1 Score : [0.8028]\n",
      "EarlyStopping counter: 5 out of 12\n",
      "Best F1 score from now: 0.8259727272520294\n"
     ]
    },
    {
     "data": {
      "text/plain": "Train Loop:   0%|          | 0/296 [00:00<?, ?it/s]",
      "application/vnd.jupyter.widget-view+json": {
       "version_major": 2,
       "version_minor": 0,
       "model_id": "b6ee57b021e1406882f3b9de3090b355"
      }
     },
     "metadata": {},
     "output_type": "display_data"
    },
    {
     "name": "stdout",
     "output_type": "stream",
     "text": [
      "Epoch [4-28], lr : [0.000002], Train Loss : [0.2158], Val Loss : [0.4198], Val F1 Score : [0.8107]\n",
      "EarlyStopping counter: 6 out of 12\n",
      "Best F1 score from now: 0.8259727272520294\n"
     ]
    },
    {
     "data": {
      "text/plain": "Train Loop:   0%|          | 0/296 [00:00<?, ?it/s]",
      "application/vnd.jupyter.widget-view+json": {
       "version_major": 2,
       "version_minor": 0,
       "model_id": "7e051d37b8664f6b8aa1332ff9497eb4"
      }
     },
     "metadata": {},
     "output_type": "display_data"
    },
    {
     "name": "stdout",
     "output_type": "stream",
     "text": [
      "Epoch [4-29], lr : [0.000001], Train Loss : [0.2177], Val Loss : [0.4110], Val F1 Score : [0.8173]\n",
      "EarlyStopping counter: 7 out of 12\n",
      "Best F1 score from now: 0.8259727272520294\n"
     ]
    },
    {
     "data": {
      "text/plain": "Train Loop:   0%|          | 0/296 [00:00<?, ?it/s]",
      "application/vnd.jupyter.widget-view+json": {
       "version_major": 2,
       "version_minor": 0,
       "model_id": "972937f91cbf42db8b8c663fffa1396d"
      }
     },
     "metadata": {},
     "output_type": "display_data"
    },
    {
     "name": "stdout",
     "output_type": "stream",
     "text": [
      "Epoch [4-30], lr : [0.000001], Train Loss : [0.2318], Val Loss : [0.4389], Val F1 Score : [0.7992]\n",
      "EarlyStopping counter: 8 out of 12\n",
      "Best F1 score from now: 0.8259727272520294\n"
     ]
    },
    {
     "data": {
      "text/plain": "Train Loop:   0%|          | 0/296 [00:00<?, ?it/s]",
      "application/vnd.jupyter.widget-view+json": {
       "version_major": 2,
       "version_minor": 0,
       "model_id": "7e15701fe9db4434a70847b41341b253"
      }
     },
     "metadata": {},
     "output_type": "display_data"
    },
    {
     "name": "stdout",
     "output_type": "stream",
     "text": [
      "Epoch [4-31], lr : [0.000005], Train Loss : [0.2262], Val Loss : [0.4019], Val F1 Score : [0.8124]\n",
      "EarlyStopping counter: 9 out of 12\n",
      "Best F1 score from now: 0.8259727272520294\n"
     ]
    },
    {
     "data": {
      "text/plain": "Train Loop:   0%|          | 0/296 [00:00<?, ?it/s]",
      "application/vnd.jupyter.widget-view+json": {
       "version_major": 2,
       "version_minor": 0,
       "model_id": "8d861475acf4499186587fb08ad87df7"
      }
     },
     "metadata": {},
     "output_type": "display_data"
    },
    {
     "name": "stdout",
     "output_type": "stream",
     "text": [
      "Epoch [4-32], lr : [0.000004], Train Loss : [0.2298], Val Loss : [0.4526], Val F1 Score : [0.7918]\n",
      "EarlyStopping counter: 10 out of 12\n",
      "Best F1 score from now: 0.8259727272520294\n"
     ]
    },
    {
     "data": {
      "text/plain": "Train Loop:   0%|          | 0/296 [00:00<?, ?it/s]",
      "application/vnd.jupyter.widget-view+json": {
       "version_major": 2,
       "version_minor": 0,
       "model_id": "cd63adbb980f487d86ec0e03c231d683"
      }
     },
     "metadata": {},
     "output_type": "display_data"
    },
    {
     "name": "stdout",
     "output_type": "stream",
     "text": [
      "Epoch [4-33], lr : [0.000003], Train Loss : [0.2107], Val Loss : [0.4728], Val F1 Score : [0.7952]\n",
      "EarlyStopping counter: 11 out of 12\n",
      "Best F1 score from now: 0.8259727272520294\n"
     ]
    },
    {
     "data": {
      "text/plain": "Train Loop:   0%|          | 0/296 [00:00<?, ?it/s]",
      "application/vnd.jupyter.widget-view+json": {
       "version_major": 2,
       "version_minor": 0,
       "model_id": "d4a32d330cf94c75bacc86aabbd30bd6"
      }
     },
     "metadata": {},
     "output_type": "display_data"
    },
    {
     "name": "stdout",
     "output_type": "stream",
     "text": [
      "Epoch [4-34], lr : [0.000002], Train Loss : [0.2273], Val Loss : [0.4379], Val F1 Score : [0.8147]\n",
      "EarlyStopping counter: 12 out of 12\n",
      "Best F1 score from now: 0.8259727272520294\n",
      "Epoch [4-34], early stopping\n",
      "0.8307654319362665\n"
     ]
    }
   ],
   "source": [
    "f1_score = k_fold(CFG['K-FOLD'])\n",
    "print(f1_score)"
   ],
   "metadata": {
    "collapsed": false,
    "ExecuteTime": {
     "end_time": "2023-12-27T23:15:04.497186500Z",
     "start_time": "2023-12-27T13:04:43.244552500Z"
    }
   },
   "id": "fa7c861fcbddbf5c"
  },
  {
   "cell_type": "code",
   "execution_count": 37,
   "outputs": [
    {
     "data": {
      "text/plain": "           id               img_path\n0  TEST_00000  ./test/TEST_00000.jpg\n1  TEST_00001  ./test/TEST_00001.jpg\n2  TEST_00002  ./test/TEST_00002.jpg\n3  TEST_00003  ./test/TEST_00003.jpg\n4  TEST_00004  ./test/TEST_00004.jpg",
      "text/html": "<div>\n<style scoped>\n    .dataframe tbody tr th:only-of-type {\n        vertical-align: middle;\n    }\n\n    .dataframe tbody tr th {\n        vertical-align: top;\n    }\n\n    .dataframe thead th {\n        text-align: right;\n    }\n</style>\n<table border=\"1\" class=\"dataframe\">\n  <thead>\n    <tr style=\"text-align: right;\">\n      <th></th>\n      <th>id</th>\n      <th>img_path</th>\n    </tr>\n  </thead>\n  <tbody>\n    <tr>\n      <th>0</th>\n      <td>TEST_00000</td>\n      <td>./test/TEST_00000.jpg</td>\n    </tr>\n    <tr>\n      <th>1</th>\n      <td>TEST_00001</td>\n      <td>./test/TEST_00001.jpg</td>\n    </tr>\n    <tr>\n      <th>2</th>\n      <td>TEST_00002</td>\n      <td>./test/TEST_00002.jpg</td>\n    </tr>\n    <tr>\n      <th>3</th>\n      <td>TEST_00003</td>\n      <td>./test/TEST_00003.jpg</td>\n    </tr>\n    <tr>\n      <th>4</th>\n      <td>TEST_00004</td>\n      <td>./test/TEST_00004.jpg</td>\n    </tr>\n  </tbody>\n</table>\n</div>"
     },
     "execution_count": 37,
     "metadata": {},
     "output_type": "execute_result"
    }
   ],
   "source": [
    "test_df = pd.read_csv(os.path.join(data_path, './test.csv'))\n",
    "test_df.head()"
   ],
   "metadata": {
    "collapsed": false,
    "ExecuteTime": {
     "end_time": "2023-12-27T23:25:20.420447800Z",
     "start_time": "2023-12-27T23:25:20.373441700Z"
    }
   },
   "id": "9c8fff1a450556ec"
  },
  {
   "cell_type": "code",
   "execution_count": 38,
   "outputs": [],
   "source": [
    "test_img_paths = get_data(test_df, infer=True)"
   ],
   "metadata": {
    "collapsed": false,
    "ExecuteTime": {
     "end_time": "2023-12-27T23:25:21.257888Z",
     "start_time": "2023-12-27T23:25:21.210811100Z"
    }
   },
   "id": "6a50c39d21de27ed"
  },
  {
   "cell_type": "code",
   "execution_count": 39,
   "outputs": [],
   "source": [
    "test_dataset = CustomDataset(test_img_paths, None, test_transform)\n",
    "test_loader = DataLoader(test_dataset, batch_size=CFG['BATCH_SIZE'], shuffle=False, num_workers=0)"
   ],
   "metadata": {
    "collapsed": false,
    "ExecuteTime": {
     "end_time": "2023-12-27T23:25:21.761324600Z",
     "start_time": "2023-12-27T23:25:21.730074200Z"
    }
   },
   "id": "66859c2e35131aae"
  },
  {
   "cell_type": "code",
   "execution_count": 40,
   "outputs": [],
   "source": [
    "def inference(model, test_loader, device):\n",
    "    model.to(device)\n",
    "    model.eval()\n",
    "    \n",
    "    model_preds = []\n",
    "    \n",
    "    with torch.no_grad():\n",
    "        for idx, img in enumerate(test_loader):\n",
    "            img = img.float().to(device)\n",
    "            \n",
    "            model_pred = model(img).detach().cpu()\n",
    "            model_pred = F.softmax(model_pred, dim=1)\n",
    "            model_preds.extend(model_pred.numpy().tolist())\n",
    "    \n",
    "    print('Done.')\n",
    "    return model_preds"
   ],
   "metadata": {
    "collapsed": false,
    "ExecuteTime": {
     "end_time": "2023-12-27T23:25:22.666757700Z",
     "start_time": "2023-12-27T23:25:22.651133200Z"
    }
   },
   "id": "60aba723872ee62e"
  },
  {
   "cell_type": "code",
   "execution_count": 41,
   "outputs": [
    {
     "name": "stdout",
     "output_type": "stream",
     "text": [
      "0-fold CHECKPOINT LOADED: ../../data/runs/20231227220443/best_model_0.pt\n",
      "Done.\n",
      "1-fold CHECKPOINT LOADED: ../../data/runs/20231227220443/best_model_1.pt\n",
      "Done.\n",
      "2-fold CHECKPOINT LOADED: ../../data/runs/20231227220443/best_model_2.pt\n",
      "Done.\n",
      "3-fold CHECKPOINT LOADED: ../../data/runs/20231227220443/best_model_3.pt\n",
      "Done.\n",
      "4-fold CHECKPOINT LOADED: ../../data/runs/20231227220443/best_model_4.pt\n",
      "Done.\n"
     ]
    }
   ],
   "source": [
    "result_df = pd.DataFrame(np.zeros((test_df.shape[0], len(le.classes_))))\n",
    "for k_ in range(CFG['K-FOLD']):\n",
    "    checkpoint = os.path.join(data_path, f'runs/{run_id}/best_model_{k_}.pt')\n",
    "    print(f'{k_}-fold CHECKPOINT LOADED: {checkpoint}')\n",
    "    infer_model = torch.load(checkpoint)\n",
    "    ret = inference(infer_model, test_loader, device)\n",
    "    result_df += pd.DataFrame(ret)"
   ],
   "metadata": {
    "collapsed": false,
    "ExecuteTime": {
     "end_time": "2023-12-27T23:32:58.292132500Z",
     "start_time": "2023-12-27T23:25:34.307994700Z"
    }
   },
   "id": "eb268f8a50f8f1ff"
  },
  {
   "cell_type": "code",
   "execution_count": 48,
   "outputs": [
    {
     "data": {
      "text/plain": "         0         1         2         3         4         5         6   \\\n0  0.003708  0.009087  0.004699  0.003643  0.002822  0.004589  0.005564   \n1  0.004031  0.003125  4.741344  0.003319  0.002471  0.002338  0.001299   \n2  0.011057  0.013050  0.004738  0.005612  0.006272  0.003512  4.093072   \n3  4.820197  0.003335  0.002545  0.002804  0.002460  0.001580  0.001400   \n4  0.004187  0.006125  0.042994  0.006308  0.006542  0.003256  0.000850   \n\n         7         8         9   ...        40        41        42        43  \\\n0  0.003409  0.001804  0.047481  ...  0.007448  0.005319  0.011182  0.004573   \n1  0.002439  0.016347  0.003524  ...  0.002693  0.001955  0.003131  0.007745   \n2  0.004018  0.005727  0.109418  ...  0.006212  0.109290  0.018979  0.010112   \n3  0.001566  0.001247  0.002398  ...  0.015391  0.002335  0.003257  0.002933   \n4  0.004717  0.002436  0.003186  ...  0.003429  0.001683  0.003801  0.005928   \n\n         44        45        46        47        48        49  \n0  0.005545  0.006051  0.020833  0.002266  0.036456  0.006299  \n1  0.001894  0.002673  0.003984  0.002367  0.011093  0.001583  \n2  0.031653  0.017325  0.088354  0.004858  0.016058  0.005813  \n3  0.002055  0.002677  0.003872  0.001384  0.016738  0.002697  \n4  0.002489  0.002833  0.005225  0.005082  1.949325  0.002441  \n\n[5 rows x 50 columns]",
      "text/html": "<div>\n<style scoped>\n    .dataframe tbody tr th:only-of-type {\n        vertical-align: middle;\n    }\n\n    .dataframe tbody tr th {\n        vertical-align: top;\n    }\n\n    .dataframe thead th {\n        text-align: right;\n    }\n</style>\n<table border=\"1\" class=\"dataframe\">\n  <thead>\n    <tr style=\"text-align: right;\">\n      <th></th>\n      <th>0</th>\n      <th>1</th>\n      <th>2</th>\n      <th>3</th>\n      <th>4</th>\n      <th>5</th>\n      <th>6</th>\n      <th>7</th>\n      <th>8</th>\n      <th>9</th>\n      <th>...</th>\n      <th>40</th>\n      <th>41</th>\n      <th>42</th>\n      <th>43</th>\n      <th>44</th>\n      <th>45</th>\n      <th>46</th>\n      <th>47</th>\n      <th>48</th>\n      <th>49</th>\n    </tr>\n  </thead>\n  <tbody>\n    <tr>\n      <th>0</th>\n      <td>0.003708</td>\n      <td>0.009087</td>\n      <td>0.004699</td>\n      <td>0.003643</td>\n      <td>0.002822</td>\n      <td>0.004589</td>\n      <td>0.005564</td>\n      <td>0.003409</td>\n      <td>0.001804</td>\n      <td>0.047481</td>\n      <td>...</td>\n      <td>0.007448</td>\n      <td>0.005319</td>\n      <td>0.011182</td>\n      <td>0.004573</td>\n      <td>0.005545</td>\n      <td>0.006051</td>\n      <td>0.020833</td>\n      <td>0.002266</td>\n      <td>0.036456</td>\n      <td>0.006299</td>\n    </tr>\n    <tr>\n      <th>1</th>\n      <td>0.004031</td>\n      <td>0.003125</td>\n      <td>4.741344</td>\n      <td>0.003319</td>\n      <td>0.002471</td>\n      <td>0.002338</td>\n      <td>0.001299</td>\n      <td>0.002439</td>\n      <td>0.016347</td>\n      <td>0.003524</td>\n      <td>...</td>\n      <td>0.002693</td>\n      <td>0.001955</td>\n      <td>0.003131</td>\n      <td>0.007745</td>\n      <td>0.001894</td>\n      <td>0.002673</td>\n      <td>0.003984</td>\n      <td>0.002367</td>\n      <td>0.011093</td>\n      <td>0.001583</td>\n    </tr>\n    <tr>\n      <th>2</th>\n      <td>0.011057</td>\n      <td>0.013050</td>\n      <td>0.004738</td>\n      <td>0.005612</td>\n      <td>0.006272</td>\n      <td>0.003512</td>\n      <td>4.093072</td>\n      <td>0.004018</td>\n      <td>0.005727</td>\n      <td>0.109418</td>\n      <td>...</td>\n      <td>0.006212</td>\n      <td>0.109290</td>\n      <td>0.018979</td>\n      <td>0.010112</td>\n      <td>0.031653</td>\n      <td>0.017325</td>\n      <td>0.088354</td>\n      <td>0.004858</td>\n      <td>0.016058</td>\n      <td>0.005813</td>\n    </tr>\n    <tr>\n      <th>3</th>\n      <td>4.820197</td>\n      <td>0.003335</td>\n      <td>0.002545</td>\n      <td>0.002804</td>\n      <td>0.002460</td>\n      <td>0.001580</td>\n      <td>0.001400</td>\n      <td>0.001566</td>\n      <td>0.001247</td>\n      <td>0.002398</td>\n      <td>...</td>\n      <td>0.015391</td>\n      <td>0.002335</td>\n      <td>0.003257</td>\n      <td>0.002933</td>\n      <td>0.002055</td>\n      <td>0.002677</td>\n      <td>0.003872</td>\n      <td>0.001384</td>\n      <td>0.016738</td>\n      <td>0.002697</td>\n    </tr>\n    <tr>\n      <th>4</th>\n      <td>0.004187</td>\n      <td>0.006125</td>\n      <td>0.042994</td>\n      <td>0.006308</td>\n      <td>0.006542</td>\n      <td>0.003256</td>\n      <td>0.000850</td>\n      <td>0.004717</td>\n      <td>0.002436</td>\n      <td>0.003186</td>\n      <td>...</td>\n      <td>0.003429</td>\n      <td>0.001683</td>\n      <td>0.003801</td>\n      <td>0.005928</td>\n      <td>0.002489</td>\n      <td>0.002833</td>\n      <td>0.005225</td>\n      <td>0.005082</td>\n      <td>1.949325</td>\n      <td>0.002441</td>\n    </tr>\n  </tbody>\n</table>\n<p>5 rows × 50 columns</p>\n</div>"
     },
     "execution_count": 48,
     "metadata": {},
     "output_type": "execute_result"
    }
   ],
   "source": [
    "result_df.head()"
   ],
   "metadata": {
    "collapsed": false,
    "ExecuteTime": {
     "end_time": "2023-12-27T23:32:58.440169900Z",
     "start_time": "2023-12-27T23:32:58.396821200Z"
    }
   },
   "id": "7f4094794fa731b8"
  },
  {
   "cell_type": "code",
   "execution_count": 42,
   "outputs": [],
   "source": [
    "preds = result_df.idxmax(axis=1)"
   ],
   "metadata": {
    "collapsed": false,
    "ExecuteTime": {
     "end_time": "2023-12-27T23:32:58.328772500Z",
     "start_time": "2023-12-27T23:32:58.294106700Z"
    }
   },
   "id": "7fd493b0d8b9cee2"
  },
  {
   "cell_type": "code",
   "execution_count": 43,
   "outputs": [],
   "source": [
    "preds = le.inverse_transform(preds)"
   ],
   "metadata": {
    "collapsed": false,
    "ExecuteTime": {
     "end_time": "2023-12-27T23:32:58.332772400Z",
     "start_time": "2023-12-27T23:32:58.321884900Z"
    }
   },
   "id": "37b7f04a0b4de44f"
  },
  {
   "cell_type": "code",
   "execution_count": 44,
   "outputs": [],
   "source": [
    "submit = pd.read_csv(os.path.join(data_path, './sample_submission.csv'))"
   ],
   "metadata": {
    "collapsed": false,
    "ExecuteTime": {
     "end_time": "2023-12-27T23:32:58.355930800Z",
     "start_time": "2023-12-27T23:32:58.332772400Z"
    }
   },
   "id": "fe59292099a9b96e"
  },
  {
   "cell_type": "code",
   "execution_count": 45,
   "outputs": [],
   "source": [
    "submit['artist'] = preds"
   ],
   "metadata": {
    "collapsed": false,
    "ExecuteTime": {
     "end_time": "2023-12-27T23:32:58.378302100Z",
     "start_time": "2023-12-27T23:32:58.345231200Z"
    }
   },
   "id": "8582475a6cb3db6f"
  },
  {
   "cell_type": "code",
   "execution_count": 46,
   "outputs": [
    {
     "data": {
      "text/plain": "           id             artist\n0  TEST_00000        Edgar Degas\n1  TEST_00001  Amedeo Modigliani\n2  TEST_00002         Caravaggio\n3  TEST_00003    Albrecht Du rer\n4  TEST_00004      Pablo Picasso",
      "text/html": "<div>\n<style scoped>\n    .dataframe tbody tr th:only-of-type {\n        vertical-align: middle;\n    }\n\n    .dataframe tbody tr th {\n        vertical-align: top;\n    }\n\n    .dataframe thead th {\n        text-align: right;\n    }\n</style>\n<table border=\"1\" class=\"dataframe\">\n  <thead>\n    <tr style=\"text-align: right;\">\n      <th></th>\n      <th>id</th>\n      <th>artist</th>\n    </tr>\n  </thead>\n  <tbody>\n    <tr>\n      <th>0</th>\n      <td>TEST_00000</td>\n      <td>Edgar Degas</td>\n    </tr>\n    <tr>\n      <th>1</th>\n      <td>TEST_00001</td>\n      <td>Amedeo Modigliani</td>\n    </tr>\n    <tr>\n      <th>2</th>\n      <td>TEST_00002</td>\n      <td>Caravaggio</td>\n    </tr>\n    <tr>\n      <th>3</th>\n      <td>TEST_00003</td>\n      <td>Albrecht Du rer</td>\n    </tr>\n    <tr>\n      <th>4</th>\n      <td>TEST_00004</td>\n      <td>Pablo Picasso</td>\n    </tr>\n  </tbody>\n</table>\n</div>"
     },
     "execution_count": 46,
     "metadata": {},
     "output_type": "execute_result"
    }
   ],
   "source": [
    "submit.head()"
   ],
   "metadata": {
    "collapsed": false,
    "ExecuteTime": {
     "end_time": "2023-12-27T23:32:58.396821200Z",
     "start_time": "2023-12-27T23:32:58.353930200Z"
    }
   },
   "id": "15bd98c5d6b59bf4"
  },
  {
   "cell_type": "code",
   "execution_count": 47,
   "outputs": [],
   "source": [
    "submit.to_csv(os.path.join(data_path, f\"./submit_{CFG['FILENAME']}.csv\"), index=False)"
   ],
   "metadata": {
    "collapsed": false,
    "ExecuteTime": {
     "end_time": "2023-12-27T23:32:58.402040600Z",
     "start_time": "2023-12-27T23:32:58.366286300Z"
    }
   },
   "id": "eed3cb0dc59f47f7"
  },
  {
   "cell_type": "code",
   "execution_count": 36,
   "outputs": [],
   "source": [],
   "metadata": {
    "collapsed": false,
    "ExecuteTime": {
     "end_time": "2023-12-27T23:22:28.212050500Z",
     "start_time": "2023-12-27T23:22:28.139087700Z"
    }
   },
   "id": "479c26c8a5a70d89"
  }
 ],
 "metadata": {
  "kernelspec": {
   "display_name": "Python 3",
   "language": "python",
   "name": "python3"
  },
  "language_info": {
   "codemirror_mode": {
    "name": "ipython",
    "version": 2
   },
   "file_extension": ".py",
   "mimetype": "text/x-python",
   "name": "python",
   "nbconvert_exporter": "python",
   "pygments_lexer": "ipython2",
   "version": "2.7.6"
  }
 },
 "nbformat": 4,
 "nbformat_minor": 5
}
