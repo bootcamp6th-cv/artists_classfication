{
 "cells": [
  {
   "cell_type": "markdown",
   "source": [
    "# augmentation\n",
    "* vit model 적용\n",
    "    - tiny_vit_21m_384.dist_in22k_ft_in1k\n",
    "    - dropout, normalization 적용\n",
    "* Augmentation\n",
    "    - Transpose # 행렬 스왑\n",
    "    - HorizontalFlip # 좌우 반전\n",
    "    - VerticalFlip # 상하 반전\n",
    "    - ShiftScaleRotate # 랜덤하게 옮기고, scale, 회전\n",
    "    - HueSaturationValue # 빛깔, 색조, 값 변환\n",
    "    - RandomBrightnessContrast # 명도 대비\n",
    "    - ChannelShuffle # RGB 채널 간 shuffle\n",
    "    - CoarseDropout # 램덤하게 검은 픽셸 추가\n",
    "* lr scheduler\n",
    "    - Custom CosineAnnealingWarmUpRestarts\n",
    "* optimizer\n",
    "    - AdamW\n",
    "* sampler 적용 \n",
    "* cutmix 적용 x\n",
    "* focal loss 적용\n",
    "* style transfer 데이터 사용 x \n",
    "* result\n",
    "* Epoch [53], Train Loss : [0.11533] Val Loss : [0.30700] Val F1 Score : [0.84243]\n",
    "    - train loss : 0.1153 \n",
    "    - validation loss : 0.3070\n",
    "    - f1 score : 0.8424\n",
    "    - epoch : 53\n",
    "    - public 점수 : 0.8045375035\n",
    "    - private 점수 : 0.8109454825"
   ],
   "metadata": {
    "collapsed": false
   },
   "id": "35ad6a7e30f8925e"
  },
  {
   "cell_type": "code",
   "execution_count": 1,
   "outputs": [],
   "source": [
    "import gc\n",
    "import os\n",
    "import random\n",
    "from datetime import datetime\n",
    "\n",
    "import pandas as pd\n",
    "import numpy as np\n",
    "import matplotlib.pyplot as plt\n",
    "import seaborn as sns\n",
    "import cv2\n",
    "\n",
    "from sklearn import preprocessing\n",
    "from sklearn.model_selection import train_test_split\n",
    "from sklearn.metrics import f1_score\n",
    "\n",
    "import torch\n",
    "import torch.nn as nn\n",
    "import torch.optim as optim\n",
    "import torch.nn.functional as F\n",
    "from torch.utils.data import Dataset, DataLoader\n",
    "\n",
    "from tqdm.auto import tqdm\n",
    "\n",
    "import albumentations as A\n",
    "from albumentations.pytorch.transforms import ToTensorV2\n",
    "\n",
    "import timm\n",
    "\n",
    "import warnings\n",
    "warnings.filterwarnings(action='ignore') "
   ],
   "metadata": {
    "collapsed": false,
    "ExecuteTime": {
     "end_time": "2023-12-20T18:42:06.969146Z",
     "start_time": "2023-12-20T18:42:04.377985100Z"
    }
   },
   "id": "initial_id"
  },
  {
   "cell_type": "code",
   "execution_count": 2,
   "outputs": [],
   "source": [
    "device = torch.device('cuda') if torch.cuda.is_available() else torch.device('cpu')"
   ],
   "metadata": {
    "collapsed": false,
    "ExecuteTime": {
     "end_time": "2023-12-20T18:42:07.012672600Z",
     "start_time": "2023-12-20T18:42:06.972146500Z"
    }
   },
   "id": "5fc1ff58a4a9d6d1"
  },
  {
   "cell_type": "code",
   "execution_count": 3,
   "outputs": [],
   "source": [
    "CFG = {\n",
    "    'IMG_SIZE': 384,\n",
    "    'EPOCHS': 1000,\n",
    "    'LEARNING_RATE': 8e-6,\n",
    "    'BATCH_SIZE': 8,\n",
    "    'PATIENCE': 10,\n",
    "    'WARMUP': 5,\n",
    "    'FILENAME': 'tiny_vit384_combination',\n",
    "    'SEED': 6\n",
    "}"
   ],
   "metadata": {
    "collapsed": false,
    "ExecuteTime": {
     "end_time": "2023-12-20T18:42:07.016712100Z",
     "start_time": "2023-12-20T18:42:07.003341100Z"
    }
   },
   "id": "5c99354cb0d52004"
  },
  {
   "cell_type": "code",
   "execution_count": 4,
   "outputs": [],
   "source": [
    "def seed_everything(seed):\n",
    "    random.seed(seed)\n",
    "    os.environ['PYTHONHASHSEED'] = str(seed)\n",
    "    np.random.seed(seed)\n",
    "    torch.manual_seed(seed)\n",
    "    torch.cuda.manual_seed(seed)\n",
    "    torch.cuda.manual_seed_all(seed)\n",
    "    torch.backends.cudnn.deterministic = True\n",
    "    torch.backends.cudnn.benchmark = False\n",
    "\n",
    "seed_everything(CFG['SEED']) # Seed 고정"
   ],
   "metadata": {
    "collapsed": false,
    "ExecuteTime": {
     "end_time": "2023-12-20T18:42:07.031990400Z",
     "start_time": "2023-12-20T18:42:07.018797300Z"
    }
   },
   "id": "57142b16a76126df"
  },
  {
   "cell_type": "code",
   "execution_count": 5,
   "outputs": [],
   "source": [
    "running_colab = 'google.colab' in str(get_ipython()) if hasattr(__builtins__,'__IPYTHON__') else False\n",
    "if running_colab:\n",
    "    from google.colab import drive\n",
    "    drive.mount('/content/drive')\n",
    "if running_colab:\n",
    "    data_path = '/content/drive/MyDrive/Colab Notebooks/ai6th/data/optiver/'\n",
    "else:\n",
    "    data_path = '../../data/'"
   ],
   "metadata": {
    "collapsed": false,
    "ExecuteTime": {
     "end_time": "2023-12-20T18:42:07.062559Z",
     "start_time": "2023-12-20T18:42:07.032990900Z"
    }
   },
   "id": "858b421c8c479378"
  },
  {
   "cell_type": "code",
   "execution_count": 6,
   "outputs": [
    {
     "data": {
      "text/plain": "   id          img_path            artist\n0   0  ./train/0000.jpg   Diego Velazquez\n1   1  ./train/0001.jpg  Vincent van Gogh\n2   2  ./train/0002.jpg      Claude Monet\n3   3  ./train/0003.jpg       Edgar Degas\n4   4  ./train/0004.jpg  Hieronymus Bosch",
      "text/html": "<div>\n<style scoped>\n    .dataframe tbody tr th:only-of-type {\n        vertical-align: middle;\n    }\n\n    .dataframe tbody tr th {\n        vertical-align: top;\n    }\n\n    .dataframe thead th {\n        text-align: right;\n    }\n</style>\n<table border=\"1\" class=\"dataframe\">\n  <thead>\n    <tr style=\"text-align: right;\">\n      <th></th>\n      <th>id</th>\n      <th>img_path</th>\n      <th>artist</th>\n    </tr>\n  </thead>\n  <tbody>\n    <tr>\n      <th>0</th>\n      <td>0</td>\n      <td>./train/0000.jpg</td>\n      <td>Diego Velazquez</td>\n    </tr>\n    <tr>\n      <th>1</th>\n      <td>1</td>\n      <td>./train/0001.jpg</td>\n      <td>Vincent van Gogh</td>\n    </tr>\n    <tr>\n      <th>2</th>\n      <td>2</td>\n      <td>./train/0002.jpg</td>\n      <td>Claude Monet</td>\n    </tr>\n    <tr>\n      <th>3</th>\n      <td>3</td>\n      <td>./train/0003.jpg</td>\n      <td>Edgar Degas</td>\n    </tr>\n    <tr>\n      <th>4</th>\n      <td>4</td>\n      <td>./train/0004.jpg</td>\n      <td>Hieronymus Bosch</td>\n    </tr>\n  </tbody>\n</table>\n</div>"
     },
     "execution_count": 6,
     "metadata": {},
     "output_type": "execute_result"
    }
   ],
   "source": [
    "df = pd.read_csv(os.path.join(data_path, 'train.csv'))\n",
    "df.loc[3896, 'artist'] = 'Titian'\n",
    "df.loc[3986, 'artist'] = 'Alfred Sisley'\n",
    "df.head()"
   ],
   "metadata": {
    "collapsed": false,
    "ExecuteTime": {
     "end_time": "2023-12-20T18:42:07.080958100Z",
     "start_time": "2023-12-20T18:42:07.050239400Z"
    }
   },
   "id": "60ed6dfb973bafc5"
  },
  {
   "cell_type": "code",
   "execution_count": 7,
   "outputs": [],
   "source": [
    "artists = df.groupby('artist')[['id']].count().rename(columns={'id':'count'}).reset_index()"
   ],
   "metadata": {
    "collapsed": false,
    "ExecuteTime": {
     "end_time": "2023-12-20T18:42:07.105937700Z",
     "start_time": "2023-12-20T18:42:07.079955800Z"
    }
   },
   "id": "c031773f1ed5ca85"
  },
  {
   "cell_type": "code",
   "execution_count": 8,
   "outputs": [],
   "source": [
    "# Label Encoding\n",
    "le = preprocessing.LabelEncoder()\n",
    "df['artist'] = le.fit_transform(df['artist'].values)"
   ],
   "metadata": {
    "collapsed": false,
    "ExecuteTime": {
     "end_time": "2023-12-20T18:42:07.150560900Z",
     "start_time": "2023-12-20T18:42:07.095850400Z"
    }
   },
   "id": "2ae8b183518c9394"
  },
  {
   "cell_type": "code",
   "execution_count": 9,
   "outputs": [],
   "source": [
    "train_df, val_df = train_test_split(df, test_size=0.2, random_state=CFG['SEED'], stratify=df['artist'])"
   ],
   "metadata": {
    "collapsed": false,
    "ExecuteTime": {
     "end_time": "2023-12-20T18:42:07.187921400Z",
     "start_time": "2023-12-20T18:42:07.107934600Z"
    }
   },
   "id": "71c56b6890f87998"
  },
  {
   "cell_type": "code",
   "execution_count": 10,
   "outputs": [
    {
     "data": {
      "text/plain": "   id          img_path  artist\n0   0  ./train/0000.jpg       9\n1   1  ./train/0001.jpg      48\n2   2  ./train/0002.jpg       7\n3   3  ./train/0003.jpg      10\n4   4  ./train/0004.jpg      24",
      "text/html": "<div>\n<style scoped>\n    .dataframe tbody tr th:only-of-type {\n        vertical-align: middle;\n    }\n\n    .dataframe tbody tr th {\n        vertical-align: top;\n    }\n\n    .dataframe thead th {\n        text-align: right;\n    }\n</style>\n<table border=\"1\" class=\"dataframe\">\n  <thead>\n    <tr style=\"text-align: right;\">\n      <th></th>\n      <th>id</th>\n      <th>img_path</th>\n      <th>artist</th>\n    </tr>\n  </thead>\n  <tbody>\n    <tr>\n      <th>0</th>\n      <td>0</td>\n      <td>./train/0000.jpg</td>\n      <td>9</td>\n    </tr>\n    <tr>\n      <th>1</th>\n      <td>1</td>\n      <td>./train/0001.jpg</td>\n      <td>48</td>\n    </tr>\n    <tr>\n      <th>2</th>\n      <td>2</td>\n      <td>./train/0002.jpg</td>\n      <td>7</td>\n    </tr>\n    <tr>\n      <th>3</th>\n      <td>3</td>\n      <td>./train/0003.jpg</td>\n      <td>10</td>\n    </tr>\n    <tr>\n      <th>4</th>\n      <td>4</td>\n      <td>./train/0004.jpg</td>\n      <td>24</td>\n    </tr>\n  </tbody>\n</table>\n</div>"
     },
     "execution_count": 10,
     "metadata": {},
     "output_type": "execute_result"
    }
   ],
   "source": [
    "train_df = train_df.sort_values(by=['id'])\n",
    "train_df.head()"
   ],
   "metadata": {
    "collapsed": false,
    "ExecuteTime": {
     "end_time": "2023-12-20T18:42:07.232915200Z",
     "start_time": "2023-12-20T18:42:07.125565300Z"
    }
   },
   "id": "3146f5ea6c5ce2c4"
  },
  {
   "cell_type": "code",
   "execution_count": 11,
   "outputs": [
    {
     "data": {
      "text/plain": "      id          img_path  artist\n14    14  ./train/0014.jpg      15\n19    19  ./train/0019.jpg      46\n20    20  ./train/0020.jpg      32\n26    26  ./train/0026.jpg      37\n27    27  ./train/0027.jpg      15\n28    28  ./train/0028.jpg      47\n29    29  ./train/0029.jpg      28\n32    32  ./train/0032.jpg       4\n33    33  ./train/0033.jpg      33\n37    37  ./train/0037.jpg      33\n44    44  ./train/0044.jpg      15\n54    54  ./train/0054.jpg       0\n65    65  ./train/0065.jpg      14\n72    72  ./train/0072.jpg      10\n86    86  ./train/0086.jpg      10\n96    96  ./train/0096.jpg      13\n97    97  ./train/0097.jpg      43\n98    98  ./train/0098.jpg       1\n108  108  ./train/0108.jpg      36\n116  116  ./train/0116.jpg      29",
      "text/html": "<div>\n<style scoped>\n    .dataframe tbody tr th:only-of-type {\n        vertical-align: middle;\n    }\n\n    .dataframe tbody tr th {\n        vertical-align: top;\n    }\n\n    .dataframe thead th {\n        text-align: right;\n    }\n</style>\n<table border=\"1\" class=\"dataframe\">\n  <thead>\n    <tr style=\"text-align: right;\">\n      <th></th>\n      <th>id</th>\n      <th>img_path</th>\n      <th>artist</th>\n    </tr>\n  </thead>\n  <tbody>\n    <tr>\n      <th>14</th>\n      <td>14</td>\n      <td>./train/0014.jpg</td>\n      <td>15</td>\n    </tr>\n    <tr>\n      <th>19</th>\n      <td>19</td>\n      <td>./train/0019.jpg</td>\n      <td>46</td>\n    </tr>\n    <tr>\n      <th>20</th>\n      <td>20</td>\n      <td>./train/0020.jpg</td>\n      <td>32</td>\n    </tr>\n    <tr>\n      <th>26</th>\n      <td>26</td>\n      <td>./train/0026.jpg</td>\n      <td>37</td>\n    </tr>\n    <tr>\n      <th>27</th>\n      <td>27</td>\n      <td>./train/0027.jpg</td>\n      <td>15</td>\n    </tr>\n    <tr>\n      <th>28</th>\n      <td>28</td>\n      <td>./train/0028.jpg</td>\n      <td>47</td>\n    </tr>\n    <tr>\n      <th>29</th>\n      <td>29</td>\n      <td>./train/0029.jpg</td>\n      <td>28</td>\n    </tr>\n    <tr>\n      <th>32</th>\n      <td>32</td>\n      <td>./train/0032.jpg</td>\n      <td>4</td>\n    </tr>\n    <tr>\n      <th>33</th>\n      <td>33</td>\n      <td>./train/0033.jpg</td>\n      <td>33</td>\n    </tr>\n    <tr>\n      <th>37</th>\n      <td>37</td>\n      <td>./train/0037.jpg</td>\n      <td>33</td>\n    </tr>\n    <tr>\n      <th>44</th>\n      <td>44</td>\n      <td>./train/0044.jpg</td>\n      <td>15</td>\n    </tr>\n    <tr>\n      <th>54</th>\n      <td>54</td>\n      <td>./train/0054.jpg</td>\n      <td>0</td>\n    </tr>\n    <tr>\n      <th>65</th>\n      <td>65</td>\n      <td>./train/0065.jpg</td>\n      <td>14</td>\n    </tr>\n    <tr>\n      <th>72</th>\n      <td>72</td>\n      <td>./train/0072.jpg</td>\n      <td>10</td>\n    </tr>\n    <tr>\n      <th>86</th>\n      <td>86</td>\n      <td>./train/0086.jpg</td>\n      <td>10</td>\n    </tr>\n    <tr>\n      <th>96</th>\n      <td>96</td>\n      <td>./train/0096.jpg</td>\n      <td>13</td>\n    </tr>\n    <tr>\n      <th>97</th>\n      <td>97</td>\n      <td>./train/0097.jpg</td>\n      <td>43</td>\n    </tr>\n    <tr>\n      <th>98</th>\n      <td>98</td>\n      <td>./train/0098.jpg</td>\n      <td>1</td>\n    </tr>\n    <tr>\n      <th>108</th>\n      <td>108</td>\n      <td>./train/0108.jpg</td>\n      <td>36</td>\n    </tr>\n    <tr>\n      <th>116</th>\n      <td>116</td>\n      <td>./train/0116.jpg</td>\n      <td>29</td>\n    </tr>\n  </tbody>\n</table>\n</div>"
     },
     "execution_count": 11,
     "metadata": {},
     "output_type": "execute_result"
    }
   ],
   "source": [
    "val_df = val_df.sort_values(by=['id'])\n",
    "val_df.head(20)"
   ],
   "metadata": {
    "collapsed": false,
    "ExecuteTime": {
     "end_time": "2023-12-20T18:42:07.236913800Z",
     "start_time": "2023-12-20T18:42:07.139454700Z"
    }
   },
   "id": "e4849ea7a525c8cf"
  },
  {
   "cell_type": "code",
   "execution_count": 12,
   "outputs": [],
   "source": [
    "def get_data(df, infer=False):\n",
    "    if infer:\n",
    "        return df['img_path'].apply(lambda p: os.path.join(data_path, p)).values\n",
    "    return df['img_path'].apply(lambda p: os.path.join(data_path, p)).values, df['artist'].values"
   ],
   "metadata": {
    "collapsed": false,
    "ExecuteTime": {
     "end_time": "2023-12-20T18:42:07.236913800Z",
     "start_time": "2023-12-20T18:42:07.156118400Z"
    }
   },
   "id": "db002acff51c03bd"
  },
  {
   "cell_type": "code",
   "execution_count": 13,
   "outputs": [],
   "source": [
    "train_img_paths, train_labels = get_data(train_df)\n",
    "val_img_paths, val_labels = get_data(val_df)"
   ],
   "metadata": {
    "collapsed": false,
    "ExecuteTime": {
     "end_time": "2023-12-20T18:42:07.259334900Z",
     "start_time": "2023-12-20T18:42:07.187921400Z"
    }
   },
   "id": "6a8806270c88c0be"
  },
  {
   "cell_type": "code",
   "execution_count": 14,
   "outputs": [],
   "source": [
    "from torchvision.transforms import ToTensor\n",
    "\n",
    "\n",
    "class CustomDataset(Dataset):\n",
    "    def __init__(self, img_paths, labels, transforms=None):\n",
    "        self.img_paths = img_paths\n",
    "        self.labels = labels\n",
    "        self.transforms = transforms if transforms else ToTensor()\n",
    "\n",
    "    def __getitem__(self, index):\n",
    "        img_path = self.img_paths[index]\n",
    "        image = cv2.imread(img_path)\n",
    "        image = cv2.cvtColor(image, cv2.COLOR_BGR2RGB)\n",
    "        image = self.transforms(image=image)['image']\n",
    "        \n",
    "        if self.labels is not None:\n",
    "            label = self.labels[index]\n",
    "            return image, label\n",
    "        else:\n",
    "            return image\n",
    "    \n",
    "    def __len__(self):\n",
    "        return len(self.img_paths)"
   ],
   "metadata": {
    "collapsed": false,
    "ExecuteTime": {
     "end_time": "2023-12-20T18:42:07.269127300Z",
     "start_time": "2023-12-20T18:42:07.203326800Z"
    }
   },
   "id": "daa8f5c45d3e6316"
  },
  {
   "cell_type": "code",
   "execution_count": 15,
   "outputs": [],
   "source": [
    "train_transform = A.Compose([\n",
    "    A.Resize(CFG['IMG_SIZE']*2,CFG['IMG_SIZE']*2),\n",
    "    A.RandomCrop(CFG['IMG_SIZE'],CFG['IMG_SIZE']),\n",
    "    A.Transpose(p=0.5), # 행렬 스왑\n",
    "    A.HorizontalFlip(p=0.5), # 좌우 반전\n",
    "    A.VerticalFlip(p=0.5), # 상하 반전\n",
    "    A.ShiftScaleRotate(p=0.5), # 랜덤하게 옮기고, scale, 회전\n",
    "    A.RandomBrightnessContrast(brightness_limit=(-0.1,0.1), contrast_limit=(-0.1, 0.1), p=0.5), # 명도 대비\n",
    "    A.ChannelShuffle(), # RGB 채널 간 shuffle\n",
    "    A.Normalize(mean=(0.485, 0.456, 0.406), std=(0.229, 0.224, 0.225), max_pixel_value=255.0, always_apply=False, p=1.0),\n",
    "    A.CoarseDropout(p=0.5),\n",
    "    ToTensorV2()\n",
    "])\n",
    "\n",
    "validation_transform = A.Compose([\n",
    "    A.Resize(CFG['IMG_SIZE']*2,CFG['IMG_SIZE']*2),\n",
    "    A.RandomCrop(CFG['IMG_SIZE'],CFG['IMG_SIZE']),\n",
    "    A.Normalize(mean=(0.485, 0.456, 0.406), std=(0.229, 0.224, 0.225), max_pixel_value=255.0, always_apply=False, p=1.0),\n",
    "    ToTensorV2()\n",
    "])\n",
    "\n",
    "test_transform = A.Compose([\n",
    "    A.Resize(CFG['IMG_SIZE'],CFG['IMG_SIZE']),\n",
    "    A.Normalize(mean=(0.485, 0.456, 0.406), std=(0.229, 0.224, 0.225), max_pixel_value=255.0, always_apply=False, p=1.0),\n",
    "    ToTensorV2()\n",
    "])"
   ],
   "metadata": {
    "collapsed": false,
    "ExecuteTime": {
     "end_time": "2023-12-20T18:42:07.306740700Z",
     "start_time": "2023-12-20T18:42:07.219822Z"
    }
   },
   "id": "17b5b770a5fb4839"
  },
  {
   "cell_type": "code",
   "execution_count": 16,
   "outputs": [
    {
     "data": {
      "text/plain": "<torch._C.Generator at 0x26ceb330d30>"
     },
     "execution_count": 16,
     "metadata": {},
     "output_type": "execute_result"
    }
   ],
   "source": [
    "def seed_worker(worker_id):\n",
    "    worker_seed = torch.initial_seed() % 2 ** 32\n",
    "    np.random.seed(worker_seed)\n",
    "    random.seed(worker_seed)\n",
    "g = torch.Generator()\n",
    "g.manual_seed(0)"
   ],
   "metadata": {
    "collapsed": false,
    "ExecuteTime": {
     "end_time": "2023-12-20T18:42:07.349875Z",
     "start_time": "2023-12-20T18:42:07.232915200Z"
    }
   },
   "id": "c69fe868589b1093"
  },
  {
   "cell_type": "code",
   "execution_count": 17,
   "outputs": [],
   "source": [
    "from torch.utils.data import Sampler\n",
    "\n",
    "# https://hackmd.io/@antolaga/H1rGPefeK\n",
    "class CustomSampler(Sampler):\n",
    "    def __init__(self, df_):\n",
    "        super(CustomSampler).__init__()\n",
    "        self.num_samples = len(df_)\n",
    "        self.indices = list(range(self.num_samples))\n",
    "        class_counts = df_['artist'].value_counts(sort=False).to_dict()\n",
    "        class_weights = {artist_id:round(self.num_samples/class_counts[artist_id], 2) for artist_id in class_counts.keys()}\n",
    "        labels = df_['artist'].value\n",
    "        weights = [class_weights[labels[i]] for i in range(int(self.num_samples))]\n",
    "        self.weights = torch.tensor(weights, dtype=torch.double)\n",
    "        \n",
    "    def __iter__(self):\n",
    "        return (self.indices[i] for i in torch.multinomial(self.weights, self.num_samples, replacement=False))\n",
    "    \n",
    "    def __len__(self):\n",
    "        return self.num_samples  "
   ],
   "metadata": {
    "collapsed": false,
    "ExecuteTime": {
     "end_time": "2023-12-20T18:42:07.390949400Z",
     "start_time": "2023-12-20T18:42:07.247604400Z"
    }
   },
   "id": "b340de05ef9b159c"
  },
  {
   "cell_type": "code",
   "execution_count": 18,
   "outputs": [],
   "source": [
    "class_counts = train_df['artist'].value_counts(sort=False).to_dict()\n",
    "num_samples = sum(class_counts.values())\n",
    "labels = train_df['artist'].to_list()\n",
    "class_weights = {l:round(num_samples/np.log(class_counts[l]), 2) for l in class_counts.keys()}\n",
    "weights = [class_weights[labels[i]] for i in range(int(num_samples))] \n",
    "sampler = torch.utils.data.WeightedRandomSampler(torch.DoubleTensor(weights), int(num_samples))\n",
    "\n",
    "train_dataset = CustomDataset(train_img_paths, train_labels, train_transform)\n",
    "train_loader = DataLoader(\n",
    "    train_dataset, batch_size = CFG['BATCH_SIZE'], shuffle=False, sampler=sampler, \n",
    "    worker_init_fn=seed_worker, generator=g, num_workers=0\n",
    ")\n",
    "\n",
    "val_dataset = CustomDataset(val_img_paths, val_labels, validation_transform)\n",
    "val_loader = DataLoader(val_dataset, batch_size=CFG['BATCH_SIZE'], shuffle=False, worker_init_fn=seed_worker, generator=g, num_workers=0)"
   ],
   "metadata": {
    "collapsed": false,
    "ExecuteTime": {
     "end_time": "2023-12-20T18:42:07.413761900Z",
     "start_time": "2023-12-20T18:42:07.269127300Z"
    }
   },
   "id": "3fdc1f9a44a2408e"
  },
  {
   "cell_type": "code",
   "execution_count": 19,
   "outputs": [],
   "source": [
    "class VitModel(nn.Module):\n",
    "    def __init__(self, num_classes=len(le.classes_)):\n",
    "        super(VitModel, self).__init__()\n",
    "        self.backbone = timm.create_model('tiny_vit_21m_384.dist_in22k_ft_in1k', pretrained=True, num_classes=0)\n",
    "        self.classifier = nn.Sequential(\n",
    "            nn.LayerNorm(576),\n",
    "            nn.GELU(),\n",
    "            nn.Dropout(p=0.4),\n",
    "            nn.Linear(576, num_classes)\n",
    "        )\n",
    "            \n",
    "    def forward(self, x):\n",
    "        x = self.backbone(x)\n",
    "        x = self.classifier(x)\n",
    "        return x"
   ],
   "metadata": {
    "collapsed": false,
    "ExecuteTime": {
     "end_time": "2023-12-20T18:42:07.425869800Z",
     "start_time": "2023-12-20T18:42:07.284144700Z"
    }
   },
   "id": "cd5ecc94fada5c8b"
  },
  {
   "cell_type": "code",
   "execution_count": 20,
   "outputs": [],
   "source": [
    "def clear_mem():\n",
    "    gc.collect()\n",
    "    torch.cuda.empty_cache()"
   ],
   "metadata": {
    "collapsed": false,
    "ExecuteTime": {
     "end_time": "2023-12-20T18:42:07.427876800Z",
     "start_time": "2023-12-20T18:42:07.296446Z"
    }
   },
   "id": "ecce2baec16e71e7"
  },
  {
   "cell_type": "code",
   "execution_count": 21,
   "outputs": [],
   "source": [
    "class EarlyStopping:\n",
    "    def __init__(self, patience=10, verbose=False, delta=0):\n",
    "        self.patience = patience\n",
    "        self.verbose = verbose\n",
    "        self.counter = 0\n",
    "        self.best_score = None\n",
    "        self.early_stop = False\n",
    "        self.val_loss_min = np.Inf\n",
    "        self.delta = delta\n",
    "\n",
    "    def __call__(self, score):\n",
    "        if self.best_score is None:\n",
    "            self.best_score = score\n",
    "        elif score < self.best_score + self.delta:\n",
    "            self.counter += 1\n",
    "            print(f'EarlyStopping counter: {self.counter} out of {self.patience}')\n",
    "            print(f'Best F1 score from now: {self.best_score}')\n",
    "            if self.counter >= self.patience:\n",
    "                self.early_stop = True\n",
    "        else:\n",
    "            self.best_score = score\n",
    "            self.counter = 0\n",
    "        \n",
    "        return self.early_stop"
   ],
   "metadata": {
    "collapsed": false,
    "ExecuteTime": {
     "end_time": "2023-12-20T18:42:07.427876800Z",
     "start_time": "2023-12-20T18:42:07.313733800Z"
    }
   },
   "id": "51d7e36eb5ffba31"
  },
  {
   "cell_type": "code",
   "execution_count": 22,
   "outputs": [],
   "source": [
    "def rand_bbox(size, lam):   # size : [B, C, W, H]\n",
    "    W = size[2] # 이미지의 width\n",
    "    H = size[3] # 이미지의 height\n",
    "    cut_rat = np.sqrt(1. - lam)  # 패치 크기의 비율 정하기\n",
    "    cut_w = np.int32(W * cut_rat)  # 패치의 너비\n",
    "    cut_h = np.int32(H * cut_rat)  # 패치의 높이\n",
    "\n",
    "    # uniform\n",
    "    # 기존 이미지의 크기에서 랜덤하게 값을 가져옵니다.(중간 좌표 추출)\n",
    "    cx = np.random.randint(W)\n",
    "    cy = np.random.randint(H)\n",
    "\n",
    "    # 패치 부분에 대한 좌표값을 추출합니다.\n",
    "    bbx1 = np.clip(cx - cut_w // 2, 0, W)\n",
    "    bby1 = np.clip(cy - cut_h // 2, 0, H)\n",
    "    bbx2 = np.clip(cx + cut_w // 2, 0, W)\n",
    "    bby2 = np.clip(cy + cut_h // 2, 0, H)\n",
    "\n",
    "    return bbx1, bby1, bbx2, bby2"
   ],
   "metadata": {
    "collapsed": false,
    "ExecuteTime": {
     "end_time": "2023-12-20T18:42:07.445445100Z",
     "start_time": "2023-12-20T18:42:07.330586500Z"
    }
   },
   "id": "ce87987e0b603241"
  },
  {
   "cell_type": "code",
   "execution_count": 23,
   "outputs": [],
   "source": [
    "import math\n",
    "from torch.optim.lr_scheduler import LRScheduler\n",
    "\n",
    "class CosineAnnealingWarmUpRestarts(LRScheduler):\n",
    "    def __init__(self, optimizer, T_0, T_mult=1, eta_max=0.1, T_up=0, gamma=1., last_epoch=-1):\n",
    "        if T_0 <= 0 or not isinstance(T_0, int):\n",
    "            raise ValueError(\"Expected positive integer T_0, but got {}\".format(T_0))\n",
    "        if T_mult < 1 or not isinstance(T_mult, int):\n",
    "            raise ValueError(\"Expected integer T_mult >= 1, but got {}\".format(T_mult))\n",
    "        if T_up < 0 or not isinstance(T_up, int):\n",
    "            raise ValueError(\"Expected positive integer T_up, but got {}\".format(T_up))\n",
    "        self.T_0 = T_0\n",
    "        self.T_mult = T_mult\n",
    "        self.base_eta_max = eta_max\n",
    "        self.eta_max = eta_max\n",
    "        self.T_up = T_up\n",
    "        self.T_i = T_0\n",
    "        self.gamma = gamma\n",
    "        self.cycle = 0\n",
    "        self.T_cur = last_epoch\n",
    "        super(CosineAnnealingWarmUpRestarts, self).__init__(optimizer, last_epoch)\n",
    "    \n",
    "    def get_lr(self):\n",
    "        if self.T_cur == -1:\n",
    "            return self.base_lrs\n",
    "        elif self.T_cur < self.T_up:\n",
    "            return [(self.eta_max - base_lr)*self.T_cur / self.T_up + base_lr for base_lr in self.base_lrs]\n",
    "        else:\n",
    "            return [base_lr + (self.eta_max - base_lr) * (1 + math.cos(math.pi * (self.T_cur-self.T_up) / (self.T_i - self.T_up))) / 2\n",
    "                    for base_lr in self.base_lrs]\n",
    "\n",
    "    def step(self, epoch=None):\n",
    "        if epoch is None:\n",
    "            epoch = self.last_epoch + 1\n",
    "            self.T_cur = self.T_cur + 1\n",
    "            if self.T_cur >= self.T_i:\n",
    "                self.cycle += 1\n",
    "                self.T_cur = self.T_cur - self.T_i\n",
    "                self.T_i = (self.T_i - self.T_up) * self.T_mult + self.T_up\n",
    "        else:\n",
    "            if epoch >= self.T_0:\n",
    "                if self.T_mult == 1:\n",
    "                    self.T_cur = epoch % self.T_0\n",
    "                    self.cycle = epoch // self.T_0\n",
    "                else:\n",
    "                    n = int(math.log((epoch / self.T_0 * (self.T_mult - 1) + 1), self.T_mult))\n",
    "                    self.cycle = n\n",
    "                    self.T_cur = epoch - self.T_0 * (self.T_mult ** n - 1) / (self.T_mult - 1)\n",
    "                    self.T_i = self.T_0 * self.T_mult ** (n)\n",
    "            else:\n",
    "                self.T_i = self.T_0\n",
    "                self.T_cur = epoch\n",
    "                \n",
    "        self.eta_max = self.base_eta_max * (self.gamma**self.cycle)\n",
    "        self.last_epoch = math.floor(epoch)\n",
    "        for param_group, lr in zip(self.optimizer.param_groups, self.get_lr()):\n",
    "            param_group['lr'] = lr"
   ],
   "metadata": {
    "collapsed": false,
    "ExecuteTime": {
     "end_time": "2023-12-20T18:42:07.449437700Z",
     "start_time": "2023-12-20T18:42:07.352880500Z"
    }
   },
   "id": "66827c3c4d6466cd"
  },
  {
   "cell_type": "code",
   "execution_count": 24,
   "outputs": [
    {
     "name": "stdout",
     "output_type": "stream",
     "text": [
      "run_id=0\n"
     ]
    }
   ],
   "source": [
    "time_now = datetime.now()\n",
    "run_id = 0# time_now.strftime(\"%Y%m%d%H%M%S\")\n",
    "os.makedirs(os.path.join(data_path, f'./runs/{run_id}'), exist_ok=True)\n",
    "print(f'{run_id=}')"
   ],
   "metadata": {
    "collapsed": false,
    "ExecuteTime": {
     "end_time": "2023-12-20T18:42:07.477218900Z",
     "start_time": "2023-12-20T18:42:07.357989500Z"
    }
   },
   "id": "17fc703a3126967"
  },
  {
   "cell_type": "code",
   "execution_count": 25,
   "outputs": [],
   "source": [
    "import torch\n",
    "import torch.nn as nn\n",
    "import torch.nn.functional as F\n",
    "\n",
    "class FocalLoss(nn.Module):\n",
    "    def __init__(self, alpha=1, gamma=2, reduction='mean'):\n",
    "        super(FocalLoss, self).__init__()\n",
    "        self.alpha = alpha\n",
    "        self.gamma = gamma\n",
    "        self.reduction = reduction\n",
    "\n",
    "    def forward(self, inputs, targets):\n",
    "        ce_loss = F.cross_entropy(inputs, targets, reduction='none')\n",
    "        pt = torch.exp(-ce_loss)\n",
    "        focal_loss = self.alpha * (1 - pt) ** self.gamma * ce_loss\n",
    "\n",
    "        if self.reduction == 'mean':\n",
    "            return focal_loss.mean()\n",
    "        elif self.reduction == 'sum':\n",
    "            return focal_loss.sum()\n",
    "        else:\n",
    "            return focal_loss"
   ],
   "metadata": {
    "collapsed": false,
    "ExecuteTime": {
     "end_time": "2023-12-20T18:42:07.478220700Z",
     "start_time": "2023-12-20T18:42:07.374286400Z"
    }
   },
   "id": "18993a2b09eac846"
  },
  {
   "cell_type": "code",
   "execution_count": 26,
   "outputs": [],
   "source": [
    "import torch\n",
    "import torch.nn as nn\n",
    "import torch.nn.functional as F\n",
    "import math\n",
    "\n",
    "\n",
    "class FocalCosineLoss(nn.Module):\n",
    "    def __init__(self, alpha=1, gamma=2, xent=.1):\n",
    "        super(FocalCosineLoss, self).__init__()\n",
    "        self.alpha = alpha\n",
    "        self.gamma = gamma\n",
    "\n",
    "        self.xent = xent\n",
    "\n",
    "        self.y = torch.Tensor([1]).cuda()\n",
    "\n",
    "    def forward(self, input, target, reduction=\"mean\"):\n",
    "        cosine_loss = F.cosine_embedding_loss(input, F.one_hot(target, num_classes=input.size(-1)), self.y, reduction=reduction)\n",
    "\n",
    "        cent_loss = F.cross_entropy(F.normalize(input), target, reduce=False)\n",
    "        pt = torch.exp(-cent_loss)\n",
    "        focal_loss = self.alpha * (1-pt)**self.gamma * cent_loss\n",
    "\n",
    "        if reduction == \"mean\":\n",
    "            focal_loss = torch.mean(focal_loss)\n",
    "\n",
    "        return cosine_loss + self.xent * focal_loss"
   ],
   "metadata": {
    "collapsed": false,
    "ExecuteTime": {
     "end_time": "2023-12-20T18:42:07.480210800Z",
     "start_time": "2023-12-20T18:42:07.388861700Z"
    }
   },
   "id": "1c6f540fa5b8ba30"
  },
  {
   "cell_type": "code",
   "execution_count": 27,
   "outputs": [],
   "source": [
    "def train(epoch, model, optimizer, criterion, train_loader, device,  beta=1, cutmix_prob=0.5, lr_scheduler=None):\n",
    "    model.train()\n",
    "    train_loss = []\n",
    "    lr_list = []\n",
    "    bar = tqdm(enumerate(train_loader), total = len(train_loader), desc='Train Loop')\n",
    "    for idx, (img, label) in bar:\n",
    "        img, label = img.float().to(device), label.long().to(device)\n",
    "        \n",
    "        optimizer.zero_grad()\n",
    "        # r = np.random.rand(1)\n",
    "        # if beta > 0 and r < cutmix_prob:\n",
    "        #     lam = np.random.beta(beta, beta)\n",
    "        #     rand_index = torch.randperm(img.size()[0]).cuda()\n",
    "        #     target_a = label\n",
    "        #     target_b = label[rand_index]\n",
    "        #     bbx1, bby1, bbx2, bby2 = rand_bbox(img.size(), lam)\n",
    "        #     img[:, :, bbx1:bbx2, bby1:bby2] = img[rand_index, :, bbx1:bbx2, bby1:bby2]\n",
    "        # \n",
    "        #     lam = 1 - ((bbx2 - bbx1) * (bby2 - bby1) / (img.size()[-1] * img.size()[-2]))\n",
    "        # \n",
    "        #     model_pred = model(img)\n",
    "        #     loss = criterion(model_pred, target_a) * lam + criterion(model_pred, target_b) * (1. - lam)\n",
    "        # else:\n",
    "        model_pred = model(img)\n",
    "        loss = criterion(model_pred, label)\n",
    "        \n",
    "        loss.backward()\n",
    "        if (epoch*idx)%10 == 0:\n",
    "            lr_list.append(optimizer.param_groups[0]['lr'])\n",
    "        optimizer.step()\n",
    "        train_loss.append(loss.item())\n",
    "        bar.set_postfix(train_loss = f'{loss.item():.4f}', lr = f\"{optimizer.param_groups[0]['lr']:.6f}\")\n",
    "        if lr_scheduler:\n",
    "            lr_scheduler.step()\n",
    "    return np.mean(train_loss), lr_list"
   ],
   "metadata": {
    "collapsed": false,
    "ExecuteTime": {
     "end_time": "2023-12-20T18:42:07.566048800Z",
     "start_time": "2023-12-20T18:42:07.406990900Z"
    }
   },
   "id": "8837f76bd55e594f"
  },
  {
   "cell_type": "code",
   "execution_count": 28,
   "outputs": [],
   "source": [
    "def competition_metric(true, pred):\n",
    "    return f1_score(true, pred, average=\"macro\")\n",
    "\n",
    "def validation(model, criterion, test_loader, device):\n",
    "    model.eval()\n",
    "    \n",
    "    model_preds = []\n",
    "    true_labels = []\n",
    "    \n",
    "    val_loss = []\n",
    "    \n",
    "    with torch.no_grad():\n",
    "        for img, label in iter(test_loader):\n",
    "            img, label = img.float().to(device), label.long().to(device)\n",
    "            \n",
    "            model_pred = model(img)\n",
    "            \n",
    "            loss = criterion(model_pred, label)\n",
    "            \n",
    "            val_loss.append(loss.item())\n",
    "            \n",
    "            model_preds += model_pred.argmax(1).detach().cpu().numpy().tolist()\n",
    "            true_labels += label.detach().cpu().numpy().tolist()\n",
    "        \n",
    "    val_f1 = competition_metric(true_labels, model_preds)\n",
    "    return np.mean(val_loss), val_f1"
   ],
   "metadata": {
    "collapsed": false,
    "ExecuteTime": {
     "end_time": "2023-12-20T18:42:07.582638700Z",
     "start_time": "2023-12-20T18:42:07.418760700Z"
    }
   },
   "id": "6e0713601b2fa53a"
  },
  {
   "cell_type": "code",
   "execution_count": 29,
   "outputs": [],
   "source": [
    "def train_epoch(model, optimizer, train_loader, test_loader, lr_scheduler, device):\n",
    "    model.to(device)\n",
    "\n",
    "    criterion = FocalLoss(alpha=1, gamma=2).to(device)\n",
    "    early_stopping = EarlyStopping(patience=CFG['PATIENCE'], verbose=True)\n",
    "    \n",
    "    best_score = 0\n",
    "    lr_list = []\n",
    "    train_loss_list, val_loss_list = [], []\n",
    "    \n",
    "    for epoch in range(1,CFG[\"EPOCHS\"]+1):\n",
    "        tr_loss, lr_ = train(epoch, model, optimizer, criterion, train_loader, device, lr_scheduler=lr_scheduler)\n",
    "        val_loss, val_score = validation(model, criterion, test_loader, device)\n",
    "        train_loss_list.append(tr_loss)\n",
    "        val_loss_list.append(val_loss)\n",
    "        \n",
    "        if lr_scheduler is not None:\n",
    "            lr_list.extend(lr_)\n",
    "            \n",
    "        if best_score < val_score:\n",
    "            print(f'**Epoch [{epoch}], Train Loss : [{tr_loss:.5f}] Val Loss : [{val_loss:.5f}] Val F1 Score : [{val_score:.5f}]')\n",
    "            best_score = val_score\n",
    "            torch.save(model, os.path.join(data_path, f'runs/{run_id}/best_model.pt'))\n",
    "        else:\n",
    "            print(f'Epoch [{epoch}], Train Loss : [{tr_loss:.5f}] Val Loss : [{val_loss:.5f}] Val F1 Score : [{val_score:.5f}]')\n",
    "        clear_mem()\n",
    "        if early_stopping(val_score):\n",
    "            print(f'Epoch [{epoch}], early stopping')\n",
    "            break\n",
    "    if lr_list:\n",
    "        return (train_loss_list, val_loss_list, lr_list)\n",
    "    else:\n",
    "        return (train_loss_list, val_loss_list, None)"
   ],
   "metadata": {
    "collapsed": false,
    "ExecuteTime": {
     "end_time": "2023-12-20T18:42:07.585708700Z",
     "start_time": "2023-12-20T18:42:07.439143500Z"
    }
   },
   "id": "533c937dd1370a10"
  },
  {
   "cell_type": "code",
   "execution_count": 30,
   "outputs": [
    {
     "name": "stdout",
     "output_type": "stream",
     "text": [
      "===============================================================================================\n",
      "Layer (type:depth-idx)                        Output Shape              Param #\n",
      "===============================================================================================\n",
      "├─TinyVit: 1-1                                [-1, 576]                 --\n",
      "|    └─PatchEmbed: 2-1                        [-1, 96, 72, 72]          --\n",
      "|    |    └─ConvNorm: 3-1                     [-1, 48, 144, 144]        1,392\n",
      "|    |    └─GELU: 3-2                         [-1, 48, 144, 144]        --\n",
      "|    |    └─ConvNorm: 3-3                     [-1, 96, 72, 72]          41,664\n",
      "|    └─Sequential: 2-2                        [-1, 576, 9, 9]           --\n",
      "|    |    └─ConvLayer: 3-4                    [-1, 96, 72, 72]          157,824\n",
      "|    |    └─TinyVitStage: 3-5                 [-1, 192, 36, 36]         953,856\n",
      "|    |    └─TinyVitStage: 3-6                 [-1, 384, 18, 18]         10,940,544\n",
      "|    |    └─TinyVitStage: 3-7                 [-1, 576, 9, 9]           8,557,056\n",
      "|    └─NormMlpClassifierHead: 2-3             [-1, 576]                 --\n",
      "|    |    └─SelectAdaptivePool2d: 3-8         [-1, 576, 1, 1]           --\n",
      "|    |    └─LayerNorm2d: 3-9                  [-1, 576, 1, 1]           1,152\n",
      "|    |    └─Flatten: 3-10                     [-1, 576]                 --\n",
      "|    |    └─Identity: 3-11                    [-1, 576]                 --\n",
      "|    |    └─Dropout: 3-12                     [-1, 576]                 --\n",
      "|    |    └─Identity: 3-13                    [-1, 576]                 --\n",
      "├─Sequential: 1-2                             [-1, 50]                  --\n",
      "|    └─LayerNorm: 2-4                         [-1, 576]                 1,152\n",
      "|    └─GELU: 2-5                              [-1, 576]                 --\n",
      "|    └─Dropout: 2-6                           [-1, 576]                 --\n",
      "|    └─Linear: 2-7                            [-1, 50]                  28,850\n",
      "===============================================================================================\n",
      "Total params: 20,683,490\n",
      "Trainable params: 20,683,490\n",
      "Non-trainable params: 0\n",
      "Total mult-adds (M): 324.09\n",
      "===============================================================================================\n",
      "Input size (MB): 0.95\n",
      "Forward/backward pass size (MB): 22.79\n",
      "Params size (MB): 78.90\n",
      "Estimated Total Size (MB): 102.64\n",
      "===============================================================================================\n"
     ]
    },
    {
     "data": {
      "text/plain": "===============================================================================================\nLayer (type:depth-idx)                        Output Shape              Param #\n===============================================================================================\n├─TinyVit: 1-1                                [-1, 576]                 --\n|    └─PatchEmbed: 2-1                        [-1, 96, 72, 72]          --\n|    |    └─ConvNorm: 3-1                     [-1, 48, 144, 144]        1,392\n|    |    └─GELU: 3-2                         [-1, 48, 144, 144]        --\n|    |    └─ConvNorm: 3-3                     [-1, 96, 72, 72]          41,664\n|    └─Sequential: 2-2                        [-1, 576, 9, 9]           --\n|    |    └─ConvLayer: 3-4                    [-1, 96, 72, 72]          157,824\n|    |    └─TinyVitStage: 3-5                 [-1, 192, 36, 36]         953,856\n|    |    └─TinyVitStage: 3-6                 [-1, 384, 18, 18]         10,940,544\n|    |    └─TinyVitStage: 3-7                 [-1, 576, 9, 9]           8,557,056\n|    └─NormMlpClassifierHead: 2-3             [-1, 576]                 --\n|    |    └─SelectAdaptivePool2d: 3-8         [-1, 576, 1, 1]           --\n|    |    └─LayerNorm2d: 3-9                  [-1, 576, 1, 1]           1,152\n|    |    └─Flatten: 3-10                     [-1, 576]                 --\n|    |    └─Identity: 3-11                    [-1, 576]                 --\n|    |    └─Dropout: 3-12                     [-1, 576]                 --\n|    |    └─Identity: 3-13                    [-1, 576]                 --\n├─Sequential: 1-2                             [-1, 50]                  --\n|    └─LayerNorm: 2-4                         [-1, 576]                 1,152\n|    └─GELU: 2-5                              [-1, 576]                 --\n|    └─Dropout: 2-6                           [-1, 576]                 --\n|    └─Linear: 2-7                            [-1, 50]                  28,850\n===============================================================================================\nTotal params: 20,683,490\nTrainable params: 20,683,490\nNon-trainable params: 0\nTotal mult-adds (M): 324.09\n===============================================================================================\nInput size (MB): 0.95\nForward/backward pass size (MB): 22.79\nParams size (MB): 78.90\nEstimated Total Size (MB): 102.64\n==============================================================================================="
     },
     "execution_count": 30,
     "metadata": {},
     "output_type": "execute_result"
    }
   ],
   "source": [
    "from torchsummary import summary\n",
    "\n",
    "model = VitModel()\n",
    "summary(model, (3,288,288))"
   ],
   "metadata": {
    "collapsed": false,
    "ExecuteTime": {
     "end_time": "2023-12-20T18:42:12.496473Z",
     "start_time": "2023-12-20T18:42:07.449437700Z"
    }
   },
   "id": "67da3204ab03efc8"
  },
  {
   "cell_type": "code",
   "execution_count": 31,
   "outputs": [
    {
     "data": {
      "text/plain": "Train Loop:   0%|          | 0/591 [00:00<?, ?it/s]",
      "application/vnd.jupyter.widget-view+json": {
       "version_major": 2,
       "version_minor": 0,
       "model_id": "40229ce448ed41b29885f2efd7c8316d"
      }
     },
     "metadata": {},
     "output_type": "display_data"
    },
    {
     "name": "stdout",
     "output_type": "stream",
     "text": [
      "**Epoch [1], Train Loss : [2.87701] Val Loss : [2.05497] Val F1 Score : [0.20231]\n"
     ]
    },
    {
     "data": {
      "text/plain": "Train Loop:   0%|          | 0/591 [00:00<?, ?it/s]",
      "application/vnd.jupyter.widget-view+json": {
       "version_major": 2,
       "version_minor": 0,
       "model_id": "b97291dc5005445891eb52b50b23facf"
      }
     },
     "metadata": {},
     "output_type": "display_data"
    },
    {
     "name": "stdout",
     "output_type": "stream",
     "text": [
      "**Epoch [2], Train Loss : [2.21338] Val Loss : [1.36623] Val F1 Score : [0.38792]\n"
     ]
    },
    {
     "data": {
      "text/plain": "Train Loop:   0%|          | 0/591 [00:00<?, ?it/s]",
      "application/vnd.jupyter.widget-view+json": {
       "version_major": 2,
       "version_minor": 0,
       "model_id": "329df2d7cb4847618f9ec31d7f401ffe"
      }
     },
     "metadata": {},
     "output_type": "display_data"
    },
    {
     "name": "stdout",
     "output_type": "stream",
     "text": [
      "**Epoch [3], Train Loss : [1.61197] Val Loss : [0.94903] Val F1 Score : [0.55462]\n"
     ]
    },
    {
     "data": {
      "text/plain": "Train Loop:   0%|          | 0/591 [00:00<?, ?it/s]",
      "application/vnd.jupyter.widget-view+json": {
       "version_major": 2,
       "version_minor": 0,
       "model_id": "f6ba1b8ac5634697b668d0183e6010fc"
      }
     },
     "metadata": {},
     "output_type": "display_data"
    },
    {
     "name": "stdout",
     "output_type": "stream",
     "text": [
      "**Epoch [4], Train Loss : [1.18421] Val Loss : [0.72878] Val F1 Score : [0.63506]\n"
     ]
    },
    {
     "data": {
      "text/plain": "Train Loop:   0%|          | 0/591 [00:00<?, ?it/s]",
      "application/vnd.jupyter.widget-view+json": {
       "version_major": 2,
       "version_minor": 0,
       "model_id": "964ba1281017480681b7849809fce64a"
      }
     },
     "metadata": {},
     "output_type": "display_data"
    },
    {
     "name": "stdout",
     "output_type": "stream",
     "text": [
      "**Epoch [5], Train Loss : [0.93649] Val Loss : [0.65088] Val F1 Score : [0.66429]\n"
     ]
    },
    {
     "data": {
      "text/plain": "Train Loop:   0%|          | 0/591 [00:00<?, ?it/s]",
      "application/vnd.jupyter.widget-view+json": {
       "version_major": 2,
       "version_minor": 0,
       "model_id": "bb0d4bc035294888a4b6405c51c3eb0e"
      }
     },
     "metadata": {},
     "output_type": "display_data"
    },
    {
     "name": "stdout",
     "output_type": "stream",
     "text": [
      "Epoch [6], Train Loss : [1.62978] Val Loss : [1.33865] Val F1 Score : [0.39922]\n",
      "EarlyStopping counter: 1 out of 10\n",
      "Best F1 score from now: 0.6642864045663776\n"
     ]
    },
    {
     "data": {
      "text/plain": "Train Loop:   0%|          | 0/591 [00:00<?, ?it/s]",
      "application/vnd.jupyter.widget-view+json": {
       "version_major": 2,
       "version_minor": 0,
       "model_id": "8e9218b8bb5c4e439112918b344f60de"
      }
     },
     "metadata": {},
     "output_type": "display_data"
    },
    {
     "name": "stdout",
     "output_type": "stream",
     "text": [
      "Epoch [7], Train Loss : [1.34333] Val Loss : [0.82216] Val F1 Score : [0.60666]\n",
      "EarlyStopping counter: 2 out of 10\n",
      "Best F1 score from now: 0.6642864045663776\n"
     ]
    },
    {
     "data": {
      "text/plain": "Train Loop:   0%|          | 0/591 [00:00<?, ?it/s]",
      "application/vnd.jupyter.widget-view+json": {
       "version_major": 2,
       "version_minor": 0,
       "model_id": "023997af985945d79021c343ad8c1c96"
      }
     },
     "metadata": {},
     "output_type": "display_data"
    },
    {
     "name": "stdout",
     "output_type": "stream",
     "text": [
      "Epoch [8], Train Loss : [1.00607] Val Loss : [0.64442] Val F1 Score : [0.64807]\n",
      "EarlyStopping counter: 3 out of 10\n",
      "Best F1 score from now: 0.6642864045663776\n"
     ]
    },
    {
     "data": {
      "text/plain": "Train Loop:   0%|          | 0/591 [00:00<?, ?it/s]",
      "application/vnd.jupyter.widget-view+json": {
       "version_major": 2,
       "version_minor": 0,
       "model_id": "398915d8c2924811a7b3d0df88717c25"
      }
     },
     "metadata": {},
     "output_type": "display_data"
    },
    {
     "name": "stdout",
     "output_type": "stream",
     "text": [
      "**Epoch [9], Train Loss : [0.78094] Val Loss : [0.54689] Val F1 Score : [0.72269]\n"
     ]
    },
    {
     "data": {
      "text/plain": "Train Loop:   0%|          | 0/591 [00:00<?, ?it/s]",
      "application/vnd.jupyter.widget-view+json": {
       "version_major": 2,
       "version_minor": 0,
       "model_id": "e6e98acf25e94d3f8d9d7b62bef2fb7c"
      }
     },
     "metadata": {},
     "output_type": "display_data"
    },
    {
     "name": "stdout",
     "output_type": "stream",
     "text": [
      "**Epoch [10], Train Loss : [0.64282] Val Loss : [0.50943] Val F1 Score : [0.73057]\n"
     ]
    },
    {
     "data": {
      "text/plain": "Train Loop:   0%|          | 0/591 [00:00<?, ?it/s]",
      "application/vnd.jupyter.widget-view+json": {
       "version_major": 2,
       "version_minor": 0,
       "model_id": "a3537ab656344800ba4bd3f5252f7eb8"
      }
     },
     "metadata": {},
     "output_type": "display_data"
    },
    {
     "name": "stdout",
     "output_type": "stream",
     "text": [
      "Epoch [11], Train Loss : [1.06371] Val Loss : [0.81591] Val F1 Score : [0.60363]\n",
      "EarlyStopping counter: 1 out of 10\n",
      "Best F1 score from now: 0.7305669754598856\n"
     ]
    },
    {
     "data": {
      "text/plain": "Train Loop:   0%|          | 0/591 [00:00<?, ?it/s]",
      "application/vnd.jupyter.widget-view+json": {
       "version_major": 2,
       "version_minor": 0,
       "model_id": "a2e1b61226a9440a9632ec4ddcb172de"
      }
     },
     "metadata": {},
     "output_type": "display_data"
    },
    {
     "name": "stdout",
     "output_type": "stream",
     "text": [
      "Epoch [12], Train Loss : [0.93793] Val Loss : [0.72100] Val F1 Score : [0.63037]\n",
      "EarlyStopping counter: 2 out of 10\n",
      "Best F1 score from now: 0.7305669754598856\n"
     ]
    },
    {
     "data": {
      "text/plain": "Train Loop:   0%|          | 0/591 [00:00<?, ?it/s]",
      "application/vnd.jupyter.widget-view+json": {
       "version_major": 2,
       "version_minor": 0,
       "model_id": "125e31ca141740149610eb110acde52d"
      }
     },
     "metadata": {},
     "output_type": "display_data"
    },
    {
     "name": "stdout",
     "output_type": "stream",
     "text": [
      "Epoch [13], Train Loss : [0.74194] Val Loss : [0.56340] Val F1 Score : [0.72030]\n",
      "EarlyStopping counter: 3 out of 10\n",
      "Best F1 score from now: 0.7305669754598856\n"
     ]
    },
    {
     "data": {
      "text/plain": "Train Loop:   0%|          | 0/591 [00:00<?, ?it/s]",
      "application/vnd.jupyter.widget-view+json": {
       "version_major": 2,
       "version_minor": 0,
       "model_id": "9d5e2b64355d4c4992a251381199dd4d"
      }
     },
     "metadata": {},
     "output_type": "display_data"
    },
    {
     "name": "stdout",
     "output_type": "stream",
     "text": [
      "**Epoch [14], Train Loss : [0.53869] Val Loss : [0.49184] Val F1 Score : [0.75143]\n"
     ]
    },
    {
     "data": {
      "text/plain": "Train Loop:   0%|          | 0/591 [00:00<?, ?it/s]",
      "application/vnd.jupyter.widget-view+json": {
       "version_major": 2,
       "version_minor": 0,
       "model_id": "67bf54ae8c2345f5a90655a25ae21908"
      }
     },
     "metadata": {},
     "output_type": "display_data"
    },
    {
     "name": "stdout",
     "output_type": "stream",
     "text": [
      "**Epoch [15], Train Loss : [0.48160] Val Loss : [0.44781] Val F1 Score : [0.75549]\n"
     ]
    },
    {
     "data": {
      "text/plain": "Train Loop:   0%|          | 0/591 [00:00<?, ?it/s]",
      "application/vnd.jupyter.widget-view+json": {
       "version_major": 2,
       "version_minor": 0,
       "model_id": "8cb7037db6a04c06ac19f0354e3a42b8"
      }
     },
     "metadata": {},
     "output_type": "display_data"
    },
    {
     "name": "stdout",
     "output_type": "stream",
     "text": [
      "Epoch [16], Train Loss : [0.78209] Val Loss : [0.69356] Val F1 Score : [0.67390]\n",
      "EarlyStopping counter: 1 out of 10\n",
      "Best F1 score from now: 0.755489923787475\n"
     ]
    },
    {
     "data": {
      "text/plain": "Train Loop:   0%|          | 0/591 [00:00<?, ?it/s]",
      "application/vnd.jupyter.widget-view+json": {
       "version_major": 2,
       "version_minor": 0,
       "model_id": "3dcb97f319bf48d8b7e326f1982686fc"
      }
     },
     "metadata": {},
     "output_type": "display_data"
    },
    {
     "name": "stdout",
     "output_type": "stream",
     "text": [
      "Epoch [17], Train Loss : [0.72030] Val Loss : [0.55173] Val F1 Score : [0.71249]\n",
      "EarlyStopping counter: 2 out of 10\n",
      "Best F1 score from now: 0.755489923787475\n"
     ]
    },
    {
     "data": {
      "text/plain": "Train Loop:   0%|          | 0/591 [00:00<?, ?it/s]",
      "application/vnd.jupyter.widget-view+json": {
       "version_major": 2,
       "version_minor": 0,
       "model_id": "46ff444b0fba4fe789be2fead34a4f40"
      }
     },
     "metadata": {},
     "output_type": "display_data"
    },
    {
     "name": "stdout",
     "output_type": "stream",
     "text": [
      "Epoch [18], Train Loss : [0.53690] Val Loss : [0.44454] Val F1 Score : [0.74182]\n",
      "EarlyStopping counter: 3 out of 10\n",
      "Best F1 score from now: 0.755489923787475\n"
     ]
    },
    {
     "data": {
      "text/plain": "Train Loop:   0%|          | 0/591 [00:00<?, ?it/s]",
      "application/vnd.jupyter.widget-view+json": {
       "version_major": 2,
       "version_minor": 0,
       "model_id": "ab82d48cf6d04783a02d02e452fd5c51"
      }
     },
     "metadata": {},
     "output_type": "display_data"
    },
    {
     "name": "stdout",
     "output_type": "stream",
     "text": [
      "**Epoch [19], Train Loss : [0.40022] Val Loss : [0.41631] Val F1 Score : [0.76805]\n"
     ]
    },
    {
     "data": {
      "text/plain": "Train Loop:   0%|          | 0/591 [00:00<?, ?it/s]",
      "application/vnd.jupyter.widget-view+json": {
       "version_major": 2,
       "version_minor": 0,
       "model_id": "9be313971b074175ae1c5bc4346e22d7"
      }
     },
     "metadata": {},
     "output_type": "display_data"
    },
    {
     "name": "stdout",
     "output_type": "stream",
     "text": [
      "**Epoch [20], Train Loss : [0.35215] Val Loss : [0.41021] Val F1 Score : [0.77045]\n"
     ]
    },
    {
     "data": {
      "text/plain": "Train Loop:   0%|          | 0/591 [00:00<?, ?it/s]",
      "application/vnd.jupyter.widget-view+json": {
       "version_major": 2,
       "version_minor": 0,
       "model_id": "e064eb57655e4a8d82d44a6910455742"
      }
     },
     "metadata": {},
     "output_type": "display_data"
    },
    {
     "name": "stdout",
     "output_type": "stream",
     "text": [
      "Epoch [21], Train Loss : [0.54663] Val Loss : [0.57551] Val F1 Score : [0.70101]\n",
      "EarlyStopping counter: 1 out of 10\n",
      "Best F1 score from now: 0.7704513654078881\n"
     ]
    },
    {
     "data": {
      "text/plain": "Train Loop:   0%|          | 0/591 [00:00<?, ?it/s]",
      "application/vnd.jupyter.widget-view+json": {
       "version_major": 2,
       "version_minor": 0,
       "model_id": "23cdf5719ae54d4b90e58bbbcae5e866"
      }
     },
     "metadata": {},
     "output_type": "display_data"
    },
    {
     "name": "stdout",
     "output_type": "stream",
     "text": [
      "Epoch [22], Train Loss : [0.54622] Val Loss : [0.47529] Val F1 Score : [0.75053]\n",
      "EarlyStopping counter: 2 out of 10\n",
      "Best F1 score from now: 0.7704513654078881\n"
     ]
    },
    {
     "data": {
      "text/plain": "Train Loop:   0%|          | 0/591 [00:00<?, ?it/s]",
      "application/vnd.jupyter.widget-view+json": {
       "version_major": 2,
       "version_minor": 0,
       "model_id": "a2f03d517df94e7a9a44abeb663f99b3"
      }
     },
     "metadata": {},
     "output_type": "display_data"
    },
    {
     "name": "stdout",
     "output_type": "stream",
     "text": [
      "Epoch [23], Train Loss : [0.40241] Val Loss : [0.41723] Val F1 Score : [0.76060]\n",
      "EarlyStopping counter: 3 out of 10\n",
      "Best F1 score from now: 0.7704513654078881\n"
     ]
    },
    {
     "data": {
      "text/plain": "Train Loop:   0%|          | 0/591 [00:00<?, ?it/s]",
      "application/vnd.jupyter.widget-view+json": {
       "version_major": 2,
       "version_minor": 0,
       "model_id": "00e953efd94b4561994083dfe6948a55"
      }
     },
     "metadata": {},
     "output_type": "display_data"
    },
    {
     "name": "stdout",
     "output_type": "stream",
     "text": [
      "**Epoch [24], Train Loss : [0.33040] Val Loss : [0.38663] Val F1 Score : [0.78612]\n"
     ]
    },
    {
     "data": {
      "text/plain": "Train Loop:   0%|          | 0/591 [00:00<?, ?it/s]",
      "application/vnd.jupyter.widget-view+json": {
       "version_major": 2,
       "version_minor": 0,
       "model_id": "32a5759602b74e5fa7badf9604b27b7f"
      }
     },
     "metadata": {},
     "output_type": "display_data"
    },
    {
     "name": "stdout",
     "output_type": "stream",
     "text": [
      "**Epoch [25], Train Loss : [0.29889] Val Loss : [0.38204] Val F1 Score : [0.79565]\n"
     ]
    },
    {
     "data": {
      "text/plain": "Train Loop:   0%|          | 0/591 [00:00<?, ?it/s]",
      "application/vnd.jupyter.widget-view+json": {
       "version_major": 2,
       "version_minor": 0,
       "model_id": "d645f840b961438d80bf607a7353b927"
      }
     },
     "metadata": {},
     "output_type": "display_data"
    },
    {
     "name": "stdout",
     "output_type": "stream",
     "text": [
      "Epoch [26], Train Loss : [0.39166] Val Loss : [0.53402] Val F1 Score : [0.72309]\n",
      "EarlyStopping counter: 1 out of 10\n",
      "Best F1 score from now: 0.7956522020293089\n"
     ]
    },
    {
     "data": {
      "text/plain": "Train Loop:   0%|          | 0/591 [00:00<?, ?it/s]",
      "application/vnd.jupyter.widget-view+json": {
       "version_major": 2,
       "version_minor": 0,
       "model_id": "e394746ac4c74b6e941f22d2ce6d5d36"
      }
     },
     "metadata": {},
     "output_type": "display_data"
    },
    {
     "name": "stdout",
     "output_type": "stream",
     "text": [
      "Epoch [27], Train Loss : [0.36697] Val Loss : [0.51227] Val F1 Score : [0.73237]\n",
      "EarlyStopping counter: 2 out of 10\n",
      "Best F1 score from now: 0.7956522020293089\n"
     ]
    },
    {
     "data": {
      "text/plain": "Train Loop:   0%|          | 0/591 [00:00<?, ?it/s]",
      "application/vnd.jupyter.widget-view+json": {
       "version_major": 2,
       "version_minor": 0,
       "model_id": "b3bf1a3f158246468c7a5a793fa2a8e3"
      }
     },
     "metadata": {},
     "output_type": "display_data"
    },
    {
     "name": "stdout",
     "output_type": "stream",
     "text": [
      "Epoch [28], Train Loss : [0.30502] Val Loss : [0.37862] Val F1 Score : [0.77742]\n",
      "EarlyStopping counter: 3 out of 10\n",
      "Best F1 score from now: 0.7956522020293089\n"
     ]
    },
    {
     "data": {
      "text/plain": "Train Loop:   0%|          | 0/591 [00:00<?, ?it/s]",
      "application/vnd.jupyter.widget-view+json": {
       "version_major": 2,
       "version_minor": 0,
       "model_id": "372bb801321f49c2ad7dfd130c80fa5e"
      }
     },
     "metadata": {},
     "output_type": "display_data"
    },
    {
     "name": "stdout",
     "output_type": "stream",
     "text": [
      "Epoch [29], Train Loss : [0.25136] Val Loss : [0.39112] Val F1 Score : [0.78094]\n",
      "EarlyStopping counter: 4 out of 10\n",
      "Best F1 score from now: 0.7956522020293089\n"
     ]
    },
    {
     "data": {
      "text/plain": "Train Loop:   0%|          | 0/591 [00:00<?, ?it/s]",
      "application/vnd.jupyter.widget-view+json": {
       "version_major": 2,
       "version_minor": 0,
       "model_id": "bc888118e0c24b069f79c71b536308c3"
      }
     },
     "metadata": {},
     "output_type": "display_data"
    },
    {
     "name": "stdout",
     "output_type": "stream",
     "text": [
      "Epoch [30], Train Loss : [0.22497] Val Loss : [0.36819] Val F1 Score : [0.78402]\n",
      "EarlyStopping counter: 5 out of 10\n",
      "Best F1 score from now: 0.7956522020293089\n"
     ]
    },
    {
     "data": {
      "text/plain": "Train Loop:   0%|          | 0/591 [00:00<?, ?it/s]",
      "application/vnd.jupyter.widget-view+json": {
       "version_major": 2,
       "version_minor": 0,
       "model_id": "ae5e24672a424a13a5c75bf8e815badb"
      }
     },
     "metadata": {},
     "output_type": "display_data"
    },
    {
     "name": "stdout",
     "output_type": "stream",
     "text": [
      "Epoch [31], Train Loss : [0.31707] Val Loss : [0.49279] Val F1 Score : [0.75235]\n",
      "EarlyStopping counter: 6 out of 10\n",
      "Best F1 score from now: 0.7956522020293089\n"
     ]
    },
    {
     "data": {
      "text/plain": "Train Loop:   0%|          | 0/591 [00:00<?, ?it/s]",
      "application/vnd.jupyter.widget-view+json": {
       "version_major": 2,
       "version_minor": 0,
       "model_id": "184f300d81024ab497b0c8b91b06b950"
      }
     },
     "metadata": {},
     "output_type": "display_data"
    },
    {
     "name": "stdout",
     "output_type": "stream",
     "text": [
      "Epoch [32], Train Loss : [0.29105] Val Loss : [0.44600] Val F1 Score : [0.76536]\n",
      "EarlyStopping counter: 7 out of 10\n",
      "Best F1 score from now: 0.7956522020293089\n"
     ]
    },
    {
     "data": {
      "text/plain": "Train Loop:   0%|          | 0/591 [00:00<?, ?it/s]",
      "application/vnd.jupyter.widget-view+json": {
       "version_major": 2,
       "version_minor": 0,
       "model_id": "d9a001664e964d84a2f579e7d008fe30"
      }
     },
     "metadata": {},
     "output_type": "display_data"
    },
    {
     "name": "stdout",
     "output_type": "stream",
     "text": [
      "Epoch [33], Train Loss : [0.24385] Val Loss : [0.42673] Val F1 Score : [0.79177]\n",
      "EarlyStopping counter: 8 out of 10\n",
      "Best F1 score from now: 0.7956522020293089\n"
     ]
    },
    {
     "data": {
      "text/plain": "Train Loop:   0%|          | 0/591 [00:00<?, ?it/s]",
      "application/vnd.jupyter.widget-view+json": {
       "version_major": 2,
       "version_minor": 0,
       "model_id": "a70a7a652a1c4c5a9f0a0e747f9f9bb6"
      }
     },
     "metadata": {},
     "output_type": "display_data"
    },
    {
     "name": "stdout",
     "output_type": "stream",
     "text": [
      "Epoch [34], Train Loss : [0.20150] Val Loss : [0.41397] Val F1 Score : [0.79062]\n",
      "EarlyStopping counter: 9 out of 10\n",
      "Best F1 score from now: 0.7956522020293089\n"
     ]
    },
    {
     "data": {
      "text/plain": "Train Loop:   0%|          | 0/591 [00:00<?, ?it/s]",
      "application/vnd.jupyter.widget-view+json": {
       "version_major": 2,
       "version_minor": 0,
       "model_id": "9defcc02285a473489afa4c7c3eac212"
      }
     },
     "metadata": {},
     "output_type": "display_data"
    },
    {
     "name": "stdout",
     "output_type": "stream",
     "text": [
      "**Epoch [35], Train Loss : [0.18133] Val Loss : [0.35518] Val F1 Score : [0.80319]\n"
     ]
    },
    {
     "data": {
      "text/plain": "Train Loop:   0%|          | 0/591 [00:00<?, ?it/s]",
      "application/vnd.jupyter.widget-view+json": {
       "version_major": 2,
       "version_minor": 0,
       "model_id": "f74bf84c435540709632a3ff33e894c4"
      }
     },
     "metadata": {},
     "output_type": "display_data"
    },
    {
     "name": "stdout",
     "output_type": "stream",
     "text": [
      "Epoch [36], Train Loss : [0.23685] Val Loss : [0.42762] Val F1 Score : [0.76931]\n",
      "EarlyStopping counter: 1 out of 10\n",
      "Best F1 score from now: 0.8031875678004866\n"
     ]
    },
    {
     "data": {
      "text/plain": "Train Loop:   0%|          | 0/591 [00:00<?, ?it/s]",
      "application/vnd.jupyter.widget-view+json": {
       "version_major": 2,
       "version_minor": 0,
       "model_id": "6ee649d309c14ee6a3404807aa437412"
      }
     },
     "metadata": {},
     "output_type": "display_data"
    },
    {
     "name": "stdout",
     "output_type": "stream",
     "text": [
      "Epoch [37], Train Loss : [0.22841] Val Loss : [0.36883] Val F1 Score : [0.79446]\n",
      "EarlyStopping counter: 2 out of 10\n",
      "Best F1 score from now: 0.8031875678004866\n"
     ]
    },
    {
     "data": {
      "text/plain": "Train Loop:   0%|          | 0/591 [00:00<?, ?it/s]",
      "application/vnd.jupyter.widget-view+json": {
       "version_major": 2,
       "version_minor": 0,
       "model_id": "21f9520eb2344c1998dd01d7c70d2be2"
      }
     },
     "metadata": {},
     "output_type": "display_data"
    },
    {
     "name": "stdout",
     "output_type": "stream",
     "text": [
      "Epoch [38], Train Loss : [0.20393] Val Loss : [0.37879] Val F1 Score : [0.78430]\n",
      "EarlyStopping counter: 3 out of 10\n",
      "Best F1 score from now: 0.8031875678004866\n"
     ]
    },
    {
     "data": {
      "text/plain": "Train Loop:   0%|          | 0/591 [00:00<?, ?it/s]",
      "application/vnd.jupyter.widget-view+json": {
       "version_major": 2,
       "version_minor": 0,
       "model_id": "3b9f3ec5040d4885a92f2b8cd1423d8b"
      }
     },
     "metadata": {},
     "output_type": "display_data"
    },
    {
     "name": "stdout",
     "output_type": "stream",
     "text": [
      "Epoch [39], Train Loss : [0.16626] Val Loss : [0.36811] Val F1 Score : [0.79708]\n",
      "EarlyStopping counter: 4 out of 10\n",
      "Best F1 score from now: 0.8031875678004866\n"
     ]
    },
    {
     "data": {
      "text/plain": "Train Loop:   0%|          | 0/591 [00:00<?, ?it/s]",
      "application/vnd.jupyter.widget-view+json": {
       "version_major": 2,
       "version_minor": 0,
       "model_id": "e3bfdda2e18542fda9322c08260a5cf7"
      }
     },
     "metadata": {},
     "output_type": "display_data"
    },
    {
     "name": "stdout",
     "output_type": "stream",
     "text": [
      "**Epoch [40], Train Loss : [0.14510] Val Loss : [0.35133] Val F1 Score : [0.80444]\n"
     ]
    },
    {
     "data": {
      "text/plain": "Train Loop:   0%|          | 0/591 [00:00<?, ?it/s]",
      "application/vnd.jupyter.widget-view+json": {
       "version_major": 2,
       "version_minor": 0,
       "model_id": "df70c7f63a6a40aabce1df7f4e4f1936"
      }
     },
     "metadata": {},
     "output_type": "display_data"
    },
    {
     "name": "stdout",
     "output_type": "stream",
     "text": [
      "Epoch [41], Train Loss : [0.17683] Val Loss : [0.41641] Val F1 Score : [0.77855]\n",
      "EarlyStopping counter: 1 out of 10\n",
      "Best F1 score from now: 0.8044434526969002\n"
     ]
    },
    {
     "data": {
      "text/plain": "Train Loop:   0%|          | 0/591 [00:00<?, ?it/s]",
      "application/vnd.jupyter.widget-view+json": {
       "version_major": 2,
       "version_minor": 0,
       "model_id": "d451f340abef408aa630a6da1a4f304d"
      }
     },
     "metadata": {},
     "output_type": "display_data"
    },
    {
     "name": "stdout",
     "output_type": "stream",
     "text": [
      "**Epoch [42], Train Loss : [0.19535] Val Loss : [0.32269] Val F1 Score : [0.83468]\n"
     ]
    },
    {
     "data": {
      "text/plain": "Train Loop:   0%|          | 0/591 [00:00<?, ?it/s]",
      "application/vnd.jupyter.widget-view+json": {
       "version_major": 2,
       "version_minor": 0,
       "model_id": "a841f0ac460646909fc589b2afca0edb"
      }
     },
     "metadata": {},
     "output_type": "display_data"
    },
    {
     "name": "stdout",
     "output_type": "stream",
     "text": [
      "Epoch [43], Train Loss : [0.15846] Val Loss : [0.36081] Val F1 Score : [0.81417]\n",
      "EarlyStopping counter: 1 out of 10\n",
      "Best F1 score from now: 0.8346775644747886\n"
     ]
    },
    {
     "data": {
      "text/plain": "Train Loop:   0%|          | 0/591 [00:00<?, ?it/s]",
      "application/vnd.jupyter.widget-view+json": {
       "version_major": 2,
       "version_minor": 0,
       "model_id": "5199f28d18e44f63bee909292d3e3f76"
      }
     },
     "metadata": {},
     "output_type": "display_data"
    },
    {
     "name": "stdout",
     "output_type": "stream",
     "text": [
      "Epoch [44], Train Loss : [0.14474] Val Loss : [0.30557] Val F1 Score : [0.82662]\n",
      "EarlyStopping counter: 2 out of 10\n",
      "Best F1 score from now: 0.8346775644747886\n"
     ]
    },
    {
     "data": {
      "text/plain": "Train Loop:   0%|          | 0/591 [00:00<?, ?it/s]",
      "application/vnd.jupyter.widget-view+json": {
       "version_major": 2,
       "version_minor": 0,
       "model_id": "f2a19de271324e758572dce3b0ae22a2"
      }
     },
     "metadata": {},
     "output_type": "display_data"
    },
    {
     "name": "stdout",
     "output_type": "stream",
     "text": [
      "**Epoch [45], Train Loss : [0.11816] Val Loss : [0.34422] Val F1 Score : [0.83683]\n"
     ]
    },
    {
     "data": {
      "text/plain": "Train Loop:   0%|          | 0/591 [00:00<?, ?it/s]",
      "application/vnd.jupyter.widget-view+json": {
       "version_major": 2,
       "version_minor": 0,
       "model_id": "078bbb68e9c04cfdbb937eb8a945ad3f"
      }
     },
     "metadata": {},
     "output_type": "display_data"
    },
    {
     "name": "stdout",
     "output_type": "stream",
     "text": [
      "Epoch [46], Train Loss : [0.15234] Val Loss : [0.36189] Val F1 Score : [0.81974]\n",
      "EarlyStopping counter: 1 out of 10\n",
      "Best F1 score from now: 0.8368261261683956\n"
     ]
    },
    {
     "data": {
      "text/plain": "Train Loop:   0%|          | 0/591 [00:00<?, ?it/s]",
      "application/vnd.jupyter.widget-view+json": {
       "version_major": 2,
       "version_minor": 0,
       "model_id": "e35097aabfd842b08c888863c7c24b29"
      }
     },
     "metadata": {},
     "output_type": "display_data"
    },
    {
     "name": "stdout",
     "output_type": "stream",
     "text": [
      "Epoch [47], Train Loss : [0.15267] Val Loss : [0.34181] Val F1 Score : [0.82167]\n",
      "EarlyStopping counter: 2 out of 10\n",
      "Best F1 score from now: 0.8368261261683956\n"
     ]
    },
    {
     "data": {
      "text/plain": "Train Loop:   0%|          | 0/591 [00:00<?, ?it/s]",
      "application/vnd.jupyter.widget-view+json": {
       "version_major": 2,
       "version_minor": 0,
       "model_id": "63e7a020c0bd43f1b0a127d7683096f9"
      }
     },
     "metadata": {},
     "output_type": "display_data"
    },
    {
     "name": "stdout",
     "output_type": "stream",
     "text": [
      "Epoch [48], Train Loss : [0.12237] Val Loss : [0.33084] Val F1 Score : [0.82976]\n",
      "EarlyStopping counter: 3 out of 10\n",
      "Best F1 score from now: 0.8368261261683956\n"
     ]
    },
    {
     "data": {
      "text/plain": "Train Loop:   0%|          | 0/591 [00:00<?, ?it/s]",
      "application/vnd.jupyter.widget-view+json": {
       "version_major": 2,
       "version_minor": 0,
       "model_id": "369201ccda10498088c57c30d106bf32"
      }
     },
     "metadata": {},
     "output_type": "display_data"
    },
    {
     "name": "stdout",
     "output_type": "stream",
     "text": [
      "Epoch [49], Train Loss : [0.11466] Val Loss : [0.33114] Val F1 Score : [0.83095]\n",
      "EarlyStopping counter: 4 out of 10\n",
      "Best F1 score from now: 0.8368261261683956\n"
     ]
    },
    {
     "data": {
      "text/plain": "Train Loop:   0%|          | 0/591 [00:00<?, ?it/s]",
      "application/vnd.jupyter.widget-view+json": {
       "version_major": 2,
       "version_minor": 0,
       "model_id": "d65a0de1a1294bb6b6666ae0ba3d1799"
      }
     },
     "metadata": {},
     "output_type": "display_data"
    },
    {
     "name": "stdout",
     "output_type": "stream",
     "text": [
      "Epoch [50], Train Loss : [0.11458] Val Loss : [0.31878] Val F1 Score : [0.83375]\n",
      "EarlyStopping counter: 5 out of 10\n",
      "Best F1 score from now: 0.8368261261683956\n"
     ]
    },
    {
     "data": {
      "text/plain": "Train Loop:   0%|          | 0/591 [00:00<?, ?it/s]",
      "application/vnd.jupyter.widget-view+json": {
       "version_major": 2,
       "version_minor": 0,
       "model_id": "01e3869e8da74de6a9e7b6a3ed0d1adc"
      }
     },
     "metadata": {},
     "output_type": "display_data"
    },
    {
     "name": "stdout",
     "output_type": "stream",
     "text": [
      "Epoch [51], Train Loss : [0.12190] Val Loss : [0.35949] Val F1 Score : [0.80664]\n",
      "EarlyStopping counter: 6 out of 10\n",
      "Best F1 score from now: 0.8368261261683956\n"
     ]
    },
    {
     "data": {
      "text/plain": "Train Loop:   0%|          | 0/591 [00:00<?, ?it/s]",
      "application/vnd.jupyter.widget-view+json": {
       "version_major": 2,
       "version_minor": 0,
       "model_id": "5986999ded874edb94db69aba53d713f"
      }
     },
     "metadata": {},
     "output_type": "display_data"
    },
    {
     "name": "stdout",
     "output_type": "stream",
     "text": [
      "Epoch [52], Train Loss : [0.12264] Val Loss : [0.33674] Val F1 Score : [0.83265]\n",
      "EarlyStopping counter: 7 out of 10\n",
      "Best F1 score from now: 0.8368261261683956\n"
     ]
    },
    {
     "data": {
      "text/plain": "Train Loop:   0%|          | 0/591 [00:00<?, ?it/s]",
      "application/vnd.jupyter.widget-view+json": {
       "version_major": 2,
       "version_minor": 0,
       "model_id": "5d0426a76c5b482d889b6a89403d2762"
      }
     },
     "metadata": {},
     "output_type": "display_data"
    },
    {
     "name": "stdout",
     "output_type": "stream",
     "text": [
      "**Epoch [53], Train Loss : [0.11533] Val Loss : [0.30700] Val F1 Score : [0.84243]\n"
     ]
    },
    {
     "data": {
      "text/plain": "Train Loop:   0%|          | 0/591 [00:00<?, ?it/s]",
      "application/vnd.jupyter.widget-view+json": {
       "version_major": 2,
       "version_minor": 0,
       "model_id": "571bbf07194a4b62a4caf926513828c8"
      }
     },
     "metadata": {},
     "output_type": "display_data"
    },
    {
     "name": "stdout",
     "output_type": "stream",
     "text": [
      "**Epoch [54], Train Loss : [0.10393] Val Loss : [0.31988] Val F1 Score : [0.84528]\n"
     ]
    },
    {
     "data": {
      "text/plain": "Train Loop:   0%|          | 0/591 [00:00<?, ?it/s]",
      "application/vnd.jupyter.widget-view+json": {
       "version_major": 2,
       "version_minor": 0,
       "model_id": "c50c117dbfe9427e8e7107ee11a13983"
      }
     },
     "metadata": {},
     "output_type": "display_data"
    },
    {
     "name": "stdout",
     "output_type": "stream",
     "text": [
      "Epoch [55], Train Loss : [0.10215] Val Loss : [0.31380] Val F1 Score : [0.83787]\n",
      "EarlyStopping counter: 1 out of 10\n",
      "Best F1 score from now: 0.8452809712361603\n"
     ]
    },
    {
     "data": {
      "text/plain": "Train Loop:   0%|          | 0/591 [00:00<?, ?it/s]",
      "application/vnd.jupyter.widget-view+json": {
       "version_major": 2,
       "version_minor": 0,
       "model_id": "df65335434c546a58221aaa6132dbeac"
      }
     },
     "metadata": {},
     "output_type": "display_data"
    },
    {
     "name": "stdout",
     "output_type": "stream",
     "text": [
      "Epoch [56], Train Loss : [0.10904] Val Loss : [0.31996] Val F1 Score : [0.83516]\n",
      "EarlyStopping counter: 2 out of 10\n",
      "Best F1 score from now: 0.8452809712361603\n"
     ]
    },
    {
     "data": {
      "text/plain": "Train Loop:   0%|          | 0/591 [00:00<?, ?it/s]",
      "application/vnd.jupyter.widget-view+json": {
       "version_major": 2,
       "version_minor": 0,
       "model_id": "8e2307a65add452ebecd06879930eca9"
      }
     },
     "metadata": {},
     "output_type": "display_data"
    },
    {
     "name": "stdout",
     "output_type": "stream",
     "text": [
      "Epoch [57], Train Loss : [0.11147] Val Loss : [0.35192] Val F1 Score : [0.82708]\n",
      "EarlyStopping counter: 3 out of 10\n",
      "Best F1 score from now: 0.8452809712361603\n"
     ]
    },
    {
     "data": {
      "text/plain": "Train Loop:   0%|          | 0/591 [00:00<?, ?it/s]",
      "application/vnd.jupyter.widget-view+json": {
       "version_major": 2,
       "version_minor": 0,
       "model_id": "d601b7a42daa4a8083c16bf573725c12"
      }
     },
     "metadata": {},
     "output_type": "display_data"
    },
    {
     "name": "stdout",
     "output_type": "stream",
     "text": [
      "Epoch [58], Train Loss : [0.10016] Val Loss : [0.32184] Val F1 Score : [0.84050]\n",
      "EarlyStopping counter: 4 out of 10\n",
      "Best F1 score from now: 0.8452809712361603\n"
     ]
    },
    {
     "data": {
      "text/plain": "Train Loop:   0%|          | 0/591 [00:00<?, ?it/s]",
      "application/vnd.jupyter.widget-view+json": {
       "version_major": 2,
       "version_minor": 0,
       "model_id": "2abb654b1b704b4399488790c9ab29ea"
      }
     },
     "metadata": {},
     "output_type": "display_data"
    },
    {
     "name": "stdout",
     "output_type": "stream",
     "text": [
      "Epoch [59], Train Loss : [0.08687] Val Loss : [0.31276] Val F1 Score : [0.84492]\n",
      "EarlyStopping counter: 5 out of 10\n",
      "Best F1 score from now: 0.8452809712361603\n"
     ]
    },
    {
     "data": {
      "text/plain": "Train Loop:   0%|          | 0/591 [00:00<?, ?it/s]",
      "application/vnd.jupyter.widget-view+json": {
       "version_major": 2,
       "version_minor": 0,
       "model_id": "21dd52f7426f4534bbef0c690558f1c8"
      }
     },
     "metadata": {},
     "output_type": "display_data"
    },
    {
     "name": "stdout",
     "output_type": "stream",
     "text": [
      "Epoch [60], Train Loss : [0.08360] Val Loss : [0.32018] Val F1 Score : [0.83295]\n",
      "EarlyStopping counter: 6 out of 10\n",
      "Best F1 score from now: 0.8452809712361603\n"
     ]
    },
    {
     "data": {
      "text/plain": "Train Loop:   0%|          | 0/591 [00:00<?, ?it/s]",
      "application/vnd.jupyter.widget-view+json": {
       "version_major": 2,
       "version_minor": 0,
       "model_id": "8b79669b327a4b998bc807a5a4cb4bef"
      }
     },
     "metadata": {},
     "output_type": "display_data"
    },
    {
     "name": "stdout",
     "output_type": "stream",
     "text": [
      "Epoch [61], Train Loss : [0.08761] Val Loss : [0.30306] Val F1 Score : [0.83524]\n",
      "EarlyStopping counter: 7 out of 10\n",
      "Best F1 score from now: 0.8452809712361603\n"
     ]
    },
    {
     "data": {
      "text/plain": "Train Loop:   0%|          | 0/591 [00:00<?, ?it/s]",
      "application/vnd.jupyter.widget-view+json": {
       "version_major": 2,
       "version_minor": 0,
       "model_id": "2f5422a736e24bb7b16d677cdfa230f4"
      }
     },
     "metadata": {},
     "output_type": "display_data"
    },
    {
     "name": "stdout",
     "output_type": "stream",
     "text": [
      "Epoch [62], Train Loss : [0.09329] Val Loss : [0.33293] Val F1 Score : [0.83090]\n",
      "EarlyStopping counter: 8 out of 10\n",
      "Best F1 score from now: 0.8452809712361603\n"
     ]
    },
    {
     "data": {
      "text/plain": "Train Loop:   0%|          | 0/591 [00:00<?, ?it/s]",
      "application/vnd.jupyter.widget-view+json": {
       "version_major": 2,
       "version_minor": 0,
       "model_id": "b6be50fe0de2493ca3189699cc12be82"
      }
     },
     "metadata": {},
     "output_type": "display_data"
    },
    {
     "name": "stdout",
     "output_type": "stream",
     "text": [
      "Epoch [63], Train Loss : [0.08544] Val Loss : [0.33321] Val F1 Score : [0.83461]\n",
      "EarlyStopping counter: 9 out of 10\n",
      "Best F1 score from now: 0.8452809712361603\n"
     ]
    },
    {
     "data": {
      "text/plain": "Train Loop:   0%|          | 0/591 [00:00<?, ?it/s]",
      "application/vnd.jupyter.widget-view+json": {
       "version_major": 2,
       "version_minor": 0,
       "model_id": "cee7ddbf08974acbb2168da0d095baea"
      }
     },
     "metadata": {},
     "output_type": "display_data"
    },
    {
     "name": "stdout",
     "output_type": "stream",
     "text": [
      "Epoch [64], Train Loss : [0.08395] Val Loss : [0.32479] Val F1 Score : [0.83681]\n",
      "EarlyStopping counter: 10 out of 10\n",
      "Best F1 score from now: 0.8452809712361603\n",
      "Epoch [64], early stopping\n"
     ]
    }
   ],
   "source": [
    "model.eval()\n",
    "optimizer = torch.optim.AdamW(params = model.parameters(), lr = CFG['LEARNING_RATE'])\n",
    "# lr : 10epochs 동안 0.01->0\n",
    "lr_scheduler = CosineAnnealingWarmUpRestarts(optimizer, T_0=CFG['WARMUP']*len(train_loader), T_mult=1, eta_max=0.001, T_up=50, gamma=0.8)\n",
    "\n",
    "train_loss_list, val_loss_list, lr_list = train_epoch(model, optimizer, train_loader, val_loader, lr_scheduler, device)"
   ],
   "metadata": {
    "collapsed": false,
    "ExecuteTime": {
     "end_time": "2023-12-20T22:23:17.372269800Z",
     "start_time": "2023-12-20T18:42:12.498472Z"
    }
   },
   "id": "e59465d8032710f4"
  },
  {
   "cell_type": "code",
   "execution_count": 32,
   "outputs": [
    {
     "data": {
      "text/plain": "<Figure size 640x480 with 1 Axes>",
      "image/png": "[encoded data removed]"
     },
     "metadata": {},
     "output_type": "display_data"
    }
   ],
   "source": [
    "sns.lineplot(train_loss_list, label='train loss')\n",
    "sns.lineplot(val_loss_list, label='validation loss')\n",
    "plt.xlabel(\"epoch\")\n",
    "plt.ylabel('loss')\n",
    "plt.title('train/validation loss')\n",
    "plt.show()"
   ],
   "metadata": {
    "collapsed": false,
    "ExecuteTime": {
     "end_time": "2023-12-20T22:23:17.571139500Z",
     "start_time": "2023-12-20T22:23:17.375362600Z"
    }
   },
   "id": "b46be9d6d827da9a"
  },
  {
   "cell_type": "code",
   "execution_count": 33,
   "outputs": [
    {
     "data": {
      "text/plain": "<Axes: >"
     },
     "execution_count": 33,
     "metadata": {},
     "output_type": "execute_result"
    },
    {
     "data": {
      "text/plain": "<Figure size 640x480 with 1 Axes>",
      "image/png": "[encoded data removed]"
     },
     "metadata": {},
     "output_type": "display_data"
    }
   ],
   "source": [
    "sns.lineplot(lr_list)"
   ],
   "metadata": {
    "collapsed": false,
    "ExecuteTime": {
     "end_time": "2023-12-20T22:23:17.753956900Z",
     "start_time": "2023-12-20T22:23:17.576135Z"
    }
   },
   "id": "10b70a182b34ab37"
  },
  {
   "cell_type": "code",
   "execution_count": 34,
   "outputs": [
    {
     "data": {
      "text/plain": "           id               img_path\n0  TEST_00000  ./test/TEST_00000.jpg\n1  TEST_00001  ./test/TEST_00001.jpg\n2  TEST_00002  ./test/TEST_00002.jpg\n3  TEST_00003  ./test/TEST_00003.jpg\n4  TEST_00004  ./test/TEST_00004.jpg",
      "text/html": "<div>\n<style scoped>\n    .dataframe tbody tr th:only-of-type {\n        vertical-align: middle;\n    }\n\n    .dataframe tbody tr th {\n        vertical-align: top;\n    }\n\n    .dataframe thead th {\n        text-align: right;\n    }\n</style>\n<table border=\"1\" class=\"dataframe\">\n  <thead>\n    <tr style=\"text-align: right;\">\n      <th></th>\n      <th>id</th>\n      <th>img_path</th>\n    </tr>\n  </thead>\n  <tbody>\n    <tr>\n      <th>0</th>\n      <td>TEST_00000</td>\n      <td>./test/TEST_00000.jpg</td>\n    </tr>\n    <tr>\n      <th>1</th>\n      <td>TEST_00001</td>\n      <td>./test/TEST_00001.jpg</td>\n    </tr>\n    <tr>\n      <th>2</th>\n      <td>TEST_00002</td>\n      <td>./test/TEST_00002.jpg</td>\n    </tr>\n    <tr>\n      <th>3</th>\n      <td>TEST_00003</td>\n      <td>./test/TEST_00003.jpg</td>\n    </tr>\n    <tr>\n      <th>4</th>\n      <td>TEST_00004</td>\n      <td>./test/TEST_00004.jpg</td>\n    </tr>\n  </tbody>\n</table>\n</div>"
     },
     "execution_count": 34,
     "metadata": {},
     "output_type": "execute_result"
    }
   ],
   "source": [
    "test_df = pd.read_csv(os.path.join(data_path, './test.csv'))\n",
    "test_df.head()"
   ],
   "metadata": {
    "collapsed": false,
    "ExecuteTime": {
     "end_time": "2023-12-20T22:23:17.820297600Z",
     "start_time": "2023-12-20T22:23:17.754957Z"
    }
   },
   "id": "9c8fff1a450556ec"
  },
  {
   "cell_type": "code",
   "execution_count": 35,
   "outputs": [],
   "source": [
    "test_img_paths = get_data(test_df, infer=True)"
   ],
   "metadata": {
    "collapsed": false,
    "ExecuteTime": {
     "end_time": "2023-12-20T22:23:17.836631900Z",
     "start_time": "2023-12-20T22:23:17.802915500Z"
    }
   },
   "id": "6a50c39d21de27ed"
  },
  {
   "cell_type": "code",
   "execution_count": 36,
   "outputs": [],
   "source": [
    "test_dataset = CustomDataset(test_img_paths, None, test_transform)\n",
    "test_loader = DataLoader(test_dataset, batch_size=CFG['BATCH_SIZE'], shuffle=False, num_workers=0)"
   ],
   "metadata": {
    "collapsed": false,
    "ExecuteTime": {
     "end_time": "2023-12-20T22:23:17.870513200Z",
     "start_time": "2023-12-20T22:23:17.832552400Z"
    }
   },
   "id": "66859c2e35131aae"
  },
  {
   "cell_type": "code",
   "execution_count": 37,
   "outputs": [],
   "source": [
    "def inference(model, test_loader, device):\n",
    "    model.to(device)\n",
    "    model.eval()\n",
    "    \n",
    "    model_preds = []\n",
    "    \n",
    "    with torch.no_grad():\n",
    "        for img in test_loader:\n",
    "            img = img.float().to(device)\n",
    "            \n",
    "            model_pred = model(img)\n",
    "            model_preds += model_pred.argmax(1).detach().cpu().numpy().tolist()\n",
    "    \n",
    "    print('Done.')\n",
    "    return model_preds"
   ],
   "metadata": {
    "collapsed": false,
    "ExecuteTime": {
     "end_time": "2023-12-20T22:23:17.905935600Z",
     "start_time": "2023-12-20T22:23:17.850147Z"
    }
   },
   "id": "60aba723872ee62e"
  },
  {
   "cell_type": "code",
   "execution_count": 38,
   "outputs": [
    {
     "name": "stdout",
     "output_type": "stream",
     "text": [
      "CHECKPOINT LOADED: ../../data/runs/0/best_model.pt\n"
     ]
    },
    {
     "data": {
      "text/plain": "VitModel(\n  (backbone): TinyVit(\n    (patch_embed): PatchEmbed(\n      (conv1): ConvNorm(\n        (conv): Conv2d(3, 48, kernel_size=(3, 3), stride=(2, 2), padding=(1, 1), bias=False)\n        (bn): BatchNorm2d(48, eps=1e-05, momentum=0.1, affine=True, track_running_stats=True)\n      )\n      (act): GELU(approximate='none')\n      (conv2): ConvNorm(\n        (conv): Conv2d(48, 96, kernel_size=(3, 3), stride=(2, 2), padding=(1, 1), bias=False)\n        (bn): BatchNorm2d(96, eps=1e-05, momentum=0.1, affine=True, track_running_stats=True)\n      )\n    )\n    (stages): Sequential(\n      (0): ConvLayer(\n        (blocks): Sequential(\n          (0): MBConv(\n            (conv1): ConvNorm(\n              (conv): Conv2d(96, 384, kernel_size=(1, 1), stride=(1, 1), bias=False)\n              (bn): BatchNorm2d(384, eps=1e-05, momentum=0.1, affine=True, track_running_stats=True)\n            )\n            (act1): GELU(approximate='none')\n            (conv2): ConvNorm(\n              (conv): Conv2d(384, 384, kernel_size=(3, 3), stride=(1, 1), padding=(1, 1), groups=384, bias=False)\n              (bn): BatchNorm2d(384, eps=1e-05, momentum=0.1, affine=True, track_running_stats=True)\n            )\n            (act2): GELU(approximate='none')\n            (conv3): ConvNorm(\n              (conv): Conv2d(384, 96, kernel_size=(1, 1), stride=(1, 1), bias=False)\n              (bn): BatchNorm2d(96, eps=1e-05, momentum=0.1, affine=True, track_running_stats=True)\n            )\n            (act3): GELU(approximate='none')\n            (drop_path): Identity()\n          )\n          (1): MBConv(\n            (conv1): ConvNorm(\n              (conv): Conv2d(96, 384, kernel_size=(1, 1), stride=(1, 1), bias=False)\n              (bn): BatchNorm2d(384, eps=1e-05, momentum=0.1, affine=True, track_running_stats=True)\n            )\n            (act1): GELU(approximate='none')\n            (conv2): ConvNorm(\n              (conv): Conv2d(384, 384, kernel_size=(3, 3), stride=(1, 1), padding=(1, 1), groups=384, bias=False)\n              (bn): BatchNorm2d(384, eps=1e-05, momentum=0.1, affine=True, track_running_stats=True)\n            )\n            (act2): GELU(approximate='none')\n            (conv3): ConvNorm(\n              (conv): Conv2d(384, 96, kernel_size=(1, 1), stride=(1, 1), bias=False)\n              (bn): BatchNorm2d(96, eps=1e-05, momentum=0.1, affine=True, track_running_stats=True)\n            )\n            (act3): GELU(approximate='none')\n            (drop_path): DropPath(drop_prob=0.009)\n          )\n        )\n      )\n      (1): TinyVitStage(\n        dim=192, depth=2\n        (downsample): PatchMerging(\n          (conv1): ConvNorm(\n            (conv): Conv2d(96, 192, kernel_size=(1, 1), stride=(1, 1), bias=False)\n            (bn): BatchNorm2d(192, eps=1e-05, momentum=0.1, affine=True, track_running_stats=True)\n          )\n          (act1): GELU(approximate='none')\n          (conv2): ConvNorm(\n            (conv): Conv2d(192, 192, kernel_size=(3, 3), stride=(2, 2), padding=(1, 1), groups=192, bias=False)\n            (bn): BatchNorm2d(192, eps=1e-05, momentum=0.1, affine=True, track_running_stats=True)\n          )\n          (act2): GELU(approximate='none')\n          (conv3): ConvNorm(\n            (conv): Conv2d(192, 192, kernel_size=(1, 1), stride=(1, 1), bias=False)\n            (bn): BatchNorm2d(192, eps=1e-05, momentum=0.1, affine=True, track_running_stats=True)\n          )\n        )\n        (blocks): Sequential(\n          (0): TinyVitBlock(\n            dim=192, num_heads=6, window_size=12, mlp_ratio=4.0\n            (attn): Attention(\n              (norm): LayerNorm((192,), eps=1e-05, elementwise_affine=True)\n              (qkv): Linear(in_features=192, out_features=576, bias=True)\n              (proj): Linear(in_features=192, out_features=192, bias=True)\n            )\n            (drop_path1): DropPath(drop_prob=0.018)\n            (mlp): NormMlp(\n              (norm): LayerNorm((192,), eps=1e-05, elementwise_affine=True)\n              (fc1): Linear(in_features=192, out_features=768, bias=True)\n              (act): GELU(approximate='none')\n              (drop1): Dropout(p=0.0, inplace=False)\n              (fc2): Linear(in_features=768, out_features=192, bias=True)\n              (drop2): Dropout(p=0.0, inplace=False)\n            )\n            (drop_path2): DropPath(drop_prob=0.018)\n            (local_conv): ConvNorm(\n              (conv): Conv2d(192, 192, kernel_size=(3, 3), stride=(1, 1), padding=(1, 1), groups=192, bias=False)\n              (bn): BatchNorm2d(192, eps=1e-05, momentum=0.1, affine=True, track_running_stats=True)\n            )\n          )\n          (1): TinyVitBlock(\n            dim=192, num_heads=6, window_size=12, mlp_ratio=4.0\n            (attn): Attention(\n              (norm): LayerNorm((192,), eps=1e-05, elementwise_affine=True)\n              (qkv): Linear(in_features=192, out_features=576, bias=True)\n              (proj): Linear(in_features=192, out_features=192, bias=True)\n            )\n            (drop_path1): DropPath(drop_prob=0.027)\n            (mlp): NormMlp(\n              (norm): LayerNorm((192,), eps=1e-05, elementwise_affine=True)\n              (fc1): Linear(in_features=192, out_features=768, bias=True)\n              (act): GELU(approximate='none')\n              (drop1): Dropout(p=0.0, inplace=False)\n              (fc2): Linear(in_features=768, out_features=192, bias=True)\n              (drop2): Dropout(p=0.0, inplace=False)\n            )\n            (drop_path2): DropPath(drop_prob=0.027)\n            (local_conv): ConvNorm(\n              (conv): Conv2d(192, 192, kernel_size=(3, 3), stride=(1, 1), padding=(1, 1), groups=192, bias=False)\n              (bn): BatchNorm2d(192, eps=1e-05, momentum=0.1, affine=True, track_running_stats=True)\n            )\n          )\n        )\n      )\n      (2): TinyVitStage(\n        dim=384, depth=6\n        (downsample): PatchMerging(\n          (conv1): ConvNorm(\n            (conv): Conv2d(192, 384, kernel_size=(1, 1), stride=(1, 1), bias=False)\n            (bn): BatchNorm2d(384, eps=1e-05, momentum=0.1, affine=True, track_running_stats=True)\n          )\n          (act1): GELU(approximate='none')\n          (conv2): ConvNorm(\n            (conv): Conv2d(384, 384, kernel_size=(3, 3), stride=(2, 2), padding=(1, 1), groups=384, bias=False)\n            (bn): BatchNorm2d(384, eps=1e-05, momentum=0.1, affine=True, track_running_stats=True)\n          )\n          (act2): GELU(approximate='none')\n          (conv3): ConvNorm(\n            (conv): Conv2d(384, 384, kernel_size=(1, 1), stride=(1, 1), bias=False)\n            (bn): BatchNorm2d(384, eps=1e-05, momentum=0.1, affine=True, track_running_stats=True)\n          )\n        )\n        (blocks): Sequential(\n          (0): TinyVitBlock(\n            dim=384, num_heads=12, window_size=24, mlp_ratio=4.0\n            (attn): Attention(\n              (norm): LayerNorm((384,), eps=1e-05, elementwise_affine=True)\n              (qkv): Linear(in_features=384, out_features=1152, bias=True)\n              (proj): Linear(in_features=384, out_features=384, bias=True)\n            )\n            (drop_path1): DropPath(drop_prob=0.036)\n            (mlp): NormMlp(\n              (norm): LayerNorm((384,), eps=1e-05, elementwise_affine=True)\n              (fc1): Linear(in_features=384, out_features=1536, bias=True)\n              (act): GELU(approximate='none')\n              (drop1): Dropout(p=0.0, inplace=False)\n              (fc2): Linear(in_features=1536, out_features=384, bias=True)\n              (drop2): Dropout(p=0.0, inplace=False)\n            )\n            (drop_path2): DropPath(drop_prob=0.036)\n            (local_conv): ConvNorm(\n              (conv): Conv2d(384, 384, kernel_size=(3, 3), stride=(1, 1), padding=(1, 1), groups=384, bias=False)\n              (bn): BatchNorm2d(384, eps=1e-05, momentum=0.1, affine=True, track_running_stats=True)\n            )\n          )\n          (1): TinyVitBlock(\n            dim=384, num_heads=12, window_size=24, mlp_ratio=4.0\n            (attn): Attention(\n              (norm): LayerNorm((384,), eps=1e-05, elementwise_affine=True)\n              (qkv): Linear(in_features=384, out_features=1152, bias=True)\n              (proj): Linear(in_features=384, out_features=384, bias=True)\n            )\n            (drop_path1): DropPath(drop_prob=0.045)\n            (mlp): NormMlp(\n              (norm): LayerNorm((384,), eps=1e-05, elementwise_affine=True)\n              (fc1): Linear(in_features=384, out_features=1536, bias=True)\n              (act): GELU(approximate='none')\n              (drop1): Dropout(p=0.0, inplace=False)\n              (fc2): Linear(in_features=1536, out_features=384, bias=True)\n              (drop2): Dropout(p=0.0, inplace=False)\n            )\n            (drop_path2): DropPath(drop_prob=0.045)\n            (local_conv): ConvNorm(\n              (conv): Conv2d(384, 384, kernel_size=(3, 3), stride=(1, 1), padding=(1, 1), groups=384, bias=False)\n              (bn): BatchNorm2d(384, eps=1e-05, momentum=0.1, affine=True, track_running_stats=True)\n            )\n          )\n          (2): TinyVitBlock(\n            dim=384, num_heads=12, window_size=24, mlp_ratio=4.0\n            (attn): Attention(\n              (norm): LayerNorm((384,), eps=1e-05, elementwise_affine=True)\n              (qkv): Linear(in_features=384, out_features=1152, bias=True)\n              (proj): Linear(in_features=384, out_features=384, bias=True)\n            )\n            (drop_path1): DropPath(drop_prob=0.055)\n            (mlp): NormMlp(\n              (norm): LayerNorm((384,), eps=1e-05, elementwise_affine=True)\n              (fc1): Linear(in_features=384, out_features=1536, bias=True)\n              (act): GELU(approximate='none')\n              (drop1): Dropout(p=0.0, inplace=False)\n              (fc2): Linear(in_features=1536, out_features=384, bias=True)\n              (drop2): Dropout(p=0.0, inplace=False)\n            )\n            (drop_path2): DropPath(drop_prob=0.055)\n            (local_conv): ConvNorm(\n              (conv): Conv2d(384, 384, kernel_size=(3, 3), stride=(1, 1), padding=(1, 1), groups=384, bias=False)\n              (bn): BatchNorm2d(384, eps=1e-05, momentum=0.1, affine=True, track_running_stats=True)\n            )\n          )\n          (3): TinyVitBlock(\n            dim=384, num_heads=12, window_size=24, mlp_ratio=4.0\n            (attn): Attention(\n              (norm): LayerNorm((384,), eps=1e-05, elementwise_affine=True)\n              (qkv): Linear(in_features=384, out_features=1152, bias=True)\n              (proj): Linear(in_features=384, out_features=384, bias=True)\n            )\n            (drop_path1): DropPath(drop_prob=0.064)\n            (mlp): NormMlp(\n              (norm): LayerNorm((384,), eps=1e-05, elementwise_affine=True)\n              (fc1): Linear(in_features=384, out_features=1536, bias=True)\n              (act): GELU(approximate='none')\n              (drop1): Dropout(p=0.0, inplace=False)\n              (fc2): Linear(in_features=1536, out_features=384, bias=True)\n              (drop2): Dropout(p=0.0, inplace=False)\n            )\n            (drop_path2): DropPath(drop_prob=0.064)\n            (local_conv): ConvNorm(\n              (conv): Conv2d(384, 384, kernel_size=(3, 3), stride=(1, 1), padding=(1, 1), groups=384, bias=False)\n              (bn): BatchNorm2d(384, eps=1e-05, momentum=0.1, affine=True, track_running_stats=True)\n            )\n          )\n          (4): TinyVitBlock(\n            dim=384, num_heads=12, window_size=24, mlp_ratio=4.0\n            (attn): Attention(\n              (norm): LayerNorm((384,), eps=1e-05, elementwise_affine=True)\n              (qkv): Linear(in_features=384, out_features=1152, bias=True)\n              (proj): Linear(in_features=384, out_features=384, bias=True)\n            )\n            (drop_path1): DropPath(drop_prob=0.073)\n            (mlp): NormMlp(\n              (norm): LayerNorm((384,), eps=1e-05, elementwise_affine=True)\n              (fc1): Linear(in_features=384, out_features=1536, bias=True)\n              (act): GELU(approximate='none')\n              (drop1): Dropout(p=0.0, inplace=False)\n              (fc2): Linear(in_features=1536, out_features=384, bias=True)\n              (drop2): Dropout(p=0.0, inplace=False)\n            )\n            (drop_path2): DropPath(drop_prob=0.073)\n            (local_conv): ConvNorm(\n              (conv): Conv2d(384, 384, kernel_size=(3, 3), stride=(1, 1), padding=(1, 1), groups=384, bias=False)\n              (bn): BatchNorm2d(384, eps=1e-05, momentum=0.1, affine=True, track_running_stats=True)\n            )\n          )\n          (5): TinyVitBlock(\n            dim=384, num_heads=12, window_size=24, mlp_ratio=4.0\n            (attn): Attention(\n              (norm): LayerNorm((384,), eps=1e-05, elementwise_affine=True)\n              (qkv): Linear(in_features=384, out_features=1152, bias=True)\n              (proj): Linear(in_features=384, out_features=384, bias=True)\n            )\n            (drop_path1): DropPath(drop_prob=0.082)\n            (mlp): NormMlp(\n              (norm): LayerNorm((384,), eps=1e-05, elementwise_affine=True)\n              (fc1): Linear(in_features=384, out_features=1536, bias=True)\n              (act): GELU(approximate='none')\n              (drop1): Dropout(p=0.0, inplace=False)\n              (fc2): Linear(in_features=1536, out_features=384, bias=True)\n              (drop2): Dropout(p=0.0, inplace=False)\n            )\n            (drop_path2): DropPath(drop_prob=0.082)\n            (local_conv): ConvNorm(\n              (conv): Conv2d(384, 384, kernel_size=(3, 3), stride=(1, 1), padding=(1, 1), groups=384, bias=False)\n              (bn): BatchNorm2d(384, eps=1e-05, momentum=0.1, affine=True, track_running_stats=True)\n            )\n          )\n        )\n      )\n      (3): TinyVitStage(\n        dim=576, depth=2\n        (downsample): PatchMerging(\n          (conv1): ConvNorm(\n            (conv): Conv2d(384, 576, kernel_size=(1, 1), stride=(1, 1), bias=False)\n            (bn): BatchNorm2d(576, eps=1e-05, momentum=0.1, affine=True, track_running_stats=True)\n          )\n          (act1): GELU(approximate='none')\n          (conv2): ConvNorm(\n            (conv): Conv2d(576, 576, kernel_size=(3, 3), stride=(2, 2), padding=(1, 1), groups=576, bias=False)\n            (bn): BatchNorm2d(576, eps=1e-05, momentum=0.1, affine=True, track_running_stats=True)\n          )\n          (act2): GELU(approximate='none')\n          (conv3): ConvNorm(\n            (conv): Conv2d(576, 576, kernel_size=(1, 1), stride=(1, 1), bias=False)\n            (bn): BatchNorm2d(576, eps=1e-05, momentum=0.1, affine=True, track_running_stats=True)\n          )\n        )\n        (blocks): Sequential(\n          (0): TinyVitBlock(\n            dim=576, num_heads=18, window_size=12, mlp_ratio=4.0\n            (attn): Attention(\n              (norm): LayerNorm((576,), eps=1e-05, elementwise_affine=True)\n              (qkv): Linear(in_features=576, out_features=1728, bias=True)\n              (proj): Linear(in_features=576, out_features=576, bias=True)\n            )\n            (drop_path1): DropPath(drop_prob=0.091)\n            (mlp): NormMlp(\n              (norm): LayerNorm((576,), eps=1e-05, elementwise_affine=True)\n              (fc1): Linear(in_features=576, out_features=2304, bias=True)\n              (act): GELU(approximate='none')\n              (drop1): Dropout(p=0.0, inplace=False)\n              (fc2): Linear(in_features=2304, out_features=576, bias=True)\n              (drop2): Dropout(p=0.0, inplace=False)\n            )\n            (drop_path2): DropPath(drop_prob=0.091)\n            (local_conv): ConvNorm(\n              (conv): Conv2d(576, 576, kernel_size=(3, 3), stride=(1, 1), padding=(1, 1), groups=576, bias=False)\n              (bn): BatchNorm2d(576, eps=1e-05, momentum=0.1, affine=True, track_running_stats=True)\n            )\n          )\n          (1): TinyVitBlock(\n            dim=576, num_heads=18, window_size=12, mlp_ratio=4.0\n            (attn): Attention(\n              (norm): LayerNorm((576,), eps=1e-05, elementwise_affine=True)\n              (qkv): Linear(in_features=576, out_features=1728, bias=True)\n              (proj): Linear(in_features=576, out_features=576, bias=True)\n            )\n            (drop_path1): DropPath(drop_prob=0.100)\n            (mlp): NormMlp(\n              (norm): LayerNorm((576,), eps=1e-05, elementwise_affine=True)\n              (fc1): Linear(in_features=576, out_features=2304, bias=True)\n              (act): GELU(approximate='none')\n              (drop1): Dropout(p=0.0, inplace=False)\n              (fc2): Linear(in_features=2304, out_features=576, bias=True)\n              (drop2): Dropout(p=0.0, inplace=False)\n            )\n            (drop_path2): DropPath(drop_prob=0.100)\n            (local_conv): ConvNorm(\n              (conv): Conv2d(576, 576, kernel_size=(3, 3), stride=(1, 1), padding=(1, 1), groups=576, bias=False)\n              (bn): BatchNorm2d(576, eps=1e-05, momentum=0.1, affine=True, track_running_stats=True)\n            )\n          )\n        )\n      )\n    )\n    (head): NormMlpClassifierHead(\n      (global_pool): SelectAdaptivePool2d(pool_type=avg, flatten=Identity())\n      (norm): LayerNorm2d((576,), eps=1e-05, elementwise_affine=True)\n      (flatten): Flatten(start_dim=1, end_dim=-1)\n      (pre_logits): Identity()\n      (drop): Dropout(p=0.0, inplace=False)\n      (fc): Identity()\n    )\n  )\n  (classifier): Sequential(\n    (0): LayerNorm((576,), eps=1e-05, elementwise_affine=True)\n    (1): GELU(approximate='none')\n    (2): Dropout(p=0.4, inplace=False)\n    (3): Linear(in_features=576, out_features=50, bias=True)\n  )\n)"
     },
     "execution_count": 38,
     "metadata": {},
     "output_type": "execute_result"
    }
   ],
   "source": [
    "checkpoint = os.path.join(data_path, f'runs/{run_id}/best_model.pt')\n",
    "print(f'CHECKPOINT LOADED: {checkpoint}')\n",
    "infer_model = torch.load(checkpoint)\n",
    "infer_model.to(device)\n",
    "infer_model.eval()"
   ],
   "metadata": {
    "collapsed": false,
    "ExecuteTime": {
     "end_time": "2023-12-20T22:23:18.016275100Z",
     "start_time": "2023-12-20T22:23:17.864384700Z"
    }
   },
   "id": "605d913e0df9b6"
  },
  {
   "cell_type": "code",
   "execution_count": 39,
   "outputs": [
    {
     "name": "stdout",
     "output_type": "stream",
     "text": [
      "Done.\n"
     ]
    }
   ],
   "source": [
    "preds = inference(infer_model, test_loader, device)"
   ],
   "metadata": {
    "collapsed": false,
    "ExecuteTime": {
     "end_time": "2023-12-20T22:25:45.775222300Z",
     "start_time": "2023-12-20T22:23:18.002106600Z"
    }
   },
   "id": "9df29cbb4653101f"
  },
  {
   "cell_type": "code",
   "execution_count": 40,
   "outputs": [],
   "source": [
    "preds = le.inverse_transform(preds)"
   ],
   "metadata": {
    "collapsed": false,
    "ExecuteTime": {
     "end_time": "2023-12-20T22:25:45.791764300Z",
     "start_time": "2023-12-20T22:25:45.777224200Z"
    }
   },
   "id": "37b7f04a0b4de44f"
  },
  {
   "cell_type": "code",
   "execution_count": 41,
   "outputs": [],
   "source": [
    "submit = pd.read_csv(os.path.join(data_path, './sample_submission.csv'))"
   ],
   "metadata": {
    "collapsed": false,
    "ExecuteTime": {
     "end_time": "2023-12-20T22:25:45.838154800Z",
     "start_time": "2023-12-20T22:25:45.793725500Z"
    }
   },
   "id": "fe59292099a9b96e"
  },
  {
   "cell_type": "code",
   "execution_count": 42,
   "outputs": [],
   "source": [
    "submit['artist'] = preds"
   ],
   "metadata": {
    "collapsed": false,
    "ExecuteTime": {
     "end_time": "2023-12-20T22:25:45.852574300Z",
     "start_time": "2023-12-20T22:25:45.838154800Z"
    }
   },
   "id": "8582475a6cb3db6f"
  },
  {
   "cell_type": "code",
   "execution_count": 43,
   "outputs": [
    {
     "data": {
      "text/plain": "           id             artist\n0  TEST_00000        Edgar Degas\n1  TEST_00001  Amedeo Modigliani\n2  TEST_00002         Caravaggio\n3  TEST_00003    Albrecht Du rer\n4  TEST_00004      Pablo Picasso",
      "text/html": "<div>\n<style scoped>\n    .dataframe tbody tr th:only-of-type {\n        vertical-align: middle;\n    }\n\n    .dataframe tbody tr th {\n        vertical-align: top;\n    }\n\n    .dataframe thead th {\n        text-align: right;\n    }\n</style>\n<table border=\"1\" class=\"dataframe\">\n  <thead>\n    <tr style=\"text-align: right;\">\n      <th></th>\n      <th>id</th>\n      <th>artist</th>\n    </tr>\n  </thead>\n  <tbody>\n    <tr>\n      <th>0</th>\n      <td>TEST_00000</td>\n      <td>Edgar Degas</td>\n    </tr>\n    <tr>\n      <th>1</th>\n      <td>TEST_00001</td>\n      <td>Amedeo Modigliani</td>\n    </tr>\n    <tr>\n      <th>2</th>\n      <td>TEST_00002</td>\n      <td>Caravaggio</td>\n    </tr>\n    <tr>\n      <th>3</th>\n      <td>TEST_00003</td>\n      <td>Albrecht Du rer</td>\n    </tr>\n    <tr>\n      <th>4</th>\n      <td>TEST_00004</td>\n      <td>Pablo Picasso</td>\n    </tr>\n  </tbody>\n</table>\n</div>"
     },
     "execution_count": 43,
     "metadata": {},
     "output_type": "execute_result"
    }
   ],
   "source": [
    "submit.head()"
   ],
   "metadata": {
    "collapsed": false,
    "ExecuteTime": {
     "end_time": "2023-12-20T22:25:45.881225800Z",
     "start_time": "2023-12-20T22:25:45.852574300Z"
    }
   },
   "id": "15bd98c5d6b59bf4"
  },
  {
   "cell_type": "code",
   "execution_count": 44,
   "outputs": [],
   "source": [
    "submit.to_csv(os.path.join(data_path, f\"./submit_{CFG['FILENAME']}.csv\"), index=False)"
   ],
   "metadata": {
    "collapsed": false,
    "ExecuteTime": {
     "end_time": "2023-12-20T22:25:45.945494800Z",
     "start_time": "2023-12-20T22:25:45.869700300Z"
    }
   },
   "id": "eed3cb0dc59f47f7"
  },
  {
   "cell_type": "code",
   "execution_count": 44,
   "outputs": [],
   "source": [],
   "metadata": {
    "collapsed": false,
    "ExecuteTime": {
     "end_time": "2023-12-20T22:25:45.970176900Z",
     "start_time": "2023-12-20T22:25:45.900082100Z"
    }
   },
   "id": "d3ed2b836c4e558b"
  }
 ],
 "metadata": {
  "kernelspec": {
   "display_name": "Python 3",
   "language": "python",
   "name": "python3"
  },
  "language_info": {
   "codemirror_mode": {
    "name": "ipython",
    "version": 2
   },
   "file_extension": ".py",
   "mimetype": "text/x-python",
   "name": "python",
   "nbconvert_exporter": "python",
   "pygments_lexer": "ipython2",
   "version": "2.7.6"
  }
 },
 "nbformat": 4,
 "nbformat_minor": 5
}
