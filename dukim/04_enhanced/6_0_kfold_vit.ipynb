{
 "cells": [
  {
   "cell_type": "markdown",
   "source": [
    "# k-Fold\n",
    "* TinyVit-21m-378 \n",
    "* Augmentation\n",
    "    - Transpose # 행렬 스왑\n",
    "    - HorizontalFlip # 좌우 반전\n",
    "    - VerticalFlip # 상하 반전\n",
    "    - ShiftScaleRotate # 랜덤하게 옮기고, scale, 회전\n",
    "    - HueSaturationValue # 빛깔, 색조, 값 변환\n",
    "    - RandomBrightnessContrast # 명도 대비\n",
    "    - ChannelShuffle # RGB 채널 간 shuffle\n",
    "* lr scheduler\n",
    "    - Custom CosineAnnealingWarmUpRestarts\n",
    "* Sampler\n",
    "* Focal loss\n",
    "* CumMix\n",
    "* k-fold\n",
    "* result\n",
    "    - fold0 : Epoch [0-44], Train Loss : [0.75912] Val Loss : [0.48666] Val F1 Score : [0.8393] \n",
    "    - fold1 : Epoch [1-50], Train Loss : [0.75849] Val Loss : [0.43823] Val F1 Score : [0.8414]\n",
    "    - fold2 : Epoch [2-30], Train Loss : [0.91718] Val Loss : [0.60007] Val F1 Score : [0.8119]\n",
    "    - fold3 : Epoch [3-44], Train Loss : [0.80010] Val Loss : [0.52640] Val F1 Score : [0.8362]\n",
    "    - fold4 : Epoch [4-35], Train Loss : [0.85218] Val Loss : [0.54661] Val F1 Score : [0.8248]\n",
    "    - 41536\n",
    "    - public score : 0.8412144012\n",
    "    - private score : 0.8422106045"
   ],
   "metadata": {
    "collapsed": false
   },
   "id": "35ad6a7e30f8925e"
  },
  {
   "cell_type": "code",
   "execution_count": 1,
   "outputs": [],
   "source": [
    "import gc\n",
    "import os\n",
    "import random\n",
    "from datetime import datetime\n",
    "\n",
    "import pandas as pd\n",
    "import numpy as np\n",
    "import matplotlib.pyplot as plt\n",
    "import seaborn as sns\n",
    "import cv2\n",
    "\n",
    "from sklearn import preprocessing\n",
    "from sklearn.model_selection import train_test_split, StratifiedKFold\n",
    "from sklearn.metrics import f1_score\n",
    "\n",
    "import torch\n",
    "import torch.nn as nn\n",
    "import torch.optim as optim\n",
    "import torch.nn.functional as F\n",
    "from torch.utils.data import Dataset, DataLoader\n",
    "\n",
    "from tqdm.auto import tqdm\n",
    "\n",
    "import albumentations as A\n",
    "from albumentations.pytorch.transforms import ToTensorV2\n",
    "\n",
    "import timm\n",
    "\n",
    "import warnings\n",
    "warnings.filterwarnings(action='ignore') "
   ],
   "metadata": {
    "collapsed": false,
    "ExecuteTime": {
     "end_time": "2023-12-21T04:11:48.289686300Z",
     "start_time": "2023-12-21T04:11:45.647337Z"
    }
   },
   "id": "initial_id"
  },
  {
   "cell_type": "code",
   "execution_count": 2,
   "outputs": [],
   "source": [
    "device = torch.device('cuda') if torch.cuda.is_available() else torch.device('cpu')"
   ],
   "metadata": {
    "collapsed": false,
    "ExecuteTime": {
     "end_time": "2023-12-21T04:11:48.328009400Z",
     "start_time": "2023-12-21T04:11:48.289686300Z"
    }
   },
   "id": "5fc1ff58a4a9d6d1"
  },
  {
   "cell_type": "code",
   "execution_count": 3,
   "outputs": [],
   "source": [
    "CFG = {\n",
    "    'IMG_SIZE': 260,\n",
    "    'EPOCHS': 1000,\n",
    "    'LEARNING_RATE': 8e-6,\n",
    "    'BATCH_SIZE': 16,\n",
    "    'K-FOLD': 5,\n",
    "    'FILENAME': 'kfold-vit',\n",
    "    'SEED': 6\n",
    "}"
   ],
   "metadata": {
    "collapsed": false,
    "ExecuteTime": {
     "end_time": "2023-12-21T04:11:48.337104Z",
     "start_time": "2023-12-21T04:11:48.325726700Z"
    }
   },
   "id": "5c99354cb0d52004"
  },
  {
   "cell_type": "code",
   "execution_count": 4,
   "outputs": [],
   "source": [
    "def seed_everything(seed):\n",
    "    random.seed(seed)\n",
    "    os.environ['PYTHONHASHSEED'] = str(seed)\n",
    "    np.random.seed(seed)\n",
    "    torch.manual_seed(seed)\n",
    "    torch.cuda.manual_seed(seed)\n",
    "    torch.cuda.manual_seed_all(seed)\n",
    "    torch.backends.cudnn.deterministic = True\n",
    "    torch.backends.cudnn.benchmark = False\n",
    "\n",
    "seed_everything(CFG['SEED']) # Seed 고정"
   ],
   "metadata": {
    "collapsed": false,
    "ExecuteTime": {
     "end_time": "2023-12-21T04:11:48.352828100Z",
     "start_time": "2023-12-21T04:11:48.337104Z"
    }
   },
   "id": "57142b16a76126df"
  },
  {
   "cell_type": "code",
   "execution_count": 5,
   "outputs": [],
   "source": [
    "running_colab = 'google.colab' in str(get_ipython()) if hasattr(__builtins__,'__IPYTHON__') else False\n",
    "if running_colab:\n",
    "    from google.colab import drive\n",
    "    drive.mount('/content/drive')\n",
    "if running_colab:\n",
    "    data_path = '/content/drive/MyDrive/Colab Notebooks/ai6th/data/optiver/'\n",
    "else:\n",
    "    data_path = '../../data/'"
   ],
   "metadata": {
    "collapsed": false,
    "ExecuteTime": {
     "end_time": "2023-12-21T04:11:48.384212800Z",
     "start_time": "2023-12-21T04:11:48.352828100Z"
    }
   },
   "id": "858b421c8c479378"
  },
  {
   "cell_type": "code",
   "execution_count": 6,
   "outputs": [],
   "source": [
    "df = pd.read_csv(os.path.join(data_path, 'train.csv'))\n",
    "df.loc[3896, 'artist'] = 'Titian'\n",
    "df.loc[3986, 'artist'] = 'Alfred Sisley'"
   ],
   "metadata": {
    "collapsed": false,
    "ExecuteTime": {
     "end_time": "2023-12-21T04:11:48.399931400Z",
     "start_time": "2023-12-21T04:11:48.368446600Z"
    }
   },
   "id": "60ed6dfb973bafc5"
  },
  {
   "cell_type": "code",
   "execution_count": 7,
   "outputs": [],
   "source": [
    "artists = df.groupby('artist')[['id']].count().rename(columns={'id':'count'}).reset_index()"
   ],
   "metadata": {
    "collapsed": false,
    "ExecuteTime": {
     "end_time": "2023-12-21T04:11:48.415550600Z",
     "start_time": "2023-12-21T04:11:48.399931400Z"
    }
   },
   "id": "c031773f1ed5ca85"
  },
  {
   "cell_type": "code",
   "execution_count": 8,
   "outputs": [],
   "source": [
    "# Label Encoding\n",
    "le = preprocessing.LabelEncoder()\n",
    "df['artist'] = le.fit_transform(df['artist'].values)"
   ],
   "metadata": {
    "collapsed": false,
    "ExecuteTime": {
     "end_time": "2023-12-21T04:11:48.431118800Z",
     "start_time": "2023-12-21T04:11:48.415550600Z"
    }
   },
   "id": "2ae8b183518c9394"
  },
  {
   "cell_type": "code",
   "execution_count": 9,
   "outputs": [],
   "source": [
    "def get_data(df, infer=False):\n",
    "    if infer:\n",
    "        return df['img_path'].apply(lambda p: os.path.join(data_path, p)).values\n",
    "    return df['img_path'].apply(lambda p: os.path.join(data_path, p)).values, df['artist'].values"
   ],
   "metadata": {
    "collapsed": false,
    "ExecuteTime": {
     "end_time": "2023-12-21T04:11:48.446733700Z",
     "start_time": "2023-12-21T04:11:48.431118800Z"
    }
   },
   "id": "db002acff51c03bd"
  },
  {
   "cell_type": "code",
   "execution_count": 10,
   "outputs": [],
   "source": [
    "from torchvision.transforms import ToTensor\n",
    "\n",
    "\n",
    "class CustomDataset(Dataset):\n",
    "    def __init__(self, img_paths, labels, transforms=None):\n",
    "        self.img_paths = img_paths\n",
    "        self.labels = labels\n",
    "        self.transforms = transforms if transforms else ToTensor()\n",
    "\n",
    "    def __getitem__(self, index):\n",
    "        img_path = self.img_paths[index]\n",
    "        image = cv2.imread(img_path)\n",
    "        image = cv2.cvtColor(image, cv2.COLOR_BGR2RGB)\n",
    "        image = self.transforms(image=image)['image']\n",
    "        \n",
    "        if self.labels is not None:\n",
    "            label = self.labels[index]\n",
    "            return image, label\n",
    "        else:\n",
    "            return image\n",
    "    \n",
    "    def __len__(self):\n",
    "        return len(self.img_paths)"
   ],
   "metadata": {
    "collapsed": false,
    "ExecuteTime": {
     "end_time": "2023-12-21T04:11:48.466194800Z",
     "start_time": "2023-12-21T04:11:48.446733700Z"
    }
   },
   "id": "daa8f5c45d3e6316"
  },
  {
   "cell_type": "code",
   "execution_count": 11,
   "outputs": [],
   "source": [
    "train_transform = A.Compose([\n",
    "    A.Resize(CFG['IMG_SIZE']*2,CFG['IMG_SIZE']*2),\n",
    "    A.RandomCrop(CFG['IMG_SIZE'],CFG['IMG_SIZE']),\n",
    "    A.Transpose(p=0.5), # 행렬 스왑\n",
    "    A.HorizontalFlip(p=0.5), # 좌우 반전\n",
    "    A.VerticalFlip(p=0.5), # 상하 반전\n",
    "    A.ShiftScaleRotate(p=0.5), # 랜덤하게 옮기고, scale, 회전\n",
    "    A.HueSaturationValue(hue_shift_limit=20, sat_shift_limit=20, val_shift_limit=20, p=0.5), # 빛깔, 색조, 값 변환\n",
    "    A.RandomBrightnessContrast(brightness_limit=(-0.1,0.1), contrast_limit=(-0.1, 0.1), p=0.5), # 명도 대비\n",
    "    A.ChannelShuffle(), # RGB 채널 간 shuffle\n",
    "    A.Normalize(mean=(0.485, 0.456, 0.406), std=(0.229, 0.224, 0.225), max_pixel_value=255.0, always_apply=False, p=1.0),\n",
    "    ToTensorV2()\n",
    "])\n",
    "\n",
    "validation_transform = A.Compose([\n",
    "    A.Resize(CFG['IMG_SIZE']*2,CFG['IMG_SIZE']*2),\n",
    "    A.RandomCrop(CFG['IMG_SIZE'],CFG['IMG_SIZE']),\n",
    "    A.Normalize(mean=(0.485, 0.456, 0.406), std=(0.229, 0.224, 0.225), max_pixel_value=255.0, always_apply=False, p=1.0),\n",
    "    ToTensorV2()\n",
    "])\n",
    "\n",
    "test_transform = A.Compose([\n",
    "    A.Resize(CFG['IMG_SIZE'],CFG['IMG_SIZE']),\n",
    "    A.Normalize(mean=(0.485, 0.456, 0.406), std=(0.229, 0.224, 0.225), max_pixel_value=255.0, always_apply=False, p=1.0),\n",
    "    ToTensorV2()\n",
    "])"
   ],
   "metadata": {
    "collapsed": false,
    "ExecuteTime": {
     "end_time": "2023-12-21T04:11:48.487706400Z",
     "start_time": "2023-12-21T04:11:48.466194800Z"
    }
   },
   "id": "17b5b770a5fb4839"
  },
  {
   "cell_type": "code",
   "execution_count": 12,
   "outputs": [
    {
     "data": {
      "text/plain": "<torch._C.Generator at 0x124b8154770>"
     },
     "execution_count": 12,
     "metadata": {},
     "output_type": "execute_result"
    }
   ],
   "source": [
    "def seed_worker(worker_id):\n",
    "    worker_seed = torch.initial_seed() % 2 ** 32\n",
    "    np.random.seed(worker_seed)\n",
    "    random.seed(worker_seed)\n",
    "g = torch.Generator()\n",
    "g.manual_seed(0)"
   ],
   "metadata": {
    "collapsed": false,
    "ExecuteTime": {
     "end_time": "2023-12-21T04:11:48.494290300Z",
     "start_time": "2023-12-21T04:11:48.485162200Z"
    }
   },
   "id": "c69fe868589b1093"
  },
  {
   "cell_type": "code",
   "execution_count": 13,
   "outputs": [],
   "source": [
    "class VitModel(nn.Module):\n",
    "    def __init__(self, num_classes=len(le.classes_)):\n",
    "        super(VitModel, self).__init__()\n",
    "        self.backbone = timm.create_model('tiny_vit_21m_384.dist_in22k_ft_in1k', pretrained=True, num_classes=0)\n",
    "        self.classifier = nn.Sequential(\n",
    "            nn.LayerNorm(576),\n",
    "            nn.GELU(),\n",
    "            nn.Dropout(p=0.4),\n",
    "            nn.Linear(576, num_classes)\n",
    "        )\n",
    "            \n",
    "    def forward(self, x):\n",
    "        x = self.backbone(x)\n",
    "        x = self.classifier(x)\n",
    "        return x"
   ],
   "metadata": {
    "collapsed": false,
    "ExecuteTime": {
     "end_time": "2023-12-21T04:11:48.557884400Z",
     "start_time": "2023-12-21T04:11:48.494290300Z"
    }
   },
   "id": "cd5ecc94fada5c8b"
  },
  {
   "cell_type": "code",
   "execution_count": 14,
   "outputs": [],
   "source": [
    "def clear_mem():\n",
    "    gc.collect()\n",
    "    torch.cuda.empty_cache()"
   ],
   "metadata": {
    "collapsed": false,
    "ExecuteTime": {
     "end_time": "2023-12-21T04:11:48.569547300Z",
     "start_time": "2023-12-21T04:11:48.511580900Z"
    }
   },
   "id": "ecce2baec16e71e7"
  },
  {
   "cell_type": "code",
   "execution_count": 15,
   "outputs": [],
   "source": [
    "class EarlyStopping:\n",
    "    def __init__(self, patience=10, verbose=False, delta=0):\n",
    "        self.patience = patience\n",
    "        self.verbose = verbose\n",
    "        self.counter = 0\n",
    "        self.best_score = None\n",
    "        self.early_stop = False\n",
    "        self.val_loss_min = np.Inf\n",
    "        self.delta = delta\n",
    "\n",
    "    def __call__(self, score):\n",
    "        if self.best_score is None:\n",
    "            self.best_score = score\n",
    "        elif score < self.best_score + self.delta:\n",
    "            self.counter += 1\n",
    "            print(f'EarlyStopping counter: {self.counter} out of {self.patience}')\n",
    "            print(f'Best F1 score from now: {self.best_score}')\n",
    "            if self.counter >= self.patience:\n",
    "                self.early_stop = True\n",
    "        else:\n",
    "            self.best_score = score\n",
    "            self.counter = 0\n",
    "        \n",
    "        return self.early_stop"
   ],
   "metadata": {
    "collapsed": false,
    "ExecuteTime": {
     "end_time": "2023-12-21T04:11:48.569547300Z",
     "start_time": "2023-12-21T04:11:48.526528400Z"
    }
   },
   "id": "51d7e36eb5ffba31"
  },
  {
   "cell_type": "code",
   "execution_count": 16,
   "outputs": [],
   "source": [
    "def rand_bbox(size, lam):   # size : [B, C, W, H]\n",
    "    W = size[2] # 이미지의 width\n",
    "    H = size[3] # 이미지의 height\n",
    "    cut_rat = np.sqrt(1. - lam)  # 패치 크기의 비율 정하기\n",
    "    cut_w = np.int32(W * cut_rat)  # 패치의 너비\n",
    "    cut_h = np.int32(H * cut_rat)  # 패치의 높이\n",
    "\n",
    "    # uniform\n",
    "    # 기존 이미지의 크기에서 랜덤하게 값을 가져옵니다.(중간 좌표 추출)\n",
    "    cx = np.random.randint(W)\n",
    "    cy = np.random.randint(H)\n",
    "\n",
    "    # 패치 부분에 대한 좌표값을 추출합니다.\n",
    "    bbx1 = np.clip(cx - cut_w // 2, 0, W)\n",
    "    bby1 = np.clip(cy - cut_h // 2, 0, H)\n",
    "    bbx2 = np.clip(cx + cut_w // 2, 0, W)\n",
    "    bby2 = np.clip(cy + cut_h // 2, 0, H)\n",
    "\n",
    "    return bbx1, bby1, bbx2, bby2"
   ],
   "metadata": {
    "collapsed": false,
    "ExecuteTime": {
     "end_time": "2023-12-21T04:11:48.569547300Z",
     "start_time": "2023-12-21T04:11:48.542232800Z"
    }
   },
   "id": "1d0410246df1866"
  },
  {
   "cell_type": "code",
   "execution_count": 17,
   "outputs": [],
   "source": [
    "import math\n",
    "from torch.optim.lr_scheduler import LRScheduler\n",
    "\n",
    "class CosineAnnealingWarmUpRestarts(LRScheduler):\n",
    "    def __init__(self, optimizer, T_0, T_mult=1, eta_max=0.1, T_up=0, gamma=1., last_epoch=-1):\n",
    "        if T_0 <= 0 or not isinstance(T_0, int):\n",
    "            raise ValueError(\"Expected positive integer T_0, but got {}\".format(T_0))\n",
    "        if T_mult < 1 or not isinstance(T_mult, int):\n",
    "            raise ValueError(\"Expected integer T_mult >= 1, but got {}\".format(T_mult))\n",
    "        if T_up < 0 or not isinstance(T_up, int):\n",
    "            raise ValueError(\"Expected positive integer T_up, but got {}\".format(T_up))\n",
    "        self.T_0 = T_0\n",
    "        self.T_mult = T_mult\n",
    "        self.base_eta_max = eta_max\n",
    "        self.eta_max = eta_max\n",
    "        self.T_up = T_up\n",
    "        self.T_i = T_0\n",
    "        self.gamma = gamma\n",
    "        self.cycle = 0\n",
    "        self.T_cur = last_epoch\n",
    "        super(CosineAnnealingWarmUpRestarts, self).__init__(optimizer, last_epoch)\n",
    "    \n",
    "    def get_lr(self):\n",
    "        if self.T_cur == -1:\n",
    "            return self.base_lrs\n",
    "        elif self.T_cur < self.T_up:\n",
    "            return [(self.eta_max - base_lr)*self.T_cur / self.T_up + base_lr for base_lr in self.base_lrs]\n",
    "        else:\n",
    "            return [base_lr + (self.eta_max - base_lr) * (1 + math.cos(math.pi * (self.T_cur-self.T_up) / (self.T_i - self.T_up))) / 2\n",
    "                    for base_lr in self.base_lrs]\n",
    "\n",
    "    def step(self, epoch=None):\n",
    "        if epoch is None:\n",
    "            epoch = self.last_epoch + 1\n",
    "            self.T_cur = self.T_cur + 1\n",
    "            if self.T_cur >= self.T_i:\n",
    "                self.cycle += 1\n",
    "                self.T_cur = self.T_cur - self.T_i\n",
    "                self.T_i = (self.T_i - self.T_up) * self.T_mult + self.T_up\n",
    "        else:\n",
    "            if epoch >= self.T_0:\n",
    "                if self.T_mult == 1:\n",
    "                    self.T_cur = epoch % self.T_0\n",
    "                    self.cycle = epoch // self.T_0\n",
    "                else:\n",
    "                    n = int(math.log((epoch / self.T_0 * (self.T_mult - 1) + 1), self.T_mult))\n",
    "                    self.cycle = n\n",
    "                    self.T_cur = epoch - self.T_0 * (self.T_mult ** n - 1) / (self.T_mult - 1)\n",
    "                    self.T_i = self.T_0 * self.T_mult ** (n)\n",
    "            else:\n",
    "                self.T_i = self.T_0\n",
    "                self.T_cur = epoch\n",
    "                \n",
    "        self.eta_max = self.base_eta_max * (self.gamma**self.cycle)\n",
    "        self.last_epoch = math.floor(epoch)\n",
    "        for param_group, lr in zip(self.optimizer.param_groups, self.get_lr()):\n",
    "            param_group['lr'] = lr"
   ],
   "metadata": {
    "collapsed": false,
    "ExecuteTime": {
     "end_time": "2023-12-21T04:11:48.569547300Z",
     "start_time": "2023-12-21T04:11:48.557884400Z"
    }
   },
   "id": "66827c3c4d6466cd"
  },
  {
   "cell_type": "code",
   "execution_count": 18,
   "outputs": [],
   "source": [
    "import torch.nn as nn\n",
    "import torch.nn.functional as F\n",
    "\n",
    "class FocalLoss(nn.Module):\n",
    "    def __init__(self, alpha=1, gamma=2, reduction='mean'):\n",
    "        super(FocalLoss, self).__init__()\n",
    "        self.alpha = alpha\n",
    "        self.gamma = gamma\n",
    "        self.reduction = reduction\n",
    "\n",
    "    def forward(self, inputs, targets):\n",
    "        ce_loss = F.cross_entropy(inputs, targets, reduction='none')\n",
    "        pt = torch.exp(-ce_loss)\n",
    "        focal_loss = self.alpha * (1 - pt) ** self.gamma * ce_loss\n",
    "\n",
    "        if self.reduction == 'mean':\n",
    "            return focal_loss.mean()\n",
    "        elif self.reduction == 'sum':\n",
    "            return focal_loss.sum()\n",
    "        else:\n",
    "            return focal_loss"
   ],
   "metadata": {
    "collapsed": false,
    "ExecuteTime": {
     "end_time": "2023-12-21T04:11:48.601961400Z",
     "start_time": "2023-12-21T04:11:48.569547300Z"
    }
   },
   "id": "306c3b04ee1f20f8"
  },
  {
   "cell_type": "code",
   "execution_count": 19,
   "outputs": [
    {
     "name": "stdout",
     "output_type": "stream",
     "text": [
      "run_id=0\n"
     ]
    }
   ],
   "source": [
    "time_now = datetime.now()\n",
    "run_id = 0# time_now.strftime(\"%Y%m%d%H%M%S\")\n",
    "os.makedirs(os.path.join(data_path, f'./runs/{run_id}'), exist_ok=True)\n",
    "print(f'{run_id=}')"
   ],
   "metadata": {
    "collapsed": false,
    "ExecuteTime": {
     "end_time": "2023-12-21T04:11:48.617041800Z",
     "start_time": "2023-12-21T04:11:48.588666500Z"
    }
   },
   "id": "17fc703a3126967"
  },
  {
   "cell_type": "code",
   "execution_count": 20,
   "outputs": [],
   "source": [
    "def train(epoch, model, optimizer, criterion, train_loader, device, lr_scheduler=None):\n",
    "    model.train()\n",
    "    train_loss = []\n",
    "    lr_list = []\n",
    "    cutmix_prob = 0.5\n",
    "    beta = 1\n",
    "    for idx, (img, label) in enumerate(train_loader):\n",
    "        img, label = img.float().to(device), label.long().to(device)\n",
    "        \n",
    "        optimizer.zero_grad()\n",
    "\n",
    "        r = np.random.rand(1)\n",
    "        if r < cutmix_prob:\n",
    "            lam = np.random.beta(beta, beta)\n",
    "            rand_index = torch.randperm(img.size()[0]).cuda()\n",
    "            target_a = label\n",
    "            target_b = label[rand_index]\n",
    "            bbx1, bby1, bbx2, bby2 = rand_bbox(img.size(), lam)\n",
    "            img[:, :, bbx1:bbx2, bby1:bby2] = img[rand_index, :, bbx1:bbx2, bby1:bby2]\n",
    "\n",
    "            lam = 1 - ((bbx2 - bbx1) * (bby2 - bby1) / (img.size()[-1] * img.size()[-2]))\n",
    "\n",
    "            model_pred = model(img)\n",
    "            loss = criterion(model_pred, target_a) * lam + criterion(model_pred, target_b) * (1. - lam)\n",
    "        else:\n",
    "            model_pred = model(img)\n",
    "            loss = criterion(model_pred, label)\n",
    "\n",
    "        loss.backward()\n",
    "        if ((epoch-1)*len(train_loader) + idx)%10 == 0:\n",
    "            lr_list.append(optimizer.param_groups[0]['lr'])\n",
    "        optimizer.step()\n",
    "        train_loss.append(loss.item())\n",
    "\n",
    "        if lr_scheduler:\n",
    "            lr_scheduler.step()\n",
    "    return np.mean(train_loss), lr_list"
   ],
   "metadata": {
    "collapsed": false,
    "ExecuteTime": {
     "end_time": "2023-12-21T04:11:48.617041800Z",
     "start_time": "2023-12-21T04:11:48.601961400Z"
    }
   },
   "id": "8837f76bd55e594f"
  },
  {
   "cell_type": "code",
   "execution_count": 21,
   "outputs": [],
   "source": [
    "def competition_metric(true, pred):\n",
    "    return f1_score(true, pred, average=\"macro\")\n",
    "\n",
    "def validation(model, criterion, test_loader, device):\n",
    "    model.eval()\n",
    "    \n",
    "    model_preds = []\n",
    "    true_labels = []\n",
    "    \n",
    "    val_loss = []\n",
    "    \n",
    "    with torch.no_grad():\n",
    "        for img, label in iter(test_loader):\n",
    "            img, label = img.float().to(device), label.long().to(device)\n",
    "            \n",
    "            model_pred = model(img)\n",
    "            \n",
    "            loss = criterion(model_pred, label)\n",
    "            \n",
    "            val_loss.append(loss.item())\n",
    "            \n",
    "            model_preds += model_pred.argmax(1).detach().cpu().numpy().tolist()\n",
    "            true_labels += label.detach().cpu().numpy().tolist()\n",
    "        \n",
    "    val_f1 = competition_metric(true_labels, model_preds)\n",
    "    return np.mean(val_loss), val_f1"
   ],
   "metadata": {
    "collapsed": false,
    "ExecuteTime": {
     "end_time": "2023-12-21T04:11:48.632830Z",
     "start_time": "2023-12-21T04:11:48.617041800Z"
    }
   },
   "id": "6e0713601b2fa53a"
  },
  {
   "cell_type": "code",
   "execution_count": 22,
   "outputs": [],
   "source": [
    "def train_epoch(k, model, optimizer, train_loader, test_loader, lr_scheduler, device):\n",
    "    model.to(device)\n",
    "\n",
    "    criterion = nn.CrossEntropyLoss().to(device)\n",
    "    early_stopping = EarlyStopping(patience=CFG['PATIENCE'], verbose=True)\n",
    "    \n",
    "    best_score = 0\n",
    "    lr_list = []\n",
    "    train_loss_list, val_loss_list = [], []\n",
    "    \n",
    "    for epoch in range(1,CFG[\"EPOCHS\"]+1):\n",
    "        tr_loss, lr_ = train(epoch, model, optimizer, criterion, train_loader, device, lr_scheduler)\n",
    "        val_loss, val_score = validation(model, criterion, test_loader, device)\n",
    "        train_loss_list.append(tr_loss)\n",
    "        val_loss_list.append(val_loss)\n",
    "        \n",
    "        if lr_scheduler is not None:\n",
    "            lr_list.extend(lr_)\n",
    "            \n",
    "        if best_score < val_score:\n",
    "            print(f'**Epoch [{k}-{epoch}], Train Loss : [{tr_loss:.5f}] Val Loss : [{val_loss:.5f}] Val F1 Score : [{val_score:.5f}]')\n",
    "            best_score = val_score\n",
    "            torch.save(model, os.path.join(data_path, f'runs/{run_id}/best_model_{k}.pt'))\n",
    "        else:\n",
    "            print(f'Epoch [{k}-{epoch}], Train Loss : [{tr_loss:.5f}] Val Loss : [{val_loss:.5f}] Val F1 Score : [{val_score:.5f}]')\n",
    "        clear_mem()\n",
    "        if early_stopping(val_score):\n",
    "            print(f'Epoch [{k}-{epoch}], early stopping')\n",
    "            break\n",
    "    if lr_list:\n",
    "        return (train_loss_list, val_loss_list, best_score, lr_list)\n",
    "    else:\n",
    "        return (train_loss_list, val_loss_list, best_score, None)"
   ],
   "metadata": {
    "collapsed": false,
    "ExecuteTime": {
     "end_time": "2023-12-21T04:11:48.680619500Z",
     "start_time": "2023-12-21T04:11:48.632830Z"
    }
   },
   "id": "533c937dd1370a10"
  },
  {
   "cell_type": "code",
   "execution_count": 23,
   "outputs": [],
   "source": [
    "def k_fold(k): # k-fold\n",
    "    skf = StratifiedKFold(n_splits=k, shuffle=False)\n",
    "    f1_sum = 0\n",
    "    \n",
    "    for k_, (train_index, valid_index) in enumerate(skf.split(df, df['artist'])):\n",
    "        print(f'{k_}-fold start')\n",
    "        \n",
    "        class_counts = df.loc[train_index, 'artist'].value_counts(sort=False).to_dict()\n",
    "        num_samples = sum(class_counts.values())\n",
    "        labels = df.loc[train_index, 'artist'].to_list()\n",
    "        class_weights = {l:round(num_samples/np.log(class_counts[l]), 2) for l in class_counts.keys()}\n",
    "        weights = [class_weights[labels[i]] for i in range(int(num_samples))]\n",
    "        sampler = torch.utils.data.WeightedRandomSampler(torch.DoubleTensor(weights), int(num_samples))\n",
    "        \n",
    "        train_img_paths, train_labels = get_data(df.iloc[train_index])\n",
    "        val_img_paths, val_labels = get_data(df.iloc[valid_index])\n",
    "        train_dataset = CustomDataset(train_img_paths, train_labels, train_transform)\n",
    "        train_loader = DataLoader(\n",
    "            train_dataset, batch_size = CFG['BATCH_SIZE'], shuffle=False,\n",
    "            sampler=sampler, worker_init_fn=seed_worker, generator=g, num_workers=0\n",
    "        )\n",
    "        val_dataset = CustomDataset(val_img_paths, val_labels, validation_transform)\n",
    "        val_loader = DataLoader(val_dataset, batch_size=CFG['BATCH_SIZE'], shuffle=False, worker_init_fn=seed_worker, generator=g, num_workers=0)\n",
    "        \n",
    "        model = VitModel()\n",
    "        model.eval()\n",
    "        optimizer = torch.optim.AdamW(params = model.parameters(), lr = CFG['LEARNING_RATE'])\n",
    "        # lr : 5epochs 동안 0.01->0\n",
    "        lr_scheduler = CosineAnnealingWarmUpRestarts(optimizer, T_0=CFG['WARMUP']*len(train_loader), T_mult=1, eta_max=0.001, T_up=50, gamma=0.8)\n",
    "        _, _, f1_score, _ = train_epoch(k_, model, optimizer, train_loader, val_loader, lr_scheduler, device)\n",
    "        f1_sum += f1_score\n",
    "    return f1_sum/k"
   ],
   "metadata": {
    "collapsed": false,
    "ExecuteTime": {
     "end_time": "2023-12-21T04:11:48.680619500Z",
     "start_time": "2023-12-21T04:11:48.648467200Z"
    }
   },
   "id": "ef23a282d7caf6e6"
  },
  {
   "cell_type": "code",
   "execution_count": 24,
   "outputs": [
    {
     "name": "stdout",
     "output_type": "stream",
     "text": [
      "0-fold start\n",
      "**Epoch [0-1], Train Loss : [3.28671] Val Loss : [2.48123] Val F1 Score : [0.20109]\n",
      "**Epoch [0-2], Train Loss : [2.65624] Val Loss : [1.83625] Val F1 Score : [0.40101]\n",
      "**Epoch [0-3], Train Loss : [2.23771] Val Loss : [1.48675] Val F1 Score : [0.47183]\n",
      "**Epoch [0-4], Train Loss : [1.94627] Val Loss : [1.13654] Val F1 Score : [0.59950]\n",
      "**Epoch [0-5], Train Loss : [1.79144] Val Loss : [1.08396] Val F1 Score : [0.63148]\n",
      "Epoch [0-6], Train Loss : [2.16897] Val Loss : [1.50838] Val F1 Score : [0.48367]\n",
      "EarlyStopping counter: 1 out of 10\n",
      "Best F1 score from now: 0.6314790122436917\n",
      "Epoch [0-7], Train Loss : [2.03625] Val Loss : [1.26281] Val F1 Score : [0.56311]\n",
      "EarlyStopping counter: 2 out of 10\n",
      "Best F1 score from now: 0.6314790122436917\n",
      "**Epoch [0-8], Train Loss : [1.74990] Val Loss : [1.00052] Val F1 Score : [0.64949]\n",
      "**Epoch [0-9], Train Loss : [1.53388] Val Loss : [0.88796] Val F1 Score : [0.68954]\n",
      "**Epoch [0-10], Train Loss : [1.40995] Val Loss : [0.83565] Val F1 Score : [0.70999]\n",
      "Epoch [0-11], Train Loss : [1.68125] Val Loss : [1.18470] Val F1 Score : [0.61952]\n",
      "EarlyStopping counter: 1 out of 10\n",
      "Best F1 score from now: 0.70998943428482\n",
      "Epoch [0-12], Train Loss : [1.63347] Val Loss : [0.98632] Val F1 Score : [0.66539]\n",
      "EarlyStopping counter: 2 out of 10\n",
      "Best F1 score from now: 0.70998943428482\n",
      "Epoch [0-13], Train Loss : [1.40554] Val Loss : [0.81629] Val F1 Score : [0.70513]\n",
      "EarlyStopping counter: 3 out of 10\n",
      "Best F1 score from now: 0.70998943428482\n",
      "**Epoch [0-14], Train Loss : [1.27264] Val Loss : [0.70731] Val F1 Score : [0.73541]\n",
      "**Epoch [0-15], Train Loss : [1.24043] Val Loss : [0.69196] Val F1 Score : [0.77150]\n",
      "Epoch [0-16], Train Loss : [1.45126] Val Loss : [0.92562] Val F1 Score : [0.67749]\n",
      "EarlyStopping counter: 1 out of 10\n",
      "Best F1 score from now: 0.7714994263200309\n",
      "Epoch [0-17], Train Loss : [1.41542] Val Loss : [0.78745] Val F1 Score : [0.72870]\n",
      "EarlyStopping counter: 2 out of 10\n",
      "Best F1 score from now: 0.7714994263200309\n",
      "Epoch [0-18], Train Loss : [1.27381] Val Loss : [0.74937] Val F1 Score : [0.74955]\n",
      "EarlyStopping counter: 3 out of 10\n",
      "Best F1 score from now: 0.7714994263200309\n",
      "Epoch [0-19], Train Loss : [1.07663] Val Loss : [0.65499] Val F1 Score : [0.76654]\n",
      "EarlyStopping counter: 4 out of 10\n",
      "Best F1 score from now: 0.7714994263200309\n",
      "**Epoch [0-20], Train Loss : [1.16320] Val Loss : [0.64554] Val F1 Score : [0.77271]\n",
      "Epoch [0-21], Train Loss : [1.27393] Val Loss : [0.89263] Val F1 Score : [0.67070]\n",
      "EarlyStopping counter: 1 out of 10\n",
      "Best F1 score from now: 0.7727051813529051\n",
      "Epoch [0-22], Train Loss : [1.22423] Val Loss : [0.73893] Val F1 Score : [0.73601]\n",
      "EarlyStopping counter: 2 out of 10\n",
      "Best F1 score from now: 0.7727051813529051\n",
      "Epoch [0-23], Train Loss : [1.13118] Val Loss : [0.66388] Val F1 Score : [0.77123]\n",
      "EarlyStopping counter: 3 out of 10\n",
      "Best F1 score from now: 0.7727051813529051\n",
      "**Epoch [0-24], Train Loss : [1.11882] Val Loss : [0.60543] Val F1 Score : [0.77347]\n",
      "**Epoch [0-25], Train Loss : [1.03036] Val Loss : [0.59096] Val F1 Score : [0.79093]\n",
      "Epoch [0-26], Train Loss : [1.06424] Val Loss : [0.72702] Val F1 Score : [0.73829]\n",
      "EarlyStopping counter: 1 out of 10\n",
      "Best F1 score from now: 0.7909288703006956\n",
      "Epoch [0-27], Train Loss : [1.07859] Val Loss : [0.66635] Val F1 Score : [0.76108]\n",
      "EarlyStopping counter: 2 out of 10\n",
      "Best F1 score from now: 0.7909288703006956\n",
      "**Epoch [0-28], Train Loss : [1.00387] Val Loss : [0.59169] Val F1 Score : [0.79141]\n",
      "**Epoch [0-29], Train Loss : [0.95578] Val Loss : [0.59025] Val F1 Score : [0.80596]\n",
      "**Epoch [0-30], Train Loss : [0.92297] Val Loss : [0.57623] Val F1 Score : [0.80889]\n",
      "Epoch [0-31], Train Loss : [0.99400] Val Loss : [0.67653] Val F1 Score : [0.78227]\n",
      "EarlyStopping counter: 1 out of 10\n",
      "Best F1 score from now: 0.8088860534253047\n",
      "Epoch [0-32], Train Loss : [1.04963] Val Loss : [0.61009] Val F1 Score : [0.79412]\n",
      "EarlyStopping counter: 2 out of 10\n",
      "Best F1 score from now: 0.8088860534253047\n",
      "Epoch [0-33], Train Loss : [0.92527] Val Loss : [0.57335] Val F1 Score : [0.79108]\n",
      "EarlyStopping counter: 3 out of 10\n",
      "Best F1 score from now: 0.8088860534253047\n",
      "Epoch [0-34], Train Loss : [0.86425] Val Loss : [0.57166] Val F1 Score : [0.79800]\n",
      "EarlyStopping counter: 4 out of 10\n",
      "Best F1 score from now: 0.8088860534253047\n",
      "Epoch [0-35], Train Loss : [0.84835] Val Loss : [0.55504] Val F1 Score : [0.80246]\n",
      "EarlyStopping counter: 5 out of 10\n",
      "Best F1 score from now: 0.8088860534253047\n",
      "Epoch [0-36], Train Loss : [0.87827] Val Loss : [0.58083] Val F1 Score : [0.80235]\n",
      "EarlyStopping counter: 6 out of 10\n",
      "Best F1 score from now: 0.8088860534253047\n",
      "**Epoch [0-37], Train Loss : [0.90949] Val Loss : [0.60013] Val F1 Score : [0.80899]\n",
      "**Epoch [0-38], Train Loss : [0.94355] Val Loss : [0.55214] Val F1 Score : [0.81987]\n",
      "**Epoch [0-39], Train Loss : [0.85015] Val Loss : [0.51207] Val F1 Score : [0.82107]\n",
      "**Epoch [0-40], Train Loss : [0.87154] Val Loss : [0.48591] Val F1 Score : [0.82287]\n",
      "Epoch [0-41], Train Loss : [0.81605] Val Loss : [0.51547] Val F1 Score : [0.81800]\n",
      "EarlyStopping counter: 1 out of 10\n",
      "Best F1 score from now: 0.8228719289243087\n",
      "Epoch [0-42], Train Loss : [0.86835] Val Loss : [0.52349] Val F1 Score : [0.80918]\n",
      "EarlyStopping counter: 2 out of 10\n",
      "Best F1 score from now: 0.8228719289243087\n",
      "**Epoch [0-43], Train Loss : [0.82226] Val Loss : [0.48225] Val F1 Score : [0.82449]\n",
      "**Epoch [0-44], Train Loss : [0.75912] Val Loss : [0.48666] Val F1 Score : [0.83933]\n",
      "Epoch [0-45], Train Loss : [0.81554] Val Loss : [0.47997] Val F1 Score : [0.83478]\n",
      "EarlyStopping counter: 1 out of 10\n",
      "Best F1 score from now: 0.8393347368281558\n",
      "Epoch [0-46], Train Loss : [0.80808] Val Loss : [0.51955] Val F1 Score : [0.80925]\n",
      "EarlyStopping counter: 2 out of 10\n",
      "Best F1 score from now: 0.8393347368281558\n",
      "Epoch [0-47], Train Loss : [0.78389] Val Loss : [0.58445] Val F1 Score : [0.79965]\n",
      "EarlyStopping counter: 3 out of 10\n",
      "Best F1 score from now: 0.8393347368281558\n",
      "Epoch [0-48], Train Loss : [0.80060] Val Loss : [0.53941] Val F1 Score : [0.81545]\n",
      "EarlyStopping counter: 4 out of 10\n",
      "Best F1 score from now: 0.8393347368281558\n",
      "Epoch [0-49], Train Loss : [0.71601] Val Loss : [0.51727] Val F1 Score : [0.82552]\n",
      "EarlyStopping counter: 5 out of 10\n",
      "Best F1 score from now: 0.8393347368281558\n",
      "Epoch [0-50], Train Loss : [0.69857] Val Loss : [0.50681] Val F1 Score : [0.82279]\n",
      "EarlyStopping counter: 6 out of 10\n",
      "Best F1 score from now: 0.8393347368281558\n",
      "Epoch [0-51], Train Loss : [0.71292] Val Loss : [0.53558] Val F1 Score : [0.81587]\n",
      "EarlyStopping counter: 7 out of 10\n",
      "Best F1 score from now: 0.8393347368281558\n",
      "Epoch [0-52], Train Loss : [0.73727] Val Loss : [0.52185] Val F1 Score : [0.81565]\n",
      "EarlyStopping counter: 8 out of 10\n",
      "Best F1 score from now: 0.8393347368281558\n",
      "Epoch [0-53], Train Loss : [0.80399] Val Loss : [0.48551] Val F1 Score : [0.82407]\n",
      "EarlyStopping counter: 9 out of 10\n",
      "Best F1 score from now: 0.8393347368281558\n",
      "Epoch [0-54], Train Loss : [0.70580] Val Loss : [0.51625] Val F1 Score : [0.81595]\n",
      "EarlyStopping counter: 10 out of 10\n",
      "Best F1 score from now: 0.8393347368281558\n",
      "Epoch [0-54], early stopping\n",
      "1-fold start\n",
      "**Epoch [1-1], Train Loss : [3.28244] Val Loss : [2.48143] Val F1 Score : [0.19358]\n",
      "**Epoch [1-2], Train Loss : [2.68392] Val Loss : [1.87926] Val F1 Score : [0.34072]\n",
      "**Epoch [1-3], Train Loss : [2.33222] Val Loss : [1.52115] Val F1 Score : [0.48443]\n",
      "**Epoch [1-4], Train Loss : [1.90283] Val Loss : [1.11675] Val F1 Score : [0.61884]\n",
      "**Epoch [1-5], Train Loss : [1.83225] Val Loss : [1.09486] Val F1 Score : [0.63057]\n",
      "Epoch [1-6], Train Loss : [2.09713] Val Loss : [1.50200] Val F1 Score : [0.50583]\n",
      "EarlyStopping counter: 1 out of 10\n",
      "Best F1 score from now: 0.6305679777407284\n",
      "Epoch [1-7], Train Loss : [1.99174] Val Loss : [1.23781] Val F1 Score : [0.56420]\n",
      "EarlyStopping counter: 2 out of 10\n",
      "Best F1 score from now: 0.6305679777407284\n",
      "**Epoch [1-8], Train Loss : [1.75398] Val Loss : [0.95936] Val F1 Score : [0.65982]\n",
      "**Epoch [1-9], Train Loss : [1.53864] Val Loss : [0.82449] Val F1 Score : [0.69783]\n",
      "Epoch [1-10], Train Loss : [1.49375] Val Loss : [0.81544] Val F1 Score : [0.68884]\n",
      "EarlyStopping counter: 1 out of 10\n",
      "Best F1 score from now: 0.6978284437567221\n",
      "Epoch [1-11], Train Loss : [1.70892] Val Loss : [1.09659] Val F1 Score : [0.58902]\n",
      "EarlyStopping counter: 2 out of 10\n",
      "Best F1 score from now: 0.6978284437567221\n",
      "Epoch [1-12], Train Loss : [1.64888] Val Loss : [0.99495] Val F1 Score : [0.65956]\n",
      "EarlyStopping counter: 3 out of 10\n",
      "Best F1 score from now: 0.6978284437567221\n",
      "**Epoch [1-13], Train Loss : [1.53139] Val Loss : [0.78652] Val F1 Score : [0.70812]\n",
      "**Epoch [1-14], Train Loss : [1.30726] Val Loss : [0.70549] Val F1 Score : [0.74080]\n",
      "**Epoch [1-15], Train Loss : [1.23877] Val Loss : [0.68109] Val F1 Score : [0.74657]\n",
      "Epoch [1-16], Train Loss : [1.43153] Val Loss : [0.85396] Val F1 Score : [0.68409]\n",
      "EarlyStopping counter: 1 out of 10\n",
      "Best F1 score from now: 0.7465658268316048\n",
      "Epoch [1-17], Train Loss : [1.41616] Val Loss : [0.79596] Val F1 Score : [0.70484]\n",
      "EarlyStopping counter: 2 out of 10\n",
      "Best F1 score from now: 0.7465658268316048\n",
      "Epoch [1-18], Train Loss : [1.35025] Val Loss : [0.70307] Val F1 Score : [0.74260]\n",
      "EarlyStopping counter: 3 out of 10\n",
      "Best F1 score from now: 0.7465658268316048\n",
      "**Epoch [1-19], Train Loss : [1.13401] Val Loss : [0.60226] Val F1 Score : [0.77806]\n",
      "**Epoch [1-20], Train Loss : [1.07344] Val Loss : [0.56479] Val F1 Score : [0.79188]\n",
      "Epoch [1-21], Train Loss : [1.21302] Val Loss : [0.72914] Val F1 Score : [0.73842]\n",
      "EarlyStopping counter: 1 out of 10\n",
      "Best F1 score from now: 0.7918797187037936\n",
      "Epoch [1-22], Train Loss : [1.16915] Val Loss : [0.69334] Val F1 Score : [0.74144]\n",
      "EarlyStopping counter: 2 out of 10\n",
      "Best F1 score from now: 0.7918797187037936\n",
      "Epoch [1-23], Train Loss : [1.16000] Val Loss : [0.62611] Val F1 Score : [0.77800]\n",
      "EarlyStopping counter: 3 out of 10\n",
      "Best F1 score from now: 0.7918797187037936\n",
      "**Epoch [1-24], Train Loss : [1.05890] Val Loss : [0.55780] Val F1 Score : [0.80091]\n",
      "Epoch [1-25], Train Loss : [0.96413] Val Loss : [0.54926] Val F1 Score : [0.79235]\n",
      "EarlyStopping counter: 1 out of 10\n",
      "Best F1 score from now: 0.8009108094538446\n",
      "Epoch [1-26], Train Loss : [1.08085] Val Loss : [0.65155] Val F1 Score : [0.77110]\n",
      "EarlyStopping counter: 2 out of 10\n",
      "Best F1 score from now: 0.8009108094538446\n",
      "Epoch [1-27], Train Loss : [1.08251] Val Loss : [0.55205] Val F1 Score : [0.78487]\n",
      "EarlyStopping counter: 3 out of 10\n",
      "Best F1 score from now: 0.8009108094538446\n",
      "Epoch [1-28], Train Loss : [1.01260] Val Loss : [0.55969] Val F1 Score : [0.79621]\n",
      "EarlyStopping counter: 4 out of 10\n",
      "Best F1 score from now: 0.8009108094538446\n",
      "Epoch [1-29], Train Loss : [0.93449] Val Loss : [0.52882] Val F1 Score : [0.79857]\n",
      "EarlyStopping counter: 5 out of 10\n",
      "Best F1 score from now: 0.8009108094538446\n",
      "**Epoch [1-30], Train Loss : [0.90292] Val Loss : [0.51453] Val F1 Score : [0.81764]\n",
      "Epoch [1-31], Train Loss : [1.03188] Val Loss : [0.56281] Val F1 Score : [0.79997]\n",
      "EarlyStopping counter: 1 out of 10\n",
      "Best F1 score from now: 0.8176374922565259\n",
      "Epoch [1-32], Train Loss : [0.94005] Val Loss : [0.56460] Val F1 Score : [0.79056]\n",
      "EarlyStopping counter: 2 out of 10\n",
      "Best F1 score from now: 0.8176374922565259\n",
      "Epoch [1-33], Train Loss : [0.96201] Val Loss : [0.53397] Val F1 Score : [0.79762]\n",
      "EarlyStopping counter: 3 out of 10\n",
      "Best F1 score from now: 0.8176374922565259\n",
      "Epoch [1-34], Train Loss : [0.83875] Val Loss : [0.49556] Val F1 Score : [0.80999]\n",
      "EarlyStopping counter: 4 out of 10\n",
      "Best F1 score from now: 0.8176374922565259\n",
      "**Epoch [1-35], Train Loss : [0.86188] Val Loss : [0.47224] Val F1 Score : [0.83690]\n",
      "Epoch [1-36], Train Loss : [0.88632] Val Loss : [0.52678] Val F1 Score : [0.80429]\n",
      "EarlyStopping counter: 1 out of 10\n",
      "Best F1 score from now: 0.8368979115848956\n",
      "Epoch [1-37], Train Loss : [0.80585] Val Loss : [0.54554] Val F1 Score : [0.80198]\n",
      "EarlyStopping counter: 2 out of 10\n",
      "Best F1 score from now: 0.8368979115848956\n",
      "Epoch [1-38], Train Loss : [0.81957] Val Loss : [0.52731] Val F1 Score : [0.80306]\n",
      "EarlyStopping counter: 3 out of 10\n",
      "Best F1 score from now: 0.8368979115848956\n",
      "Epoch [1-39], Train Loss : [0.81462] Val Loss : [0.47509] Val F1 Score : [0.83606]\n",
      "EarlyStopping counter: 4 out of 10\n",
      "Best F1 score from now: 0.8368979115848956\n",
      "Epoch [1-40], Train Loss : [0.80027] Val Loss : [0.47523] Val F1 Score : [0.83661]\n",
      "EarlyStopping counter: 5 out of 10\n",
      "Best F1 score from now: 0.8368979115848956\n",
      "Epoch [1-41], Train Loss : [0.85041] Val Loss : [0.49566] Val F1 Score : [0.81426]\n",
      "EarlyStopping counter: 6 out of 10\n",
      "Best F1 score from now: 0.8368979115848956\n",
      "Epoch [1-42], Train Loss : [0.75511] Val Loss : [0.47488] Val F1 Score : [0.82967]\n",
      "EarlyStopping counter: 7 out of 10\n",
      "Best F1 score from now: 0.8368979115848956\n",
      "Epoch [1-43], Train Loss : [0.72416] Val Loss : [0.50365] Val F1 Score : [0.81343]\n",
      "EarlyStopping counter: 8 out of 10\n",
      "Best F1 score from now: 0.8368979115848956\n",
      "Epoch [1-44], Train Loss : [0.74558] Val Loss : [0.47488] Val F1 Score : [0.81723]\n",
      "EarlyStopping counter: 9 out of 10\n",
      "Best F1 score from now: 0.8368979115848956\n",
      "**Epoch [1-45], Train Loss : [0.74746] Val Loss : [0.44277] Val F1 Score : [0.84123]\n",
      "Epoch [1-46], Train Loss : [0.80602] Val Loss : [0.49537] Val F1 Score : [0.83144]\n",
      "EarlyStopping counter: 1 out of 10\n",
      "Best F1 score from now: 0.8412325326047027\n",
      "Epoch [1-47], Train Loss : [0.80806] Val Loss : [0.50443] Val F1 Score : [0.81575]\n",
      "EarlyStopping counter: 2 out of 10\n",
      "Best F1 score from now: 0.8412325326047027\n",
      "Epoch [1-48], Train Loss : [0.74564] Val Loss : [0.47271] Val F1 Score : [0.82400]\n",
      "EarlyStopping counter: 3 out of 10\n",
      "Best F1 score from now: 0.8412325326047027\n",
      "Epoch [1-49], Train Loss : [0.80311] Val Loss : [0.46599] Val F1 Score : [0.82922]\n",
      "EarlyStopping counter: 4 out of 10\n",
      "Best F1 score from now: 0.8412325326047027\n",
      "**Epoch [1-50], Train Loss : [0.75849] Val Loss : [0.43823] Val F1 Score : [0.84146]\n",
      "Epoch [1-51], Train Loss : [0.75208] Val Loss : [0.48795] Val F1 Score : [0.83362]\n",
      "EarlyStopping counter: 1 out of 10\n",
      "Best F1 score from now: 0.8414573642511456\n",
      "Epoch [1-52], Train Loss : [0.71086] Val Loss : [0.50007] Val F1 Score : [0.82583]\n",
      "EarlyStopping counter: 2 out of 10\n",
      "Best F1 score from now: 0.8414573642511456\n",
      "Epoch [1-53], Train Loss : [0.73550] Val Loss : [0.44137] Val F1 Score : [0.82949]\n",
      "EarlyStopping counter: 3 out of 10\n",
      "Best F1 score from now: 0.8414573642511456\n",
      "Epoch [1-54], Train Loss : [0.70888] Val Loss : [0.46737] Val F1 Score : [0.83003]\n",
      "EarlyStopping counter: 4 out of 10\n",
      "Best F1 score from now: 0.8414573642511456\n",
      "Epoch [1-55], Train Loss : [0.71639] Val Loss : [0.46693] Val F1 Score : [0.82798]\n",
      "EarlyStopping counter: 5 out of 10\n",
      "Best F1 score from now: 0.8414573642511456\n",
      "Epoch [1-56], Train Loss : [0.68249] Val Loss : [0.45720] Val F1 Score : [0.83891]\n",
      "EarlyStopping counter: 6 out of 10\n",
      "Best F1 score from now: 0.8414573642511456\n",
      "Epoch [1-57], Train Loss : [0.64349] Val Loss : [0.46890] Val F1 Score : [0.83905]\n",
      "EarlyStopping counter: 7 out of 10\n",
      "Best F1 score from now: 0.8414573642511456\n",
      "Epoch [1-58], Train Loss : [0.70019] Val Loss : [0.47020] Val F1 Score : [0.82577]\n",
      "EarlyStopping counter: 8 out of 10\n",
      "Best F1 score from now: 0.8414573642511456\n",
      "Epoch [1-59], Train Loss : [0.74679] Val Loss : [0.44573] Val F1 Score : [0.84025]\n",
      "EarlyStopping counter: 9 out of 10\n",
      "Best F1 score from now: 0.8414573642511456\n",
      "Epoch [1-60], Train Loss : [0.65112] Val Loss : [0.45933] Val F1 Score : [0.83945]\n",
      "EarlyStopping counter: 10 out of 10\n",
      "Best F1 score from now: 0.8414573642511456\n",
      "Epoch [1-60], early stopping\n",
      "2-fold start\n",
      "**Epoch [2-1], Train Loss : [3.24931] Val Loss : [2.27943] Val F1 Score : [0.25102]\n",
      "**Epoch [2-2], Train Loss : [2.64205] Val Loss : [1.88508] Val F1 Score : [0.38252]\n",
      "**Epoch [2-3], Train Loss : [2.29961] Val Loss : [1.53094] Val F1 Score : [0.48499]\n",
      "**Epoch [2-4], Train Loss : [2.03818] Val Loss : [1.18999] Val F1 Score : [0.57579]\n",
      "**Epoch [2-5], Train Loss : [1.73673] Val Loss : [1.09420] Val F1 Score : [0.61342]\n",
      "Epoch [2-6], Train Loss : [2.14052] Val Loss : [1.47388] Val F1 Score : [0.50511]\n",
      "EarlyStopping counter: 1 out of 10\n",
      "Best F1 score from now: 0.6134188132767818\n",
      "Epoch [2-7], Train Loss : [2.10477] Val Loss : [1.30524] Val F1 Score : [0.55040]\n",
      "EarlyStopping counter: 2 out of 10\n",
      "Best F1 score from now: 0.6134188132767818\n",
      "**Epoch [2-8], Train Loss : [1.79014] Val Loss : [1.06994] Val F1 Score : [0.62917]\n",
      "**Epoch [2-9], Train Loss : [1.59409] Val Loss : [0.92240] Val F1 Score : [0.68102]\n",
      "**Epoch [2-10], Train Loss : [1.56458] Val Loss : [0.88179] Val F1 Score : [0.69787]\n",
      "Epoch [2-11], Train Loss : [1.69900] Val Loss : [1.12643] Val F1 Score : [0.63873]\n",
      "EarlyStopping counter: 1 out of 10\n",
      "Best F1 score from now: 0.6978720655996095\n",
      "Epoch [2-12], Train Loss : [1.76079] Val Loss : [1.06628] Val F1 Score : [0.64298]\n",
      "EarlyStopping counter: 2 out of 10\n",
      "Best F1 score from now: 0.6978720655996095\n",
      "Epoch [2-13], Train Loss : [1.45325] Val Loss : [0.87421] Val F1 Score : [0.69714]\n",
      "EarlyStopping counter: 3 out of 10\n",
      "Best F1 score from now: 0.6978720655996095\n",
      "**Epoch [2-14], Train Loss : [1.40038] Val Loss : [0.75645] Val F1 Score : [0.72512]\n",
      "Epoch [2-15], Train Loss : [1.26404] Val Loss : [0.72926] Val F1 Score : [0.71532]\n",
      "EarlyStopping counter: 1 out of 10\n",
      "Best F1 score from now: 0.7251191054297829\n",
      "Epoch [2-16], Train Loss : [1.51794] Val Loss : [0.98768] Val F1 Score : [0.64690]\n",
      "EarlyStopping counter: 2 out of 10\n",
      "Best F1 score from now: 0.7251191054297829\n",
      "Epoch [2-17], Train Loss : [1.39619] Val Loss : [0.84950] Val F1 Score : [0.70644]\n",
      "EarlyStopping counter: 3 out of 10\n",
      "Best F1 score from now: 0.7251191054297829\n",
      "**Epoch [2-18], Train Loss : [1.28349] Val Loss : [0.77172] Val F1 Score : [0.72688]\n",
      "**Epoch [2-19], Train Loss : [1.17727] Val Loss : [0.70321] Val F1 Score : [0.75808]\n",
      "**Epoch [2-20], Train Loss : [1.17472] Val Loss : [0.68924] Val F1 Score : [0.76126]\n",
      "Epoch [2-21], Train Loss : [1.27399] Val Loss : [0.78287] Val F1 Score : [0.72682]\n",
      "EarlyStopping counter: 1 out of 10\n",
      "Best F1 score from now: 0.7612614147651509\n",
      "Epoch [2-22], Train Loss : [1.21960] Val Loss : [0.73492] Val F1 Score : [0.73660]\n",
      "EarlyStopping counter: 2 out of 10\n",
      "Best F1 score from now: 0.7612614147651509\n",
      "Epoch [2-23], Train Loss : [1.18774] Val Loss : [0.68974] Val F1 Score : [0.75421]\n",
      "EarlyStopping counter: 3 out of 10\n",
      "Best F1 score from now: 0.7612614147651509\n",
      "**Epoch [2-24], Train Loss : [1.05482] Val Loss : [0.65754] Val F1 Score : [0.76287]\n",
      "**Epoch [2-25], Train Loss : [0.99874] Val Loss : [0.62742] Val F1 Score : [0.76551]\n",
      "Epoch [2-26], Train Loss : [1.13158] Val Loss : [0.75237] Val F1 Score : [0.74961]\n",
      "EarlyStopping counter: 1 out of 10\n",
      "Best F1 score from now: 0.7655132872595661\n",
      "**Epoch [2-27], Train Loss : [1.09964] Val Loss : [0.68580] Val F1 Score : [0.77250]\n",
      "**Epoch [2-28], Train Loss : [1.05409] Val Loss : [0.62407] Val F1 Score : [0.78074]\n",
      "**Epoch [2-29], Train Loss : [0.92177] Val Loss : [0.60975] Val F1 Score : [0.78897]\n",
      "**Epoch [2-30], Train Loss : [0.91718] Val Loss : [0.60007] Val F1 Score : [0.81194]\n",
      "Epoch [2-31], Train Loss : [0.96620] Val Loss : [0.67246] Val F1 Score : [0.74831]\n",
      "EarlyStopping counter: 1 out of 10\n",
      "Best F1 score from now: 0.8119430812645738\n",
      "Epoch [2-32], Train Loss : [0.95108] Val Loss : [0.68128] Val F1 Score : [0.75927]\n",
      "EarlyStopping counter: 2 out of 10\n",
      "Best F1 score from now: 0.8119430812645738\n",
      "Epoch [2-33], Train Loss : [0.92277] Val Loss : [0.60877] Val F1 Score : [0.78215]\n",
      "EarlyStopping counter: 3 out of 10\n",
      "Best F1 score from now: 0.8119430812645738\n",
      "Epoch [2-34], Train Loss : [0.92830] Val Loss : [0.58572] Val F1 Score : [0.80624]\n",
      "EarlyStopping counter: 4 out of 10\n",
      "Best F1 score from now: 0.8119430812645738\n",
      "Epoch [2-35], Train Loss : [0.92677] Val Loss : [0.58377] Val F1 Score : [0.78850]\n",
      "EarlyStopping counter: 5 out of 10\n",
      "Best F1 score from now: 0.8119430812645738\n",
      "Epoch [2-36], Train Loss : [0.88599] Val Loss : [0.64882] Val F1 Score : [0.77590]\n",
      "EarlyStopping counter: 6 out of 10\n",
      "Best F1 score from now: 0.8119430812645738\n",
      "Epoch [2-37], Train Loss : [0.91669] Val Loss : [0.61723] Val F1 Score : [0.77699]\n",
      "EarlyStopping counter: 7 out of 10\n",
      "Best F1 score from now: 0.8119430812645738\n",
      "Epoch [2-38], Train Loss : [0.86233] Val Loss : [0.57226] Val F1 Score : [0.79594]\n",
      "EarlyStopping counter: 8 out of 10\n",
      "Best F1 score from now: 0.8119430812645738\n",
      "Epoch [2-39], Train Loss : [0.77156] Val Loss : [0.57315] Val F1 Score : [0.80704]\n",
      "EarlyStopping counter: 9 out of 10\n",
      "Best F1 score from now: 0.8119430812645738\n",
      "Epoch [2-40], Train Loss : [0.82847] Val Loss : [0.54215] Val F1 Score : [0.79894]\n",
      "EarlyStopping counter: 10 out of 10\n",
      "Best F1 score from now: 0.8119430812645738\n",
      "Epoch [2-40], early stopping\n",
      "3-fold start\n",
      "**Epoch [3-1], Train Loss : [3.38101] Val Loss : [2.60410] Val F1 Score : [0.14459]\n",
      "**Epoch [3-2], Train Loss : [2.80540] Val Loss : [1.93577] Val F1 Score : [0.31921]\n",
      "**Epoch [3-3], Train Loss : [2.38677] Val Loss : [1.48900] Val F1 Score : [0.48324]\n",
      "**Epoch [3-4], Train Loss : [2.04087] Val Loss : [1.23940] Val F1 Score : [0.57787]\n",
      "**Epoch [3-5], Train Loss : [1.86859] Val Loss : [1.14355] Val F1 Score : [0.61558]\n",
      "Epoch [3-6], Train Loss : [2.24295] Val Loss : [1.55110] Val F1 Score : [0.44732]\n",
      "EarlyStopping counter: 1 out of 10\n",
      "Best F1 score from now: 0.6155793277563193\n",
      "Epoch [3-7], Train Loss : [2.08046] Val Loss : [1.26892] Val F1 Score : [0.57975]\n",
      "EarlyStopping counter: 2 out of 10\n",
      "Best F1 score from now: 0.6155793277563193\n",
      "**Epoch [3-8], Train Loss : [1.77516] Val Loss : [1.04930] Val F1 Score : [0.61968]\n",
      "**Epoch [3-9], Train Loss : [1.58730] Val Loss : [0.91482] Val F1 Score : [0.67750]\n",
      "**Epoch [3-10], Train Loss : [1.50401] Val Loss : [0.88647] Val F1 Score : [0.69016]\n",
      "Epoch [3-11], Train Loss : [1.76737] Val Loss : [1.20307] Val F1 Score : [0.57524]\n",
      "EarlyStopping counter: 1 out of 10\n",
      "Best F1 score from now: 0.6901617071107757\n",
      "Epoch [3-12], Train Loss : [1.81587] Val Loss : [1.03932] Val F1 Score : [0.63199]\n",
      "EarlyStopping counter: 2 out of 10\n",
      "Best F1 score from now: 0.6901617071107757\n",
      "**Epoch [3-13], Train Loss : [1.47177] Val Loss : [0.83980] Val F1 Score : [0.71830]\n",
      "**Epoch [3-14], Train Loss : [1.41353] Val Loss : [0.76482] Val F1 Score : [0.74345]\n",
      "**Epoch [3-15], Train Loss : [1.26771] Val Loss : [0.75677] Val F1 Score : [0.74487]\n",
      "Epoch [3-16], Train Loss : [1.43991] Val Loss : [0.96843] Val F1 Score : [0.67979]\n",
      "EarlyStopping counter: 1 out of 10\n",
      "Best F1 score from now: 0.7448699763544387\n",
      "Epoch [3-17], Train Loss : [1.45564] Val Loss : [0.83643] Val F1 Score : [0.72744]\n",
      "EarlyStopping counter: 2 out of 10\n",
      "Best F1 score from now: 0.7448699763544387\n",
      "**Epoch [3-18], Train Loss : [1.29556] Val Loss : [0.70717] Val F1 Score : [0.76093]\n",
      "**Epoch [3-19], Train Loss : [1.25634] Val Loss : [0.69860] Val F1 Score : [0.77747]\n",
      "Epoch [3-20], Train Loss : [1.10213] Val Loss : [0.67894] Val F1 Score : [0.76652]\n",
      "EarlyStopping counter: 1 out of 10\n",
      "Best F1 score from now: 0.7774672424529819\n",
      "Epoch [3-21], Train Loss : [1.30982] Val Loss : [0.79597] Val F1 Score : [0.72002]\n",
      "EarlyStopping counter: 2 out of 10\n",
      "Best F1 score from now: 0.7774672424529819\n",
      "Epoch [3-22], Train Loss : [1.20290] Val Loss : [0.73062] Val F1 Score : [0.74127]\n",
      "EarlyStopping counter: 3 out of 10\n",
      "Best F1 score from now: 0.7774672424529819\n",
      "Epoch [3-23], Train Loss : [1.11102] Val Loss : [0.68547] Val F1 Score : [0.76965]\n",
      "EarlyStopping counter: 4 out of 10\n",
      "Best F1 score from now: 0.7774672424529819\n",
      "**Epoch [3-24], Train Loss : [1.04630] Val Loss : [0.63385] Val F1 Score : [0.78817]\n",
      "**Epoch [3-25], Train Loss : [1.00389] Val Loss : [0.61123] Val F1 Score : [0.79820]\n",
      "Epoch [3-26], Train Loss : [1.10723] Val Loss : [0.71942] Val F1 Score : [0.75230]\n",
      "EarlyStopping counter: 1 out of 10\n",
      "Best F1 score from now: 0.798203855706776\n",
      "Epoch [3-27], Train Loss : [1.17583] Val Loss : [0.72101] Val F1 Score : [0.73909]\n",
      "EarlyStopping counter: 2 out of 10\n",
      "Best F1 score from now: 0.798203855706776\n",
      "Epoch [3-28], Train Loss : [1.06344] Val Loss : [0.65565] Val F1 Score : [0.78083]\n",
      "EarlyStopping counter: 3 out of 10\n",
      "Best F1 score from now: 0.798203855706776\n",
      "Epoch [3-29], Train Loss : [0.96027] Val Loss : [0.60295] Val F1 Score : [0.78650]\n",
      "EarlyStopping counter: 4 out of 10\n",
      "Best F1 score from now: 0.798203855706776\n",
      "Epoch [3-30], Train Loss : [0.85171] Val Loss : [0.60747] Val F1 Score : [0.79211]\n",
      "EarlyStopping counter: 5 out of 10\n",
      "Best F1 score from now: 0.798203855706776\n",
      "Epoch [3-31], Train Loss : [0.95835] Val Loss : [0.70739] Val F1 Score : [0.76308]\n",
      "EarlyStopping counter: 6 out of 10\n",
      "Best F1 score from now: 0.798203855706776\n",
      "Epoch [3-32], Train Loss : [1.04834] Val Loss : [0.67261] Val F1 Score : [0.76945]\n",
      "EarlyStopping counter: 7 out of 10\n",
      "Best F1 score from now: 0.798203855706776\n",
      "**Epoch [3-33], Train Loss : [0.94053] Val Loss : [0.59263] Val F1 Score : [0.80411]\n",
      "Epoch [3-34], Train Loss : [0.84279] Val Loss : [0.58721] Val F1 Score : [0.80319]\n",
      "EarlyStopping counter: 1 out of 10\n",
      "Best F1 score from now: 0.8041135121208991\n",
      "Epoch [3-35], Train Loss : [0.87900] Val Loss : [0.59297] Val F1 Score : [0.79119]\n",
      "EarlyStopping counter: 2 out of 10\n",
      "Best F1 score from now: 0.8041135121208991\n",
      "Epoch [3-36], Train Loss : [0.87879] Val Loss : [0.61474] Val F1 Score : [0.80029]\n",
      "EarlyStopping counter: 3 out of 10\n",
      "Best F1 score from now: 0.8041135121208991\n",
      "Epoch [3-37], Train Loss : [0.94399] Val Loss : [0.60216] Val F1 Score : [0.80368]\n",
      "EarlyStopping counter: 4 out of 10\n",
      "Best F1 score from now: 0.8041135121208991\n",
      "**Epoch [3-38], Train Loss : [0.83374] Val Loss : [0.54997] Val F1 Score : [0.81377]\n",
      "Epoch [3-39], Train Loss : [0.84313] Val Loss : [0.58004] Val F1 Score : [0.80122]\n",
      "EarlyStopping counter: 1 out of 10\n",
      "Best F1 score from now: 0.8137747954129122\n",
      "**Epoch [3-40], Train Loss : [0.74073] Val Loss : [0.55356] Val F1 Score : [0.82471]\n",
      "Epoch [3-41], Train Loss : [0.88693] Val Loss : [0.62700] Val F1 Score : [0.78987]\n",
      "EarlyStopping counter: 1 out of 10\n",
      "Best F1 score from now: 0.8247119186479371\n",
      "Epoch [3-42], Train Loss : [0.85152] Val Loss : [0.58509] Val F1 Score : [0.80165]\n",
      "EarlyStopping counter: 2 out of 10\n",
      "Best F1 score from now: 0.8247119186479371\n",
      "**Epoch [3-43], Train Loss : [0.79195] Val Loss : [0.56345] Val F1 Score : [0.82528]\n",
      "**Epoch [3-44], Train Loss : [0.80010] Val Loss : [0.52640] Val F1 Score : [0.83624]\n",
      "Epoch [3-45], Train Loss : [0.76539] Val Loss : [0.56195] Val F1 Score : [0.81196]\n",
      "EarlyStopping counter: 1 out of 10\n",
      "Best F1 score from now: 0.836241859267753\n",
      "Epoch [3-46], Train Loss : [0.81144] Val Loss : [0.58029] Val F1 Score : [0.81030]\n",
      "EarlyStopping counter: 2 out of 10\n",
      "Best F1 score from now: 0.836241859267753\n",
      "Epoch [3-47], Train Loss : [0.84889] Val Loss : [0.57002] Val F1 Score : [0.81421]\n",
      "EarlyStopping counter: 3 out of 10\n",
      "Best F1 score from now: 0.836241859267753\n",
      "Epoch [3-48], Train Loss : [0.69394] Val Loss : [0.54505] Val F1 Score : [0.81679]\n",
      "EarlyStopping counter: 4 out of 10\n",
      "Best F1 score from now: 0.836241859267753\n",
      "Epoch [3-49], Train Loss : [0.74489] Val Loss : [0.53493] Val F1 Score : [0.82062]\n",
      "EarlyStopping counter: 5 out of 10\n",
      "Best F1 score from now: 0.836241859267753\n",
      "Epoch [3-50], Train Loss : [0.71245] Val Loss : [0.51595] Val F1 Score : [0.82445]\n",
      "EarlyStopping counter: 6 out of 10\n",
      "Best F1 score from now: 0.836241859267753\n",
      "Epoch [3-51], Train Loss : [0.76404] Val Loss : [0.58136] Val F1 Score : [0.80452]\n",
      "EarlyStopping counter: 7 out of 10\n",
      "Best F1 score from now: 0.836241859267753\n",
      "Epoch [3-52], Train Loss : [0.73951] Val Loss : [0.53843] Val F1 Score : [0.82364]\n",
      "EarlyStopping counter: 8 out of 10\n",
      "Best F1 score from now: 0.836241859267753\n",
      "Epoch [3-53], Train Loss : [0.73717] Val Loss : [0.56062] Val F1 Score : [0.82385]\n",
      "EarlyStopping counter: 9 out of 10\n",
      "Best F1 score from now: 0.836241859267753\n",
      "Epoch [3-54], Train Loss : [0.79463] Val Loss : [0.53010] Val F1 Score : [0.81995]\n",
      "EarlyStopping counter: 10 out of 10\n",
      "Best F1 score from now: 0.836241859267753\n",
      "Epoch [3-54], early stopping\n",
      "4-fold start\n",
      "**Epoch [4-1], Train Loss : [3.36684] Val Loss : [2.47526] Val F1 Score : [0.17914]\n",
      "**Epoch [4-2], Train Loss : [2.71370] Val Loss : [1.93523] Val F1 Score : [0.36013]\n",
      "**Epoch [4-3], Train Loss : [2.28639] Val Loss : [1.41975] Val F1 Score : [0.48730]\n",
      "**Epoch [4-4], Train Loss : [1.97996] Val Loss : [1.17329] Val F1 Score : [0.58574]\n",
      "**Epoch [4-5], Train Loss : [1.67409] Val Loss : [1.10572] Val F1 Score : [0.59929]\n",
      "Epoch [4-6], Train Loss : [2.17334] Val Loss : [1.55973] Val F1 Score : [0.49149]\n",
      "EarlyStopping counter: 1 out of 10\n",
      "Best F1 score from now: 0.5992934040098298\n",
      "Epoch [4-7], Train Loss : [2.06089] Val Loss : [1.24279] Val F1 Score : [0.55098]\n",
      "EarlyStopping counter: 2 out of 10\n",
      "Best F1 score from now: 0.5992934040098298\n",
      "**Epoch [4-8], Train Loss : [1.81284] Val Loss : [0.97908] Val F1 Score : [0.64645]\n",
      "**Epoch [4-9], Train Loss : [1.50432] Val Loss : [0.85939] Val F1 Score : [0.70442]\n",
      "**Epoch [4-10], Train Loss : [1.49397] Val Loss : [0.84644] Val F1 Score : [0.71243]\n",
      "Epoch [4-11], Train Loss : [1.72692] Val Loss : [1.06174] Val F1 Score : [0.61510]\n",
      "EarlyStopping counter: 1 out of 10\n",
      "Best F1 score from now: 0.7124320532062173\n",
      "Epoch [4-12], Train Loss : [1.72735] Val Loss : [1.03586] Val F1 Score : [0.65211]\n",
      "EarlyStopping counter: 2 out of 10\n",
      "Best F1 score from now: 0.7124320532062173\n",
      "Epoch [4-13], Train Loss : [1.47821] Val Loss : [0.87652] Val F1 Score : [0.68844]\n",
      "EarlyStopping counter: 3 out of 10\n",
      "Best F1 score from now: 0.7124320532062173\n",
      "**Epoch [4-14], Train Loss : [1.34800] Val Loss : [0.76003] Val F1 Score : [0.73307]\n",
      "Epoch [4-15], Train Loss : [1.31852] Val Loss : [0.72347] Val F1 Score : [0.73284]\n",
      "EarlyStopping counter: 1 out of 10\n",
      "Best F1 score from now: 0.7330742560121571\n",
      "Epoch [4-16], Train Loss : [1.42042] Val Loss : [0.88159] Val F1 Score : [0.70926]\n",
      "EarlyStopping counter: 2 out of 10\n",
      "Best F1 score from now: 0.7330742560121571\n",
      "Epoch [4-17], Train Loss : [1.44151] Val Loss : [0.79789] Val F1 Score : [0.72991]\n",
      "EarlyStopping counter: 3 out of 10\n",
      "Best F1 score from now: 0.7330742560121571\n",
      "Epoch [4-18], Train Loss : [1.26217] Val Loss : [0.75577] Val F1 Score : [0.72330]\n",
      "EarlyStopping counter: 4 out of 10\n",
      "Best F1 score from now: 0.7330742560121571\n",
      "**Epoch [4-19], Train Loss : [1.19188] Val Loss : [0.66349] Val F1 Score : [0.75803]\n",
      "**Epoch [4-20], Train Loss : [1.14090] Val Loss : [0.66783] Val F1 Score : [0.76002]\n",
      "Epoch [4-21], Train Loss : [1.20841] Val Loss : [0.78406] Val F1 Score : [0.72027]\n",
      "EarlyStopping counter: 1 out of 10\n",
      "Best F1 score from now: 0.7600166612339062\n",
      "Epoch [4-22], Train Loss : [1.22474] Val Loss : [0.72710] Val F1 Score : [0.75961]\n",
      "EarlyStopping counter: 2 out of 10\n",
      "Best F1 score from now: 0.7600166612339062\n",
      "Epoch [4-23], Train Loss : [1.05157] Val Loss : [0.69265] Val F1 Score : [0.75466]\n",
      "EarlyStopping counter: 3 out of 10\n",
      "Best F1 score from now: 0.7600166612339062\n",
      "**Epoch [4-24], Train Loss : [1.05608] Val Loss : [0.64948] Val F1 Score : [0.77324]\n",
      "**Epoch [4-25], Train Loss : [1.00256] Val Loss : [0.60879] Val F1 Score : [0.78634]\n",
      "Epoch [4-26], Train Loss : [1.07884] Val Loss : [0.77298] Val F1 Score : [0.73319]\n",
      "EarlyStopping counter: 1 out of 10\n",
      "Best F1 score from now: 0.7863372137358351\n",
      "Epoch [4-27], Train Loss : [1.12045] Val Loss : [0.67845] Val F1 Score : [0.76710]\n",
      "EarlyStopping counter: 2 out of 10\n",
      "Best F1 score from now: 0.7863372137358351\n",
      "**Epoch [4-28], Train Loss : [1.01245] Val Loss : [0.64908] Val F1 Score : [0.79100]\n",
      "**Epoch [4-29], Train Loss : [0.98964] Val Loss : [0.60541] Val F1 Score : [0.80355]\n",
      "Epoch [4-30], Train Loss : [0.91838] Val Loss : [0.57584] Val F1 Score : [0.79963]\n",
      "EarlyStopping counter: 1 out of 10\n",
      "Best F1 score from now: 0.8035540907248463\n",
      "Epoch [4-31], Train Loss : [1.03133] Val Loss : [0.65774] Val F1 Score : [0.78927]\n",
      "EarlyStopping counter: 2 out of 10\n",
      "Best F1 score from now: 0.8035540907248463\n",
      "**Epoch [4-32], Train Loss : [0.91670] Val Loss : [0.56128] Val F1 Score : [0.81572]\n",
      "Epoch [4-33], Train Loss : [0.89748] Val Loss : [0.59609] Val F1 Score : [0.78017]\n",
      "EarlyStopping counter: 1 out of 10\n",
      "Best F1 score from now: 0.8157219631363614\n",
      "Epoch [4-34], Train Loss : [0.91793] Val Loss : [0.55609] Val F1 Score : [0.81310]\n",
      "EarlyStopping counter: 2 out of 10\n",
      "Best F1 score from now: 0.8157219631363614\n",
      "**Epoch [4-35], Train Loss : [0.85218] Val Loss : [0.54661] Val F1 Score : [0.82487]\n",
      "Epoch [4-36], Train Loss : [0.94087] Val Loss : [0.61164] Val F1 Score : [0.78597]\n",
      "EarlyStopping counter: 1 out of 10\n",
      "Best F1 score from now: 0.8248726500377712\n",
      "Epoch [4-37], Train Loss : [0.85299] Val Loss : [0.58949] Val F1 Score : [0.79382]\n",
      "EarlyStopping counter: 2 out of 10\n",
      "Best F1 score from now: 0.8248726500377712\n",
      "Epoch [4-38], Train Loss : [0.84169] Val Loss : [0.56445] Val F1 Score : [0.81639]\n",
      "EarlyStopping counter: 3 out of 10\n",
      "Best F1 score from now: 0.8248726500377712\n",
      "Epoch [4-39], Train Loss : [0.82550] Val Loss : [0.56011] Val F1 Score : [0.81327]\n",
      "EarlyStopping counter: 4 out of 10\n",
      "Best F1 score from now: 0.8248726500377712\n",
      "Epoch [4-40], Train Loss : [0.79794] Val Loss : [0.56381] Val F1 Score : [0.80738]\n",
      "EarlyStopping counter: 5 out of 10\n",
      "Best F1 score from now: 0.8248726500377712\n",
      "Epoch [4-41], Train Loss : [0.83701] Val Loss : [0.62387] Val F1 Score : [0.77924]\n",
      "EarlyStopping counter: 6 out of 10\n",
      "Best F1 score from now: 0.8248726500377712\n",
      "Epoch [4-42], Train Loss : [0.91157] Val Loss : [0.58883] Val F1 Score : [0.81146]\n",
      "EarlyStopping counter: 7 out of 10\n",
      "Best F1 score from now: 0.8248726500377712\n",
      "Epoch [4-43], Train Loss : [0.86272] Val Loss : [0.60091] Val F1 Score : [0.79238]\n",
      "EarlyStopping counter: 8 out of 10\n",
      "Best F1 score from now: 0.8248726500377712\n",
      "Epoch [4-44], Train Loss : [0.82287] Val Loss : [0.57230] Val F1 Score : [0.81455]\n",
      "EarlyStopping counter: 9 out of 10\n",
      "Best F1 score from now: 0.8248726500377712\n",
      "Epoch [4-45], Train Loss : [0.73423] Val Loss : [0.55362] Val F1 Score : [0.80944]\n",
      "EarlyStopping counter: 10 out of 10\n",
      "Best F1 score from now: 0.8248726500377712\n",
      "Epoch [4-45], early stopping\n",
      "0.8167485759013602\n"
     ]
    }
   ],
   "source": [
    "f1_score = k_fold(CFG['K-FOLD'])\n",
    "print(f1_score)"
   ],
   "metadata": {
    "collapsed": false,
    "ExecuteTime": {
     "end_time": "2023-12-21T14:55:44.295999900Z",
     "start_time": "2023-12-21T04:11:48.664608300Z"
    }
   },
   "id": "9ecf48ad115665dd"
  },
  {
   "cell_type": "code",
   "execution_count": 25,
   "outputs": [
    {
     "data": {
      "text/plain": "           id               img_path\n0  TEST_00000  ./test/TEST_00000.jpg\n1  TEST_00001  ./test/TEST_00001.jpg\n2  TEST_00002  ./test/TEST_00002.jpg\n3  TEST_00003  ./test/TEST_00003.jpg\n4  TEST_00004  ./test/TEST_00004.jpg",
      "text/html": "<div>\n<style scoped>\n    .dataframe tbody tr th:only-of-type {\n        vertical-align: middle;\n    }\n\n    .dataframe tbody tr th {\n        vertical-align: top;\n    }\n\n    .dataframe thead th {\n        text-align: right;\n    }\n</style>\n<table border=\"1\" class=\"dataframe\">\n  <thead>\n    <tr style=\"text-align: right;\">\n      <th></th>\n      <th>id</th>\n      <th>img_path</th>\n    </tr>\n  </thead>\n  <tbody>\n    <tr>\n      <th>0</th>\n      <td>TEST_00000</td>\n      <td>./test/TEST_00000.jpg</td>\n    </tr>\n    <tr>\n      <th>1</th>\n      <td>TEST_00001</td>\n      <td>./test/TEST_00001.jpg</td>\n    </tr>\n    <tr>\n      <th>2</th>\n      <td>TEST_00002</td>\n      <td>./test/TEST_00002.jpg</td>\n    </tr>\n    <tr>\n      <th>3</th>\n      <td>TEST_00003</td>\n      <td>./test/TEST_00003.jpg</td>\n    </tr>\n    <tr>\n      <th>4</th>\n      <td>TEST_00004</td>\n      <td>./test/TEST_00004.jpg</td>\n    </tr>\n  </tbody>\n</table>\n</div>"
     },
     "execution_count": 25,
     "metadata": {},
     "output_type": "execute_result"
    }
   ],
   "source": [
    "test_df = pd.read_csv(os.path.join(data_path, './test.csv'))\n",
    "test_df.head()"
   ],
   "metadata": {
    "collapsed": false,
    "ExecuteTime": {
     "end_time": "2023-12-21T14:55:44.342564500Z",
     "start_time": "2023-12-21T14:55:44.299489200Z"
    }
   },
   "id": "9c8fff1a450556ec"
  },
  {
   "cell_type": "code",
   "execution_count": 26,
   "outputs": [],
   "source": [
    "test_img_paths = get_data(test_df, infer=True)"
   ],
   "metadata": {
    "collapsed": false,
    "ExecuteTime": {
     "end_time": "2023-12-21T14:55:44.443424Z",
     "start_time": "2023-12-21T14:55:44.341232200Z"
    }
   },
   "id": "6a50c39d21de27ed"
  },
  {
   "cell_type": "code",
   "execution_count": 27,
   "outputs": [],
   "source": [
    "test_dataset = CustomDataset(test_img_paths, None, test_transform)\n",
    "test_loader = DataLoader(test_dataset, batch_size=CFG['BATCH_SIZE'], shuffle=False, num_workers=0)"
   ],
   "metadata": {
    "collapsed": false,
    "ExecuteTime": {
     "end_time": "2023-12-21T14:55:44.473384300Z",
     "start_time": "2023-12-21T14:55:44.388349Z"
    }
   },
   "id": "66859c2e35131aae"
  },
  {
   "cell_type": "code",
   "execution_count": 28,
   "outputs": [],
   "source": [
    "def inference(model, test_loader, device):\n",
    "    model.to(device)\n",
    "    model.eval()\n",
    "    \n",
    "    model_preds = []\n",
    "    \n",
    "    with torch.no_grad():\n",
    "        for idx, img in enumerate(test_loader):\n",
    "            img = img.float().to(device)\n",
    "            \n",
    "            model_pred = model(img).detach().cpu()\n",
    "            model_pred = F.softmax(model_pred, dim=1)\n",
    "            model_preds.extend(model_pred.numpy().tolist())\n",
    "    \n",
    "    print('Done.')\n",
    "    return model_preds"
   ],
   "metadata": {
    "collapsed": false,
    "ExecuteTime": {
     "end_time": "2023-12-21T14:55:44.474384Z",
     "start_time": "2023-12-21T14:55:44.403860300Z"
    }
   },
   "id": "60aba723872ee62e"
  },
  {
   "cell_type": "code",
   "execution_count": 29,
   "outputs": [
    {
     "data": {
      "text/plain": "5"
     },
     "execution_count": 29,
     "metadata": {},
     "output_type": "execute_result"
    }
   ],
   "source": [
    "CFG['K-FOLD']"
   ],
   "metadata": {
    "collapsed": false,
    "ExecuteTime": {
     "end_time": "2023-12-21T14:55:44.474384Z",
     "start_time": "2023-12-21T14:55:44.417751500Z"
    }
   },
   "id": "927e863163381d08"
  },
  {
   "cell_type": "code",
   "execution_count": 30,
   "outputs": [
    {
     "name": "stdout",
     "output_type": "stream",
     "text": [
      "0-fold CHECKPOINT LOADED: ../../data/runs/0/best_model_0.pt\n",
      "Done.\n",
      "1-fold CHECKPOINT LOADED: ../../data/runs/0/best_model_1.pt\n",
      "Done.\n",
      "2-fold CHECKPOINT LOADED: ../../data/runs/0/best_model_2.pt\n",
      "Done.\n",
      "3-fold CHECKPOINT LOADED: ../../data/runs/0/best_model_3.pt\n",
      "Done.\n",
      "4-fold CHECKPOINT LOADED: ../../data/runs/0/best_model_4.pt\n",
      "Done.\n"
     ]
    }
   ],
   "source": [
    "result_df = pd.DataFrame(np.zeros((test_df.shape[0], len(le.classes_))))\n",
    "for k_ in range(CFG['K-FOLD']):\n",
    "    checkpoint = os.path.join(data_path, f'runs/{run_id}/best_model_{k_}.pt')\n",
    "    print(f'{k_}-fold CHECKPOINT LOADED: {checkpoint}')\n",
    "    infer_model = torch.load(checkpoint)\n",
    "    infer_model.to(device)\n",
    "    infer_model.eval()\n",
    "    result_df += pd.DataFrame(inference(infer_model, test_loader, device))"
   ],
   "metadata": {
    "collapsed": false,
    "ExecuteTime": {
     "end_time": "2023-12-21T15:04:46.080837300Z",
     "start_time": "2023-12-21T14:55:44.425429100Z"
    }
   },
   "id": "605d913e0df9b6"
  },
  {
   "cell_type": "code",
   "execution_count": 31,
   "outputs": [
    {
     "data": {
      "text/plain": "         0         1         2         3         4         5         6   \\\n0  0.000391  0.003798  0.001253  0.000659  0.000289  0.000511  0.000893   \n1  0.000609  0.000465  4.964714  0.000262  0.000161  0.000157  0.000056   \n2  0.000892  0.000559  0.000182  0.000126  0.000139  0.000156  4.750564   \n3  4.975413  0.000614  0.000306  0.000289  0.000143  0.000246  0.000106   \n4  0.002655  0.010429  0.670103  0.001621  0.001949  0.007229  0.000604   \n\n         7         8         9   ...        40        41        42        43  \\\n0  0.002182  0.000043  0.001935  ...  0.001037  0.001086  0.001995  0.001114   \n1  0.000467  0.000906  0.000200  ...  0.000302  0.000129  0.000768  0.000783   \n2  0.000163  0.000047  0.019190  ...  0.000448  0.007567  0.003164  0.001022   \n3  0.000523  0.000083  0.000281  ...  0.001447  0.000128  0.000457  0.000291   \n4  0.006943  0.008683  0.001588  ...  0.004716  0.000625  0.002971  0.003787   \n\n         44        45        46        47        48        49  \n0  0.001621  0.002774  0.014539  0.000594  0.012735  0.000502  \n1  0.000350  0.000156  0.000508  0.000058  0.001751  0.000337  \n2  0.041968  0.000630  0.111736  0.000179  0.002056  0.000083  \n3  0.000360  0.000197  0.000669  0.000390  0.003969  0.000210  \n4  0.001023  0.000788  0.002099  0.001349  0.502946  0.000813  \n\n[5 rows x 50 columns]",
      "text/html": "<div>\n<style scoped>\n    .dataframe tbody tr th:only-of-type {\n        vertical-align: middle;\n    }\n\n    .dataframe tbody tr th {\n        vertical-align: top;\n    }\n\n    .dataframe thead th {\n        text-align: right;\n    }\n</style>\n<table border=\"1\" class=\"dataframe\">\n  <thead>\n    <tr style=\"text-align: right;\">\n      <th></th>\n      <th>0</th>\n      <th>1</th>\n      <th>2</th>\n      <th>3</th>\n      <th>4</th>\n      <th>5</th>\n      <th>6</th>\n      <th>7</th>\n      <th>8</th>\n      <th>9</th>\n      <th>...</th>\n      <th>40</th>\n      <th>41</th>\n      <th>42</th>\n      <th>43</th>\n      <th>44</th>\n      <th>45</th>\n      <th>46</th>\n      <th>47</th>\n      <th>48</th>\n      <th>49</th>\n    </tr>\n  </thead>\n  <tbody>\n    <tr>\n      <th>0</th>\n      <td>0.000391</td>\n      <td>0.003798</td>\n      <td>0.001253</td>\n      <td>0.000659</td>\n      <td>0.000289</td>\n      <td>0.000511</td>\n      <td>0.000893</td>\n      <td>0.002182</td>\n      <td>0.000043</td>\n      <td>0.001935</td>\n      <td>...</td>\n      <td>0.001037</td>\n      <td>0.001086</td>\n      <td>0.001995</td>\n      <td>0.001114</td>\n      <td>0.001621</td>\n      <td>0.002774</td>\n      <td>0.014539</td>\n      <td>0.000594</td>\n      <td>0.012735</td>\n      <td>0.000502</td>\n    </tr>\n    <tr>\n      <th>1</th>\n      <td>0.000609</td>\n      <td>0.000465</td>\n      <td>4.964714</td>\n      <td>0.000262</td>\n      <td>0.000161</td>\n      <td>0.000157</td>\n      <td>0.000056</td>\n      <td>0.000467</td>\n      <td>0.000906</td>\n      <td>0.000200</td>\n      <td>...</td>\n      <td>0.000302</td>\n      <td>0.000129</td>\n      <td>0.000768</td>\n      <td>0.000783</td>\n      <td>0.000350</td>\n      <td>0.000156</td>\n      <td>0.000508</td>\n      <td>0.000058</td>\n      <td>0.001751</td>\n      <td>0.000337</td>\n    </tr>\n    <tr>\n      <th>2</th>\n      <td>0.000892</td>\n      <td>0.000559</td>\n      <td>0.000182</td>\n      <td>0.000126</td>\n      <td>0.000139</td>\n      <td>0.000156</td>\n      <td>4.750564</td>\n      <td>0.000163</td>\n      <td>0.000047</td>\n      <td>0.019190</td>\n      <td>...</td>\n      <td>0.000448</td>\n      <td>0.007567</td>\n      <td>0.003164</td>\n      <td>0.001022</td>\n      <td>0.041968</td>\n      <td>0.000630</td>\n      <td>0.111736</td>\n      <td>0.000179</td>\n      <td>0.002056</td>\n      <td>0.000083</td>\n    </tr>\n    <tr>\n      <th>3</th>\n      <td>4.975413</td>\n      <td>0.000614</td>\n      <td>0.000306</td>\n      <td>0.000289</td>\n      <td>0.000143</td>\n      <td>0.000246</td>\n      <td>0.000106</td>\n      <td>0.000523</td>\n      <td>0.000083</td>\n      <td>0.000281</td>\n      <td>...</td>\n      <td>0.001447</td>\n      <td>0.000128</td>\n      <td>0.000457</td>\n      <td>0.000291</td>\n      <td>0.000360</td>\n      <td>0.000197</td>\n      <td>0.000669</td>\n      <td>0.000390</td>\n      <td>0.003969</td>\n      <td>0.000210</td>\n    </tr>\n    <tr>\n      <th>4</th>\n      <td>0.002655</td>\n      <td>0.010429</td>\n      <td>0.670103</td>\n      <td>0.001621</td>\n      <td>0.001949</td>\n      <td>0.007229</td>\n      <td>0.000604</td>\n      <td>0.006943</td>\n      <td>0.008683</td>\n      <td>0.001588</td>\n      <td>...</td>\n      <td>0.004716</td>\n      <td>0.000625</td>\n      <td>0.002971</td>\n      <td>0.003787</td>\n      <td>0.001023</td>\n      <td>0.000788</td>\n      <td>0.002099</td>\n      <td>0.001349</td>\n      <td>0.502946</td>\n      <td>0.000813</td>\n    </tr>\n  </tbody>\n</table>\n<p>5 rows × 50 columns</p>\n</div>"
     },
     "execution_count": 31,
     "metadata": {},
     "output_type": "execute_result"
    }
   ],
   "source": [
    "result_df.head()"
   ],
   "metadata": {
    "collapsed": false,
    "ExecuteTime": {
     "end_time": "2023-12-21T15:04:46.126329300Z",
     "start_time": "2023-12-21T15:04:46.090840900Z"
    }
   },
   "id": "9df29cbb4653101f"
  },
  {
   "cell_type": "code",
   "execution_count": 32,
   "outputs": [],
   "source": [
    "preds = result_df.idxmax(axis=1)"
   ],
   "metadata": {
    "collapsed": false,
    "ExecuteTime": {
     "end_time": "2023-12-21T15:04:46.182458900Z",
     "start_time": "2023-12-21T15:04:46.103726Z"
    }
   },
   "id": "c1cc27ee0e75b6fb"
  },
  {
   "cell_type": "code",
   "execution_count": 33,
   "outputs": [],
   "source": [
    "preds = le.inverse_transform(preds)"
   ],
   "metadata": {
    "collapsed": false,
    "ExecuteTime": {
     "end_time": "2023-12-21T15:04:46.231538600Z",
     "start_time": "2023-12-21T15:04:46.138609900Z"
    }
   },
   "id": "37b7f04a0b4de44f"
  },
  {
   "cell_type": "code",
   "execution_count": 34,
   "outputs": [],
   "source": [
    "submit = pd.read_csv(os.path.join(data_path, './sample_submission.csv'))"
   ],
   "metadata": {
    "collapsed": false,
    "ExecuteTime": {
     "end_time": "2023-12-21T15:04:46.232537200Z",
     "start_time": "2023-12-21T15:04:46.153827600Z"
    }
   },
   "id": "fe59292099a9b96e"
  },
  {
   "cell_type": "code",
   "execution_count": 35,
   "outputs": [],
   "source": [
    "submit['artist'] = preds"
   ],
   "metadata": {
    "collapsed": false,
    "ExecuteTime": {
     "end_time": "2023-12-21T15:04:46.233679800Z",
     "start_time": "2023-12-21T15:04:46.186379400Z"
    }
   },
   "id": "8582475a6cb3db6f"
  },
  {
   "cell_type": "code",
   "execution_count": 36,
   "outputs": [
    {
     "data": {
      "text/plain": "           id             artist\n0  TEST_00000        Edgar Degas\n1  TEST_00001  Amedeo Modigliani\n2  TEST_00002         Caravaggio\n3  TEST_00003    Albrecht Du rer\n4  TEST_00004      Pablo Picasso",
      "text/html": "<div>\n<style scoped>\n    .dataframe tbody tr th:only-of-type {\n        vertical-align: middle;\n    }\n\n    .dataframe tbody tr th {\n        vertical-align: top;\n    }\n\n    .dataframe thead th {\n        text-align: right;\n    }\n</style>\n<table border=\"1\" class=\"dataframe\">\n  <thead>\n    <tr style=\"text-align: right;\">\n      <th></th>\n      <th>id</th>\n      <th>artist</th>\n    </tr>\n  </thead>\n  <tbody>\n    <tr>\n      <th>0</th>\n      <td>TEST_00000</td>\n      <td>Edgar Degas</td>\n    </tr>\n    <tr>\n      <th>1</th>\n      <td>TEST_00001</td>\n      <td>Amedeo Modigliani</td>\n    </tr>\n    <tr>\n      <th>2</th>\n      <td>TEST_00002</td>\n      <td>Caravaggio</td>\n    </tr>\n    <tr>\n      <th>3</th>\n      <td>TEST_00003</td>\n      <td>Albrecht Du rer</td>\n    </tr>\n    <tr>\n      <th>4</th>\n      <td>TEST_00004</td>\n      <td>Pablo Picasso</td>\n    </tr>\n  </tbody>\n</table>\n</div>"
     },
     "execution_count": 36,
     "metadata": {},
     "output_type": "execute_result"
    }
   ],
   "source": [
    "submit.head()"
   ],
   "metadata": {
    "collapsed": false,
    "ExecuteTime": {
     "end_time": "2023-12-21T15:04:46.234328200Z",
     "start_time": "2023-12-21T15:04:46.208136Z"
    }
   },
   "id": "15bd98c5d6b59bf4"
  },
  {
   "cell_type": "code",
   "execution_count": 37,
   "outputs": [],
   "source": [
    "submit.to_csv(os.path.join(data_path, f\"./submit_{CFG['FILENAME']}.csv\"), index=False)"
   ],
   "metadata": {
    "collapsed": false,
    "ExecuteTime": {
     "end_time": "2023-12-21T15:04:46.260742900Z",
     "start_time": "2023-12-21T15:04:46.221199Z"
    }
   },
   "id": "eed3cb0dc59f47f7"
  },
  {
   "cell_type": "code",
   "execution_count": 37,
   "outputs": [],
   "source": [],
   "metadata": {
    "collapsed": false,
    "ExecuteTime": {
     "end_time": "2023-12-21T15:04:46.286940600Z",
     "start_time": "2023-12-21T15:04:46.242997Z"
    }
   },
   "id": "d3ed2b836c4e558b"
  }
 ],
 "metadata": {
  "kernelspec": {
   "display_name": "Python 3",
   "language": "python",
   "name": "python3"
  },
  "language_info": {
   "codemirror_mode": {
    "name": "ipython",
    "version": 2
   },
   "file_extension": ".py",
   "mimetype": "text/x-python",
   "name": "python",
   "nbconvert_exporter": "python",
   "pygments_lexer": "ipython2",
   "version": "2.7.6"
  }
 },
 "nbformat": 4,
 "nbformat_minor": 5
}
