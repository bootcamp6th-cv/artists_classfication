{
 "cells": [
  {
   "cell_type": "markdown",
   "source": [
    "# augmentation\n",
    "* Efficient-net B2\n",
    "* Augmentation\n",
    "    - Transpose # 행렬 스왑\n",
    "    - HorizontalFlip # 좌우 반전\n",
    "    - VerticalFlip # 상하 반전\n",
    "    - ShiftScaleRotate # 랜덤하게 옮기고, scale, 회전\n",
    "    - HueSaturationValue # 빛깔, 색조, 값 변환\n",
    "    - RandomBrightnessContrast # 명도 대비\n",
    "    - ChannelShuffle # RGB 채널 간 shuffle\n",
    "    - CoarseDropout # 조그마한 검은 사각형 영역 추가\n",
    "* lr scheduler\n",
    "    - Custom CosineAnnealingWarmUpRestarts\n",
    "* vit model 적용\n",
    "    - tiny_vit_21m_384.dist_in22k_ft_in1k\n",
    "* result\n",
    "    - train loss : 0.1722\n",
    "    - validation loss : 0.5930\n",
    "    - f1 score : 0.8160 \n",
    "    - epoch : 19"
   ],
   "metadata": {
    "collapsed": false
   },
   "id": "35ad6a7e30f8925e"
  },
  {
   "cell_type": "code",
   "execution_count": 1,
   "outputs": [],
   "source": [
    "import gc\n",
    "import os\n",
    "import random\n",
    "from datetime import datetime\n",
    "\n",
    "import pandas as pd\n",
    "import numpy as np\n",
    "import matplotlib.pyplot as plt\n",
    "import seaborn as sns\n",
    "import cv2\n",
    "\n",
    "from sklearn import preprocessing\n",
    "from sklearn.model_selection import train_test_split\n",
    "from sklearn.metrics import f1_score\n",
    "\n",
    "import torch\n",
    "import torch.nn as nn\n",
    "import torch.optim as optim\n",
    "import torch.nn.functional as F\n",
    "from torch.utils.data import Dataset, DataLoader\n",
    "\n",
    "from tqdm.auto import tqdm\n",
    "\n",
    "import albumentations as A\n",
    "from albumentations.pytorch.transforms import ToTensorV2\n",
    "\n",
    "import timm\n",
    "\n",
    "import warnings\n",
    "warnings.filterwarnings(action='ignore') "
   ],
   "metadata": {
    "collapsed": false,
    "ExecuteTime": {
     "end_time": "2023-12-14T10:00:29.685325900Z",
     "start_time": "2023-12-14T10:00:26.521126200Z"
    }
   },
   "id": "initial_id"
  },
  {
   "cell_type": "code",
   "execution_count": 2,
   "outputs": [],
   "source": [
    "device = torch.device('cuda') if torch.cuda.is_available() else torch.device('cpu')"
   ],
   "metadata": {
    "collapsed": false,
    "ExecuteTime": {
     "end_time": "2023-12-14T10:00:29.721366800Z",
     "start_time": "2023-12-14T10:00:29.706974900Z"
    }
   },
   "id": "5fc1ff58a4a9d6d1"
  },
  {
   "cell_type": "code",
   "execution_count": 3,
   "outputs": [],
   "source": [
    "CFG = {\n",
    "    'IMG_SIZE': 384,\n",
    "    'EPOCHS': 1000,\n",
    "    'LEARNING_RATE': 1e-3,\n",
    "    'BATCH_SIZE': 8,\n",
    "    'PATIENCE': 10,\n",
    "    'SEED': 6\n",
    "}"
   ],
   "metadata": {
    "collapsed": false,
    "ExecuteTime": {
     "end_time": "2023-12-14T10:00:29.737007600Z",
     "start_time": "2023-12-14T10:00:29.721286300Z"
    }
   },
   "id": "5c99354cb0d52004"
  },
  {
   "cell_type": "code",
   "execution_count": 4,
   "outputs": [],
   "source": [
    "def seed_everything(seed):\n",
    "    random.seed(seed)\n",
    "    os.environ['PYTHONHASHSEED'] = str(seed)\n",
    "    np.random.seed(seed)\n",
    "    torch.manual_seed(seed)\n",
    "    torch.cuda.manual_seed(seed)\n",
    "    torch.cuda.manual_seed_all(seed)\n",
    "    torch.backends.cudnn.deterministic = True\n",
    "    torch.backends.cudnn.benchmark = False\n",
    "\n",
    "seed_everything(CFG['SEED']) # Seed 고정"
   ],
   "metadata": {
    "collapsed": false,
    "ExecuteTime": {
     "end_time": "2023-12-14T10:00:29.768734500Z",
     "start_time": "2023-12-14T10:00:29.737007600Z"
    }
   },
   "id": "57142b16a76126df"
  },
  {
   "cell_type": "code",
   "execution_count": 5,
   "outputs": [],
   "source": [
    "running_colab = 'google.colab' in str(get_ipython()) if hasattr(__builtins__,'__IPYTHON__') else False\n",
    "if running_colab:\n",
    "    from google.colab import drive\n",
    "    drive.mount('/content/drive')\n",
    "if running_colab:\n",
    "    data_path = '/content/drive/MyDrive/Colab Notebooks/ai6th/data/optiver/'\n",
    "else:\n",
    "    data_path = '../../data/'"
   ],
   "metadata": {
    "collapsed": false,
    "ExecuteTime": {
     "end_time": "2023-12-14T10:00:29.768734500Z",
     "start_time": "2023-12-14T10:00:29.752630600Z"
    }
   },
   "id": "858b421c8c479378"
  },
  {
   "cell_type": "code",
   "execution_count": 6,
   "outputs": [
    {
     "data": {
      "text/plain": "   id          img_path            artist\n0   0  ./train/0000.jpg   Diego Velazquez\n1   1  ./train/0001.jpg  Vincent van Gogh\n2   2  ./train/0002.jpg      Claude Monet\n3   3  ./train/0003.jpg       Edgar Degas\n4   4  ./train/0004.jpg  Hieronymus Bosch",
      "text/html": "<div>\n<style scoped>\n    .dataframe tbody tr th:only-of-type {\n        vertical-align: middle;\n    }\n\n    .dataframe tbody tr th {\n        vertical-align: top;\n    }\n\n    .dataframe thead th {\n        text-align: right;\n    }\n</style>\n<table border=\"1\" class=\"dataframe\">\n  <thead>\n    <tr style=\"text-align: right;\">\n      <th></th>\n      <th>id</th>\n      <th>img_path</th>\n      <th>artist</th>\n    </tr>\n  </thead>\n  <tbody>\n    <tr>\n      <th>0</th>\n      <td>0</td>\n      <td>./train/0000.jpg</td>\n      <td>Diego Velazquez</td>\n    </tr>\n    <tr>\n      <th>1</th>\n      <td>1</td>\n      <td>./train/0001.jpg</td>\n      <td>Vincent van Gogh</td>\n    </tr>\n    <tr>\n      <th>2</th>\n      <td>2</td>\n      <td>./train/0002.jpg</td>\n      <td>Claude Monet</td>\n    </tr>\n    <tr>\n      <th>3</th>\n      <td>3</td>\n      <td>./train/0003.jpg</td>\n      <td>Edgar Degas</td>\n    </tr>\n    <tr>\n      <th>4</th>\n      <td>4</td>\n      <td>./train/0004.jpg</td>\n      <td>Hieronymus Bosch</td>\n    </tr>\n  </tbody>\n</table>\n</div>"
     },
     "execution_count": 6,
     "metadata": {},
     "output_type": "execute_result"
    }
   ],
   "source": [
    "df = pd.read_csv(os.path.join(data_path, 'train.csv'))\n",
    "df.loc[3896, 'artist'] = 'Titian'\n",
    "df.loc[3986, 'artist'] = 'Alfred Sisley'\n",
    "df.head()"
   ],
   "metadata": {
    "collapsed": false,
    "ExecuteTime": {
     "end_time": "2023-12-14T10:00:29.832393100Z",
     "start_time": "2023-12-14T10:00:29.768734500Z"
    }
   },
   "id": "60ed6dfb973bafc5"
  },
  {
   "cell_type": "code",
   "execution_count": 7,
   "outputs": [],
   "source": [
    "artists = df.groupby('artist')[['id']].count().rename(columns={'id':'count'}).reset_index()"
   ],
   "metadata": {
    "collapsed": false,
    "ExecuteTime": {
     "end_time": "2023-12-14T10:00:29.832393100Z",
     "start_time": "2023-12-14T10:00:29.800729300Z"
    }
   },
   "id": "c031773f1ed5ca85"
  },
  {
   "cell_type": "code",
   "execution_count": 8,
   "outputs": [],
   "source": [
    "# Label Encoding\n",
    "le = preprocessing.LabelEncoder()\n",
    "df['artist'] = le.fit_transform(df['artist'].values)"
   ],
   "metadata": {
    "collapsed": false,
    "ExecuteTime": {
     "end_time": "2023-12-14T10:00:29.879267Z",
     "start_time": "2023-12-14T10:00:29.816747300Z"
    }
   },
   "id": "2ae8b183518c9394"
  },
  {
   "cell_type": "code",
   "execution_count": 9,
   "outputs": [],
   "source": [
    "train_df, val_df = train_test_split(df, test_size=0.2, random_state=CFG['SEED'])"
   ],
   "metadata": {
    "collapsed": false,
    "ExecuteTime": {
     "end_time": "2023-12-14T10:00:29.894892Z",
     "start_time": "2023-12-14T10:00:29.832393100Z"
    }
   },
   "id": "71c56b6890f87998"
  },
  {
   "cell_type": "code",
   "execution_count": 10,
   "outputs": [
    {
     "data": {
      "text/plain": "   id          img_path  artist\n0   0  ./train/0000.jpg       9\n1   1  ./train/0001.jpg      48\n3   3  ./train/0003.jpg      10\n4   4  ./train/0004.jpg      24\n6   6  ./train/0006.jpg      43",
      "text/html": "<div>\n<style scoped>\n    .dataframe tbody tr th:only-of-type {\n        vertical-align: middle;\n    }\n\n    .dataframe tbody tr th {\n        vertical-align: top;\n    }\n\n    .dataframe thead th {\n        text-align: right;\n    }\n</style>\n<table border=\"1\" class=\"dataframe\">\n  <thead>\n    <tr style=\"text-align: right;\">\n      <th></th>\n      <th>id</th>\n      <th>img_path</th>\n      <th>artist</th>\n    </tr>\n  </thead>\n  <tbody>\n    <tr>\n      <th>0</th>\n      <td>0</td>\n      <td>./train/0000.jpg</td>\n      <td>9</td>\n    </tr>\n    <tr>\n      <th>1</th>\n      <td>1</td>\n      <td>./train/0001.jpg</td>\n      <td>48</td>\n    </tr>\n    <tr>\n      <th>3</th>\n      <td>3</td>\n      <td>./train/0003.jpg</td>\n      <td>10</td>\n    </tr>\n    <tr>\n      <th>4</th>\n      <td>4</td>\n      <td>./train/0004.jpg</td>\n      <td>24</td>\n    </tr>\n    <tr>\n      <th>6</th>\n      <td>6</td>\n      <td>./train/0006.jpg</td>\n      <td>43</td>\n    </tr>\n  </tbody>\n</table>\n</div>"
     },
     "execution_count": 10,
     "metadata": {},
     "output_type": "execute_result"
    }
   ],
   "source": [
    "train_df = train_df.sort_values(by=['id'])\n",
    "train_df.head()"
   ],
   "metadata": {
    "collapsed": false,
    "ExecuteTime": {
     "end_time": "2023-12-14T10:00:29.973442Z",
     "start_time": "2023-12-14T10:00:29.848017800Z"
    }
   },
   "id": "3146f5ea6c5ce2c4"
  },
  {
   "cell_type": "code",
   "execution_count": 11,
   "outputs": [
    {
     "data": {
      "text/plain": "    id          img_path  artist\n2    2  ./train/0002.jpg       7\n5    5  ./train/0005.jpg      38\n10  10  ./train/0010.jpg       6\n11  11  ./train/0011.jpg       1\n18  18  ./train/0018.jpg      33",
      "text/html": "<div>\n<style scoped>\n    .dataframe tbody tr th:only-of-type {\n        vertical-align: middle;\n    }\n\n    .dataframe tbody tr th {\n        vertical-align: top;\n    }\n\n    .dataframe thead th {\n        text-align: right;\n    }\n</style>\n<table border=\"1\" class=\"dataframe\">\n  <thead>\n    <tr style=\"text-align: right;\">\n      <th></th>\n      <th>id</th>\n      <th>img_path</th>\n      <th>artist</th>\n    </tr>\n  </thead>\n  <tbody>\n    <tr>\n      <th>2</th>\n      <td>2</td>\n      <td>./train/0002.jpg</td>\n      <td>7</td>\n    </tr>\n    <tr>\n      <th>5</th>\n      <td>5</td>\n      <td>./train/0005.jpg</td>\n      <td>38</td>\n    </tr>\n    <tr>\n      <th>10</th>\n      <td>10</td>\n      <td>./train/0010.jpg</td>\n      <td>6</td>\n    </tr>\n    <tr>\n      <th>11</th>\n      <td>11</td>\n      <td>./train/0011.jpg</td>\n      <td>1</td>\n    </tr>\n    <tr>\n      <th>18</th>\n      <td>18</td>\n      <td>./train/0018.jpg</td>\n      <td>33</td>\n    </tr>\n  </tbody>\n</table>\n</div>"
     },
     "execution_count": 11,
     "metadata": {},
     "output_type": "execute_result"
    }
   ],
   "source": [
    "val_df = val_df.sort_values(by=['id'])\n",
    "val_df.head()"
   ],
   "metadata": {
    "collapsed": false,
    "ExecuteTime": {
     "end_time": "2023-12-14T10:00:29.973442Z",
     "start_time": "2023-12-14T10:00:29.879267Z"
    }
   },
   "id": "e4849ea7a525c8cf"
  },
  {
   "cell_type": "code",
   "execution_count": 12,
   "outputs": [],
   "source": [
    "def get_data(df, infer=False):\n",
    "    if infer:\n",
    "        return df['img_path'].apply(lambda p: os.path.join(data_path, p)).values\n",
    "    return df['img_path'].apply(lambda p: os.path.join(data_path, p)).values, df['artist'].values"
   ],
   "metadata": {
    "collapsed": false,
    "ExecuteTime": {
     "end_time": "2023-12-14T10:00:29.973442Z",
     "start_time": "2023-12-14T10:00:29.894892Z"
    }
   },
   "id": "db002acff51c03bd"
  },
  {
   "cell_type": "code",
   "execution_count": 13,
   "outputs": [],
   "source": [
    "train_img_paths, train_labels = get_data(train_df)\n",
    "val_img_paths, val_labels = get_data(val_df)"
   ],
   "metadata": {
    "collapsed": false,
    "ExecuteTime": {
     "end_time": "2023-12-14T10:00:29.973442Z",
     "start_time": "2023-12-14T10:00:29.910922600Z"
    }
   },
   "id": "6a8806270c88c0be"
  },
  {
   "cell_type": "code",
   "execution_count": 14,
   "outputs": [],
   "source": [
    "from torchvision.transforms import ToTensor\n",
    "\n",
    "\n",
    "class CustomDataset(Dataset):\n",
    "    def __init__(self, img_paths, labels, transforms=None):\n",
    "        self.img_paths = img_paths\n",
    "        self.labels = labels\n",
    "        self.transforms = transforms if transforms else ToTensor()\n",
    "\n",
    "    def __getitem__(self, index):\n",
    "        img_path = self.img_paths[index]\n",
    "        image = cv2.imread(img_path)\n",
    "        image = cv2.cvtColor(image, cv2.COLOR_BGR2RGB)\n",
    "        image = self.transforms(image=image)['image']\n",
    "        \n",
    "        if self.labels is not None:\n",
    "            label = self.labels[index]\n",
    "            return image, label\n",
    "        else:\n",
    "            return image\n",
    "    \n",
    "    def __len__(self):\n",
    "        return len(self.img_paths)"
   ],
   "metadata": {
    "collapsed": false,
    "ExecuteTime": {
     "end_time": "2023-12-14T10:00:29.973442Z",
     "start_time": "2023-12-14T10:00:29.942198800Z"
    }
   },
   "id": "daa8f5c45d3e6316"
  },
  {
   "cell_type": "code",
   "execution_count": 15,
   "outputs": [],
   "source": [
    "train_transform = A.Compose([\n",
    "    A.Resize(CFG['IMG_SIZE'],CFG['IMG_SIZE']),\n",
    "    A.Transpose(p=0.5), # 행렬 스왑\n",
    "    A.HorizontalFlip(p=0.5), # 좌우 반전\n",
    "    A.VerticalFlip(p=0.5), # 상하 반전\n",
    "    A.ShiftScaleRotate(p=0.5), # 랜덤하게 옮기고, scale, 회전\n",
    "    A.HueSaturationValue(hue_shift_limit=20, sat_shift_limit=20, val_shift_limit=20, p=0.5), # 빛깔, 색조, 값 변환\n",
    "    A.RandomBrightnessContrast(brightness_limit=(-0.1,0.1), contrast_limit=(-0.1, 0.1), p=0.5), # 명도 대비\n",
    "    A.ChannelShuffle(), # RGB 채널 간 shuffle\n",
    "    A.Normalize(mean=(0.485, 0.456, 0.406), std=(0.229, 0.224, 0.225), max_pixel_value=255.0, always_apply=False, p=1.0),\n",
    "    A.CoarseDropout(p=0.5),\n",
    "    ToTensorV2()\n",
    "])\n",
    "\n",
    "test_transform = A.Compose([\n",
    "    A.Resize(CFG['IMG_SIZE'],CFG['IMG_SIZE']),\n",
    "    A.Normalize(mean=(0.485, 0.456, 0.406), std=(0.229, 0.224, 0.225), max_pixel_value=255.0, always_apply=False, p=1.0),\n",
    "    ToTensorV2()\n",
    "])"
   ],
   "metadata": {
    "collapsed": false,
    "ExecuteTime": {
     "end_time": "2023-12-14T10:00:30.007703200Z",
     "start_time": "2023-12-14T10:00:29.957804100Z"
    }
   },
   "id": "17b5b770a5fb4839"
  },
  {
   "cell_type": "code",
   "execution_count": 16,
   "outputs": [
    {
     "data": {
      "text/plain": "<torch._C.Generator at 0x27697ea1990>"
     },
     "execution_count": 16,
     "metadata": {},
     "output_type": "execute_result"
    }
   ],
   "source": [
    "def seed_worker(worker_id):\n",
    "    worker_seed = torch.initial_seed() % 2 ** 32\n",
    "    np.random.seed(worker_seed)\n",
    "    random.seed(worker_seed)\n",
    "g = torch.Generator()\n",
    "g.manual_seed(0)"
   ],
   "metadata": {
    "collapsed": false,
    "ExecuteTime": {
     "end_time": "2023-12-14T10:00:30.020707700Z",
     "start_time": "2023-12-14T10:00:29.973442Z"
    }
   },
   "id": "c69fe868589b1093"
  },
  {
   "cell_type": "code",
   "execution_count": 17,
   "outputs": [],
   "source": [
    "train_dataset = CustomDataset(train_img_paths, train_labels, train_transform)\n",
    "train_loader = DataLoader(train_dataset, batch_size = CFG['BATCH_SIZE'], shuffle=True, worker_init_fn=seed_worker, generator=g, num_workers=0)\n",
    "\n",
    "val_dataset = CustomDataset(val_img_paths, val_labels, test_transform)\n",
    "val_loader = DataLoader(val_dataset, batch_size=CFG['BATCH_SIZE'], shuffle=False, worker_init_fn=seed_worker, generator=g, num_workers=0)"
   ],
   "metadata": {
    "collapsed": false,
    "ExecuteTime": {
     "end_time": "2023-12-14T10:00:30.114869500Z",
     "start_time": "2023-12-14T10:00:29.989067100Z"
    }
   },
   "id": "3fdc1f9a44a2408e"
  },
  {
   "cell_type": "code",
   "execution_count": 18,
   "outputs": [],
   "source": [
    "class VitModel(nn.Module):\n",
    "    def __init__(self, num_classes=len(le.classes_)):\n",
    "        super(VitModel, self).__init__()\n",
    "        self.backbone = timm.create_model('tiny_vit_21m_384.dist_in22k_ft_in1k', pretrained=True, num_classes=0)\n",
    "        self.classifier = nn.Sequential(\n",
    "            nn.LeakyReLU(),\n",
    "            nn.Linear(576, num_classes)\n",
    "        )\n",
    "            \n",
    "    def forward(self, x):\n",
    "        x = self.backbone(x)\n",
    "        x = self.classifier(x)\n",
    "        return x"
   ],
   "metadata": {
    "collapsed": false,
    "ExecuteTime": {
     "end_time": "2023-12-14T10:00:30.130507900Z",
     "start_time": "2023-12-14T10:00:30.007703200Z"
    }
   },
   "id": "cd5ecc94fada5c8b"
  },
  {
   "cell_type": "code",
   "execution_count": 19,
   "outputs": [],
   "source": [
    "def clear_mem():\n",
    "    gc.collect()\n",
    "    torch.cuda.empty_cache()"
   ],
   "metadata": {
    "collapsed": false,
    "ExecuteTime": {
     "end_time": "2023-12-14T10:00:30.177380900Z",
     "start_time": "2023-12-14T10:00:30.020707700Z"
    }
   },
   "id": "ecce2baec16e71e7"
  },
  {
   "cell_type": "code",
   "execution_count": 20,
   "outputs": [],
   "source": [
    "class EarlyStopping:\n",
    "    def __init__(self, patience=10, verbose=False, delta=0):\n",
    "        self.patience = patience\n",
    "        self.verbose = verbose\n",
    "        self.counter = 0\n",
    "        self.best_score = None\n",
    "        self.early_stop = False\n",
    "        self.val_loss_min = np.Inf\n",
    "        self.delta = delta\n",
    "\n",
    "    def __call__(self, score):\n",
    "        if self.best_score is None:\n",
    "            self.best_score = score\n",
    "        elif score < self.best_score + self.delta:\n",
    "            self.counter += 1\n",
    "            print(f'EarlyStopping counter: {self.counter} out of {self.patience}')\n",
    "            print(f'Best F1 score from now: {self.best_score}')\n",
    "            if self.counter >= self.patience:\n",
    "                self.early_stop = True\n",
    "        else:\n",
    "            self.best_score = score\n",
    "            self.counter = 0\n",
    "        \n",
    "        return self.early_stop"
   ],
   "metadata": {
    "collapsed": false,
    "ExecuteTime": {
     "end_time": "2023-12-14T10:00:30.193323100Z",
     "start_time": "2023-12-14T10:00:30.036352800Z"
    }
   },
   "id": "51d7e36eb5ffba31"
  },
  {
   "cell_type": "code",
   "execution_count": 21,
   "outputs": [],
   "source": [
    "import math\n",
    "from torch.optim.lr_scheduler import LRScheduler\n",
    "\n",
    "class CosineAnnealingWarmUpRestarts(LRScheduler):\n",
    "    def __init__(self, optimizer, T_0, T_mult=1, eta_max=0.1, T_up=0, gamma=1., last_epoch=-1):\n",
    "        if T_0 <= 0 or not isinstance(T_0, int):\n",
    "            raise ValueError(\"Expected positive integer T_0, but got {}\".format(T_0))\n",
    "        if T_mult < 1 or not isinstance(T_mult, int):\n",
    "            raise ValueError(\"Expected integer T_mult >= 1, but got {}\".format(T_mult))\n",
    "        if T_up < 0 or not isinstance(T_up, int):\n",
    "            raise ValueError(\"Expected positive integer T_up, but got {}\".format(T_up))\n",
    "        self.T_0 = T_0\n",
    "        self.T_mult = T_mult\n",
    "        self.base_eta_max = eta_max\n",
    "        self.eta_max = eta_max\n",
    "        self.T_up = T_up\n",
    "        self.T_i = T_0\n",
    "        self.gamma = gamma\n",
    "        self.cycle = 0\n",
    "        self.T_cur = last_epoch\n",
    "        super(CosineAnnealingWarmUpRestarts, self).__init__(optimizer, last_epoch)\n",
    "    \n",
    "    def get_lr(self):\n",
    "        if self.T_cur == -1:\n",
    "            return self.base_lrs\n",
    "        elif self.T_cur < self.T_up:\n",
    "            return [(self.eta_max - base_lr)*self.T_cur / self.T_up + base_lr for base_lr in self.base_lrs]\n",
    "        else:\n",
    "            return [base_lr + (self.eta_max - base_lr) * (1 + math.cos(math.pi * (self.T_cur-self.T_up) / (self.T_i - self.T_up))) / 2\n",
    "                    for base_lr in self.base_lrs]\n",
    "\n",
    "    def step(self, epoch=None):\n",
    "        if epoch is None:\n",
    "            epoch = self.last_epoch + 1\n",
    "            self.T_cur = self.T_cur + 1\n",
    "            if self.T_cur >= self.T_i:\n",
    "                self.cycle += 1\n",
    "                self.T_cur = self.T_cur - self.T_i\n",
    "                self.T_i = (self.T_i - self.T_up) * self.T_mult + self.T_up\n",
    "        else:\n",
    "            if epoch >= self.T_0:\n",
    "                if self.T_mult == 1:\n",
    "                    self.T_cur = epoch % self.T_0\n",
    "                    self.cycle = epoch // self.T_0\n",
    "                else:\n",
    "                    n = int(math.log((epoch / self.T_0 * (self.T_mult - 1) + 1), self.T_mult))\n",
    "                    self.cycle = n\n",
    "                    self.T_cur = epoch - self.T_0 * (self.T_mult ** n - 1) / (self.T_mult - 1)\n",
    "                    self.T_i = self.T_0 * self.T_mult ** (n)\n",
    "            else:\n",
    "                self.T_i = self.T_0\n",
    "                self.T_cur = epoch\n",
    "                \n",
    "        self.eta_max = self.base_eta_max * (self.gamma**self.cycle)\n",
    "        self.last_epoch = math.floor(epoch)\n",
    "        for param_group, lr in zip(self.optimizer.param_groups, self.get_lr()):\n",
    "            param_group['lr'] = lr"
   ],
   "metadata": {
    "collapsed": false,
    "ExecuteTime": {
     "end_time": "2023-12-14T10:00:30.209337100Z",
     "start_time": "2023-12-14T10:00:30.051965600Z"
    }
   },
   "id": "66827c3c4d6466cd"
  },
  {
   "cell_type": "code",
   "execution_count": 22,
   "outputs": [
    {
     "name": "stdout",
     "output_type": "stream",
     "text": [
      "run_id=0\n"
     ]
    }
   ],
   "source": [
    "time_now = datetime.now()\n",
    "run_id = 0# time_now.strftime(\"%Y%m%d%H%M%S\")\n",
    "os.makedirs(os.path.join(data_path, f'./runs/{run_id}'), exist_ok=True)\n",
    "print(f'{run_id=}')"
   ],
   "metadata": {
    "collapsed": false,
    "ExecuteTime": {
     "end_time": "2023-12-14T10:00:30.209337100Z",
     "start_time": "2023-12-14T10:00:30.067593600Z"
    }
   },
   "id": "17fc703a3126967"
  },
  {
   "cell_type": "code",
   "execution_count": 23,
   "outputs": [],
   "source": [
    "def train(epoch, model, optimizer, criterion, train_loader, device, lr_scheduler=None):\n",
    "    model.train()\n",
    "    train_loss = []\n",
    "    lr_list = []\n",
    "    bar = tqdm(enumerate(train_loader), total = len(train_loader), desc='Train Loop')\n",
    "    for idx, (img, label) in bar:\n",
    "        img, label = img.float().to(device), label.long().to(device)\n",
    "        \n",
    "        optimizer.zero_grad()\n",
    "\n",
    "        model_pred = model(img)\n",
    "        loss = criterion(model_pred, label)\n",
    "\n",
    "        loss.backward()\n",
    "        if (epoch*idx)%10 == 0:\n",
    "            lr_list.append(optimizer.param_groups[0]['lr'])\n",
    "        optimizer.step()\n",
    "        train_loss.append(loss.item())\n",
    "        bar.set_postfix(train_loss = f'{loss.item():.4f}', lr = f\"{optimizer.param_groups[0]['lr']:.6f}\")\n",
    "        if lr_scheduler:\n",
    "            lr_scheduler.step()\n",
    "    return np.mean(train_loss), lr_list"
   ],
   "metadata": {
    "collapsed": false,
    "ExecuteTime": {
     "end_time": "2023-12-14T10:00:30.209337100Z",
     "start_time": "2023-12-14T10:00:30.083227Z"
    }
   },
   "id": "8837f76bd55e594f"
  },
  {
   "cell_type": "code",
   "execution_count": 24,
   "outputs": [],
   "source": [
    "def competition_metric(true, pred):\n",
    "    return f1_score(true, pred, average=\"macro\")\n",
    "\n",
    "def validation(model, criterion, test_loader, device):\n",
    "    model.eval()\n",
    "    \n",
    "    model_preds = []\n",
    "    true_labels = []\n",
    "    \n",
    "    val_loss = []\n",
    "    \n",
    "    with torch.no_grad():\n",
    "        for img, label in iter(test_loader):\n",
    "            img, label = img.float().to(device), label.long().to(device)\n",
    "            \n",
    "            model_pred = model(img)\n",
    "            \n",
    "            loss = criterion(model_pred, label)\n",
    "            \n",
    "            val_loss.append(loss.item())\n",
    "            \n",
    "            model_preds += model_pred.argmax(1).detach().cpu().numpy().tolist()\n",
    "            true_labels += label.detach().cpu().numpy().tolist()\n",
    "        \n",
    "    val_f1 = competition_metric(true_labels, model_preds)\n",
    "    return np.mean(val_loss), val_f1"
   ],
   "metadata": {
    "collapsed": false,
    "ExecuteTime": {
     "end_time": "2023-12-14T10:00:30.209337100Z",
     "start_time": "2023-12-14T10:00:30.098840400Z"
    }
   },
   "id": "6e0713601b2fa53a"
  },
  {
   "cell_type": "code",
   "execution_count": 25,
   "outputs": [],
   "source": [
    "def train_epoch(model, optimizer, train_loader, test_loader, lr_scheduler, device):\n",
    "    model.to(device)\n",
    "\n",
    "    criterion = nn.CrossEntropyLoss().to(device)\n",
    "    early_stopping = EarlyStopping(patience=CFG['PATIENCE'], verbose=True)\n",
    "    \n",
    "    best_score = 0\n",
    "    lr_list = []\n",
    "    train_loss_list, val_loss_list = [], []\n",
    "    \n",
    "    for epoch in range(1,CFG[\"EPOCHS\"]+1):\n",
    "        tr_loss, lr_ = train(epoch, model, optimizer, criterion, train_loader, device, lr_scheduler)\n",
    "        val_loss, val_score = validation(model, criterion, test_loader, device)\n",
    "        train_loss_list.append(tr_loss)\n",
    "        val_loss_list.append(val_loss)\n",
    "        \n",
    "        if lr_scheduler is not None:\n",
    "            lr_list.extend(lr_)\n",
    "            \n",
    "        if best_score < val_score:\n",
    "            print(f'**Epoch [{epoch}], Train Loss : [{tr_loss:.5f}] Val Loss : [{val_loss:.5f}] Val F1 Score : [{val_score:.5f}]')\n",
    "            best_score = val_score\n",
    "            torch.save(model, os.path.join(data_path, f'runs/{run_id}/best_model.pt'))\n",
    "        else:\n",
    "            print(f'Epoch [{epoch}], Train Loss : [{tr_loss:.5f}] Val Loss : [{val_loss:.5f}] Val F1 Score : [{val_score:.5f}]')\n",
    "        clear_mem()\n",
    "        if early_stopping(val_score):\n",
    "            print(f'Epoch [{epoch}], early stopping')\n",
    "            break\n",
    "    if lr_list:\n",
    "        return (train_loss_list, val_loss_list, lr_list)\n",
    "    else:\n",
    "        return (train_loss_list, val_loss_list, None)"
   ],
   "metadata": {
    "collapsed": false,
    "ExecuteTime": {
     "end_time": "2023-12-14T10:00:30.209337100Z",
     "start_time": "2023-12-14T10:00:30.114869500Z"
    }
   },
   "id": "533c937dd1370a10"
  },
  {
   "cell_type": "code",
   "execution_count": 26,
   "outputs": [
    {
     "name": "stdout",
     "output_type": "stream",
     "text": [
      "===============================================================================================\n",
      "Layer (type:depth-idx)                        Output Shape              Param #\n",
      "===============================================================================================\n",
      "├─TinyVit: 1-1                                [-1, 576]                 --\n",
      "|    └─PatchEmbed: 2-1                        [-1, 96, 96, 96]          --\n",
      "|    |    └─ConvNorm: 3-1                     [-1, 48, 192, 192]        1,392\n",
      "|    |    └─GELU: 3-2                         [-1, 48, 192, 192]        --\n",
      "|    |    └─ConvNorm: 3-3                     [-1, 96, 96, 96]          41,664\n",
      "|    └─Sequential: 2-2                        [-1, 576, 12, 12]         --\n",
      "|    |    └─ConvLayer: 3-4                    [-1, 96, 96, 96]          157,824\n",
      "|    |    └─TinyVitStage: 3-5                 [-1, 192, 48, 48]         953,856\n",
      "|    |    └─TinyVitStage: 3-6                 [-1, 384, 24, 24]         10,940,544\n",
      "|    |    └─TinyVitStage: 3-7                 [-1, 576, 12, 12]         8,557,056\n",
      "|    └─NormMlpClassifierHead: 2-3             [-1, 576]                 --\n",
      "|    |    └─SelectAdaptivePool2d: 3-8         [-1, 576, 1, 1]           --\n",
      "|    |    └─LayerNorm2d: 3-9                  [-1, 576, 1, 1]           1,152\n",
      "|    |    └─Flatten: 3-10                     [-1, 576]                 --\n",
      "|    |    └─Identity: 3-11                    [-1, 576]                 --\n",
      "|    |    └─Dropout: 3-12                     [-1, 576]                 --\n",
      "|    |    └─Identity: 3-13                    [-1, 576]                 --\n",
      "├─Sequential: 1-2                             [-1, 50]                  --\n",
      "|    └─LeakyReLU: 2-4                         [-1, 576]                 --\n",
      "|    └─Linear: 2-5                            [-1, 50]                  28,850\n",
      "===============================================================================================\n",
      "Total params: 20,682,338\n",
      "Trainable params: 20,682,338\n",
      "Non-trainable params: 0\n",
      "Total mult-adds (M): 512.21\n",
      "===============================================================================================\n",
      "Input size (MB): 1.69\n",
      "Forward/backward pass size (MB): 40.50\n",
      "Params size (MB): 78.90\n",
      "Estimated Total Size (MB): 121.09\n",
      "===============================================================================================\n"
     ]
    },
    {
     "data": {
      "text/plain": "===============================================================================================\nLayer (type:depth-idx)                        Output Shape              Param #\n===============================================================================================\n├─TinyVit: 1-1                                [-1, 576]                 --\n|    └─PatchEmbed: 2-1                        [-1, 96, 96, 96]          --\n|    |    └─ConvNorm: 3-1                     [-1, 48, 192, 192]        1,392\n|    |    └─GELU: 3-2                         [-1, 48, 192, 192]        --\n|    |    └─ConvNorm: 3-3                     [-1, 96, 96, 96]          41,664\n|    └─Sequential: 2-2                        [-1, 576, 12, 12]         --\n|    |    └─ConvLayer: 3-4                    [-1, 96, 96, 96]          157,824\n|    |    └─TinyVitStage: 3-5                 [-1, 192, 48, 48]         953,856\n|    |    └─TinyVitStage: 3-6                 [-1, 384, 24, 24]         10,940,544\n|    |    └─TinyVitStage: 3-7                 [-1, 576, 12, 12]         8,557,056\n|    └─NormMlpClassifierHead: 2-3             [-1, 576]                 --\n|    |    └─SelectAdaptivePool2d: 3-8         [-1, 576, 1, 1]           --\n|    |    └─LayerNorm2d: 3-9                  [-1, 576, 1, 1]           1,152\n|    |    └─Flatten: 3-10                     [-1, 576]                 --\n|    |    └─Identity: 3-11                    [-1, 576]                 --\n|    |    └─Dropout: 3-12                     [-1, 576]                 --\n|    |    └─Identity: 3-13                    [-1, 576]                 --\n├─Sequential: 1-2                             [-1, 50]                  --\n|    └─LeakyReLU: 2-4                         [-1, 576]                 --\n|    └─Linear: 2-5                            [-1, 50]                  28,850\n===============================================================================================\nTotal params: 20,682,338\nTrainable params: 20,682,338\nNon-trainable params: 0\nTotal mult-adds (M): 512.21\n===============================================================================================\nInput size (MB): 1.69\nForward/backward pass size (MB): 40.50\nParams size (MB): 78.90\nEstimated Total Size (MB): 121.09\n==============================================================================================="
     },
     "execution_count": 26,
     "metadata": {},
     "output_type": "execute_result"
    }
   ],
   "source": [
    "from torchsummary import summary\n",
    "\n",
    "model = VitModel()\n",
    "summary(model, (3,384,384))"
   ],
   "metadata": {
    "collapsed": false,
    "ExecuteTime": {
     "end_time": "2023-12-14T10:00:35.214683400Z",
     "start_time": "2023-12-14T10:00:30.130507900Z"
    }
   },
   "id": "67da3204ab03efc8"
  },
  {
   "cell_type": "code",
   "execution_count": 27,
   "outputs": [
    {
     "data": {
      "text/plain": "Train Loop:   0%|          | 0/591 [00:00<?, ?it/s]",
      "application/vnd.jupyter.widget-view+json": {
       "version_major": 2,
       "version_minor": 0,
       "model_id": "1449044df87249eaa7e832ca9d9bd9de"
      }
     },
     "metadata": {},
     "output_type": "display_data"
    },
    {
     "name": "stdout",
     "output_type": "stream",
     "text": [
      "**Epoch [1], Train Loss : [3.13555] Val Loss : [2.73292] Val F1 Score : [0.11750]\n"
     ]
    },
    {
     "data": {
      "text/plain": "Train Loop:   0%|          | 0/591 [00:00<?, ?it/s]",
      "application/vnd.jupyter.widget-view+json": {
       "version_major": 2,
       "version_minor": 0,
       "model_id": "7eede22a30aa4d5ba840c88978430824"
      }
     },
     "metadata": {},
     "output_type": "display_data"
    },
    {
     "name": "stdout",
     "output_type": "stream",
     "text": [
      "**Epoch [2], Train Loss : [2.53755] Val Loss : [2.06268] Val F1 Score : [0.25379]\n"
     ]
    },
    {
     "data": {
      "text/plain": "Train Loop:   0%|          | 0/591 [00:00<?, ?it/s]",
      "application/vnd.jupyter.widget-view+json": {
       "version_major": 2,
       "version_minor": 0,
       "model_id": "7dda36f1c559407f9bac3ee7ec741f6f"
      }
     },
     "metadata": {},
     "output_type": "display_data"
    },
    {
     "name": "stdout",
     "output_type": "stream",
     "text": [
      "**Epoch [3], Train Loss : [2.12555] Val Loss : [1.68245] Val F1 Score : [0.39906]\n"
     ]
    },
    {
     "data": {
      "text/plain": "Train Loop:   0%|          | 0/591 [00:00<?, ?it/s]",
      "application/vnd.jupyter.widget-view+json": {
       "version_major": 2,
       "version_minor": 0,
       "model_id": "3f74710c057c4a97a7d554591ac0c53e"
      }
     },
     "metadata": {},
     "output_type": "display_data"
    },
    {
     "name": "stdout",
     "output_type": "stream",
     "text": [
      "**Epoch [4], Train Loss : [1.74752] Val Loss : [1.42549] Val F1 Score : [0.48801]\n"
     ]
    },
    {
     "data": {
      "text/plain": "Train Loop:   0%|          | 0/591 [00:00<?, ?it/s]",
      "application/vnd.jupyter.widget-view+json": {
       "version_major": 2,
       "version_minor": 0,
       "model_id": "91cd1842e4fe4bb8bf0b8a9ba8c6ebad"
      }
     },
     "metadata": {},
     "output_type": "display_data"
    },
    {
     "name": "stdout",
     "output_type": "stream",
     "text": [
      "**Epoch [5], Train Loss : [1.39494] Val Loss : [1.14706] Val F1 Score : [0.56946]\n"
     ]
    },
    {
     "data": {
      "text/plain": "Train Loop:   0%|          | 0/591 [00:00<?, ?it/s]",
      "application/vnd.jupyter.widget-view+json": {
       "version_major": 2,
       "version_minor": 0,
       "model_id": "b5efcf69849c44bc823cb619a0478154"
      }
     },
     "metadata": {},
     "output_type": "display_data"
    },
    {
     "name": "stdout",
     "output_type": "stream",
     "text": [
      "**Epoch [6], Train Loss : [1.10559] Val Loss : [0.97824] Val F1 Score : [0.63997]\n"
     ]
    },
    {
     "data": {
      "text/plain": "Train Loop:   0%|          | 0/591 [00:00<?, ?it/s]",
      "application/vnd.jupyter.widget-view+json": {
       "version_major": 2,
       "version_minor": 0,
       "model_id": "cc12889153334fa0b3adfb2dea5dcbd5"
      }
     },
     "metadata": {},
     "output_type": "display_data"
    },
    {
     "name": "stdout",
     "output_type": "stream",
     "text": [
      "**Epoch [7], Train Loss : [0.84305] Val Loss : [0.85289] Val F1 Score : [0.70513]\n"
     ]
    },
    {
     "data": {
      "text/plain": "Train Loop:   0%|          | 0/591 [00:00<?, ?it/s]",
      "application/vnd.jupyter.widget-view+json": {
       "version_major": 2,
       "version_minor": 0,
       "model_id": "d066601e80234d6e9474beaa3444605b"
      }
     },
     "metadata": {},
     "output_type": "display_data"
    },
    {
     "name": "stdout",
     "output_type": "stream",
     "text": [
      "**Epoch [8], Train Loss : [0.64854] Val Loss : [0.73202] Val F1 Score : [0.75910]\n"
     ]
    },
    {
     "data": {
      "text/plain": "Train Loop:   0%|          | 0/591 [00:00<?, ?it/s]",
      "application/vnd.jupyter.widget-view+json": {
       "version_major": 2,
       "version_minor": 0,
       "model_id": "b3027f10bd8d4a7fa2e23558d74d181a"
      }
     },
     "metadata": {},
     "output_type": "display_data"
    },
    {
     "name": "stdout",
     "output_type": "stream",
     "text": [
      "Epoch [9], Train Loss : [0.53048] Val Loss : [0.71167] Val F1 Score : [0.75216]\n",
      "EarlyStopping counter: 1 out of 10\n",
      "Best F1 score from now: 0.7591003597108505\n"
     ]
    },
    {
     "data": {
      "text/plain": "Train Loop:   0%|          | 0/591 [00:00<?, ?it/s]",
      "application/vnd.jupyter.widget-view+json": {
       "version_major": 2,
       "version_minor": 0,
       "model_id": "491519708d514b119b2f6c3dc3a75bba"
      }
     },
     "metadata": {},
     "output_type": "display_data"
    },
    {
     "name": "stdout",
     "output_type": "stream",
     "text": [
      "**Epoch [10], Train Loss : [0.49287] Val Loss : [0.70454] Val F1 Score : [0.76831]\n"
     ]
    },
    {
     "data": {
      "text/plain": "Train Loop:   0%|          | 0/591 [00:00<?, ?it/s]",
      "application/vnd.jupyter.widget-view+json": {
       "version_major": 2,
       "version_minor": 0,
       "model_id": "6112448fdb2546bd89262cc7d49d6c76"
      }
     },
     "metadata": {},
     "output_type": "display_data"
    },
    {
     "name": "stdout",
     "output_type": "stream",
     "text": [
      "Epoch [11], Train Loss : [1.09674] Val Loss : [1.21879] Val F1 Score : [0.56954]\n",
      "EarlyStopping counter: 1 out of 10\n",
      "Best F1 score from now: 0.7683063606467264\n"
     ]
    },
    {
     "data": {
      "text/plain": "Train Loop:   0%|          | 0/591 [00:00<?, ?it/s]",
      "application/vnd.jupyter.widget-view+json": {
       "version_major": 2,
       "version_minor": 0,
       "model_id": "03c1320b54ea478497aeae54119fb5cb"
      }
     },
     "metadata": {},
     "output_type": "display_data"
    },
    {
     "name": "stdout",
     "output_type": "stream",
     "text": [
      "Epoch [12], Train Loss : [0.98182] Val Loss : [1.02267] Val F1 Score : [0.64922]\n",
      "EarlyStopping counter: 2 out of 10\n",
      "Best F1 score from now: 0.7683063606467264\n"
     ]
    },
    {
     "data": {
      "text/plain": "Train Loop:   0%|          | 0/591 [00:00<?, ?it/s]",
      "application/vnd.jupyter.widget-view+json": {
       "version_major": 2,
       "version_minor": 0,
       "model_id": "57e2370bc564434a9414ceb67ff952c9"
      }
     },
     "metadata": {},
     "output_type": "display_data"
    },
    {
     "name": "stdout",
     "output_type": "stream",
     "text": [
      "Epoch [13], Train Loss : [0.80075] Val Loss : [0.96766] Val F1 Score : [0.70407]\n",
      "EarlyStopping counter: 3 out of 10\n",
      "Best F1 score from now: 0.7683063606467264\n"
     ]
    },
    {
     "data": {
      "text/plain": "Train Loop:   0%|          | 0/591 [00:00<?, ?it/s]",
      "application/vnd.jupyter.widget-view+json": {
       "version_major": 2,
       "version_minor": 0,
       "model_id": "573a1e4d820b44bbae9d0ddda6817c69"
      }
     },
     "metadata": {},
     "output_type": "display_data"
    },
    {
     "name": "stdout",
     "output_type": "stream",
     "text": [
      "Epoch [14], Train Loss : [0.63978] Val Loss : [0.91870] Val F1 Score : [0.69550]\n",
      "EarlyStopping counter: 4 out of 10\n",
      "Best F1 score from now: 0.7683063606467264\n"
     ]
    },
    {
     "data": {
      "text/plain": "Train Loop:   0%|          | 0/591 [00:00<?, ?it/s]",
      "application/vnd.jupyter.widget-view+json": {
       "version_major": 2,
       "version_minor": 0,
       "model_id": "538ad8c4ebf843c6ab7b4e21eba196f3"
      }
     },
     "metadata": {},
     "output_type": "display_data"
    },
    {
     "name": "stdout",
     "output_type": "stream",
     "text": [
      "Epoch [15], Train Loss : [0.51425] Val Loss : [0.74106] Val F1 Score : [0.75033]\n",
      "EarlyStopping counter: 5 out of 10\n",
      "Best F1 score from now: 0.7683063606467264\n"
     ]
    },
    {
     "data": {
      "text/plain": "Train Loop:   0%|          | 0/591 [00:00<?, ?it/s]",
      "application/vnd.jupyter.widget-view+json": {
       "version_major": 2,
       "version_minor": 0,
       "model_id": "da50a7dd5c604c7dbdc97d1816dad4fe"
      }
     },
     "metadata": {},
     "output_type": "display_data"
    },
    {
     "name": "stdout",
     "output_type": "stream",
     "text": [
      "**Epoch [16], Train Loss : [0.35900] Val Loss : [0.72852] Val F1 Score : [0.77464]\n"
     ]
    },
    {
     "data": {
      "text/plain": "Train Loop:   0%|          | 0/591 [00:00<?, ?it/s]",
      "application/vnd.jupyter.widget-view+json": {
       "version_major": 2,
       "version_minor": 0,
       "model_id": "0797300ca86d4a4d82fce5c916a19a37"
      }
     },
     "metadata": {},
     "output_type": "display_data"
    },
    {
     "name": "stdout",
     "output_type": "stream",
     "text": [
      "**Epoch [17], Train Loss : [0.28006] Val Loss : [0.65889] Val F1 Score : [0.78807]\n"
     ]
    },
    {
     "data": {
      "text/plain": "Train Loop:   0%|          | 0/591 [00:00<?, ?it/s]",
      "application/vnd.jupyter.widget-view+json": {
       "version_major": 2,
       "version_minor": 0,
       "model_id": "4ba2b1a3d9564abfa0c1478c18dc96a3"
      }
     },
     "metadata": {},
     "output_type": "display_data"
    },
    {
     "name": "stdout",
     "output_type": "stream",
     "text": [
      "**Epoch [18], Train Loss : [0.21363] Val Loss : [0.60566] Val F1 Score : [0.80652]\n"
     ]
    },
    {
     "data": {
      "text/plain": "Train Loop:   0%|          | 0/591 [00:00<?, ?it/s]",
      "application/vnd.jupyter.widget-view+json": {
       "version_major": 2,
       "version_minor": 0,
       "model_id": "e90f98b2c0f6458c80447d330df42d78"
      }
     },
     "metadata": {},
     "output_type": "display_data"
    },
    {
     "name": "stdout",
     "output_type": "stream",
     "text": [
      "**Epoch [19], Train Loss : [0.17216] Val Loss : [0.59306] Val F1 Score : [0.81605]\n"
     ]
    },
    {
     "data": {
      "text/plain": "Train Loop:   0%|          | 0/591 [00:00<?, ?it/s]",
      "application/vnd.jupyter.widget-view+json": {
       "version_major": 2,
       "version_minor": 0,
       "model_id": "f1d5c88c8aee48d196327b542d62191f"
      }
     },
     "metadata": {},
     "output_type": "display_data"
    },
    {
     "name": "stdout",
     "output_type": "stream",
     "text": [
      "Epoch [20], Train Loss : [0.15789] Val Loss : [0.59313] Val F1 Score : [0.81360]\n",
      "EarlyStopping counter: 1 out of 10\n",
      "Best F1 score from now: 0.8160539932492425\n"
     ]
    },
    {
     "data": {
      "text/plain": "Train Loop:   0%|          | 0/591 [00:00<?, ?it/s]",
      "application/vnd.jupyter.widget-view+json": {
       "version_major": 2,
       "version_minor": 0,
       "model_id": "65a4de7172c945f9bb44fa3890991e7c"
      }
     },
     "metadata": {},
     "output_type": "display_data"
    },
    {
     "name": "stdout",
     "output_type": "stream",
     "text": [
      "Epoch [21], Train Loss : [0.55471] Val Loss : [0.87699] Val F1 Score : [0.71646]\n",
      "EarlyStopping counter: 2 out of 10\n",
      "Best F1 score from now: 0.8160539932492425\n"
     ]
    },
    {
     "data": {
      "text/plain": "Train Loop:   0%|          | 0/591 [00:00<?, ?it/s]",
      "application/vnd.jupyter.widget-view+json": {
       "version_major": 2,
       "version_minor": 0,
       "model_id": "dc592ad066604bc88d3630d5eb5d066e"
      }
     },
     "metadata": {},
     "output_type": "display_data"
    },
    {
     "name": "stdout",
     "output_type": "stream",
     "text": [
      "Epoch [22], Train Loss : [0.45181] Val Loss : [0.86060] Val F1 Score : [0.72620]\n",
      "EarlyStopping counter: 3 out of 10\n",
      "Best F1 score from now: 0.8160539932492425\n"
     ]
    },
    {
     "data": {
      "text/plain": "Train Loop:   0%|          | 0/591 [00:00<?, ?it/s]",
      "application/vnd.jupyter.widget-view+json": {
       "version_major": 2,
       "version_minor": 0,
       "model_id": "b5a0615ba5a647e8b9c96d00999eb54b"
      }
     },
     "metadata": {},
     "output_type": "display_data"
    },
    {
     "name": "stdout",
     "output_type": "stream",
     "text": [
      "Epoch [23], Train Loss : [0.37281] Val Loss : [0.79885] Val F1 Score : [0.75085]\n",
      "EarlyStopping counter: 4 out of 10\n",
      "Best F1 score from now: 0.8160539932492425\n"
     ]
    },
    {
     "data": {
      "text/plain": "Train Loop:   0%|          | 0/591 [00:00<?, ?it/s]",
      "application/vnd.jupyter.widget-view+json": {
       "version_major": 2,
       "version_minor": 0,
       "model_id": "2561855f843245f4a5fe82d0507fc35f"
      }
     },
     "metadata": {},
     "output_type": "display_data"
    },
    {
     "name": "stdout",
     "output_type": "stream",
     "text": [
      "Epoch [24], Train Loss : [0.26948] Val Loss : [0.76895] Val F1 Score : [0.76628]\n",
      "EarlyStopping counter: 5 out of 10\n",
      "Best F1 score from now: 0.8160539932492425\n"
     ]
    },
    {
     "data": {
      "text/plain": "Train Loop:   0%|          | 0/591 [00:00<?, ?it/s]",
      "application/vnd.jupyter.widget-view+json": {
       "version_major": 2,
       "version_minor": 0,
       "model_id": "3a790bad2d1e434092e0b0624c3d89a6"
      }
     },
     "metadata": {},
     "output_type": "display_data"
    },
    {
     "name": "stdout",
     "output_type": "stream",
     "text": [
      "Epoch [25], Train Loss : [0.21738] Val Loss : [0.67577] Val F1 Score : [0.78399]\n",
      "EarlyStopping counter: 6 out of 10\n",
      "Best F1 score from now: 0.8160539932492425\n"
     ]
    },
    {
     "data": {
      "text/plain": "Train Loop:   0%|          | 0/591 [00:00<?, ?it/s]",
      "application/vnd.jupyter.widget-view+json": {
       "version_major": 2,
       "version_minor": 0,
       "model_id": "8e2637312d6342e3952b6a6616e6e74a"
      }
     },
     "metadata": {},
     "output_type": "display_data"
    },
    {
     "name": "stdout",
     "output_type": "stream",
     "text": [
      "Epoch [26], Train Loss : [0.15320] Val Loss : [0.66611] Val F1 Score : [0.78211]\n",
      "EarlyStopping counter: 7 out of 10\n",
      "Best F1 score from now: 0.8160539932492425\n"
     ]
    },
    {
     "data": {
      "text/plain": "Train Loop:   0%|          | 0/591 [00:00<?, ?it/s]",
      "application/vnd.jupyter.widget-view+json": {
       "version_major": 2,
       "version_minor": 0,
       "model_id": "c5c6c6e433294ec981bfcc5f8b6c3de6"
      }
     },
     "metadata": {},
     "output_type": "display_data"
    },
    {
     "name": "stdout",
     "output_type": "stream",
     "text": [
      "Epoch [27], Train Loss : [0.09335] Val Loss : [0.62487] Val F1 Score : [0.80765]\n",
      "EarlyStopping counter: 8 out of 10\n",
      "Best F1 score from now: 0.8160539932492425\n"
     ]
    },
    {
     "data": {
      "text/plain": "Train Loop:   0%|          | 0/591 [00:00<?, ?it/s]",
      "application/vnd.jupyter.widget-view+json": {
       "version_major": 2,
       "version_minor": 0,
       "model_id": "6fda0312897f4e6ab9429cb10f1729cb"
      }
     },
     "metadata": {},
     "output_type": "display_data"
    },
    {
     "name": "stdout",
     "output_type": "stream",
     "text": [
      "Epoch [28], Train Loss : [0.08731] Val Loss : [0.61405] Val F1 Score : [0.80914]\n",
      "EarlyStopping counter: 9 out of 10\n",
      "Best F1 score from now: 0.8160539932492425\n"
     ]
    },
    {
     "data": {
      "text/plain": "Train Loop:   0%|          | 0/591 [00:00<?, ?it/s]",
      "application/vnd.jupyter.widget-view+json": {
       "version_major": 2,
       "version_minor": 0,
       "model_id": "00aecb24cba9412caa4d979239ba744a"
      }
     },
     "metadata": {},
     "output_type": "display_data"
    },
    {
     "name": "stdout",
     "output_type": "stream",
     "text": [
      "Epoch [29], Train Loss : [0.06533] Val Loss : [0.59340] Val F1 Score : [0.81186]\n",
      "EarlyStopping counter: 10 out of 10\n",
      "Best F1 score from now: 0.8160539932492425\n",
      "Epoch [29], early stopping\n"
     ]
    }
   ],
   "source": [
    "model.eval()\n",
    "optimizer = torch.optim.Adam(params = model.parameters(), lr = 1e-8)\n",
    "# lr : 10epochs 동안 0.01->0\n",
    "lr_scheduler = CosineAnnealingWarmUpRestarts(optimizer, T_0=CFG['PATIENCE']*len(train_loader), T_mult=1, eta_max=0.001, T_up=50, gamma=0.7)\n",
    "\n",
    "train_loss_list, val_loss_list, lr_list = train_epoch(model, optimizer, train_loader, val_loader, lr_scheduler, device)"
   ],
   "metadata": {
    "collapsed": false,
    "ExecuteTime": {
     "end_time": "2023-12-14T11:39:13.155482400Z",
     "start_time": "2023-12-14T10:00:35.209174600Z"
    }
   },
   "id": "e59465d8032710f4"
  },
  {
   "cell_type": "code",
   "execution_count": 28,
   "outputs": [
    {
     "data": {
      "text/plain": "<Figure size 640x480 with 1 Axes>",
      "image/png": "[encoded data removed]"
     },
     "metadata": {},
     "output_type": "display_data"
    }
   ],
   "source": [
    "sns.lineplot(train_loss_list, label='train loss')\n",
    "sns.lineplot(val_loss_list, label='validation loss')\n",
    "plt.xlabel(\"epoch\")\n",
    "plt.ylabel('loss')\n",
    "plt.title('train/validation loss')\n",
    "plt.show()"
   ],
   "metadata": {
    "collapsed": false,
    "ExecuteTime": {
     "end_time": "2023-12-14T11:39:13.377903800Z",
     "start_time": "2023-12-14T11:39:13.155482400Z"
    }
   },
   "id": "b46be9d6d827da9a"
  },
  {
   "cell_type": "code",
   "execution_count": 29,
   "outputs": [
    {
     "data": {
      "text/plain": "<Axes: >"
     },
     "execution_count": 29,
     "metadata": {},
     "output_type": "execute_result"
    },
    {
     "data": {
      "text/plain": "<Figure size 640x480 with 1 Axes>",
      "image/png": "[encoded data removed]"
     },
     "metadata": {},
     "output_type": "display_data"
    }
   ],
   "source": [
    "sns.lineplot(lr_list)"
   ],
   "metadata": {
    "collapsed": false,
    "ExecuteTime": {
     "end_time": "2023-12-14T11:39:13.534411Z",
     "start_time": "2023-12-14T11:39:13.377903800Z"
    }
   },
   "id": "10b70a182b34ab37"
  },
  {
   "cell_type": "code",
   "execution_count": 30,
   "outputs": [
    {
     "data": {
      "text/plain": "           id               img_path\n0  TEST_00000  ./test/TEST_00000.jpg\n1  TEST_00001  ./test/TEST_00001.jpg\n2  TEST_00002  ./test/TEST_00002.jpg\n3  TEST_00003  ./test/TEST_00003.jpg\n4  TEST_00004  ./test/TEST_00004.jpg",
      "text/html": "<div>\n<style scoped>\n    .dataframe tbody tr th:only-of-type {\n        vertical-align: middle;\n    }\n\n    .dataframe tbody tr th {\n        vertical-align: top;\n    }\n\n    .dataframe thead th {\n        text-align: right;\n    }\n</style>\n<table border=\"1\" class=\"dataframe\">\n  <thead>\n    <tr style=\"text-align: right;\">\n      <th></th>\n      <th>id</th>\n      <th>img_path</th>\n    </tr>\n  </thead>\n  <tbody>\n    <tr>\n      <th>0</th>\n      <td>TEST_00000</td>\n      <td>./test/TEST_00000.jpg</td>\n    </tr>\n    <tr>\n      <th>1</th>\n      <td>TEST_00001</td>\n      <td>./test/TEST_00001.jpg</td>\n    </tr>\n    <tr>\n      <th>2</th>\n      <td>TEST_00002</td>\n      <td>./test/TEST_00002.jpg</td>\n    </tr>\n    <tr>\n      <th>3</th>\n      <td>TEST_00003</td>\n      <td>./test/TEST_00003.jpg</td>\n    </tr>\n    <tr>\n      <th>4</th>\n      <td>TEST_00004</td>\n      <td>./test/TEST_00004.jpg</td>\n    </tr>\n  </tbody>\n</table>\n</div>"
     },
     "execution_count": 30,
     "metadata": {},
     "output_type": "execute_result"
    }
   ],
   "source": [
    "test_df = pd.read_csv(os.path.join(data_path, './test.csv'))\n",
    "test_df.head()"
   ],
   "metadata": {
    "collapsed": false,
    "ExecuteTime": {
     "end_time": "2023-12-14T11:39:13.596920300Z",
     "start_time": "2023-12-14T11:39:13.534411Z"
    }
   },
   "id": "9c8fff1a450556ec"
  },
  {
   "cell_type": "code",
   "execution_count": 31,
   "outputs": [],
   "source": [
    "test_img_paths = get_data(test_df, infer=True)"
   ],
   "metadata": {
    "collapsed": false,
    "ExecuteTime": {
     "end_time": "2023-12-14T11:39:13.628170300Z",
     "start_time": "2023-12-14T11:39:13.565688800Z"
    }
   },
   "id": "6a50c39d21de27ed"
  },
  {
   "cell_type": "code",
   "execution_count": 32,
   "outputs": [],
   "source": [
    "test_dataset = CustomDataset(test_img_paths, None, test_transform)\n",
    "test_loader = DataLoader(test_dataset, batch_size=CFG['BATCH_SIZE'], shuffle=False, num_workers=0)"
   ],
   "metadata": {
    "collapsed": false,
    "ExecuteTime": {
     "end_time": "2023-12-14T11:39:13.643789500Z",
     "start_time": "2023-12-14T11:39:13.612542600Z"
    }
   },
   "id": "66859c2e35131aae"
  },
  {
   "cell_type": "code",
   "execution_count": 33,
   "outputs": [],
   "source": [
    "def inference(model, test_loader, device):\n",
    "    model.to(device)\n",
    "    model.eval()\n",
    "    \n",
    "    model_preds = []\n",
    "    \n",
    "    with torch.no_grad():\n",
    "        for img in test_loader:\n",
    "            img = img.float().to(device)\n",
    "            \n",
    "            model_pred = model(img)\n",
    "            model_preds += model_pred.argmax(1).detach().cpu().numpy().tolist()\n",
    "    \n",
    "    print('Done.')\n",
    "    return model_preds"
   ],
   "metadata": {
    "collapsed": false,
    "ExecuteTime": {
     "end_time": "2023-12-14T11:39:13.753095300Z",
     "start_time": "2023-12-14T11:39:13.628170300Z"
    }
   },
   "id": "60aba723872ee62e"
  },
  {
   "cell_type": "code",
   "execution_count": 34,
   "outputs": [
    {
     "name": "stdout",
     "output_type": "stream",
     "text": [
      "CHECKPOINT LOADED: ../../data/runs/0/best_model.pt\n"
     ]
    },
    {
     "data": {
      "text/plain": "VitModel(\n  (backbone): TinyVit(\n    (patch_embed): PatchEmbed(\n      (conv1): ConvNorm(\n        (conv): Conv2d(3, 48, kernel_size=(3, 3), stride=(2, 2), padding=(1, 1), bias=False)\n        (bn): BatchNorm2d(48, eps=1e-05, momentum=0.1, affine=True, track_running_stats=True)\n      )\n      (act): GELU(approximate='none')\n      (conv2): ConvNorm(\n        (conv): Conv2d(48, 96, kernel_size=(3, 3), stride=(2, 2), padding=(1, 1), bias=False)\n        (bn): BatchNorm2d(96, eps=1e-05, momentum=0.1, affine=True, track_running_stats=True)\n      )\n    )\n    (stages): Sequential(\n      (0): ConvLayer(\n        (blocks): Sequential(\n          (0): MBConv(\n            (conv1): ConvNorm(\n              (conv): Conv2d(96, 384, kernel_size=(1, 1), stride=(1, 1), bias=False)\n              (bn): BatchNorm2d(384, eps=1e-05, momentum=0.1, affine=True, track_running_stats=True)\n            )\n            (act1): GELU(approximate='none')\n            (conv2): ConvNorm(\n              (conv): Conv2d(384, 384, kernel_size=(3, 3), stride=(1, 1), padding=(1, 1), groups=384, bias=False)\n              (bn): BatchNorm2d(384, eps=1e-05, momentum=0.1, affine=True, track_running_stats=True)\n            )\n            (act2): GELU(approximate='none')\n            (conv3): ConvNorm(\n              (conv): Conv2d(384, 96, kernel_size=(1, 1), stride=(1, 1), bias=False)\n              (bn): BatchNorm2d(96, eps=1e-05, momentum=0.1, affine=True, track_running_stats=True)\n            )\n            (act3): GELU(approximate='none')\n            (drop_path): Identity()\n          )\n          (1): MBConv(\n            (conv1): ConvNorm(\n              (conv): Conv2d(96, 384, kernel_size=(1, 1), stride=(1, 1), bias=False)\n              (bn): BatchNorm2d(384, eps=1e-05, momentum=0.1, affine=True, track_running_stats=True)\n            )\n            (act1): GELU(approximate='none')\n            (conv2): ConvNorm(\n              (conv): Conv2d(384, 384, kernel_size=(3, 3), stride=(1, 1), padding=(1, 1), groups=384, bias=False)\n              (bn): BatchNorm2d(384, eps=1e-05, momentum=0.1, affine=True, track_running_stats=True)\n            )\n            (act2): GELU(approximate='none')\n            (conv3): ConvNorm(\n              (conv): Conv2d(384, 96, kernel_size=(1, 1), stride=(1, 1), bias=False)\n              (bn): BatchNorm2d(96, eps=1e-05, momentum=0.1, affine=True, track_running_stats=True)\n            )\n            (act3): GELU(approximate='none')\n            (drop_path): DropPath(drop_prob=0.009)\n          )\n        )\n      )\n      (1): TinyVitStage(\n        dim=192, depth=2\n        (downsample): PatchMerging(\n          (conv1): ConvNorm(\n            (conv): Conv2d(96, 192, kernel_size=(1, 1), stride=(1, 1), bias=False)\n            (bn): BatchNorm2d(192, eps=1e-05, momentum=0.1, affine=True, track_running_stats=True)\n          )\n          (act1): GELU(approximate='none')\n          (conv2): ConvNorm(\n            (conv): Conv2d(192, 192, kernel_size=(3, 3), stride=(2, 2), padding=(1, 1), groups=192, bias=False)\n            (bn): BatchNorm2d(192, eps=1e-05, momentum=0.1, affine=True, track_running_stats=True)\n          )\n          (act2): GELU(approximate='none')\n          (conv3): ConvNorm(\n            (conv): Conv2d(192, 192, kernel_size=(1, 1), stride=(1, 1), bias=False)\n            (bn): BatchNorm2d(192, eps=1e-05, momentum=0.1, affine=True, track_running_stats=True)\n          )\n        )\n        (blocks): Sequential(\n          (0): TinyVitBlock(\n            dim=192, num_heads=6, window_size=12, mlp_ratio=4.0\n            (attn): Attention(\n              (norm): LayerNorm((192,), eps=1e-05, elementwise_affine=True)\n              (qkv): Linear(in_features=192, out_features=576, bias=True)\n              (proj): Linear(in_features=192, out_features=192, bias=True)\n            )\n            (drop_path1): DropPath(drop_prob=0.018)\n            (mlp): NormMlp(\n              (norm): LayerNorm((192,), eps=1e-05, elementwise_affine=True)\n              (fc1): Linear(in_features=192, out_features=768, bias=True)\n              (act): GELU(approximate='none')\n              (drop1): Dropout(p=0.0, inplace=False)\n              (fc2): Linear(in_features=768, out_features=192, bias=True)\n              (drop2): Dropout(p=0.0, inplace=False)\n            )\n            (drop_path2): DropPath(drop_prob=0.018)\n            (local_conv): ConvNorm(\n              (conv): Conv2d(192, 192, kernel_size=(3, 3), stride=(1, 1), padding=(1, 1), groups=192, bias=False)\n              (bn): BatchNorm2d(192, eps=1e-05, momentum=0.1, affine=True, track_running_stats=True)\n            )\n          )\n          (1): TinyVitBlock(\n            dim=192, num_heads=6, window_size=12, mlp_ratio=4.0\n            (attn): Attention(\n              (norm): LayerNorm((192,), eps=1e-05, elementwise_affine=True)\n              (qkv): Linear(in_features=192, out_features=576, bias=True)\n              (proj): Linear(in_features=192, out_features=192, bias=True)\n            )\n            (drop_path1): DropPath(drop_prob=0.027)\n            (mlp): NormMlp(\n              (norm): LayerNorm((192,), eps=1e-05, elementwise_affine=True)\n              (fc1): Linear(in_features=192, out_features=768, bias=True)\n              (act): GELU(approximate='none')\n              (drop1): Dropout(p=0.0, inplace=False)\n              (fc2): Linear(in_features=768, out_features=192, bias=True)\n              (drop2): Dropout(p=0.0, inplace=False)\n            )\n            (drop_path2): DropPath(drop_prob=0.027)\n            (local_conv): ConvNorm(\n              (conv): Conv2d(192, 192, kernel_size=(3, 3), stride=(1, 1), padding=(1, 1), groups=192, bias=False)\n              (bn): BatchNorm2d(192, eps=1e-05, momentum=0.1, affine=True, track_running_stats=True)\n            )\n          )\n        )\n      )\n      (2): TinyVitStage(\n        dim=384, depth=6\n        (downsample): PatchMerging(\n          (conv1): ConvNorm(\n            (conv): Conv2d(192, 384, kernel_size=(1, 1), stride=(1, 1), bias=False)\n            (bn): BatchNorm2d(384, eps=1e-05, momentum=0.1, affine=True, track_running_stats=True)\n          )\n          (act1): GELU(approximate='none')\n          (conv2): ConvNorm(\n            (conv): Conv2d(384, 384, kernel_size=(3, 3), stride=(2, 2), padding=(1, 1), groups=384, bias=False)\n            (bn): BatchNorm2d(384, eps=1e-05, momentum=0.1, affine=True, track_running_stats=True)\n          )\n          (act2): GELU(approximate='none')\n          (conv3): ConvNorm(\n            (conv): Conv2d(384, 384, kernel_size=(1, 1), stride=(1, 1), bias=False)\n            (bn): BatchNorm2d(384, eps=1e-05, momentum=0.1, affine=True, track_running_stats=True)\n          )\n        )\n        (blocks): Sequential(\n          (0): TinyVitBlock(\n            dim=384, num_heads=12, window_size=24, mlp_ratio=4.0\n            (attn): Attention(\n              (norm): LayerNorm((384,), eps=1e-05, elementwise_affine=True)\n              (qkv): Linear(in_features=384, out_features=1152, bias=True)\n              (proj): Linear(in_features=384, out_features=384, bias=True)\n            )\n            (drop_path1): DropPath(drop_prob=0.036)\n            (mlp): NormMlp(\n              (norm): LayerNorm((384,), eps=1e-05, elementwise_affine=True)\n              (fc1): Linear(in_features=384, out_features=1536, bias=True)\n              (act): GELU(approximate='none')\n              (drop1): Dropout(p=0.0, inplace=False)\n              (fc2): Linear(in_features=1536, out_features=384, bias=True)\n              (drop2): Dropout(p=0.0, inplace=False)\n            )\n            (drop_path2): DropPath(drop_prob=0.036)\n            (local_conv): ConvNorm(\n              (conv): Conv2d(384, 384, kernel_size=(3, 3), stride=(1, 1), padding=(1, 1), groups=384, bias=False)\n              (bn): BatchNorm2d(384, eps=1e-05, momentum=0.1, affine=True, track_running_stats=True)\n            )\n          )\n          (1): TinyVitBlock(\n            dim=384, num_heads=12, window_size=24, mlp_ratio=4.0\n            (attn): Attention(\n              (norm): LayerNorm((384,), eps=1e-05, elementwise_affine=True)\n              (qkv): Linear(in_features=384, out_features=1152, bias=True)\n              (proj): Linear(in_features=384, out_features=384, bias=True)\n            )\n            (drop_path1): DropPath(drop_prob=0.045)\n            (mlp): NormMlp(\n              (norm): LayerNorm((384,), eps=1e-05, elementwise_affine=True)\n              (fc1): Linear(in_features=384, out_features=1536, bias=True)\n              (act): GELU(approximate='none')\n              (drop1): Dropout(p=0.0, inplace=False)\n              (fc2): Linear(in_features=1536, out_features=384, bias=True)\n              (drop2): Dropout(p=0.0, inplace=False)\n            )\n            (drop_path2): DropPath(drop_prob=0.045)\n            (local_conv): ConvNorm(\n              (conv): Conv2d(384, 384, kernel_size=(3, 3), stride=(1, 1), padding=(1, 1), groups=384, bias=False)\n              (bn): BatchNorm2d(384, eps=1e-05, momentum=0.1, affine=True, track_running_stats=True)\n            )\n          )\n          (2): TinyVitBlock(\n            dim=384, num_heads=12, window_size=24, mlp_ratio=4.0\n            (attn): Attention(\n              (norm): LayerNorm((384,), eps=1e-05, elementwise_affine=True)\n              (qkv): Linear(in_features=384, out_features=1152, bias=True)\n              (proj): Linear(in_features=384, out_features=384, bias=True)\n            )\n            (drop_path1): DropPath(drop_prob=0.055)\n            (mlp): NormMlp(\n              (norm): LayerNorm((384,), eps=1e-05, elementwise_affine=True)\n              (fc1): Linear(in_features=384, out_features=1536, bias=True)\n              (act): GELU(approximate='none')\n              (drop1): Dropout(p=0.0, inplace=False)\n              (fc2): Linear(in_features=1536, out_features=384, bias=True)\n              (drop2): Dropout(p=0.0, inplace=False)\n            )\n            (drop_path2): DropPath(drop_prob=0.055)\n            (local_conv): ConvNorm(\n              (conv): Conv2d(384, 384, kernel_size=(3, 3), stride=(1, 1), padding=(1, 1), groups=384, bias=False)\n              (bn): BatchNorm2d(384, eps=1e-05, momentum=0.1, affine=True, track_running_stats=True)\n            )\n          )\n          (3): TinyVitBlock(\n            dim=384, num_heads=12, window_size=24, mlp_ratio=4.0\n            (attn): Attention(\n              (norm): LayerNorm((384,), eps=1e-05, elementwise_affine=True)\n              (qkv): Linear(in_features=384, out_features=1152, bias=True)\n              (proj): Linear(in_features=384, out_features=384, bias=True)\n            )\n            (drop_path1): DropPath(drop_prob=0.064)\n            (mlp): NormMlp(\n              (norm): LayerNorm((384,), eps=1e-05, elementwise_affine=True)\n              (fc1): Linear(in_features=384, out_features=1536, bias=True)\n              (act): GELU(approximate='none')\n              (drop1): Dropout(p=0.0, inplace=False)\n              (fc2): Linear(in_features=1536, out_features=384, bias=True)\n              (drop2): Dropout(p=0.0, inplace=False)\n            )\n            (drop_path2): DropPath(drop_prob=0.064)\n            (local_conv): ConvNorm(\n              (conv): Conv2d(384, 384, kernel_size=(3, 3), stride=(1, 1), padding=(1, 1), groups=384, bias=False)\n              (bn): BatchNorm2d(384, eps=1e-05, momentum=0.1, affine=True, track_running_stats=True)\n            )\n          )\n          (4): TinyVitBlock(\n            dim=384, num_heads=12, window_size=24, mlp_ratio=4.0\n            (attn): Attention(\n              (norm): LayerNorm((384,), eps=1e-05, elementwise_affine=True)\n              (qkv): Linear(in_features=384, out_features=1152, bias=True)\n              (proj): Linear(in_features=384, out_features=384, bias=True)\n            )\n            (drop_path1): DropPath(drop_prob=0.073)\n            (mlp): NormMlp(\n              (norm): LayerNorm((384,), eps=1e-05, elementwise_affine=True)\n              (fc1): Linear(in_features=384, out_features=1536, bias=True)\n              (act): GELU(approximate='none')\n              (drop1): Dropout(p=0.0, inplace=False)\n              (fc2): Linear(in_features=1536, out_features=384, bias=True)\n              (drop2): Dropout(p=0.0, inplace=False)\n            )\n            (drop_path2): DropPath(drop_prob=0.073)\n            (local_conv): ConvNorm(\n              (conv): Conv2d(384, 384, kernel_size=(3, 3), stride=(1, 1), padding=(1, 1), groups=384, bias=False)\n              (bn): BatchNorm2d(384, eps=1e-05, momentum=0.1, affine=True, track_running_stats=True)\n            )\n          )\n          (5): TinyVitBlock(\n            dim=384, num_heads=12, window_size=24, mlp_ratio=4.0\n            (attn): Attention(\n              (norm): LayerNorm((384,), eps=1e-05, elementwise_affine=True)\n              (qkv): Linear(in_features=384, out_features=1152, bias=True)\n              (proj): Linear(in_features=384, out_features=384, bias=True)\n            )\n            (drop_path1): DropPath(drop_prob=0.082)\n            (mlp): NormMlp(\n              (norm): LayerNorm((384,), eps=1e-05, elementwise_affine=True)\n              (fc1): Linear(in_features=384, out_features=1536, bias=True)\n              (act): GELU(approximate='none')\n              (drop1): Dropout(p=0.0, inplace=False)\n              (fc2): Linear(in_features=1536, out_features=384, bias=True)\n              (drop2): Dropout(p=0.0, inplace=False)\n            )\n            (drop_path2): DropPath(drop_prob=0.082)\n            (local_conv): ConvNorm(\n              (conv): Conv2d(384, 384, kernel_size=(3, 3), stride=(1, 1), padding=(1, 1), groups=384, bias=False)\n              (bn): BatchNorm2d(384, eps=1e-05, momentum=0.1, affine=True, track_running_stats=True)\n            )\n          )\n        )\n      )\n      (3): TinyVitStage(\n        dim=576, depth=2\n        (downsample): PatchMerging(\n          (conv1): ConvNorm(\n            (conv): Conv2d(384, 576, kernel_size=(1, 1), stride=(1, 1), bias=False)\n            (bn): BatchNorm2d(576, eps=1e-05, momentum=0.1, affine=True, track_running_stats=True)\n          )\n          (act1): GELU(approximate='none')\n          (conv2): ConvNorm(\n            (conv): Conv2d(576, 576, kernel_size=(3, 3), stride=(2, 2), padding=(1, 1), groups=576, bias=False)\n            (bn): BatchNorm2d(576, eps=1e-05, momentum=0.1, affine=True, track_running_stats=True)\n          )\n          (act2): GELU(approximate='none')\n          (conv3): ConvNorm(\n            (conv): Conv2d(576, 576, kernel_size=(1, 1), stride=(1, 1), bias=False)\n            (bn): BatchNorm2d(576, eps=1e-05, momentum=0.1, affine=True, track_running_stats=True)\n          )\n        )\n        (blocks): Sequential(\n          (0): TinyVitBlock(\n            dim=576, num_heads=18, window_size=12, mlp_ratio=4.0\n            (attn): Attention(\n              (norm): LayerNorm((576,), eps=1e-05, elementwise_affine=True)\n              (qkv): Linear(in_features=576, out_features=1728, bias=True)\n              (proj): Linear(in_features=576, out_features=576, bias=True)\n            )\n            (drop_path1): DropPath(drop_prob=0.091)\n            (mlp): NormMlp(\n              (norm): LayerNorm((576,), eps=1e-05, elementwise_affine=True)\n              (fc1): Linear(in_features=576, out_features=2304, bias=True)\n              (act): GELU(approximate='none')\n              (drop1): Dropout(p=0.0, inplace=False)\n              (fc2): Linear(in_features=2304, out_features=576, bias=True)\n              (drop2): Dropout(p=0.0, inplace=False)\n            )\n            (drop_path2): DropPath(drop_prob=0.091)\n            (local_conv): ConvNorm(\n              (conv): Conv2d(576, 576, kernel_size=(3, 3), stride=(1, 1), padding=(1, 1), groups=576, bias=False)\n              (bn): BatchNorm2d(576, eps=1e-05, momentum=0.1, affine=True, track_running_stats=True)\n            )\n          )\n          (1): TinyVitBlock(\n            dim=576, num_heads=18, window_size=12, mlp_ratio=4.0\n            (attn): Attention(\n              (norm): LayerNorm((576,), eps=1e-05, elementwise_affine=True)\n              (qkv): Linear(in_features=576, out_features=1728, bias=True)\n              (proj): Linear(in_features=576, out_features=576, bias=True)\n            )\n            (drop_path1): DropPath(drop_prob=0.100)\n            (mlp): NormMlp(\n              (norm): LayerNorm((576,), eps=1e-05, elementwise_affine=True)\n              (fc1): Linear(in_features=576, out_features=2304, bias=True)\n              (act): GELU(approximate='none')\n              (drop1): Dropout(p=0.0, inplace=False)\n              (fc2): Linear(in_features=2304, out_features=576, bias=True)\n              (drop2): Dropout(p=0.0, inplace=False)\n            )\n            (drop_path2): DropPath(drop_prob=0.100)\n            (local_conv): ConvNorm(\n              (conv): Conv2d(576, 576, kernel_size=(3, 3), stride=(1, 1), padding=(1, 1), groups=576, bias=False)\n              (bn): BatchNorm2d(576, eps=1e-05, momentum=0.1, affine=True, track_running_stats=True)\n            )\n          )\n        )\n      )\n    )\n    (head): NormMlpClassifierHead(\n      (global_pool): SelectAdaptivePool2d(pool_type=avg, flatten=Identity())\n      (norm): LayerNorm2d((576,), eps=1e-05, elementwise_affine=True)\n      (flatten): Flatten(start_dim=1, end_dim=-1)\n      (pre_logits): Identity()\n      (drop): Dropout(p=0.0, inplace=False)\n      (fc): Identity()\n    )\n  )\n  (classifier): Sequential(\n    (0): LeakyReLU(negative_slope=0.01)\n    (1): Linear(in_features=576, out_features=50, bias=True)\n  )\n)"
     },
     "execution_count": 34,
     "metadata": {},
     "output_type": "execute_result"
    }
   ],
   "source": [
    "checkpoint = os.path.join(data_path, f'runs/{run_id}/best_model.pt')\n",
    "print(f'CHECKPOINT LOADED: {checkpoint}')\n",
    "infer_model = torch.load(checkpoint)\n",
    "infer_model.to(device)\n",
    "infer_model.eval()"
   ],
   "metadata": {
    "collapsed": false,
    "ExecuteTime": {
     "end_time": "2023-12-14T11:39:13.839319600Z",
     "start_time": "2023-12-14T11:39:13.643789500Z"
    }
   },
   "id": "605d913e0df9b6"
  },
  {
   "cell_type": "code",
   "execution_count": 35,
   "outputs": [
    {
     "name": "stdout",
     "output_type": "stream",
     "text": [
      "Done.\n"
     ]
    }
   ],
   "source": [
    "preds = inference(infer_model, test_loader, device)"
   ],
   "metadata": {
    "collapsed": false,
    "ExecuteTime": {
     "end_time": "2023-12-14T11:41:53.919326700Z",
     "start_time": "2023-12-14T11:39:13.823703400Z"
    }
   },
   "id": "9df29cbb4653101f"
  },
  {
   "cell_type": "code",
   "execution_count": 36,
   "outputs": [],
   "source": [
    "preds = le.inverse_transform(preds)"
   ],
   "metadata": {
    "collapsed": false,
    "ExecuteTime": {
     "end_time": "2023-12-14T11:41:53.934939400Z",
     "start_time": "2023-12-14T11:41:53.919326700Z"
    }
   },
   "id": "37b7f04a0b4de44f"
  },
  {
   "cell_type": "code",
   "execution_count": 37,
   "outputs": [],
   "source": [
    "submit = pd.read_csv(os.path.join(data_path, './sample_submission.csv'))"
   ],
   "metadata": {
    "collapsed": false,
    "ExecuteTime": {
     "end_time": "2023-12-14T11:41:53.997451900Z",
     "start_time": "2023-12-14T11:41:53.934939400Z"
    }
   },
   "id": "fe59292099a9b96e"
  },
  {
   "cell_type": "code",
   "execution_count": 38,
   "outputs": [],
   "source": [
    "submit['artist'] = preds"
   ],
   "metadata": {
    "collapsed": false,
    "ExecuteTime": {
     "end_time": "2023-12-14T11:41:53.997451900Z",
     "start_time": "2023-12-14T11:41:53.966201700Z"
    }
   },
   "id": "8582475a6cb3db6f"
  },
  {
   "cell_type": "code",
   "execution_count": 39,
   "outputs": [
    {
     "data": {
      "text/plain": "           id             artist\n0  TEST_00000       Gustav Klimt\n1  TEST_00001   Vincent van Gogh\n2  TEST_00002  Leonardo da Vinci\n3  TEST_00003    Albrecht Du rer\n4  TEST_00004        Frida Kahlo",
      "text/html": "<div>\n<style scoped>\n    .dataframe tbody tr th:only-of-type {\n        vertical-align: middle;\n    }\n\n    .dataframe tbody tr th {\n        vertical-align: top;\n    }\n\n    .dataframe thead th {\n        text-align: right;\n    }\n</style>\n<table border=\"1\" class=\"dataframe\">\n  <thead>\n    <tr style=\"text-align: right;\">\n      <th></th>\n      <th>id</th>\n      <th>artist</th>\n    </tr>\n  </thead>\n  <tbody>\n    <tr>\n      <th>0</th>\n      <td>TEST_00000</td>\n      <td>Gustav Klimt</td>\n    </tr>\n    <tr>\n      <th>1</th>\n      <td>TEST_00001</td>\n      <td>Vincent van Gogh</td>\n    </tr>\n    <tr>\n      <th>2</th>\n      <td>TEST_00002</td>\n      <td>Leonardo da Vinci</td>\n    </tr>\n    <tr>\n      <th>3</th>\n      <td>TEST_00003</td>\n      <td>Albrecht Du rer</td>\n    </tr>\n    <tr>\n      <th>4</th>\n      <td>TEST_00004</td>\n      <td>Frida Kahlo</td>\n    </tr>\n  </tbody>\n</table>\n</div>"
     },
     "execution_count": 39,
     "metadata": {},
     "output_type": "execute_result"
    }
   ],
   "source": [
    "submit.head()"
   ],
   "metadata": {
    "collapsed": false,
    "ExecuteTime": {
     "end_time": "2023-12-14T11:41:53.997451900Z",
     "start_time": "2023-12-14T11:41:53.981814200Z"
    }
   },
   "id": "15bd98c5d6b59bf4"
  },
  {
   "cell_type": "code",
   "execution_count": 40,
   "outputs": [],
   "source": [
    "submit.to_csv(os.path.join(data_path, './submit.csv'), index=False)"
   ],
   "metadata": {
    "collapsed": false,
    "ExecuteTime": {
     "end_time": "2023-12-14T11:41:54.031271600Z",
     "start_time": "2023-12-14T11:41:53.997451900Z"
    }
   },
   "id": "eed3cb0dc59f47f7"
  },
  {
   "cell_type": "code",
   "execution_count": 40,
   "outputs": [],
   "source": [],
   "metadata": {
    "collapsed": false,
    "ExecuteTime": {
     "end_time": "2023-12-14T11:41:54.071680700Z",
     "start_time": "2023-12-14T11:41:54.031271600Z"
    }
   },
   "id": "d3ed2b836c4e558b"
  }
 ],
 "metadata": {
  "kernelspec": {
   "display_name": "Python 3",
   "language": "python",
   "name": "python3"
  },
  "language_info": {
   "codemirror_mode": {
    "name": "ipython",
    "version": 2
   },
   "file_extension": ".py",
   "mimetype": "text/x-python",
   "name": "python",
   "nbconvert_exporter": "python",
   "pygments_lexer": "ipython2",
   "version": "2.7.6"
  }
 },
 "nbformat": 4,
 "nbformat_minor": 5
}
