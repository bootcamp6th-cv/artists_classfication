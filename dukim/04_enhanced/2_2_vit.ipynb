{
 "cells": [
  {
   "cell_type": "markdown",
   "source": [
    "# augmentation\n",
    "* vit model 적용\n",
    "    - tiny_vit_21m_384.dist_in22k_ft_in1k\n",
    "    - layernorm\n",
    "    - dropout\n",
    "* Augmentation\n",
    "    - Transpose # 행렬 스왑\n",
    "    - HorizontalFlip # 좌우 반전\n",
    "    - VerticalFlip # 상하 반전\n",
    "    - ShiftScaleRotate # 랜덤하게 옮기고, scale, 회전\n",
    "    - HueSaturationValue # 빛깔, 색조, 값 변환\n",
    "    - RandomBrightnessContrast # 명도 대비\n",
    "    - ChannelShuffle # RGB 채널 간 shuffle\n",
    "* lr scheduler\n",
    "    - Custom CosineAnnealingWarmUpRestarts\n",
    "* result\n",
    "    - train loss : 0.2807\n",
    "    - validation loss : 0.5802\n",
    "    - f1 score : 0.8129\n",
    "    - epoch : 42"
   ],
   "metadata": {
    "collapsed": false
   },
   "id": "35ad6a7e30f8925e"
  },
  {
   "cell_type": "code",
   "execution_count": 1,
   "outputs": [],
   "source": [
    "import gc\n",
    "import os\n",
    "import random\n",
    "from datetime import datetime\n",
    "\n",
    "import pandas as pd\n",
    "import numpy as np\n",
    "import matplotlib.pyplot as plt\n",
    "import seaborn as sns\n",
    "import cv2\n",
    "\n",
    "from sklearn import preprocessing\n",
    "from sklearn.model_selection import train_test_split\n",
    "from sklearn.metrics import f1_score\n",
    "\n",
    "import torch\n",
    "import torch.nn as nn\n",
    "import torch.optim as optim\n",
    "import torch.nn.functional as F\n",
    "from torch.utils.data import Dataset, DataLoader\n",
    "\n",
    "from tqdm.auto import tqdm\n",
    "\n",
    "import albumentations as A\n",
    "from albumentations.pytorch.transforms import ToTensorV2\n",
    "\n",
    "import timm\n",
    "\n",
    "import warnings\n",
    "warnings.filterwarnings(action='ignore') "
   ],
   "metadata": {
    "collapsed": false,
    "ExecuteTime": {
     "end_time": "2023-12-16T07:53:27.078095200Z",
     "start_time": "2023-12-16T07:53:24.223495200Z"
    }
   },
   "id": "initial_id"
  },
  {
   "cell_type": "code",
   "execution_count": 2,
   "outputs": [],
   "source": [
    "device = torch.device('cuda') if torch.cuda.is_available() else torch.device('cpu')"
   ],
   "metadata": {
    "collapsed": false,
    "ExecuteTime": {
     "end_time": "2023-12-16T07:53:27.126554100Z",
     "start_time": "2023-12-16T07:53:27.110842700Z"
    }
   },
   "id": "5fc1ff58a4a9d6d1"
  },
  {
   "cell_type": "code",
   "execution_count": 3,
   "outputs": [],
   "source": [
    "CFG = {\n",
    "    'IMG_SIZE': 260,\n",
    "    'EPOCHS': 1000,\n",
    "    'LEARNING_RATE': 1e-6,\n",
    "    'BATCH_SIZE': 16,\n",
    "    'PATIENCE': 10,\n",
    "    'WARMUP': 5,\n",
    "    'FILENAME': 'tiny_vit',\n",
    "    'SEED': 6\n",
    "}"
   ],
   "metadata": {
    "collapsed": false,
    "ExecuteTime": {
     "end_time": "2023-12-16T07:53:27.142118800Z",
     "start_time": "2023-12-16T07:53:27.126554100Z"
    }
   },
   "id": "5c99354cb0d52004"
  },
  {
   "cell_type": "code",
   "execution_count": 4,
   "outputs": [],
   "source": [
    "def seed_everything(seed):\n",
    "    random.seed(seed)\n",
    "    os.environ['PYTHONHASHSEED'] = str(seed)\n",
    "    np.random.seed(seed)\n",
    "    torch.manual_seed(seed)\n",
    "    torch.cuda.manual_seed(seed)\n",
    "    torch.cuda.manual_seed_all(seed)\n",
    "    torch.backends.cudnn.deterministic = True\n",
    "    torch.backends.cudnn.benchmark = False\n",
    "\n",
    "seed_everything(CFG['SEED']) # Seed 고정"
   ],
   "metadata": {
    "collapsed": false,
    "ExecuteTime": {
     "end_time": "2023-12-16T07:53:27.162593500Z",
     "start_time": "2023-12-16T07:53:27.146478600Z"
    }
   },
   "id": "57142b16a76126df"
  },
  {
   "cell_type": "code",
   "execution_count": 5,
   "outputs": [],
   "source": [
    "running_colab = 'google.colab' in str(get_ipython()) if hasattr(__builtins__,'__IPYTHON__') else False\n",
    "if running_colab:\n",
    "    from google.colab import drive\n",
    "    drive.mount('/content/drive')\n",
    "if running_colab:\n",
    "    data_path = '/content/drive/MyDrive/Colab Notebooks/ai6th/data/optiver/'\n",
    "else:\n",
    "    data_path = '../../data/'"
   ],
   "metadata": {
    "collapsed": false,
    "ExecuteTime": {
     "end_time": "2023-12-16T07:53:27.178225300Z",
     "start_time": "2023-12-16T07:53:27.162593500Z"
    }
   },
   "id": "858b421c8c479378"
  },
  {
   "cell_type": "code",
   "execution_count": 6,
   "outputs": [
    {
     "data": {
      "text/plain": "   id          img_path            artist\n0   0  ./train/0000.jpg   Diego Velazquez\n1   1  ./train/0001.jpg  Vincent van Gogh\n2   2  ./train/0002.jpg      Claude Monet\n3   3  ./train/0003.jpg       Edgar Degas\n4   4  ./train/0004.jpg  Hieronymus Bosch",
      "text/html": "<div>\n<style scoped>\n    .dataframe tbody tr th:only-of-type {\n        vertical-align: middle;\n    }\n\n    .dataframe tbody tr th {\n        vertical-align: top;\n    }\n\n    .dataframe thead th {\n        text-align: right;\n    }\n</style>\n<table border=\"1\" class=\"dataframe\">\n  <thead>\n    <tr style=\"text-align: right;\">\n      <th></th>\n      <th>id</th>\n      <th>img_path</th>\n      <th>artist</th>\n    </tr>\n  </thead>\n  <tbody>\n    <tr>\n      <th>0</th>\n      <td>0</td>\n      <td>./train/0000.jpg</td>\n      <td>Diego Velazquez</td>\n    </tr>\n    <tr>\n      <th>1</th>\n      <td>1</td>\n      <td>./train/0001.jpg</td>\n      <td>Vincent van Gogh</td>\n    </tr>\n    <tr>\n      <th>2</th>\n      <td>2</td>\n      <td>./train/0002.jpg</td>\n      <td>Claude Monet</td>\n    </tr>\n    <tr>\n      <th>3</th>\n      <td>3</td>\n      <td>./train/0003.jpg</td>\n      <td>Edgar Degas</td>\n    </tr>\n    <tr>\n      <th>4</th>\n      <td>4</td>\n      <td>./train/0004.jpg</td>\n      <td>Hieronymus Bosch</td>\n    </tr>\n  </tbody>\n</table>\n</div>"
     },
     "execution_count": 6,
     "metadata": {},
     "output_type": "execute_result"
    }
   ],
   "source": [
    "df = pd.read_csv(os.path.join(data_path, 'train.csv'))\n",
    "df.loc[3896, 'artist'] = 'Titian'\n",
    "df.loc[3986, 'artist'] = 'Alfred Sisley'\n",
    "df.head()"
   ],
   "metadata": {
    "collapsed": false,
    "ExecuteTime": {
     "end_time": "2023-12-16T07:53:27.209474800Z",
     "start_time": "2023-12-16T07:53:27.178225300Z"
    }
   },
   "id": "60ed6dfb973bafc5"
  },
  {
   "cell_type": "code",
   "execution_count": 7,
   "outputs": [],
   "source": [
    "artists = df.groupby('artist')[['id']].count().rename(columns={'id':'count'}).reset_index()"
   ],
   "metadata": {
    "collapsed": false,
    "ExecuteTime": {
     "end_time": "2023-12-16T07:53:27.225105400Z",
     "start_time": "2023-12-16T07:53:27.209474800Z"
    }
   },
   "id": "c031773f1ed5ca85"
  },
  {
   "cell_type": "code",
   "execution_count": 8,
   "outputs": [],
   "source": [
    "# Label Encoding\n",
    "le = preprocessing.LabelEncoder()\n",
    "df['artist'] = le.fit_transform(df['artist'].values)"
   ],
   "metadata": {
    "collapsed": false,
    "ExecuteTime": {
     "end_time": "2023-12-16T07:53:27.271981Z",
     "start_time": "2023-12-16T07:53:27.225105400Z"
    }
   },
   "id": "2ae8b183518c9394"
  },
  {
   "cell_type": "code",
   "execution_count": 9,
   "outputs": [],
   "source": [
    "train_df, val_df = train_test_split(df, test_size=0.2, random_state=CFG['SEED'])"
   ],
   "metadata": {
    "collapsed": false,
    "ExecuteTime": {
     "end_time": "2023-12-16T07:53:27.303252600Z",
     "start_time": "2023-12-16T07:53:27.240725500Z"
    }
   },
   "id": "71c56b6890f87998"
  },
  {
   "cell_type": "code",
   "execution_count": 10,
   "outputs": [
    {
     "data": {
      "text/plain": "   id          img_path  artist\n0   0  ./train/0000.jpg       9\n1   1  ./train/0001.jpg      48\n3   3  ./train/0003.jpg      10\n4   4  ./train/0004.jpg      24\n6   6  ./train/0006.jpg      43",
      "text/html": "<div>\n<style scoped>\n    .dataframe tbody tr th:only-of-type {\n        vertical-align: middle;\n    }\n\n    .dataframe tbody tr th {\n        vertical-align: top;\n    }\n\n    .dataframe thead th {\n        text-align: right;\n    }\n</style>\n<table border=\"1\" class=\"dataframe\">\n  <thead>\n    <tr style=\"text-align: right;\">\n      <th></th>\n      <th>id</th>\n      <th>img_path</th>\n      <th>artist</th>\n    </tr>\n  </thead>\n  <tbody>\n    <tr>\n      <th>0</th>\n      <td>0</td>\n      <td>./train/0000.jpg</td>\n      <td>9</td>\n    </tr>\n    <tr>\n      <th>1</th>\n      <td>1</td>\n      <td>./train/0001.jpg</td>\n      <td>48</td>\n    </tr>\n    <tr>\n      <th>3</th>\n      <td>3</td>\n      <td>./train/0003.jpg</td>\n      <td>10</td>\n    </tr>\n    <tr>\n      <th>4</th>\n      <td>4</td>\n      <td>./train/0004.jpg</td>\n      <td>24</td>\n    </tr>\n    <tr>\n      <th>6</th>\n      <td>6</td>\n      <td>./train/0006.jpg</td>\n      <td>43</td>\n    </tr>\n  </tbody>\n</table>\n</div>"
     },
     "execution_count": 10,
     "metadata": {},
     "output_type": "execute_result"
    }
   ],
   "source": [
    "train_df = train_df.sort_values(by=['id'])\n",
    "train_df.head()"
   ],
   "metadata": {
    "collapsed": false,
    "ExecuteTime": {
     "end_time": "2023-12-16T07:53:27.318862600Z",
     "start_time": "2023-12-16T07:53:27.256350100Z"
    }
   },
   "id": "3146f5ea6c5ce2c4"
  },
  {
   "cell_type": "code",
   "execution_count": 11,
   "outputs": [
    {
     "data": {
      "text/plain": "    id          img_path  artist\n2    2  ./train/0002.jpg       7\n5    5  ./train/0005.jpg      38\n10  10  ./train/0010.jpg       6\n11  11  ./train/0011.jpg       1\n18  18  ./train/0018.jpg      33",
      "text/html": "<div>\n<style scoped>\n    .dataframe tbody tr th:only-of-type {\n        vertical-align: middle;\n    }\n\n    .dataframe tbody tr th {\n        vertical-align: top;\n    }\n\n    .dataframe thead th {\n        text-align: right;\n    }\n</style>\n<table border=\"1\" class=\"dataframe\">\n  <thead>\n    <tr style=\"text-align: right;\">\n      <th></th>\n      <th>id</th>\n      <th>img_path</th>\n      <th>artist</th>\n    </tr>\n  </thead>\n  <tbody>\n    <tr>\n      <th>2</th>\n      <td>2</td>\n      <td>./train/0002.jpg</td>\n      <td>7</td>\n    </tr>\n    <tr>\n      <th>5</th>\n      <td>5</td>\n      <td>./train/0005.jpg</td>\n      <td>38</td>\n    </tr>\n    <tr>\n      <th>10</th>\n      <td>10</td>\n      <td>./train/0010.jpg</td>\n      <td>6</td>\n    </tr>\n    <tr>\n      <th>11</th>\n      <td>11</td>\n      <td>./train/0011.jpg</td>\n      <td>1</td>\n    </tr>\n    <tr>\n      <th>18</th>\n      <td>18</td>\n      <td>./train/0018.jpg</td>\n      <td>33</td>\n    </tr>\n  </tbody>\n</table>\n</div>"
     },
     "execution_count": 11,
     "metadata": {},
     "output_type": "execute_result"
    }
   ],
   "source": [
    "val_df = val_df.sort_values(by=['id'])\n",
    "val_df.head()"
   ],
   "metadata": {
    "collapsed": false,
    "ExecuteTime": {
     "end_time": "2023-12-16T07:53:27.350901200Z",
     "start_time": "2023-12-16T07:53:27.271981Z"
    }
   },
   "id": "e4849ea7a525c8cf"
  },
  {
   "cell_type": "code",
   "execution_count": 12,
   "outputs": [],
   "source": [
    "def get_data(df, infer=False):\n",
    "    if infer:\n",
    "        return df['img_path'].apply(lambda p: os.path.join(data_path, p)).values\n",
    "    return df['img_path'].apply(lambda p: os.path.join(data_path, p)).values, df['artist'].values"
   ],
   "metadata": {
    "collapsed": false,
    "ExecuteTime": {
     "end_time": "2023-12-16T07:53:27.366533200Z",
     "start_time": "2023-12-16T07:53:27.287611900Z"
    }
   },
   "id": "db002acff51c03bd"
  },
  {
   "cell_type": "code",
   "execution_count": 13,
   "outputs": [],
   "source": [
    "train_img_paths, train_labels = get_data(train_df)\n",
    "val_img_paths, val_labels = get_data(val_df)"
   ],
   "metadata": {
    "collapsed": false,
    "ExecuteTime": {
     "end_time": "2023-12-16T07:53:27.398189Z",
     "start_time": "2023-12-16T07:53:27.303252600Z"
    }
   },
   "id": "6a8806270c88c0be"
  },
  {
   "cell_type": "code",
   "execution_count": 14,
   "outputs": [],
   "source": [
    "from torchvision.transforms import ToTensor\n",
    "\n",
    "\n",
    "class CustomDataset(Dataset):\n",
    "    def __init__(self, img_paths, labels, transforms=None):\n",
    "        self.img_paths = img_paths\n",
    "        self.labels = labels\n",
    "        self.transforms = transforms if transforms else ToTensor()\n",
    "\n",
    "    def __getitem__(self, index):\n",
    "        img_path = self.img_paths[index]\n",
    "        image = cv2.imread(img_path)\n",
    "        image = cv2.cvtColor(image, cv2.COLOR_BGR2RGB)\n",
    "        image = self.transforms(image=image)['image']\n",
    "        \n",
    "        if self.labels is not None:\n",
    "            label = self.labels[index]\n",
    "            return image, label\n",
    "        else:\n",
    "            return image\n",
    "    \n",
    "    def __len__(self):\n",
    "        return len(self.img_paths)"
   ],
   "metadata": {
    "collapsed": false,
    "ExecuteTime": {
     "end_time": "2023-12-16T07:53:27.413832900Z",
     "start_time": "2023-12-16T07:53:27.339192800Z"
    }
   },
   "id": "daa8f5c45d3e6316"
  },
  {
   "cell_type": "code",
   "execution_count": 15,
   "outputs": [],
   "source": [
    "train_transform = A.Compose([\n",
    "    A.Resize(CFG['IMG_SIZE']*2,CFG['IMG_SIZE']*2),\n",
    "    A.RandomCrop(CFG['IMG_SIZE'],CFG['IMG_SIZE']),\n",
    "    A.Transpose(p=0.5), # 행렬 스왑\n",
    "    A.HorizontalFlip(p=0.5), # 좌우 반전\n",
    "    A.VerticalFlip(p=0.5), # 상하 반전\n",
    "    A.ShiftScaleRotate(p=0.5), # 랜덤하게 옮기고, scale, 회전\n",
    "    A.HueSaturationValue(hue_shift_limit=20, sat_shift_limit=20, val_shift_limit=20, p=0.5), # 빛깔, 색조, 값 변환\n",
    "    A.RandomBrightnessContrast(brightness_limit=(-0.1,0.1), contrast_limit=(-0.1, 0.1), p=0.5), # 명도 대비\n",
    "    A.ChannelShuffle(), # RGB 채널 간 shuffle\n",
    "    A.Normalize(mean=(0.485, 0.456, 0.406), std=(0.229, 0.224, 0.225), max_pixel_value=255.0, always_apply=False, p=1.0),\n",
    "    ToTensorV2()\n",
    "])\n",
    "\n",
    "validation_transform = A.Compose([\n",
    "    A.Resize(CFG['IMG_SIZE']*2,CFG['IMG_SIZE']*2),\n",
    "    A.RandomCrop(CFG['IMG_SIZE'],CFG['IMG_SIZE']),\n",
    "    A.Normalize(mean=(0.485, 0.456, 0.406), std=(0.229, 0.224, 0.225), max_pixel_value=255.0, always_apply=False, p=1.0),\n",
    "    ToTensorV2()\n",
    "])\n",
    "\n",
    "test_transform = A.Compose([\n",
    "    A.Resize(CFG['IMG_SIZE'],CFG['IMG_SIZE']),\n",
    "    A.Normalize(mean=(0.485, 0.456, 0.406), std=(0.229, 0.224, 0.225), max_pixel_value=255.0, always_apply=False, p=1.0),\n",
    "    ToTensorV2()\n",
    "])"
   ],
   "metadata": {
    "collapsed": false,
    "ExecuteTime": {
     "end_time": "2023-12-16T07:53:27.476558200Z",
     "start_time": "2023-12-16T07:53:27.350901200Z"
    }
   },
   "id": "17b5b770a5fb4839"
  },
  {
   "cell_type": "code",
   "execution_count": 16,
   "outputs": [
    {
     "data": {
      "text/plain": "<torch._C.Generator at 0x21944fb0c10>"
     },
     "execution_count": 16,
     "metadata": {},
     "output_type": "execute_result"
    }
   ],
   "source": [
    "def seed_worker(worker_id):\n",
    "    worker_seed = torch.initial_seed() % 2 ** 32\n",
    "    np.random.seed(worker_seed)\n",
    "    random.seed(worker_seed)\n",
    "g = torch.Generator()\n",
    "g.manual_seed(0)"
   ],
   "metadata": {
    "collapsed": false,
    "ExecuteTime": {
     "end_time": "2023-12-16T07:53:27.476558200Z",
     "start_time": "2023-12-16T07:53:27.366533200Z"
    }
   },
   "id": "c69fe868589b1093"
  },
  {
   "cell_type": "code",
   "execution_count": 17,
   "outputs": [],
   "source": [
    "train_dataset = CustomDataset(train_img_paths, train_labels, train_transform)\n",
    "train_loader = DataLoader(train_dataset, batch_size = CFG['BATCH_SIZE'], shuffle=True, worker_init_fn=seed_worker, generator=g, num_workers=0)\n",
    "\n",
    "val_dataset = CustomDataset(val_img_paths, val_labels, validation_transform)\n",
    "val_loader = DataLoader(val_dataset, batch_size=CFG['BATCH_SIZE'], shuffle=False, worker_init_fn=seed_worker, generator=g, num_workers=0)"
   ],
   "metadata": {
    "collapsed": false,
    "ExecuteTime": {
     "end_time": "2023-12-16T07:53:27.476558200Z",
     "start_time": "2023-12-16T07:53:27.382557900Z"
    }
   },
   "id": "3fdc1f9a44a2408e"
  },
  {
   "cell_type": "code",
   "execution_count": 18,
   "outputs": [],
   "source": [
    "class VitModel(nn.Module):\n",
    "    def __init__(self, num_classes=len(le.classes_)):\n",
    "        super(VitModel, self).__init__()\n",
    "        self.backbone = timm.create_model('tiny_vit_21m_384.dist_in22k_ft_in1k', pretrained=True, num_classes=0)\n",
    "        self.classifier = nn.Sequential(\n",
    "            nn.LayerNorm(576),\n",
    "            nn.LeakyReLU(),\n",
    "            nn.Dropout(p=0.5),\n",
    "            nn.Linear(576, num_classes)\n",
    "        )\n",
    "            \n",
    "    def forward(self, x):\n",
    "        x = self.backbone(x)\n",
    "        x = self.classifier(x)\n",
    "        return x"
   ],
   "metadata": {
    "collapsed": false,
    "ExecuteTime": {
     "end_time": "2023-12-16T07:53:27.507814Z",
     "start_time": "2023-12-16T07:53:27.398189Z"
    }
   },
   "id": "cd5ecc94fada5c8b"
  },
  {
   "cell_type": "code",
   "execution_count": 19,
   "outputs": [],
   "source": [
    "def clear_mem():\n",
    "    gc.collect()\n",
    "    torch.cuda.empty_cache()"
   ],
   "metadata": {
    "collapsed": false,
    "ExecuteTime": {
     "end_time": "2023-12-16T07:53:27.507814Z",
     "start_time": "2023-12-16T07:53:27.413832900Z"
    }
   },
   "id": "ecce2baec16e71e7"
  },
  {
   "cell_type": "code",
   "execution_count": 20,
   "outputs": [],
   "source": [
    "class EarlyStopping:\n",
    "    def __init__(self, patience=10, verbose=False, delta=0):\n",
    "        self.patience = patience\n",
    "        self.verbose = verbose\n",
    "        self.counter = 0\n",
    "        self.best_score = None\n",
    "        self.early_stop = False\n",
    "        self.val_loss_min = np.Inf\n",
    "        self.delta = delta\n",
    "\n",
    "    def __call__(self, score):\n",
    "        if self.best_score is None:\n",
    "            self.best_score = score\n",
    "        elif score < self.best_score + self.delta:\n",
    "            self.counter += 1\n",
    "            print(f'EarlyStopping counter: {self.counter} out of {self.patience}')\n",
    "            print(f'Best F1 score from now: {self.best_score}')\n",
    "            if self.counter >= self.patience:\n",
    "                self.early_stop = True\n",
    "        else:\n",
    "            self.best_score = score\n",
    "            self.counter = 0\n",
    "        \n",
    "        return self.early_stop"
   ],
   "metadata": {
    "collapsed": false,
    "ExecuteTime": {
     "end_time": "2023-12-16T07:53:27.539065300Z",
     "start_time": "2023-12-16T07:53:27.429439900Z"
    }
   },
   "id": "51d7e36eb5ffba31"
  },
  {
   "cell_type": "code",
   "execution_count": 21,
   "outputs": [],
   "source": [
    "import math\n",
    "from torch.optim.lr_scheduler import LRScheduler\n",
    "\n",
    "class CosineAnnealingWarmUpRestarts(LRScheduler):\n",
    "    def __init__(self, optimizer, T_0, T_mult=1, eta_max=0.1, T_up=0, gamma=1., last_epoch=-1):\n",
    "        if T_0 <= 0 or not isinstance(T_0, int):\n",
    "            raise ValueError(\"Expected positive integer T_0, but got {}\".format(T_0))\n",
    "        if T_mult < 1 or not isinstance(T_mult, int):\n",
    "            raise ValueError(\"Expected integer T_mult >= 1, but got {}\".format(T_mult))\n",
    "        if T_up < 0 or not isinstance(T_up, int):\n",
    "            raise ValueError(\"Expected positive integer T_up, but got {}\".format(T_up))\n",
    "        self.T_0 = T_0\n",
    "        self.T_mult = T_mult\n",
    "        self.base_eta_max = eta_max\n",
    "        self.eta_max = eta_max\n",
    "        self.T_up = T_up\n",
    "        self.T_i = T_0\n",
    "        self.gamma = gamma\n",
    "        self.cycle = 0\n",
    "        self.T_cur = last_epoch\n",
    "        super(CosineAnnealingWarmUpRestarts, self).__init__(optimizer, last_epoch)\n",
    "    \n",
    "    def get_lr(self):\n",
    "        if self.T_cur == -1:\n",
    "            return self.base_lrs\n",
    "        elif self.T_cur < self.T_up:\n",
    "            return [(self.eta_max - base_lr)*self.T_cur / self.T_up + base_lr for base_lr in self.base_lrs]\n",
    "        else:\n",
    "            return [base_lr + (self.eta_max - base_lr) * (1 + math.cos(math.pi * (self.T_cur-self.T_up) / (self.T_i - self.T_up))) / 2\n",
    "                    for base_lr in self.base_lrs]\n",
    "\n",
    "    def step(self, epoch=None):\n",
    "        if epoch is None:\n",
    "            epoch = self.last_epoch + 1\n",
    "            self.T_cur = self.T_cur + 1\n",
    "            if self.T_cur >= self.T_i:\n",
    "                self.cycle += 1\n",
    "                self.T_cur = self.T_cur - self.T_i\n",
    "                self.T_i = (self.T_i - self.T_up) * self.T_mult + self.T_up\n",
    "        else:\n",
    "            if epoch >= self.T_0:\n",
    "                if self.T_mult == 1:\n",
    "                    self.T_cur = epoch % self.T_0\n",
    "                    self.cycle = epoch // self.T_0\n",
    "                else:\n",
    "                    n = int(math.log((epoch / self.T_0 * (self.T_mult - 1) + 1), self.T_mult))\n",
    "                    self.cycle = n\n",
    "                    self.T_cur = epoch - self.T_0 * (self.T_mult ** n - 1) / (self.T_mult - 1)\n",
    "                    self.T_i = self.T_0 * self.T_mult ** (n)\n",
    "            else:\n",
    "                self.T_i = self.T_0\n",
    "                self.T_cur = epoch\n",
    "                \n",
    "        self.eta_max = self.base_eta_max * (self.gamma**self.cycle)\n",
    "        self.last_epoch = math.floor(epoch)\n",
    "        for param_group, lr in zip(self.optimizer.param_groups, self.get_lr()):\n",
    "            param_group['lr'] = lr"
   ],
   "metadata": {
    "collapsed": false,
    "ExecuteTime": {
     "end_time": "2023-12-16T07:53:27.594303600Z",
     "start_time": "2023-12-16T07:53:27.445062900Z"
    }
   },
   "id": "66827c3c4d6466cd"
  },
  {
   "cell_type": "code",
   "execution_count": 22,
   "outputs": [
    {
     "name": "stdout",
     "output_type": "stream",
     "text": [
      "run_id=0\n"
     ]
    }
   ],
   "source": [
    "time_now = datetime.now()\n",
    "run_id = 0# time_now.strftime(\"%Y%m%d%H%M%S\")\n",
    "os.makedirs(os.path.join(data_path, f'./runs/{run_id}'), exist_ok=True)\n",
    "print(f'{run_id=}')"
   ],
   "metadata": {
    "collapsed": false,
    "ExecuteTime": {
     "end_time": "2023-12-16T07:53:27.594303600Z",
     "start_time": "2023-12-16T07:53:27.460689100Z"
    }
   },
   "id": "17fc703a3126967"
  },
  {
   "cell_type": "code",
   "execution_count": 23,
   "outputs": [],
   "source": [
    "def train(epoch, model, optimizer, criterion, train_loader, device, lr_scheduler=None):\n",
    "    model.train()\n",
    "    train_loss = []\n",
    "    lr_list = []\n",
    "    bar = tqdm(enumerate(train_loader), total = len(train_loader), desc='Train Loop')\n",
    "    for idx, (img, label) in bar:\n",
    "        img, label = img.float().to(device), label.long().to(device)\n",
    "        \n",
    "        optimizer.zero_grad()\n",
    "\n",
    "        model_pred = model(img)\n",
    "        loss = criterion(model_pred, label)\n",
    "\n",
    "        loss.backward()\n",
    "        if (epoch*idx)%10 == 0:\n",
    "            lr_list.append(optimizer.param_groups[0]['lr'])\n",
    "        optimizer.step()\n",
    "        train_loss.append(loss.item())\n",
    "        bar.set_postfix(train_loss = f'{loss.item():.4f}', lr = f\"{optimizer.param_groups[0]['lr']:.6f}\")\n",
    "        if lr_scheduler:\n",
    "            lr_scheduler.step()\n",
    "    return np.mean(train_loss), lr_list"
   ],
   "metadata": {
    "collapsed": false,
    "ExecuteTime": {
     "end_time": "2023-12-16T07:53:27.594303600Z",
     "start_time": "2023-12-16T07:53:27.476558200Z"
    }
   },
   "id": "8837f76bd55e594f"
  },
  {
   "cell_type": "code",
   "execution_count": 24,
   "outputs": [],
   "source": [
    "def competition_metric(true, pred):\n",
    "    return f1_score(true, pred, average=\"macro\")\n",
    "\n",
    "def validation(model, criterion, test_loader, device):\n",
    "    model.eval()\n",
    "    \n",
    "    model_preds = []\n",
    "    true_labels = []\n",
    "    \n",
    "    val_loss = []\n",
    "    \n",
    "    with torch.no_grad():\n",
    "        for img, label in iter(test_loader):\n",
    "            img, label = img.float().to(device), label.long().to(device)\n",
    "            \n",
    "            model_pred = model(img)\n",
    "            \n",
    "            loss = criterion(model_pred, label)\n",
    "            \n",
    "            val_loss.append(loss.item())\n",
    "            \n",
    "            model_preds += model_pred.argmax(1).detach().cpu().numpy().tolist()\n",
    "            true_labels += label.detach().cpu().numpy().tolist()\n",
    "        \n",
    "    val_f1 = competition_metric(true_labels, model_preds)\n",
    "    return np.mean(val_loss), val_f1"
   ],
   "metadata": {
    "collapsed": false,
    "ExecuteTime": {
     "end_time": "2023-12-16T07:53:27.594303600Z",
     "start_time": "2023-12-16T07:53:27.492191200Z"
    }
   },
   "id": "6e0713601b2fa53a"
  },
  {
   "cell_type": "code",
   "execution_count": 25,
   "outputs": [],
   "source": [
    "def train_epoch(model, optimizer, train_loader, test_loader, lr_scheduler, device):\n",
    "    model.to(device)\n",
    "\n",
    "    criterion = nn.CrossEntropyLoss().to(device)\n",
    "    early_stopping = EarlyStopping(patience=CFG['PATIENCE'], verbose=True)\n",
    "    \n",
    "    best_score = 0\n",
    "    lr_list = []\n",
    "    train_loss_list, val_loss_list = [], []\n",
    "    \n",
    "    for epoch in range(1,CFG[\"EPOCHS\"]+1):\n",
    "        tr_loss, lr_ = train(epoch, model, optimizer, criterion, train_loader, device, lr_scheduler)\n",
    "        val_loss, val_score = validation(model, criterion, test_loader, device)\n",
    "        train_loss_list.append(tr_loss)\n",
    "        val_loss_list.append(val_loss)\n",
    "        \n",
    "        if lr_scheduler is not None:\n",
    "            lr_list.extend(lr_)\n",
    "            \n",
    "        if best_score < val_score:\n",
    "            print(f'**Epoch [{epoch}], Train Loss : [{tr_loss:.5f}] Val Loss : [{val_loss:.5f}] Val F1 Score : [{val_score:.5f}]')\n",
    "            best_score = val_score\n",
    "            torch.save(model, os.path.join(data_path, f'runs/{run_id}/best_model.pt'))\n",
    "        else:\n",
    "            print(f'Epoch [{epoch}], Train Loss : [{tr_loss:.5f}] Val Loss : [{val_loss:.5f}] Val F1 Score : [{val_score:.5f}]')\n",
    "        clear_mem()\n",
    "        if early_stopping(val_score):\n",
    "            print(f'Epoch [{epoch}], early stopping')\n",
    "            break\n",
    "    if lr_list:\n",
    "        return (train_loss_list, val_loss_list, lr_list)\n",
    "    else:\n",
    "        return (train_loss_list, val_loss_list, None)"
   ],
   "metadata": {
    "collapsed": false,
    "ExecuteTime": {
     "end_time": "2023-12-16T07:53:27.625551300Z",
     "start_time": "2023-12-16T07:53:27.507814Z"
    }
   },
   "id": "533c937dd1370a10"
  },
  {
   "cell_type": "code",
   "execution_count": 26,
   "outputs": [
    {
     "name": "stdout",
     "output_type": "stream",
     "text": [
      "===============================================================================================\n",
      "Layer (type:depth-idx)                        Output Shape              Param #\n",
      "===============================================================================================\n",
      "├─TinyVit: 1-1                                [-1, 576]                 --\n",
      "|    └─PatchEmbed: 2-1                        [-1, 96, 96, 96]          --\n",
      "|    |    └─ConvNorm: 3-1                     [-1, 48, 192, 192]        1,392\n",
      "|    |    └─GELU: 3-2                         [-1, 48, 192, 192]        --\n",
      "|    |    └─ConvNorm: 3-3                     [-1, 96, 96, 96]          41,664\n",
      "|    └─Sequential: 2-2                        [-1, 576, 12, 12]         --\n",
      "|    |    └─ConvLayer: 3-4                    [-1, 96, 96, 96]          157,824\n",
      "|    |    └─TinyVitStage: 3-5                 [-1, 192, 48, 48]         953,856\n",
      "|    |    └─TinyVitStage: 3-6                 [-1, 384, 24, 24]         10,940,544\n",
      "|    |    └─TinyVitStage: 3-7                 [-1, 576, 12, 12]         8,557,056\n",
      "|    └─NormMlpClassifierHead: 2-3             [-1, 576]                 --\n",
      "|    |    └─SelectAdaptivePool2d: 3-8         [-1, 576, 1, 1]           --\n",
      "|    |    └─LayerNorm2d: 3-9                  [-1, 576, 1, 1]           1,152\n",
      "|    |    └─Flatten: 3-10                     [-1, 576]                 --\n",
      "|    |    └─Identity: 3-11                    [-1, 576]                 --\n",
      "|    |    └─Dropout: 3-12                     [-1, 576]                 --\n",
      "|    |    └─Identity: 3-13                    [-1, 576]                 --\n",
      "├─Sequential: 1-2                             [-1, 50]                  --\n",
      "|    └─LayerNorm: 2-4                         [-1, 576]                 1,152\n",
      "|    └─LeakyReLU: 2-5                         [-1, 576]                 --\n",
      "|    └─Dropout: 2-6                           [-1, 576]                 --\n",
      "|    └─Linear: 2-7                            [-1, 50]                  28,850\n",
      "===============================================================================================\n",
      "Total params: 20,683,490\n",
      "Trainable params: 20,683,490\n",
      "Non-trainable params: 0\n",
      "Total mult-adds (M): 512.21\n",
      "===============================================================================================\n",
      "Input size (MB): 1.69\n",
      "Forward/backward pass size (MB): 40.51\n",
      "Params size (MB): 78.90\n",
      "Estimated Total Size (MB): 121.10\n",
      "===============================================================================================\n"
     ]
    },
    {
     "data": {
      "text/plain": "===============================================================================================\nLayer (type:depth-idx)                        Output Shape              Param #\n===============================================================================================\n├─TinyVit: 1-1                                [-1, 576]                 --\n|    └─PatchEmbed: 2-1                        [-1, 96, 96, 96]          --\n|    |    └─ConvNorm: 3-1                     [-1, 48, 192, 192]        1,392\n|    |    └─GELU: 3-2                         [-1, 48, 192, 192]        --\n|    |    └─ConvNorm: 3-3                     [-1, 96, 96, 96]          41,664\n|    └─Sequential: 2-2                        [-1, 576, 12, 12]         --\n|    |    └─ConvLayer: 3-4                    [-1, 96, 96, 96]          157,824\n|    |    └─TinyVitStage: 3-5                 [-1, 192, 48, 48]         953,856\n|    |    └─TinyVitStage: 3-6                 [-1, 384, 24, 24]         10,940,544\n|    |    └─TinyVitStage: 3-7                 [-1, 576, 12, 12]         8,557,056\n|    └─NormMlpClassifierHead: 2-3             [-1, 576]                 --\n|    |    └─SelectAdaptivePool2d: 3-8         [-1, 576, 1, 1]           --\n|    |    └─LayerNorm2d: 3-9                  [-1, 576, 1, 1]           1,152\n|    |    └─Flatten: 3-10                     [-1, 576]                 --\n|    |    └─Identity: 3-11                    [-1, 576]                 --\n|    |    └─Dropout: 3-12                     [-1, 576]                 --\n|    |    └─Identity: 3-13                    [-1, 576]                 --\n├─Sequential: 1-2                             [-1, 50]                  --\n|    └─LayerNorm: 2-4                         [-1, 576]                 1,152\n|    └─LeakyReLU: 2-5                         [-1, 576]                 --\n|    └─Dropout: 2-6                           [-1, 576]                 --\n|    └─Linear: 2-7                            [-1, 50]                  28,850\n===============================================================================================\nTotal params: 20,683,490\nTrainable params: 20,683,490\nNon-trainable params: 0\nTotal mult-adds (M): 512.21\n===============================================================================================\nInput size (MB): 1.69\nForward/backward pass size (MB): 40.51\nParams size (MB): 78.90\nEstimated Total Size (MB): 121.10\n==============================================================================================="
     },
     "execution_count": 26,
     "metadata": {},
     "output_type": "execute_result"
    }
   ],
   "source": [
    "from torchsummary import summary\n",
    "\n",
    "model = VitModel()\n",
    "summary(model, (3,384,384))"
   ],
   "metadata": {
    "collapsed": false,
    "ExecuteTime": {
     "end_time": "2023-12-16T07:53:39.056963800Z",
     "start_time": "2023-12-16T07:53:27.523440100Z"
    }
   },
   "id": "67da3204ab03efc8"
  },
  {
   "cell_type": "code",
   "execution_count": 27,
   "outputs": [
    {
     "data": {
      "text/plain": "Train Loop:   0%|          | 0/296 [00:00<?, ?it/s]",
      "application/vnd.jupyter.widget-view+json": {
       "version_major": 2,
       "version_minor": 0,
       "model_id": "52500a25b7004201b40b9fd5f1ddc383"
      }
     },
     "metadata": {},
     "output_type": "display_data"
    },
    {
     "name": "stdout",
     "output_type": "stream",
     "text": [
      "**Epoch [1], Train Loss : [3.15352] Val Loss : [2.41234] Val F1 Score : [0.18565]\n"
     ]
    },
    {
     "data": {
      "text/plain": "Train Loop:   0%|          | 0/296 [00:00<?, ?it/s]",
      "application/vnd.jupyter.widget-view+json": {
       "version_major": 2,
       "version_minor": 0,
       "model_id": "7a40214960374b80b7255dadb40573ed"
      }
     },
     "metadata": {},
     "output_type": "display_data"
    },
    {
     "name": "stdout",
     "output_type": "stream",
     "text": [
      "**Epoch [2], Train Loss : [2.44252] Val Loss : [1.86230] Val F1 Score : [0.33694]\n"
     ]
    },
    {
     "data": {
      "text/plain": "Train Loop:   0%|          | 0/296 [00:00<?, ?it/s]",
      "application/vnd.jupyter.widget-view+json": {
       "version_major": 2,
       "version_minor": 0,
       "model_id": "915a83bbb4be4ae48943af56ef7cf86e"
      }
     },
     "metadata": {},
     "output_type": "display_data"
    },
    {
     "name": "stdout",
     "output_type": "stream",
     "text": [
      "**Epoch [3], Train Loss : [1.94273] Val Loss : [1.45267] Val F1 Score : [0.49326]\n"
     ]
    },
    {
     "data": {
      "text/plain": "Train Loop:   0%|          | 0/296 [00:00<?, ?it/s]",
      "application/vnd.jupyter.widget-view+json": {
       "version_major": 2,
       "version_minor": 0,
       "model_id": "7a96c3d0bcd74d26a37f402dcc0c8716"
      }
     },
     "metadata": {},
     "output_type": "display_data"
    },
    {
     "name": "stdout",
     "output_type": "stream",
     "text": [
      "**Epoch [4], Train Loss : [1.54422] Val Loss : [1.17827] Val F1 Score : [0.55419]\n"
     ]
    },
    {
     "data": {
      "text/plain": "Train Loop:   0%|          | 0/296 [00:00<?, ?it/s]",
      "application/vnd.jupyter.widget-view+json": {
       "version_major": 2,
       "version_minor": 0,
       "model_id": "813ea6aac9ee4259846b64f3c8db9c95"
      }
     },
     "metadata": {},
     "output_type": "display_data"
    },
    {
     "name": "stdout",
     "output_type": "stream",
     "text": [
      "**Epoch [5], Train Loss : [1.34420] Val Loss : [1.10681] Val F1 Score : [0.57669]\n"
     ]
    },
    {
     "data": {
      "text/plain": "Train Loop:   0%|          | 0/296 [00:00<?, ?it/s]",
      "application/vnd.jupyter.widget-view+json": {
       "version_major": 2,
       "version_minor": 0,
       "model_id": "d98d1a880a0647e8b07562f6573eeb33"
      }
     },
     "metadata": {},
     "output_type": "display_data"
    },
    {
     "name": "stdout",
     "output_type": "stream",
     "text": [
      "Epoch [6], Train Loss : [1.69526] Val Loss : [1.41411] Val F1 Score : [0.49372]\n",
      "EarlyStopping counter: 1 out of 10\n",
      "Best F1 score from now: 0.5766934289435676\n"
     ]
    },
    {
     "data": {
      "text/plain": "Train Loop:   0%|          | 0/296 [00:00<?, ?it/s]",
      "application/vnd.jupyter.widget-view+json": {
       "version_major": 2,
       "version_minor": 0,
       "model_id": "8189a9b8b7684715b09c5991eda63860"
      }
     },
     "metadata": {},
     "output_type": "display_data"
    },
    {
     "name": "stdout",
     "output_type": "stream",
     "text": [
      "**Epoch [7], Train Loss : [1.54487] Val Loss : [1.15254] Val F1 Score : [0.58000]\n"
     ]
    },
    {
     "data": {
      "text/plain": "Train Loop:   0%|          | 0/296 [00:00<?, ?it/s]",
      "application/vnd.jupyter.widget-view+json": {
       "version_major": 2,
       "version_minor": 0,
       "model_id": "a8fe5b32b2da47cc83e409225b4a37c4"
      }
     },
     "metadata": {},
     "output_type": "display_data"
    },
    {
     "name": "stdout",
     "output_type": "stream",
     "text": [
      "**Epoch [8], Train Loss : [1.25550] Val Loss : [0.96000] Val F1 Score : [0.66103]\n"
     ]
    },
    {
     "data": {
      "text/plain": "Train Loop:   0%|          | 0/296 [00:00<?, ?it/s]",
      "application/vnd.jupyter.widget-view+json": {
       "version_major": 2,
       "version_minor": 0,
       "model_id": "17ad177946a64bcab9d6aae9444eab6e"
      }
     },
     "metadata": {},
     "output_type": "display_data"
    },
    {
     "name": "stdout",
     "output_type": "stream",
     "text": [
      "**Epoch [9], Train Loss : [1.02193] Val Loss : [0.87165] Val F1 Score : [0.68345]\n"
     ]
    },
    {
     "data": {
      "text/plain": "Train Loop:   0%|          | 0/296 [00:00<?, ?it/s]",
      "application/vnd.jupyter.widget-view+json": {
       "version_major": 2,
       "version_minor": 0,
       "model_id": "4d31bf21c84b4047a9fbf7d863db6368"
      }
     },
     "metadata": {},
     "output_type": "display_data"
    },
    {
     "name": "stdout",
     "output_type": "stream",
     "text": [
      "**Epoch [10], Train Loss : [0.89795] Val Loss : [0.82554] Val F1 Score : [0.69917]\n"
     ]
    },
    {
     "data": {
      "text/plain": "Train Loop:   0%|          | 0/296 [00:00<?, ?it/s]",
      "application/vnd.jupyter.widget-view+json": {
       "version_major": 2,
       "version_minor": 0,
       "model_id": "ec510b0f2273474c94bc1ccf48ce1069"
      }
     },
     "metadata": {},
     "output_type": "display_data"
    },
    {
     "name": "stdout",
     "output_type": "stream",
     "text": [
      "Epoch [11], Train Loss : [1.13862] Val Loss : [1.16509] Val F1 Score : [0.60783]\n",
      "EarlyStopping counter: 1 out of 10\n",
      "Best F1 score from now: 0.699174733697145\n"
     ]
    },
    {
     "data": {
      "text/plain": "Train Loop:   0%|          | 0/296 [00:00<?, ?it/s]",
      "application/vnd.jupyter.widget-view+json": {
       "version_major": 2,
       "version_minor": 0,
       "model_id": "caf322394ce14c10b887d99d054163d4"
      }
     },
     "metadata": {},
     "output_type": "display_data"
    },
    {
     "name": "stdout",
     "output_type": "stream",
     "text": [
      "Epoch [12], Train Loss : [1.09357] Val Loss : [0.86367] Val F1 Score : [0.67597]\n",
      "EarlyStopping counter: 2 out of 10\n",
      "Best F1 score from now: 0.699174733697145\n"
     ]
    },
    {
     "data": {
      "text/plain": "Train Loop:   0%|          | 0/296 [00:00<?, ?it/s]",
      "application/vnd.jupyter.widget-view+json": {
       "version_major": 2,
       "version_minor": 0,
       "model_id": "4fd685c85bf44e4fb71cf1042b427701"
      }
     },
     "metadata": {},
     "output_type": "display_data"
    },
    {
     "name": "stdout",
     "output_type": "stream",
     "text": [
      "**Epoch [13], Train Loss : [0.88380] Val Loss : [0.78912] Val F1 Score : [0.70645]\n"
     ]
    },
    {
     "data": {
      "text/plain": "Train Loop:   0%|          | 0/296 [00:00<?, ?it/s]",
      "application/vnd.jupyter.widget-view+json": {
       "version_major": 2,
       "version_minor": 0,
       "model_id": "41df94c23ce145b5a10fb81d616f6c36"
      }
     },
     "metadata": {},
     "output_type": "display_data"
    },
    {
     "name": "stdout",
     "output_type": "stream",
     "text": [
      "**Epoch [14], Train Loss : [0.72014] Val Loss : [0.71674] Val F1 Score : [0.73237]\n"
     ]
    },
    {
     "data": {
      "text/plain": "Train Loop:   0%|          | 0/296 [00:00<?, ?it/s]",
      "application/vnd.jupyter.widget-view+json": {
       "version_major": 2,
       "version_minor": 0,
       "model_id": "1436604bb99343de8e64b1b5967b5333"
      }
     },
     "metadata": {},
     "output_type": "display_data"
    },
    {
     "name": "stdout",
     "output_type": "stream",
     "text": [
      "Epoch [15], Train Loss : [0.66314] Val Loss : [0.69465] Val F1 Score : [0.72931]\n",
      "EarlyStopping counter: 1 out of 10\n",
      "Best F1 score from now: 0.7323705203880916\n"
     ]
    },
    {
     "data": {
      "text/plain": "Train Loop:   0%|          | 0/296 [00:00<?, ?it/s]",
      "application/vnd.jupyter.widget-view+json": {
       "version_major": 2,
       "version_minor": 0,
       "model_id": "59e01f4099914d85b0ef2d8a07095c43"
      }
     },
     "metadata": {},
     "output_type": "display_data"
    },
    {
     "name": "stdout",
     "output_type": "stream",
     "text": [
      "Epoch [16], Train Loss : [0.80521] Val Loss : [0.84935] Val F1 Score : [0.68103]\n",
      "EarlyStopping counter: 2 out of 10\n",
      "Best F1 score from now: 0.7323705203880916\n"
     ]
    },
    {
     "data": {
      "text/plain": "Train Loop:   0%|          | 0/296 [00:00<?, ?it/s]",
      "application/vnd.jupyter.widget-view+json": {
       "version_major": 2,
       "version_minor": 0,
       "model_id": "07c4d1149b0e4e3195c86846e7260d80"
      }
     },
     "metadata": {},
     "output_type": "display_data"
    },
    {
     "name": "stdout",
     "output_type": "stream",
     "text": [
      "Epoch [17], Train Loss : [0.80244] Val Loss : [0.82835] Val F1 Score : [0.71578]\n",
      "EarlyStopping counter: 3 out of 10\n",
      "Best F1 score from now: 0.7323705203880916\n"
     ]
    },
    {
     "data": {
      "text/plain": "Train Loop:   0%|          | 0/296 [00:00<?, ?it/s]",
      "application/vnd.jupyter.widget-view+json": {
       "version_major": 2,
       "version_minor": 0,
       "model_id": "2efe5375dff34b8f9b6cbcb5b560a788"
      }
     },
     "metadata": {},
     "output_type": "display_data"
    },
    {
     "name": "stdout",
     "output_type": "stream",
     "text": [
      "**Epoch [18], Train Loss : [0.66548] Val Loss : [0.69735] Val F1 Score : [0.74247]\n"
     ]
    },
    {
     "data": {
      "text/plain": "Train Loop:   0%|          | 0/296 [00:00<?, ?it/s]",
      "application/vnd.jupyter.widget-view+json": {
       "version_major": 2,
       "version_minor": 0,
       "model_id": "23bef5c0c6ba410f9eddea7337191b6c"
      }
     },
     "metadata": {},
     "output_type": "display_data"
    },
    {
     "name": "stdout",
     "output_type": "stream",
     "text": [
      "**Epoch [19], Train Loss : [0.56189] Val Loss : [0.65719] Val F1 Score : [0.75888]\n"
     ]
    },
    {
     "data": {
      "text/plain": "Train Loop:   0%|          | 0/296 [00:00<?, ?it/s]",
      "application/vnd.jupyter.widget-view+json": {
       "version_major": 2,
       "version_minor": 0,
       "model_id": "5061f09306664bb2941b53bd1a5c992e"
      }
     },
     "metadata": {},
     "output_type": "display_data"
    },
    {
     "name": "stdout",
     "output_type": "stream",
     "text": [
      "**Epoch [20], Train Loss : [0.51084] Val Loss : [0.64773] Val F1 Score : [0.76503]\n"
     ]
    },
    {
     "data": {
      "text/plain": "Train Loop:   0%|          | 0/296 [00:00<?, ?it/s]",
      "application/vnd.jupyter.widget-view+json": {
       "version_major": 2,
       "version_minor": 0,
       "model_id": "7f9d0362b2674dcf806038adc1440ff9"
      }
     },
     "metadata": {},
     "output_type": "display_data"
    },
    {
     "name": "stdout",
     "output_type": "stream",
     "text": [
      "Epoch [21], Train Loss : [0.59041] Val Loss : [0.82962] Val F1 Score : [0.71520]\n",
      "EarlyStopping counter: 1 out of 10\n",
      "Best F1 score from now: 0.7650262159804427\n"
     ]
    },
    {
     "data": {
      "text/plain": "Train Loop:   0%|          | 0/296 [00:00<?, ?it/s]",
      "application/vnd.jupyter.widget-view+json": {
       "version_major": 2,
       "version_minor": 0,
       "model_id": "2f3fa3b7bdb54497bb1cc798e20ad34a"
      }
     },
     "metadata": {},
     "output_type": "display_data"
    },
    {
     "name": "stdout",
     "output_type": "stream",
     "text": [
      "Epoch [22], Train Loss : [0.57748] Val Loss : [0.66552] Val F1 Score : [0.74952]\n",
      "EarlyStopping counter: 2 out of 10\n",
      "Best F1 score from now: 0.7650262159804427\n"
     ]
    },
    {
     "data": {
      "text/plain": "Train Loop:   0%|          | 0/296 [00:00<?, ?it/s]",
      "application/vnd.jupyter.widget-view+json": {
       "version_major": 2,
       "version_minor": 0,
       "model_id": "7d63c5bdb70c4f68be14374d72c3ee86"
      }
     },
     "metadata": {},
     "output_type": "display_data"
    },
    {
     "name": "stdout",
     "output_type": "stream",
     "text": [
      "Epoch [23], Train Loss : [0.51479] Val Loss : [0.67813] Val F1 Score : [0.76209]\n",
      "EarlyStopping counter: 3 out of 10\n",
      "Best F1 score from now: 0.7650262159804427\n"
     ]
    },
    {
     "data": {
      "text/plain": "Train Loop:   0%|          | 0/296 [00:00<?, ?it/s]",
      "application/vnd.jupyter.widget-view+json": {
       "version_major": 2,
       "version_minor": 0,
       "model_id": "d9a2e7a473da40e3a4e5ce352ff32f63"
      }
     },
     "metadata": {},
     "output_type": "display_data"
    },
    {
     "name": "stdout",
     "output_type": "stream",
     "text": [
      "**Epoch [24], Train Loss : [0.45634] Val Loss : [0.64958] Val F1 Score : [0.76567]\n"
     ]
    },
    {
     "data": {
      "text/plain": "Train Loop:   0%|          | 0/296 [00:00<?, ?it/s]",
      "application/vnd.jupyter.widget-view+json": {
       "version_major": 2,
       "version_minor": 0,
       "model_id": "2c6b544989c34925a612c284e961a2db"
      }
     },
     "metadata": {},
     "output_type": "display_data"
    },
    {
     "name": "stdout",
     "output_type": "stream",
     "text": [
      "**Epoch [25], Train Loss : [0.43270] Val Loss : [0.62825] Val F1 Score : [0.77122]\n"
     ]
    },
    {
     "data": {
      "text/plain": "Train Loop:   0%|          | 0/296 [00:00<?, ?it/s]",
      "application/vnd.jupyter.widget-view+json": {
       "version_major": 2,
       "version_minor": 0,
       "model_id": "80e8747db8f34cbaaaf8e0f36ca9d251"
      }
     },
     "metadata": {},
     "output_type": "display_data"
    },
    {
     "name": "stdout",
     "output_type": "stream",
     "text": [
      "Epoch [26], Train Loss : [0.49056] Val Loss : [0.69156] Val F1 Score : [0.76128]\n",
      "EarlyStopping counter: 1 out of 10\n",
      "Best F1 score from now: 0.7712223092319563\n"
     ]
    },
    {
     "data": {
      "text/plain": "Train Loop:   0%|          | 0/296 [00:00<?, ?it/s]",
      "application/vnd.jupyter.widget-view+json": {
       "version_major": 2,
       "version_minor": 0,
       "model_id": "fffbcbef376c40db86bc5f00f718db22"
      }
     },
     "metadata": {},
     "output_type": "display_data"
    },
    {
     "name": "stdout",
     "output_type": "stream",
     "text": [
      "Epoch [27], Train Loss : [0.43782] Val Loss : [0.65712] Val F1 Score : [0.77108]\n",
      "EarlyStopping counter: 2 out of 10\n",
      "Best F1 score from now: 0.7712223092319563\n"
     ]
    },
    {
     "data": {
      "text/plain": "Train Loop:   0%|          | 0/296 [00:00<?, ?it/s]",
      "application/vnd.jupyter.widget-view+json": {
       "version_major": 2,
       "version_minor": 0,
       "model_id": "109892e65a754661acfdb2899d20864a"
      }
     },
     "metadata": {},
     "output_type": "display_data"
    },
    {
     "name": "stdout",
     "output_type": "stream",
     "text": [
      "**Epoch [28], Train Loss : [0.39716] Val Loss : [0.63259] Val F1 Score : [0.77284]\n"
     ]
    },
    {
     "data": {
      "text/plain": "Train Loop:   0%|          | 0/296 [00:00<?, ?it/s]",
      "application/vnd.jupyter.widget-view+json": {
       "version_major": 2,
       "version_minor": 0,
       "model_id": "14fc8b0380b44962a04f710e994a0e94"
      }
     },
     "metadata": {},
     "output_type": "display_data"
    },
    {
     "name": "stdout",
     "output_type": "stream",
     "text": [
      "**Epoch [29], Train Loss : [0.36160] Val Loss : [0.61739] Val F1 Score : [0.78515]\n"
     ]
    },
    {
     "data": {
      "text/plain": "Train Loop:   0%|          | 0/296 [00:00<?, ?it/s]",
      "application/vnd.jupyter.widget-view+json": {
       "version_major": 2,
       "version_minor": 0,
       "model_id": "a66d310fa5794f0cbc0fbf9d528ccfbd"
      }
     },
     "metadata": {},
     "output_type": "display_data"
    },
    {
     "name": "stdout",
     "output_type": "stream",
     "text": [
      "**Epoch [30], Train Loss : [0.35416] Val Loss : [0.60656] Val F1 Score : [0.78602]\n"
     ]
    },
    {
     "data": {
      "text/plain": "Train Loop:   0%|          | 0/296 [00:00<?, ?it/s]",
      "application/vnd.jupyter.widget-view+json": {
       "version_major": 2,
       "version_minor": 0,
       "model_id": "9475d62d33014f76b1cd6dc9d8bb3ca8"
      }
     },
     "metadata": {},
     "output_type": "display_data"
    },
    {
     "name": "stdout",
     "output_type": "stream",
     "text": [
      "Epoch [31], Train Loss : [0.39622] Val Loss : [0.63116] Val F1 Score : [0.78021]\n",
      "EarlyStopping counter: 1 out of 10\n",
      "Best F1 score from now: 0.7860229587291988\n"
     ]
    },
    {
     "data": {
      "text/plain": "Train Loop:   0%|          | 0/296 [00:00<?, ?it/s]",
      "application/vnd.jupyter.widget-view+json": {
       "version_major": 2,
       "version_minor": 0,
       "model_id": "a94f53754b6e4431a8eed840af225573"
      }
     },
     "metadata": {},
     "output_type": "display_data"
    },
    {
     "name": "stdout",
     "output_type": "stream",
     "text": [
      "Epoch [32], Train Loss : [0.37581] Val Loss : [0.63659] Val F1 Score : [0.77583]\n",
      "EarlyStopping counter: 2 out of 10\n",
      "Best F1 score from now: 0.7860229587291988\n"
     ]
    },
    {
     "data": {
      "text/plain": "Train Loop:   0%|          | 0/296 [00:00<?, ?it/s]",
      "application/vnd.jupyter.widget-view+json": {
       "version_major": 2,
       "version_minor": 0,
       "model_id": "62fd8c0262804265935c4c0c4d52f928"
      }
     },
     "metadata": {},
     "output_type": "display_data"
    },
    {
     "name": "stdout",
     "output_type": "stream",
     "text": [
      "**Epoch [33], Train Loss : [0.32164] Val Loss : [0.61451] Val F1 Score : [0.78977]\n"
     ]
    },
    {
     "data": {
      "text/plain": "Train Loop:   0%|          | 0/296 [00:00<?, ?it/s]",
      "application/vnd.jupyter.widget-view+json": {
       "version_major": 2,
       "version_minor": 0,
       "model_id": "af9c38d3ea19414b9e3aec4dc7266fe0"
      }
     },
     "metadata": {},
     "output_type": "display_data"
    },
    {
     "name": "stdout",
     "output_type": "stream",
     "text": [
      "Epoch [34], Train Loss : [0.31263] Val Loss : [0.66649] Val F1 Score : [0.77404]\n",
      "EarlyStopping counter: 1 out of 10\n",
      "Best F1 score from now: 0.7897689235443885\n"
     ]
    },
    {
     "data": {
      "text/plain": "Train Loop:   0%|          | 0/296 [00:00<?, ?it/s]",
      "application/vnd.jupyter.widget-view+json": {
       "version_major": 2,
       "version_minor": 0,
       "model_id": "21e9c9f727b84049983c41eb2d759646"
      }
     },
     "metadata": {},
     "output_type": "display_data"
    },
    {
     "name": "stdout",
     "output_type": "stream",
     "text": [
      "Epoch [35], Train Loss : [0.30431] Val Loss : [0.59882] Val F1 Score : [0.77381]\n",
      "EarlyStopping counter: 2 out of 10\n",
      "Best F1 score from now: 0.7897689235443885\n"
     ]
    },
    {
     "data": {
      "text/plain": "Train Loop:   0%|          | 0/296 [00:00<?, ?it/s]",
      "application/vnd.jupyter.widget-view+json": {
       "version_major": 2,
       "version_minor": 0,
       "model_id": "04e4f33bce6b4c9b917b0bfbeb06ced0"
      }
     },
     "metadata": {},
     "output_type": "display_data"
    },
    {
     "name": "stdout",
     "output_type": "stream",
     "text": [
      "Epoch [36], Train Loss : [0.32508] Val Loss : [0.63526] Val F1 Score : [0.77551]\n",
      "EarlyStopping counter: 3 out of 10\n",
      "Best F1 score from now: 0.7897689235443885\n"
     ]
    },
    {
     "data": {
      "text/plain": "Train Loop:   0%|          | 0/296 [00:00<?, ?it/s]",
      "application/vnd.jupyter.widget-view+json": {
       "version_major": 2,
       "version_minor": 0,
       "model_id": "a7589ae0b3df47a8b2e64d698791f663"
      }
     },
     "metadata": {},
     "output_type": "display_data"
    },
    {
     "name": "stdout",
     "output_type": "stream",
     "text": [
      "Epoch [37], Train Loss : [0.32359] Val Loss : [0.63485] Val F1 Score : [0.78476]\n",
      "EarlyStopping counter: 4 out of 10\n",
      "Best F1 score from now: 0.7897689235443885\n"
     ]
    },
    {
     "data": {
      "text/plain": "Train Loop:   0%|          | 0/296 [00:00<?, ?it/s]",
      "application/vnd.jupyter.widget-view+json": {
       "version_major": 2,
       "version_minor": 0,
       "model_id": "cab94e234cac4b6ab39a765a28afd0e0"
      }
     },
     "metadata": {},
     "output_type": "display_data"
    },
    {
     "name": "stdout",
     "output_type": "stream",
     "text": [
      "**Epoch [38], Train Loss : [0.29332] Val Loss : [0.61543] Val F1 Score : [0.79148]\n"
     ]
    },
    {
     "data": {
      "text/plain": "Train Loop:   0%|          | 0/296 [00:00<?, ?it/s]",
      "application/vnd.jupyter.widget-view+json": {
       "version_major": 2,
       "version_minor": 0,
       "model_id": "b0c28b5b6e6b47ebaf5facd0c336fbef"
      }
     },
     "metadata": {},
     "output_type": "display_data"
    },
    {
     "name": "stdout",
     "output_type": "stream",
     "text": [
      "Epoch [39], Train Loss : [0.28182] Val Loss : [0.63332] Val F1 Score : [0.78039]\n",
      "EarlyStopping counter: 1 out of 10\n",
      "Best F1 score from now: 0.791482981214969\n"
     ]
    },
    {
     "data": {
      "text/plain": "Train Loop:   0%|          | 0/296 [00:00<?, ?it/s]",
      "application/vnd.jupyter.widget-view+json": {
       "version_major": 2,
       "version_minor": 0,
       "model_id": "6776139e4949433fadb18b345b2e1ab7"
      }
     },
     "metadata": {},
     "output_type": "display_data"
    },
    {
     "name": "stdout",
     "output_type": "stream",
     "text": [
      "Epoch [40], Train Loss : [0.27020] Val Loss : [0.62574] Val F1 Score : [0.78687]\n",
      "EarlyStopping counter: 2 out of 10\n",
      "Best F1 score from now: 0.791482981214969\n"
     ]
    },
    {
     "data": {
      "text/plain": "Train Loop:   0%|          | 0/296 [00:00<?, ?it/s]",
      "application/vnd.jupyter.widget-view+json": {
       "version_major": 2,
       "version_minor": 0,
       "model_id": "3a9bc8676a7346048e2111e7ecd0bd7c"
      }
     },
     "metadata": {},
     "output_type": "display_data"
    },
    {
     "name": "stdout",
     "output_type": "stream",
     "text": [
      "**Epoch [41], Train Loss : [0.29654] Val Loss : [0.58659] Val F1 Score : [0.80697]\n"
     ]
    },
    {
     "data": {
      "text/plain": "Train Loop:   0%|          | 0/296 [00:00<?, ?it/s]",
      "application/vnd.jupyter.widget-view+json": {
       "version_major": 2,
       "version_minor": 0,
       "model_id": "5e37ccba6dce4972a5d237a5c4c40779"
      }
     },
     "metadata": {},
     "output_type": "display_data"
    },
    {
     "name": "stdout",
     "output_type": "stream",
     "text": [
      "**Epoch [42], Train Loss : [0.28065] Val Loss : [0.58015] Val F1 Score : [0.81292]\n"
     ]
    },
    {
     "data": {
      "text/plain": "Train Loop:   0%|          | 0/296 [00:00<?, ?it/s]",
      "application/vnd.jupyter.widget-view+json": {
       "version_major": 2,
       "version_minor": 0,
       "model_id": "61e7e3fda6b044e8bd82bf2cc45f1be0"
      }
     },
     "metadata": {},
     "output_type": "display_data"
    },
    {
     "name": "stdout",
     "output_type": "stream",
     "text": [
      "Epoch [43], Train Loss : [0.26206] Val Loss : [0.58739] Val F1 Score : [0.80229]\n",
      "EarlyStopping counter: 1 out of 10\n",
      "Best F1 score from now: 0.8129167436378466\n"
     ]
    },
    {
     "data": {
      "text/plain": "Train Loop:   0%|          | 0/296 [00:00<?, ?it/s]",
      "application/vnd.jupyter.widget-view+json": {
       "version_major": 2,
       "version_minor": 0,
       "model_id": "9dc1f3ca74eb4cd38e788791151f1d5f"
      }
     },
     "metadata": {},
     "output_type": "display_data"
    },
    {
     "name": "stdout",
     "output_type": "stream",
     "text": [
      "Epoch [44], Train Loss : [0.25529] Val Loss : [0.58694] Val F1 Score : [0.79375]\n",
      "EarlyStopping counter: 2 out of 10\n",
      "Best F1 score from now: 0.8129167436378466\n"
     ]
    },
    {
     "data": {
      "text/plain": "Train Loop:   0%|          | 0/296 [00:00<?, ?it/s]",
      "application/vnd.jupyter.widget-view+json": {
       "version_major": 2,
       "version_minor": 0,
       "model_id": "34dc13dee21447ccb80c775cb3a35c59"
      }
     },
     "metadata": {},
     "output_type": "display_data"
    },
    {
     "name": "stdout",
     "output_type": "stream",
     "text": [
      "Epoch [45], Train Loss : [0.24941] Val Loss : [0.62730] Val F1 Score : [0.78336]\n",
      "EarlyStopping counter: 3 out of 10\n",
      "Best F1 score from now: 0.8129167436378466\n"
     ]
    },
    {
     "data": {
      "text/plain": "Train Loop:   0%|          | 0/296 [00:00<?, ?it/s]",
      "application/vnd.jupyter.widget-view+json": {
       "version_major": 2,
       "version_minor": 0,
       "model_id": "a0c7cce15eee4f1cb1f3813cb34344e0"
      }
     },
     "metadata": {},
     "output_type": "display_data"
    },
    {
     "name": "stdout",
     "output_type": "stream",
     "text": [
      "Epoch [46], Train Loss : [0.25327] Val Loss : [0.59224] Val F1 Score : [0.79915]\n",
      "EarlyStopping counter: 4 out of 10\n",
      "Best F1 score from now: 0.8129167436378466\n"
     ]
    },
    {
     "data": {
      "text/plain": "Train Loop:   0%|          | 0/296 [00:00<?, ?it/s]",
      "application/vnd.jupyter.widget-view+json": {
       "version_major": 2,
       "version_minor": 0,
       "model_id": "80eec90954334360a6230d79ddb4bcee"
      }
     },
     "metadata": {},
     "output_type": "display_data"
    },
    {
     "name": "stdout",
     "output_type": "stream",
     "text": [
      "Epoch [47], Train Loss : [0.26916] Val Loss : [0.57529] Val F1 Score : [0.79818]\n",
      "EarlyStopping counter: 5 out of 10\n",
      "Best F1 score from now: 0.8129167436378466\n"
     ]
    },
    {
     "data": {
      "text/plain": "Train Loop:   0%|          | 0/296 [00:00<?, ?it/s]",
      "application/vnd.jupyter.widget-view+json": {
       "version_major": 2,
       "version_minor": 0,
       "model_id": "40cf96f7aac4405ba9273cc0a789693f"
      }
     },
     "metadata": {},
     "output_type": "display_data"
    },
    {
     "name": "stdout",
     "output_type": "stream",
     "text": [
      "Epoch [48], Train Loss : [0.25326] Val Loss : [0.56827] Val F1 Score : [0.80882]\n",
      "EarlyStopping counter: 6 out of 10\n",
      "Best F1 score from now: 0.8129167436378466\n"
     ]
    },
    {
     "data": {
      "text/plain": "Train Loop:   0%|          | 0/296 [00:00<?, ?it/s]",
      "application/vnd.jupyter.widget-view+json": {
       "version_major": 2,
       "version_minor": 0,
       "model_id": "eda1cbf3c9c64694a1bcba51001ee03a"
      }
     },
     "metadata": {},
     "output_type": "display_data"
    },
    {
     "name": "stdout",
     "output_type": "stream",
     "text": [
      "Epoch [49], Train Loss : [0.25095] Val Loss : [0.58211] Val F1 Score : [0.79100]\n",
      "EarlyStopping counter: 7 out of 10\n",
      "Best F1 score from now: 0.8129167436378466\n"
     ]
    },
    {
     "data": {
      "text/plain": "Train Loop:   0%|          | 0/296 [00:00<?, ?it/s]",
      "application/vnd.jupyter.widget-view+json": {
       "version_major": 2,
       "version_minor": 0,
       "model_id": "1e4fd8928a974cc5ae358981d9b293d6"
      }
     },
     "metadata": {},
     "output_type": "display_data"
    },
    {
     "name": "stdout",
     "output_type": "stream",
     "text": [
      "Epoch [50], Train Loss : [0.24954] Val Loss : [0.59386] Val F1 Score : [0.78443]\n",
      "EarlyStopping counter: 8 out of 10\n",
      "Best F1 score from now: 0.8129167436378466\n"
     ]
    },
    {
     "data": {
      "text/plain": "Train Loop:   0%|          | 0/296 [00:00<?, ?it/s]",
      "application/vnd.jupyter.widget-view+json": {
       "version_major": 2,
       "version_minor": 0,
       "model_id": "e3ebba3969cb45a1837a02a73915d3d5"
      }
     },
     "metadata": {},
     "output_type": "display_data"
    },
    {
     "name": "stdout",
     "output_type": "stream",
     "text": [
      "Epoch [51], Train Loss : [0.24471] Val Loss : [0.57621] Val F1 Score : [0.80870]\n",
      "EarlyStopping counter: 9 out of 10\n",
      "Best F1 score from now: 0.8129167436378466\n"
     ]
    },
    {
     "data": {
      "text/plain": "Train Loop:   0%|          | 0/296 [00:00<?, ?it/s]",
      "application/vnd.jupyter.widget-view+json": {
       "version_major": 2,
       "version_minor": 0,
       "model_id": "de10da8aa0194d6cb1d36c9c3eaf570e"
      }
     },
     "metadata": {},
     "output_type": "display_data"
    },
    {
     "name": "stdout",
     "output_type": "stream",
     "text": [
      "Epoch [52], Train Loss : [0.21856] Val Loss : [0.55558] Val F1 Score : [0.80591]\n",
      "EarlyStopping counter: 10 out of 10\n",
      "Best F1 score from now: 0.8129167436378466\n",
      "Epoch [52], early stopping\n"
     ]
    }
   ],
   "source": [
    "model.eval()\n",
    "optimizer = torch.optim.Adam(params = model.parameters(), lr = CFG['LEARNING_RATE'])\n",
    "# lr : 10epochs 동안 0.01->0\n",
    "lr_scheduler = CosineAnnealingWarmUpRestarts(optimizer, T_0=CFG['WARMUP']*len(train_loader), T_mult=1, eta_max=0.001, T_up=50, gamma=0.7)\n",
    "\n",
    "train_loss_list, val_loss_list, lr_list = train_epoch(model, optimizer, train_loader, val_loader, lr_scheduler, device)"
   ],
   "metadata": {
    "collapsed": false,
    "ExecuteTime": {
     "end_time": "2023-12-16T10:01:36.969722600Z",
     "start_time": "2023-12-16T07:53:39.041339900Z"
    }
   },
   "id": "e59465d8032710f4"
  },
  {
   "cell_type": "code",
   "execution_count": 28,
   "outputs": [
    {
     "data": {
      "text/plain": "<Figure size 640x480 with 1 Axes>",
      "image/png": "[encoded data removed]"
     },
     "metadata": {},
     "output_type": "display_data"
    }
   ],
   "source": [
    "sns.lineplot(train_loss_list, label='train loss')\n",
    "sns.lineplot(val_loss_list, label='validation loss')\n",
    "plt.xlabel(\"epoch\")\n",
    "plt.ylabel('loss')\n",
    "plt.title('train/validation loss')\n",
    "plt.show()"
   ],
   "metadata": {
    "collapsed": false,
    "ExecuteTime": {
     "end_time": "2023-12-16T10:01:37.200425200Z",
     "start_time": "2023-12-16T10:01:36.974535Z"
    }
   },
   "id": "b46be9d6d827da9a"
  },
  {
   "cell_type": "code",
   "execution_count": 29,
   "outputs": [
    {
     "data": {
      "text/plain": "<Axes: >"
     },
     "execution_count": 29,
     "metadata": {},
     "output_type": "execute_result"
    },
    {
     "data": {
      "text/plain": "<Figure size 640x480 with 1 Axes>",
      "image/png": "[encoded data removed]"
     },
     "metadata": {},
     "output_type": "display_data"
    }
   ],
   "source": [
    "sns.lineplot(lr_list)"
   ],
   "metadata": {
    "collapsed": false,
    "ExecuteTime": {
     "end_time": "2023-12-16T10:01:37.401258600Z",
     "start_time": "2023-12-16T10:01:37.197649400Z"
    }
   },
   "id": "10b70a182b34ab37"
  },
  {
   "cell_type": "code",
   "execution_count": 30,
   "outputs": [
    {
     "data": {
      "text/plain": "           id               img_path\n0  TEST_00000  ./test/TEST_00000.jpg\n1  TEST_00001  ./test/TEST_00001.jpg\n2  TEST_00002  ./test/TEST_00002.jpg\n3  TEST_00003  ./test/TEST_00003.jpg\n4  TEST_00004  ./test/TEST_00004.jpg",
      "text/html": "<div>\n<style scoped>\n    .dataframe tbody tr th:only-of-type {\n        vertical-align: middle;\n    }\n\n    .dataframe tbody tr th {\n        vertical-align: top;\n    }\n\n    .dataframe thead th {\n        text-align: right;\n    }\n</style>\n<table border=\"1\" class=\"dataframe\">\n  <thead>\n    <tr style=\"text-align: right;\">\n      <th></th>\n      <th>id</th>\n      <th>img_path</th>\n    </tr>\n  </thead>\n  <tbody>\n    <tr>\n      <th>0</th>\n      <td>TEST_00000</td>\n      <td>./test/TEST_00000.jpg</td>\n    </tr>\n    <tr>\n      <th>1</th>\n      <td>TEST_00001</td>\n      <td>./test/TEST_00001.jpg</td>\n    </tr>\n    <tr>\n      <th>2</th>\n      <td>TEST_00002</td>\n      <td>./test/TEST_00002.jpg</td>\n    </tr>\n    <tr>\n      <th>3</th>\n      <td>TEST_00003</td>\n      <td>./test/TEST_00003.jpg</td>\n    </tr>\n    <tr>\n      <th>4</th>\n      <td>TEST_00004</td>\n      <td>./test/TEST_00004.jpg</td>\n    </tr>\n  </tbody>\n</table>\n</div>"
     },
     "execution_count": 30,
     "metadata": {},
     "output_type": "execute_result"
    }
   ],
   "source": [
    "test_df = pd.read_csv(os.path.join(data_path, './test.csv'))\n",
    "test_df.head()"
   ],
   "metadata": {
    "collapsed": false,
    "ExecuteTime": {
     "end_time": "2023-12-16T10:01:37.469085100Z",
     "start_time": "2023-12-16T10:01:37.401258600Z"
    }
   },
   "id": "9c8fff1a450556ec"
  },
  {
   "cell_type": "code",
   "execution_count": 31,
   "outputs": [],
   "source": [
    "test_img_paths = get_data(test_df, infer=True)"
   ],
   "metadata": {
    "collapsed": false,
    "ExecuteTime": {
     "end_time": "2023-12-16T10:01:37.484711200Z",
     "start_time": "2023-12-16T10:01:37.453459300Z"
    }
   },
   "id": "6a50c39d21de27ed"
  },
  {
   "cell_type": "code",
   "execution_count": 32,
   "outputs": [],
   "source": [
    "test_dataset = CustomDataset(test_img_paths, None, test_transform)\n",
    "test_loader = DataLoader(test_dataset, batch_size=CFG['BATCH_SIZE'], shuffle=False, num_workers=0)"
   ],
   "metadata": {
    "collapsed": false,
    "ExecuteTime": {
     "end_time": "2023-12-16T10:01:37.500353600Z",
     "start_time": "2023-12-16T10:01:37.484711200Z"
    }
   },
   "id": "66859c2e35131aae"
  },
  {
   "cell_type": "code",
   "execution_count": 33,
   "outputs": [],
   "source": [
    "def inference(model, test_loader, device):\n",
    "    model.to(device)\n",
    "    model.eval()\n",
    "    \n",
    "    model_preds = []\n",
    "    \n",
    "    with torch.no_grad():\n",
    "        for img in test_loader:\n",
    "            img = img.float().to(device)\n",
    "            \n",
    "            model_pred = model(img)\n",
    "            model_preds += model_pred.argmax(1).detach().cpu().numpy().tolist()\n",
    "    \n",
    "    print('Done.')\n",
    "    return model_preds"
   ],
   "metadata": {
    "collapsed": false,
    "ExecuteTime": {
     "end_time": "2023-12-16T10:01:37.578585100Z",
     "start_time": "2023-12-16T10:01:37.500353600Z"
    }
   },
   "id": "60aba723872ee62e"
  },
  {
   "cell_type": "code",
   "execution_count": 34,
   "outputs": [
    {
     "name": "stdout",
     "output_type": "stream",
     "text": [
      "CHECKPOINT LOADED: ../../data/runs/0/best_model.pt\n"
     ]
    },
    {
     "data": {
      "text/plain": "VitModel(\n  (backbone): TinyVit(\n    (patch_embed): PatchEmbed(\n      (conv1): ConvNorm(\n        (conv): Conv2d(3, 48, kernel_size=(3, 3), stride=(2, 2), padding=(1, 1), bias=False)\n        (bn): BatchNorm2d(48, eps=1e-05, momentum=0.1, affine=True, track_running_stats=True)\n      )\n      (act): GELU(approximate='none')\n      (conv2): ConvNorm(\n        (conv): Conv2d(48, 96, kernel_size=(3, 3), stride=(2, 2), padding=(1, 1), bias=False)\n        (bn): BatchNorm2d(96, eps=1e-05, momentum=0.1, affine=True, track_running_stats=True)\n      )\n    )\n    (stages): Sequential(\n      (0): ConvLayer(\n        (blocks): Sequential(\n          (0): MBConv(\n            (conv1): ConvNorm(\n              (conv): Conv2d(96, 384, kernel_size=(1, 1), stride=(1, 1), bias=False)\n              (bn): BatchNorm2d(384, eps=1e-05, momentum=0.1, affine=True, track_running_stats=True)\n            )\n            (act1): GELU(approximate='none')\n            (conv2): ConvNorm(\n              (conv): Conv2d(384, 384, kernel_size=(3, 3), stride=(1, 1), padding=(1, 1), groups=384, bias=False)\n              (bn): BatchNorm2d(384, eps=1e-05, momentum=0.1, affine=True, track_running_stats=True)\n            )\n            (act2): GELU(approximate='none')\n            (conv3): ConvNorm(\n              (conv): Conv2d(384, 96, kernel_size=(1, 1), stride=(1, 1), bias=False)\n              (bn): BatchNorm2d(96, eps=1e-05, momentum=0.1, affine=True, track_running_stats=True)\n            )\n            (act3): GELU(approximate='none')\n            (drop_path): Identity()\n          )\n          (1): MBConv(\n            (conv1): ConvNorm(\n              (conv): Conv2d(96, 384, kernel_size=(1, 1), stride=(1, 1), bias=False)\n              (bn): BatchNorm2d(384, eps=1e-05, momentum=0.1, affine=True, track_running_stats=True)\n            )\n            (act1): GELU(approximate='none')\n            (conv2): ConvNorm(\n              (conv): Conv2d(384, 384, kernel_size=(3, 3), stride=(1, 1), padding=(1, 1), groups=384, bias=False)\n              (bn): BatchNorm2d(384, eps=1e-05, momentum=0.1, affine=True, track_running_stats=True)\n            )\n            (act2): GELU(approximate='none')\n            (conv3): ConvNorm(\n              (conv): Conv2d(384, 96, kernel_size=(1, 1), stride=(1, 1), bias=False)\n              (bn): BatchNorm2d(96, eps=1e-05, momentum=0.1, affine=True, track_running_stats=True)\n            )\n            (act3): GELU(approximate='none')\n            (drop_path): DropPath(drop_prob=0.009)\n          )\n        )\n      )\n      (1): TinyVitStage(\n        dim=192, depth=2\n        (downsample): PatchMerging(\n          (conv1): ConvNorm(\n            (conv): Conv2d(96, 192, kernel_size=(1, 1), stride=(1, 1), bias=False)\n            (bn): BatchNorm2d(192, eps=1e-05, momentum=0.1, affine=True, track_running_stats=True)\n          )\n          (act1): GELU(approximate='none')\n          (conv2): ConvNorm(\n            (conv): Conv2d(192, 192, kernel_size=(3, 3), stride=(2, 2), padding=(1, 1), groups=192, bias=False)\n            (bn): BatchNorm2d(192, eps=1e-05, momentum=0.1, affine=True, track_running_stats=True)\n          )\n          (act2): GELU(approximate='none')\n          (conv3): ConvNorm(\n            (conv): Conv2d(192, 192, kernel_size=(1, 1), stride=(1, 1), bias=False)\n            (bn): BatchNorm2d(192, eps=1e-05, momentum=0.1, affine=True, track_running_stats=True)\n          )\n        )\n        (blocks): Sequential(\n          (0): TinyVitBlock(\n            dim=192, num_heads=6, window_size=12, mlp_ratio=4.0\n            (attn): Attention(\n              (norm): LayerNorm((192,), eps=1e-05, elementwise_affine=True)\n              (qkv): Linear(in_features=192, out_features=576, bias=True)\n              (proj): Linear(in_features=192, out_features=192, bias=True)\n            )\n            (drop_path1): DropPath(drop_prob=0.018)\n            (mlp): NormMlp(\n              (norm): LayerNorm((192,), eps=1e-05, elementwise_affine=True)\n              (fc1): Linear(in_features=192, out_features=768, bias=True)\n              (act): GELU(approximate='none')\n              (drop1): Dropout(p=0.0, inplace=False)\n              (fc2): Linear(in_features=768, out_features=192, bias=True)\n              (drop2): Dropout(p=0.0, inplace=False)\n            )\n            (drop_path2): DropPath(drop_prob=0.018)\n            (local_conv): ConvNorm(\n              (conv): Conv2d(192, 192, kernel_size=(3, 3), stride=(1, 1), padding=(1, 1), groups=192, bias=False)\n              (bn): BatchNorm2d(192, eps=1e-05, momentum=0.1, affine=True, track_running_stats=True)\n            )\n          )\n          (1): TinyVitBlock(\n            dim=192, num_heads=6, window_size=12, mlp_ratio=4.0\n            (attn): Attention(\n              (norm): LayerNorm((192,), eps=1e-05, elementwise_affine=True)\n              (qkv): Linear(in_features=192, out_features=576, bias=True)\n              (proj): Linear(in_features=192, out_features=192, bias=True)\n            )\n            (drop_path1): DropPath(drop_prob=0.027)\n            (mlp): NormMlp(\n              (norm): LayerNorm((192,), eps=1e-05, elementwise_affine=True)\n              (fc1): Linear(in_features=192, out_features=768, bias=True)\n              (act): GELU(approximate='none')\n              (drop1): Dropout(p=0.0, inplace=False)\n              (fc2): Linear(in_features=768, out_features=192, bias=True)\n              (drop2): Dropout(p=0.0, inplace=False)\n            )\n            (drop_path2): DropPath(drop_prob=0.027)\n            (local_conv): ConvNorm(\n              (conv): Conv2d(192, 192, kernel_size=(3, 3), stride=(1, 1), padding=(1, 1), groups=192, bias=False)\n              (bn): BatchNorm2d(192, eps=1e-05, momentum=0.1, affine=True, track_running_stats=True)\n            )\n          )\n        )\n      )\n      (2): TinyVitStage(\n        dim=384, depth=6\n        (downsample): PatchMerging(\n          (conv1): ConvNorm(\n            (conv): Conv2d(192, 384, kernel_size=(1, 1), stride=(1, 1), bias=False)\n            (bn): BatchNorm2d(384, eps=1e-05, momentum=0.1, affine=True, track_running_stats=True)\n          )\n          (act1): GELU(approximate='none')\n          (conv2): ConvNorm(\n            (conv): Conv2d(384, 384, kernel_size=(3, 3), stride=(2, 2), padding=(1, 1), groups=384, bias=False)\n            (bn): BatchNorm2d(384, eps=1e-05, momentum=0.1, affine=True, track_running_stats=True)\n          )\n          (act2): GELU(approximate='none')\n          (conv3): ConvNorm(\n            (conv): Conv2d(384, 384, kernel_size=(1, 1), stride=(1, 1), bias=False)\n            (bn): BatchNorm2d(384, eps=1e-05, momentum=0.1, affine=True, track_running_stats=True)\n          )\n        )\n        (blocks): Sequential(\n          (0): TinyVitBlock(\n            dim=384, num_heads=12, window_size=24, mlp_ratio=4.0\n            (attn): Attention(\n              (norm): LayerNorm((384,), eps=1e-05, elementwise_affine=True)\n              (qkv): Linear(in_features=384, out_features=1152, bias=True)\n              (proj): Linear(in_features=384, out_features=384, bias=True)\n            )\n            (drop_path1): DropPath(drop_prob=0.036)\n            (mlp): NormMlp(\n              (norm): LayerNorm((384,), eps=1e-05, elementwise_affine=True)\n              (fc1): Linear(in_features=384, out_features=1536, bias=True)\n              (act): GELU(approximate='none')\n              (drop1): Dropout(p=0.0, inplace=False)\n              (fc2): Linear(in_features=1536, out_features=384, bias=True)\n              (drop2): Dropout(p=0.0, inplace=False)\n            )\n            (drop_path2): DropPath(drop_prob=0.036)\n            (local_conv): ConvNorm(\n              (conv): Conv2d(384, 384, kernel_size=(3, 3), stride=(1, 1), padding=(1, 1), groups=384, bias=False)\n              (bn): BatchNorm2d(384, eps=1e-05, momentum=0.1, affine=True, track_running_stats=True)\n            )\n          )\n          (1): TinyVitBlock(\n            dim=384, num_heads=12, window_size=24, mlp_ratio=4.0\n            (attn): Attention(\n              (norm): LayerNorm((384,), eps=1e-05, elementwise_affine=True)\n              (qkv): Linear(in_features=384, out_features=1152, bias=True)\n              (proj): Linear(in_features=384, out_features=384, bias=True)\n            )\n            (drop_path1): DropPath(drop_prob=0.045)\n            (mlp): NormMlp(\n              (norm): LayerNorm((384,), eps=1e-05, elementwise_affine=True)\n              (fc1): Linear(in_features=384, out_features=1536, bias=True)\n              (act): GELU(approximate='none')\n              (drop1): Dropout(p=0.0, inplace=False)\n              (fc2): Linear(in_features=1536, out_features=384, bias=True)\n              (drop2): Dropout(p=0.0, inplace=False)\n            )\n            (drop_path2): DropPath(drop_prob=0.045)\n            (local_conv): ConvNorm(\n              (conv): Conv2d(384, 384, kernel_size=(3, 3), stride=(1, 1), padding=(1, 1), groups=384, bias=False)\n              (bn): BatchNorm2d(384, eps=1e-05, momentum=0.1, affine=True, track_running_stats=True)\n            )\n          )\n          (2): TinyVitBlock(\n            dim=384, num_heads=12, window_size=24, mlp_ratio=4.0\n            (attn): Attention(\n              (norm): LayerNorm((384,), eps=1e-05, elementwise_affine=True)\n              (qkv): Linear(in_features=384, out_features=1152, bias=True)\n              (proj): Linear(in_features=384, out_features=384, bias=True)\n            )\n            (drop_path1): DropPath(drop_prob=0.055)\n            (mlp): NormMlp(\n              (norm): LayerNorm((384,), eps=1e-05, elementwise_affine=True)\n              (fc1): Linear(in_features=384, out_features=1536, bias=True)\n              (act): GELU(approximate='none')\n              (drop1): Dropout(p=0.0, inplace=False)\n              (fc2): Linear(in_features=1536, out_features=384, bias=True)\n              (drop2): Dropout(p=0.0, inplace=False)\n            )\n            (drop_path2): DropPath(drop_prob=0.055)\n            (local_conv): ConvNorm(\n              (conv): Conv2d(384, 384, kernel_size=(3, 3), stride=(1, 1), padding=(1, 1), groups=384, bias=False)\n              (bn): BatchNorm2d(384, eps=1e-05, momentum=0.1, affine=True, track_running_stats=True)\n            )\n          )\n          (3): TinyVitBlock(\n            dim=384, num_heads=12, window_size=24, mlp_ratio=4.0\n            (attn): Attention(\n              (norm): LayerNorm((384,), eps=1e-05, elementwise_affine=True)\n              (qkv): Linear(in_features=384, out_features=1152, bias=True)\n              (proj): Linear(in_features=384, out_features=384, bias=True)\n            )\n            (drop_path1): DropPath(drop_prob=0.064)\n            (mlp): NormMlp(\n              (norm): LayerNorm((384,), eps=1e-05, elementwise_affine=True)\n              (fc1): Linear(in_features=384, out_features=1536, bias=True)\n              (act): GELU(approximate='none')\n              (drop1): Dropout(p=0.0, inplace=False)\n              (fc2): Linear(in_features=1536, out_features=384, bias=True)\n              (drop2): Dropout(p=0.0, inplace=False)\n            )\n            (drop_path2): DropPath(drop_prob=0.064)\n            (local_conv): ConvNorm(\n              (conv): Conv2d(384, 384, kernel_size=(3, 3), stride=(1, 1), padding=(1, 1), groups=384, bias=False)\n              (bn): BatchNorm2d(384, eps=1e-05, momentum=0.1, affine=True, track_running_stats=True)\n            )\n          )\n          (4): TinyVitBlock(\n            dim=384, num_heads=12, window_size=24, mlp_ratio=4.0\n            (attn): Attention(\n              (norm): LayerNorm((384,), eps=1e-05, elementwise_affine=True)\n              (qkv): Linear(in_features=384, out_features=1152, bias=True)\n              (proj): Linear(in_features=384, out_features=384, bias=True)\n            )\n            (drop_path1): DropPath(drop_prob=0.073)\n            (mlp): NormMlp(\n              (norm): LayerNorm((384,), eps=1e-05, elementwise_affine=True)\n              (fc1): Linear(in_features=384, out_features=1536, bias=True)\n              (act): GELU(approximate='none')\n              (drop1): Dropout(p=0.0, inplace=False)\n              (fc2): Linear(in_features=1536, out_features=384, bias=True)\n              (drop2): Dropout(p=0.0, inplace=False)\n            )\n            (drop_path2): DropPath(drop_prob=0.073)\n            (local_conv): ConvNorm(\n              (conv): Conv2d(384, 384, kernel_size=(3, 3), stride=(1, 1), padding=(1, 1), groups=384, bias=False)\n              (bn): BatchNorm2d(384, eps=1e-05, momentum=0.1, affine=True, track_running_stats=True)\n            )\n          )\n          (5): TinyVitBlock(\n            dim=384, num_heads=12, window_size=24, mlp_ratio=4.0\n            (attn): Attention(\n              (norm): LayerNorm((384,), eps=1e-05, elementwise_affine=True)\n              (qkv): Linear(in_features=384, out_features=1152, bias=True)\n              (proj): Linear(in_features=384, out_features=384, bias=True)\n            )\n            (drop_path1): DropPath(drop_prob=0.082)\n            (mlp): NormMlp(\n              (norm): LayerNorm((384,), eps=1e-05, elementwise_affine=True)\n              (fc1): Linear(in_features=384, out_features=1536, bias=True)\n              (act): GELU(approximate='none')\n              (drop1): Dropout(p=0.0, inplace=False)\n              (fc2): Linear(in_features=1536, out_features=384, bias=True)\n              (drop2): Dropout(p=0.0, inplace=False)\n            )\n            (drop_path2): DropPath(drop_prob=0.082)\n            (local_conv): ConvNorm(\n              (conv): Conv2d(384, 384, kernel_size=(3, 3), stride=(1, 1), padding=(1, 1), groups=384, bias=False)\n              (bn): BatchNorm2d(384, eps=1e-05, momentum=0.1, affine=True, track_running_stats=True)\n            )\n          )\n        )\n      )\n      (3): TinyVitStage(\n        dim=576, depth=2\n        (downsample): PatchMerging(\n          (conv1): ConvNorm(\n            (conv): Conv2d(384, 576, kernel_size=(1, 1), stride=(1, 1), bias=False)\n            (bn): BatchNorm2d(576, eps=1e-05, momentum=0.1, affine=True, track_running_stats=True)\n          )\n          (act1): GELU(approximate='none')\n          (conv2): ConvNorm(\n            (conv): Conv2d(576, 576, kernel_size=(3, 3), stride=(2, 2), padding=(1, 1), groups=576, bias=False)\n            (bn): BatchNorm2d(576, eps=1e-05, momentum=0.1, affine=True, track_running_stats=True)\n          )\n          (act2): GELU(approximate='none')\n          (conv3): ConvNorm(\n            (conv): Conv2d(576, 576, kernel_size=(1, 1), stride=(1, 1), bias=False)\n            (bn): BatchNorm2d(576, eps=1e-05, momentum=0.1, affine=True, track_running_stats=True)\n          )\n        )\n        (blocks): Sequential(\n          (0): TinyVitBlock(\n            dim=576, num_heads=18, window_size=12, mlp_ratio=4.0\n            (attn): Attention(\n              (norm): LayerNorm((576,), eps=1e-05, elementwise_affine=True)\n              (qkv): Linear(in_features=576, out_features=1728, bias=True)\n              (proj): Linear(in_features=576, out_features=576, bias=True)\n            )\n            (drop_path1): DropPath(drop_prob=0.091)\n            (mlp): NormMlp(\n              (norm): LayerNorm((576,), eps=1e-05, elementwise_affine=True)\n              (fc1): Linear(in_features=576, out_features=2304, bias=True)\n              (act): GELU(approximate='none')\n              (drop1): Dropout(p=0.0, inplace=False)\n              (fc2): Linear(in_features=2304, out_features=576, bias=True)\n              (drop2): Dropout(p=0.0, inplace=False)\n            )\n            (drop_path2): DropPath(drop_prob=0.091)\n            (local_conv): ConvNorm(\n              (conv): Conv2d(576, 576, kernel_size=(3, 3), stride=(1, 1), padding=(1, 1), groups=576, bias=False)\n              (bn): BatchNorm2d(576, eps=1e-05, momentum=0.1, affine=True, track_running_stats=True)\n            )\n          )\n          (1): TinyVitBlock(\n            dim=576, num_heads=18, window_size=12, mlp_ratio=4.0\n            (attn): Attention(\n              (norm): LayerNorm((576,), eps=1e-05, elementwise_affine=True)\n              (qkv): Linear(in_features=576, out_features=1728, bias=True)\n              (proj): Linear(in_features=576, out_features=576, bias=True)\n            )\n            (drop_path1): DropPath(drop_prob=0.100)\n            (mlp): NormMlp(\n              (norm): LayerNorm((576,), eps=1e-05, elementwise_affine=True)\n              (fc1): Linear(in_features=576, out_features=2304, bias=True)\n              (act): GELU(approximate='none')\n              (drop1): Dropout(p=0.0, inplace=False)\n              (fc2): Linear(in_features=2304, out_features=576, bias=True)\n              (drop2): Dropout(p=0.0, inplace=False)\n            )\n            (drop_path2): DropPath(drop_prob=0.100)\n            (local_conv): ConvNorm(\n              (conv): Conv2d(576, 576, kernel_size=(3, 3), stride=(1, 1), padding=(1, 1), groups=576, bias=False)\n              (bn): BatchNorm2d(576, eps=1e-05, momentum=0.1, affine=True, track_running_stats=True)\n            )\n          )\n        )\n      )\n    )\n    (head): NormMlpClassifierHead(\n      (global_pool): SelectAdaptivePool2d(pool_type=avg, flatten=Identity())\n      (norm): LayerNorm2d((576,), eps=1e-05, elementwise_affine=True)\n      (flatten): Flatten(start_dim=1, end_dim=-1)\n      (pre_logits): Identity()\n      (drop): Dropout(p=0.0, inplace=False)\n      (fc): Identity()\n    )\n  )\n  (classifier): Sequential(\n    (0): LayerNorm((576,), eps=1e-05, elementwise_affine=True)\n    (1): LeakyReLU(negative_slope=0.01)\n    (2): Dropout(p=0.5, inplace=False)\n    (3): Linear(in_features=576, out_features=50, bias=True)\n  )\n)"
     },
     "execution_count": 34,
     "metadata": {},
     "output_type": "execute_result"
    }
   ],
   "source": [
    "checkpoint = os.path.join(data_path, f'runs/{run_id}/best_model.pt')\n",
    "print(f'CHECKPOINT LOADED: {checkpoint}')\n",
    "infer_model = torch.load(checkpoint)\n",
    "infer_model.to(device)\n",
    "infer_model.eval()"
   ],
   "metadata": {
    "collapsed": false,
    "ExecuteTime": {
     "end_time": "2023-12-16T10:01:37.649676500Z",
     "start_time": "2023-12-16T10:01:37.515973400Z"
    }
   },
   "id": "605d913e0df9b6"
  },
  {
   "cell_type": "code",
   "execution_count": 35,
   "outputs": [
    {
     "name": "stdout",
     "output_type": "stream",
     "text": [
      "Done.\n"
     ]
    }
   ],
   "source": [
    "preds = inference(infer_model, test_loader, device)"
   ],
   "metadata": {
    "collapsed": false,
    "ExecuteTime": {
     "end_time": "2023-12-16T10:03:34.719957900Z",
     "start_time": "2023-12-16T10:01:37.649676500Z"
    }
   },
   "id": "9df29cbb4653101f"
  },
  {
   "cell_type": "code",
   "execution_count": 36,
   "outputs": [],
   "source": [
    "preds = le.inverse_transform(preds)"
   ],
   "metadata": {
    "collapsed": false,
    "ExecuteTime": {
     "end_time": "2023-12-16T10:03:34.758774500Z",
     "start_time": "2023-12-16T10:03:34.719957900Z"
    }
   },
   "id": "37b7f04a0b4de44f"
  },
  {
   "cell_type": "code",
   "execution_count": 37,
   "outputs": [],
   "source": [
    "submit = pd.read_csv(os.path.join(data_path, './sample_submission.csv'))"
   ],
   "metadata": {
    "collapsed": false,
    "ExecuteTime": {
     "end_time": "2023-12-16T10:03:34.758774500Z",
     "start_time": "2023-12-16T10:03:34.743136500Z"
    }
   },
   "id": "fe59292099a9b96e"
  },
  {
   "cell_type": "code",
   "execution_count": 38,
   "outputs": [],
   "source": [
    "submit['artist'] = preds"
   ],
   "metadata": {
    "collapsed": false,
    "ExecuteTime": {
     "end_time": "2023-12-16T10:03:34.774400Z",
     "start_time": "2023-12-16T10:03:34.758774500Z"
    }
   },
   "id": "8582475a6cb3db6f"
  },
  {
   "cell_type": "code",
   "execution_count": 39,
   "outputs": [
    {
     "data": {
      "text/plain": "           id             artist\n0  TEST_00000        Edgar Degas\n1  TEST_00001  Amedeo Modigliani\n2  TEST_00002         Caravaggio\n3  TEST_00003    Albrecht Du rer\n4  TEST_00004  Amedeo Modigliani",
      "text/html": "<div>\n<style scoped>\n    .dataframe tbody tr th:only-of-type {\n        vertical-align: middle;\n    }\n\n    .dataframe tbody tr th {\n        vertical-align: top;\n    }\n\n    .dataframe thead th {\n        text-align: right;\n    }\n</style>\n<table border=\"1\" class=\"dataframe\">\n  <thead>\n    <tr style=\"text-align: right;\">\n      <th></th>\n      <th>id</th>\n      <th>artist</th>\n    </tr>\n  </thead>\n  <tbody>\n    <tr>\n      <th>0</th>\n      <td>TEST_00000</td>\n      <td>Edgar Degas</td>\n    </tr>\n    <tr>\n      <th>1</th>\n      <td>TEST_00001</td>\n      <td>Amedeo Modigliani</td>\n    </tr>\n    <tr>\n      <th>2</th>\n      <td>TEST_00002</td>\n      <td>Caravaggio</td>\n    </tr>\n    <tr>\n      <th>3</th>\n      <td>TEST_00003</td>\n      <td>Albrecht Du rer</td>\n    </tr>\n    <tr>\n      <th>4</th>\n      <td>TEST_00004</td>\n      <td>Amedeo Modigliani</td>\n    </tr>\n  </tbody>\n</table>\n</div>"
     },
     "execution_count": 39,
     "metadata": {},
     "output_type": "execute_result"
    }
   ],
   "source": [
    "submit.head()"
   ],
   "metadata": {
    "collapsed": false,
    "ExecuteTime": {
     "end_time": "2023-12-16T10:03:34.793588800Z",
     "start_time": "2023-12-16T10:03:34.777876Z"
    }
   },
   "id": "15bd98c5d6b59bf4"
  },
  {
   "cell_type": "code",
   "execution_count": 40,
   "outputs": [],
   "source": [
    "submit.to_csv(os.path.join(data_path, f\"./submit_{CFG['FILENAME']}.csv\"), index=False)"
   ],
   "metadata": {
    "collapsed": false,
    "ExecuteTime": {
     "end_time": "2023-12-16T10:03:34.863835600Z",
     "start_time": "2023-12-16T10:03:34.793588800Z"
    }
   },
   "id": "eed3cb0dc59f47f7"
  },
  {
   "cell_type": "code",
   "execution_count": 40,
   "outputs": [],
   "source": [],
   "metadata": {
    "collapsed": false,
    "ExecuteTime": {
     "end_time": "2023-12-16T10:03:34.863835600Z",
     "start_time": "2023-12-16T10:03:34.816547Z"
    }
   },
   "id": "d3ed2b836c4e558b"
  }
 ],
 "metadata": {
  "kernelspec": {
   "display_name": "Python 3",
   "language": "python",
   "name": "python3"
  },
  "language_info": {
   "codemirror_mode": {
    "name": "ipython",
    "version": 2
   },
   "file_extension": ".py",
   "mimetype": "text/x-python",
   "name": "python",
   "nbconvert_exporter": "python",
   "pygments_lexer": "ipython2",
   "version": "2.7.6"
  }
 },
 "nbformat": 4,
 "nbformat_minor": 5
}
