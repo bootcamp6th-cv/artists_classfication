{
 "cells": [
  {
   "cell_type": "markdown",
   "source": [
    "#  CAFormer-S18\n",
    "* CAFormer-S18 적용\n",
    "    - caformer_s18.sail_in22k_ft_in1k_384\n",
    "    - dropout, normalization 적용\n",
    "* Augmentation\n",
    "    - Transpose # 행렬 스왑\n",
    "    - HorizontalFlip # 좌우 반전\n",
    "    - VerticalFlip # 상하 반전\n",
    "    - CoarseDrop\n",
    "* lr scheduler\n",
    "    - Custom CosineAnnealingWarmUpRestarts\n",
    "    - T_hold : min_lr * 10 적용\n",
    "* optimizer\n",
    "    - AdamW\n",
    "* focal loss 적용\n",
    "* cutmix \n",
    "    - lam `0~0.25`, `0.75~1`\n",
    "* result\n",
    "* Epoch [29], Train Loss : [0.23158] Val Loss : [0.37866] Val F1 Score : [0.83640]\n",
    "    - train loss : 0.2319 \n",
    "    - validation loss : 0.3787\n",
    "    - f1 score : 0.8364\n",
    "    - epoch : 29\n",
    "    - public 점수 : 0.8099172517\n",
    "    - private 점수 : 0.8024857807"
   ],
   "metadata": {
    "collapsed": false
   },
   "id": "35ad6a7e30f8925e"
  },
  {
   "cell_type": "code",
   "execution_count": 1,
   "outputs": [],
   "source": [
    "import gc\n",
    "import os\n",
    "import random\n",
    "from datetime import datetime\n",
    "\n",
    "import pandas as pd\n",
    "import numpy as np\n",
    "import matplotlib.pyplot as plt\n",
    "import seaborn as sns\n",
    "import cv2\n",
    "\n",
    "from sklearn import preprocessing\n",
    "from sklearn.model_selection import train_test_split\n",
    "from sklearn.metrics import f1_score\n",
    "\n",
    "import torch\n",
    "import torch.nn as nn\n",
    "import torch.optim as optim\n",
    "import torch.nn.functional as F\n",
    "from torch.utils.data import Dataset, DataLoader\n",
    "\n",
    "from tqdm.auto import tqdm\n",
    "\n",
    "import albumentations as A\n",
    "from albumentations.pytorch.transforms import ToTensorV2\n",
    "\n",
    "import timm\n",
    "\n",
    "import warnings\n",
    "warnings.filterwarnings(action='ignore') "
   ],
   "metadata": {
    "collapsed": false,
    "ExecuteTime": {
     "end_time": "2023-12-27T10:39:43.646605600Z",
     "start_time": "2023-12-27T10:39:41.120706800Z"
    }
   },
   "id": "initial_id"
  },
  {
   "cell_type": "code",
   "execution_count": 2,
   "outputs": [
    {
     "data": {
      "text/plain": "['caformer_b36.sail_in1k',\n 'caformer_b36.sail_in1k_384',\n 'caformer_b36.sail_in22k',\n 'caformer_b36.sail_in22k_ft_in1k',\n 'caformer_b36.sail_in22k_ft_in1k_384',\n 'caformer_m36.sail_in1k',\n 'caformer_m36.sail_in1k_384',\n 'caformer_m36.sail_in22k',\n 'caformer_m36.sail_in22k_ft_in1k',\n 'caformer_m36.sail_in22k_ft_in1k_384',\n 'caformer_s18.sail_in1k',\n 'caformer_s18.sail_in1k_384',\n 'caformer_s18.sail_in22k',\n 'caformer_s18.sail_in22k_ft_in1k',\n 'caformer_s18.sail_in22k_ft_in1k_384',\n 'caformer_s36.sail_in1k',\n 'caformer_s36.sail_in1k_384',\n 'caformer_s36.sail_in22k',\n 'caformer_s36.sail_in22k_ft_in1k',\n 'caformer_s36.sail_in22k_ft_in1k_384']"
     },
     "execution_count": 2,
     "metadata": {},
     "output_type": "execute_result"
    }
   ],
   "source": [
    "timm.list_models('*caf*',pretrained=True)"
   ],
   "metadata": {
    "collapsed": false,
    "ExecuteTime": {
     "end_time": "2023-12-27T10:39:43.662258700Z",
     "start_time": "2023-12-27T10:39:43.646605600Z"
    }
   },
   "id": "3f5145dc638dcbe5"
  },
  {
   "cell_type": "code",
   "execution_count": 3,
   "outputs": [],
   "source": [
    "device = torch.device('cuda') if torch.cuda.is_available() else torch.device('cpu')"
   ],
   "metadata": {
    "collapsed": false,
    "ExecuteTime": {
     "end_time": "2023-12-27T10:39:43.693596400Z",
     "start_time": "2023-12-27T10:39:43.677965600Z"
    }
   },
   "id": "5fc1ff58a4a9d6d1"
  },
  {
   "cell_type": "code",
   "execution_count": 4,
   "outputs": [],
   "source": [
    "CFG = {\n",
    "    'IMG_SIZE': 272,\n",
    "    'EPOCHS': 1000,\n",
    "    'LEARNING_RATE': 5e-7,\n",
    "    'BATCH_SIZE': 16,\n",
    "    'PATIENCE': 12,\n",
    "    'WARMUP': 6,\n",
    "    'FILENAME': 'caformer_s18',\n",
    "    'SEED': 6\n",
    "}"
   ],
   "metadata": {
    "collapsed": false,
    "ExecuteTime": {
     "end_time": "2023-12-27T10:39:43.709281Z",
     "start_time": "2023-12-27T10:39:43.693596400Z"
    }
   },
   "id": "5c99354cb0d52004"
  },
  {
   "cell_type": "code",
   "execution_count": 5,
   "outputs": [],
   "source": [
    "def seed_everything(seed):\n",
    "    random.seed(seed)\n",
    "    os.environ['PYTHONHASHSEED'] = str(seed)\n",
    "    np.random.seed(seed)\n",
    "    torch.manual_seed(seed)\n",
    "    torch.cuda.manual_seed(seed)\n",
    "    torch.cuda.manual_seed_all(seed)\n",
    "    torch.backends.cudnn.deterministic = True\n",
    "    torch.backends.cudnn.benchmark = False\n",
    "\n",
    "seed_everything(CFG['SEED']) # Seed 고정"
   ],
   "metadata": {
    "collapsed": false,
    "ExecuteTime": {
     "end_time": "2023-12-27T10:39:43.730987100Z",
     "start_time": "2023-12-27T10:39:43.709281Z"
    }
   },
   "id": "57142b16a76126df"
  },
  {
   "cell_type": "code",
   "execution_count": 6,
   "outputs": [],
   "source": [
    "running_colab = 'google.colab' in str(get_ipython()) if hasattr(__builtins__,'__IPYTHON__') else False\n",
    "if running_colab:\n",
    "    from google.colab import drive\n",
    "    drive.mount('/content/drive')\n",
    "if running_colab:\n",
    "    data_path = '/content/drive/MyDrive/Colab Notebooks/ai6th/data/optiver/'\n",
    "else:\n",
    "    data_path = '../../data/'"
   ],
   "metadata": {
    "collapsed": false,
    "ExecuteTime": {
     "end_time": "2023-12-27T10:39:43.746988900Z",
     "start_time": "2023-12-27T10:39:43.730913300Z"
    }
   },
   "id": "858b421c8c479378"
  },
  {
   "cell_type": "code",
   "execution_count": 7,
   "outputs": [
    {
     "data": {
      "text/plain": "   id          img_path            artist\n0   0  ./train/0000.jpg   Diego Velazquez\n1   1  ./train/0001.jpg  Vincent van Gogh\n2   2  ./train/0002.jpg      Claude Monet\n3   3  ./train/0003.jpg       Edgar Degas\n4   4  ./train/0004.jpg  Hieronymus Bosch",
      "text/html": "<div>\n<style scoped>\n    .dataframe tbody tr th:only-of-type {\n        vertical-align: middle;\n    }\n\n    .dataframe tbody tr th {\n        vertical-align: top;\n    }\n\n    .dataframe thead th {\n        text-align: right;\n    }\n</style>\n<table border=\"1\" class=\"dataframe\">\n  <thead>\n    <tr style=\"text-align: right;\">\n      <th></th>\n      <th>id</th>\n      <th>img_path</th>\n      <th>artist</th>\n    </tr>\n  </thead>\n  <tbody>\n    <tr>\n      <th>0</th>\n      <td>0</td>\n      <td>./train/0000.jpg</td>\n      <td>Diego Velazquez</td>\n    </tr>\n    <tr>\n      <th>1</th>\n      <td>1</td>\n      <td>./train/0001.jpg</td>\n      <td>Vincent van Gogh</td>\n    </tr>\n    <tr>\n      <th>2</th>\n      <td>2</td>\n      <td>./train/0002.jpg</td>\n      <td>Claude Monet</td>\n    </tr>\n    <tr>\n      <th>3</th>\n      <td>3</td>\n      <td>./train/0003.jpg</td>\n      <td>Edgar Degas</td>\n    </tr>\n    <tr>\n      <th>4</th>\n      <td>4</td>\n      <td>./train/0004.jpg</td>\n      <td>Hieronymus Bosch</td>\n    </tr>\n  </tbody>\n</table>\n</div>"
     },
     "execution_count": 7,
     "metadata": {},
     "output_type": "execute_result"
    }
   ],
   "source": [
    "df = pd.read_csv(os.path.join(data_path, 'train.csv'))\n",
    "df.loc[3896, 'artist'] = 'Titian'\n",
    "df.loc[3986, 'artist'] = 'Alfred Sisley'\n",
    "df.head()"
   ],
   "metadata": {
    "collapsed": false,
    "ExecuteTime": {
     "end_time": "2023-12-27T10:39:43.765695100Z",
     "start_time": "2023-12-27T10:39:43.730987100Z"
    }
   },
   "id": "60ed6dfb973bafc5"
  },
  {
   "cell_type": "code",
   "execution_count": 8,
   "outputs": [],
   "source": [
    "artists = df.groupby('artist')[['id']].count().rename(columns={'id':'count'}).reset_index()"
   ],
   "metadata": {
    "collapsed": false,
    "ExecuteTime": {
     "end_time": "2023-12-27T10:39:43.801184100Z",
     "start_time": "2023-12-27T10:39:43.765695100Z"
    }
   },
   "id": "c031773f1ed5ca85"
  },
  {
   "cell_type": "code",
   "execution_count": 9,
   "outputs": [],
   "source": [
    "# Label Encoding\n",
    "le = preprocessing.LabelEncoder()\n",
    "df['artist'] = le.fit_transform(df['artist'].values)"
   ],
   "metadata": {
    "collapsed": false,
    "ExecuteTime": {
     "end_time": "2023-12-27T10:39:43.822478700Z",
     "start_time": "2023-12-27T10:39:43.781344600Z"
    }
   },
   "id": "2ae8b183518c9394"
  },
  {
   "cell_type": "code",
   "execution_count": 10,
   "outputs": [],
   "source": [
    "train_df, val_df = train_test_split(df, test_size=0.2, random_state=CFG['SEED'], stratify=df['artist'])"
   ],
   "metadata": {
    "collapsed": false,
    "ExecuteTime": {
     "end_time": "2023-12-27T10:39:43.888083100Z",
     "start_time": "2023-12-27T10:39:43.801184100Z"
    }
   },
   "id": "71c56b6890f87998"
  },
  {
   "cell_type": "code",
   "execution_count": 11,
   "outputs": [
    {
     "data": {
      "text/plain": "   id          img_path  artist\n0   0  ./train/0000.jpg       9\n1   1  ./train/0001.jpg      48\n2   2  ./train/0002.jpg       7\n3   3  ./train/0003.jpg      10\n4   4  ./train/0004.jpg      24",
      "text/html": "<div>\n<style scoped>\n    .dataframe tbody tr th:only-of-type {\n        vertical-align: middle;\n    }\n\n    .dataframe tbody tr th {\n        vertical-align: top;\n    }\n\n    .dataframe thead th {\n        text-align: right;\n    }\n</style>\n<table border=\"1\" class=\"dataframe\">\n  <thead>\n    <tr style=\"text-align: right;\">\n      <th></th>\n      <th>id</th>\n      <th>img_path</th>\n      <th>artist</th>\n    </tr>\n  </thead>\n  <tbody>\n    <tr>\n      <th>0</th>\n      <td>0</td>\n      <td>./train/0000.jpg</td>\n      <td>9</td>\n    </tr>\n    <tr>\n      <th>1</th>\n      <td>1</td>\n      <td>./train/0001.jpg</td>\n      <td>48</td>\n    </tr>\n    <tr>\n      <th>2</th>\n      <td>2</td>\n      <td>./train/0002.jpg</td>\n      <td>7</td>\n    </tr>\n    <tr>\n      <th>3</th>\n      <td>3</td>\n      <td>./train/0003.jpg</td>\n      <td>10</td>\n    </tr>\n    <tr>\n      <th>4</th>\n      <td>4</td>\n      <td>./train/0004.jpg</td>\n      <td>24</td>\n    </tr>\n  </tbody>\n</table>\n</div>"
     },
     "execution_count": 11,
     "metadata": {},
     "output_type": "execute_result"
    }
   ],
   "source": [
    "train_df = train_df.sort_values(by=['id'])\n",
    "train_df.head()"
   ],
   "metadata": {
    "collapsed": false,
    "ExecuteTime": {
     "end_time": "2023-12-27T10:39:43.955068600Z",
     "start_time": "2023-12-27T10:39:43.822478700Z"
    }
   },
   "id": "3146f5ea6c5ce2c4"
  },
  {
   "cell_type": "code",
   "execution_count": 12,
   "outputs": [
    {
     "data": {
      "text/plain": "      id          img_path  artist\n14    14  ./train/0014.jpg      15\n19    19  ./train/0019.jpg      46\n20    20  ./train/0020.jpg      32\n26    26  ./train/0026.jpg      37\n27    27  ./train/0027.jpg      15\n28    28  ./train/0028.jpg      47\n29    29  ./train/0029.jpg      28\n32    32  ./train/0032.jpg       4\n33    33  ./train/0033.jpg      33\n37    37  ./train/0037.jpg      33\n44    44  ./train/0044.jpg      15\n54    54  ./train/0054.jpg       0\n65    65  ./train/0065.jpg      14\n72    72  ./train/0072.jpg      10\n86    86  ./train/0086.jpg      10\n96    96  ./train/0096.jpg      13\n97    97  ./train/0097.jpg      43\n98    98  ./train/0098.jpg       1\n108  108  ./train/0108.jpg      36\n116  116  ./train/0116.jpg      29",
      "text/html": "<div>\n<style scoped>\n    .dataframe tbody tr th:only-of-type {\n        vertical-align: middle;\n    }\n\n    .dataframe tbody tr th {\n        vertical-align: top;\n    }\n\n    .dataframe thead th {\n        text-align: right;\n    }\n</style>\n<table border=\"1\" class=\"dataframe\">\n  <thead>\n    <tr style=\"text-align: right;\">\n      <th></th>\n      <th>id</th>\n      <th>img_path</th>\n      <th>artist</th>\n    </tr>\n  </thead>\n  <tbody>\n    <tr>\n      <th>14</th>\n      <td>14</td>\n      <td>./train/0014.jpg</td>\n      <td>15</td>\n    </tr>\n    <tr>\n      <th>19</th>\n      <td>19</td>\n      <td>./train/0019.jpg</td>\n      <td>46</td>\n    </tr>\n    <tr>\n      <th>20</th>\n      <td>20</td>\n      <td>./train/0020.jpg</td>\n      <td>32</td>\n    </tr>\n    <tr>\n      <th>26</th>\n      <td>26</td>\n      <td>./train/0026.jpg</td>\n      <td>37</td>\n    </tr>\n    <tr>\n      <th>27</th>\n      <td>27</td>\n      <td>./train/0027.jpg</td>\n      <td>15</td>\n    </tr>\n    <tr>\n      <th>28</th>\n      <td>28</td>\n      <td>./train/0028.jpg</td>\n      <td>47</td>\n    </tr>\n    <tr>\n      <th>29</th>\n      <td>29</td>\n      <td>./train/0029.jpg</td>\n      <td>28</td>\n    </tr>\n    <tr>\n      <th>32</th>\n      <td>32</td>\n      <td>./train/0032.jpg</td>\n      <td>4</td>\n    </tr>\n    <tr>\n      <th>33</th>\n      <td>33</td>\n      <td>./train/0033.jpg</td>\n      <td>33</td>\n    </tr>\n    <tr>\n      <th>37</th>\n      <td>37</td>\n      <td>./train/0037.jpg</td>\n      <td>33</td>\n    </tr>\n    <tr>\n      <th>44</th>\n      <td>44</td>\n      <td>./train/0044.jpg</td>\n      <td>15</td>\n    </tr>\n    <tr>\n      <th>54</th>\n      <td>54</td>\n      <td>./train/0054.jpg</td>\n      <td>0</td>\n    </tr>\n    <tr>\n      <th>65</th>\n      <td>65</td>\n      <td>./train/0065.jpg</td>\n      <td>14</td>\n    </tr>\n    <tr>\n      <th>72</th>\n      <td>72</td>\n      <td>./train/0072.jpg</td>\n      <td>10</td>\n    </tr>\n    <tr>\n      <th>86</th>\n      <td>86</td>\n      <td>./train/0086.jpg</td>\n      <td>10</td>\n    </tr>\n    <tr>\n      <th>96</th>\n      <td>96</td>\n      <td>./train/0096.jpg</td>\n      <td>13</td>\n    </tr>\n    <tr>\n      <th>97</th>\n      <td>97</td>\n      <td>./train/0097.jpg</td>\n      <td>43</td>\n    </tr>\n    <tr>\n      <th>98</th>\n      <td>98</td>\n      <td>./train/0098.jpg</td>\n      <td>1</td>\n    </tr>\n    <tr>\n      <th>108</th>\n      <td>108</td>\n      <td>./train/0108.jpg</td>\n      <td>36</td>\n    </tr>\n    <tr>\n      <th>116</th>\n      <td>116</td>\n      <td>./train/0116.jpg</td>\n      <td>29</td>\n    </tr>\n  </tbody>\n</table>\n</div>"
     },
     "execution_count": 12,
     "metadata": {},
     "output_type": "execute_result"
    }
   ],
   "source": [
    "val_df = val_df.sort_values(by=['id'])\n",
    "val_df.head(20)"
   ],
   "metadata": {
    "collapsed": false,
    "ExecuteTime": {
     "end_time": "2023-12-27T10:39:43.955068600Z",
     "start_time": "2023-12-27T10:39:43.838140200Z"
    }
   },
   "id": "e4849ea7a525c8cf"
  },
  {
   "cell_type": "code",
   "execution_count": 13,
   "outputs": [],
   "source": [
    "def get_data(df, infer=False):\n",
    "    if infer:\n",
    "        return df['img_path'].apply(lambda p: os.path.join(data_path, p)).values\n",
    "    return df['img_path'].apply(lambda p: os.path.join(data_path, p)).values, df['artist'].values"
   ],
   "metadata": {
    "collapsed": false,
    "ExecuteTime": {
     "end_time": "2023-12-27T10:39:43.955068600Z",
     "start_time": "2023-12-27T10:39:43.856805100Z"
    }
   },
   "id": "db002acff51c03bd"
  },
  {
   "cell_type": "code",
   "execution_count": 14,
   "outputs": [],
   "source": [
    "train_img_paths, train_labels = get_data(train_df)\n",
    "val_img_paths, val_labels = get_data(val_df)"
   ],
   "metadata": {
    "collapsed": false,
    "ExecuteTime": {
     "end_time": "2023-12-27T10:39:43.955068600Z",
     "start_time": "2023-12-27T10:39:43.872459300Z"
    }
   },
   "id": "6a8806270c88c0be"
  },
  {
   "cell_type": "code",
   "execution_count": 15,
   "outputs": [],
   "source": [
    "from torchvision.transforms import ToTensor\n",
    "\n",
    "\n",
    "class CustomDataset(Dataset):\n",
    "    def __init__(self, img_paths, labels, transforms=None):\n",
    "        self.img_paths = img_paths\n",
    "        self.labels = labels\n",
    "        self.transforms = transforms if transforms else ToTensor()\n",
    "\n",
    "    def __getitem__(self, index):\n",
    "        img_path = self.img_paths[index]\n",
    "        image = cv2.imread(img_path)\n",
    "        image = cv2.cvtColor(image, cv2.COLOR_BGR2RGB)\n",
    "        image = self.transforms(image=image)['image']\n",
    "        \n",
    "        if self.labels is not None:\n",
    "            label = self.labels[index]\n",
    "            return image, label\n",
    "        else:\n",
    "            return image\n",
    "    \n",
    "    def __len__(self):\n",
    "        return len(self.img_paths)"
   ],
   "metadata": {
    "collapsed": false,
    "ExecuteTime": {
     "end_time": "2023-12-27T10:39:43.955068600Z",
     "start_time": "2023-12-27T10:39:43.903707800Z"
    }
   },
   "id": "daa8f5c45d3e6316"
  },
  {
   "cell_type": "code",
   "execution_count": 16,
   "outputs": [],
   "source": [
    "train_transform = A.Compose([\n",
    "    A.Resize(CFG['IMG_SIZE']*2,CFG['IMG_SIZE']*2),\n",
    "    A.RandomCrop(CFG['IMG_SIZE'],CFG['IMG_SIZE']),\n",
    "    A.Transpose(p=0.5), # 행렬 스왑\n",
    "    A.HorizontalFlip(p=0.5), # 좌우 반전\n",
    "    A.VerticalFlip(p=0.5), # 상하 반전\n",
    "    # A.ShiftScaleRotate(p=0.5), # 랜덤하게 옮기고, scale, 회전\n",
    "    A.Normalize(mean=(0.485, 0.456, 0.406), std=(0.229, 0.224, 0.225), max_pixel_value=255.0, always_apply=False, p=1.0),\n",
    "    A.CoarseDropout(p=0.5),\n",
    "    ToTensorV2()\n",
    "])\n",
    "\n",
    "validation_transform = A.Compose([\n",
    "    A.Resize(CFG['IMG_SIZE']*2,CFG['IMG_SIZE']*2),\n",
    "    A.RandomCrop(CFG['IMG_SIZE'],CFG['IMG_SIZE']),\n",
    "    A.Normalize(mean=(0.485, 0.456, 0.406), std=(0.229, 0.224, 0.225), max_pixel_value=255.0, always_apply=False, p=1.0),\n",
    "    ToTensorV2()\n",
    "])\n",
    "\n",
    "test_transform = A.Compose([\n",
    "    A.Resize(CFG['IMG_SIZE'],CFG['IMG_SIZE']),\n",
    "    A.Normalize(mean=(0.485, 0.456, 0.406), std=(0.229, 0.224, 0.225), max_pixel_value=255.0, always_apply=False, p=1.0),\n",
    "    ToTensorV2()\n",
    "])"
   ],
   "metadata": {
    "collapsed": false,
    "ExecuteTime": {
     "end_time": "2023-12-27T10:39:43.955068600Z",
     "start_time": "2023-12-27T10:39:43.919333100Z"
    }
   },
   "id": "17b5b770a5fb4839"
  },
  {
   "cell_type": "code",
   "execution_count": 17,
   "outputs": [
    {
     "data": {
      "text/plain": "<torch._C.Generator at 0x1e22bf92a90>"
     },
     "execution_count": 17,
     "metadata": {},
     "output_type": "execute_result"
    }
   ],
   "source": [
    "def seed_worker(worker_id):\n",
    "    worker_seed = torch.initial_seed() % 2 ** 32\n",
    "    np.random.seed(worker_seed)\n",
    "    random.seed(worker_seed)\n",
    "g = torch.Generator()\n",
    "g.manual_seed(0)"
   ],
   "metadata": {
    "collapsed": false,
    "ExecuteTime": {
     "end_time": "2023-12-27T10:39:44.008776100Z",
     "start_time": "2023-12-27T10:39:43.939389600Z"
    }
   },
   "id": "c69fe868589b1093"
  },
  {
   "cell_type": "code",
   "execution_count": 18,
   "outputs": [],
   "source": [
    "class_counts = train_df['artist'].value_counts(sort=False).to_dict()\n",
    "num_samples = sum(class_counts.values())\n",
    "labels = train_df['artist'].to_list()\n",
    "class_weights = {l:round(num_samples/(class_counts[l]**0.5), 2) for l in class_counts.keys()}\n",
    "weights = [class_weights[labels[i]] for i in range(int(num_samples))] \n",
    "sampler = torch.utils.data.WeightedRandomSampler(torch.DoubleTensor(weights), int(num_samples))\n",
    "\n",
    "train_dataset = CustomDataset(train_img_paths, train_labels, train_transform)\n",
    "train_loader = DataLoader(\n",
    "    train_dataset, batch_size = CFG['BATCH_SIZE'], shuffle=True, # sampler=sampler, \n",
    "    worker_init_fn=seed_worker, generator=g, num_workers=0\n",
    ")\n",
    "\n",
    "val_dataset = CustomDataset(val_img_paths, val_labels, validation_transform)\n",
    "val_loader = DataLoader(val_dataset, batch_size=CFG['BATCH_SIZE'], shuffle=False, worker_init_fn=seed_worker, generator=g, num_workers=0)"
   ],
   "metadata": {
    "collapsed": false,
    "ExecuteTime": {
     "end_time": "2023-12-27T10:39:44.040026200Z",
     "start_time": "2023-12-27T10:39:43.955068600Z"
    }
   },
   "id": "3fdc1f9a44a2408e"
  },
  {
   "cell_type": "code",
   "execution_count": 19,
   "outputs": [],
   "source": [
    "class CAFormerModel(nn.Module):\n",
    "    def __init__(self, num_classes=len(le.classes_)):\n",
    "        super(CAFormerModel, self).__init__()\n",
    "        self.backbone = timm.create_model('caformer_s18.sail_in22k_ft_in1k_384', pretrained=True, num_classes=0)\n",
    "        self.classifier = nn.Sequential(\n",
    "            nn.LayerNorm(512),\n",
    "            nn.GELU(),\n",
    "            nn.Dropout(p=0.4),\n",
    "            nn.Linear(512, num_classes)\n",
    "        )\n",
    "            \n",
    "    def forward(self, x):\n",
    "        x = self.backbone(x)\n",
    "        x = self.classifier(x)\n",
    "        return x"
   ],
   "metadata": {
    "collapsed": false,
    "ExecuteTime": {
     "end_time": "2023-12-27T10:39:44.074718500Z",
     "start_time": "2023-12-27T10:39:43.977301300Z"
    }
   },
   "id": "cd5ecc94fada5c8b"
  },
  {
   "cell_type": "code",
   "execution_count": 20,
   "outputs": [
    {
     "name": "stdout",
     "output_type": "stream",
     "text": [
      "===============================================================================================\n",
      "Layer (type:depth-idx)                        Output Shape              Param #\n",
      "===============================================================================================\n",
      "├─MetaFormer: 1-1                             [-1, 512]                 --\n",
      "|    └─Stem: 2-1                              [-1, 64, 68, 68]          --\n",
      "|    |    └─Conv2d: 3-1                       [-1, 64, 68, 68]          9,472\n",
      "|    |    └─LayerNorm2dNoBias: 3-2            [-1, 64, 68, 68]          64\n",
      "|    └─Sequential: 2-2                        [-1, 512, 9, 9]           --\n",
      "|    |    └─MetaFormerStage: 3-3              [-1, 64, 68, 68]          166,668\n",
      "|    |    └─MetaFormerStage: 3-4              [-1, 128, 34, 34]         702,156\n",
      "|    |    └─MetaFormerStage: 3-5              [-1, 320, 17, 17]         11,439,826\n",
      "|    |    └─MetaFormerStage: 3-6              [-1, 512, 9, 9]           10,918,726\n",
      "|    └─Sequential: 2                          []                        --\n",
      "|    |    └─SelectAdaptivePool2d: 3-7         [-1, 512, 1, 1]           --\n",
      "|    |    └─LayerNorm2d: 3-8                  [-1, 512, 1, 1]           1,024\n",
      "|    |    └─Flatten: 3-9                      [-1, 512]                 --\n",
      "|    |    └─Dropout: 3-10                     [-1, 512]                 --\n",
      "|    |    └─Identity: 3-11                    [-1, 512]                 --\n",
      "├─Sequential: 1-2                             [-1, 50]                  --\n",
      "|    └─LayerNorm: 2-3                         [-1, 512]                 1,024\n",
      "|    └─GELU: 2-4                              [-1, 512]                 --\n",
      "|    └─Dropout: 2-5                           [-1, 512]                 --\n",
      "|    └─Linear: 2-6                            [-1, 50]                  25,650\n",
      "===============================================================================================\n",
      "Total params: 23,264,610\n",
      "Trainable params: 23,264,610\n",
      "Non-trainable params: 0\n",
      "Total mult-adds (M): 136.44\n",
      "===============================================================================================\n",
      "Input size (MB): 0.85\n",
      "Forward/backward pass size (MB): 4.52\n",
      "Params size (MB): 88.75\n",
      "Estimated Total Size (MB): 94.12\n",
      "===============================================================================================\n"
     ]
    },
    {
     "data": {
      "text/plain": "===============================================================================================\nLayer (type:depth-idx)                        Output Shape              Param #\n===============================================================================================\n├─MetaFormer: 1-1                             [-1, 512]                 --\n|    └─Stem: 2-1                              [-1, 64, 68, 68]          --\n|    |    └─Conv2d: 3-1                       [-1, 64, 68, 68]          9,472\n|    |    └─LayerNorm2dNoBias: 3-2            [-1, 64, 68, 68]          64\n|    └─Sequential: 2-2                        [-1, 512, 9, 9]           --\n|    |    └─MetaFormerStage: 3-3              [-1, 64, 68, 68]          166,668\n|    |    └─MetaFormerStage: 3-4              [-1, 128, 34, 34]         702,156\n|    |    └─MetaFormerStage: 3-5              [-1, 320, 17, 17]         11,439,826\n|    |    └─MetaFormerStage: 3-6              [-1, 512, 9, 9]           10,918,726\n|    └─Sequential: 2                          []                        --\n|    |    └─SelectAdaptivePool2d: 3-7         [-1, 512, 1, 1]           --\n|    |    └─LayerNorm2d: 3-8                  [-1, 512, 1, 1]           1,024\n|    |    └─Flatten: 3-9                      [-1, 512]                 --\n|    |    └─Dropout: 3-10                     [-1, 512]                 --\n|    |    └─Identity: 3-11                    [-1, 512]                 --\n├─Sequential: 1-2                             [-1, 50]                  --\n|    └─LayerNorm: 2-3                         [-1, 512]                 1,024\n|    └─GELU: 2-4                              [-1, 512]                 --\n|    └─Dropout: 2-5                           [-1, 512]                 --\n|    └─Linear: 2-6                            [-1, 50]                  25,650\n===============================================================================================\nTotal params: 23,264,610\nTrainable params: 23,264,610\nNon-trainable params: 0\nTotal mult-adds (M): 136.44\n===============================================================================================\nInput size (MB): 0.85\nForward/backward pass size (MB): 4.52\nParams size (MB): 88.75\nEstimated Total Size (MB): 94.12\n==============================================================================================="
     },
     "execution_count": 20,
     "metadata": {},
     "output_type": "execute_result"
    }
   ],
   "source": [
    "from torchsummary import summary\n",
    "\n",
    "model = CAFormerModel()\n",
    "summary(model, (3,CFG['IMG_SIZE'],CFG['IMG_SIZE']))"
   ],
   "metadata": {
    "collapsed": false,
    "ExecuteTime": {
     "end_time": "2023-12-27T10:39:54.607450400Z",
     "start_time": "2023-12-27T10:39:43.993145300Z"
    }
   },
   "id": "67da3204ab03efc8"
  },
  {
   "cell_type": "code",
   "execution_count": 21,
   "outputs": [],
   "source": [
    "def clear_mem():\n",
    "    gc.collect()\n",
    "    torch.cuda.empty_cache()"
   ],
   "metadata": {
    "collapsed": false,
    "ExecuteTime": {
     "end_time": "2023-12-27T10:39:54.623076500Z",
     "start_time": "2023-12-27T10:39:54.607450400Z"
    }
   },
   "id": "ecce2baec16e71e7"
  },
  {
   "cell_type": "code",
   "execution_count": 22,
   "outputs": [],
   "source": [
    "class EarlyStopping:\n",
    "    def __init__(self, patience=10, verbose=False, delta=0):\n",
    "        self.patience = patience\n",
    "        self.verbose = verbose\n",
    "        self.counter = 0\n",
    "        self.best_score = None\n",
    "        self.early_stop = False\n",
    "        self.val_loss_min = np.Inf\n",
    "        self.delta = delta\n",
    "\n",
    "    def __call__(self, score):\n",
    "        if self.best_score is None:\n",
    "            self.best_score = score\n",
    "        elif score < self.best_score + self.delta:\n",
    "            self.counter += 1\n",
    "            print(f'EarlyStopping counter: {self.counter} out of {self.patience}')\n",
    "            print(f'Best F1 score from now: {self.best_score}')\n",
    "            if self.counter >= self.patience:\n",
    "                self.early_stop = True\n",
    "        else:\n",
    "            self.best_score = score\n",
    "            self.counter = 0\n",
    "        \n",
    "        return self.early_stop"
   ],
   "metadata": {
    "collapsed": false,
    "ExecuteTime": {
     "end_time": "2023-12-27T10:39:54.685589Z",
     "start_time": "2023-12-27T10:39:54.623076500Z"
    }
   },
   "id": "51d7e36eb5ffba31"
  },
  {
   "cell_type": "code",
   "execution_count": 23,
   "outputs": [],
   "source": [
    "def rand_bbox(size, lam):   # size : [B, C, W, H]\n",
    "    W = size[2] # 이미지의 width\n",
    "    H = size[3] # 이미지의 height\n",
    "    cut_rat = np.sqrt(1. - lam)  # 패치 크기의 비율 정하기\n",
    "    cut_w = np.int32(W * cut_rat)  # 패치의 너비\n",
    "    cut_h = np.int32(H * cut_rat)  # 패치의 높이\n",
    "\n",
    "    # uniform\n",
    "    # 기존 이미지의 크기에서 랜덤하게 값을 가져옵니다.(중간 좌표 추출)\n",
    "    cx = np.random.randint(W)\n",
    "    cy = np.random.randint(H)\n",
    "\n",
    "    # 패치 부분에 대한 좌표값을 추출합니다.\n",
    "    bbx1 = np.clip(cx - cut_w // 2, 0, W)\n",
    "    bby1 = np.clip(cy - cut_h // 2, 0, H)\n",
    "    bbx2 = np.clip(cx + cut_w // 2, 0, W)\n",
    "    bby2 = np.clip(cy + cut_h // 2, 0, H)\n",
    "\n",
    "    return bbx1, bby1, bbx2, bby2"
   ],
   "metadata": {
    "collapsed": false,
    "ExecuteTime": {
     "end_time": "2023-12-27T10:39:54.701199700Z",
     "start_time": "2023-12-27T10:39:54.638699Z"
    }
   },
   "id": "ce87987e0b603241"
  },
  {
   "cell_type": "code",
   "execution_count": 24,
   "outputs": [],
   "source": [
    "import math\n",
    "from torch.optim.lr_scheduler import LRScheduler\n",
    "\n",
    "class CosineAnnealingWarmUpRestarts(LRScheduler):\n",
    "    def __init__(self, optimizer, T_0, T_mult=1, eta_max=0.1, T_up=0, gamma=1., last_epoch=-1, T_hold=5e-5):\n",
    "        if T_0 <= 0 or not isinstance(T_0, int):\n",
    "            raise ValueError(\"Expected positive integer T_0, but got {}\".format(T_0))\n",
    "        if T_mult < 1 or not isinstance(T_mult, int):\n",
    "            raise ValueError(\"Expected integer T_mult >= 1, but got {}\".format(T_mult))\n",
    "        if T_up < 0 or not isinstance(T_up, int):\n",
    "            raise ValueError(\"Expected positive integer T_up, but got {}\".format(T_up))\n",
    "        self.T_0 = T_0\n",
    "        self.T_mult = T_mult\n",
    "        self.base_eta_max = eta_max\n",
    "        self.eta_max = eta_max\n",
    "        self.T_up = T_up\n",
    "        self.T_i = T_0\n",
    "        self.gamma = gamma\n",
    "        self.cycle = 0\n",
    "        self.T_cur = last_epoch\n",
    "        self.T_hold = T_hold # custom\n",
    "        super(CosineAnnealingWarmUpRestarts, self).__init__(optimizer, last_epoch)\n",
    "    \n",
    "    def get_lr(self):\n",
    "        if self.T_cur == -1:\n",
    "            return self.base_lrs\n",
    "        elif self.T_cur < self.T_up:\n",
    "            return [(self.eta_max - base_lr)*self.T_cur / self.T_up + base_lr for base_lr in self.base_lrs]\n",
    "        else:\n",
    "            return [base_lr + (self.eta_max - base_lr) * (1 + math.cos(math.pi * (self.T_cur-self.T_up) / (self.T_i - self.T_up))) / 2\n",
    "                    for base_lr in self.base_lrs]\n",
    "\n",
    "    def step(self, epoch=None):\n",
    "        if epoch is None:\n",
    "            epoch = self.last_epoch + 1\n",
    "            self.T_cur = self.T_cur + 1\n",
    "            if self.T_cur >= self.T_i:\n",
    "                self.cycle += 1\n",
    "                self.T_cur = self.T_cur - self.T_i\n",
    "                self.T_i = (self.T_i - self.T_up) * self.T_mult + self.T_up\n",
    "        else:\n",
    "            if epoch >= self.T_0:\n",
    "                if self.T_mult == 1:\n",
    "                    self.T_cur = epoch % self.T_0\n",
    "                    self.cycle = epoch // self.T_0\n",
    "                else:\n",
    "                    n = int(math.log((epoch / self.T_0 * (self.T_mult - 1) + 1), self.T_mult))\n",
    "                    self.cycle = n\n",
    "                    self.T_cur = epoch - self.T_0 * (self.T_mult ** n - 1) / (self.T_mult - 1)\n",
    "                    self.T_i = self.T_0 * self.T_mult ** (n)\n",
    "            else:\n",
    "                self.T_i = self.T_0\n",
    "                self.T_cur = epoch\n",
    "                \n",
    "        self.eta_max = self.base_eta_max * (self.gamma**self.cycle)\n",
    "        if self.eta_max < self.T_hold:\n",
    "            self.eta_max = self.T_hold\n",
    "        self.last_epoch = math.floor(epoch)\n",
    "        for param_group, lr in zip(self.optimizer.param_groups, self.get_lr()):\n",
    "            param_group['lr'] = lr"
   ],
   "metadata": {
    "collapsed": false,
    "ExecuteTime": {
     "end_time": "2023-12-27T10:39:54.701199700Z",
     "start_time": "2023-12-27T10:39:54.654324Z"
    }
   },
   "id": "66827c3c4d6466cd"
  },
  {
   "cell_type": "code",
   "execution_count": 25,
   "outputs": [
    {
     "name": "stdout",
     "output_type": "stream",
     "text": [
      "run_id='20231227193954'\n"
     ]
    }
   ],
   "source": [
    "time_now = datetime.now()\n",
    "run_id = time_now.strftime(\"%Y%m%d%H%M%S\")\n",
    "os.makedirs(os.path.join(data_path, f'./runs/{run_id}'), exist_ok=True)\n",
    "print(f'{run_id=}')"
   ],
   "metadata": {
    "collapsed": false,
    "ExecuteTime": {
     "end_time": "2023-12-27T10:39:54.701199700Z",
     "start_time": "2023-12-27T10:39:54.669965400Z"
    }
   },
   "id": "17fc703a3126967"
  },
  {
   "cell_type": "code",
   "execution_count": 26,
   "outputs": [],
   "source": [
    "import torch\n",
    "import torch.nn as nn\n",
    "import torch.nn.functional as F\n",
    "\n",
    "class FocalLoss(nn.Module):\n",
    "    def __init__(self, alpha=1, gamma=2, reduction='mean'):\n",
    "        super(FocalLoss, self).__init__()\n",
    "        self.alpha = alpha\n",
    "        self.gamma = gamma\n",
    "        self.reduction = reduction\n",
    "\n",
    "    def forward(self, inputs, targets):\n",
    "        ce_loss = F.cross_entropy(inputs, targets, reduction='none')\n",
    "        pt = torch.exp(-ce_loss)\n",
    "        focal_loss = self.alpha * (1 - pt) ** self.gamma * ce_loss\n",
    "\n",
    "        if self.reduction == 'mean':\n",
    "            return focal_loss.mean()\n",
    "        elif self.reduction == 'sum':\n",
    "            return focal_loss.sum()\n",
    "        else:\n",
    "            return focal_loss"
   ],
   "metadata": {
    "collapsed": false,
    "ExecuteTime": {
     "end_time": "2023-12-27T10:39:54.701199700Z",
     "start_time": "2023-12-27T10:39:54.685589Z"
    }
   },
   "id": "18993a2b09eac846"
  },
  {
   "cell_type": "code",
   "execution_count": 27,
   "outputs": [],
   "source": [
    "def train(epoch, model, optimizer, criterion, train_loader, device, beta=1, cutmix_prob=0.5, lr_scheduler=None):\n",
    "    model.train()\n",
    "    train_loss = []\n",
    "    lr_list = []\n",
    "    bar = tqdm(enumerate(train_loader), total = len(train_loader), desc='Train Loop')\n",
    "    for idx, (img, label) in bar:\n",
    "        img, label = img.float().to(device), label.long().to(device)\n",
    "        \n",
    "        optimizer.zero_grad()\n",
    "        r = np.random.rand(1)\n",
    "        if beta > 0 and r < cutmix_prob:\n",
    "            lam = np.random.beta(beta, beta)\n",
    "            if lam < 0.5:\n",
    "                lam = lam/2\n",
    "            else:\n",
    "                lam = 0.5 + lam/2\n",
    "            rand_index = torch.randperm(img.size()[0]).cuda()\n",
    "            target_a = label\n",
    "            target_b = label[rand_index]\n",
    "            bbx1, bby1, bbx2, bby2 = rand_bbox(img.size(), lam)\n",
    "            img[:, :, bbx1:bbx2, bby1:bby2] = img[rand_index, :, bbx1:bbx2, bby1:bby2]\n",
    "\n",
    "            lam = 1 - ((bbx2 - bbx1) * (bby2 - bby1) / (img.size()[-1] * img.size()[-2]))\n",
    "\n",
    "            model_pred = model(img)\n",
    "            loss = criterion(model_pred, target_a) * lam + criterion(model_pred, target_b) * (1. - lam)\n",
    "        else:\n",
    "            model_pred = model(img)\n",
    "            loss = criterion(model_pred, label)\n",
    "        \n",
    "        loss.backward()\n",
    "        if ((epoch-1)*len(train_loader) + idx)%10 == 0:\n",
    "            lr_list.append(optimizer.param_groups[0]['lr'])\n",
    "        optimizer.step()\n",
    "        train_loss.append(loss.item())\n",
    "        bar.set_postfix(train_loss = f'{loss.item():.4f}', lr = f\"{optimizer.param_groups[0]['lr']:.6f}\")\n",
    "        if lr_scheduler:\n",
    "            lr_scheduler.step()\n",
    "    return np.mean(train_loss), lr_list"
   ],
   "metadata": {
    "collapsed": false,
    "ExecuteTime": {
     "end_time": "2023-12-27T10:39:54.763699100Z",
     "start_time": "2023-12-27T10:39:54.701199700Z"
    }
   },
   "id": "8837f76bd55e594f"
  },
  {
   "cell_type": "code",
   "execution_count": 28,
   "outputs": [],
   "source": [
    "def competition_metric(true, pred):\n",
    "    return f1_score(true, pred, average=\"macro\")\n",
    "\n",
    "def validation(model, criterion, test_loader, device):\n",
    "    model.eval()\n",
    "    \n",
    "    model_preds = []\n",
    "    true_labels = []\n",
    "    \n",
    "    val_loss = []\n",
    "    \n",
    "    with torch.no_grad():\n",
    "        for img, label in iter(test_loader):\n",
    "            img, label = img.float().to(device), label.long().to(device)\n",
    "            \n",
    "            model_pred = model(img)\n",
    "            \n",
    "            loss = criterion(model_pred, label)\n",
    "            \n",
    "            val_loss.append(loss.item())\n",
    "            \n",
    "            model_preds += model_pred.argmax(1).detach().cpu().numpy().tolist()\n",
    "            true_labels += label.detach().cpu().numpy().tolist()\n",
    "        \n",
    "    val_f1 = competition_metric(true_labels, model_preds)\n",
    "    return np.mean(val_loss), val_f1"
   ],
   "metadata": {
    "collapsed": false,
    "ExecuteTime": {
     "end_time": "2023-12-27T10:39:54.779325600Z",
     "start_time": "2023-12-27T10:39:54.716822900Z"
    }
   },
   "id": "6e0713601b2fa53a"
  },
  {
   "cell_type": "code",
   "execution_count": 29,
   "outputs": [],
   "source": [
    "def train_epoch(model, optimizer, train_loader, test_loader, lr_scheduler, device):\n",
    "    model.to(device)\n",
    "\n",
    "    criterion = FocalLoss(alpha=1, gamma=2).to(device)\n",
    "    early_stopping = EarlyStopping(patience=CFG['PATIENCE'], verbose=True)\n",
    "    \n",
    "    best_score = 0\n",
    "    lr_list = []\n",
    "    train_loss_list, val_loss_list = [], []\n",
    "    \n",
    "    for epoch in range(1,CFG[\"EPOCHS\"]+1):\n",
    "        tr_loss, lr_ = train(epoch, model, optimizer, criterion, train_loader, device, beta=1, lr_scheduler=lr_scheduler)\n",
    "        val_loss, val_score = validation(model, criterion, test_loader, device)\n",
    "        train_loss_list.append(tr_loss)\n",
    "        val_loss_list.append(val_loss)\n",
    "        \n",
    "        if lr_scheduler is not None:\n",
    "            lr_list.extend(lr_)\n",
    "            \n",
    "        if best_score < val_score:\n",
    "            print(f'**Epoch [{epoch}], Train Loss : [{tr_loss:.5f}] Val Loss : [{val_loss:.5f}] Val F1 Score : [{val_score:.5f}]')\n",
    "            best_score = val_score\n",
    "            torch.save(model, os.path.join(data_path, f'runs/{run_id}/best_model.pt'))\n",
    "        else:\n",
    "            print(f'Epoch [{epoch}], Train Loss : [{tr_loss:.5f}] Val Loss : [{val_loss:.5f}] Val F1 Score : [{val_score:.5f}]')\n",
    "        clear_mem()\n",
    "        if early_stopping(val_score):\n",
    "            print(f'Epoch [{epoch}], early stopping')\n",
    "            break\n",
    "    if lr_list:\n",
    "        return (train_loss_list, val_loss_list, lr_list)\n",
    "    else:\n",
    "        return (train_loss_list, val_loss_list, None)"
   ],
   "metadata": {
    "collapsed": false,
    "ExecuteTime": {
     "end_time": "2023-12-27T10:39:54.779325600Z",
     "start_time": "2023-12-27T10:39:54.732457200Z"
    }
   },
   "id": "533c937dd1370a10"
  },
  {
   "cell_type": "code",
   "execution_count": 30,
   "outputs": [
    {
     "data": {
      "text/plain": "Train Loop:   0%|          | 0/296 [00:00<?, ?it/s]",
      "application/vnd.jupyter.widget-view+json": {
       "version_major": 2,
       "version_minor": 0,
       "model_id": "95e09c83e80c423fa2a91b08c622c780"
      }
     },
     "metadata": {},
     "output_type": "display_data"
    },
    {
     "name": "stdout",
     "output_type": "stream",
     "text": [
      "**Epoch [1], Train Loss : [2.72857] Val Loss : [1.74854] Val F1 Score : [0.24413]\n"
     ]
    },
    {
     "data": {
      "text/plain": "Train Loop:   0%|          | 0/296 [00:00<?, ?it/s]",
      "application/vnd.jupyter.widget-view+json": {
       "version_major": 2,
       "version_minor": 0,
       "model_id": "a55dd94044da4f84bb64c3a6a702776c"
      }
     },
     "metadata": {},
     "output_type": "display_data"
    },
    {
     "name": "stdout",
     "output_type": "stream",
     "text": [
      "**Epoch [2], Train Loss : [1.66086] Val Loss : [1.16036] Val F1 Score : [0.43290]\n"
     ]
    },
    {
     "data": {
      "text/plain": "Train Loop:   0%|          | 0/296 [00:00<?, ?it/s]",
      "application/vnd.jupyter.widget-view+json": {
       "version_major": 2,
       "version_minor": 0,
       "model_id": "e62f0b53ca6f482b9bdcc23eeaaeb11a"
      }
     },
     "metadata": {},
     "output_type": "display_data"
    },
    {
     "name": "stdout",
     "output_type": "stream",
     "text": [
      "**Epoch [3], Train Loss : [1.15720] Val Loss : [0.80489] Val F1 Score : [0.61633]\n"
     ]
    },
    {
     "data": {
      "text/plain": "Train Loop:   0%|          | 0/296 [00:00<?, ?it/s]",
      "application/vnd.jupyter.widget-view+json": {
       "version_major": 2,
       "version_minor": 0,
       "model_id": "a0ec327c86cd40dda197914b5361d9cf"
      }
     },
     "metadata": {},
     "output_type": "display_data"
    },
    {
     "name": "stdout",
     "output_type": "stream",
     "text": [
      "**Epoch [4], Train Loss : [0.91748] Val Loss : [0.64834] Val F1 Score : [0.66844]\n"
     ]
    },
    {
     "data": {
      "text/plain": "Train Loop:   0%|          | 0/296 [00:00<?, ?it/s]",
      "application/vnd.jupyter.widget-view+json": {
       "version_major": 2,
       "version_minor": 0,
       "model_id": "6d0a0537b34e4dbe94d0a5cd7bcc2fd8"
      }
     },
     "metadata": {},
     "output_type": "display_data"
    },
    {
     "name": "stdout",
     "output_type": "stream",
     "text": [
      "**Epoch [5], Train Loss : [0.69603] Val Loss : [0.51376] Val F1 Score : [0.71526]\n"
     ]
    },
    {
     "data": {
      "text/plain": "Train Loop:   0%|          | 0/296 [00:00<?, ?it/s]",
      "application/vnd.jupyter.widget-view+json": {
       "version_major": 2,
       "version_minor": 0,
       "model_id": "0665d4e16ead459c97788c384a861910"
      }
     },
     "metadata": {},
     "output_type": "display_data"
    },
    {
     "name": "stdout",
     "output_type": "stream",
     "text": [
      "**Epoch [6], Train Loss : [0.64302] Val Loss : [0.48050] Val F1 Score : [0.74529]\n"
     ]
    },
    {
     "data": {
      "text/plain": "Train Loop:   0%|          | 0/296 [00:00<?, ?it/s]",
      "application/vnd.jupyter.widget-view+json": {
       "version_major": 2,
       "version_minor": 0,
       "model_id": "b4031141595f49319b91e34f70d11186"
      }
     },
     "metadata": {},
     "output_type": "display_data"
    },
    {
     "name": "stdout",
     "output_type": "stream",
     "text": [
      "Epoch [7], Train Loss : [0.77210] Val Loss : [0.58995] Val F1 Score : [0.70350]\n",
      "EarlyStopping counter: 1 out of 12\n",
      "Best F1 score from now: 0.745291390263626\n"
     ]
    },
    {
     "data": {
      "text/plain": "Train Loop:   0%|          | 0/296 [00:00<?, ?it/s]",
      "application/vnd.jupyter.widget-view+json": {
       "version_major": 2,
       "version_minor": 0,
       "model_id": "8e0765061cd94ca181b244423d524a5a"
      }
     },
     "metadata": {},
     "output_type": "display_data"
    },
    {
     "name": "stdout",
     "output_type": "stream",
     "text": [
      "Epoch [8], Train Loss : [0.69558] Val Loss : [0.57173] Val F1 Score : [0.71578]\n",
      "EarlyStopping counter: 2 out of 12\n",
      "Best F1 score from now: 0.745291390263626\n"
     ]
    },
    {
     "data": {
      "text/plain": "Train Loop:   0%|          | 0/296 [00:00<?, ?it/s]",
      "application/vnd.jupyter.widget-view+json": {
       "version_major": 2,
       "version_minor": 0,
       "model_id": "2a80d036907344598c26d491f532b819"
      }
     },
     "metadata": {},
     "output_type": "display_data"
    },
    {
     "name": "stdout",
     "output_type": "stream",
     "text": [
      "**Epoch [9], Train Loss : [0.55801] Val Loss : [0.47907] Val F1 Score : [0.77432]\n"
     ]
    },
    {
     "data": {
      "text/plain": "Train Loop:   0%|          | 0/296 [00:00<?, ?it/s]",
      "application/vnd.jupyter.widget-view+json": {
       "version_major": 2,
       "version_minor": 0,
       "model_id": "2ce994e2b0c8423facf81d77b49b9c28"
      }
     },
     "metadata": {},
     "output_type": "display_data"
    },
    {
     "name": "stdout",
     "output_type": "stream",
     "text": [
      "**Epoch [10], Train Loss : [0.46395] Val Loss : [0.44098] Val F1 Score : [0.77586]\n"
     ]
    },
    {
     "data": {
      "text/plain": "Train Loop:   0%|          | 0/296 [00:00<?, ?it/s]",
      "application/vnd.jupyter.widget-view+json": {
       "version_major": 2,
       "version_minor": 0,
       "model_id": "227c151023bb48c191ea838cc8860f4c"
      }
     },
     "metadata": {},
     "output_type": "display_data"
    },
    {
     "name": "stdout",
     "output_type": "stream",
     "text": [
      "**Epoch [11], Train Loss : [0.44392] Val Loss : [0.40279] Val F1 Score : [0.80807]\n"
     ]
    },
    {
     "data": {
      "text/plain": "Train Loop:   0%|          | 0/296 [00:00<?, ?it/s]",
      "application/vnd.jupyter.widget-view+json": {
       "version_major": 2,
       "version_minor": 0,
       "model_id": "4bc5d70d231e4c80b9db3e99fdf83074"
      }
     },
     "metadata": {},
     "output_type": "display_data"
    },
    {
     "name": "stdout",
     "output_type": "stream",
     "text": [
      "Epoch [12], Train Loss : [0.33021] Val Loss : [0.39837] Val F1 Score : [0.80541]\n",
      "EarlyStopping counter: 1 out of 12\n",
      "Best F1 score from now: 0.8080691554880685\n"
     ]
    },
    {
     "data": {
      "text/plain": "Train Loop:   0%|          | 0/296 [00:00<?, ?it/s]",
      "application/vnd.jupyter.widget-view+json": {
       "version_major": 2,
       "version_minor": 0,
       "model_id": "285765e715d247699f8f66cca31bc5ea"
      }
     },
     "metadata": {},
     "output_type": "display_data"
    },
    {
     "name": "stdout",
     "output_type": "stream",
     "text": [
      "Epoch [13], Train Loss : [0.40171] Val Loss : [0.48222] Val F1 Score : [0.78440]\n",
      "EarlyStopping counter: 2 out of 12\n",
      "Best F1 score from now: 0.8080691554880685\n"
     ]
    },
    {
     "data": {
      "text/plain": "Train Loop:   0%|          | 0/296 [00:00<?, ?it/s]",
      "application/vnd.jupyter.widget-view+json": {
       "version_major": 2,
       "version_minor": 0,
       "model_id": "be68ffdee8354e9aa1546a3c33a9c49a"
      }
     },
     "metadata": {},
     "output_type": "display_data"
    },
    {
     "name": "stdout",
     "output_type": "stream",
     "text": [
      "Epoch [14], Train Loss : [0.37718] Val Loss : [0.41440] Val F1 Score : [0.79388]\n",
      "EarlyStopping counter: 3 out of 12\n",
      "Best F1 score from now: 0.8080691554880685\n"
     ]
    },
    {
     "data": {
      "text/plain": "Train Loop:   0%|          | 0/296 [00:00<?, ?it/s]",
      "application/vnd.jupyter.widget-view+json": {
       "version_major": 2,
       "version_minor": 0,
       "model_id": "a6c9c439d8ab495eb197e47ff6058155"
      }
     },
     "metadata": {},
     "output_type": "display_data"
    },
    {
     "name": "stdout",
     "output_type": "stream",
     "text": [
      "Epoch [15], Train Loss : [0.38899] Val Loss : [0.42501] Val F1 Score : [0.78336]\n",
      "EarlyStopping counter: 4 out of 12\n",
      "Best F1 score from now: 0.8080691554880685\n"
     ]
    },
    {
     "data": {
      "text/plain": "Train Loop:   0%|          | 0/296 [00:00<?, ?it/s]",
      "application/vnd.jupyter.widget-view+json": {
       "version_major": 2,
       "version_minor": 0,
       "model_id": "cb7a21f5417f478ebc6b321f53fb8470"
      }
     },
     "metadata": {},
     "output_type": "display_data"
    },
    {
     "name": "stdout",
     "output_type": "stream",
     "text": [
      "**Epoch [16], Train Loss : [0.33755] Val Loss : [0.38501] Val F1 Score : [0.81769]\n"
     ]
    },
    {
     "data": {
      "text/plain": "Train Loop:   0%|          | 0/296 [00:00<?, ?it/s]",
      "application/vnd.jupyter.widget-view+json": {
       "version_major": 2,
       "version_minor": 0,
       "model_id": "5255fd3394594361b9891a9ab52a9c51"
      }
     },
     "metadata": {},
     "output_type": "display_data"
    },
    {
     "name": "stdout",
     "output_type": "stream",
     "text": [
      "**Epoch [17], Train Loss : [0.30025] Val Loss : [0.39063] Val F1 Score : [0.82192]\n"
     ]
    },
    {
     "data": {
      "text/plain": "Train Loop:   0%|          | 0/296 [00:00<?, ?it/s]",
      "application/vnd.jupyter.widget-view+json": {
       "version_major": 2,
       "version_minor": 0,
       "model_id": "4e3611c7bb054be1aa0318a0072509cc"
      }
     },
     "metadata": {},
     "output_type": "display_data"
    },
    {
     "name": "stdout",
     "output_type": "stream",
     "text": [
      "Epoch [18], Train Loss : [0.30480] Val Loss : [0.39281] Val F1 Score : [0.79635]\n",
      "EarlyStopping counter: 1 out of 12\n",
      "Best F1 score from now: 0.8219175639110603\n"
     ]
    },
    {
     "data": {
      "text/plain": "Train Loop:   0%|          | 0/296 [00:00<?, ?it/s]",
      "application/vnd.jupyter.widget-view+json": {
       "version_major": 2,
       "version_minor": 0,
       "model_id": "6780ab4a039e44af8cb10c9912634dfd"
      }
     },
     "metadata": {},
     "output_type": "display_data"
    },
    {
     "name": "stdout",
     "output_type": "stream",
     "text": [
      "Epoch [19], Train Loss : [0.25654] Val Loss : [0.39856] Val F1 Score : [0.80177]\n",
      "EarlyStopping counter: 2 out of 12\n",
      "Best F1 score from now: 0.8219175639110603\n"
     ]
    },
    {
     "data": {
      "text/plain": "Train Loop:   0%|          | 0/296 [00:00<?, ?it/s]",
      "application/vnd.jupyter.widget-view+json": {
       "version_major": 2,
       "version_minor": 0,
       "model_id": "8758f76f348d497da226106da289e0fa"
      }
     },
     "metadata": {},
     "output_type": "display_data"
    },
    {
     "name": "stdout",
     "output_type": "stream",
     "text": [
      "Epoch [20], Train Loss : [0.29639] Val Loss : [0.37034] Val F1 Score : [0.81693]\n",
      "EarlyStopping counter: 3 out of 12\n",
      "Best F1 score from now: 0.8219175639110603\n"
     ]
    },
    {
     "data": {
      "text/plain": "Train Loop:   0%|          | 0/296 [00:00<?, ?it/s]",
      "application/vnd.jupyter.widget-view+json": {
       "version_major": 2,
       "version_minor": 0,
       "model_id": "a34a137315994d5886edb9164aece373"
      }
     },
     "metadata": {},
     "output_type": "display_data"
    },
    {
     "name": "stdout",
     "output_type": "stream",
     "text": [
      "Epoch [21], Train Loss : [0.29244] Val Loss : [0.38784] Val F1 Score : [0.81611]\n",
      "EarlyStopping counter: 4 out of 12\n",
      "Best F1 score from now: 0.8219175639110603\n"
     ]
    },
    {
     "data": {
      "text/plain": "Train Loop:   0%|          | 0/296 [00:00<?, ?it/s]",
      "application/vnd.jupyter.widget-view+json": {
       "version_major": 2,
       "version_minor": 0,
       "model_id": "29652db920b549368383bbf56e92463f"
      }
     },
     "metadata": {},
     "output_type": "display_data"
    },
    {
     "name": "stdout",
     "output_type": "stream",
     "text": [
      "**Epoch [22], Train Loss : [0.25566] Val Loss : [0.37145] Val F1 Score : [0.82494]\n"
     ]
    },
    {
     "data": {
      "text/plain": "Train Loop:   0%|          | 0/296 [00:00<?, ?it/s]",
      "application/vnd.jupyter.widget-view+json": {
       "version_major": 2,
       "version_minor": 0,
       "model_id": "857314fd01494624b0b266475599694c"
      }
     },
     "metadata": {},
     "output_type": "display_data"
    },
    {
     "name": "stdout",
     "output_type": "stream",
     "text": [
      "Epoch [23], Train Loss : [0.25268] Val Loss : [0.37013] Val F1 Score : [0.82226]\n",
      "EarlyStopping counter: 1 out of 12\n",
      "Best F1 score from now: 0.824941420723387\n"
     ]
    },
    {
     "data": {
      "text/plain": "Train Loop:   0%|          | 0/296 [00:00<?, ?it/s]",
      "application/vnd.jupyter.widget-view+json": {
       "version_major": 2,
       "version_minor": 0,
       "model_id": "dc5a003f140847efa242632a306c8217"
      }
     },
     "metadata": {},
     "output_type": "display_data"
    },
    {
     "name": "stdout",
     "output_type": "stream",
     "text": [
      "**Epoch [24], Train Loss : [0.26950] Val Loss : [0.37850] Val F1 Score : [0.83347]\n"
     ]
    },
    {
     "data": {
      "text/plain": "Train Loop:   0%|          | 0/296 [00:00<?, ?it/s]",
      "application/vnd.jupyter.widget-view+json": {
       "version_major": 2,
       "version_minor": 0,
       "model_id": "9551e68a719e4fa68cd24a3b55472325"
      }
     },
     "metadata": {},
     "output_type": "display_data"
    },
    {
     "name": "stdout",
     "output_type": "stream",
     "text": [
      "Epoch [25], Train Loss : [0.24934] Val Loss : [0.40324] Val F1 Score : [0.80493]\n",
      "EarlyStopping counter: 1 out of 12\n",
      "Best F1 score from now: 0.8334703146487047\n"
     ]
    },
    {
     "data": {
      "text/plain": "Train Loop:   0%|          | 0/296 [00:00<?, ?it/s]",
      "application/vnd.jupyter.widget-view+json": {
       "version_major": 2,
       "version_minor": 0,
       "model_id": "3396137c32cd4b1ea341bbe0a857d58f"
      }
     },
     "metadata": {},
     "output_type": "display_data"
    },
    {
     "name": "stdout",
     "output_type": "stream",
     "text": [
      "Epoch [26], Train Loss : [0.26204] Val Loss : [0.37676] Val F1 Score : [0.81227]\n",
      "EarlyStopping counter: 2 out of 12\n",
      "Best F1 score from now: 0.8334703146487047\n"
     ]
    },
    {
     "data": {
      "text/plain": "Train Loop:   0%|          | 0/296 [00:00<?, ?it/s]",
      "application/vnd.jupyter.widget-view+json": {
       "version_major": 2,
       "version_minor": 0,
       "model_id": "6ca7bba05f694aa8981559448fee7e24"
      }
     },
     "metadata": {},
     "output_type": "display_data"
    },
    {
     "name": "stdout",
     "output_type": "stream",
     "text": [
      "Epoch [27], Train Loss : [0.24371] Val Loss : [0.36657] Val F1 Score : [0.83040]\n",
      "EarlyStopping counter: 3 out of 12\n",
      "Best F1 score from now: 0.8334703146487047\n"
     ]
    },
    {
     "data": {
      "text/plain": "Train Loop:   0%|          | 0/296 [00:00<?, ?it/s]",
      "application/vnd.jupyter.widget-view+json": {
       "version_major": 2,
       "version_minor": 0,
       "model_id": "4a3e59993ed249cd96d0e123eeb09dc1"
      }
     },
     "metadata": {},
     "output_type": "display_data"
    },
    {
     "name": "stdout",
     "output_type": "stream",
     "text": [
      "**Epoch [28], Train Loss : [0.24801] Val Loss : [0.37050] Val F1 Score : [0.83598]\n"
     ]
    },
    {
     "data": {
      "text/plain": "Train Loop:   0%|          | 0/296 [00:00<?, ?it/s]",
      "application/vnd.jupyter.widget-view+json": {
       "version_major": 2,
       "version_minor": 0,
       "model_id": "abf354bb5d264bfb99c5d2b32c9fb6fd"
      }
     },
     "metadata": {},
     "output_type": "display_data"
    },
    {
     "name": "stdout",
     "output_type": "stream",
     "text": [
      "**Epoch [29], Train Loss : [0.23158] Val Loss : [0.37866] Val F1 Score : [0.83640]\n"
     ]
    },
    {
     "data": {
      "text/plain": "Train Loop:   0%|          | 0/296 [00:00<?, ?it/s]",
      "application/vnd.jupyter.widget-view+json": {
       "version_major": 2,
       "version_minor": 0,
       "model_id": "5a97f444d4254f24b122130b13a1777a"
      }
     },
     "metadata": {},
     "output_type": "display_data"
    },
    {
     "name": "stdout",
     "output_type": "stream",
     "text": [
      "Epoch [30], Train Loss : [0.24136] Val Loss : [0.36311] Val F1 Score : [0.82184]\n",
      "EarlyStopping counter: 1 out of 12\n",
      "Best F1 score from now: 0.8364009275706052\n"
     ]
    },
    {
     "data": {
      "text/plain": "Train Loop:   0%|          | 0/296 [00:00<?, ?it/s]",
      "application/vnd.jupyter.widget-view+json": {
       "version_major": 2,
       "version_minor": 0,
       "model_id": "930e6715e2d045c083553a3fd7eabeac"
      }
     },
     "metadata": {},
     "output_type": "display_data"
    },
    {
     "name": "stdout",
     "output_type": "stream",
     "text": [
      "Epoch [31], Train Loss : [0.24179] Val Loss : [0.37471] Val F1 Score : [0.81501]\n",
      "EarlyStopping counter: 2 out of 12\n",
      "Best F1 score from now: 0.8364009275706052\n"
     ]
    },
    {
     "data": {
      "text/plain": "Train Loop:   0%|          | 0/296 [00:00<?, ?it/s]",
      "application/vnd.jupyter.widget-view+json": {
       "version_major": 2,
       "version_minor": 0,
       "model_id": "3356c4289ccd4240a54b5ee2d36cef5e"
      }
     },
     "metadata": {},
     "output_type": "display_data"
    },
    {
     "name": "stdout",
     "output_type": "stream",
     "text": [
      "Epoch [32], Train Loss : [0.27034] Val Loss : [0.36198] Val F1 Score : [0.83095]\n",
      "EarlyStopping counter: 3 out of 12\n",
      "Best F1 score from now: 0.8364009275706052\n"
     ]
    },
    {
     "data": {
      "text/plain": "Train Loop:   0%|          | 0/296 [00:00<?, ?it/s]",
      "application/vnd.jupyter.widget-view+json": {
       "version_major": 2,
       "version_minor": 0,
       "model_id": "4d37dfd832804a4f90bb36e5aed309f1"
      }
     },
     "metadata": {},
     "output_type": "display_data"
    },
    {
     "name": "stdout",
     "output_type": "stream",
     "text": [
      "Epoch [33], Train Loss : [0.22184] Val Loss : [0.38863] Val F1 Score : [0.82191]\n",
      "EarlyStopping counter: 4 out of 12\n",
      "Best F1 score from now: 0.8364009275706052\n"
     ]
    },
    {
     "data": {
      "text/plain": "Train Loop:   0%|          | 0/296 [00:00<?, ?it/s]",
      "application/vnd.jupyter.widget-view+json": {
       "version_major": 2,
       "version_minor": 0,
       "model_id": "91047e82470548029a67eb32b3a4dda8"
      }
     },
     "metadata": {},
     "output_type": "display_data"
    },
    {
     "name": "stdout",
     "output_type": "stream",
     "text": [
      "Epoch [34], Train Loss : [0.22072] Val Loss : [0.36931] Val F1 Score : [0.82723]\n",
      "EarlyStopping counter: 5 out of 12\n",
      "Best F1 score from now: 0.8364009275706052\n"
     ]
    },
    {
     "data": {
      "text/plain": "Train Loop:   0%|          | 0/296 [00:00<?, ?it/s]",
      "application/vnd.jupyter.widget-view+json": {
       "version_major": 2,
       "version_minor": 0,
       "model_id": "37993fa21f904e35896e489546f31861"
      }
     },
     "metadata": {},
     "output_type": "display_data"
    },
    {
     "name": "stdout",
     "output_type": "stream",
     "text": [
      "Epoch [35], Train Loss : [0.22107] Val Loss : [0.39605] Val F1 Score : [0.82174]\n",
      "EarlyStopping counter: 6 out of 12\n",
      "Best F1 score from now: 0.8364009275706052\n"
     ]
    },
    {
     "data": {
      "text/plain": "Train Loop:   0%|          | 0/296 [00:00<?, ?it/s]",
      "application/vnd.jupyter.widget-view+json": {
       "version_major": 2,
       "version_minor": 0,
       "model_id": "94acb65371a84a3a9f5ccf3108877d41"
      }
     },
     "metadata": {},
     "output_type": "display_data"
    },
    {
     "name": "stdout",
     "output_type": "stream",
     "text": [
      "Epoch [36], Train Loss : [0.20615] Val Loss : [0.36388] Val F1 Score : [0.82450]\n",
      "EarlyStopping counter: 7 out of 12\n",
      "Best F1 score from now: 0.8364009275706052\n"
     ]
    },
    {
     "data": {
      "text/plain": "Train Loop:   0%|          | 0/296 [00:00<?, ?it/s]",
      "application/vnd.jupyter.widget-view+json": {
       "version_major": 2,
       "version_minor": 0,
       "model_id": "4699a30f1804454bb06123d442744291"
      }
     },
     "metadata": {},
     "output_type": "display_data"
    },
    {
     "name": "stdout",
     "output_type": "stream",
     "text": [
      "Epoch [37], Train Loss : [0.23409] Val Loss : [0.38488] Val F1 Score : [0.81288]\n",
      "EarlyStopping counter: 8 out of 12\n",
      "Best F1 score from now: 0.8364009275706052\n"
     ]
    },
    {
     "data": {
      "text/plain": "Train Loop:   0%|          | 0/296 [00:00<?, ?it/s]",
      "application/vnd.jupyter.widget-view+json": {
       "version_major": 2,
       "version_minor": 0,
       "model_id": "3964f7dbab9040cbaead424cdae91824"
      }
     },
     "metadata": {},
     "output_type": "display_data"
    },
    {
     "name": "stdout",
     "output_type": "stream",
     "text": [
      "Epoch [38], Train Loss : [0.27040] Val Loss : [0.37718] Val F1 Score : [0.83024]\n",
      "EarlyStopping counter: 9 out of 12\n",
      "Best F1 score from now: 0.8364009275706052\n"
     ]
    },
    {
     "data": {
      "text/plain": "Train Loop:   0%|          | 0/296 [00:00<?, ?it/s]",
      "application/vnd.jupyter.widget-view+json": {
       "version_major": 2,
       "version_minor": 0,
       "model_id": "3f20eb0ad93845ec85d1a75a2b86b565"
      }
     },
     "metadata": {},
     "output_type": "display_data"
    },
    {
     "name": "stdout",
     "output_type": "stream",
     "text": [
      "Epoch [39], Train Loss : [0.23834] Val Loss : [0.38191] Val F1 Score : [0.82983]\n",
      "EarlyStopping counter: 10 out of 12\n",
      "Best F1 score from now: 0.8364009275706052\n"
     ]
    },
    {
     "data": {
      "text/plain": "Train Loop:   0%|          | 0/296 [00:00<?, ?it/s]",
      "application/vnd.jupyter.widget-view+json": {
       "version_major": 2,
       "version_minor": 0,
       "model_id": "79fc6a3b7c91410da402bd5645621a5e"
      }
     },
     "metadata": {},
     "output_type": "display_data"
    },
    {
     "name": "stdout",
     "output_type": "stream",
     "text": [
      "Epoch [40], Train Loss : [0.23958] Val Loss : [0.36307] Val F1 Score : [0.82796]\n",
      "EarlyStopping counter: 11 out of 12\n",
      "Best F1 score from now: 0.8364009275706052\n"
     ]
    },
    {
     "data": {
      "text/plain": "Train Loop:   0%|          | 0/296 [00:00<?, ?it/s]",
      "application/vnd.jupyter.widget-view+json": {
       "version_major": 2,
       "version_minor": 0,
       "model_id": "5de6454162a540398c5ba2dc5ced026e"
      }
     },
     "metadata": {},
     "output_type": "display_data"
    },
    {
     "name": "stdout",
     "output_type": "stream",
     "text": [
      "Epoch [41], Train Loss : [0.22104] Val Loss : [0.35413] Val F1 Score : [0.83549]\n",
      "EarlyStopping counter: 12 out of 12\n",
      "Best F1 score from now: 0.8364009275706052\n",
      "Epoch [41], early stopping\n"
     ]
    }
   ],
   "source": [
    "model.eval()\n",
    "optimizer = torch.optim.AdamW(params = model.parameters(), lr = CFG['LEARNING_RATE'])\n",
    "# lr : 10epochs 동안 0.01->0\n",
    "lr_scheduler = CosineAnnealingWarmUpRestarts(optimizer, T_0=CFG['WARMUP']*len(train_loader), T_mult=1, eta_max=0.0001, T_up=50, gamma=0.5, T_hold=CFG['LEARNING_RATE']*10)\n",
    "\n",
    "train_loss_list, val_loss_list, lr_list = train_epoch(model, optimizer, train_loader, val_loader, lr_scheduler, device)"
   ],
   "metadata": {
    "collapsed": false,
    "ExecuteTime": {
     "end_time": "2023-12-27T12:22:20.681446900Z",
     "start_time": "2023-12-27T10:39:54.748088200Z"
    }
   },
   "id": "e59465d8032710f4"
  },
  {
   "cell_type": "code",
   "execution_count": 31,
   "outputs": [
    {
     "data": {
      "text/plain": "<Figure size 640x480 with 1 Axes>",
      "image/png": "[encoded data removed]"
     },
     "metadata": {},
     "output_type": "display_data"
    }
   ],
   "source": [
    "sns.lineplot(train_loss_list, label='train loss')\n",
    "sns.lineplot(val_loss_list, label='validation loss')\n",
    "plt.xlabel(\"epoch\")\n",
    "plt.ylabel('loss')\n",
    "plt.title('train/validation loss')\n",
    "plt.show()"
   ],
   "metadata": {
    "collapsed": false,
    "ExecuteTime": {
     "end_time": "2023-12-27T12:22:20.909361700Z",
     "start_time": "2023-12-27T12:22:20.688312700Z"
    }
   },
   "id": "b46be9d6d827da9a"
  },
  {
   "cell_type": "code",
   "execution_count": 32,
   "outputs": [
    {
     "data": {
      "text/plain": "<Axes: >"
     },
     "execution_count": 32,
     "metadata": {},
     "output_type": "execute_result"
    },
    {
     "data": {
      "text/plain": "<Figure size 640x480 with 1 Axes>",
      "image/png": "[encoded data removed]"
     },
     "metadata": {},
     "output_type": "display_data"
    }
   ],
   "source": [
    "sns.lineplot(lr_list)"
   ],
   "metadata": {
    "collapsed": false,
    "ExecuteTime": {
     "end_time": "2023-12-27T12:22:21.082644100Z",
     "start_time": "2023-12-27T12:22:20.901362400Z"
    }
   },
   "id": "10b70a182b34ab37"
  },
  {
   "cell_type": "code",
   "execution_count": 33,
   "outputs": [
    {
     "data": {
      "text/plain": "           id               img_path\n0  TEST_00000  ./test/TEST_00000.jpg\n1  TEST_00001  ./test/TEST_00001.jpg\n2  TEST_00002  ./test/TEST_00002.jpg\n3  TEST_00003  ./test/TEST_00003.jpg\n4  TEST_00004  ./test/TEST_00004.jpg",
      "text/html": "<div>\n<style scoped>\n    .dataframe tbody tr th:only-of-type {\n        vertical-align: middle;\n    }\n\n    .dataframe tbody tr th {\n        vertical-align: top;\n    }\n\n    .dataframe thead th {\n        text-align: right;\n    }\n</style>\n<table border=\"1\" class=\"dataframe\">\n  <thead>\n    <tr style=\"text-align: right;\">\n      <th></th>\n      <th>id</th>\n      <th>img_path</th>\n    </tr>\n  </thead>\n  <tbody>\n    <tr>\n      <th>0</th>\n      <td>TEST_00000</td>\n      <td>./test/TEST_00000.jpg</td>\n    </tr>\n    <tr>\n      <th>1</th>\n      <td>TEST_00001</td>\n      <td>./test/TEST_00001.jpg</td>\n    </tr>\n    <tr>\n      <th>2</th>\n      <td>TEST_00002</td>\n      <td>./test/TEST_00002.jpg</td>\n    </tr>\n    <tr>\n      <th>3</th>\n      <td>TEST_00003</td>\n      <td>./test/TEST_00003.jpg</td>\n    </tr>\n    <tr>\n      <th>4</th>\n      <td>TEST_00004</td>\n      <td>./test/TEST_00004.jpg</td>\n    </tr>\n  </tbody>\n</table>\n</div>"
     },
     "execution_count": 33,
     "metadata": {},
     "output_type": "execute_result"
    }
   ],
   "source": [
    "test_df = pd.read_csv(os.path.join(data_path, './test.csv'))\n",
    "test_df.head()"
   ],
   "metadata": {
    "collapsed": false,
    "ExecuteTime": {
     "end_time": "2023-12-27T12:22:21.129240Z",
     "start_time": "2023-12-27T12:22:21.082644100Z"
    }
   },
   "id": "9c8fff1a450556ec"
  },
  {
   "cell_type": "code",
   "execution_count": 34,
   "outputs": [],
   "source": [
    "test_img_paths = get_data(test_df, infer=True)"
   ],
   "metadata": {
    "collapsed": false,
    "ExecuteTime": {
     "end_time": "2023-12-27T12:22:21.146271Z",
     "start_time": "2023-12-27T12:22:21.107836600Z"
    }
   },
   "id": "6a50c39d21de27ed"
  },
  {
   "cell_type": "code",
   "execution_count": 35,
   "outputs": [],
   "source": [
    "test_dataset = CustomDataset(test_img_paths, None, test_transform)\n",
    "test_loader = DataLoader(test_dataset, batch_size=CFG['BATCH_SIZE'], shuffle=False, num_workers=0)"
   ],
   "metadata": {
    "collapsed": false,
    "ExecuteTime": {
     "end_time": "2023-12-27T12:22:21.170088100Z",
     "start_time": "2023-12-27T12:22:21.146271Z"
    }
   },
   "id": "66859c2e35131aae"
  },
  {
   "cell_type": "code",
   "execution_count": 36,
   "outputs": [],
   "source": [
    "def inference(model, test_loader, device):\n",
    "    model.to(device)\n",
    "    model.eval()\n",
    "    \n",
    "    model_preds = []\n",
    "    \n",
    "    with torch.no_grad():\n",
    "        for img in test_loader:\n",
    "            img = img.float().to(device)\n",
    "            \n",
    "            model_pred = model(img)\n",
    "            model_preds += model_pred.argmax(1).detach().cpu().numpy().tolist()\n",
    "    \n",
    "    print('Done.')\n",
    "    return model_preds"
   ],
   "metadata": {
    "collapsed": false,
    "ExecuteTime": {
     "end_time": "2023-12-27T12:22:21.206668200Z",
     "start_time": "2023-12-27T12:22:21.170088100Z"
    }
   },
   "id": "60aba723872ee62e"
  },
  {
   "cell_type": "code",
   "execution_count": 37,
   "outputs": [
    {
     "name": "stdout",
     "output_type": "stream",
     "text": [
      "CHECKPOINT LOADED: ../../data/runs/20231227193954/best_model.pt\n"
     ]
    },
    {
     "data": {
      "text/plain": "CAFormerModel(\n  (backbone): MetaFormer(\n    (stem): Stem(\n      (conv): Conv2d(3, 64, kernel_size=(7, 7), stride=(4, 4), padding=(2, 2))\n      (norm): LayerNorm2dNoBias((64,), eps=1e-06, elementwise_affine=True)\n    )\n    (stages): Sequential(\n      (0): MetaFormerStage(\n        (downsample): Identity()\n        (blocks): Sequential(\n          (0): MetaFormerBlock(\n            (norm1): LayerNorm2dNoBias((64,), eps=1e-06, elementwise_affine=True)\n            (token_mixer): SepConv(\n              (pwconv1): Conv2d(64, 128, kernel_size=(1, 1), stride=(1, 1), bias=False)\n              (act1): StarReLU(\n                (relu): ReLU()\n              )\n              (dwconv): Conv2d(128, 128, kernel_size=(7, 7), stride=(1, 1), padding=(3, 3), groups=128, bias=False)\n              (act2): Identity()\n              (pwconv2): Conv2d(128, 64, kernel_size=(1, 1), stride=(1, 1), bias=False)\n            )\n            (drop_path1): Identity()\n            (layer_scale1): Identity()\n            (res_scale1): Identity()\n            (norm2): LayerNorm2dNoBias((64,), eps=1e-06, elementwise_affine=True)\n            (mlp): Mlp(\n              (fc1): Conv2d(64, 256, kernel_size=(1, 1), stride=(1, 1), bias=False)\n              (act): StarReLU(\n                (relu): ReLU()\n              )\n              (drop1): Dropout(p=0.0, inplace=False)\n              (norm): Identity()\n              (fc2): Conv2d(256, 64, kernel_size=(1, 1), stride=(1, 1), bias=False)\n              (drop2): Dropout(p=0.0, inplace=False)\n            )\n            (drop_path2): Identity()\n            (layer_scale2): Identity()\n            (res_scale2): Identity()\n          )\n          (1): MetaFormerBlock(\n            (norm1): LayerNorm2dNoBias((64,), eps=1e-06, elementwise_affine=True)\n            (token_mixer): SepConv(\n              (pwconv1): Conv2d(64, 128, kernel_size=(1, 1), stride=(1, 1), bias=False)\n              (act1): StarReLU(\n                (relu): ReLU()\n              )\n              (dwconv): Conv2d(128, 128, kernel_size=(7, 7), stride=(1, 1), padding=(3, 3), groups=128, bias=False)\n              (act2): Identity()\n              (pwconv2): Conv2d(128, 64, kernel_size=(1, 1), stride=(1, 1), bias=False)\n            )\n            (drop_path1): Identity()\n            (layer_scale1): Identity()\n            (res_scale1): Identity()\n            (norm2): LayerNorm2dNoBias((64,), eps=1e-06, elementwise_affine=True)\n            (mlp): Mlp(\n              (fc1): Conv2d(64, 256, kernel_size=(1, 1), stride=(1, 1), bias=False)\n              (act): StarReLU(\n                (relu): ReLU()\n              )\n              (drop1): Dropout(p=0.0, inplace=False)\n              (norm): Identity()\n              (fc2): Conv2d(256, 64, kernel_size=(1, 1), stride=(1, 1), bias=False)\n              (drop2): Dropout(p=0.0, inplace=False)\n            )\n            (drop_path2): Identity()\n            (layer_scale2): Identity()\n            (res_scale2): Identity()\n          )\n          (2): MetaFormerBlock(\n            (norm1): LayerNorm2dNoBias((64,), eps=1e-06, elementwise_affine=True)\n            (token_mixer): SepConv(\n              (pwconv1): Conv2d(64, 128, kernel_size=(1, 1), stride=(1, 1), bias=False)\n              (act1): StarReLU(\n                (relu): ReLU()\n              )\n              (dwconv): Conv2d(128, 128, kernel_size=(7, 7), stride=(1, 1), padding=(3, 3), groups=128, bias=False)\n              (act2): Identity()\n              (pwconv2): Conv2d(128, 64, kernel_size=(1, 1), stride=(1, 1), bias=False)\n            )\n            (drop_path1): Identity()\n            (layer_scale1): Identity()\n            (res_scale1): Identity()\n            (norm2): LayerNorm2dNoBias((64,), eps=1e-06, elementwise_affine=True)\n            (mlp): Mlp(\n              (fc1): Conv2d(64, 256, kernel_size=(1, 1), stride=(1, 1), bias=False)\n              (act): StarReLU(\n                (relu): ReLU()\n              )\n              (drop1): Dropout(p=0.0, inplace=False)\n              (norm): Identity()\n              (fc2): Conv2d(256, 64, kernel_size=(1, 1), stride=(1, 1), bias=False)\n              (drop2): Dropout(p=0.0, inplace=False)\n            )\n            (drop_path2): Identity()\n            (layer_scale2): Identity()\n            (res_scale2): Identity()\n          )\n        )\n      )\n      (1): MetaFormerStage(\n        (downsample): Downsampling(\n          (norm): LayerNorm2dNoBias((64,), eps=1e-06, elementwise_affine=True)\n          (conv): Conv2d(64, 128, kernel_size=(3, 3), stride=(2, 2), padding=(1, 1))\n        )\n        (blocks): Sequential(\n          (0): MetaFormerBlock(\n            (norm1): LayerNorm2dNoBias((128,), eps=1e-06, elementwise_affine=True)\n            (token_mixer): SepConv(\n              (pwconv1): Conv2d(128, 256, kernel_size=(1, 1), stride=(1, 1), bias=False)\n              (act1): StarReLU(\n                (relu): ReLU()\n              )\n              (dwconv): Conv2d(256, 256, kernel_size=(7, 7), stride=(1, 1), padding=(3, 3), groups=256, bias=False)\n              (act2): Identity()\n              (pwconv2): Conv2d(256, 128, kernel_size=(1, 1), stride=(1, 1), bias=False)\n            )\n            (drop_path1): Identity()\n            (layer_scale1): Identity()\n            (res_scale1): Identity()\n            (norm2): LayerNorm2dNoBias((128,), eps=1e-06, elementwise_affine=True)\n            (mlp): Mlp(\n              (fc1): Conv2d(128, 512, kernel_size=(1, 1), stride=(1, 1), bias=False)\n              (act): StarReLU(\n                (relu): ReLU()\n              )\n              (drop1): Dropout(p=0.0, inplace=False)\n              (norm): Identity()\n              (fc2): Conv2d(512, 128, kernel_size=(1, 1), stride=(1, 1), bias=False)\n              (drop2): Dropout(p=0.0, inplace=False)\n            )\n            (drop_path2): Identity()\n            (layer_scale2): Identity()\n            (res_scale2): Identity()\n          )\n          (1): MetaFormerBlock(\n            (norm1): LayerNorm2dNoBias((128,), eps=1e-06, elementwise_affine=True)\n            (token_mixer): SepConv(\n              (pwconv1): Conv2d(128, 256, kernel_size=(1, 1), stride=(1, 1), bias=False)\n              (act1): StarReLU(\n                (relu): ReLU()\n              )\n              (dwconv): Conv2d(256, 256, kernel_size=(7, 7), stride=(1, 1), padding=(3, 3), groups=256, bias=False)\n              (act2): Identity()\n              (pwconv2): Conv2d(256, 128, kernel_size=(1, 1), stride=(1, 1), bias=False)\n            )\n            (drop_path1): Identity()\n            (layer_scale1): Identity()\n            (res_scale1): Identity()\n            (norm2): LayerNorm2dNoBias((128,), eps=1e-06, elementwise_affine=True)\n            (mlp): Mlp(\n              (fc1): Conv2d(128, 512, kernel_size=(1, 1), stride=(1, 1), bias=False)\n              (act): StarReLU(\n                (relu): ReLU()\n              )\n              (drop1): Dropout(p=0.0, inplace=False)\n              (norm): Identity()\n              (fc2): Conv2d(512, 128, kernel_size=(1, 1), stride=(1, 1), bias=False)\n              (drop2): Dropout(p=0.0, inplace=False)\n            )\n            (drop_path2): Identity()\n            (layer_scale2): Identity()\n            (res_scale2): Identity()\n          )\n          (2): MetaFormerBlock(\n            (norm1): LayerNorm2dNoBias((128,), eps=1e-06, elementwise_affine=True)\n            (token_mixer): SepConv(\n              (pwconv1): Conv2d(128, 256, kernel_size=(1, 1), stride=(1, 1), bias=False)\n              (act1): StarReLU(\n                (relu): ReLU()\n              )\n              (dwconv): Conv2d(256, 256, kernel_size=(7, 7), stride=(1, 1), padding=(3, 3), groups=256, bias=False)\n              (act2): Identity()\n              (pwconv2): Conv2d(256, 128, kernel_size=(1, 1), stride=(1, 1), bias=False)\n            )\n            (drop_path1): Identity()\n            (layer_scale1): Identity()\n            (res_scale1): Identity()\n            (norm2): LayerNorm2dNoBias((128,), eps=1e-06, elementwise_affine=True)\n            (mlp): Mlp(\n              (fc1): Conv2d(128, 512, kernel_size=(1, 1), stride=(1, 1), bias=False)\n              (act): StarReLU(\n                (relu): ReLU()\n              )\n              (drop1): Dropout(p=0.0, inplace=False)\n              (norm): Identity()\n              (fc2): Conv2d(512, 128, kernel_size=(1, 1), stride=(1, 1), bias=False)\n              (drop2): Dropout(p=0.0, inplace=False)\n            )\n            (drop_path2): Identity()\n            (layer_scale2): Identity()\n            (res_scale2): Identity()\n          )\n        )\n      )\n      (2): MetaFormerStage(\n        (downsample): Downsampling(\n          (norm): LayerNorm2dNoBias((128,), eps=1e-06, elementwise_affine=True)\n          (conv): Conv2d(128, 320, kernel_size=(3, 3), stride=(2, 2), padding=(1, 1))\n        )\n        (blocks): Sequential(\n          (0): MetaFormerBlock(\n            (norm1): LayerNormNoBias((320,), eps=1e-06, elementwise_affine=True)\n            (token_mixer): Attention(\n              (qkv): Linear(in_features=320, out_features=960, bias=False)\n              (attn_drop): Dropout(p=0.0, inplace=False)\n              (proj): Linear(in_features=320, out_features=320, bias=False)\n              (proj_drop): Dropout(p=0.0, inplace=False)\n            )\n            (drop_path1): Identity()\n            (layer_scale1): Identity()\n            (res_scale1): Scale()\n            (norm2): LayerNormNoBias((320,), eps=1e-06, elementwise_affine=True)\n            (mlp): Mlp(\n              (fc1): Linear(in_features=320, out_features=1280, bias=False)\n              (act): StarReLU(\n                (relu): ReLU()\n              )\n              (drop1): Dropout(p=0.0, inplace=False)\n              (norm): Identity()\n              (fc2): Linear(in_features=1280, out_features=320, bias=False)\n              (drop2): Dropout(p=0.0, inplace=False)\n            )\n            (drop_path2): Identity()\n            (layer_scale2): Identity()\n            (res_scale2): Scale()\n          )\n          (1): MetaFormerBlock(\n            (norm1): LayerNormNoBias((320,), eps=1e-06, elementwise_affine=True)\n            (token_mixer): Attention(\n              (qkv): Linear(in_features=320, out_features=960, bias=False)\n              (attn_drop): Dropout(p=0.0, inplace=False)\n              (proj): Linear(in_features=320, out_features=320, bias=False)\n              (proj_drop): Dropout(p=0.0, inplace=False)\n            )\n            (drop_path1): Identity()\n            (layer_scale1): Identity()\n            (res_scale1): Scale()\n            (norm2): LayerNormNoBias((320,), eps=1e-06, elementwise_affine=True)\n            (mlp): Mlp(\n              (fc1): Linear(in_features=320, out_features=1280, bias=False)\n              (act): StarReLU(\n                (relu): ReLU()\n              )\n              (drop1): Dropout(p=0.0, inplace=False)\n              (norm): Identity()\n              (fc2): Linear(in_features=1280, out_features=320, bias=False)\n              (drop2): Dropout(p=0.0, inplace=False)\n            )\n            (drop_path2): Identity()\n            (layer_scale2): Identity()\n            (res_scale2): Scale()\n          )\n          (2): MetaFormerBlock(\n            (norm1): LayerNormNoBias((320,), eps=1e-06, elementwise_affine=True)\n            (token_mixer): Attention(\n              (qkv): Linear(in_features=320, out_features=960, bias=False)\n              (attn_drop): Dropout(p=0.0, inplace=False)\n              (proj): Linear(in_features=320, out_features=320, bias=False)\n              (proj_drop): Dropout(p=0.0, inplace=False)\n            )\n            (drop_path1): Identity()\n            (layer_scale1): Identity()\n            (res_scale1): Scale()\n            (norm2): LayerNormNoBias((320,), eps=1e-06, elementwise_affine=True)\n            (mlp): Mlp(\n              (fc1): Linear(in_features=320, out_features=1280, bias=False)\n              (act): StarReLU(\n                (relu): ReLU()\n              )\n              (drop1): Dropout(p=0.0, inplace=False)\n              (norm): Identity()\n              (fc2): Linear(in_features=1280, out_features=320, bias=False)\n              (drop2): Dropout(p=0.0, inplace=False)\n            )\n            (drop_path2): Identity()\n            (layer_scale2): Identity()\n            (res_scale2): Scale()\n          )\n          (3): MetaFormerBlock(\n            (norm1): LayerNormNoBias((320,), eps=1e-06, elementwise_affine=True)\n            (token_mixer): Attention(\n              (qkv): Linear(in_features=320, out_features=960, bias=False)\n              (attn_drop): Dropout(p=0.0, inplace=False)\n              (proj): Linear(in_features=320, out_features=320, bias=False)\n              (proj_drop): Dropout(p=0.0, inplace=False)\n            )\n            (drop_path1): Identity()\n            (layer_scale1): Identity()\n            (res_scale1): Scale()\n            (norm2): LayerNormNoBias((320,), eps=1e-06, elementwise_affine=True)\n            (mlp): Mlp(\n              (fc1): Linear(in_features=320, out_features=1280, bias=False)\n              (act): StarReLU(\n                (relu): ReLU()\n              )\n              (drop1): Dropout(p=0.0, inplace=False)\n              (norm): Identity()\n              (fc2): Linear(in_features=1280, out_features=320, bias=False)\n              (drop2): Dropout(p=0.0, inplace=False)\n            )\n            (drop_path2): Identity()\n            (layer_scale2): Identity()\n            (res_scale2): Scale()\n          )\n          (4): MetaFormerBlock(\n            (norm1): LayerNormNoBias((320,), eps=1e-06, elementwise_affine=True)\n            (token_mixer): Attention(\n              (qkv): Linear(in_features=320, out_features=960, bias=False)\n              (attn_drop): Dropout(p=0.0, inplace=False)\n              (proj): Linear(in_features=320, out_features=320, bias=False)\n              (proj_drop): Dropout(p=0.0, inplace=False)\n            )\n            (drop_path1): Identity()\n            (layer_scale1): Identity()\n            (res_scale1): Scale()\n            (norm2): LayerNormNoBias((320,), eps=1e-06, elementwise_affine=True)\n            (mlp): Mlp(\n              (fc1): Linear(in_features=320, out_features=1280, bias=False)\n              (act): StarReLU(\n                (relu): ReLU()\n              )\n              (drop1): Dropout(p=0.0, inplace=False)\n              (norm): Identity()\n              (fc2): Linear(in_features=1280, out_features=320, bias=False)\n              (drop2): Dropout(p=0.0, inplace=False)\n            )\n            (drop_path2): Identity()\n            (layer_scale2): Identity()\n            (res_scale2): Scale()\n          )\n          (5): MetaFormerBlock(\n            (norm1): LayerNormNoBias((320,), eps=1e-06, elementwise_affine=True)\n            (token_mixer): Attention(\n              (qkv): Linear(in_features=320, out_features=960, bias=False)\n              (attn_drop): Dropout(p=0.0, inplace=False)\n              (proj): Linear(in_features=320, out_features=320, bias=False)\n              (proj_drop): Dropout(p=0.0, inplace=False)\n            )\n            (drop_path1): Identity()\n            (layer_scale1): Identity()\n            (res_scale1): Scale()\n            (norm2): LayerNormNoBias((320,), eps=1e-06, elementwise_affine=True)\n            (mlp): Mlp(\n              (fc1): Linear(in_features=320, out_features=1280, bias=False)\n              (act): StarReLU(\n                (relu): ReLU()\n              )\n              (drop1): Dropout(p=0.0, inplace=False)\n              (norm): Identity()\n              (fc2): Linear(in_features=1280, out_features=320, bias=False)\n              (drop2): Dropout(p=0.0, inplace=False)\n            )\n            (drop_path2): Identity()\n            (layer_scale2): Identity()\n            (res_scale2): Scale()\n          )\n          (6): MetaFormerBlock(\n            (norm1): LayerNormNoBias((320,), eps=1e-06, elementwise_affine=True)\n            (token_mixer): Attention(\n              (qkv): Linear(in_features=320, out_features=960, bias=False)\n              (attn_drop): Dropout(p=0.0, inplace=False)\n              (proj): Linear(in_features=320, out_features=320, bias=False)\n              (proj_drop): Dropout(p=0.0, inplace=False)\n            )\n            (drop_path1): Identity()\n            (layer_scale1): Identity()\n            (res_scale1): Scale()\n            (norm2): LayerNormNoBias((320,), eps=1e-06, elementwise_affine=True)\n            (mlp): Mlp(\n              (fc1): Linear(in_features=320, out_features=1280, bias=False)\n              (act): StarReLU(\n                (relu): ReLU()\n              )\n              (drop1): Dropout(p=0.0, inplace=False)\n              (norm): Identity()\n              (fc2): Linear(in_features=1280, out_features=320, bias=False)\n              (drop2): Dropout(p=0.0, inplace=False)\n            )\n            (drop_path2): Identity()\n            (layer_scale2): Identity()\n            (res_scale2): Scale()\n          )\n          (7): MetaFormerBlock(\n            (norm1): LayerNormNoBias((320,), eps=1e-06, elementwise_affine=True)\n            (token_mixer): Attention(\n              (qkv): Linear(in_features=320, out_features=960, bias=False)\n              (attn_drop): Dropout(p=0.0, inplace=False)\n              (proj): Linear(in_features=320, out_features=320, bias=False)\n              (proj_drop): Dropout(p=0.0, inplace=False)\n            )\n            (drop_path1): Identity()\n            (layer_scale1): Identity()\n            (res_scale1): Scale()\n            (norm2): LayerNormNoBias((320,), eps=1e-06, elementwise_affine=True)\n            (mlp): Mlp(\n              (fc1): Linear(in_features=320, out_features=1280, bias=False)\n              (act): StarReLU(\n                (relu): ReLU()\n              )\n              (drop1): Dropout(p=0.0, inplace=False)\n              (norm): Identity()\n              (fc2): Linear(in_features=1280, out_features=320, bias=False)\n              (drop2): Dropout(p=0.0, inplace=False)\n            )\n            (drop_path2): Identity()\n            (layer_scale2): Identity()\n            (res_scale2): Scale()\n          )\n          (8): MetaFormerBlock(\n            (norm1): LayerNormNoBias((320,), eps=1e-06, elementwise_affine=True)\n            (token_mixer): Attention(\n              (qkv): Linear(in_features=320, out_features=960, bias=False)\n              (attn_drop): Dropout(p=0.0, inplace=False)\n              (proj): Linear(in_features=320, out_features=320, bias=False)\n              (proj_drop): Dropout(p=0.0, inplace=False)\n            )\n            (drop_path1): Identity()\n            (layer_scale1): Identity()\n            (res_scale1): Scale()\n            (norm2): LayerNormNoBias((320,), eps=1e-06, elementwise_affine=True)\n            (mlp): Mlp(\n              (fc1): Linear(in_features=320, out_features=1280, bias=False)\n              (act): StarReLU(\n                (relu): ReLU()\n              )\n              (drop1): Dropout(p=0.0, inplace=False)\n              (norm): Identity()\n              (fc2): Linear(in_features=1280, out_features=320, bias=False)\n              (drop2): Dropout(p=0.0, inplace=False)\n            )\n            (drop_path2): Identity()\n            (layer_scale2): Identity()\n            (res_scale2): Scale()\n          )\n        )\n      )\n      (3): MetaFormerStage(\n        (downsample): Downsampling(\n          (norm): LayerNorm2dNoBias((320,), eps=1e-06, elementwise_affine=True)\n          (conv): Conv2d(320, 512, kernel_size=(3, 3), stride=(2, 2), padding=(1, 1))\n        )\n        (blocks): Sequential(\n          (0): MetaFormerBlock(\n            (norm1): LayerNormNoBias((512,), eps=1e-06, elementwise_affine=True)\n            (token_mixer): Attention(\n              (qkv): Linear(in_features=512, out_features=1536, bias=False)\n              (attn_drop): Dropout(p=0.0, inplace=False)\n              (proj): Linear(in_features=512, out_features=512, bias=False)\n              (proj_drop): Dropout(p=0.0, inplace=False)\n            )\n            (drop_path1): Identity()\n            (layer_scale1): Identity()\n            (res_scale1): Scale()\n            (norm2): LayerNormNoBias((512,), eps=1e-06, elementwise_affine=True)\n            (mlp): Mlp(\n              (fc1): Linear(in_features=512, out_features=2048, bias=False)\n              (act): StarReLU(\n                (relu): ReLU()\n              )\n              (drop1): Dropout(p=0.0, inplace=False)\n              (norm): Identity()\n              (fc2): Linear(in_features=2048, out_features=512, bias=False)\n              (drop2): Dropout(p=0.0, inplace=False)\n            )\n            (drop_path2): Identity()\n            (layer_scale2): Identity()\n            (res_scale2): Scale()\n          )\n          (1): MetaFormerBlock(\n            (norm1): LayerNormNoBias((512,), eps=1e-06, elementwise_affine=True)\n            (token_mixer): Attention(\n              (qkv): Linear(in_features=512, out_features=1536, bias=False)\n              (attn_drop): Dropout(p=0.0, inplace=False)\n              (proj): Linear(in_features=512, out_features=512, bias=False)\n              (proj_drop): Dropout(p=0.0, inplace=False)\n            )\n            (drop_path1): Identity()\n            (layer_scale1): Identity()\n            (res_scale1): Scale()\n            (norm2): LayerNormNoBias((512,), eps=1e-06, elementwise_affine=True)\n            (mlp): Mlp(\n              (fc1): Linear(in_features=512, out_features=2048, bias=False)\n              (act): StarReLU(\n                (relu): ReLU()\n              )\n              (drop1): Dropout(p=0.0, inplace=False)\n              (norm): Identity()\n              (fc2): Linear(in_features=2048, out_features=512, bias=False)\n              (drop2): Dropout(p=0.0, inplace=False)\n            )\n            (drop_path2): Identity()\n            (layer_scale2): Identity()\n            (res_scale2): Scale()\n          )\n          (2): MetaFormerBlock(\n            (norm1): LayerNormNoBias((512,), eps=1e-06, elementwise_affine=True)\n            (token_mixer): Attention(\n              (qkv): Linear(in_features=512, out_features=1536, bias=False)\n              (attn_drop): Dropout(p=0.0, inplace=False)\n              (proj): Linear(in_features=512, out_features=512, bias=False)\n              (proj_drop): Dropout(p=0.0, inplace=False)\n            )\n            (drop_path1): Identity()\n            (layer_scale1): Identity()\n            (res_scale1): Scale()\n            (norm2): LayerNormNoBias((512,), eps=1e-06, elementwise_affine=True)\n            (mlp): Mlp(\n              (fc1): Linear(in_features=512, out_features=2048, bias=False)\n              (act): StarReLU(\n                (relu): ReLU()\n              )\n              (drop1): Dropout(p=0.0, inplace=False)\n              (norm): Identity()\n              (fc2): Linear(in_features=2048, out_features=512, bias=False)\n              (drop2): Dropout(p=0.0, inplace=False)\n            )\n            (drop_path2): Identity()\n            (layer_scale2): Identity()\n            (res_scale2): Scale()\n          )\n        )\n      )\n    )\n    (head): Sequential(\n      (global_pool): SelectAdaptivePool2d(pool_type=avg, flatten=Identity())\n      (norm): LayerNorm2d((512,), eps=1e-06, elementwise_affine=True)\n      (flatten): Flatten(start_dim=1, end_dim=-1)\n      (drop): Dropout(p=0.0, inplace=False)\n      (fc): Identity()\n    )\n  )\n  (classifier): Sequential(\n    (0): LayerNorm((512,), eps=1e-05, elementwise_affine=True)\n    (1): GELU(approximate='none')\n    (2): Dropout(p=0.4, inplace=False)\n    (3): Linear(in_features=512, out_features=50, bias=True)\n  )\n)"
     },
     "execution_count": 37,
     "metadata": {},
     "output_type": "execute_result"
    }
   ],
   "source": [
    "checkpoint = os.path.join(data_path, f'runs/{run_id}/best_model.pt')\n",
    "print(f'CHECKPOINT LOADED: {checkpoint}')\n",
    "infer_model = torch.load(checkpoint)\n",
    "infer_model.to(device)\n",
    "infer_model.eval()"
   ],
   "metadata": {
    "collapsed": false,
    "ExecuteTime": {
     "end_time": "2023-12-27T12:22:21.296559300Z",
     "start_time": "2023-12-27T12:22:21.182658300Z"
    }
   },
   "id": "605d913e0df9b6"
  },
  {
   "cell_type": "code",
   "execution_count": 38,
   "outputs": [
    {
     "name": "stdout",
     "output_type": "stream",
     "text": [
      "Done.\n"
     ]
    }
   ],
   "source": [
    "preds = inference(infer_model, test_loader, device)"
   ],
   "metadata": {
    "collapsed": false,
    "ExecuteTime": {
     "end_time": "2023-12-27T12:23:46.914006400Z",
     "start_time": "2023-12-27T12:22:21.296559300Z"
    }
   },
   "id": "9df29cbb4653101f"
  },
  {
   "cell_type": "code",
   "execution_count": 39,
   "outputs": [],
   "source": [
    "preds = le.inverse_transform(preds)"
   ],
   "metadata": {
    "collapsed": false,
    "ExecuteTime": {
     "end_time": "2023-12-27T12:23:46.964824900Z",
     "start_time": "2023-12-27T12:23:46.918614Z"
    }
   },
   "id": "37b7f04a0b4de44f"
  },
  {
   "cell_type": "code",
   "execution_count": 40,
   "outputs": [],
   "source": [
    "submit = pd.read_csv(os.path.join(data_path, './sample_submission.csv'))"
   ],
   "metadata": {
    "collapsed": false,
    "ExecuteTime": {
     "end_time": "2023-12-27T12:23:46.973324Z",
     "start_time": "2023-12-27T12:23:46.944362Z"
    }
   },
   "id": "fe59292099a9b96e"
  },
  {
   "cell_type": "code",
   "execution_count": 41,
   "outputs": [],
   "source": [
    "submit['artist'] = preds"
   ],
   "metadata": {
    "collapsed": false,
    "ExecuteTime": {
     "end_time": "2023-12-27T12:23:46.974062200Z",
     "start_time": "2023-12-27T12:23:46.956953300Z"
    }
   },
   "id": "8582475a6cb3db6f"
  },
  {
   "cell_type": "code",
   "execution_count": 42,
   "outputs": [
    {
     "data": {
      "text/plain": "           id             artist\n0  TEST_00000        Edgar Degas\n1  TEST_00001  Amedeo Modigliani\n2  TEST_00002         Caravaggio\n3  TEST_00003    Albrecht Du rer\n4  TEST_00004      Pablo Picasso",
      "text/html": "<div>\n<style scoped>\n    .dataframe tbody tr th:only-of-type {\n        vertical-align: middle;\n    }\n\n    .dataframe tbody tr th {\n        vertical-align: top;\n    }\n\n    .dataframe thead th {\n        text-align: right;\n    }\n</style>\n<table border=\"1\" class=\"dataframe\">\n  <thead>\n    <tr style=\"text-align: right;\">\n      <th></th>\n      <th>id</th>\n      <th>artist</th>\n    </tr>\n  </thead>\n  <tbody>\n    <tr>\n      <th>0</th>\n      <td>TEST_00000</td>\n      <td>Edgar Degas</td>\n    </tr>\n    <tr>\n      <th>1</th>\n      <td>TEST_00001</td>\n      <td>Amedeo Modigliani</td>\n    </tr>\n    <tr>\n      <th>2</th>\n      <td>TEST_00002</td>\n      <td>Caravaggio</td>\n    </tr>\n    <tr>\n      <th>3</th>\n      <td>TEST_00003</td>\n      <td>Albrecht Du rer</td>\n    </tr>\n    <tr>\n      <th>4</th>\n      <td>TEST_00004</td>\n      <td>Pablo Picasso</td>\n    </tr>\n  </tbody>\n</table>\n</div>"
     },
     "execution_count": 42,
     "metadata": {},
     "output_type": "execute_result"
    }
   ],
   "source": [
    "submit.head()"
   ],
   "metadata": {
    "collapsed": false,
    "ExecuteTime": {
     "end_time": "2023-12-27T12:23:47.007277600Z",
     "start_time": "2023-12-27T12:23:46.969250100Z"
    }
   },
   "id": "15bd98c5d6b59bf4"
  },
  {
   "cell_type": "code",
   "execution_count": 43,
   "outputs": [],
   "source": [
    "submit.to_csv(os.path.join(data_path, f\"./submit_{CFG['FILENAME']}.csv\"), index=False)"
   ],
   "metadata": {
    "collapsed": false,
    "ExecuteTime": {
     "end_time": "2023-12-27T12:23:47.023664900Z",
     "start_time": "2023-12-27T12:23:46.982510300Z"
    }
   },
   "id": "eed3cb0dc59f47f7"
  },
  {
   "cell_type": "code",
   "execution_count": 43,
   "outputs": [],
   "source": [],
   "metadata": {
    "collapsed": false,
    "ExecuteTime": {
     "end_time": "2023-12-27T12:23:47.023664900Z",
     "start_time": "2023-12-27T12:23:47.007277600Z"
    }
   },
   "id": "479c26c8a5a70d89"
  }
 ],
 "metadata": {
  "kernelspec": {
   "display_name": "Python 3",
   "language": "python",
   "name": "python3"
  },
  "language_info": {
   "codemirror_mode": {
    "name": "ipython",
    "version": 2
   },
   "file_extension": ".py",
   "mimetype": "text/x-python",
   "name": "python",
   "nbconvert_exporter": "python",
   "pygments_lexer": "ipython2",
   "version": "2.7.6"
  }
 },
 "nbformat": 4,
 "nbformat_minor": 5
}
