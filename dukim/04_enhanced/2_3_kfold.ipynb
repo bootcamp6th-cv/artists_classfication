{
 "cells": [
  {
   "cell_type": "markdown",
   "source": [
    "# augmentation\n",
    "* Efficient-net B2\n",
    "* Augmentation\n",
    "    - Transpose # 행렬 스왑\n",
    "    - HorizontalFlip # 좌우 반전\n",
    "    - VerticalFlip # 상하 반전\n",
    "    - ShiftScaleRotate # 랜덤하게 옮기고, scale, 회전\n",
    "    - HueSaturationValue # 빛깔, 색조, 값 변환\n",
    "    - RandomBrightnessContrast # 명도 대비\n",
    "    - ChannelShuffle # RGB 채널 간 shuffle\n",
    "    - CoarseDropout # 조그마한 검은 사각형 영역 추가\n",
    "* lr scheduler\n",
    "    - Custom CosineAnnealingWarmUpRestarts\n",
    "* k-fold\n",
    "* result\n",
    "    - train loss : \n",
    "    - validation loss : \n",
    "    - f1 score : \n",
    "    - epoch : "
   ],
   "metadata": {
    "collapsed": false
   },
   "id": "35ad6a7e30f8925e"
  },
  {
   "cell_type": "code",
   "execution_count": 1,
   "outputs": [],
   "source": [
    "import gc\n",
    "import os\n",
    "import random\n",
    "from datetime import datetime\n",
    "\n",
    "import pandas as pd\n",
    "import numpy as np\n",
    "import matplotlib.pyplot as plt\n",
    "import seaborn as sns\n",
    "import cv2\n",
    "\n",
    "from sklearn import preprocessing\n",
    "from sklearn.model_selection import train_test_split, StratifiedKFold\n",
    "from sklearn.metrics import f1_score\n",
    "\n",
    "import torch\n",
    "import torch.nn as nn\n",
    "import torch.optim as optim\n",
    "import torch.nn.functional as F\n",
    "from torch.utils.data import Dataset, DataLoader\n",
    "\n",
    "from tqdm.auto import tqdm\n",
    "\n",
    "import albumentations as A\n",
    "from albumentations.pytorch.transforms import ToTensorV2\n",
    "\n",
    "import timm\n",
    "\n",
    "import warnings\n",
    "warnings.filterwarnings(action='ignore') "
   ],
   "metadata": {
    "collapsed": false,
    "ExecuteTime": {
     "end_time": "2023-12-14T23:25:56.950235600Z",
     "start_time": "2023-12-14T23:25:54.415143Z"
    }
   },
   "id": "initial_id"
  },
  {
   "cell_type": "code",
   "execution_count": 2,
   "outputs": [],
   "source": [
    "device = torch.device('cuda') if torch.cuda.is_available() else torch.device('cpu')"
   ],
   "metadata": {
    "collapsed": false,
    "ExecuteTime": {
     "end_time": "2023-12-14T23:25:57.013246500Z",
     "start_time": "2023-12-14T23:25:56.950235600Z"
    }
   },
   "id": "5fc1ff58a4a9d6d1"
  },
  {
   "cell_type": "code",
   "execution_count": 36,
   "outputs": [],
   "source": [
    "CFG = {\n",
    "    'IMG_SIZE': 260,\n",
    "    'EPOCHS': 1000,\n",
    "    'LEARNING_RATE': 1e-6,\n",
    "    'BATCH_SIZE': 16,\n",
    "    'PATIENCE': 10,\n",
    "    'WARMUP': 5,\n",
    "    'K-FOLD': 5,\n",
    "    'FILENAME': 'kfold',\n",
    "    'SEED': 6\n",
    "}"
   ],
   "metadata": {
    "collapsed": false,
    "ExecuteTime": {
     "end_time": "2023-12-15T07:30:55.090820900Z",
     "start_time": "2023-12-15T07:30:55.076384500Z"
    }
   },
   "id": "5c99354cb0d52004"
  },
  {
   "cell_type": "code",
   "execution_count": 4,
   "outputs": [],
   "source": [
    "def seed_everything(seed):\n",
    "    random.seed(seed)\n",
    "    os.environ['PYTHONHASHSEED'] = str(seed)\n",
    "    np.random.seed(seed)\n",
    "    torch.manual_seed(seed)\n",
    "    torch.cuda.manual_seed(seed)\n",
    "    torch.cuda.manual_seed_all(seed)\n",
    "    torch.backends.cudnn.deterministic = True\n",
    "    torch.backends.cudnn.benchmark = False\n",
    "\n",
    "seed_everything(CFG['SEED']) # Seed 고정"
   ],
   "metadata": {
    "collapsed": false,
    "ExecuteTime": {
     "end_time": "2023-12-14T23:25:57.044496700Z",
     "start_time": "2023-12-14T23:25:57.028872500Z"
    }
   },
   "id": "57142b16a76126df"
  },
  {
   "cell_type": "code",
   "execution_count": 5,
   "outputs": [],
   "source": [
    "running_colab = 'google.colab' in str(get_ipython()) if hasattr(__builtins__,'__IPYTHON__') else False\n",
    "if running_colab:\n",
    "    from google.colab import drive\n",
    "    drive.mount('/content/drive')\n",
    "if running_colab:\n",
    "    data_path = '/content/drive/MyDrive/Colab Notebooks/ai6th/data/optiver/'\n",
    "else:\n",
    "    data_path = '../../data/'"
   ],
   "metadata": {
    "collapsed": false,
    "ExecuteTime": {
     "end_time": "2023-12-14T23:25:57.138249300Z",
     "start_time": "2023-12-14T23:25:57.044496700Z"
    }
   },
   "id": "858b421c8c479378"
  },
  {
   "cell_type": "code",
   "execution_count": 6,
   "outputs": [],
   "source": [
    "df = pd.read_csv(os.path.join(data_path, 'train.csv'))\n",
    "df.loc[3896, 'artist'] = 'Titian'\n",
    "df.loc[3986, 'artist'] = 'Alfred Sisley'"
   ],
   "metadata": {
    "collapsed": false,
    "ExecuteTime": {
     "end_time": "2023-12-14T23:25:57.185123Z",
     "start_time": "2023-12-14T23:25:57.060121900Z"
    }
   },
   "id": "60ed6dfb973bafc5"
  },
  {
   "cell_type": "code",
   "execution_count": 7,
   "outputs": [],
   "source": [
    "artists = df.groupby('artist')[['id']].count().rename(columns={'id':'count'}).reset_index()"
   ],
   "metadata": {
    "collapsed": false,
    "ExecuteTime": {
     "end_time": "2023-12-14T23:25:57.185123Z",
     "start_time": "2023-12-14T23:25:57.122622400Z"
    }
   },
   "id": "c031773f1ed5ca85"
  },
  {
   "cell_type": "code",
   "execution_count": 8,
   "outputs": [],
   "source": [
    "# Label Encoding\n",
    "le = preprocessing.LabelEncoder()\n",
    "df['artist'] = le.fit_transform(df['artist'].values)"
   ],
   "metadata": {
    "collapsed": false,
    "ExecuteTime": {
     "end_time": "2023-12-14T23:25:57.185123Z",
     "start_time": "2023-12-14T23:25:57.122622400Z"
    }
   },
   "id": "2ae8b183518c9394"
  },
  {
   "cell_type": "code",
   "execution_count": 9,
   "outputs": [],
   "source": [
    "# train_df, val_df = train_test_split(df, test_size=0.2, random_state=CFG['SEED'])"
   ],
   "metadata": {
    "collapsed": false,
    "ExecuteTime": {
     "end_time": "2023-12-14T23:25:57.185123Z",
     "start_time": "2023-12-14T23:25:57.122622400Z"
    }
   },
   "id": "71c56b6890f87998"
  },
  {
   "cell_type": "code",
   "execution_count": 10,
   "outputs": [],
   "source": [
    "# train_df = train_df.sort_values(by=['id'])\n",
    "# train_df.head()"
   ],
   "metadata": {
    "collapsed": false,
    "ExecuteTime": {
     "end_time": "2023-12-14T23:25:57.185123Z",
     "start_time": "2023-12-14T23:25:57.138249300Z"
    }
   },
   "id": "3146f5ea6c5ce2c4"
  },
  {
   "cell_type": "code",
   "execution_count": 11,
   "outputs": [],
   "source": [
    "# val_df = val_df.sort_values(by=['id'])\n",
    "# val_df.head()"
   ],
   "metadata": {
    "collapsed": false,
    "ExecuteTime": {
     "end_time": "2023-12-14T23:25:57.185123Z",
     "start_time": "2023-12-14T23:25:57.153873400Z"
    }
   },
   "id": "e4849ea7a525c8cf"
  },
  {
   "cell_type": "code",
   "execution_count": 12,
   "outputs": [],
   "source": [
    "def get_data(df, infer=False):\n",
    "    if infer:\n",
    "        return df['img_path'].apply(lambda p: os.path.join(data_path, p)).values\n",
    "    return df['img_path'].apply(lambda p: os.path.join(data_path, p)).values, df['artist'].values"
   ],
   "metadata": {
    "collapsed": false,
    "ExecuteTime": {
     "end_time": "2023-12-14T23:25:57.185123Z",
     "start_time": "2023-12-14T23:25:57.169497200Z"
    }
   },
   "id": "db002acff51c03bd"
  },
  {
   "cell_type": "code",
   "execution_count": 13,
   "outputs": [],
   "source": [
    "from torchvision.transforms import ToTensor\n",
    "\n",
    "\n",
    "class CustomDataset(Dataset):\n",
    "    def __init__(self, img_paths, labels, transforms=None):\n",
    "        self.img_paths = img_paths\n",
    "        self.labels = labels\n",
    "        self.transforms = transforms if transforms else ToTensor()\n",
    "\n",
    "    def __getitem__(self, index):\n",
    "        img_path = self.img_paths[index]\n",
    "        image = cv2.imread(img_path)\n",
    "        image = cv2.cvtColor(image, cv2.COLOR_BGR2RGB)\n",
    "        image = self.transforms(image=image)['image']\n",
    "        \n",
    "        if self.labels is not None:\n",
    "            label = self.labels[index]\n",
    "            return image, label\n",
    "        else:\n",
    "            return image\n",
    "    \n",
    "    def __len__(self):\n",
    "        return len(self.img_paths)"
   ],
   "metadata": {
    "collapsed": false,
    "ExecuteTime": {
     "end_time": "2023-12-14T23:25:57.200749500Z",
     "start_time": "2023-12-14T23:25:57.185123Z"
    }
   },
   "id": "daa8f5c45d3e6316"
  },
  {
   "cell_type": "code",
   "execution_count": 14,
   "outputs": [],
   "source": [
    "train_transform = A.Compose([\n",
    "    A.Resize(CFG['IMG_SIZE']*2,CFG['IMG_SIZE']*2),\n",
    "    A.RandomCrop(CFG['IMG_SIZE'],CFG['IMG_SIZE']),\n",
    "    A.Transpose(p=0.5), # 행렬 스왑\n",
    "    A.HorizontalFlip(p=0.5), # 좌우 반전\n",
    "    A.VerticalFlip(p=0.5), # 상하 반전\n",
    "    A.ShiftScaleRotate(p=0.5), # 랜덤하게 옮기고, scale, 회전\n",
    "    A.HueSaturationValue(hue_shift_limit=20, sat_shift_limit=20, val_shift_limit=20, p=0.5), # 빛깔, 색조, 값 변환\n",
    "    A.RandomBrightnessContrast(brightness_limit=(-0.1,0.1), contrast_limit=(-0.1, 0.1), p=0.5), # 명도 대비\n",
    "    A.ChannelShuffle(), # RGB 채널 간 shuffle\n",
    "    A.Normalize(mean=(0.485, 0.456, 0.406), std=(0.229, 0.224, 0.225), max_pixel_value=255.0, always_apply=False, p=1.0),\n",
    "    A.CoarseDropout(p=0.5),\n",
    "    ToTensorV2()\n",
    "])\n",
    "\n",
    "validation_transform = A.Compose([\n",
    "    A.Resize(CFG['IMG_SIZE']*2,CFG['IMG_SIZE']*2),\n",
    "    A.RandomCrop(CFG['IMG_SIZE'],CFG['IMG_SIZE']),\n",
    "    A.Normalize(mean=(0.485, 0.456, 0.406), std=(0.229, 0.224, 0.225), max_pixel_value=255.0, always_apply=False, p=1.0),\n",
    "    ToTensorV2()\n",
    "])\n",
    "\n",
    "test_transform = A.Compose([\n",
    "    A.Resize(CFG['IMG_SIZE'],CFG['IMG_SIZE']),\n",
    "    A.Normalize(mean=(0.485, 0.456, 0.406), std=(0.229, 0.224, 0.225), max_pixel_value=255.0, always_apply=False, p=1.0),\n",
    "    ToTensorV2()\n",
    "])"
   ],
   "metadata": {
    "collapsed": false,
    "ExecuteTime": {
     "end_time": "2023-12-14T23:25:57.247625Z",
     "start_time": "2023-12-14T23:25:57.200749500Z"
    }
   },
   "id": "17b5b770a5fb4839"
  },
  {
   "cell_type": "code",
   "execution_count": 15,
   "outputs": [
    {
     "data": {
      "text/plain": "<torch._C.Generator at 0x20b6c011650>"
     },
     "execution_count": 15,
     "metadata": {},
     "output_type": "execute_result"
    }
   ],
   "source": [
    "def seed_worker(worker_id):\n",
    "    worker_seed = torch.initial_seed() % 2 ** 32\n",
    "    np.random.seed(worker_seed)\n",
    "    random.seed(worker_seed)\n",
    "g = torch.Generator()\n",
    "g.manual_seed(0)"
   ],
   "metadata": {
    "collapsed": false,
    "ExecuteTime": {
     "end_time": "2023-12-14T23:25:57.247625Z",
     "start_time": "2023-12-14T23:25:57.216372700Z"
    }
   },
   "id": "c69fe868589b1093"
  },
  {
   "cell_type": "code",
   "execution_count": 16,
   "outputs": [],
   "source": [
    "class BaseModel(nn.Module):\n",
    "    def __init__(self, num_classes=len(le.classes_)):\n",
    "        super(BaseModel, self).__init__()\n",
    "        self.backbone = timm.create_model('efficientnet_b2', pretrained=True, num_classes=512)\n",
    "        self.classifier = nn.Sequential(\n",
    "            nn.LeakyReLU(),\n",
    "            nn.Linear(512, num_classes)\n",
    "        )\n",
    "            \n",
    "    def forward(self, x):\n",
    "        x = self.backbone(x)\n",
    "        x = self.classifier(x)\n",
    "        return x"
   ],
   "metadata": {
    "collapsed": false,
    "ExecuteTime": {
     "end_time": "2023-12-14T23:25:57.247625Z",
     "start_time": "2023-12-14T23:25:57.231998800Z"
    }
   },
   "id": "cd5ecc94fada5c8b"
  },
  {
   "cell_type": "code",
   "execution_count": 17,
   "outputs": [],
   "source": [
    "def clear_mem():\n",
    "    gc.collect()\n",
    "    torch.cuda.empty_cache()"
   ],
   "metadata": {
    "collapsed": false,
    "ExecuteTime": {
     "end_time": "2023-12-14T23:25:57.263260200Z",
     "start_time": "2023-12-14T23:25:57.247625Z"
    }
   },
   "id": "ecce2baec16e71e7"
  },
  {
   "cell_type": "code",
   "execution_count": 18,
   "outputs": [],
   "source": [
    "class EarlyStopping:\n",
    "    def __init__(self, patience=10, verbose=False, delta=0):\n",
    "        self.patience = patience\n",
    "        self.verbose = verbose\n",
    "        self.counter = 0\n",
    "        self.best_score = None\n",
    "        self.early_stop = False\n",
    "        self.val_loss_min = np.Inf\n",
    "        self.delta = delta\n",
    "\n",
    "    def __call__(self, score):\n",
    "        if self.best_score is None:\n",
    "            self.best_score = score\n",
    "        elif score < self.best_score + self.delta:\n",
    "            self.counter += 1\n",
    "            print(f'EarlyStopping counter: {self.counter} out of {self.patience}')\n",
    "            print(f'Best F1 score from now: {self.best_score}')\n",
    "            if self.counter >= self.patience:\n",
    "                self.early_stop = True\n",
    "        else:\n",
    "            self.best_score = score\n",
    "            self.counter = 0\n",
    "        \n",
    "        return self.early_stop"
   ],
   "metadata": {
    "collapsed": false,
    "ExecuteTime": {
     "end_time": "2023-12-14T23:25:57.310152300Z",
     "start_time": "2023-12-14T23:25:57.263260200Z"
    }
   },
   "id": "51d7e36eb5ffba31"
  },
  {
   "cell_type": "code",
   "execution_count": 19,
   "outputs": [],
   "source": [
    "import math\n",
    "from torch.optim.lr_scheduler import LRScheduler\n",
    "\n",
    "class CosineAnnealingWarmUpRestarts(LRScheduler):\n",
    "    def __init__(self, optimizer, T_0, T_mult=1, eta_max=0.1, T_up=0, gamma=1., last_epoch=-1):\n",
    "        if T_0 <= 0 or not isinstance(T_0, int):\n",
    "            raise ValueError(\"Expected positive integer T_0, but got {}\".format(T_0))\n",
    "        if T_mult < 1 or not isinstance(T_mult, int):\n",
    "            raise ValueError(\"Expected integer T_mult >= 1, but got {}\".format(T_mult))\n",
    "        if T_up < 0 or not isinstance(T_up, int):\n",
    "            raise ValueError(\"Expected positive integer T_up, but got {}\".format(T_up))\n",
    "        self.T_0 = T_0\n",
    "        self.T_mult = T_mult\n",
    "        self.base_eta_max = eta_max\n",
    "        self.eta_max = eta_max\n",
    "        self.T_up = T_up\n",
    "        self.T_i = T_0\n",
    "        self.gamma = gamma\n",
    "        self.cycle = 0\n",
    "        self.T_cur = last_epoch\n",
    "        super(CosineAnnealingWarmUpRestarts, self).__init__(optimizer, last_epoch)\n",
    "    \n",
    "    def get_lr(self):\n",
    "        if self.T_cur == -1:\n",
    "            return self.base_lrs\n",
    "        elif self.T_cur < self.T_up:\n",
    "            return [(self.eta_max - base_lr)*self.T_cur / self.T_up + base_lr for base_lr in self.base_lrs]\n",
    "        else:\n",
    "            return [base_lr + (self.eta_max - base_lr) * (1 + math.cos(math.pi * (self.T_cur-self.T_up) / (self.T_i - self.T_up))) / 2\n",
    "                    for base_lr in self.base_lrs]\n",
    "\n",
    "    def step(self, epoch=None):\n",
    "        if epoch is None:\n",
    "            epoch = self.last_epoch + 1\n",
    "            self.T_cur = self.T_cur + 1\n",
    "            if self.T_cur >= self.T_i:\n",
    "                self.cycle += 1\n",
    "                self.T_cur = self.T_cur - self.T_i\n",
    "                self.T_i = (self.T_i - self.T_up) * self.T_mult + self.T_up\n",
    "        else:\n",
    "            if epoch >= self.T_0:\n",
    "                if self.T_mult == 1:\n",
    "                    self.T_cur = epoch % self.T_0\n",
    "                    self.cycle = epoch // self.T_0\n",
    "                else:\n",
    "                    n = int(math.log((epoch / self.T_0 * (self.T_mult - 1) + 1), self.T_mult))\n",
    "                    self.cycle = n\n",
    "                    self.T_cur = epoch - self.T_0 * (self.T_mult ** n - 1) / (self.T_mult - 1)\n",
    "                    self.T_i = self.T_0 * self.T_mult ** (n)\n",
    "            else:\n",
    "                self.T_i = self.T_0\n",
    "                self.T_cur = epoch\n",
    "                \n",
    "        self.eta_max = self.base_eta_max * (self.gamma**self.cycle)\n",
    "        self.last_epoch = math.floor(epoch)\n",
    "        for param_group, lr in zip(self.optimizer.param_groups, self.get_lr()):\n",
    "            param_group['lr'] = lr"
   ],
   "metadata": {
    "collapsed": false,
    "ExecuteTime": {
     "end_time": "2023-12-14T23:25:57.310152300Z",
     "start_time": "2023-12-14T23:25:57.278888400Z"
    }
   },
   "id": "66827c3c4d6466cd"
  },
  {
   "cell_type": "code",
   "execution_count": 20,
   "outputs": [
    {
     "name": "stdout",
     "output_type": "stream",
     "text": [
      "run_id=0\n"
     ]
    }
   ],
   "source": [
    "time_now = datetime.now()\n",
    "run_id = 0# time_now.strftime(\"%Y%m%d%H%M%S\")\n",
    "os.makedirs(os.path.join(data_path, f'./runs/{run_id}'), exist_ok=True)\n",
    "print(f'{run_id=}')"
   ],
   "metadata": {
    "collapsed": false,
    "ExecuteTime": {
     "end_time": "2023-12-14T23:25:57.310152300Z",
     "start_time": "2023-12-14T23:25:57.294497900Z"
    }
   },
   "id": "17fc703a3126967"
  },
  {
   "cell_type": "code",
   "execution_count": 21,
   "outputs": [],
   "source": [
    "def train(epoch, model, optimizer, criterion, train_loader, device, lr_scheduler=None):\n",
    "    model.train()\n",
    "    train_loss = []\n",
    "    lr_list = []\n",
    "    # bar = tqdm(enumerate(train_loader), total = len(train_loader), desc='Train Loop')\n",
    "    for idx, (img, label) in enumerate(train_loader):\n",
    "        img, label = img.float().to(device), label.long().to(device)\n",
    "        \n",
    "        optimizer.zero_grad()\n",
    "\n",
    "        model_pred = model(img)\n",
    "        loss = criterion(model_pred, label)\n",
    "\n",
    "        loss.backward()\n",
    "        if (epoch*idx)%10 == 0:\n",
    "            lr_list.append(optimizer.param_groups[0]['lr'])\n",
    "        optimizer.step()\n",
    "        train_loss.append(loss.item())\n",
    "        # bar.set_postfix(train_loss = f'{loss.item():.4f}', lr = f\"{optimizer.param_groups[0]['lr']:.6f}\")\n",
    "        if lr_scheduler:\n",
    "            lr_scheduler.step()\n",
    "    return np.mean(train_loss), lr_list"
   ],
   "metadata": {
    "collapsed": false,
    "ExecuteTime": {
     "end_time": "2023-12-14T23:25:57.325803Z",
     "start_time": "2023-12-14T23:25:57.310152300Z"
    }
   },
   "id": "8837f76bd55e594f"
  },
  {
   "cell_type": "code",
   "execution_count": 22,
   "outputs": [],
   "source": [
    "def competition_metric(true, pred):\n",
    "    return f1_score(true, pred, average=\"macro\")\n",
    "\n",
    "def validation(model, criterion, test_loader, device):\n",
    "    model.eval()\n",
    "    \n",
    "    model_preds = []\n",
    "    true_labels = []\n",
    "    \n",
    "    val_loss = []\n",
    "    \n",
    "    with torch.no_grad():\n",
    "        for img, label in iter(test_loader):\n",
    "            img, label = img.float().to(device), label.long().to(device)\n",
    "            \n",
    "            model_pred = model(img)\n",
    "            \n",
    "            loss = criterion(model_pred, label)\n",
    "            \n",
    "            val_loss.append(loss.item())\n",
    "            \n",
    "            model_preds += model_pred.argmax(1).detach().cpu().numpy().tolist()\n",
    "            true_labels += label.detach().cpu().numpy().tolist()\n",
    "        \n",
    "    val_f1 = competition_metric(true_labels, model_preds)\n",
    "    return np.mean(val_loss), val_f1"
   ],
   "metadata": {
    "collapsed": false,
    "ExecuteTime": {
     "end_time": "2023-12-14T23:25:57.388779600Z",
     "start_time": "2023-12-14T23:25:57.325803Z"
    }
   },
   "id": "6e0713601b2fa53a"
  },
  {
   "cell_type": "code",
   "execution_count": 23,
   "outputs": [],
   "source": [
    "def train_epoch(k, model, optimizer, train_loader, test_loader, lr_scheduler, device):\n",
    "    model.to(device)\n",
    "\n",
    "    criterion = nn.CrossEntropyLoss().to(device)\n",
    "    early_stopping = EarlyStopping(patience=CFG['PATIENCE'], verbose=True)\n",
    "    \n",
    "    best_score = 0\n",
    "    lr_list = []\n",
    "    train_loss_list, val_loss_list = [], []\n",
    "    \n",
    "    for epoch in range(1,CFG[\"EPOCHS\"]+1):\n",
    "        tr_loss, lr_ = train(epoch, model, optimizer, criterion, train_loader, device, lr_scheduler)\n",
    "        val_loss, val_score = validation(model, criterion, test_loader, device)\n",
    "        train_loss_list.append(tr_loss)\n",
    "        val_loss_list.append(val_loss)\n",
    "        \n",
    "        if lr_scheduler is not None:\n",
    "            lr_list.extend(lr_)\n",
    "            \n",
    "        if best_score < val_score:\n",
    "            print(f'**Epoch [{k}-{epoch}], Train Loss : [{tr_loss:.5f}] Val Loss : [{val_loss:.5f}] Val F1 Score : [{val_score:.5f}]')\n",
    "            best_score = val_score\n",
    "            torch.save(model, os.path.join(data_path, f'runs/{run_id}/best_model_{k}.pt'))\n",
    "        else:\n",
    "            print(f'Epoch [{k}-{epoch}], Train Loss : [{tr_loss:.5f}] Val Loss : [{val_loss:.5f}] Val F1 Score : [{val_score:.5f}]')\n",
    "        clear_mem()\n",
    "        if early_stopping(val_score):\n",
    "            print(f'Epoch [{k}-{epoch}], early stopping')\n",
    "            break\n",
    "    if lr_list:\n",
    "        return (train_loss_list, val_loss_list, val_score, lr_list)\n",
    "    else:\n",
    "        return (train_loss_list, val_loss_list, val_score, None)"
   ],
   "metadata": {
    "collapsed": false,
    "ExecuteTime": {
     "end_time": "2023-12-14T23:25:57.388779600Z",
     "start_time": "2023-12-14T23:25:57.341414Z"
    }
   },
   "id": "533c937dd1370a10"
  },
  {
   "cell_type": "code",
   "execution_count": 24,
   "outputs": [],
   "source": [
    "def k_fold(k): # k-fold\n",
    "    skf = StratifiedKFold(n_splits=k, shuffle=False)\n",
    "    f1_sum = 0\n",
    "    for k_, (train_index, valid_index) in enumerate(skf.split(df, df['artist'])):\n",
    "        print(f'{k_}-fold start')\n",
    "        \n",
    "        train_img_paths, train_labels = get_data(df.iloc[train_index])\n",
    "        val_img_paths, val_labels = get_data(df.iloc[valid_index])\n",
    "        train_dataset = CustomDataset(train_img_paths, train_labels, train_transform)\n",
    "        train_loader = DataLoader(train_dataset, batch_size = CFG['BATCH_SIZE'], shuffle=False, worker_init_fn=seed_worker, generator=g, num_workers=0)\n",
    "        val_dataset = CustomDataset(val_img_paths, val_labels, validation_transform)\n",
    "        val_loader = DataLoader(val_dataset, batch_size=CFG['BATCH_SIZE'], shuffle=False, worker_init_fn=seed_worker, generator=g, num_workers=0)\n",
    "        \n",
    "        model = BaseModel()\n",
    "        model.eval()\n",
    "        optimizer = torch.optim.Adam(params = model.parameters(), lr = CFG['LEARNING_RATE'])\n",
    "        # lr : 5epochs 동안 0.01->0\n",
    "        lr_scheduler = CosineAnnealingWarmUpRestarts(optimizer, T_0=CFG['WARMUP']*len(train_loader), T_mult=1, eta_max=0.001, T_up=50, gamma=0.7)\n",
    "        _, _, f1_score, _ = train_epoch(k_, model, optimizer, train_loader, val_loader, lr_scheduler, device)\n",
    "        f1_sum += f1_score\n",
    "    return f1_sum/k"
   ],
   "metadata": {
    "collapsed": false,
    "ExecuteTime": {
     "end_time": "2023-12-14T23:25:57.388779600Z",
     "start_time": "2023-12-14T23:25:57.357038300Z"
    }
   },
   "id": "ef23a282d7caf6e6"
  },
  {
   "cell_type": "code",
   "execution_count": 25,
   "outputs": [
    {
     "name": "stdout",
     "output_type": "stream",
     "text": [
      "0-fold start\n",
      "**Epoch [0-1], Train Loss : [2.75373] Val Loss : [2.12732] Val F1 Score : [0.26879]\n",
      "**Epoch [0-2], Train Loss : [1.82444] Val Loss : [1.49718] Val F1 Score : [0.47585]\n",
      "**Epoch [0-3], Train Loss : [1.21246] Val Loss : [1.13499] Val F1 Score : [0.59977]\n",
      "**Epoch [0-4], Train Loss : [0.71235] Val Loss : [0.97519] Val F1 Score : [0.65915]\n",
      "**Epoch [0-5], Train Loss : [0.44958] Val Loss : [0.92956] Val F1 Score : [0.68156]\n",
      "Epoch [0-6], Train Loss : [0.96023] Val Loss : [1.37924] Val F1 Score : [0.54401]\n",
      "EarlyStopping counter: 1 out of 10\n",
      "Best F1 score from now: 0.6815576731640702\n",
      "Epoch [0-7], Train Loss : [0.76667] Val Loss : [1.14516] Val F1 Score : [0.63448]\n",
      "EarlyStopping counter: 2 out of 10\n",
      "Best F1 score from now: 0.6815576731640702\n",
      "**Epoch [0-8], Train Loss : [0.42891] Val Loss : [1.00605] Val F1 Score : [0.68348]\n",
      "**Epoch [0-9], Train Loss : [0.20535] Val Loss : [0.96288] Val F1 Score : [0.70614]\n",
      "**Epoch [0-10], Train Loss : [0.11450] Val Loss : [0.95509] Val F1 Score : [0.71344]\n",
      "Epoch [0-11], Train Loss : [0.36955] Val Loss : [1.45732] Val F1 Score : [0.61788]\n",
      "EarlyStopping counter: 1 out of 10\n",
      "Best F1 score from now: 0.7134423974568541\n",
      "Epoch [0-12], Train Loss : [0.32831] Val Loss : [1.24626] Val F1 Score : [0.64877]\n",
      "EarlyStopping counter: 2 out of 10\n",
      "Best F1 score from now: 0.7134423974568541\n",
      "Epoch [0-13], Train Loss : [0.16855] Val Loss : [1.13583] Val F1 Score : [0.69978]\n",
      "EarlyStopping counter: 3 out of 10\n",
      "Best F1 score from now: 0.7134423974568541\n",
      "**Epoch [0-14], Train Loss : [0.06507] Val Loss : [1.07083] Val F1 Score : [0.73821]\n",
      "**Epoch [0-15], Train Loss : [0.03232] Val Loss : [1.06871] Val F1 Score : [0.74216]\n",
      "Epoch [0-16], Train Loss : [0.09433] Val Loss : [1.37070] Val F1 Score : [0.70181]\n",
      "EarlyStopping counter: 1 out of 10\n",
      "Best F1 score from now: 0.7421600795748091\n",
      "Epoch [0-17], Train Loss : [0.14659] Val Loss : [1.40738] Val F1 Score : [0.66741]\n",
      "EarlyStopping counter: 2 out of 10\n",
      "Best F1 score from now: 0.7421600795748091\n",
      "Epoch [0-18], Train Loss : [0.06141] Val Loss : [1.31193] Val F1 Score : [0.69472]\n",
      "EarlyStopping counter: 3 out of 10\n",
      "Best F1 score from now: 0.7421600795748091\n",
      "Epoch [0-19], Train Loss : [0.03216] Val Loss : [1.23420] Val F1 Score : [0.71271]\n",
      "EarlyStopping counter: 4 out of 10\n",
      "Best F1 score from now: 0.7421600795748091\n",
      "Epoch [0-20], Train Loss : [0.02167] Val Loss : [1.23881] Val F1 Score : [0.71270]\n",
      "EarlyStopping counter: 5 out of 10\n",
      "Best F1 score from now: 0.7421600795748091\n",
      "Epoch [0-21], Train Loss : [0.03807] Val Loss : [1.50685] Val F1 Score : [0.67280]\n",
      "EarlyStopping counter: 6 out of 10\n",
      "Best F1 score from now: 0.7421600795748091\n",
      "Epoch [0-22], Train Loss : [0.08956] Val Loss : [1.45487] Val F1 Score : [0.68039]\n",
      "EarlyStopping counter: 7 out of 10\n",
      "Best F1 score from now: 0.7421600795748091\n",
      "Epoch [0-23], Train Loss : [0.02829] Val Loss : [1.29673] Val F1 Score : [0.71598]\n",
      "EarlyStopping counter: 8 out of 10\n",
      "Best F1 score from now: 0.7421600795748091\n",
      "Epoch [0-24], Train Loss : [0.01405] Val Loss : [1.26863] Val F1 Score : [0.71463]\n",
      "EarlyStopping counter: 9 out of 10\n",
      "Best F1 score from now: 0.7421600795748091\n",
      "Epoch [0-25], Train Loss : [0.00992] Val Loss : [1.27986] Val F1 Score : [0.72161]\n",
      "EarlyStopping counter: 10 out of 10\n",
      "Best F1 score from now: 0.7421600795748091\n",
      "Epoch [0-25], early stopping\n",
      "1-fold start\n",
      "**Epoch [1-1], Train Loss : [2.86733] Val Loss : [2.19817] Val F1 Score : [0.24544]\n",
      "**Epoch [1-2], Train Loss : [1.94138] Val Loss : [1.57353] Val F1 Score : [0.40864]\n",
      "**Epoch [1-3], Train Loss : [1.30279] Val Loss : [1.22898] Val F1 Score : [0.55819]\n",
      "**Epoch [1-4], Train Loss : [0.78340] Val Loss : [0.94709] Val F1 Score : [0.64227]\n",
      "**Epoch [1-5], Train Loss : [0.50374] Val Loss : [0.89856] Val F1 Score : [0.65187]\n",
      "Epoch [1-6], Train Loss : [1.03449] Val Loss : [1.46185] Val F1 Score : [0.50682]\n",
      "EarlyStopping counter: 1 out of 10\n",
      "Best F1 score from now: 0.6518695610974197\n",
      "Epoch [1-7], Train Loss : [0.82799] Val Loss : [1.19617] Val F1 Score : [0.59040]\n",
      "EarlyStopping counter: 2 out of 10\n",
      "Best F1 score from now: 0.6518695610974197\n",
      "Epoch [1-8], Train Loss : [0.47229] Val Loss : [1.00131] Val F1 Score : [0.65144]\n",
      "EarlyStopping counter: 3 out of 10\n",
      "Best F1 score from now: 0.6518695610974197\n",
      "**Epoch [1-9], Train Loss : [0.23187] Val Loss : [0.92703] Val F1 Score : [0.70660]\n",
      "Epoch [1-10], Train Loss : [0.12196] Val Loss : [0.91576] Val F1 Score : [0.70048]\n",
      "EarlyStopping counter: 1 out of 10\n",
      "Best F1 score from now: 0.7065975178556294\n",
      "Epoch [1-11], Train Loss : [0.36122] Val Loss : [1.36245] Val F1 Score : [0.62028]\n",
      "EarlyStopping counter: 2 out of 10\n",
      "Best F1 score from now: 0.7065975178556294\n",
      "Epoch [1-12], Train Loss : [0.39220] Val Loss : [1.20002] Val F1 Score : [0.63873]\n",
      "EarlyStopping counter: 3 out of 10\n",
      "Best F1 score from now: 0.7065975178556294\n",
      "Epoch [1-13], Train Loss : [0.17920] Val Loss : [1.04254] Val F1 Score : [0.68643]\n",
      "EarlyStopping counter: 4 out of 10\n",
      "Best F1 score from now: 0.7065975178556294\n",
      "Epoch [1-14], Train Loss : [0.07307] Val Loss : [1.01325] Val F1 Score : [0.68954]\n",
      "EarlyStopping counter: 5 out of 10\n",
      "Best F1 score from now: 0.7065975178556294\n",
      "Epoch [1-15], Train Loss : [0.04307] Val Loss : [0.99989] Val F1 Score : [0.70182]\n",
      "EarlyStopping counter: 6 out of 10\n",
      "Best F1 score from now: 0.7065975178556294\n",
      "Epoch [1-16], Train Loss : [0.10691] Val Loss : [1.48522] Val F1 Score : [0.65342]\n",
      "EarlyStopping counter: 7 out of 10\n",
      "Best F1 score from now: 0.7065975178556294\n",
      "Epoch [1-17], Train Loss : [0.15737] Val Loss : [1.28867] Val F1 Score : [0.67306]\n",
      "EarlyStopping counter: 8 out of 10\n",
      "Best F1 score from now: 0.7065975178556294\n",
      "Epoch [1-18], Train Loss : [0.07007] Val Loss : [1.18482] Val F1 Score : [0.68936]\n",
      "EarlyStopping counter: 9 out of 10\n",
      "Best F1 score from now: 0.7065975178556294\n",
      "Epoch [1-19], Train Loss : [0.02864] Val Loss : [1.17307] Val F1 Score : [0.68963]\n",
      "EarlyStopping counter: 10 out of 10\n",
      "Best F1 score from now: 0.7065975178556294\n",
      "Epoch [1-19], early stopping\n",
      "2-fold start\n",
      "**Epoch [2-1], Train Loss : [2.82836] Val Loss : [2.20194] Val F1 Score : [0.21818]\n",
      "**Epoch [2-2], Train Loss : [1.90635] Val Loss : [1.49722] Val F1 Score : [0.45867]\n",
      "**Epoch [2-3], Train Loss : [1.28102] Val Loss : [1.10582] Val F1 Score : [0.60782]\n",
      "**Epoch [2-4], Train Loss : [0.75384] Val Loss : [0.92605] Val F1 Score : [0.65753]\n",
      "**Epoch [2-5], Train Loss : [0.46006] Val Loss : [0.88367] Val F1 Score : [0.68302]\n",
      "Epoch [2-6], Train Loss : [1.00634] Val Loss : [1.33137] Val F1 Score : [0.53999]\n",
      "EarlyStopping counter: 1 out of 10\n",
      "Best F1 score from now: 0.683023547461609\n",
      "Epoch [2-7], Train Loss : [0.84450] Val Loss : [1.12053] Val F1 Score : [0.63896]\n",
      "EarlyStopping counter: 2 out of 10\n",
      "Best F1 score from now: 0.683023547461609\n",
      "**Epoch [2-8], Train Loss : [0.45565] Val Loss : [0.95473] Val F1 Score : [0.69804]\n",
      "**Epoch [2-9], Train Loss : [0.21951] Val Loss : [0.91239] Val F1 Score : [0.72452]\n",
      "**Epoch [2-10], Train Loss : [0.12110] Val Loss : [0.90761] Val F1 Score : [0.73611]\n",
      "Epoch [2-11], Train Loss : [0.37631] Val Loss : [1.14571] Val F1 Score : [0.66714]\n",
      "EarlyStopping counter: 1 out of 10\n",
      "Best F1 score from now: 0.7361128325709195\n",
      "Epoch [2-12], Train Loss : [0.36199] Val Loss : [1.17615] Val F1 Score : [0.67235]\n",
      "EarlyStopping counter: 2 out of 10\n",
      "Best F1 score from now: 0.7361128325709195\n",
      "Epoch [2-13], Train Loss : [0.17379] Val Loss : [1.10929] Val F1 Score : [0.71386]\n",
      "EarlyStopping counter: 3 out of 10\n",
      "Best F1 score from now: 0.7361128325709195\n",
      "**Epoch [2-14], Train Loss : [0.07666] Val Loss : [1.03995] Val F1 Score : [0.73820]\n",
      "**Epoch [2-15], Train Loss : [0.03849] Val Loss : [1.03016] Val F1 Score : [0.74187]\n",
      "Epoch [2-16], Train Loss : [0.10951] Val Loss : [1.44263] Val F1 Score : [0.65949]\n",
      "EarlyStopping counter: 1 out of 10\n",
      "Best F1 score from now: 0.7418699732493441\n",
      "Epoch [2-17], Train Loss : [0.18675] Val Loss : [1.24980] Val F1 Score : [0.69389]\n",
      "EarlyStopping counter: 2 out of 10\n",
      "Best F1 score from now: 0.7418699732493441\n",
      "Epoch [2-18], Train Loss : [0.07634] Val Loss : [1.17526] Val F1 Score : [0.73336]\n",
      "EarlyStopping counter: 3 out of 10\n",
      "Best F1 score from now: 0.7418699732493441\n",
      "Epoch [2-19], Train Loss : [0.02962] Val Loss : [1.09741] Val F1 Score : [0.73914]\n",
      "EarlyStopping counter: 4 out of 10\n",
      "Best F1 score from now: 0.7418699732493441\n",
      "Epoch [2-20], Train Loss : [0.02318] Val Loss : [1.11240] Val F1 Score : [0.73230]\n",
      "EarlyStopping counter: 5 out of 10\n",
      "Best F1 score from now: 0.7418699732493441\n",
      "Epoch [2-21], Train Loss : [0.05152] Val Loss : [1.33287] Val F1 Score : [0.69955]\n",
      "EarlyStopping counter: 6 out of 10\n",
      "Best F1 score from now: 0.7418699732493441\n",
      "Epoch [2-22], Train Loss : [0.07123] Val Loss : [1.33395] Val F1 Score : [0.69711]\n",
      "EarlyStopping counter: 7 out of 10\n",
      "Best F1 score from now: 0.7418699732493441\n",
      "Epoch [2-23], Train Loss : [0.03646] Val Loss : [1.30568] Val F1 Score : [0.73048]\n",
      "EarlyStopping counter: 8 out of 10\n",
      "Best F1 score from now: 0.7418699732493441\n",
      "**Epoch [2-24], Train Loss : [0.01494] Val Loss : [1.22684] Val F1 Score : [0.74733]\n",
      "Epoch [2-25], Train Loss : [0.01161] Val Loss : [1.27842] Val F1 Score : [0.73645]\n",
      "EarlyStopping counter: 1 out of 10\n",
      "Best F1 score from now: 0.7473289014038456\n",
      "Epoch [2-26], Train Loss : [0.02289] Val Loss : [1.36222] Val F1 Score : [0.71405]\n",
      "EarlyStopping counter: 2 out of 10\n",
      "Best F1 score from now: 0.7473289014038456\n",
      "Epoch [2-27], Train Loss : [0.02453] Val Loss : [1.35502] Val F1 Score : [0.73635]\n",
      "EarlyStopping counter: 3 out of 10\n",
      "Best F1 score from now: 0.7473289014038456\n",
      "Epoch [2-28], Train Loss : [0.01746] Val Loss : [1.33429] Val F1 Score : [0.73672]\n",
      "EarlyStopping counter: 4 out of 10\n",
      "Best F1 score from now: 0.7473289014038456\n",
      "**Epoch [2-29], Train Loss : [0.00940] Val Loss : [1.30330] Val F1 Score : [0.74749]\n",
      "Epoch [2-30], Train Loss : [0.00840] Val Loss : [1.30518] Val F1 Score : [0.74618]\n",
      "EarlyStopping counter: 1 out of 10\n",
      "Best F1 score from now: 0.7474945356683744\n",
      "Epoch [2-31], Train Loss : [0.01445] Val Loss : [1.39573] Val F1 Score : [0.73475]\n",
      "EarlyStopping counter: 2 out of 10\n",
      "Best F1 score from now: 0.7474945356683744\n",
      "**Epoch [2-32], Train Loss : [0.01430] Val Loss : [1.30157] Val F1 Score : [0.75048]\n",
      "Epoch [2-33], Train Loss : [0.01002] Val Loss : [1.30911] Val F1 Score : [0.74164]\n",
      "EarlyStopping counter: 1 out of 10\n",
      "Best F1 score from now: 0.7504755550374956\n",
      "**Epoch [2-34], Train Loss : [0.00520] Val Loss : [1.28706] Val F1 Score : [0.75338]\n",
      "**Epoch [2-35], Train Loss : [0.00610] Val Loss : [1.31048] Val F1 Score : [0.75472]\n",
      "Epoch [2-36], Train Loss : [0.00530] Val Loss : [1.31682] Val F1 Score : [0.74650]\n",
      "EarlyStopping counter: 1 out of 10\n",
      "Best F1 score from now: 0.7547173588532218\n",
      "**Epoch [2-37], Train Loss : [0.00545] Val Loss : [1.33160] Val F1 Score : [0.75522]\n",
      "**Epoch [2-38], Train Loss : [0.00713] Val Loss : [1.34593] Val F1 Score : [0.75750]\n",
      "Epoch [2-39], Train Loss : [0.00397] Val Loss : [1.35067] Val F1 Score : [0.75357]\n",
      "EarlyStopping counter: 1 out of 10\n",
      "Best F1 score from now: 0.7574991552677933\n",
      "Epoch [2-40], Train Loss : [0.00229] Val Loss : [1.33712] Val F1 Score : [0.74914]\n",
      "EarlyStopping counter: 2 out of 10\n",
      "Best F1 score from now: 0.7574991552677933\n",
      "Epoch [2-41], Train Loss : [0.00446] Val Loss : [1.37286] Val F1 Score : [0.74469]\n",
      "EarlyStopping counter: 3 out of 10\n",
      "Best F1 score from now: 0.7574991552677933\n",
      "**Epoch [2-42], Train Loss : [0.00321] Val Loss : [1.33710] Val F1 Score : [0.75822]\n",
      "**Epoch [2-43], Train Loss : [0.00211] Val Loss : [1.33965] Val F1 Score : [0.76177]\n",
      "Epoch [2-44], Train Loss : [0.00290] Val Loss : [1.35734] Val F1 Score : [0.75744]\n",
      "EarlyStopping counter: 1 out of 10\n",
      "Best F1 score from now: 0.7617663792146181\n",
      "Epoch [2-45], Train Loss : [0.00298] Val Loss : [1.33656] Val F1 Score : [0.75480]\n",
      "EarlyStopping counter: 2 out of 10\n",
      "Best F1 score from now: 0.7617663792146181\n",
      "Epoch [2-46], Train Loss : [0.00167] Val Loss : [1.35126] Val F1 Score : [0.75607]\n",
      "EarlyStopping counter: 3 out of 10\n",
      "Best F1 score from now: 0.7617663792146181\n",
      "Epoch [2-47], Train Loss : [0.00330] Val Loss : [1.36413] Val F1 Score : [0.75525]\n",
      "EarlyStopping counter: 4 out of 10\n",
      "Best F1 score from now: 0.7617663792146181\n",
      "Epoch [2-48], Train Loss : [0.00226] Val Loss : [1.35686] Val F1 Score : [0.75539]\n",
      "EarlyStopping counter: 5 out of 10\n",
      "Best F1 score from now: 0.7617663792146181\n",
      "Epoch [2-49], Train Loss : [0.00142] Val Loss : [1.35936] Val F1 Score : [0.75585]\n",
      "EarlyStopping counter: 6 out of 10\n",
      "Best F1 score from now: 0.7617663792146181\n",
      "Epoch [2-50], Train Loss : [0.00131] Val Loss : [1.36600] Val F1 Score : [0.75689]\n",
      "EarlyStopping counter: 7 out of 10\n",
      "Best F1 score from now: 0.7617663792146181\n",
      "Epoch [2-51], Train Loss : [0.00129] Val Loss : [1.35959] Val F1 Score : [0.75794]\n",
      "EarlyStopping counter: 8 out of 10\n",
      "Best F1 score from now: 0.7617663792146181\n",
      "Epoch [2-52], Train Loss : [0.00115] Val Loss : [1.36560] Val F1 Score : [0.75202]\n",
      "EarlyStopping counter: 9 out of 10\n",
      "Best F1 score from now: 0.7617663792146181\n",
      "Epoch [2-53], Train Loss : [0.00142] Val Loss : [1.35049] Val F1 Score : [0.74934]\n",
      "EarlyStopping counter: 10 out of 10\n",
      "Best F1 score from now: 0.7617663792146181\n",
      "Epoch [2-53], early stopping\n",
      "3-fold start\n",
      "**Epoch [3-1], Train Loss : [2.82058] Val Loss : [2.29987] Val F1 Score : [0.24890]\n",
      "**Epoch [3-2], Train Loss : [1.87979] Val Loss : [1.43240] Val F1 Score : [0.47227]\n",
      "**Epoch [3-3], Train Loss : [1.26615] Val Loss : [1.11977] Val F1 Score : [0.60339]\n",
      "**Epoch [3-4], Train Loss : [0.73331] Val Loss : [0.93697] Val F1 Score : [0.67639]\n",
      "**Epoch [3-5], Train Loss : [0.46847] Val Loss : [0.87491] Val F1 Score : [0.69022]\n",
      "Epoch [3-6], Train Loss : [0.96969] Val Loss : [1.32311] Val F1 Score : [0.57215]\n",
      "EarlyStopping counter: 1 out of 10\n",
      "Best F1 score from now: 0.6902208632225042\n",
      "Epoch [3-7], Train Loss : [0.82821] Val Loss : [1.12215] Val F1 Score : [0.61219]\n",
      "EarlyStopping counter: 2 out of 10\n",
      "Best F1 score from now: 0.6902208632225042\n",
      "**Epoch [3-8], Train Loss : [0.45453] Val Loss : [0.94423] Val F1 Score : [0.69844]\n",
      "**Epoch [3-9], Train Loss : [0.21961] Val Loss : [0.84262] Val F1 Score : [0.74027]\n",
      "**Epoch [3-10], Train Loss : [0.12724] Val Loss : [0.84345] Val F1 Score : [0.74222]\n",
      "Epoch [3-11], Train Loss : [0.35471] Val Loss : [1.33228] Val F1 Score : [0.65157]\n",
      "EarlyStopping counter: 1 out of 10\n",
      "Best F1 score from now: 0.7422194324425868\n",
      "Epoch [3-12], Train Loss : [0.36426] Val Loss : [1.11482] Val F1 Score : [0.69753]\n",
      "EarlyStopping counter: 2 out of 10\n",
      "Best F1 score from now: 0.7422194324425868\n",
      "Epoch [3-13], Train Loss : [0.15665] Val Loss : [1.10264] Val F1 Score : [0.72416]\n",
      "EarlyStopping counter: 3 out of 10\n",
      "Best F1 score from now: 0.7422194324425868\n",
      "Epoch [3-14], Train Loss : [0.06718] Val Loss : [1.04361] Val F1 Score : [0.73943]\n",
      "EarlyStopping counter: 4 out of 10\n",
      "Best F1 score from now: 0.7422194324425868\n",
      "**Epoch [3-15], Train Loss : [0.04263] Val Loss : [1.07383] Val F1 Score : [0.74568]\n",
      "Epoch [3-16], Train Loss : [0.09281] Val Loss : [1.41872] Val F1 Score : [0.65444]\n",
      "EarlyStopping counter: 1 out of 10\n",
      "Best F1 score from now: 0.7456775489808052\n",
      "Epoch [3-17], Train Loss : [0.14572] Val Loss : [1.40137] Val F1 Score : [0.70655]\n",
      "EarlyStopping counter: 2 out of 10\n",
      "Best F1 score from now: 0.7456775489808052\n",
      "Epoch [3-18], Train Loss : [0.07057] Val Loss : [1.25770] Val F1 Score : [0.72825]\n",
      "EarlyStopping counter: 3 out of 10\n",
      "Best F1 score from now: 0.7456775489808052\n",
      "**Epoch [3-19], Train Loss : [0.02987] Val Loss : [1.16571] Val F1 Score : [0.75189]\n",
      "Epoch [3-20], Train Loss : [0.01724] Val Loss : [1.22194] Val F1 Score : [0.74734]\n",
      "EarlyStopping counter: 1 out of 10\n",
      "Best F1 score from now: 0.7518949207861151\n",
      "Epoch [3-21], Train Loss : [0.05121] Val Loss : [1.49442] Val F1 Score : [0.69051]\n",
      "EarlyStopping counter: 2 out of 10\n",
      "Best F1 score from now: 0.7518949207861151\n",
      "Epoch [3-22], Train Loss : [0.09588] Val Loss : [1.35099] Val F1 Score : [0.71030]\n",
      "EarlyStopping counter: 3 out of 10\n",
      "Best F1 score from now: 0.7518949207861151\n",
      "Epoch [3-23], Train Loss : [0.03788] Val Loss : [1.24569] Val F1 Score : [0.73478]\n",
      "EarlyStopping counter: 4 out of 10\n",
      "Best F1 score from now: 0.7518949207861151\n",
      "Epoch [3-24], Train Loss : [0.01390] Val Loss : [1.23202] Val F1 Score : [0.73640]\n",
      "EarlyStopping counter: 5 out of 10\n",
      "Best F1 score from now: 0.7518949207861151\n",
      "Epoch [3-25], Train Loss : [0.01402] Val Loss : [1.23102] Val F1 Score : [0.73914]\n",
      "EarlyStopping counter: 6 out of 10\n",
      "Best F1 score from now: 0.7518949207861151\n",
      "Epoch [3-26], Train Loss : [0.01510] Val Loss : [1.23991] Val F1 Score : [0.74509]\n",
      "EarlyStopping counter: 7 out of 10\n",
      "Best F1 score from now: 0.7518949207861151\n",
      "Epoch [3-27], Train Loss : [0.02184] Val Loss : [1.34565] Val F1 Score : [0.72169]\n",
      "EarlyStopping counter: 8 out of 10\n",
      "Best F1 score from now: 0.7518949207861151\n",
      "Epoch [3-28], Train Loss : [0.01324] Val Loss : [1.27712] Val F1 Score : [0.73720]\n",
      "EarlyStopping counter: 9 out of 10\n",
      "Best F1 score from now: 0.7518949207861151\n",
      "Epoch [3-29], Train Loss : [0.00950] Val Loss : [1.27185] Val F1 Score : [0.73400]\n",
      "EarlyStopping counter: 10 out of 10\n",
      "Best F1 score from now: 0.7518949207861151\n",
      "Epoch [3-29], early stopping\n",
      "4-fold start\n",
      "**Epoch [4-1], Train Loss : [2.72721] Val Loss : [2.32778] Val F1 Score : [0.21689]\n",
      "**Epoch [4-2], Train Loss : [1.81906] Val Loss : [1.80426] Val F1 Score : [0.39313]\n",
      "**Epoch [4-3], Train Loss : [1.20995] Val Loss : [1.07711] Val F1 Score : [0.57934]\n",
      "**Epoch [4-4], Train Loss : [0.71509] Val Loss : [0.87508] Val F1 Score : [0.69554]\n",
      "**Epoch [4-5], Train Loss : [0.44102] Val Loss : [0.86116] Val F1 Score : [0.70851]\n",
      "Epoch [4-6], Train Loss : [0.95810] Val Loss : [1.49175] Val F1 Score : [0.48220]\n",
      "EarlyStopping counter: 1 out of 10\n",
      "Best F1 score from now: 0.7085110022896337\n",
      "Epoch [4-7], Train Loss : [0.78701] Val Loss : [1.18059] Val F1 Score : [0.61254]\n",
      "EarlyStopping counter: 2 out of 10\n",
      "Best F1 score from now: 0.7085110022896337\n",
      "Epoch [4-8], Train Loss : [0.44351] Val Loss : [0.92265] Val F1 Score : [0.70244]\n",
      "EarlyStopping counter: 3 out of 10\n",
      "Best F1 score from now: 0.7085110022896337\n",
      "**Epoch [4-9], Train Loss : [0.20632] Val Loss : [0.90843] Val F1 Score : [0.73793]\n",
      "Epoch [4-10], Train Loss : [0.11473] Val Loss : [0.91809] Val F1 Score : [0.72540]\n",
      "EarlyStopping counter: 1 out of 10\n",
      "Best F1 score from now: 0.7379263112832984\n",
      "Epoch [4-11], Train Loss : [0.32620] Val Loss : [1.54914] Val F1 Score : [0.55903]\n",
      "EarlyStopping counter: 2 out of 10\n",
      "Best F1 score from now: 0.7379263112832984\n",
      "Epoch [4-12], Train Loss : [0.33590] Val Loss : [1.23353] Val F1 Score : [0.67254]\n",
      "EarlyStopping counter: 3 out of 10\n",
      "Best F1 score from now: 0.7379263112832984\n",
      "Epoch [4-13], Train Loss : [0.16663] Val Loss : [1.09373] Val F1 Score : [0.71608]\n",
      "EarlyStopping counter: 4 out of 10\n",
      "Best F1 score from now: 0.7379263112832984\n",
      "**Epoch [4-14], Train Loss : [0.06249] Val Loss : [1.02859] Val F1 Score : [0.73866]\n",
      "**Epoch [4-15], Train Loss : [0.04363] Val Loss : [1.02562] Val F1 Score : [0.74409]\n",
      "Epoch [4-16], Train Loss : [0.10197] Val Loss : [1.23043] Val F1 Score : [0.67930]\n",
      "EarlyStopping counter: 1 out of 10\n",
      "Best F1 score from now: 0.744091381074465\n",
      "Epoch [4-17], Train Loss : [0.13122] Val Loss : [1.27248] Val F1 Score : [0.69283]\n",
      "EarlyStopping counter: 2 out of 10\n",
      "Best F1 score from now: 0.744091381074465\n",
      "Epoch [4-18], Train Loss : [0.07181] Val Loss : [1.14181] Val F1 Score : [0.70396]\n",
      "EarlyStopping counter: 3 out of 10\n",
      "Best F1 score from now: 0.744091381074465\n",
      "**Epoch [4-19], Train Loss : [0.03196] Val Loss : [1.06225] Val F1 Score : [0.74770]\n",
      "Epoch [4-20], Train Loss : [0.01795] Val Loss : [1.09118] Val F1 Score : [0.74101]\n",
      "EarlyStopping counter: 1 out of 10\n",
      "Best F1 score from now: 0.7476987559882166\n",
      "Epoch [4-21], Train Loss : [0.03269] Val Loss : [1.42828] Val F1 Score : [0.70208]\n",
      "EarlyStopping counter: 2 out of 10\n",
      "Best F1 score from now: 0.7476987559882166\n",
      "Epoch [4-22], Train Loss : [0.08240] Val Loss : [1.29964] Val F1 Score : [0.70662]\n",
      "EarlyStopping counter: 3 out of 10\n",
      "Best F1 score from now: 0.7476987559882166\n",
      "Epoch [4-23], Train Loss : [0.03127] Val Loss : [1.20629] Val F1 Score : [0.73215]\n",
      "EarlyStopping counter: 4 out of 10\n",
      "Best F1 score from now: 0.7476987559882166\n",
      "Epoch [4-24], Train Loss : [0.01565] Val Loss : [1.17760] Val F1 Score : [0.73744]\n",
      "EarlyStopping counter: 5 out of 10\n",
      "Best F1 score from now: 0.7476987559882166\n",
      "Epoch [4-25], Train Loss : [0.01201] Val Loss : [1.16947] Val F1 Score : [0.74447]\n",
      "EarlyStopping counter: 6 out of 10\n",
      "Best F1 score from now: 0.7476987559882166\n",
      "Epoch [4-26], Train Loss : [0.01178] Val Loss : [1.22074] Val F1 Score : [0.73457]\n",
      "EarlyStopping counter: 7 out of 10\n",
      "Best F1 score from now: 0.7476987559882166\n",
      "Epoch [4-27], Train Loss : [0.02064] Val Loss : [1.24850] Val F1 Score : [0.72838]\n",
      "EarlyStopping counter: 8 out of 10\n",
      "Best F1 score from now: 0.7476987559882166\n",
      "**Epoch [4-28], Train Loss : [0.01060] Val Loss : [1.17594] Val F1 Score : [0.75995]\n",
      "Epoch [4-29], Train Loss : [0.00845] Val Loss : [1.19117] Val F1 Score : [0.75279]\n",
      "EarlyStopping counter: 1 out of 10\n",
      "Best F1 score from now: 0.7599527367924404\n",
      "Epoch [4-30], Train Loss : [0.00526] Val Loss : [1.17238] Val F1 Score : [0.75912]\n",
      "EarlyStopping counter: 2 out of 10\n",
      "Best F1 score from now: 0.7599527367924404\n",
      "Epoch [4-31], Train Loss : [0.00816] Val Loss : [1.34311] Val F1 Score : [0.72535]\n",
      "EarlyStopping counter: 3 out of 10\n",
      "Best F1 score from now: 0.7599527367924404\n",
      "Epoch [4-32], Train Loss : [0.01358] Val Loss : [1.43084] Val F1 Score : [0.74278]\n",
      "EarlyStopping counter: 4 out of 10\n",
      "Best F1 score from now: 0.7599527367924404\n",
      "Epoch [4-33], Train Loss : [0.01189] Val Loss : [1.27563] Val F1 Score : [0.74866]\n",
      "EarlyStopping counter: 5 out of 10\n",
      "Best F1 score from now: 0.7599527367924404\n",
      "Epoch [4-34], Train Loss : [0.00570] Val Loss : [1.26992] Val F1 Score : [0.74864]\n",
      "EarlyStopping counter: 6 out of 10\n",
      "Best F1 score from now: 0.7599527367924404\n",
      "Epoch [4-35], Train Loss : [0.00497] Val Loss : [1.35087] Val F1 Score : [0.74421]\n",
      "EarlyStopping counter: 7 out of 10\n",
      "Best F1 score from now: 0.7599527367924404\n",
      "Epoch [4-36], Train Loss : [0.00633] Val Loss : [1.27784] Val F1 Score : [0.74750]\n",
      "EarlyStopping counter: 8 out of 10\n",
      "Best F1 score from now: 0.7599527367924404\n",
      "Epoch [4-37], Train Loss : [0.01195] Val Loss : [1.23502] Val F1 Score : [0.75623]\n",
      "EarlyStopping counter: 9 out of 10\n",
      "Best F1 score from now: 0.7599527367924404\n",
      "Epoch [4-38], Train Loss : [0.00654] Val Loss : [1.32172] Val F1 Score : [0.75642]\n",
      "EarlyStopping counter: 10 out of 10\n",
      "Best F1 score from now: 0.7599527367924404\n",
      "Epoch [4-38], early stopping\n",
      "0.7302006100212652\n"
     ]
    }
   ],
   "source": [
    "f1_score = k_fold(CFG['K-FOLD'])\n",
    "print(f1_score)"
   ],
   "metadata": {
    "collapsed": false,
    "ExecuteTime": {
     "end_time": "2023-12-15T05:42:56.528551300Z",
     "start_time": "2023-12-14T23:25:57.373149600Z"
    }
   },
   "id": "9ecf48ad115665dd"
  },
  {
   "cell_type": "code",
   "execution_count": 26,
   "outputs": [
    {
     "data": {
      "text/plain": "           id               img_path\n0  TEST_00000  ./test/TEST_00000.jpg\n1  TEST_00001  ./test/TEST_00001.jpg\n2  TEST_00002  ./test/TEST_00002.jpg\n3  TEST_00003  ./test/TEST_00003.jpg\n4  TEST_00004  ./test/TEST_00004.jpg",
      "text/html": "<div>\n<style scoped>\n    .dataframe tbody tr th:only-of-type {\n        vertical-align: middle;\n    }\n\n    .dataframe tbody tr th {\n        vertical-align: top;\n    }\n\n    .dataframe thead th {\n        text-align: right;\n    }\n</style>\n<table border=\"1\" class=\"dataframe\">\n  <thead>\n    <tr style=\"text-align: right;\">\n      <th></th>\n      <th>id</th>\n      <th>img_path</th>\n    </tr>\n  </thead>\n  <tbody>\n    <tr>\n      <th>0</th>\n      <td>TEST_00000</td>\n      <td>./test/TEST_00000.jpg</td>\n    </tr>\n    <tr>\n      <th>1</th>\n      <td>TEST_00001</td>\n      <td>./test/TEST_00001.jpg</td>\n    </tr>\n    <tr>\n      <th>2</th>\n      <td>TEST_00002</td>\n      <td>./test/TEST_00002.jpg</td>\n    </tr>\n    <tr>\n      <th>3</th>\n      <td>TEST_00003</td>\n      <td>./test/TEST_00003.jpg</td>\n    </tr>\n    <tr>\n      <th>4</th>\n      <td>TEST_00004</td>\n      <td>./test/TEST_00004.jpg</td>\n    </tr>\n  </tbody>\n</table>\n</div>"
     },
     "execution_count": 26,
     "metadata": {},
     "output_type": "execute_result"
    }
   ],
   "source": [
    "test_df = pd.read_csv(os.path.join(data_path, './test.csv'))\n",
    "test_df.head()"
   ],
   "metadata": {
    "collapsed": false,
    "ExecuteTime": {
     "end_time": "2023-12-15T05:42:56.601327Z",
     "start_time": "2023-12-15T05:42:56.538471400Z"
    }
   },
   "id": "9c8fff1a450556ec"
  },
  {
   "cell_type": "code",
   "execution_count": 27,
   "outputs": [],
   "source": [
    "test_img_paths = get_data(test_df, infer=True)"
   ],
   "metadata": {
    "collapsed": false,
    "ExecuteTime": {
     "end_time": "2023-12-15T05:42:56.678617500Z",
     "start_time": "2023-12-15T05:42:56.601327Z"
    }
   },
   "id": "6a50c39d21de27ed"
  },
  {
   "cell_type": "code",
   "execution_count": 28,
   "outputs": [],
   "source": [
    "test_dataset = CustomDataset(test_img_paths, None, test_transform)\n",
    "test_loader = DataLoader(test_dataset, batch_size=CFG['BATCH_SIZE'], shuffle=False, num_workers=0)"
   ],
   "metadata": {
    "collapsed": false,
    "ExecuteTime": {
     "end_time": "2023-12-15T05:42:56.704393200Z",
     "start_time": "2023-12-15T05:42:56.648212100Z"
    }
   },
   "id": "66859c2e35131aae"
  },
  {
   "cell_type": "code",
   "execution_count": 29,
   "outputs": [],
   "source": [
    "def inference(model, test_loader, device):\n",
    "    model.to(device)\n",
    "    model.eval()\n",
    "    \n",
    "    model_preds = []\n",
    "    \n",
    "    with torch.no_grad():\n",
    "        for idx, img in enumerate(test_loader):\n",
    "            img = img.float().to(device)\n",
    "            \n",
    "            model_pred = model(img).detach().cpu()\n",
    "            model_pred = F.softmax(model_pred, dim=1)\n",
    "            model_preds.extend(model_pred.numpy().tolist())\n",
    "    \n",
    "    print('Done.')\n",
    "    return model_preds"
   ],
   "metadata": {
    "collapsed": false,
    "ExecuteTime": {
     "end_time": "2023-12-15T05:42:56.735639200Z",
     "start_time": "2023-12-15T05:42:56.663839100Z"
    }
   },
   "id": "60aba723872ee62e"
  },
  {
   "cell_type": "code",
   "execution_count": 37,
   "outputs": [
    {
     "data": {
      "text/plain": "5"
     },
     "execution_count": 37,
     "metadata": {},
     "output_type": "execute_result"
    }
   ],
   "source": [
    "CFG['K-FOLD']"
   ],
   "metadata": {
    "collapsed": false,
    "ExecuteTime": {
     "end_time": "2023-12-15T07:30:59.488775700Z",
     "start_time": "2023-12-15T07:30:59.473130700Z"
    }
   },
   "id": "927e863163381d08"
  },
  {
   "cell_type": "code",
   "execution_count": 39,
   "outputs": [
    {
     "name": "stdout",
     "output_type": "stream",
     "text": [
      "0-fold CHECKPOINT LOADED: ../../data/runs/0/best_model_0.pt\n",
      "Done.\n",
      "1-fold CHECKPOINT LOADED: ../../data/runs/0/best_model_1.pt\n",
      "Done.\n",
      "2-fold CHECKPOINT LOADED: ../../data/runs/0/best_model_2.pt\n",
      "Done.\n",
      "3-fold CHECKPOINT LOADED: ../../data/runs/0/best_model_3.pt\n",
      "Done.\n",
      "4-fold CHECKPOINT LOADED: ../../data/runs/0/best_model_4.pt\n",
      "Done.\n"
     ]
    }
   ],
   "source": [
    "result_df = pd.DataFrame(np.zeros((test_df.shape[0], len(le.classes_))))\n",
    "for k_ in range(CFG['K-FOLD']):\n",
    "    checkpoint = os.path.join(data_path, f'runs/{run_id}/best_model_{k_}.pt')\n",
    "    print(f'{k_}-fold CHECKPOINT LOADED: {checkpoint}')\n",
    "    infer_model = torch.load(checkpoint)\n",
    "    infer_model.to(device)\n",
    "    infer_model.eval()\n",
    "    result_df += pd.DataFrame(inference(infer_model, test_loader, device))"
   ],
   "metadata": {
    "collapsed": false,
    "ExecuteTime": {
     "end_time": "2023-12-15T07:39:20.983798500Z",
     "start_time": "2023-12-15T07:31:16.862477200Z"
    }
   },
   "id": "605d913e0df9b6"
  },
  {
   "cell_type": "code",
   "execution_count": 40,
   "outputs": [
    {
     "data": {
      "text/plain": "          0          1          2          3          4          5   \\\n0 -62.470020 -57.348465 -28.817992 -62.817368 -57.471887 -36.364818   \n1 -64.075653 -48.206960  12.316254 -47.369438 -59.318394 -47.018031   \n2 -24.808428 -76.720341 -65.248060 -69.722178 -78.021451 -86.702891   \n3  42.859994 -40.027626 -60.699536 -44.889693 -50.669916 -67.121737   \n4 -70.417142 -41.961115  -9.616668 -36.212737 -43.427022 -47.485895   \n\n           6          7          8          9   ...         40         41  \\\n0  -66.104985 -37.131560 -60.939992 -22.376877  ... -35.448220 -72.681121   \n1 -110.000351 -23.122041 -37.767885 -42.039499  ... -42.481158 -81.429304   \n2  -20.619292 -78.038012 -59.639781 -12.079488  ... -40.927609 -42.537519   \n3  -71.479465 -44.793132 -53.289897 -71.476461  ...  -7.869373 -65.126678   \n4 -116.570011 -23.878116 -36.819629 -56.894391  ... -48.085875 -94.639240   \n\n          42         43         44         45         46         47  \\\n0 -37.305878 -20.266613 -52.030369 -43.977599 -23.647032 -57.112928   \n1 -63.540862 -33.908293 -79.881509 -59.714723 -46.505914 -60.559261   \n2 -30.861104 -30.281724 -19.960790 -38.446317   4.235178 -92.654685   \n3 -36.349402 -39.498280 -38.572878 -59.836757 -38.941210 -66.893264   \n4 -83.537552 -36.040559 -73.515499 -56.719199 -71.430058 -47.254330   \n\n          48         49  \n0   0.056618 -61.937872  \n1   7.565762 -57.299839  \n2 -32.724604 -66.194557  \n3  11.622741 -35.536864  \n4  16.521688 -58.858765  \n\n[5 rows x 50 columns]",
      "text/html": "<div>\n<style scoped>\n    .dataframe tbody tr th:only-of-type {\n        vertical-align: middle;\n    }\n\n    .dataframe tbody tr th {\n        vertical-align: top;\n    }\n\n    .dataframe thead th {\n        text-align: right;\n    }\n</style>\n<table border=\"1\" class=\"dataframe\">\n  <thead>\n    <tr style=\"text-align: right;\">\n      <th></th>\n      <th>0</th>\n      <th>1</th>\n      <th>2</th>\n      <th>3</th>\n      <th>4</th>\n      <th>5</th>\n      <th>6</th>\n      <th>7</th>\n      <th>8</th>\n      <th>9</th>\n      <th>...</th>\n      <th>40</th>\n      <th>41</th>\n      <th>42</th>\n      <th>43</th>\n      <th>44</th>\n      <th>45</th>\n      <th>46</th>\n      <th>47</th>\n      <th>48</th>\n      <th>49</th>\n    </tr>\n  </thead>\n  <tbody>\n    <tr>\n      <th>0</th>\n      <td>-62.470020</td>\n      <td>-57.348465</td>\n      <td>-28.817992</td>\n      <td>-62.817368</td>\n      <td>-57.471887</td>\n      <td>-36.364818</td>\n      <td>-66.104985</td>\n      <td>-37.131560</td>\n      <td>-60.939992</td>\n      <td>-22.376877</td>\n      <td>...</td>\n      <td>-35.448220</td>\n      <td>-72.681121</td>\n      <td>-37.305878</td>\n      <td>-20.266613</td>\n      <td>-52.030369</td>\n      <td>-43.977599</td>\n      <td>-23.647032</td>\n      <td>-57.112928</td>\n      <td>0.056618</td>\n      <td>-61.937872</td>\n    </tr>\n    <tr>\n      <th>1</th>\n      <td>-64.075653</td>\n      <td>-48.206960</td>\n      <td>12.316254</td>\n      <td>-47.369438</td>\n      <td>-59.318394</td>\n      <td>-47.018031</td>\n      <td>-110.000351</td>\n      <td>-23.122041</td>\n      <td>-37.767885</td>\n      <td>-42.039499</td>\n      <td>...</td>\n      <td>-42.481158</td>\n      <td>-81.429304</td>\n      <td>-63.540862</td>\n      <td>-33.908293</td>\n      <td>-79.881509</td>\n      <td>-59.714723</td>\n      <td>-46.505914</td>\n      <td>-60.559261</td>\n      <td>7.565762</td>\n      <td>-57.299839</td>\n    </tr>\n    <tr>\n      <th>2</th>\n      <td>-24.808428</td>\n      <td>-76.720341</td>\n      <td>-65.248060</td>\n      <td>-69.722178</td>\n      <td>-78.021451</td>\n      <td>-86.702891</td>\n      <td>-20.619292</td>\n      <td>-78.038012</td>\n      <td>-59.639781</td>\n      <td>-12.079488</td>\n      <td>...</td>\n      <td>-40.927609</td>\n      <td>-42.537519</td>\n      <td>-30.861104</td>\n      <td>-30.281724</td>\n      <td>-19.960790</td>\n      <td>-38.446317</td>\n      <td>4.235178</td>\n      <td>-92.654685</td>\n      <td>-32.724604</td>\n      <td>-66.194557</td>\n    </tr>\n    <tr>\n      <th>3</th>\n      <td>42.859994</td>\n      <td>-40.027626</td>\n      <td>-60.699536</td>\n      <td>-44.889693</td>\n      <td>-50.669916</td>\n      <td>-67.121737</td>\n      <td>-71.479465</td>\n      <td>-44.793132</td>\n      <td>-53.289897</td>\n      <td>-71.476461</td>\n      <td>...</td>\n      <td>-7.869373</td>\n      <td>-65.126678</td>\n      <td>-36.349402</td>\n      <td>-39.498280</td>\n      <td>-38.572878</td>\n      <td>-59.836757</td>\n      <td>-38.941210</td>\n      <td>-66.893264</td>\n      <td>11.622741</td>\n      <td>-35.536864</td>\n    </tr>\n    <tr>\n      <th>4</th>\n      <td>-70.417142</td>\n      <td>-41.961115</td>\n      <td>-9.616668</td>\n      <td>-36.212737</td>\n      <td>-43.427022</td>\n      <td>-47.485895</td>\n      <td>-116.570011</td>\n      <td>-23.878116</td>\n      <td>-36.819629</td>\n      <td>-56.894391</td>\n      <td>...</td>\n      <td>-48.085875</td>\n      <td>-94.639240</td>\n      <td>-83.537552</td>\n      <td>-36.040559</td>\n      <td>-73.515499</td>\n      <td>-56.719199</td>\n      <td>-71.430058</td>\n      <td>-47.254330</td>\n      <td>16.521688</td>\n      <td>-58.858765</td>\n    </tr>\n  </tbody>\n</table>\n<p>5 rows × 50 columns</p>\n</div>"
     },
     "execution_count": 40,
     "metadata": {},
     "output_type": "execute_result"
    }
   ],
   "source": [
    "result_df.head()"
   ],
   "metadata": {
    "collapsed": false,
    "ExecuteTime": {
     "end_time": "2023-12-15T07:39:24.282118Z",
     "start_time": "2023-12-15T07:39:24.266497Z"
    }
   },
   "id": "9df29cbb4653101f"
  },
  {
   "cell_type": "code",
   "execution_count": 41,
   "outputs": [],
   "source": [
    "preds = result_df.idxmax(axis=1)"
   ],
   "metadata": {
    "collapsed": false,
    "ExecuteTime": {
     "end_time": "2023-12-15T07:39:34.063471900Z",
     "start_time": "2023-12-15T07:39:34.033178700Z"
    }
   },
   "id": "c1cc27ee0e75b6fb"
  },
  {
   "cell_type": "code",
   "execution_count": 42,
   "outputs": [],
   "source": [
    "preds = le.inverse_transform(preds)"
   ],
   "metadata": {
    "collapsed": false,
    "ExecuteTime": {
     "end_time": "2023-12-15T07:39:34.955602700Z",
     "start_time": "2023-12-15T07:39:34.924261100Z"
    }
   },
   "id": "37b7f04a0b4de44f"
  },
  {
   "cell_type": "code",
   "execution_count": 43,
   "outputs": [],
   "source": [
    "submit = pd.read_csv(os.path.join(data_path, './sample_submission.csv'))"
   ],
   "metadata": {
    "collapsed": false,
    "ExecuteTime": {
     "end_time": "2023-12-15T07:39:35.767176300Z",
     "start_time": "2023-12-15T07:39:35.722901Z"
    }
   },
   "id": "fe59292099a9b96e"
  },
  {
   "cell_type": "code",
   "execution_count": 44,
   "outputs": [],
   "source": [
    "submit['artist'] = preds"
   ],
   "metadata": {
    "collapsed": false,
    "ExecuteTime": {
     "end_time": "2023-12-15T07:39:36.659908600Z",
     "start_time": "2023-12-15T07:39:36.636037600Z"
    }
   },
   "id": "8582475a6cb3db6f"
  },
  {
   "cell_type": "code",
   "execution_count": 45,
   "outputs": [
    {
     "data": {
      "text/plain": "           id             artist\n0  TEST_00000        Edgar Degas\n1  TEST_00001  Amedeo Modigliani\n2  TEST_00002             Titian\n3  TEST_00003    Albrecht Du rer\n4  TEST_00004   Vincent van Gogh",
      "text/html": "<div>\n<style scoped>\n    .dataframe tbody tr th:only-of-type {\n        vertical-align: middle;\n    }\n\n    .dataframe tbody tr th {\n        vertical-align: top;\n    }\n\n    .dataframe thead th {\n        text-align: right;\n    }\n</style>\n<table border=\"1\" class=\"dataframe\">\n  <thead>\n    <tr style=\"text-align: right;\">\n      <th></th>\n      <th>id</th>\n      <th>artist</th>\n    </tr>\n  </thead>\n  <tbody>\n    <tr>\n      <th>0</th>\n      <td>TEST_00000</td>\n      <td>Edgar Degas</td>\n    </tr>\n    <tr>\n      <th>1</th>\n      <td>TEST_00001</td>\n      <td>Amedeo Modigliani</td>\n    </tr>\n    <tr>\n      <th>2</th>\n      <td>TEST_00002</td>\n      <td>Titian</td>\n    </tr>\n    <tr>\n      <th>3</th>\n      <td>TEST_00003</td>\n      <td>Albrecht Du rer</td>\n    </tr>\n    <tr>\n      <th>4</th>\n      <td>TEST_00004</td>\n      <td>Vincent van Gogh</td>\n    </tr>\n  </tbody>\n</table>\n</div>"
     },
     "execution_count": 45,
     "metadata": {},
     "output_type": "execute_result"
    }
   ],
   "source": [
    "submit.head()"
   ],
   "metadata": {
    "collapsed": false,
    "ExecuteTime": {
     "end_time": "2023-12-15T07:39:37.281181200Z",
     "start_time": "2023-12-15T07:39:37.249925Z"
    }
   },
   "id": "15bd98c5d6b59bf4"
  },
  {
   "cell_type": "code",
   "execution_count": 46,
   "outputs": [],
   "source": [
    "submit.to_csv(os.path.join(data_path, f\"./submit_{CFG['FILENAME']}.csv\"), index=False)"
   ],
   "metadata": {
    "collapsed": false,
    "ExecuteTime": {
     "end_time": "2023-12-15T07:39:39.227852400Z",
     "start_time": "2023-12-15T07:39:39.180961200Z"
    }
   },
   "id": "eed3cb0dc59f47f7"
  },
  {
   "cell_type": "code",
   "execution_count": null,
   "outputs": [],
   "source": [],
   "metadata": {
    "collapsed": false,
    "ExecuteTime": {
     "end_time": "2023-12-15T05:42:57.172674Z",
     "start_time": "2023-12-15T05:42:57.172674Z"
    }
   },
   "id": "d3ed2b836c4e558b"
  }
 ],
 "metadata": {
  "kernelspec": {
   "display_name": "Python 3",
   "language": "python",
   "name": "python3"
  },
  "language_info": {
   "codemirror_mode": {
    "name": "ipython",
    "version": 2
   },
   "file_extension": ".py",
   "mimetype": "text/x-python",
   "name": "python",
   "nbconvert_exporter": "python",
   "pygments_lexer": "ipython2",
   "version": "2.7.6"
  }
 },
 "nbformat": 4,
 "nbformat_minor": 5
}
