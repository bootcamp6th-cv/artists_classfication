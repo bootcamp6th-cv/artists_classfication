{
 "cells": [
  {
   "cell_type": "markdown",
   "source": [
    "# augmentation\n",
    "* Efficient-net B2\n",
    "* Augmentation\n",
    "    - Transpose # 행렬 스왑\n",
    "    - HorizontalFlip # 좌우 반전\n",
    "    - VerticalFlip # 상하 반전\n",
    "    - ShiftScaleRotate # 랜덤하게 옮기고, scale, 회전\n",
    "    - HueSaturationValue # 빛깔, 색조, 값 변환\n",
    "    - RandomBrightnessContrast # 명도 대비\n",
    "    - ChannelShuffle # RGB 채널 간 shuffle\n",
    "    - CoarseDropout # 조그마한 검은 사각형 영역 추가\n",
    "* result\n",
    "    - train loss : 0.3869\n",
    "    - validation loss : 1.2118  \n",
    "    - f1 score : 0.6896 \n",
    "    - epoch : 23"
   ],
   "metadata": {
    "collapsed": false
   },
   "id": "35ad6a7e30f8925e"
  },
  {
   "cell_type": "code",
   "execution_count": 1,
   "outputs": [],
   "source": [
    "import gc\n",
    "import random\n",
    "from datetime import datetime\n",
    "\n",
    "import pandas as pd\n",
    "import numpy as np\n",
    "import os\n",
    "import cv2\n",
    "\n",
    "from sklearn import preprocessing\n",
    "from sklearn.model_selection import train_test_split\n",
    "\n",
    "import torch\n",
    "import torch.nn as nn\n",
    "import torch.optim as optim\n",
    "import torch.nn.functional as F\n",
    "from torch.utils.data import Dataset, DataLoader\n",
    "\n",
    "from tqdm.auto import tqdm\n",
    "\n",
    "import albumentations as A\n",
    "from albumentations.pytorch.transforms import ToTensorV2\n",
    "\n",
    "import timm\n",
    "\n",
    "from sklearn.metrics import f1_score\n",
    "\n",
    "import warnings\n",
    "warnings.filterwarnings(action='ignore') "
   ],
   "metadata": {
    "collapsed": false,
    "ExecuteTime": {
     "end_time": "2023-12-14T04:11:07.243350200Z",
     "start_time": "2023-12-14T04:11:03.504933900Z"
    }
   },
   "id": "initial_id"
  },
  {
   "cell_type": "code",
   "execution_count": 2,
   "outputs": [],
   "source": [
    "device = torch.device('cuda') if torch.cuda.is_available() else torch.device('cpu')"
   ],
   "metadata": {
    "collapsed": false,
    "ExecuteTime": {
     "end_time": "2023-12-14T04:11:07.278068900Z",
     "start_time": "2023-12-14T04:11:07.269567500Z"
    }
   },
   "id": "5fc1ff58a4a9d6d1"
  },
  {
   "cell_type": "code",
   "execution_count": 3,
   "outputs": [],
   "source": [
    "CFG = {\n",
    "    'IMG_SIZE': 384,\n",
    "    'EPOCHS': 1000,\n",
    "    'LEARNING_RATE': 1e-3,\n",
    "    'BATCH_SIZE': 16,\n",
    "    'PATIENCE': 10,\n",
    "    'SEED': 6\n",
    "}"
   ],
   "metadata": {
    "collapsed": false,
    "ExecuteTime": {
     "end_time": "2023-12-14T04:11:07.280957300Z",
     "start_time": "2023-12-14T04:11:07.272437400Z"
    }
   },
   "id": "5c99354cb0d52004"
  },
  {
   "cell_type": "code",
   "execution_count": 4,
   "outputs": [],
   "source": [
    "def seed_everything(seed):\n",
    "    random.seed(seed)\n",
    "    os.environ['PYTHONHASHSEED'] = str(seed)\n",
    "    np.random.seed(seed)\n",
    "    torch.manual_seed(seed)\n",
    "    torch.cuda.manual_seed(seed)\n",
    "    torch.cuda.manual_seed_all(seed)\n",
    "    torch.backends.cudnn.deterministic = True\n",
    "    torch.backends.cudnn.benchmark = False\n",
    "\n",
    "seed_everything(CFG['SEED']) # Seed 고정"
   ],
   "metadata": {
    "collapsed": false,
    "ExecuteTime": {
     "end_time": "2023-12-14T04:11:07.292369800Z",
     "start_time": "2023-12-14T04:11:07.284459Z"
    }
   },
   "id": "57142b16a76126df"
  },
  {
   "cell_type": "code",
   "execution_count": 5,
   "outputs": [],
   "source": [
    "running_colab = 'google.colab' in str(get_ipython()) if hasattr(__builtins__,'__IPYTHON__') else False\n",
    "if running_colab:\n",
    "    from google.colab import drive\n",
    "    drive.mount('/content/drive')\n",
    "if running_colab:\n",
    "    data_path = '/content/drive/MyDrive/Colab Notebooks/ai6th/data/optiver/'\n",
    "else:\n",
    "    data_path = '../../data/'"
   ],
   "metadata": {
    "collapsed": false,
    "ExecuteTime": {
     "end_time": "2023-12-14T04:11:07.305026500Z",
     "start_time": "2023-12-14T04:11:07.296760300Z"
    }
   },
   "id": "858b421c8c479378"
  },
  {
   "cell_type": "code",
   "execution_count": 6,
   "outputs": [
    {
     "data": {
      "text/plain": "   id          img_path            artist\n0   0  ./train/0000.jpg   Diego Velazquez\n1   1  ./train/0001.jpg  Vincent van Gogh\n2   2  ./train/0002.jpg      Claude Monet\n3   3  ./train/0003.jpg       Edgar Degas\n4   4  ./train/0004.jpg  Hieronymus Bosch",
      "text/html": "<div>\n<style scoped>\n    .dataframe tbody tr th:only-of-type {\n        vertical-align: middle;\n    }\n\n    .dataframe tbody tr th {\n        vertical-align: top;\n    }\n\n    .dataframe thead th {\n        text-align: right;\n    }\n</style>\n<table border=\"1\" class=\"dataframe\">\n  <thead>\n    <tr style=\"text-align: right;\">\n      <th></th>\n      <th>id</th>\n      <th>img_path</th>\n      <th>artist</th>\n    </tr>\n  </thead>\n  <tbody>\n    <tr>\n      <th>0</th>\n      <td>0</td>\n      <td>./train/0000.jpg</td>\n      <td>Diego Velazquez</td>\n    </tr>\n    <tr>\n      <th>1</th>\n      <td>1</td>\n      <td>./train/0001.jpg</td>\n      <td>Vincent van Gogh</td>\n    </tr>\n    <tr>\n      <th>2</th>\n      <td>2</td>\n      <td>./train/0002.jpg</td>\n      <td>Claude Monet</td>\n    </tr>\n    <tr>\n      <th>3</th>\n      <td>3</td>\n      <td>./train/0003.jpg</td>\n      <td>Edgar Degas</td>\n    </tr>\n    <tr>\n      <th>4</th>\n      <td>4</td>\n      <td>./train/0004.jpg</td>\n      <td>Hieronymus Bosch</td>\n    </tr>\n  </tbody>\n</table>\n</div>"
     },
     "execution_count": 6,
     "metadata": {},
     "output_type": "execute_result"
    }
   ],
   "source": [
    "df = pd.read_csv(os.path.join(data_path, 'train.csv'))\n",
    "df.loc[3896, 'artist'] = 'Titian'\n",
    "df.loc[3986, 'artist'] = 'Alfred Sisley'\n",
    "df.head()"
   ],
   "metadata": {
    "collapsed": false,
    "ExecuteTime": {
     "end_time": "2023-12-14T04:11:07.351684600Z",
     "start_time": "2023-12-14T04:11:07.303708400Z"
    }
   },
   "id": "60ed6dfb973bafc5"
  },
  {
   "cell_type": "code",
   "execution_count": 7,
   "outputs": [],
   "source": [
    "artists = df.groupby('artist')[['id']].count().rename(columns={'id':'count'}).reset_index()"
   ],
   "metadata": {
    "collapsed": false,
    "ExecuteTime": {
     "end_time": "2023-12-14T04:11:07.351684600Z",
     "start_time": "2023-12-14T04:11:07.340126900Z"
    }
   },
   "id": "c031773f1ed5ca85"
  },
  {
   "cell_type": "code",
   "execution_count": 8,
   "outputs": [],
   "source": [
    "# Label Encoding\n",
    "le = preprocessing.LabelEncoder()\n",
    "df['artist'] = le.fit_transform(df['artist'].values)"
   ],
   "metadata": {
    "collapsed": false,
    "ExecuteTime": {
     "end_time": "2023-12-14T04:11:07.370753700Z",
     "start_time": "2023-12-14T04:11:07.351684600Z"
    }
   },
   "id": "2ae8b183518c9394"
  },
  {
   "cell_type": "code",
   "execution_count": 9,
   "outputs": [],
   "source": [
    "train_df, val_df = train_test_split(df, test_size=0.2, random_state=CFG['SEED'])"
   ],
   "metadata": {
    "collapsed": false,
    "ExecuteTime": {
     "end_time": "2023-12-14T04:11:07.404303200Z",
     "start_time": "2023-12-14T04:11:07.357772900Z"
    }
   },
   "id": "71c56b6890f87998"
  },
  {
   "cell_type": "code",
   "execution_count": 10,
   "outputs": [
    {
     "data": {
      "text/plain": "   id          img_path  artist\n0   0  ./train/0000.jpg       9\n1   1  ./train/0001.jpg      48\n3   3  ./train/0003.jpg      10\n4   4  ./train/0004.jpg      24\n6   6  ./train/0006.jpg      43",
      "text/html": "<div>\n<style scoped>\n    .dataframe tbody tr th:only-of-type {\n        vertical-align: middle;\n    }\n\n    .dataframe tbody tr th {\n        vertical-align: top;\n    }\n\n    .dataframe thead th {\n        text-align: right;\n    }\n</style>\n<table border=\"1\" class=\"dataframe\">\n  <thead>\n    <tr style=\"text-align: right;\">\n      <th></th>\n      <th>id</th>\n      <th>img_path</th>\n      <th>artist</th>\n    </tr>\n  </thead>\n  <tbody>\n    <tr>\n      <th>0</th>\n      <td>0</td>\n      <td>./train/0000.jpg</td>\n      <td>9</td>\n    </tr>\n    <tr>\n      <th>1</th>\n      <td>1</td>\n      <td>./train/0001.jpg</td>\n      <td>48</td>\n    </tr>\n    <tr>\n      <th>3</th>\n      <td>3</td>\n      <td>./train/0003.jpg</td>\n      <td>10</td>\n    </tr>\n    <tr>\n      <th>4</th>\n      <td>4</td>\n      <td>./train/0004.jpg</td>\n      <td>24</td>\n    </tr>\n    <tr>\n      <th>6</th>\n      <td>6</td>\n      <td>./train/0006.jpg</td>\n      <td>43</td>\n    </tr>\n  </tbody>\n</table>\n</div>"
     },
     "execution_count": 10,
     "metadata": {},
     "output_type": "execute_result"
    }
   ],
   "source": [
    "train_df = train_df.sort_values(by=['id'])\n",
    "train_df.head()"
   ],
   "metadata": {
    "collapsed": false,
    "ExecuteTime": {
     "end_time": "2023-12-14T04:11:07.442036Z",
     "start_time": "2023-12-14T04:11:07.370753700Z"
    }
   },
   "id": "3146f5ea6c5ce2c4"
  },
  {
   "cell_type": "code",
   "execution_count": 11,
   "outputs": [
    {
     "data": {
      "text/plain": "    id          img_path  artist\n2    2  ./train/0002.jpg       7\n5    5  ./train/0005.jpg      38\n10  10  ./train/0010.jpg       6\n11  11  ./train/0011.jpg       1\n18  18  ./train/0018.jpg      33",
      "text/html": "<div>\n<style scoped>\n    .dataframe tbody tr th:only-of-type {\n        vertical-align: middle;\n    }\n\n    .dataframe tbody tr th {\n        vertical-align: top;\n    }\n\n    .dataframe thead th {\n        text-align: right;\n    }\n</style>\n<table border=\"1\" class=\"dataframe\">\n  <thead>\n    <tr style=\"text-align: right;\">\n      <th></th>\n      <th>id</th>\n      <th>img_path</th>\n      <th>artist</th>\n    </tr>\n  </thead>\n  <tbody>\n    <tr>\n      <th>2</th>\n      <td>2</td>\n      <td>./train/0002.jpg</td>\n      <td>7</td>\n    </tr>\n    <tr>\n      <th>5</th>\n      <td>5</td>\n      <td>./train/0005.jpg</td>\n      <td>38</td>\n    </tr>\n    <tr>\n      <th>10</th>\n      <td>10</td>\n      <td>./train/0010.jpg</td>\n      <td>6</td>\n    </tr>\n    <tr>\n      <th>11</th>\n      <td>11</td>\n      <td>./train/0011.jpg</td>\n      <td>1</td>\n    </tr>\n    <tr>\n      <th>18</th>\n      <td>18</td>\n      <td>./train/0018.jpg</td>\n      <td>33</td>\n    </tr>\n  </tbody>\n</table>\n</div>"
     },
     "execution_count": 11,
     "metadata": {},
     "output_type": "execute_result"
    }
   ],
   "source": [
    "val_df = val_df.sort_values(by=['id'])\n",
    "val_df.head()"
   ],
   "metadata": {
    "collapsed": false,
    "ExecuteTime": {
     "end_time": "2023-12-14T04:11:07.486425800Z",
     "start_time": "2023-12-14T04:11:07.393258700Z"
    }
   },
   "id": "e4849ea7a525c8cf"
  },
  {
   "cell_type": "code",
   "execution_count": 12,
   "outputs": [],
   "source": [
    "def get_data(df, infer=False):\n",
    "    if infer:\n",
    "        return df['img_path'].apply(lambda p: os.path.join(data_path, p)).values\n",
    "    return df['img_path'].apply(lambda p: os.path.join(data_path, p)).values, df['artist'].values"
   ],
   "metadata": {
    "collapsed": false,
    "ExecuteTime": {
     "end_time": "2023-12-14T04:11:07.486425800Z",
     "start_time": "2023-12-14T04:11:07.411525500Z"
    }
   },
   "id": "db002acff51c03bd"
  },
  {
   "cell_type": "code",
   "execution_count": 13,
   "outputs": [],
   "source": [
    "train_img_paths, train_labels = get_data(train_df)\n",
    "val_img_paths, val_labels = get_data(val_df)"
   ],
   "metadata": {
    "collapsed": false,
    "ExecuteTime": {
     "end_time": "2023-12-14T04:11:07.491333100Z",
     "start_time": "2023-12-14T04:11:07.418530300Z"
    }
   },
   "id": "6a8806270c88c0be"
  },
  {
   "cell_type": "code",
   "execution_count": 14,
   "outputs": [],
   "source": [
    "from torchvision.transforms import ToTensor\n",
    "\n",
    "\n",
    "class CustomDataset(Dataset):\n",
    "    def __init__(self, img_paths, labels, transforms=None):\n",
    "        self.img_paths = img_paths\n",
    "        self.labels = labels\n",
    "        self.transforms = transforms if transforms else ToTensor()\n",
    "\n",
    "    def __getitem__(self, index):\n",
    "        img_path = self.img_paths[index]\n",
    "        image = cv2.imread(img_path)\n",
    "        image = cv2.cvtColor(image, cv2.COLOR_BGR2RGB)\n",
    "        image = self.transforms(image=image)['image']\n",
    "        \n",
    "        if self.labels is not None:\n",
    "            label = self.labels[index]\n",
    "            return image, label\n",
    "        else:\n",
    "            return image\n",
    "    \n",
    "    def __len__(self):\n",
    "        return len(self.img_paths)"
   ],
   "metadata": {
    "collapsed": false,
    "ExecuteTime": {
     "end_time": "2023-12-14T04:11:07.545282Z",
     "start_time": "2023-12-14T04:11:07.448544800Z"
    }
   },
   "id": "daa8f5c45d3e6316"
  },
  {
   "cell_type": "code",
   "execution_count": 15,
   "outputs": [],
   "source": [
    "train_transform = A.Compose([\n",
    "    A.Resize(CFG['IMG_SIZE'],CFG['IMG_SIZE']),\n",
    "    A.Transpose(p=0.5), # 행렬 스왑\n",
    "    A.HorizontalFlip(p=0.5), # 좌우 반전\n",
    "    A.VerticalFlip(p=0.5), # 상하 반전\n",
    "    A.ShiftScaleRotate(p=0.5), # 랜덤하게 옮기고, scale, 회전\n",
    "    A.HueSaturationValue(hue_shift_limit=20, sat_shift_limit=20, val_shift_limit=20, p=0.5), # 빛깔, 색조, 값 변환\n",
    "    A.RandomBrightnessContrast(brightness_limit=(-0.1,0.1), contrast_limit=(-0.1, 0.1), p=0.5), # 명도 대비\n",
    "    A.ChannelShuffle(), # RGB 채널 간 shuffle\n",
    "    A.Normalize(mean=(0.485, 0.456, 0.406), std=(0.229, 0.224, 0.225), max_pixel_value=255.0, always_apply=False, p=1.0),\n",
    "    A.CoarseDropout(p=0.5),\n",
    "    ToTensorV2()\n",
    "])\n",
    "\n",
    "test_transform = A.Compose([\n",
    "    A.Resize(CFG['IMG_SIZE'],CFG['IMG_SIZE']),\n",
    "    A.Normalize(mean=(0.485, 0.456, 0.406), std=(0.229, 0.224, 0.225), max_pixel_value=255.0, always_apply=False, p=1.0),\n",
    "    ToTensorV2()\n",
    "])"
   ],
   "metadata": {
    "collapsed": false,
    "ExecuteTime": {
     "end_time": "2023-12-14T04:11:07.545282Z",
     "start_time": "2023-12-14T04:11:07.467676200Z"
    }
   },
   "id": "17b5b770a5fb4839"
  },
  {
   "cell_type": "code",
   "execution_count": 16,
   "outputs": [
    {
     "data": {
      "text/plain": "<torch._C.Generator at 0x16fccd1cfb0>"
     },
     "execution_count": 16,
     "metadata": {},
     "output_type": "execute_result"
    }
   ],
   "source": [
    "def seed_worker(worker_id):\n",
    "    worker_seed = torch.initial_seed() % 2 ** 32\n",
    "    np.random.seed(worker_seed)\n",
    "    random.seed(worker_seed)\n",
    "g = torch.Generator()\n",
    "g.manual_seed(0)"
   ],
   "metadata": {
    "collapsed": false,
    "ExecuteTime": {
     "end_time": "2023-12-14T04:11:07.559477Z",
     "start_time": "2023-12-14T04:11:07.479664Z"
    }
   },
   "id": "c69fe868589b1093"
  },
  {
   "cell_type": "code",
   "execution_count": 17,
   "outputs": [],
   "source": [
    "train_dataset = CustomDataset(train_img_paths, train_labels, train_transform)\n",
    "train_loader = DataLoader(train_dataset, batch_size = CFG['BATCH_SIZE'], shuffle=True, worker_init_fn=seed_worker, generator=g, num_workers=0)\n",
    "\n",
    "val_dataset = CustomDataset(val_img_paths, val_labels, test_transform)\n",
    "val_loader = DataLoader(val_dataset, batch_size=CFG['BATCH_SIZE'], shuffle=False, worker_init_fn=seed_worker, generator=g, num_workers=0)"
   ],
   "metadata": {
    "collapsed": false,
    "ExecuteTime": {
     "end_time": "2023-12-14T04:11:07.581600900Z",
     "start_time": "2023-12-14T04:11:07.491333100Z"
    }
   },
   "id": "3fdc1f9a44a2408e"
  },
  {
   "cell_type": "code",
   "execution_count": 18,
   "outputs": [],
   "source": [
    "class BaseModel(nn.Module):\n",
    "    def __init__(self, num_classes=len(le.classes_)):\n",
    "        super(BaseModel, self).__init__()\n",
    "        self.backbone = timm.create_model('efficientnet_b2', pretrained=True, num_classes=512)\n",
    "        self.classifier = nn.Sequential(\n",
    "            nn.LeakyReLU(),\n",
    "            nn.Linear(512, num_classes)\n",
    "        )\n",
    "            \n",
    "    def forward(self, x):\n",
    "        x = self.backbone(x)\n",
    "        x = self.classifier(x)\n",
    "        return x"
   ],
   "metadata": {
    "collapsed": false,
    "ExecuteTime": {
     "end_time": "2023-12-14T04:11:07.635929400Z",
     "start_time": "2023-12-14T04:11:07.503653400Z"
    }
   },
   "id": "cd5ecc94fada5c8b"
  },
  {
   "cell_type": "code",
   "execution_count": 19,
   "outputs": [],
   "source": [
    "def clear_mem():\n",
    "    gc.collect()\n",
    "    torch.cuda.empty_cache()"
   ],
   "metadata": {
    "collapsed": false,
    "ExecuteTime": {
     "end_time": "2023-12-14T04:11:07.649794500Z",
     "start_time": "2023-12-14T04:11:07.519983300Z"
    }
   },
   "id": "ecce2baec16e71e7"
  },
  {
   "cell_type": "code",
   "execution_count": 20,
   "outputs": [],
   "source": [
    "def train(model, optimizer, criterion, train_loader, device):\n",
    "    model.train()\n",
    "    train_loss = []\n",
    "    bar = tqdm(enumerate(train_loader), total = len(train_loader), desc='Train Loop')\n",
    "    for idx, (img, label) in bar:\n",
    "        img, label = img.float().to(device), label.long().to(device)\n",
    "        \n",
    "        optimizer.zero_grad()\n",
    "\n",
    "        model_pred = model(img)\n",
    "        \n",
    "        loss = criterion(model_pred, label)\n",
    "\n",
    "        loss.backward()\n",
    "        optimizer.step()\n",
    "        train_loss.append(loss.item())\n",
    "        bar.set_postfix(train_loss = f'{loss.item():.4f}')\n",
    "    return np.mean(train_loss)"
   ],
   "metadata": {
    "collapsed": false,
    "ExecuteTime": {
     "end_time": "2023-12-14T04:11:07.649794500Z",
     "start_time": "2023-12-14T04:11:07.523276100Z"
    }
   },
   "id": "8837f76bd55e594f"
  },
  {
   "cell_type": "code",
   "execution_count": 21,
   "outputs": [],
   "source": [
    "def competition_metric(true, pred):\n",
    "    return f1_score(true, pred, average=\"macro\")\n",
    "\n",
    "def validation(model, criterion, test_loader, device):\n",
    "    model.eval()\n",
    "    \n",
    "    model_preds = []\n",
    "    true_labels = []\n",
    "    \n",
    "    val_loss = []\n",
    "    \n",
    "    with torch.no_grad():\n",
    "        for img, label in iter(test_loader):\n",
    "            img, label = img.float().to(device), label.long().to(device)\n",
    "            \n",
    "            model_pred = model(img)\n",
    "            \n",
    "            loss = criterion(model_pred, label)\n",
    "            \n",
    "            val_loss.append(loss.item())\n",
    "            \n",
    "            model_preds += model_pred.argmax(1).detach().cpu().numpy().tolist()\n",
    "            true_labels += label.detach().cpu().numpy().tolist()\n",
    "        \n",
    "    val_f1 = competition_metric(true_labels, model_preds)\n",
    "    return np.mean(val_loss), val_f1"
   ],
   "metadata": {
    "collapsed": false,
    "ExecuteTime": {
     "end_time": "2023-12-14T04:11:07.649794500Z",
     "start_time": "2023-12-14T04:11:07.531243200Z"
    }
   },
   "id": "6e0713601b2fa53a"
  },
  {
   "cell_type": "code",
   "execution_count": 22,
   "outputs": [
    {
     "name": "stdout",
     "output_type": "stream",
     "text": [
      "run_id='20231214131107'\n"
     ]
    }
   ],
   "source": [
    "time_now = datetime.now()\n",
    "run_id = time_now.strftime(\"%Y%m%d%H%M%S\")\n",
    "os.makedirs(os.path.join(data_path, f'./runs/{run_id}'), exist_ok=True)\n",
    "print(f'{run_id=}')"
   ],
   "metadata": {
    "collapsed": false,
    "ExecuteTime": {
     "end_time": "2023-12-14T04:11:07.649794500Z",
     "start_time": "2023-12-14T04:11:07.537665600Z"
    }
   },
   "id": "17fc703a3126967"
  },
  {
   "cell_type": "code",
   "execution_count": 23,
   "outputs": [],
   "source": [
    "def train_epoch(model, optimizer, train_loader, test_loader, scheduler, device):\n",
    "    model.to(device)\n",
    "\n",
    "    criterion = nn.CrossEntropyLoss().to(device)\n",
    "    early_stopping = EarlyStopping(patience=CFG['PATIENCE'], verbose=True)\n",
    "    \n",
    "    best_score = 0\n",
    "    \n",
    "    for epoch in range(1,CFG[\"EPOCHS\"]+1):\n",
    "        tr_loss = train(model, optimizer, criterion, train_loader, device)\n",
    "        val_loss, val_score = validation(model, criterion, test_loader, device)\n",
    "        \n",
    "        if scheduler is not None:\n",
    "            scheduler.step()\n",
    "            \n",
    "        if best_score < val_score:\n",
    "            print(f'**Epoch [{epoch}], Train Loss : [{tr_loss:.5f}] Val Loss : [{val_loss:.5f}] Val F1 Score : [{val_score:.5f}]')\n",
    "            best_score = val_score\n",
    "            torch.save(model, os.path.join(data_path, f'runs/{run_id}/best_model.pt'))\n",
    "        else:\n",
    "            print(f'Epoch [{epoch}], Train Loss : [{tr_loss:.5f}] Val Loss : [{val_loss:.5f}] Val F1 Score : [{val_score:.5f}]')\n",
    "        clear_mem()\n",
    "        if early_stopping(val_score):\n",
    "            print(f'Epoch [{epoch}], early stopping')\n",
    "            break"
   ],
   "metadata": {
    "collapsed": false,
    "ExecuteTime": {
     "end_time": "2023-12-14T04:11:07.654547400Z",
     "start_time": "2023-12-14T04:11:07.550054300Z"
    }
   },
   "id": "533c937dd1370a10"
  },
  {
   "cell_type": "code",
   "execution_count": 24,
   "outputs": [],
   "source": [
    "class EarlyStopping:\n",
    "    def __init__(self, patience=10, verbose=False, delta=0):\n",
    "        self.patience = patience\n",
    "        self.verbose = verbose\n",
    "        self.counter = 0\n",
    "        self.best_score = None\n",
    "        self.early_stop = False\n",
    "        self.val_loss_min = np.Inf\n",
    "        self.delta = delta\n",
    "\n",
    "    def __call__(self, score):\n",
    "        if self.best_score is None:\n",
    "            self.best_score = score\n",
    "        elif score < self.best_score + self.delta:\n",
    "            self.counter += 1\n",
    "            print(f'EarlyStopping counter: {self.counter} out of {self.patience}')\n",
    "            print(f'Best F1 score from now: {self.best_score}')\n",
    "            if self.counter >= self.patience:\n",
    "                self.early_stop = True\n",
    "        else:\n",
    "            self.best_score = score\n",
    "            self.counter = 0\n",
    "        \n",
    "        return self.early_stop"
   ],
   "metadata": {
    "collapsed": false,
    "ExecuteTime": {
     "end_time": "2023-12-14T04:11:07.654547400Z",
     "start_time": "2023-12-14T04:11:07.558293800Z"
    }
   },
   "id": "51d7e36eb5ffba31"
  },
  {
   "cell_type": "code",
   "execution_count": 25,
   "outputs": [
    {
     "data": {
      "text/plain": "Train Loop:   0%|          | 0/296 [00:00<?, ?it/s]",
      "application/vnd.jupyter.widget-view+json": {
       "version_major": 2,
       "version_minor": 0,
       "model_id": "4be851e3161c4f4c927f21a5eb705605"
      }
     },
     "metadata": {},
     "output_type": "display_data"
    },
    {
     "name": "stdout",
     "output_type": "stream",
     "text": [
      "**Epoch [1], Train Loss : [2.70964] Val Loss : [2.32375] Val F1 Score : [0.24718]\n"
     ]
    },
    {
     "data": {
      "text/plain": "Train Loop:   0%|          | 0/296 [00:00<?, ?it/s]",
      "application/vnd.jupyter.widget-view+json": {
       "version_major": 2,
       "version_minor": 0,
       "model_id": "8b2d9706b7f5405aa75b99d596fc7a65"
      }
     },
     "metadata": {},
     "output_type": "display_data"
    },
    {
     "name": "stdout",
     "output_type": "stream",
     "text": [
      "**Epoch [2], Train Loss : [1.97173] Val Loss : [1.66369] Val F1 Score : [0.40207]\n"
     ]
    },
    {
     "data": {
      "text/plain": "Train Loop:   0%|          | 0/296 [00:00<?, ?it/s]",
      "application/vnd.jupyter.widget-view+json": {
       "version_major": 2,
       "version_minor": 0,
       "model_id": "a75f34b9b9c34d4b9136f7123a50702a"
      }
     },
     "metadata": {},
     "output_type": "display_data"
    },
    {
     "name": "stdout",
     "output_type": "stream",
     "text": [
      "**Epoch [3], Train Loss : [1.64013] Val Loss : [1.52046] Val F1 Score : [0.49269]\n"
     ]
    },
    {
     "data": {
      "text/plain": "Train Loop:   0%|          | 0/296 [00:00<?, ?it/s]",
      "application/vnd.jupyter.widget-view+json": {
       "version_major": 2,
       "version_minor": 0,
       "model_id": "ee04fce7bd1d4afb85179f85dd9bc623"
      }
     },
     "metadata": {},
     "output_type": "display_data"
    },
    {
     "name": "stdout",
     "output_type": "stream",
     "text": [
      "**Epoch [4], Train Loss : [1.43007] Val Loss : [1.41187] Val F1 Score : [0.51426]\n"
     ]
    },
    {
     "data": {
      "text/plain": "Train Loop:   0%|          | 0/296 [00:00<?, ?it/s]",
      "application/vnd.jupyter.widget-view+json": {
       "version_major": 2,
       "version_minor": 0,
       "model_id": "16cddff91b7d42ffa000ac2923448f46"
      }
     },
     "metadata": {},
     "output_type": "display_data"
    },
    {
     "name": "stdout",
     "output_type": "stream",
     "text": [
      "**Epoch [5], Train Loss : [1.23332] Val Loss : [1.40411] Val F1 Score : [0.54242]\n"
     ]
    },
    {
     "data": {
      "text/plain": "Train Loop:   0%|          | 0/296 [00:00<?, ?it/s]",
      "application/vnd.jupyter.widget-view+json": {
       "version_major": 2,
       "version_minor": 0,
       "model_id": "d3d04205556746df9b6e360652b50797"
      }
     },
     "metadata": {},
     "output_type": "display_data"
    },
    {
     "name": "stdout",
     "output_type": "stream",
     "text": [
      "**Epoch [6], Train Loss : [1.10688] Val Loss : [1.19853] Val F1 Score : [0.59696]\n"
     ]
    },
    {
     "data": {
      "text/plain": "Train Loop:   0%|          | 0/296 [00:00<?, ?it/s]",
      "application/vnd.jupyter.widget-view+json": {
       "version_major": 2,
       "version_minor": 0,
       "model_id": "1d52978755ab443c9ee5b48266232dee"
      }
     },
     "metadata": {},
     "output_type": "display_data"
    },
    {
     "name": "stdout",
     "output_type": "stream",
     "text": [
      "Epoch [7], Train Loss : [1.01155] Val Loss : [1.31474] Val F1 Score : [0.59352]\n",
      "EarlyStopping counter: 1 out of 10\n",
      "Best F1 score from now: 0.5969601695006497\n"
     ]
    },
    {
     "data": {
      "text/plain": "Train Loop:   0%|          | 0/296 [00:00<?, ?it/s]",
      "application/vnd.jupyter.widget-view+json": {
       "version_major": 2,
       "version_minor": 0,
       "model_id": "92f92d138c3e4ce9a541836b03ef155e"
      }
     },
     "metadata": {},
     "output_type": "display_data"
    },
    {
     "name": "stdout",
     "output_type": "stream",
     "text": [
      "**Epoch [8], Train Loss : [0.93217] Val Loss : [1.18505] Val F1 Score : [0.61690]\n"
     ]
    },
    {
     "data": {
      "text/plain": "Train Loop:   0%|          | 0/296 [00:00<?, ?it/s]",
      "application/vnd.jupyter.widget-view+json": {
       "version_major": 2,
       "version_minor": 0,
       "model_id": "4402f7ca26e44b0cbdabf1fa6735f142"
      }
     },
     "metadata": {},
     "output_type": "display_data"
    },
    {
     "name": "stdout",
     "output_type": "stream",
     "text": [
      "**Epoch [9], Train Loss : [0.85119] Val Loss : [1.17140] Val F1 Score : [0.64411]\n"
     ]
    },
    {
     "data": {
      "text/plain": "Train Loop:   0%|          | 0/296 [00:00<?, ?it/s]",
      "application/vnd.jupyter.widget-view+json": {
       "version_major": 2,
       "version_minor": 0,
       "model_id": "e0e455fd6f65498aaf942f0c1829fa9d"
      }
     },
     "metadata": {},
     "output_type": "display_data"
    },
    {
     "name": "stdout",
     "output_type": "stream",
     "text": [
      "Epoch [10], Train Loss : [0.79093] Val Loss : [1.21460] Val F1 Score : [0.64226]\n",
      "EarlyStopping counter: 1 out of 10\n",
      "Best F1 score from now: 0.6441089059764116\n"
     ]
    },
    {
     "data": {
      "text/plain": "Train Loop:   0%|          | 0/296 [00:00<?, ?it/s]",
      "application/vnd.jupyter.widget-view+json": {
       "version_major": 2,
       "version_minor": 0,
       "model_id": "3e74180e2aef48fb9a56f8bdba5e83e1"
      }
     },
     "metadata": {},
     "output_type": "display_data"
    },
    {
     "name": "stdout",
     "output_type": "stream",
     "text": [
      "Epoch [11], Train Loss : [0.71620] Val Loss : [1.32213] Val F1 Score : [0.59848]\n",
      "EarlyStopping counter: 2 out of 10\n",
      "Best F1 score from now: 0.6441089059764116\n"
     ]
    },
    {
     "data": {
      "text/plain": "Train Loop:   0%|          | 0/296 [00:00<?, ?it/s]",
      "application/vnd.jupyter.widget-view+json": {
       "version_major": 2,
       "version_minor": 0,
       "model_id": "458ab999357f4066ae094dfae6ea3bf1"
      }
     },
     "metadata": {},
     "output_type": "display_data"
    },
    {
     "name": "stdout",
     "output_type": "stream",
     "text": [
      "**Epoch [12], Train Loss : [0.72365] Val Loss : [1.26775] Val F1 Score : [0.65056]\n"
     ]
    },
    {
     "data": {
      "text/plain": "Train Loop:   0%|          | 0/296 [00:00<?, ?it/s]",
      "application/vnd.jupyter.widget-view+json": {
       "version_major": 2,
       "version_minor": 0,
       "model_id": "1a3cd146a41c44eb942e5c36f076dc4a"
      }
     },
     "metadata": {},
     "output_type": "display_data"
    },
    {
     "name": "stdout",
     "output_type": "stream",
     "text": [
      "**Epoch [13], Train Loss : [0.61835] Val Loss : [1.26150] Val F1 Score : [0.67047]\n"
     ]
    },
    {
     "data": {
      "text/plain": "Train Loop:   0%|          | 0/296 [00:00<?, ?it/s]",
      "application/vnd.jupyter.widget-view+json": {
       "version_major": 2,
       "version_minor": 0,
       "model_id": "d9aaf35be4b7430c9a6db8377a1986ad"
      }
     },
     "metadata": {},
     "output_type": "display_data"
    },
    {
     "name": "stdout",
     "output_type": "stream",
     "text": [
      "Epoch [14], Train Loss : [0.59877] Val Loss : [1.22701] Val F1 Score : [0.62922]\n",
      "EarlyStopping counter: 1 out of 10\n",
      "Best F1 score from now: 0.6704729517866025\n"
     ]
    },
    {
     "data": {
      "text/plain": "Train Loop:   0%|          | 0/296 [00:00<?, ?it/s]",
      "application/vnd.jupyter.widget-view+json": {
       "version_major": 2,
       "version_minor": 0,
       "model_id": "b81bfc2a304645638085abd84c877c24"
      }
     },
     "metadata": {},
     "output_type": "display_data"
    },
    {
     "name": "stdout",
     "output_type": "stream",
     "text": [
      "Epoch [15], Train Loss : [0.51974] Val Loss : [1.46040] Val F1 Score : [0.59990]\n",
      "EarlyStopping counter: 2 out of 10\n",
      "Best F1 score from now: 0.6704729517866025\n"
     ]
    },
    {
     "data": {
      "text/plain": "Train Loop:   0%|          | 0/296 [00:00<?, ?it/s]",
      "application/vnd.jupyter.widget-view+json": {
       "version_major": 2,
       "version_minor": 0,
       "model_id": "7169e147eb05419f8a18f583d18b91f6"
      }
     },
     "metadata": {},
     "output_type": "display_data"
    },
    {
     "name": "stdout",
     "output_type": "stream",
     "text": [
      "Epoch [16], Train Loss : [0.53853] Val Loss : [1.43171] Val F1 Score : [0.60554]\n",
      "EarlyStopping counter: 3 out of 10\n",
      "Best F1 score from now: 0.6704729517866025\n"
     ]
    },
    {
     "data": {
      "text/plain": "Train Loop:   0%|          | 0/296 [00:00<?, ?it/s]",
      "application/vnd.jupyter.widget-view+json": {
       "version_major": 2,
       "version_minor": 0,
       "model_id": "e38d5f3deb8b4e7c8f62734b853b88d3"
      }
     },
     "metadata": {},
     "output_type": "display_data"
    },
    {
     "name": "stdout",
     "output_type": "stream",
     "text": [
      "Epoch [17], Train Loss : [0.49633] Val Loss : [1.29883] Val F1 Score : [0.65236]\n",
      "EarlyStopping counter: 4 out of 10\n",
      "Best F1 score from now: 0.6704729517866025\n"
     ]
    },
    {
     "data": {
      "text/plain": "Train Loop:   0%|          | 0/296 [00:00<?, ?it/s]",
      "application/vnd.jupyter.widget-view+json": {
       "version_major": 2,
       "version_minor": 0,
       "model_id": "f94339d42d3a4b508c2ecaebe3e0157b"
      }
     },
     "metadata": {},
     "output_type": "display_data"
    },
    {
     "name": "stdout",
     "output_type": "stream",
     "text": [
      "**Epoch [18], Train Loss : [0.48075] Val Loss : [1.23547] Val F1 Score : [0.67436]\n"
     ]
    },
    {
     "data": {
      "text/plain": "Train Loop:   0%|          | 0/296 [00:00<?, ?it/s]",
      "application/vnd.jupyter.widget-view+json": {
       "version_major": 2,
       "version_minor": 0,
       "model_id": "1c0365195de94c679efb6068b8db555f"
      }
     },
     "metadata": {},
     "output_type": "display_data"
    },
    {
     "name": "stdout",
     "output_type": "stream",
     "text": [
      "Epoch [19], Train Loss : [0.45220] Val Loss : [1.33291] Val F1 Score : [0.65486]\n",
      "EarlyStopping counter: 1 out of 10\n",
      "Best F1 score from now: 0.6743641133311193\n"
     ]
    },
    {
     "data": {
      "text/plain": "Train Loop:   0%|          | 0/296 [00:00<?, ?it/s]",
      "application/vnd.jupyter.widget-view+json": {
       "version_major": 2,
       "version_minor": 0,
       "model_id": "8b212e63d2bb453eb757b3f4f7db36ce"
      }
     },
     "metadata": {},
     "output_type": "display_data"
    },
    {
     "name": "stdout",
     "output_type": "stream",
     "text": [
      "Epoch [20], Train Loss : [0.43616] Val Loss : [1.31600] Val F1 Score : [0.66332]\n",
      "EarlyStopping counter: 2 out of 10\n",
      "Best F1 score from now: 0.6743641133311193\n"
     ]
    },
    {
     "data": {
      "text/plain": "Train Loop:   0%|          | 0/296 [00:00<?, ?it/s]",
      "application/vnd.jupyter.widget-view+json": {
       "version_major": 2,
       "version_minor": 0,
       "model_id": "6eed7a04bc4d478d915b848333f1bd7f"
      }
     },
     "metadata": {},
     "output_type": "display_data"
    },
    {
     "name": "stdout",
     "output_type": "stream",
     "text": [
      "**Epoch [21], Train Loss : [0.42183] Val Loss : [1.24461] Val F1 Score : [0.67831]\n"
     ]
    },
    {
     "data": {
      "text/plain": "Train Loop:   0%|          | 0/296 [00:00<?, ?it/s]",
      "application/vnd.jupyter.widget-view+json": {
       "version_major": 2,
       "version_minor": 0,
       "model_id": "efb4181f28884df3acfb09e70931dfcb"
      }
     },
     "metadata": {},
     "output_type": "display_data"
    },
    {
     "name": "stdout",
     "output_type": "stream",
     "text": [
      "Epoch [22], Train Loss : [0.41300] Val Loss : [1.43434] Val F1 Score : [0.64860]\n",
      "EarlyStopping counter: 1 out of 10\n",
      "Best F1 score from now: 0.6783061525790217\n"
     ]
    },
    {
     "data": {
      "text/plain": "Train Loop:   0%|          | 0/296 [00:00<?, ?it/s]",
      "application/vnd.jupyter.widget-view+json": {
       "version_major": 2,
       "version_minor": 0,
       "model_id": "0e83438d512d421bbd5d2d24dc32ee59"
      }
     },
     "metadata": {},
     "output_type": "display_data"
    },
    {
     "name": "stdout",
     "output_type": "stream",
     "text": [
      "**Epoch [23], Train Loss : [0.38694] Val Loss : [1.21183] Val F1 Score : [0.68960]\n"
     ]
    },
    {
     "data": {
      "text/plain": "Train Loop:   0%|          | 0/296 [00:00<?, ?it/s]",
      "application/vnd.jupyter.widget-view+json": {
       "version_major": 2,
       "version_minor": 0,
       "model_id": "2c593d42a74b47d49190d0310883236d"
      }
     },
     "metadata": {},
     "output_type": "display_data"
    },
    {
     "name": "stdout",
     "output_type": "stream",
     "text": [
      "Epoch [24], Train Loss : [0.32288] Val Loss : [1.39876] Val F1 Score : [0.66819]\n",
      "EarlyStopping counter: 1 out of 10\n",
      "Best F1 score from now: 0.6896000428658509\n"
     ]
    },
    {
     "data": {
      "text/plain": "Train Loop:   0%|          | 0/296 [00:00<?, ?it/s]",
      "application/vnd.jupyter.widget-view+json": {
       "version_major": 2,
       "version_minor": 0,
       "model_id": "bb4b351b4f2c4aa7862d65298f77446a"
      }
     },
     "metadata": {},
     "output_type": "display_data"
    },
    {
     "name": "stdout",
     "output_type": "stream",
     "text": [
      "Epoch [25], Train Loss : [0.39789] Val Loss : [1.42010] Val F1 Score : [0.64890]\n",
      "EarlyStopping counter: 2 out of 10\n",
      "Best F1 score from now: 0.6896000428658509\n"
     ]
    },
    {
     "data": {
      "text/plain": "Train Loop:   0%|          | 0/296 [00:00<?, ?it/s]",
      "application/vnd.jupyter.widget-view+json": {
       "version_major": 2,
       "version_minor": 0,
       "model_id": "529e4bf2fa1b44f6bc40b9cb158d6f7b"
      }
     },
     "metadata": {},
     "output_type": "display_data"
    },
    {
     "name": "stdout",
     "output_type": "stream",
     "text": [
      "Epoch [26], Train Loss : [0.35513] Val Loss : [1.34647] Val F1 Score : [0.64239]\n",
      "EarlyStopping counter: 3 out of 10\n",
      "Best F1 score from now: 0.6896000428658509\n"
     ]
    },
    {
     "data": {
      "text/plain": "Train Loop:   0%|          | 0/296 [00:00<?, ?it/s]",
      "application/vnd.jupyter.widget-view+json": {
       "version_major": 2,
       "version_minor": 0,
       "model_id": "9eb1c3c1b7e2427a83cd5488efa88834"
      }
     },
     "metadata": {},
     "output_type": "display_data"
    },
    {
     "name": "stdout",
     "output_type": "stream",
     "text": [
      "Epoch [27], Train Loss : [0.29659] Val Loss : [1.41568] Val F1 Score : [0.64608]\n",
      "EarlyStopping counter: 4 out of 10\n",
      "Best F1 score from now: 0.6896000428658509\n"
     ]
    },
    {
     "data": {
      "text/plain": "Train Loop:   0%|          | 0/296 [00:00<?, ?it/s]",
      "application/vnd.jupyter.widget-view+json": {
       "version_major": 2,
       "version_minor": 0,
       "model_id": "fc733cd5ff0e4cb79491fea6a9d5618a"
      }
     },
     "metadata": {},
     "output_type": "display_data"
    },
    {
     "name": "stdout",
     "output_type": "stream",
     "text": [
      "Epoch [28], Train Loss : [0.30868] Val Loss : [1.20535] Val F1 Score : [0.66989]\n",
      "EarlyStopping counter: 5 out of 10\n",
      "Best F1 score from now: 0.6896000428658509\n"
     ]
    },
    {
     "data": {
      "text/plain": "Train Loop:   0%|          | 0/296 [00:00<?, ?it/s]",
      "application/vnd.jupyter.widget-view+json": {
       "version_major": 2,
       "version_minor": 0,
       "model_id": "f7319141d29444f1a9678a4bc228299c"
      }
     },
     "metadata": {},
     "output_type": "display_data"
    },
    {
     "name": "stdout",
     "output_type": "stream",
     "text": [
      "Epoch [29], Train Loss : [0.29254] Val Loss : [1.45379] Val F1 Score : [0.65472]\n",
      "EarlyStopping counter: 6 out of 10\n",
      "Best F1 score from now: 0.6896000428658509\n"
     ]
    },
    {
     "data": {
      "text/plain": "Train Loop:   0%|          | 0/296 [00:00<?, ?it/s]",
      "application/vnd.jupyter.widget-view+json": {
       "version_major": 2,
       "version_minor": 0,
       "model_id": "c642c7cba74a4c27b8514275754b7e5f"
      }
     },
     "metadata": {},
     "output_type": "display_data"
    },
    {
     "name": "stdout",
     "output_type": "stream",
     "text": [
      "Epoch [30], Train Loss : [0.32271] Val Loss : [1.39465] Val F1 Score : [0.67283]\n",
      "EarlyStopping counter: 7 out of 10\n",
      "Best F1 score from now: 0.6896000428658509\n"
     ]
    },
    {
     "data": {
      "text/plain": "Train Loop:   0%|          | 0/296 [00:00<?, ?it/s]",
      "application/vnd.jupyter.widget-view+json": {
       "version_major": 2,
       "version_minor": 0,
       "model_id": "1fc2756d4a084f2ea6abbab4f7cdc2df"
      }
     },
     "metadata": {},
     "output_type": "display_data"
    },
    {
     "name": "stdout",
     "output_type": "stream",
     "text": [
      "Epoch [31], Train Loss : [0.29355] Val Loss : [1.44560] Val F1 Score : [0.64704]\n",
      "EarlyStopping counter: 8 out of 10\n",
      "Best F1 score from now: 0.6896000428658509\n"
     ]
    },
    {
     "data": {
      "text/plain": "Train Loop:   0%|          | 0/296 [00:00<?, ?it/s]",
      "application/vnd.jupyter.widget-view+json": {
       "version_major": 2,
       "version_minor": 0,
       "model_id": "a8cd448632c744438730cb849db616bb"
      }
     },
     "metadata": {},
     "output_type": "display_data"
    },
    {
     "name": "stdout",
     "output_type": "stream",
     "text": [
      "Epoch [32], Train Loss : [0.26572] Val Loss : [1.51045] Val F1 Score : [0.64486]\n",
      "EarlyStopping counter: 9 out of 10\n",
      "Best F1 score from now: 0.6896000428658509\n"
     ]
    },
    {
     "data": {
      "text/plain": "Train Loop:   0%|          | 0/296 [00:00<?, ?it/s]",
      "application/vnd.jupyter.widget-view+json": {
       "version_major": 2,
       "version_minor": 0,
       "model_id": "960e59a81a61450a93d2dc467e82ad29"
      }
     },
     "metadata": {},
     "output_type": "display_data"
    },
    {
     "name": "stdout",
     "output_type": "stream",
     "text": [
      "Epoch [33], Train Loss : [0.29101] Val Loss : [1.38878] Val F1 Score : [0.64956]\n",
      "EarlyStopping counter: 10 out of 10\n",
      "Best F1 score from now: 0.6896000428658509\n",
      "Epoch [33], early stopping\n"
     ]
    }
   ],
   "source": [
    "model = BaseModel()\n",
    "model.eval()\n",
    "optimizer = torch.optim.Adam(params = model.parameters(), lr = CFG[\"LEARNING_RATE\"])\n",
    "scheduler = None\n",
    "\n",
    "train_epoch(model, optimizer, train_loader, val_loader, scheduler, device)"
   ],
   "metadata": {
    "collapsed": false,
    "ExecuteTime": {
     "end_time": "2023-12-14T05:25:43.137803400Z",
     "start_time": "2023-12-14T04:11:07.559477Z"
    }
   },
   "id": "e59465d8032710f4"
  },
  {
   "cell_type": "code",
   "execution_count": 26,
   "outputs": [
    {
     "data": {
      "text/plain": "           id               img_path\n0  TEST_00000  ./test/TEST_00000.jpg\n1  TEST_00001  ./test/TEST_00001.jpg\n2  TEST_00002  ./test/TEST_00002.jpg\n3  TEST_00003  ./test/TEST_00003.jpg\n4  TEST_00004  ./test/TEST_00004.jpg",
      "text/html": "<div>\n<style scoped>\n    .dataframe tbody tr th:only-of-type {\n        vertical-align: middle;\n    }\n\n    .dataframe tbody tr th {\n        vertical-align: top;\n    }\n\n    .dataframe thead th {\n        text-align: right;\n    }\n</style>\n<table border=\"1\" class=\"dataframe\">\n  <thead>\n    <tr style=\"text-align: right;\">\n      <th></th>\n      <th>id</th>\n      <th>img_path</th>\n    </tr>\n  </thead>\n  <tbody>\n    <tr>\n      <th>0</th>\n      <td>TEST_00000</td>\n      <td>./test/TEST_00000.jpg</td>\n    </tr>\n    <tr>\n      <th>1</th>\n      <td>TEST_00001</td>\n      <td>./test/TEST_00001.jpg</td>\n    </tr>\n    <tr>\n      <th>2</th>\n      <td>TEST_00002</td>\n      <td>./test/TEST_00002.jpg</td>\n    </tr>\n    <tr>\n      <th>3</th>\n      <td>TEST_00003</td>\n      <td>./test/TEST_00003.jpg</td>\n    </tr>\n    <tr>\n      <th>4</th>\n      <td>TEST_00004</td>\n      <td>./test/TEST_00004.jpg</td>\n    </tr>\n  </tbody>\n</table>\n</div>"
     },
     "execution_count": 26,
     "metadata": {},
     "output_type": "execute_result"
    }
   ],
   "source": [
    "test_df = pd.read_csv(os.path.join(data_path, './test.csv'))\n",
    "test_df.head()"
   ],
   "metadata": {
    "collapsed": false,
    "ExecuteTime": {
     "end_time": "2023-12-14T05:25:43.169152600Z",
     "start_time": "2023-12-14T05:25:43.132572Z"
    }
   },
   "id": "9c8fff1a450556ec"
  },
  {
   "cell_type": "code",
   "execution_count": 27,
   "outputs": [],
   "source": [
    "test_img_paths = get_data(test_df, infer=True)"
   ],
   "metadata": {
    "collapsed": false,
    "ExecuteTime": {
     "end_time": "2023-12-14T05:25:43.248341300Z",
     "start_time": "2023-12-14T05:25:43.169152600Z"
    }
   },
   "id": "6a50c39d21de27ed"
  },
  {
   "cell_type": "code",
   "execution_count": 28,
   "outputs": [],
   "source": [
    "test_dataset = CustomDataset(test_img_paths, None, test_transform)\n",
    "test_loader = DataLoader(test_dataset, batch_size=CFG['BATCH_SIZE'], shuffle=False, num_workers=0)"
   ],
   "metadata": {
    "collapsed": false,
    "ExecuteTime": {
     "end_time": "2023-12-14T05:25:43.248341300Z",
     "start_time": "2023-12-14T05:25:43.217015100Z"
    }
   },
   "id": "66859c2e35131aae"
  },
  {
   "cell_type": "code",
   "execution_count": 29,
   "outputs": [],
   "source": [
    "def inference(model, test_loader, device):\n",
    "    model.to(device)\n",
    "    model.eval()\n",
    "    \n",
    "    model_preds = []\n",
    "    \n",
    "    with torch.no_grad():\n",
    "        for img in test_loader:\n",
    "            img = img.float().to(device)\n",
    "            \n",
    "            model_pred = model(img)\n",
    "            model_preds += model_pred.argmax(1).detach().cpu().numpy().tolist()\n",
    "    \n",
    "    print('Done.')\n",
    "    return model_preds"
   ],
   "metadata": {
    "collapsed": false,
    "ExecuteTime": {
     "end_time": "2023-12-14T05:25:43.248341300Z",
     "start_time": "2023-12-14T05:25:43.232728200Z"
    }
   },
   "id": "60aba723872ee62e"
  },
  {
   "cell_type": "code",
   "execution_count": 30,
   "outputs": [
    {
     "name": "stdout",
     "output_type": "stream",
     "text": [
      "CHECKPOINT LOADED: ../../data/runs/20231214131107/best_model.pt\n"
     ]
    },
    {
     "data": {
      "text/plain": "BaseModel(\n  (backbone): EfficientNet(\n    (conv_stem): Conv2d(3, 32, kernel_size=(3, 3), stride=(2, 2), padding=(1, 1), bias=False)\n    (bn1): BatchNormAct2d(\n      32, eps=1e-05, momentum=0.1, affine=True, track_running_stats=True\n      (drop): Identity()\n      (act): SiLU(inplace=True)\n    )\n    (blocks): Sequential(\n      (0): Sequential(\n        (0): DepthwiseSeparableConv(\n          (conv_dw): Conv2d(32, 32, kernel_size=(3, 3), stride=(1, 1), padding=(1, 1), groups=32, bias=False)\n          (bn1): BatchNormAct2d(\n            32, eps=1e-05, momentum=0.1, affine=True, track_running_stats=True\n            (drop): Identity()\n            (act): SiLU(inplace=True)\n          )\n          (se): SqueezeExcite(\n            (conv_reduce): Conv2d(32, 8, kernel_size=(1, 1), stride=(1, 1))\n            (act1): SiLU(inplace=True)\n            (conv_expand): Conv2d(8, 32, kernel_size=(1, 1), stride=(1, 1))\n            (gate): Sigmoid()\n          )\n          (conv_pw): Conv2d(32, 16, kernel_size=(1, 1), stride=(1, 1), bias=False)\n          (bn2): BatchNormAct2d(\n            16, eps=1e-05, momentum=0.1, affine=True, track_running_stats=True\n            (drop): Identity()\n            (act): Identity()\n          )\n          (drop_path): Identity()\n        )\n        (1): DepthwiseSeparableConv(\n          (conv_dw): Conv2d(16, 16, kernel_size=(3, 3), stride=(1, 1), padding=(1, 1), groups=16, bias=False)\n          (bn1): BatchNormAct2d(\n            16, eps=1e-05, momentum=0.1, affine=True, track_running_stats=True\n            (drop): Identity()\n            (act): SiLU(inplace=True)\n          )\n          (se): SqueezeExcite(\n            (conv_reduce): Conv2d(16, 4, kernel_size=(1, 1), stride=(1, 1))\n            (act1): SiLU(inplace=True)\n            (conv_expand): Conv2d(4, 16, kernel_size=(1, 1), stride=(1, 1))\n            (gate): Sigmoid()\n          )\n          (conv_pw): Conv2d(16, 16, kernel_size=(1, 1), stride=(1, 1), bias=False)\n          (bn2): BatchNormAct2d(\n            16, eps=1e-05, momentum=0.1, affine=True, track_running_stats=True\n            (drop): Identity()\n            (act): Identity()\n          )\n          (drop_path): Identity()\n        )\n      )\n      (1): Sequential(\n        (0): InvertedResidual(\n          (conv_pw): Conv2d(16, 96, kernel_size=(1, 1), stride=(1, 1), bias=False)\n          (bn1): BatchNormAct2d(\n            96, eps=1e-05, momentum=0.1, affine=True, track_running_stats=True\n            (drop): Identity()\n            (act): SiLU(inplace=True)\n          )\n          (conv_dw): Conv2d(96, 96, kernel_size=(3, 3), stride=(2, 2), padding=(1, 1), groups=96, bias=False)\n          (bn2): BatchNormAct2d(\n            96, eps=1e-05, momentum=0.1, affine=True, track_running_stats=True\n            (drop): Identity()\n            (act): SiLU(inplace=True)\n          )\n          (se): SqueezeExcite(\n            (conv_reduce): Conv2d(96, 4, kernel_size=(1, 1), stride=(1, 1))\n            (act1): SiLU(inplace=True)\n            (conv_expand): Conv2d(4, 96, kernel_size=(1, 1), stride=(1, 1))\n            (gate): Sigmoid()\n          )\n          (conv_pwl): Conv2d(96, 24, kernel_size=(1, 1), stride=(1, 1), bias=False)\n          (bn3): BatchNormAct2d(\n            24, eps=1e-05, momentum=0.1, affine=True, track_running_stats=True\n            (drop): Identity()\n            (act): Identity()\n          )\n          (drop_path): Identity()\n        )\n        (1): InvertedResidual(\n          (conv_pw): Conv2d(24, 144, kernel_size=(1, 1), stride=(1, 1), bias=False)\n          (bn1): BatchNormAct2d(\n            144, eps=1e-05, momentum=0.1, affine=True, track_running_stats=True\n            (drop): Identity()\n            (act): SiLU(inplace=True)\n          )\n          (conv_dw): Conv2d(144, 144, kernel_size=(3, 3), stride=(1, 1), padding=(1, 1), groups=144, bias=False)\n          (bn2): BatchNormAct2d(\n            144, eps=1e-05, momentum=0.1, affine=True, track_running_stats=True\n            (drop): Identity()\n            (act): SiLU(inplace=True)\n          )\n          (se): SqueezeExcite(\n            (conv_reduce): Conv2d(144, 6, kernel_size=(1, 1), stride=(1, 1))\n            (act1): SiLU(inplace=True)\n            (conv_expand): Conv2d(6, 144, kernel_size=(1, 1), stride=(1, 1))\n            (gate): Sigmoid()\n          )\n          (conv_pwl): Conv2d(144, 24, kernel_size=(1, 1), stride=(1, 1), bias=False)\n          (bn3): BatchNormAct2d(\n            24, eps=1e-05, momentum=0.1, affine=True, track_running_stats=True\n            (drop): Identity()\n            (act): Identity()\n          )\n          (drop_path): Identity()\n        )\n        (2): InvertedResidual(\n          (conv_pw): Conv2d(24, 144, kernel_size=(1, 1), stride=(1, 1), bias=False)\n          (bn1): BatchNormAct2d(\n            144, eps=1e-05, momentum=0.1, affine=True, track_running_stats=True\n            (drop): Identity()\n            (act): SiLU(inplace=True)\n          )\n          (conv_dw): Conv2d(144, 144, kernel_size=(3, 3), stride=(1, 1), padding=(1, 1), groups=144, bias=False)\n          (bn2): BatchNormAct2d(\n            144, eps=1e-05, momentum=0.1, affine=True, track_running_stats=True\n            (drop): Identity()\n            (act): SiLU(inplace=True)\n          )\n          (se): SqueezeExcite(\n            (conv_reduce): Conv2d(144, 6, kernel_size=(1, 1), stride=(1, 1))\n            (act1): SiLU(inplace=True)\n            (conv_expand): Conv2d(6, 144, kernel_size=(1, 1), stride=(1, 1))\n            (gate): Sigmoid()\n          )\n          (conv_pwl): Conv2d(144, 24, kernel_size=(1, 1), stride=(1, 1), bias=False)\n          (bn3): BatchNormAct2d(\n            24, eps=1e-05, momentum=0.1, affine=True, track_running_stats=True\n            (drop): Identity()\n            (act): Identity()\n          )\n          (drop_path): Identity()\n        )\n      )\n      (2): Sequential(\n        (0): InvertedResidual(\n          (conv_pw): Conv2d(24, 144, kernel_size=(1, 1), stride=(1, 1), bias=False)\n          (bn1): BatchNormAct2d(\n            144, eps=1e-05, momentum=0.1, affine=True, track_running_stats=True\n            (drop): Identity()\n            (act): SiLU(inplace=True)\n          )\n          (conv_dw): Conv2d(144, 144, kernel_size=(5, 5), stride=(2, 2), padding=(2, 2), groups=144, bias=False)\n          (bn2): BatchNormAct2d(\n            144, eps=1e-05, momentum=0.1, affine=True, track_running_stats=True\n            (drop): Identity()\n            (act): SiLU(inplace=True)\n          )\n          (se): SqueezeExcite(\n            (conv_reduce): Conv2d(144, 6, kernel_size=(1, 1), stride=(1, 1))\n            (act1): SiLU(inplace=True)\n            (conv_expand): Conv2d(6, 144, kernel_size=(1, 1), stride=(1, 1))\n            (gate): Sigmoid()\n          )\n          (conv_pwl): Conv2d(144, 48, kernel_size=(1, 1), stride=(1, 1), bias=False)\n          (bn3): BatchNormAct2d(\n            48, eps=1e-05, momentum=0.1, affine=True, track_running_stats=True\n            (drop): Identity()\n            (act): Identity()\n          )\n          (drop_path): Identity()\n        )\n        (1): InvertedResidual(\n          (conv_pw): Conv2d(48, 288, kernel_size=(1, 1), stride=(1, 1), bias=False)\n          (bn1): BatchNormAct2d(\n            288, eps=1e-05, momentum=0.1, affine=True, track_running_stats=True\n            (drop): Identity()\n            (act): SiLU(inplace=True)\n          )\n          (conv_dw): Conv2d(288, 288, kernel_size=(5, 5), stride=(1, 1), padding=(2, 2), groups=288, bias=False)\n          (bn2): BatchNormAct2d(\n            288, eps=1e-05, momentum=0.1, affine=True, track_running_stats=True\n            (drop): Identity()\n            (act): SiLU(inplace=True)\n          )\n          (se): SqueezeExcite(\n            (conv_reduce): Conv2d(288, 12, kernel_size=(1, 1), stride=(1, 1))\n            (act1): SiLU(inplace=True)\n            (conv_expand): Conv2d(12, 288, kernel_size=(1, 1), stride=(1, 1))\n            (gate): Sigmoid()\n          )\n          (conv_pwl): Conv2d(288, 48, kernel_size=(1, 1), stride=(1, 1), bias=False)\n          (bn3): BatchNormAct2d(\n            48, eps=1e-05, momentum=0.1, affine=True, track_running_stats=True\n            (drop): Identity()\n            (act): Identity()\n          )\n          (drop_path): Identity()\n        )\n        (2): InvertedResidual(\n          (conv_pw): Conv2d(48, 288, kernel_size=(1, 1), stride=(1, 1), bias=False)\n          (bn1): BatchNormAct2d(\n            288, eps=1e-05, momentum=0.1, affine=True, track_running_stats=True\n            (drop): Identity()\n            (act): SiLU(inplace=True)\n          )\n          (conv_dw): Conv2d(288, 288, kernel_size=(5, 5), stride=(1, 1), padding=(2, 2), groups=288, bias=False)\n          (bn2): BatchNormAct2d(\n            288, eps=1e-05, momentum=0.1, affine=True, track_running_stats=True\n            (drop): Identity()\n            (act): SiLU(inplace=True)\n          )\n          (se): SqueezeExcite(\n            (conv_reduce): Conv2d(288, 12, kernel_size=(1, 1), stride=(1, 1))\n            (act1): SiLU(inplace=True)\n            (conv_expand): Conv2d(12, 288, kernel_size=(1, 1), stride=(1, 1))\n            (gate): Sigmoid()\n          )\n          (conv_pwl): Conv2d(288, 48, kernel_size=(1, 1), stride=(1, 1), bias=False)\n          (bn3): BatchNormAct2d(\n            48, eps=1e-05, momentum=0.1, affine=True, track_running_stats=True\n            (drop): Identity()\n            (act): Identity()\n          )\n          (drop_path): Identity()\n        )\n      )\n      (3): Sequential(\n        (0): InvertedResidual(\n          (conv_pw): Conv2d(48, 288, kernel_size=(1, 1), stride=(1, 1), bias=False)\n          (bn1): BatchNormAct2d(\n            288, eps=1e-05, momentum=0.1, affine=True, track_running_stats=True\n            (drop): Identity()\n            (act): SiLU(inplace=True)\n          )\n          (conv_dw): Conv2d(288, 288, kernel_size=(3, 3), stride=(2, 2), padding=(1, 1), groups=288, bias=False)\n          (bn2): BatchNormAct2d(\n            288, eps=1e-05, momentum=0.1, affine=True, track_running_stats=True\n            (drop): Identity()\n            (act): SiLU(inplace=True)\n          )\n          (se): SqueezeExcite(\n            (conv_reduce): Conv2d(288, 12, kernel_size=(1, 1), stride=(1, 1))\n            (act1): SiLU(inplace=True)\n            (conv_expand): Conv2d(12, 288, kernel_size=(1, 1), stride=(1, 1))\n            (gate): Sigmoid()\n          )\n          (conv_pwl): Conv2d(288, 88, kernel_size=(1, 1), stride=(1, 1), bias=False)\n          (bn3): BatchNormAct2d(\n            88, eps=1e-05, momentum=0.1, affine=True, track_running_stats=True\n            (drop): Identity()\n            (act): Identity()\n          )\n          (drop_path): Identity()\n        )\n        (1): InvertedResidual(\n          (conv_pw): Conv2d(88, 528, kernel_size=(1, 1), stride=(1, 1), bias=False)\n          (bn1): BatchNormAct2d(\n            528, eps=1e-05, momentum=0.1, affine=True, track_running_stats=True\n            (drop): Identity()\n            (act): SiLU(inplace=True)\n          )\n          (conv_dw): Conv2d(528, 528, kernel_size=(3, 3), stride=(1, 1), padding=(1, 1), groups=528, bias=False)\n          (bn2): BatchNormAct2d(\n            528, eps=1e-05, momentum=0.1, affine=True, track_running_stats=True\n            (drop): Identity()\n            (act): SiLU(inplace=True)\n          )\n          (se): SqueezeExcite(\n            (conv_reduce): Conv2d(528, 22, kernel_size=(1, 1), stride=(1, 1))\n            (act1): SiLU(inplace=True)\n            (conv_expand): Conv2d(22, 528, kernel_size=(1, 1), stride=(1, 1))\n            (gate): Sigmoid()\n          )\n          (conv_pwl): Conv2d(528, 88, kernel_size=(1, 1), stride=(1, 1), bias=False)\n          (bn3): BatchNormAct2d(\n            88, eps=1e-05, momentum=0.1, affine=True, track_running_stats=True\n            (drop): Identity()\n            (act): Identity()\n          )\n          (drop_path): Identity()\n        )\n        (2): InvertedResidual(\n          (conv_pw): Conv2d(88, 528, kernel_size=(1, 1), stride=(1, 1), bias=False)\n          (bn1): BatchNormAct2d(\n            528, eps=1e-05, momentum=0.1, affine=True, track_running_stats=True\n            (drop): Identity()\n            (act): SiLU(inplace=True)\n          )\n          (conv_dw): Conv2d(528, 528, kernel_size=(3, 3), stride=(1, 1), padding=(1, 1), groups=528, bias=False)\n          (bn2): BatchNormAct2d(\n            528, eps=1e-05, momentum=0.1, affine=True, track_running_stats=True\n            (drop): Identity()\n            (act): SiLU(inplace=True)\n          )\n          (se): SqueezeExcite(\n            (conv_reduce): Conv2d(528, 22, kernel_size=(1, 1), stride=(1, 1))\n            (act1): SiLU(inplace=True)\n            (conv_expand): Conv2d(22, 528, kernel_size=(1, 1), stride=(1, 1))\n            (gate): Sigmoid()\n          )\n          (conv_pwl): Conv2d(528, 88, kernel_size=(1, 1), stride=(1, 1), bias=False)\n          (bn3): BatchNormAct2d(\n            88, eps=1e-05, momentum=0.1, affine=True, track_running_stats=True\n            (drop): Identity()\n            (act): Identity()\n          )\n          (drop_path): Identity()\n        )\n        (3): InvertedResidual(\n          (conv_pw): Conv2d(88, 528, kernel_size=(1, 1), stride=(1, 1), bias=False)\n          (bn1): BatchNormAct2d(\n            528, eps=1e-05, momentum=0.1, affine=True, track_running_stats=True\n            (drop): Identity()\n            (act): SiLU(inplace=True)\n          )\n          (conv_dw): Conv2d(528, 528, kernel_size=(3, 3), stride=(1, 1), padding=(1, 1), groups=528, bias=False)\n          (bn2): BatchNormAct2d(\n            528, eps=1e-05, momentum=0.1, affine=True, track_running_stats=True\n            (drop): Identity()\n            (act): SiLU(inplace=True)\n          )\n          (se): SqueezeExcite(\n            (conv_reduce): Conv2d(528, 22, kernel_size=(1, 1), stride=(1, 1))\n            (act1): SiLU(inplace=True)\n            (conv_expand): Conv2d(22, 528, kernel_size=(1, 1), stride=(1, 1))\n            (gate): Sigmoid()\n          )\n          (conv_pwl): Conv2d(528, 88, kernel_size=(1, 1), stride=(1, 1), bias=False)\n          (bn3): BatchNormAct2d(\n            88, eps=1e-05, momentum=0.1, affine=True, track_running_stats=True\n            (drop): Identity()\n            (act): Identity()\n          )\n          (drop_path): Identity()\n        )\n      )\n      (4): Sequential(\n        (0): InvertedResidual(\n          (conv_pw): Conv2d(88, 528, kernel_size=(1, 1), stride=(1, 1), bias=False)\n          (bn1): BatchNormAct2d(\n            528, eps=1e-05, momentum=0.1, affine=True, track_running_stats=True\n            (drop): Identity()\n            (act): SiLU(inplace=True)\n          )\n          (conv_dw): Conv2d(528, 528, kernel_size=(5, 5), stride=(1, 1), padding=(2, 2), groups=528, bias=False)\n          (bn2): BatchNormAct2d(\n            528, eps=1e-05, momentum=0.1, affine=True, track_running_stats=True\n            (drop): Identity()\n            (act): SiLU(inplace=True)\n          )\n          (se): SqueezeExcite(\n            (conv_reduce): Conv2d(528, 22, kernel_size=(1, 1), stride=(1, 1))\n            (act1): SiLU(inplace=True)\n            (conv_expand): Conv2d(22, 528, kernel_size=(1, 1), stride=(1, 1))\n            (gate): Sigmoid()\n          )\n          (conv_pwl): Conv2d(528, 120, kernel_size=(1, 1), stride=(1, 1), bias=False)\n          (bn3): BatchNormAct2d(\n            120, eps=1e-05, momentum=0.1, affine=True, track_running_stats=True\n            (drop): Identity()\n            (act): Identity()\n          )\n          (drop_path): Identity()\n        )\n        (1): InvertedResidual(\n          (conv_pw): Conv2d(120, 720, kernel_size=(1, 1), stride=(1, 1), bias=False)\n          (bn1): BatchNormAct2d(\n            720, eps=1e-05, momentum=0.1, affine=True, track_running_stats=True\n            (drop): Identity()\n            (act): SiLU(inplace=True)\n          )\n          (conv_dw): Conv2d(720, 720, kernel_size=(5, 5), stride=(1, 1), padding=(2, 2), groups=720, bias=False)\n          (bn2): BatchNormAct2d(\n            720, eps=1e-05, momentum=0.1, affine=True, track_running_stats=True\n            (drop): Identity()\n            (act): SiLU(inplace=True)\n          )\n          (se): SqueezeExcite(\n            (conv_reduce): Conv2d(720, 30, kernel_size=(1, 1), stride=(1, 1))\n            (act1): SiLU(inplace=True)\n            (conv_expand): Conv2d(30, 720, kernel_size=(1, 1), stride=(1, 1))\n            (gate): Sigmoid()\n          )\n          (conv_pwl): Conv2d(720, 120, kernel_size=(1, 1), stride=(1, 1), bias=False)\n          (bn3): BatchNormAct2d(\n            120, eps=1e-05, momentum=0.1, affine=True, track_running_stats=True\n            (drop): Identity()\n            (act): Identity()\n          )\n          (drop_path): Identity()\n        )\n        (2): InvertedResidual(\n          (conv_pw): Conv2d(120, 720, kernel_size=(1, 1), stride=(1, 1), bias=False)\n          (bn1): BatchNormAct2d(\n            720, eps=1e-05, momentum=0.1, affine=True, track_running_stats=True\n            (drop): Identity()\n            (act): SiLU(inplace=True)\n          )\n          (conv_dw): Conv2d(720, 720, kernel_size=(5, 5), stride=(1, 1), padding=(2, 2), groups=720, bias=False)\n          (bn2): BatchNormAct2d(\n            720, eps=1e-05, momentum=0.1, affine=True, track_running_stats=True\n            (drop): Identity()\n            (act): SiLU(inplace=True)\n          )\n          (se): SqueezeExcite(\n            (conv_reduce): Conv2d(720, 30, kernel_size=(1, 1), stride=(1, 1))\n            (act1): SiLU(inplace=True)\n            (conv_expand): Conv2d(30, 720, kernel_size=(1, 1), stride=(1, 1))\n            (gate): Sigmoid()\n          )\n          (conv_pwl): Conv2d(720, 120, kernel_size=(1, 1), stride=(1, 1), bias=False)\n          (bn3): BatchNormAct2d(\n            120, eps=1e-05, momentum=0.1, affine=True, track_running_stats=True\n            (drop): Identity()\n            (act): Identity()\n          )\n          (drop_path): Identity()\n        )\n        (3): InvertedResidual(\n          (conv_pw): Conv2d(120, 720, kernel_size=(1, 1), stride=(1, 1), bias=False)\n          (bn1): BatchNormAct2d(\n            720, eps=1e-05, momentum=0.1, affine=True, track_running_stats=True\n            (drop): Identity()\n            (act): SiLU(inplace=True)\n          )\n          (conv_dw): Conv2d(720, 720, kernel_size=(5, 5), stride=(1, 1), padding=(2, 2), groups=720, bias=False)\n          (bn2): BatchNormAct2d(\n            720, eps=1e-05, momentum=0.1, affine=True, track_running_stats=True\n            (drop): Identity()\n            (act): SiLU(inplace=True)\n          )\n          (se): SqueezeExcite(\n            (conv_reduce): Conv2d(720, 30, kernel_size=(1, 1), stride=(1, 1))\n            (act1): SiLU(inplace=True)\n            (conv_expand): Conv2d(30, 720, kernel_size=(1, 1), stride=(1, 1))\n            (gate): Sigmoid()\n          )\n          (conv_pwl): Conv2d(720, 120, kernel_size=(1, 1), stride=(1, 1), bias=False)\n          (bn3): BatchNormAct2d(\n            120, eps=1e-05, momentum=0.1, affine=True, track_running_stats=True\n            (drop): Identity()\n            (act): Identity()\n          )\n          (drop_path): Identity()\n        )\n      )\n      (5): Sequential(\n        (0): InvertedResidual(\n          (conv_pw): Conv2d(120, 720, kernel_size=(1, 1), stride=(1, 1), bias=False)\n          (bn1): BatchNormAct2d(\n            720, eps=1e-05, momentum=0.1, affine=True, track_running_stats=True\n            (drop): Identity()\n            (act): SiLU(inplace=True)\n          )\n          (conv_dw): Conv2d(720, 720, kernel_size=(5, 5), stride=(2, 2), padding=(2, 2), groups=720, bias=False)\n          (bn2): BatchNormAct2d(\n            720, eps=1e-05, momentum=0.1, affine=True, track_running_stats=True\n            (drop): Identity()\n            (act): SiLU(inplace=True)\n          )\n          (se): SqueezeExcite(\n            (conv_reduce): Conv2d(720, 30, kernel_size=(1, 1), stride=(1, 1))\n            (act1): SiLU(inplace=True)\n            (conv_expand): Conv2d(30, 720, kernel_size=(1, 1), stride=(1, 1))\n            (gate): Sigmoid()\n          )\n          (conv_pwl): Conv2d(720, 208, kernel_size=(1, 1), stride=(1, 1), bias=False)\n          (bn3): BatchNormAct2d(\n            208, eps=1e-05, momentum=0.1, affine=True, track_running_stats=True\n            (drop): Identity()\n            (act): Identity()\n          )\n          (drop_path): Identity()\n        )\n        (1): InvertedResidual(\n          (conv_pw): Conv2d(208, 1248, kernel_size=(1, 1), stride=(1, 1), bias=False)\n          (bn1): BatchNormAct2d(\n            1248, eps=1e-05, momentum=0.1, affine=True, track_running_stats=True\n            (drop): Identity()\n            (act): SiLU(inplace=True)\n          )\n          (conv_dw): Conv2d(1248, 1248, kernel_size=(5, 5), stride=(1, 1), padding=(2, 2), groups=1248, bias=False)\n          (bn2): BatchNormAct2d(\n            1248, eps=1e-05, momentum=0.1, affine=True, track_running_stats=True\n            (drop): Identity()\n            (act): SiLU(inplace=True)\n          )\n          (se): SqueezeExcite(\n            (conv_reduce): Conv2d(1248, 52, kernel_size=(1, 1), stride=(1, 1))\n            (act1): SiLU(inplace=True)\n            (conv_expand): Conv2d(52, 1248, kernel_size=(1, 1), stride=(1, 1))\n            (gate): Sigmoid()\n          )\n          (conv_pwl): Conv2d(1248, 208, kernel_size=(1, 1), stride=(1, 1), bias=False)\n          (bn3): BatchNormAct2d(\n            208, eps=1e-05, momentum=0.1, affine=True, track_running_stats=True\n            (drop): Identity()\n            (act): Identity()\n          )\n          (drop_path): Identity()\n        )\n        (2): InvertedResidual(\n          (conv_pw): Conv2d(208, 1248, kernel_size=(1, 1), stride=(1, 1), bias=False)\n          (bn1): BatchNormAct2d(\n            1248, eps=1e-05, momentum=0.1, affine=True, track_running_stats=True\n            (drop): Identity()\n            (act): SiLU(inplace=True)\n          )\n          (conv_dw): Conv2d(1248, 1248, kernel_size=(5, 5), stride=(1, 1), padding=(2, 2), groups=1248, bias=False)\n          (bn2): BatchNormAct2d(\n            1248, eps=1e-05, momentum=0.1, affine=True, track_running_stats=True\n            (drop): Identity()\n            (act): SiLU(inplace=True)\n          )\n          (se): SqueezeExcite(\n            (conv_reduce): Conv2d(1248, 52, kernel_size=(1, 1), stride=(1, 1))\n            (act1): SiLU(inplace=True)\n            (conv_expand): Conv2d(52, 1248, kernel_size=(1, 1), stride=(1, 1))\n            (gate): Sigmoid()\n          )\n          (conv_pwl): Conv2d(1248, 208, kernel_size=(1, 1), stride=(1, 1), bias=False)\n          (bn3): BatchNormAct2d(\n            208, eps=1e-05, momentum=0.1, affine=True, track_running_stats=True\n            (drop): Identity()\n            (act): Identity()\n          )\n          (drop_path): Identity()\n        )\n        (3): InvertedResidual(\n          (conv_pw): Conv2d(208, 1248, kernel_size=(1, 1), stride=(1, 1), bias=False)\n          (bn1): BatchNormAct2d(\n            1248, eps=1e-05, momentum=0.1, affine=True, track_running_stats=True\n            (drop): Identity()\n            (act): SiLU(inplace=True)\n          )\n          (conv_dw): Conv2d(1248, 1248, kernel_size=(5, 5), stride=(1, 1), padding=(2, 2), groups=1248, bias=False)\n          (bn2): BatchNormAct2d(\n            1248, eps=1e-05, momentum=0.1, affine=True, track_running_stats=True\n            (drop): Identity()\n            (act): SiLU(inplace=True)\n          )\n          (se): SqueezeExcite(\n            (conv_reduce): Conv2d(1248, 52, kernel_size=(1, 1), stride=(1, 1))\n            (act1): SiLU(inplace=True)\n            (conv_expand): Conv2d(52, 1248, kernel_size=(1, 1), stride=(1, 1))\n            (gate): Sigmoid()\n          )\n          (conv_pwl): Conv2d(1248, 208, kernel_size=(1, 1), stride=(1, 1), bias=False)\n          (bn3): BatchNormAct2d(\n            208, eps=1e-05, momentum=0.1, affine=True, track_running_stats=True\n            (drop): Identity()\n            (act): Identity()\n          )\n          (drop_path): Identity()\n        )\n        (4): InvertedResidual(\n          (conv_pw): Conv2d(208, 1248, kernel_size=(1, 1), stride=(1, 1), bias=False)\n          (bn1): BatchNormAct2d(\n            1248, eps=1e-05, momentum=0.1, affine=True, track_running_stats=True\n            (drop): Identity()\n            (act): SiLU(inplace=True)\n          )\n          (conv_dw): Conv2d(1248, 1248, kernel_size=(5, 5), stride=(1, 1), padding=(2, 2), groups=1248, bias=False)\n          (bn2): BatchNormAct2d(\n            1248, eps=1e-05, momentum=0.1, affine=True, track_running_stats=True\n            (drop): Identity()\n            (act): SiLU(inplace=True)\n          )\n          (se): SqueezeExcite(\n            (conv_reduce): Conv2d(1248, 52, kernel_size=(1, 1), stride=(1, 1))\n            (act1): SiLU(inplace=True)\n            (conv_expand): Conv2d(52, 1248, kernel_size=(1, 1), stride=(1, 1))\n            (gate): Sigmoid()\n          )\n          (conv_pwl): Conv2d(1248, 208, kernel_size=(1, 1), stride=(1, 1), bias=False)\n          (bn3): BatchNormAct2d(\n            208, eps=1e-05, momentum=0.1, affine=True, track_running_stats=True\n            (drop): Identity()\n            (act): Identity()\n          )\n          (drop_path): Identity()\n        )\n      )\n      (6): Sequential(\n        (0): InvertedResidual(\n          (conv_pw): Conv2d(208, 1248, kernel_size=(1, 1), stride=(1, 1), bias=False)\n          (bn1): BatchNormAct2d(\n            1248, eps=1e-05, momentum=0.1, affine=True, track_running_stats=True\n            (drop): Identity()\n            (act): SiLU(inplace=True)\n          )\n          (conv_dw): Conv2d(1248, 1248, kernel_size=(3, 3), stride=(1, 1), padding=(1, 1), groups=1248, bias=False)\n          (bn2): BatchNormAct2d(\n            1248, eps=1e-05, momentum=0.1, affine=True, track_running_stats=True\n            (drop): Identity()\n            (act): SiLU(inplace=True)\n          )\n          (se): SqueezeExcite(\n            (conv_reduce): Conv2d(1248, 52, kernel_size=(1, 1), stride=(1, 1))\n            (act1): SiLU(inplace=True)\n            (conv_expand): Conv2d(52, 1248, kernel_size=(1, 1), stride=(1, 1))\n            (gate): Sigmoid()\n          )\n          (conv_pwl): Conv2d(1248, 352, kernel_size=(1, 1), stride=(1, 1), bias=False)\n          (bn3): BatchNormAct2d(\n            352, eps=1e-05, momentum=0.1, affine=True, track_running_stats=True\n            (drop): Identity()\n            (act): Identity()\n          )\n          (drop_path): Identity()\n        )\n        (1): InvertedResidual(\n          (conv_pw): Conv2d(352, 2112, kernel_size=(1, 1), stride=(1, 1), bias=False)\n          (bn1): BatchNormAct2d(\n            2112, eps=1e-05, momentum=0.1, affine=True, track_running_stats=True\n            (drop): Identity()\n            (act): SiLU(inplace=True)\n          )\n          (conv_dw): Conv2d(2112, 2112, kernel_size=(3, 3), stride=(1, 1), padding=(1, 1), groups=2112, bias=False)\n          (bn2): BatchNormAct2d(\n            2112, eps=1e-05, momentum=0.1, affine=True, track_running_stats=True\n            (drop): Identity()\n            (act): SiLU(inplace=True)\n          )\n          (se): SqueezeExcite(\n            (conv_reduce): Conv2d(2112, 88, kernel_size=(1, 1), stride=(1, 1))\n            (act1): SiLU(inplace=True)\n            (conv_expand): Conv2d(88, 2112, kernel_size=(1, 1), stride=(1, 1))\n            (gate): Sigmoid()\n          )\n          (conv_pwl): Conv2d(2112, 352, kernel_size=(1, 1), stride=(1, 1), bias=False)\n          (bn3): BatchNormAct2d(\n            352, eps=1e-05, momentum=0.1, affine=True, track_running_stats=True\n            (drop): Identity()\n            (act): Identity()\n          )\n          (drop_path): Identity()\n        )\n      )\n    )\n    (conv_head): Conv2d(352, 1408, kernel_size=(1, 1), stride=(1, 1), bias=False)\n    (bn2): BatchNormAct2d(\n      1408, eps=1e-05, momentum=0.1, affine=True, track_running_stats=True\n      (drop): Identity()\n      (act): SiLU(inplace=True)\n    )\n    (global_pool): SelectAdaptivePool2d(pool_type=avg, flatten=Flatten(start_dim=1, end_dim=-1))\n    (classifier): Linear(in_features=1408, out_features=512, bias=True)\n  )\n  (classifier): Sequential(\n    (0): LeakyReLU(negative_slope=0.01)\n    (1): Linear(in_features=512, out_features=50, bias=True)\n  )\n)"
     },
     "execution_count": 30,
     "metadata": {},
     "output_type": "execute_result"
    }
   ],
   "source": [
    "checkpoint = os.path.join(data_path, f'runs/{run_id}/best_model.pt')\n",
    "print(f'CHECKPOINT LOADED: {checkpoint}')\n",
    "infer_model = torch.load(checkpoint)\n",
    "infer_model.to(device)\n",
    "infer_model.eval()"
   ],
   "metadata": {
    "collapsed": false,
    "ExecuteTime": {
     "end_time": "2023-12-14T05:25:43.390892600Z",
     "start_time": "2023-12-14T05:25:43.248341300Z"
    }
   },
   "id": "605d913e0df9b6"
  },
  {
   "cell_type": "code",
   "execution_count": 31,
   "outputs": [
    {
     "name": "stdout",
     "output_type": "stream",
     "text": [
      "Done.\n"
     ]
    }
   ],
   "source": [
    "preds = inference(infer_model, test_loader, device)"
   ],
   "metadata": {
    "collapsed": false,
    "ExecuteTime": {
     "end_time": "2023-12-14T05:27:32.823278600Z",
     "start_time": "2023-12-14T05:25:43.390892600Z"
    }
   },
   "id": "9df29cbb4653101f"
  },
  {
   "cell_type": "code",
   "execution_count": 32,
   "outputs": [],
   "source": [
    "preds = le.inverse_transform(preds)"
   ],
   "metadata": {
    "collapsed": false,
    "ExecuteTime": {
     "end_time": "2023-12-14T05:27:32.870600600Z",
     "start_time": "2023-12-14T05:27:32.823278600Z"
    }
   },
   "id": "37b7f04a0b4de44f"
  },
  {
   "cell_type": "code",
   "execution_count": 33,
   "outputs": [],
   "source": [
    "submit = pd.read_csv(os.path.join(data_path, './sample_submission.csv'))"
   ],
   "metadata": {
    "collapsed": false,
    "ExecuteTime": {
     "end_time": "2023-12-14T05:27:32.870600600Z",
     "start_time": "2023-12-14T05:27:32.838908600Z"
    }
   },
   "id": "fe59292099a9b96e"
  },
  {
   "cell_type": "code",
   "execution_count": 34,
   "outputs": [],
   "source": [
    "submit['artist'] = preds"
   ],
   "metadata": {
    "collapsed": false,
    "ExecuteTime": {
     "end_time": "2023-12-14T05:27:32.870600600Z",
     "start_time": "2023-12-14T05:27:32.854885200Z"
    }
   },
   "id": "8582475a6cb3db6f"
  },
  {
   "cell_type": "code",
   "execution_count": 35,
   "outputs": [
    {
     "data": {
      "text/plain": "           id            artist\n0  TEST_00000       Edgar Degas\n1  TEST_00001  Vincent van Gogh\n2  TEST_00002      Jan van Eyck\n3  TEST_00003   Albrecht Du rer\n4  TEST_00004  Vincent van Gogh",
      "text/html": "<div>\n<style scoped>\n    .dataframe tbody tr th:only-of-type {\n        vertical-align: middle;\n    }\n\n    .dataframe tbody tr th {\n        vertical-align: top;\n    }\n\n    .dataframe thead th {\n        text-align: right;\n    }\n</style>\n<table border=\"1\" class=\"dataframe\">\n  <thead>\n    <tr style=\"text-align: right;\">\n      <th></th>\n      <th>id</th>\n      <th>artist</th>\n    </tr>\n  </thead>\n  <tbody>\n    <tr>\n      <th>0</th>\n      <td>TEST_00000</td>\n      <td>Edgar Degas</td>\n    </tr>\n    <tr>\n      <th>1</th>\n      <td>TEST_00001</td>\n      <td>Vincent van Gogh</td>\n    </tr>\n    <tr>\n      <th>2</th>\n      <td>TEST_00002</td>\n      <td>Jan van Eyck</td>\n    </tr>\n    <tr>\n      <th>3</th>\n      <td>TEST_00003</td>\n      <td>Albrecht Du rer</td>\n    </tr>\n    <tr>\n      <th>4</th>\n      <td>TEST_00004</td>\n      <td>Vincent van Gogh</td>\n    </tr>\n  </tbody>\n</table>\n</div>"
     },
     "execution_count": 35,
     "metadata": {},
     "output_type": "execute_result"
    }
   ],
   "source": [
    "submit.head()"
   ],
   "metadata": {
    "collapsed": false,
    "ExecuteTime": {
     "end_time": "2023-12-14T05:27:32.901610800Z",
     "start_time": "2023-12-14T05:27:32.870600600Z"
    }
   },
   "id": "15bd98c5d6b59bf4"
  },
  {
   "cell_type": "code",
   "execution_count": 36,
   "outputs": [],
   "source": [
    "submit.to_csv(os.path.join(data_path, './submit.csv'), index=False)"
   ],
   "metadata": {
    "collapsed": false,
    "ExecuteTime": {
     "end_time": "2023-12-14T05:27:32.936189600Z",
     "start_time": "2023-12-14T05:27:32.892392900Z"
    }
   },
   "id": "eed3cb0dc59f47f7"
  },
  {
   "cell_type": "code",
   "execution_count": 36,
   "outputs": [],
   "source": [],
   "metadata": {
    "collapsed": false,
    "ExecuteTime": {
     "end_time": "2023-12-14T05:27:32.982018300Z",
     "start_time": "2023-12-14T05:27:32.920487Z"
    }
   },
   "id": "d3ed2b836c4e558b"
  }
 ],
 "metadata": {
  "kernelspec": {
   "display_name": "Python 3",
   "language": "python",
   "name": "python3"
  },
  "language_info": {
   "codemirror_mode": {
    "name": "ipython",
    "version": 2
   },
   "file_extension": ".py",
   "mimetype": "text/x-python",
   "name": "python",
   "nbconvert_exporter": "python",
   "pygments_lexer": "ipython2",
   "version": "2.7.6"
  }
 },
 "nbformat": 4,
 "nbformat_minor": 5
}
