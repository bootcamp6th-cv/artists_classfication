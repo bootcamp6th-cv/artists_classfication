{
 "cells": [
  {
   "cell_type": "markdown",
   "source": [
    "#  tta - softmax\n",
    "* models\n",
    "    - vit\n",
    "    - efficient\n",
    "    - caformer\n",
    "- kfold\n",
    "- tta\n",
    "- softmax\n",
    "* result\n",
    "    - tta5\n",
    "    - public 점수 : 0.8594621943\n",
    "    - private 점수 : 0.8645531517\n",
    "    - tta7 \n",
    "    - public 점수 : \n",
    "    - private 점수 :"
   ],
   "metadata": {
    "collapsed": false
   },
   "id": "b07a70c872e87df8"
  },
  {
   "cell_type": "code",
   "execution_count": 1,
   "outputs": [],
   "source": [
    "import gc\n",
    "import os\n",
    "import random\n",
    "from datetime import datetime\n",
    "\n",
    "import pandas as pd\n",
    "import numpy as np\n",
    "import matplotlib.pyplot as plt\n",
    "import seaborn as sns\n",
    "import cv2\n",
    "\n",
    "from sklearn import preprocessing\n",
    "from sklearn.model_selection import train_test_split, StratifiedKFold\n",
    "from sklearn.metrics import f1_score\n",
    "\n",
    "import torch\n",
    "import torch.nn as nn\n",
    "import torch.optim as optim\n",
    "import torch.nn.functional as F\n",
    "from torch.utils.data import Dataset, DataLoader\n",
    "\n",
    "from tqdm.auto import tqdm\n",
    "\n",
    "import albumentations as A\n",
    "from albumentations.pytorch.transforms import ToTensorV2\n",
    "\n",
    "import timm\n",
    "\n",
    "import warnings\n",
    "warnings.filterwarnings(action='ignore') "
   ],
   "metadata": {
    "collapsed": false,
    "ExecuteTime": {
     "end_time": "2023-12-28T09:57:36.370064Z",
     "start_time": "2023-12-28T09:57:33.541387700Z"
    }
   },
   "id": "initial_id"
  },
  {
   "cell_type": "code",
   "execution_count": 2,
   "outputs": [],
   "source": [
    "device = torch.device('cuda') if torch.cuda.is_available() else torch.device('cpu')"
   ],
   "metadata": {
    "collapsed": false,
    "ExecuteTime": {
     "end_time": "2023-12-28T09:57:36.409464400Z",
     "start_time": "2023-12-28T09:57:36.369064200Z"
    }
   },
   "id": "5fc1ff58a4a9d6d1"
  },
  {
   "cell_type": "code",
   "execution_count": 3,
   "outputs": [],
   "source": [
    "CFG = {\n",
    "    'IMG_SIZE_VIT': 260,\n",
    "    'IMG_SIZE_EFFICIENT': 300,\n",
    "    'IMG_SIZE_CAFORMER': 272,\n",
    "    'BATCH_SIZE': 16,\n",
    "    'K-FOLD': 5,\n",
    "    'NUM_TTA': 5,\n",
    "    'FILENAME': 'tta5_softmax',\n",
    "    'SEED': 6\n",
    "}"
   ],
   "metadata": {
    "collapsed": false,
    "ExecuteTime": {
     "end_time": "2023-12-28T09:57:36.420006Z",
     "start_time": "2023-12-28T09:57:36.400955900Z"
    }
   },
   "id": "5c99354cb0d52004"
  },
  {
   "cell_type": "code",
   "execution_count": 4,
   "outputs": [],
   "source": [
    "def seed_everything(seed):\n",
    "    random.seed(seed)\n",
    "    os.environ['PYTHONHASHSEED'] = str(seed)\n",
    "    np.random.seed(seed)\n",
    "    torch.manual_seed(seed)\n",
    "    torch.cuda.manual_seed(seed)\n",
    "    torch.cuda.manual_seed_all(seed)\n",
    "    torch.backends.cudnn.deterministic = True\n",
    "    torch.backends.cudnn.benchmark = False\n",
    "\n",
    "seed_everything(CFG['SEED']) # Seed 고정"
   ],
   "metadata": {
    "collapsed": false,
    "ExecuteTime": {
     "end_time": "2023-12-28T09:57:36.429514800Z",
     "start_time": "2023-12-28T09:57:36.418004400Z"
    }
   },
   "id": "57142b16a76126df"
  },
  {
   "cell_type": "code",
   "execution_count": 5,
   "outputs": [],
   "source": [
    "running_colab = 'google.colab' in str(get_ipython()) if hasattr(__builtins__,'__IPYTHON__') else False\n",
    "if running_colab:\n",
    "    from google.colab import drive\n",
    "    drive.mount('/content/drive')\n",
    "if running_colab:\n",
    "    data_path = '/content/drive/MyDrive/Colab Notebooks/ai6th/data/optiver/'\n",
    "else:\n",
    "    data_path = '../../data/'"
   ],
   "metadata": {
    "collapsed": false,
    "ExecuteTime": {
     "end_time": "2023-12-28T09:57:36.460682500Z",
     "start_time": "2023-12-28T09:57:36.430514400Z"
    }
   },
   "id": "858b421c8c479378"
  },
  {
   "cell_type": "code",
   "execution_count": 6,
   "outputs": [
    {
     "data": {
      "text/plain": "   id          img_path            artist\n0   0  ./train/0000.jpg   Diego Velazquez\n1   1  ./train/0001.jpg  Vincent van Gogh\n2   2  ./train/0002.jpg      Claude Monet\n3   3  ./train/0003.jpg       Edgar Degas\n4   4  ./train/0004.jpg  Hieronymus Bosch",
      "text/html": "<div>\n<style scoped>\n    .dataframe tbody tr th:only-of-type {\n        vertical-align: middle;\n    }\n\n    .dataframe tbody tr th {\n        vertical-align: top;\n    }\n\n    .dataframe thead th {\n        text-align: right;\n    }\n</style>\n<table border=\"1\" class=\"dataframe\">\n  <thead>\n    <tr style=\"text-align: right;\">\n      <th></th>\n      <th>id</th>\n      <th>img_path</th>\n      <th>artist</th>\n    </tr>\n  </thead>\n  <tbody>\n    <tr>\n      <th>0</th>\n      <td>0</td>\n      <td>./train/0000.jpg</td>\n      <td>Diego Velazquez</td>\n    </tr>\n    <tr>\n      <th>1</th>\n      <td>1</td>\n      <td>./train/0001.jpg</td>\n      <td>Vincent van Gogh</td>\n    </tr>\n    <tr>\n      <th>2</th>\n      <td>2</td>\n      <td>./train/0002.jpg</td>\n      <td>Claude Monet</td>\n    </tr>\n    <tr>\n      <th>3</th>\n      <td>3</td>\n      <td>./train/0003.jpg</td>\n      <td>Edgar Degas</td>\n    </tr>\n    <tr>\n      <th>4</th>\n      <td>4</td>\n      <td>./train/0004.jpg</td>\n      <td>Hieronymus Bosch</td>\n    </tr>\n  </tbody>\n</table>\n</div>"
     },
     "execution_count": 6,
     "metadata": {},
     "output_type": "execute_result"
    }
   ],
   "source": [
    "df = pd.read_csv(os.path.join(data_path, 'train.csv'))\n",
    "df.loc[3896, 'artist'] = 'Titian'\n",
    "df.loc[3986, 'artist'] = 'Alfred Sisley'\n",
    "df.head()"
   ],
   "metadata": {
    "collapsed": false,
    "ExecuteTime": {
     "end_time": "2023-12-28T09:57:36.481216Z",
     "start_time": "2023-12-28T09:57:36.448173200Z"
    }
   },
   "id": "60ed6dfb973bafc5"
  },
  {
   "cell_type": "code",
   "execution_count": 7,
   "outputs": [],
   "source": [
    "# Label Encoding\n",
    "le = preprocessing.LabelEncoder()\n",
    "df['artist'] = le.fit_transform(df['artist'].values)"
   ],
   "metadata": {
    "collapsed": false,
    "ExecuteTime": {
     "end_time": "2023-12-28T09:57:36.507023800Z",
     "start_time": "2023-12-28T09:57:36.476218100Z"
    }
   },
   "id": "2ae8b183518c9394"
  },
  {
   "cell_type": "code",
   "execution_count": 8,
   "outputs": [],
   "source": [
    "def get_data(df, infer=False):\n",
    "    if infer:\n",
    "        return df['img_path'].apply(lambda p: os.path.join(data_path, p)).values\n",
    "    return df['img_path'].apply(lambda p: os.path.join(data_path, p)).values, df['artist'].values"
   ],
   "metadata": {
    "collapsed": false,
    "ExecuteTime": {
     "end_time": "2023-12-28T09:57:36.533967Z",
     "start_time": "2023-12-28T09:57:36.494493600Z"
    }
   },
   "id": "db002acff51c03bd"
  },
  {
   "cell_type": "code",
   "execution_count": 9,
   "outputs": [],
   "source": [
    "from torchvision.transforms import ToTensor\n",
    "\n",
    "\n",
    "class CustomDataset(Dataset):\n",
    "    def __init__(self, img_paths, labels, transforms=None):\n",
    "        self.img_paths = img_paths\n",
    "        self.labels = labels\n",
    "        self.transforms = transforms if transforms else ToTensor()\n",
    "\n",
    "    def __getitem__(self, index):\n",
    "        img_path = self.img_paths[index]\n",
    "        image = cv2.imread(img_path)\n",
    "        image = cv2.cvtColor(image, cv2.COLOR_BGR2RGB)\n",
    "        image = self.transforms(image=image)['image']\n",
    "        \n",
    "        if self.labels is not None:\n",
    "            label = self.labels[index]\n",
    "            return image, label\n",
    "        else:\n",
    "            return image\n",
    "    \n",
    "    def __len__(self):\n",
    "        return len(self.img_paths)"
   ],
   "metadata": {
    "collapsed": false,
    "ExecuteTime": {
     "end_time": "2023-12-28T09:57:36.564042Z",
     "start_time": "2023-12-28T09:57:36.511023100Z"
    }
   },
   "id": "daa8f5c45d3e6316"
  },
  {
   "cell_type": "code",
   "execution_count": 10,
   "outputs": [],
   "source": [
    "train_transform_vit = A.Compose([\n",
    "    A.Resize(CFG['IMG_SIZE_VIT']*2,CFG['IMG_SIZE_VIT']*2),\n",
    "    A.RandomCrop(CFG['IMG_SIZE_VIT'],CFG['IMG_SIZE_VIT']),\n",
    "    A.Transpose(p=0.5), # 행렬 스왑\n",
    "    A.HorizontalFlip(p=0.5), # 좌우 반전\n",
    "    A.VerticalFlip(p=0.5), # 상하 반전\n",
    "    A.ShiftScaleRotate(p=0.5), # 랜덤하게 옮기고, scale, 회전\n",
    "    A.HueSaturationValue(hue_shift_limit=20, sat_shift_limit=20, val_shift_limit=20, p=0.5), # 빛깔, 색조, 값 변환\n",
    "    A.RandomBrightnessContrast(brightness_limit=(-0.1,0.1), contrast_limit=(-0.1, 0.1), p=0.5), # 명도 대비\n",
    "    A.ChannelShuffle(), # RGB 채널 간 shuffle\n",
    "    A.Normalize(mean=(0.485, 0.456, 0.406), std=(0.229, 0.224, 0.225), max_pixel_value=255.0, always_apply=False, p=1.0),\n",
    "    ToTensorV2()\n",
    "])\n",
    "\n",
    "test_transform_vit = A.Compose([\n",
    "    A.Resize(CFG['IMG_SIZE_VIT'],CFG['IMG_SIZE_VIT']),\n",
    "    A.Transpose(p=0.5), # 행렬 스왑\n",
    "    A.HorizontalFlip(p=0.5), # 좌우 반전\n",
    "    A.VerticalFlip(p=0.5), # 상하 반전\n",
    "    A.ShiftScaleRotate(p=0.5), # 랜덤하게 옮기고, scale, 회전\n",
    "    A.HueSaturationValue(hue_shift_limit=20, sat_shift_limit=20, val_shift_limit=20, p=0.5), # 빛깔, 색조, 값 변환\n",
    "    A.RandomBrightnessContrast(brightness_limit=(-0.1,0.1), contrast_limit=(-0.1, 0.1), p=0.5), # 명도 대비\n",
    "    A.ChannelShuffle(), # RGB 채널 간 shuffle\n",
    "    A.Normalize(mean=(0.485, 0.456, 0.406), std=(0.229, 0.224, 0.225), max_pixel_value=255.0, always_apply=False, p=1.0),\n",
    "    ToTensorV2()\n",
    "])"
   ],
   "metadata": {
    "collapsed": false,
    "ExecuteTime": {
     "end_time": "2023-12-28T09:57:36.595442300Z",
     "start_time": "2023-12-28T09:57:36.528460200Z"
    }
   },
   "id": "b3fe95b41eeff11d"
  },
  {
   "cell_type": "code",
   "execution_count": 11,
   "outputs": [],
   "source": [
    "train_transform_efficient = A.Compose([\n",
    "    A.Resize(CFG['IMG_SIZE_EFFICIENT']*2,CFG['IMG_SIZE_EFFICIENT']*2),\n",
    "    A.RandomCrop(CFG['IMG_SIZE_EFFICIENT'],CFG['IMG_SIZE_EFFICIENT']),\n",
    "    A.Transpose(p=0.5), # 행렬 스왑\n",
    "    A.HorizontalFlip(p=0.5), # 좌우 반전\n",
    "    A.VerticalFlip(p=0.5), # 상하 반전\n",
    "    A.Normalize(mean=(0.485, 0.456, 0.406), std=(0.229, 0.224, 0.225), max_pixel_value=255.0, always_apply=False, p=1.0),\n",
    "    A.CoarseDropout(p=0.5),\n",
    "    ToTensorV2()\n",
    "])\n",
    "\n",
    "test_transform_efficient = A.Compose([\n",
    "    A.Resize(CFG['IMG_SIZE_EFFICIENT'],CFG['IMG_SIZE_EFFICIENT']),\n",
    "    A.Transpose(p=0.5), # 행렬 스왑\n",
    "    A.HorizontalFlip(p=0.5), # 좌우 반전\n",
    "    A.VerticalFlip(p=0.5), # 상하 반전\n",
    "    A.Normalize(mean=(0.485, 0.456, 0.406), std=(0.229, 0.224, 0.225), max_pixel_value=255.0, always_apply=False, p=1.0),\n",
    "    A.CoarseDropout(p=0.5),\n",
    "    ToTensorV2()\n",
    "])"
   ],
   "metadata": {
    "collapsed": false,
    "ExecuteTime": {
     "end_time": "2023-12-28T09:57:36.595442300Z",
     "start_time": "2023-12-28T09:57:36.543481800Z"
    }
   },
   "id": "39b2eac6616de7e"
  },
  {
   "cell_type": "code",
   "execution_count": 12,
   "outputs": [],
   "source": [
    "train_transform_caformer = A.Compose([\n",
    "    A.Resize(CFG['IMG_SIZE_CAFORMER']*2,CFG['IMG_SIZE_CAFORMER']*2),\n",
    "    A.RandomCrop(CFG['IMG_SIZE_CAFORMER'],CFG['IMG_SIZE_CAFORMER']),\n",
    "    A.Transpose(p=0.5), # 행렬 스왑\n",
    "    A.HorizontalFlip(p=0.5), # 좌우 반전\n",
    "    A.VerticalFlip(p=0.5), # 상하 반전\n",
    "    A.Normalize(mean=(0.485, 0.456, 0.406), std=(0.229, 0.224, 0.225), max_pixel_value=255.0, always_apply=False, p=1.0),\n",
    "    A.CoarseDropout(p=0.5),\n",
    "    ToTensorV2()\n",
    "])\n",
    "\n",
    "test_transform_caformer = A.Compose([\n",
    "    A.Resize(CFG['IMG_SIZE_CAFORMER'],CFG['IMG_SIZE_CAFORMER']),\n",
    "    A.Transpose(p=0.5), # 행렬 스왑\n",
    "    A.HorizontalFlip(p=0.5), # 좌우 반전\n",
    "    A.VerticalFlip(p=0.5), # 상하 반전\n",
    "    A.Normalize(mean=(0.485, 0.456, 0.406), std=(0.229, 0.224, 0.225), max_pixel_value=255.0, always_apply=False, p=1.0),\n",
    "    A.CoarseDropout(p=0.5),\n",
    "    ToTensorV2()\n",
    "])"
   ],
   "metadata": {
    "collapsed": false,
    "ExecuteTime": {
     "end_time": "2023-12-28T09:57:36.596444700Z",
     "start_time": "2023-12-28T09:57:36.557535100Z"
    }
   },
   "id": "17b5b770a5fb4839"
  },
  {
   "cell_type": "code",
   "execution_count": 13,
   "outputs": [
    {
     "data": {
      "text/plain": "<torch._C.Generator at 0x18afdd1de10>"
     },
     "execution_count": 13,
     "metadata": {},
     "output_type": "execute_result"
    }
   ],
   "source": [
    "def seed_worker(worker_id):\n",
    "    worker_seed = torch.initial_seed() % 2 ** 32\n",
    "    np.random.seed(worker_seed)\n",
    "    random.seed(worker_seed)\n",
    "g = torch.Generator()\n",
    "g.manual_seed(0)"
   ],
   "metadata": {
    "collapsed": false,
    "ExecuteTime": {
     "end_time": "2023-12-28T09:57:36.597442700Z",
     "start_time": "2023-12-28T09:57:36.570042400Z"
    }
   },
   "id": "c69fe868589b1093"
  },
  {
   "cell_type": "code",
   "execution_count": 14,
   "outputs": [],
   "source": [
    "class VitModel(nn.Module):\n",
    "    def __init__(self, num_classes=len(le.classes_)):\n",
    "        super(VitModel, self).__init__()\n",
    "        self.backbone = timm.create_model('tiny_vit_21m_384.dist_in22k_ft_in1k', pretrained=True, num_classes=0)\n",
    "        self.classifier = nn.Sequential(\n",
    "            nn.LayerNorm(576),\n",
    "            nn.GELU(),\n",
    "            nn.Dropout(p=0.4),\n",
    "            nn.Linear(576, num_classes)\n",
    "        )\n",
    "            \n",
    "    def forward(self, x):\n",
    "        x = self.backbone(x)\n",
    "        x = self.classifier(x)\n",
    "        return x"
   ],
   "metadata": {
    "collapsed": false,
    "ExecuteTime": {
     "end_time": "2023-12-28T09:57:36.599442500Z",
     "start_time": "2023-12-28T09:57:36.585081300Z"
    }
   },
   "id": "642a8d2bdc18ab96"
  },
  {
   "cell_type": "code",
   "execution_count": 15,
   "outputs": [],
   "source": [
    "class EfficientNetModel(nn.Module):\n",
    "    def __init__(self, num_classes=len(le.classes_)):\n",
    "        super(EfficientNetModel, self).__init__()\n",
    "        self.backbone = timm.create_model('efficientnet_b3', pretrained=True, num_classes=512)\n",
    "        self.classifier = nn.Sequential(\n",
    "            nn.LayerNorm(512),\n",
    "            nn.GELU(),\n",
    "            nn.Dropout(p=0.4),\n",
    "            nn.Linear(512, num_classes)\n",
    "        )\n",
    "\n",
    "    def forward(self, x):\n",
    "        x = self.backbone(x)\n",
    "        x = self.classifier(x)\n",
    "        return x"
   ],
   "metadata": {
    "collapsed": false,
    "ExecuteTime": {
     "end_time": "2023-12-28T09:57:36.620762700Z",
     "start_time": "2023-12-28T09:57:36.601443700Z"
    }
   },
   "id": "ec6aaed6e50ff183"
  },
  {
   "cell_type": "code",
   "execution_count": 16,
   "outputs": [],
   "source": [
    "class CAFormerModel(nn.Module):\n",
    "    def __init__(self, num_classes=len(le.classes_)):\n",
    "        super(CAFormerModel, self).__init__()\n",
    "        self.backbone = timm.create_model('caformer_s18.sail_in22k_ft_in1k_384', pretrained=True, num_classes=0)\n",
    "        self.classifier = nn.Sequential(\n",
    "            nn.LayerNorm(512),\n",
    "            nn.GELU(),\n",
    "            nn.Dropout(p=0.4),\n",
    "            nn.Linear(512, num_classes)\n",
    "        )\n",
    "            \n",
    "    def forward(self, x):\n",
    "        x = self.backbone(x)\n",
    "        x = self.classifier(x)\n",
    "        return x"
   ],
   "metadata": {
    "collapsed": false,
    "ExecuteTime": {
     "end_time": "2023-12-28T09:57:36.672200500Z",
     "start_time": "2023-12-28T09:57:36.615471Z"
    }
   },
   "id": "cd5ecc94fada5c8b"
  },
  {
   "cell_type": "code",
   "execution_count": 17,
   "outputs": [],
   "source": [
    "def clear_mem():\n",
    "    gc.collect()\n",
    "    torch.cuda.empty_cache()"
   ],
   "metadata": {
    "collapsed": false,
    "ExecuteTime": {
     "end_time": "2023-12-28T09:57:36.682103400Z",
     "start_time": "2023-12-28T09:57:36.629273600Z"
    }
   },
   "id": "ecce2baec16e71e7"
  },
  {
   "cell_type": "code",
   "execution_count": 18,
   "outputs": [
    {
     "name": "stdout",
     "output_type": "stream",
     "text": [
      "time_now=datetime.datetime(2023, 12, 28, 18, 57, 36, 644126)\n"
     ]
    }
   ],
   "source": [
    "time_now = datetime.now()\n",
    "print(f'{time_now=}')"
   ],
   "metadata": {
    "collapsed": false,
    "ExecuteTime": {
     "end_time": "2023-12-28T09:57:36.683208400Z",
     "start_time": "2023-12-28T09:57:36.647130300Z"
    }
   },
   "id": "17fc703a3126967"
  },
  {
   "cell_type": "code",
   "execution_count": 19,
   "outputs": [
    {
     "data": {
      "text/plain": "           id               img_path\n0  TEST_00000  ./test/TEST_00000.jpg\n1  TEST_00001  ./test/TEST_00001.jpg\n2  TEST_00002  ./test/TEST_00002.jpg\n3  TEST_00003  ./test/TEST_00003.jpg\n4  TEST_00004  ./test/TEST_00004.jpg",
      "text/html": "<div>\n<style scoped>\n    .dataframe tbody tr th:only-of-type {\n        vertical-align: middle;\n    }\n\n    .dataframe tbody tr th {\n        vertical-align: top;\n    }\n\n    .dataframe thead th {\n        text-align: right;\n    }\n</style>\n<table border=\"1\" class=\"dataframe\">\n  <thead>\n    <tr style=\"text-align: right;\">\n      <th></th>\n      <th>id</th>\n      <th>img_path</th>\n    </tr>\n  </thead>\n  <tbody>\n    <tr>\n      <th>0</th>\n      <td>TEST_00000</td>\n      <td>./test/TEST_00000.jpg</td>\n    </tr>\n    <tr>\n      <th>1</th>\n      <td>TEST_00001</td>\n      <td>./test/TEST_00001.jpg</td>\n    </tr>\n    <tr>\n      <th>2</th>\n      <td>TEST_00002</td>\n      <td>./test/TEST_00002.jpg</td>\n    </tr>\n    <tr>\n      <th>3</th>\n      <td>TEST_00003</td>\n      <td>./test/TEST_00003.jpg</td>\n    </tr>\n    <tr>\n      <th>4</th>\n      <td>TEST_00004</td>\n      <td>./test/TEST_00004.jpg</td>\n    </tr>\n  </tbody>\n</table>\n</div>"
     },
     "execution_count": 19,
     "metadata": {},
     "output_type": "execute_result"
    }
   ],
   "source": [
    "test_df = pd.read_csv(os.path.join(data_path, './test.csv'))\n",
    "test_df.head()"
   ],
   "metadata": {
    "collapsed": false,
    "ExecuteTime": {
     "end_time": "2023-12-28T09:57:36.700949600Z",
     "start_time": "2023-12-28T09:57:36.661118600Z"
    }
   },
   "id": "9c8fff1a450556ec"
  },
  {
   "cell_type": "code",
   "execution_count": 20,
   "outputs": [],
   "source": [
    "test_img_paths = get_data(test_df, infer=True)"
   ],
   "metadata": {
    "collapsed": false,
    "ExecuteTime": {
     "end_time": "2023-12-28T09:57:36.779581700Z",
     "start_time": "2023-12-28T09:57:36.722480600Z"
    }
   },
   "id": "6a50c39d21de27ed"
  },
  {
   "cell_type": "code",
   "execution_count": 21,
   "outputs": [],
   "source": [
    "test_dataset_vit = CustomDataset(test_img_paths, None, test_transform_vit)\n",
    "test_loader_vit = DataLoader(test_dataset_vit, batch_size=CFG['BATCH_SIZE'], shuffle=False, num_workers=0)"
   ],
   "metadata": {
    "collapsed": false,
    "ExecuteTime": {
     "end_time": "2023-12-28T09:57:36.808134100Z",
     "start_time": "2023-12-28T09:57:36.739264700Z"
    }
   },
   "id": "66859c2e35131aae"
  },
  {
   "cell_type": "code",
   "execution_count": 22,
   "outputs": [],
   "source": [
    "test_dataset_efficient = CustomDataset(test_img_paths, None, test_transform_efficient)\n",
    "test_loader_efficient = DataLoader(test_dataset_efficient, batch_size=CFG['BATCH_SIZE'], shuffle=False, num_workers=0)"
   ],
   "metadata": {
    "collapsed": false,
    "ExecuteTime": {
     "end_time": "2023-12-28T09:57:36.840596500Z",
     "start_time": "2023-12-28T09:57:36.755004Z"
    }
   },
   "id": "94e7ad2159a4964c"
  },
  {
   "cell_type": "code",
   "execution_count": 23,
   "outputs": [],
   "source": [
    "test_dataset_caformer = CustomDataset(test_img_paths, None, test_transform_caformer)\n",
    "test_loader_caformer = DataLoader(test_dataset_caformer, batch_size=CFG['BATCH_SIZE'], shuffle=False, num_workers=0)"
   ],
   "metadata": {
    "collapsed": false,
    "ExecuteTime": {
     "end_time": "2023-12-28T09:57:36.847613900Z",
     "start_time": "2023-12-28T09:57:36.769070800Z"
    }
   },
   "id": "c79bfdf6bbf78401"
  },
  {
   "cell_type": "code",
   "execution_count": 24,
   "outputs": [],
   "source": [
    "def inference(model, test_loader, device):\n",
    "    model.to(device)\n",
    "    model.eval()\n",
    "    \n",
    "    model_preds = []\n",
    "    \n",
    "    with torch.no_grad():\n",
    "        for idx, img in enumerate(test_loader):\n",
    "            img = img.float().to(device)\n",
    "            \n",
    "            model_pred = model(img).detach().cpu()\n",
    "            model_pred = F.softmax(model_pred, dim=1)\n",
    "            model_preds.extend(model_pred.numpy().tolist())\n",
    "    \n",
    "    print('Done.')\n",
    "    return model_preds"
   ],
   "metadata": {
    "collapsed": false,
    "ExecuteTime": {
     "end_time": "2023-12-28T09:57:36.848619100Z",
     "start_time": "2023-12-28T09:57:36.783097400Z"
    }
   },
   "id": "60aba723872ee62e"
  },
  {
   "cell_type": "code",
   "execution_count": 25,
   "outputs": [
    {
     "name": "stdout",
     "output_type": "stream",
     "text": [
      "0-fold CHECKPOINT LOADED: ../../data/runs/kfold_vit/best_model_0.pt\n",
      "Done.\n",
      "Done.\n",
      "Done.\n",
      "Done.\n",
      "Done.\n",
      "1-fold CHECKPOINT LOADED: ../../data/runs/kfold_vit/best_model_1.pt\n",
      "Done.\n",
      "Done.\n",
      "Done.\n",
      "Done.\n",
      "Done.\n",
      "2-fold CHECKPOINT LOADED: ../../data/runs/kfold_vit/best_model_2.pt\n",
      "Done.\n",
      "Done.\n",
      "Done.\n",
      "Done.\n",
      "Done.\n",
      "3-fold CHECKPOINT LOADED: ../../data/runs/kfold_vit/best_model_3.pt\n",
      "Done.\n",
      "Done.\n",
      "Done.\n",
      "Done.\n",
      "Done.\n",
      "4-fold CHECKPOINT LOADED: ../../data/runs/kfold_vit/best_model_4.pt\n",
      "Done.\n",
      "Done.\n",
      "Done.\n",
      "Done.\n",
      "Done.\n",
      "0-fold CHECKPOINT LOADED: ../../data/runs/kfold_efficientnet/best_model_0.pt\n",
      "Done.\n",
      "Done.\n",
      "Done.\n",
      "Done.\n",
      "Done.\n",
      "1-fold CHECKPOINT LOADED: ../../data/runs/kfold_efficientnet/best_model_1.pt\n",
      "Done.\n",
      "Done.\n",
      "Done.\n",
      "Done.\n",
      "Done.\n",
      "2-fold CHECKPOINT LOADED: ../../data/runs/kfold_efficientnet/best_model_2.pt\n",
      "Done.\n",
      "Done.\n",
      "Done.\n",
      "Done.\n",
      "Done.\n",
      "3-fold CHECKPOINT LOADED: ../../data/runs/kfold_efficientnet/best_model_3.pt\n",
      "Done.\n",
      "Done.\n",
      "Done.\n",
      "Done.\n",
      "Done.\n",
      "4-fold CHECKPOINT LOADED: ../../data/runs/kfold_efficientnet/best_model_4.pt\n",
      "Done.\n",
      "Done.\n",
      "Done.\n",
      "Done.\n",
      "Done.\n",
      "0-fold CHECKPOINT LOADED: ../../data/runs/kfold_caformer/best_model_0.pt\n",
      "Done.\n",
      "Done.\n",
      "Done.\n",
      "Done.\n",
      "Done.\n",
      "1-fold CHECKPOINT LOADED: ../../data/runs/kfold_caformer/best_model_1.pt\n",
      "Done.\n",
      "Done.\n",
      "Done.\n",
      "Done.\n",
      "Done.\n",
      "2-fold CHECKPOINT LOADED: ../../data/runs/kfold_caformer/best_model_2.pt\n",
      "Done.\n",
      "Done.\n",
      "Done.\n",
      "Done.\n",
      "Done.\n",
      "3-fold CHECKPOINT LOADED: ../../data/runs/kfold_caformer/best_model_3.pt\n",
      "Done.\n",
      "Done.\n",
      "Done.\n",
      "Done.\n",
      "Done.\n",
      "4-fold CHECKPOINT LOADED: ../../data/runs/kfold_caformer/best_model_4.pt\n",
      "Done.\n",
      "Done.\n",
      "Done.\n",
      "Done.\n",
      "Done.\n"
     ]
    }
   ],
   "source": [
    "preds_tta = np.zeros((len(test_df), len(le.classes_)))\n",
    "test_targets = [\n",
    "    (test_loader_vit, 'kfold_vit'),\n",
    "    (test_loader_efficient, 'kfold_efficientnet'),\n",
    "    (test_loader_caformer, 'kfold_caformer')\n",
    "]\n",
    "for loader, run_id in test_targets:\n",
    "    kfold_sum = torch.zeros((len(test_df), len(le.classes_)))\n",
    "    for k_ in range(CFG['K-FOLD']):\n",
    "        checkpoint = os.path.join(data_path, f'runs/{run_id}/best_model_{k_}.pt')\n",
    "        print(f'{k_}-fold CHECKPOINT LOADED: {checkpoint}')\n",
    "        infer_model = torch.load(checkpoint)\n",
    "        tta_sum = torch.zeros((len(test_df), len(le.classes_)))\n",
    "        for t_ in range(CFG['NUM_TTA']):\n",
    "            tta_sum += torch.tensor(inference(infer_model, loader, device))\n",
    "        kfold_sum += F.softmax(tta_sum, dim=1).numpy()\n",
    "    preds_tta += F.softmax(kfold_sum, dim=1).numpy()"
   ],
   "metadata": {
    "collapsed": false,
    "ExecuteTime": {
     "end_time": "2023-12-28T12:00:24.317442500Z",
     "start_time": "2023-12-28T09:57:36.802128500Z"
    }
   },
   "id": "eb268f8a50f8f1ff"
  },
  {
   "cell_type": "code",
   "execution_count": 26,
   "outputs": [
    {
     "data": {
      "text/plain": "array([[0.04398669, 0.04400678, 0.04399193, 0.04399704, 0.04398567,\n        0.04398824, 0.04399436, 0.04399438, 0.04398386, 0.04406886,\n        0.83921012, 0.04415104, 0.0439964 , 0.04398735, 0.0439853 ,\n        0.04406783, 0.04398738, 0.04398506, 0.04402718, 0.04402463,\n        0.0439966 , 0.0439871 , 0.04399133, 0.04399321, 0.04400742,\n        0.04398387, 0.04410351, 0.04398458, 0.04399328, 0.04399741,\n        0.04400587, 0.04398545, 0.04400689, 0.0442865 , 0.04398499,\n        0.0440208 , 0.04399662, 0.04398762, 0.04401939, 0.04398803,\n        0.04408197, 0.04401067, 0.04408603, 0.04400805, 0.04400722,\n        0.04403004, 0.04461749, 0.0439888 , 0.04744006, 0.04398897],\n       [0.03820186, 0.03820172, 1.12797451, 0.03819686, 0.038199  ,\n        0.03819578, 0.03819494, 0.03819734, 0.03821304, 0.03819976,\n        0.03821644, 0.03820687, 0.03823967, 0.03821351, 0.03819409,\n        0.03820874, 0.03825834, 0.03819466, 0.03819605, 0.03820275,\n        0.03819821, 0.03819728, 0.03819527, 0.03819804, 0.03819721,\n        0.03819514, 0.03819751, 0.03819786, 0.03819865, 0.03819904,\n        0.03820354, 0.03819581, 0.03819897, 0.03829625, 0.03819909,\n        0.03819935, 0.03820202, 0.03820727, 0.03820349, 0.03819942,\n        0.0381991 , 0.03819672, 0.03819872, 0.03821132, 0.0381974 ,\n        0.03819768, 0.03820286, 0.03819564, 0.03821867, 0.03819649],\n       [0.04805405, 0.04804597, 0.04803913, 0.04803952, 0.04803957,\n        0.04803735, 0.64081137, 0.04803786, 0.04803804, 0.04823464,\n        0.04811763, 0.0480441 , 0.04803699, 0.04804371, 0.04804308,\n        0.04806308, 0.0480398 , 0.04803606, 0.04804325, 0.04804222,\n        0.04804828, 0.04803822, 0.04803807, 0.04803781, 0.04805118,\n        0.04803654, 0.04806725, 0.04803822, 0.04804011, 0.05031144,\n        0.04804503, 0.04806748, 0.04804247, 0.04806441, 0.04803772,\n        0.04804816, 0.04804119, 0.04811069, 0.04804652, 0.04803883,\n        0.04804306, 0.0482518 , 0.04807064, 0.04804516, 0.04828755,\n        0.04805765, 0.04997487, 0.04803787, 0.04805515, 0.04803938],\n       [1.2265161 , 0.03619444, 0.03619162, 0.03619219, 0.03619049,\n        0.03619043, 0.03618896, 0.03619227, 0.03618953, 0.03618997,\n        0.03619562, 0.03618986, 0.03618952, 0.03619066, 0.03618882,\n        0.03619963, 0.03619014, 0.03618879, 0.03619035, 0.0361929 ,\n        0.03618959, 0.0361902 , 0.03618965, 0.03618938, 0.03619113,\n        0.03618877, 0.0361913 , 0.03619014, 0.03619063, 0.03619838,\n        0.0361945 , 0.0361902 , 0.03619966, 0.03619709, 0.03618923,\n        0.0361929 , 0.03619503, 0.03619637, 0.03619283, 0.03619196,\n        0.03622534, 0.03618985, 0.03619132, 0.03619414, 0.03618978,\n        0.03619051, 0.03619173, 0.03618991, 0.03624492, 0.03619134],\n       [0.0568479 , 0.05703424, 0.0622881 , 0.05685363, 0.0568467 ,\n        0.05688411, 0.05683487, 0.0569133 , 0.05689609, 0.05684245,\n        0.07676692, 0.05687313, 0.0569789 , 0.05686286, 0.05683472,\n        0.05686359, 0.05686722, 0.05683792, 0.05683738, 0.05687798,\n        0.05686666, 0.0568835 , 0.05684383, 0.05732669, 0.05684217,\n        0.05684758, 0.05683879, 0.05683968, 0.05684834, 0.05684386,\n        0.05696783, 0.05683433, 0.05686089, 0.1589365 , 0.05688799,\n        0.05691564, 0.0568821 , 0.05685261, 0.05689011, 0.05688013,\n        0.05685545, 0.05683579, 0.05684427, 0.05685511, 0.05683784,\n        0.05684077, 0.05684709, 0.05684603, 0.08566806, 0.05683835],\n       [0.05476928, 0.05478376, 0.05510116, 0.05478378, 0.05504546,\n        0.05476508, 0.05476456, 0.05476595, 0.06064267, 0.05477385,\n        0.05482065, 0.05475625, 0.05492408, 0.05477116, 0.05476178,\n        0.05479994, 0.05518037, 0.05483942, 0.05477441, 0.05477838,\n        0.05476129, 0.05628219, 0.05564586, 0.05478364, 0.05497803,\n        0.05476447, 0.05477759, 0.05755122, 0.05479161, 0.05476915,\n        0.05492454, 0.05475792, 0.05476657, 0.30135654, 0.05480438,\n        0.0547776 , 0.0550891 , 0.05478106, 0.05480476, 0.0550741 ,\n        0.05478262, 0.0547828 , 0.05477164, 0.05554615, 0.05478458,\n        0.05480317, 0.05477848, 0.05484143, 0.05530257, 0.05476276],\n       [0.04716056, 0.04715241, 0.04746196, 0.0471409 , 0.04715719,\n        0.04714025, 0.04713949, 0.04714411, 0.0471412 , 0.04714772,\n        0.04719774, 0.04751256, 0.04715408, 0.04927008, 0.04714113,\n        0.04769604, 0.04717609, 0.04713714, 0.04714227, 0.04714045,\n        0.0471512 , 0.04714618, 0.04713906, 0.04721538, 0.04714584,\n        0.04713925, 0.04714141, 0.04713827, 0.04715384, 0.04717472,\n        0.04714932, 0.04713778, 0.04720713, 0.68588972, 0.0471453 ,\n        0.04714418, 0.04715653, 0.04727517, 0.04719128, 0.04715438,\n        0.04714055, 0.04714013, 0.04714289, 0.04722657, 0.04714107,\n        0.04714119, 0.04715737, 0.04714196, 0.04726405, 0.04715515],\n       [0.03922409, 0.03922602, 0.03922161, 0.03922163, 0.0392207 ,\n        0.03922276, 0.03921925, 0.03923034, 0.0392199 , 0.03922098,\n        0.03923342, 0.03922689, 0.0392213 , 0.03922112, 0.03922011,\n        0.03922758, 0.03922518, 0.03921925, 0.03922008, 0.03922345,\n        0.03921971, 0.03922121, 0.03921982, 0.03923166, 0.03922052,\n        0.03922002, 0.0392206 , 0.03922007, 0.03922141, 0.03922193,\n        0.03922347, 0.03921933, 0.03922423, 0.03924854, 0.03921981,\n        0.03922819, 0.03922287, 0.03922217, 0.03994446, 0.0392216 ,\n        0.03922232, 0.03922018, 0.03922384, 0.03922884, 0.0392207 ,\n        0.03922224, 0.03922226, 0.03922068, 1.07734081, 0.03922065],\n       [0.04284169, 0.04299191, 0.04290539, 0.0428404 , 0.04284136,\n        0.04285744, 0.04284106, 0.04294239, 0.04283947, 0.04285428,\n        0.04296434, 0.8997342 , 0.04286489, 0.04287766, 0.04284077,\n        0.04289189, 0.04284361, 0.04283922, 0.04284063, 0.0428428 ,\n        0.04287133, 0.04284729, 0.04284054, 0.04284795, 0.04284114,\n        0.04284059, 0.04284156, 0.04283995, 0.04284199, 0.04284173,\n        0.04284306, 0.04283973, 0.04284553, 0.04296849, 0.0428503 ,\n        0.04285863, 0.04284368, 0.04284279, 0.04301655, 0.04284447,\n        0.04284259, 0.04284083, 0.04284431, 0.04286134, 0.04284059,\n        0.04284189, 0.04284655, 0.04284077, 0.04289281, 0.04284558],\n       [0.04476498, 0.04364846, 0.04363632, 0.04363348, 0.04366121,\n        0.04363062, 0.04362582, 0.04363729, 0.04363215, 0.0436348 ,\n        0.04365684, 0.04371633, 0.04363157, 0.04370539, 0.04362542,\n        0.04415414, 0.04364755, 0.04362419, 0.04363487, 0.04363171,\n        0.04362854, 0.04362844, 0.04363479, 0.04362842, 0.04365195,\n        0.04363049, 0.04363112, 0.04365555, 0.04363837, 0.04364633,\n        0.04370935, 0.04362653, 0.0436501 , 0.04366482, 0.04362567,\n        0.04366094, 0.04368815, 0.04364411, 0.04364589, 0.04362703,\n        0.85738173, 0.04362614, 0.04363786, 0.0445457 , 0.04362795,\n        0.04363512, 0.04364068, 0.04377886, 0.04503988, 0.04363638]])"
     },
     "execution_count": 26,
     "metadata": {},
     "output_type": "execute_result"
    }
   ],
   "source": [
    "preds_tta[:10]"
   ],
   "metadata": {
    "collapsed": false,
    "ExecuteTime": {
     "end_time": "2023-12-28T12:00:24.333241400Z",
     "start_time": "2023-12-28T12:00:24.324803300Z"
    }
   },
   "id": "7f4094794fa731b8"
  },
  {
   "cell_type": "code",
   "execution_count": 27,
   "outputs": [],
   "source": [
    "preds = preds_tta.argmax(axis=1)"
   ],
   "metadata": {
    "collapsed": false,
    "ExecuteTime": {
     "end_time": "2023-12-28T12:00:24.370405800Z",
     "start_time": "2023-12-28T12:00:24.333241400Z"
    }
   },
   "id": "7fd493b0d8b9cee2"
  },
  {
   "cell_type": "code",
   "execution_count": 28,
   "outputs": [],
   "source": [
    "preds = le.inverse_transform(preds)"
   ],
   "metadata": {
    "collapsed": false,
    "ExecuteTime": {
     "end_time": "2023-12-28T12:00:24.370405800Z",
     "start_time": "2023-12-28T12:00:24.348953600Z"
    }
   },
   "id": "37b7f04a0b4de44f"
  },
  {
   "cell_type": "code",
   "execution_count": 29,
   "outputs": [],
   "source": [
    "submit = pd.read_csv(os.path.join(data_path, './sample_submission.csv'))"
   ],
   "metadata": {
    "collapsed": false,
    "ExecuteTime": {
     "end_time": "2023-12-28T12:00:24.401731500Z",
     "start_time": "2023-12-28T12:00:24.357461900Z"
    }
   },
   "id": "fe59292099a9b96e"
  },
  {
   "cell_type": "code",
   "execution_count": 30,
   "outputs": [],
   "source": [
    "submit['artist'] = preds"
   ],
   "metadata": {
    "collapsed": false,
    "ExecuteTime": {
     "end_time": "2023-12-28T12:00:24.419105800Z",
     "start_time": "2023-12-28T12:00:24.401731500Z"
    }
   },
   "id": "8582475a6cb3db6f"
  },
  {
   "cell_type": "code",
   "execution_count": 31,
   "outputs": [
    {
     "data": {
      "text/plain": "           id             artist\n0  TEST_00000        Edgar Degas\n1  TEST_00001  Amedeo Modigliani\n2  TEST_00002         Caravaggio\n3  TEST_00003    Albrecht Du rer\n4  TEST_00004      Pablo Picasso",
      "text/html": "<div>\n<style scoped>\n    .dataframe tbody tr th:only-of-type {\n        vertical-align: middle;\n    }\n\n    .dataframe tbody tr th {\n        vertical-align: top;\n    }\n\n    .dataframe thead th {\n        text-align: right;\n    }\n</style>\n<table border=\"1\" class=\"dataframe\">\n  <thead>\n    <tr style=\"text-align: right;\">\n      <th></th>\n      <th>id</th>\n      <th>artist</th>\n    </tr>\n  </thead>\n  <tbody>\n    <tr>\n      <th>0</th>\n      <td>TEST_00000</td>\n      <td>Edgar Degas</td>\n    </tr>\n    <tr>\n      <th>1</th>\n      <td>TEST_00001</td>\n      <td>Amedeo Modigliani</td>\n    </tr>\n    <tr>\n      <th>2</th>\n      <td>TEST_00002</td>\n      <td>Caravaggio</td>\n    </tr>\n    <tr>\n      <th>3</th>\n      <td>TEST_00003</td>\n      <td>Albrecht Du rer</td>\n    </tr>\n    <tr>\n      <th>4</th>\n      <td>TEST_00004</td>\n      <td>Pablo Picasso</td>\n    </tr>\n  </tbody>\n</table>\n</div>"
     },
     "execution_count": 31,
     "metadata": {},
     "output_type": "execute_result"
    }
   ],
   "source": [
    "submit.head()"
   ],
   "metadata": {
    "collapsed": false,
    "ExecuteTime": {
     "end_time": "2023-12-28T12:00:24.450449300Z",
     "start_time": "2023-12-28T12:00:24.419105800Z"
    }
   },
   "id": "15bd98c5d6b59bf4"
  },
  {
   "cell_type": "code",
   "execution_count": 32,
   "outputs": [],
   "source": [
    "submit.to_csv(os.path.join(data_path, f\"./submit_{CFG['FILENAME']}.csv\"), index=False)"
   ],
   "metadata": {
    "collapsed": false,
    "ExecuteTime": {
     "end_time": "2023-12-28T12:00:24.490765600Z",
     "start_time": "2023-12-28T12:00:24.434824900Z"
    }
   },
   "id": "eed3cb0dc59f47f7"
  },
  {
   "cell_type": "code",
   "execution_count": 32,
   "outputs": [],
   "source": [],
   "metadata": {
    "collapsed": false,
    "ExecuteTime": {
     "end_time": "2023-12-28T12:00:24.522092100Z",
     "start_time": "2023-12-28T12:00:24.466070800Z"
    }
   },
   "id": "479c26c8a5a70d89"
  }
 ],
 "metadata": {
  "kernelspec": {
   "display_name": "Python 3",
   "language": "python",
   "name": "python3"
  },
  "language_info": {
   "codemirror_mode": {
    "name": "ipython",
    "version": 2
   },
   "file_extension": ".py",
   "mimetype": "text/x-python",
   "name": "python",
   "nbconvert_exporter": "python",
   "pygments_lexer": "ipython2",
   "version": "2.7.6"
  }
 },
 "nbformat": 4,
 "nbformat_minor": 5
}
