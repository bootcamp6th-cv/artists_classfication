{
 "cells": [
  {
   "cell_type": "code",
   "execution_count": 48,
   "id": "initial_id",
   "metadata": {
    "collapsed": true,
    "ExecuteTime": {
     "end_time": "2023-12-28T15:08:22.723339500Z",
     "start_time": "2023-12-28T15:08:22.676015800Z"
    }
   },
   "outputs": [],
   "source": [
    "import os\n",
    "\n",
    "import pandas as pd\n",
    "import numpy as np\n",
    "import matplotlib.pyplot as plt\n",
    "import seaborn as sns"
   ]
  },
  {
   "cell_type": "code",
   "execution_count": 49,
   "outputs": [],
   "source": [
    "data_path = '../../data/'"
   ],
   "metadata": {
    "collapsed": false,
    "ExecuteTime": {
     "end_time": "2023-12-28T15:08:22.785934Z",
     "start_time": "2023-12-28T15:08:22.691662300Z"
    }
   },
   "id": "2bcac3e2639cc7d7"
  },
  {
   "cell_type": "code",
   "execution_count": 50,
   "outputs": [],
   "source": [
    "train_df = pd.read_csv(os.path.join(data_path, 'train.csv'), index_col='id')\n",
    "train_df.loc[3896, 'artist'] = 'Titian'\n",
    "train_df.loc[3986, 'artist'] = 'Alfred Sisley'\n",
    "\n",
    "vit_tta10_df = pd.read_csv(os.path.join(data_path, 'submit_vit_tta_10.csv'), index_col='id')\n",
    "vit_tta7_df = pd.read_csv(os.path.join(data_path, 'submit_vit_tta_7.csv'), index_col='id')\n",
    "kfold_efficient_df = pd.read_csv(os.path.join(data_path, 'submit_kfold_efficientnet.csv'), index_col='id')\n",
    "kfold_caformer_df = pd.read_csv(os.path.join(data_path, 'submit_kfold_caformer.csv'), index_col='id')\n",
    "soft_df = pd.read_csv(os.path.join(data_path, 'submit_soft.csv'), index_col='id')\n",
    "tta5_df = pd.read_csv(os.path.join(data_path, 'submit_tta5.csv'), index_col='id')\n",
    "tta5_softmax_df = pd.read_csv(os.path.join(data_path, 'submit_tta5_softmax.csv'), index_col='id')"
   ],
   "metadata": {
    "collapsed": false,
    "ExecuteTime": {
     "end_time": "2023-12-28T15:08:22.833281800Z",
     "start_time": "2023-12-28T15:08:22.707695300Z"
    }
   },
   "id": "2376603c21264140"
  },
  {
   "cell_type": "code",
   "execution_count": 51,
   "outputs": [
    {
     "data": {
      "text/plain": "['Vincent van Gogh',\n 'Edgar Degas',\n 'Pablo Picasso',\n 'Pierre-Auguste Renoir',\n 'Albrecht Du rer',\n 'Paul Gauguin',\n 'Francisco Goya',\n 'Rembrandt',\n 'Titian',\n 'Marc Chagall',\n 'Alfred Sisley',\n 'Paul Klee',\n 'Rene Magritte',\n 'Andy Warhol',\n 'Amedeo Modigliani',\n 'Henri Matisse',\n 'Sandro Botticelli',\n 'Mikhail Vrubel',\n 'Hieronymus Bosch',\n 'Leonardo da Vinci',\n 'Salvador Dali',\n 'Peter Paul Rubens',\n 'Kazimir Malevich',\n 'Pieter Bruegel',\n 'Frida Kahlo',\n 'Diego Velazquez',\n 'Joan Miro',\n 'Andrei Rublev',\n 'Raphael',\n 'Giotto di Bondone',\n 'Gustav Klimt',\n 'El Greco',\n 'Jan van Eyck',\n 'Camille Pissarro',\n 'Edouard Manet',\n 'Henri de Toulouse-Lautrec',\n 'Vasiliy Kandinskiy',\n 'Claude Monet',\n 'Piet Mondrian',\n 'Henri Rousseau',\n 'Diego Rivera',\n 'William Turner',\n 'Edvard Munch',\n 'Gustave Courbet',\n 'Michelangelo',\n 'Paul Cezanne',\n 'Caravaggio',\n 'Georges Seurat',\n 'Eugene Delacroix',\n 'Jackson Pollock']"
     },
     "execution_count": 51,
     "metadata": {},
     "output_type": "execute_result"
    }
   ],
   "source": [
    "from collections import Counter\n",
    "\n",
    "picture_per_artist = Counter()\n",
    "for artist in train_df['artist']:\n",
    "    picture_per_artist[artist] += 1\n",
    "most_common_artist = sorted(picture_per_artist, key=picture_per_artist.get, reverse=True)\n",
    "most_common_artist"
   ],
   "metadata": {
    "collapsed": false,
    "ExecuteTime": {
     "end_time": "2023-12-28T15:08:22.864544Z",
     "start_time": "2023-12-28T15:08:22.803727900Z"
    }
   },
   "id": "83253497ce50bb87"
  },
  {
   "cell_type": "code",
   "execution_count": 52,
   "outputs": [
    {
     "name": "stderr",
     "output_type": "stream",
     "text": [
      "C:\\Users\\dukim\\AppData\\Local\\Temp\\ipykernel_16880\\3236891715.py:4: UserWarning: Pandas doesn't allow columns to be created via a new attribute name - see https://pandas.pydata.org/pandas-docs/stable/indexing.html#attribute-access\n",
      "  concaed_df.columnus = ['tta10', 'kfold-efficient', 'kfold-caformer', 'tta5', 'tta5_softmax', 'soft_df']\n"
     ]
    },
    {
     "data": {
      "text/plain": "                       artist             artist             artist  \\\nid                                                                    \nTEST_00000        Edgar Degas        Edgar Degas        Edgar Degas   \nTEST_00001  Amedeo Modigliani  Amedeo Modigliani  Amedeo Modigliani   \nTEST_00002         Caravaggio         Caravaggio         Caravaggio   \nTEST_00003    Albrecht Du rer    Albrecht Du rer    Albrecht Du rer   \nTEST_00004      Pablo Picasso        Edgar Degas      Pablo Picasso   \n\n                       artist             artist             artist  \nid                                                                   \nTEST_00000        Edgar Degas        Edgar Degas        Edgar Degas  \nTEST_00001  Amedeo Modigliani  Amedeo Modigliani  Amedeo Modigliani  \nTEST_00002         Caravaggio         Caravaggio         Caravaggio  \nTEST_00003    Albrecht Du rer    Albrecht Du rer    Albrecht Du rer  \nTEST_00004      Pablo Picasso      Pablo Picasso      Pablo Picasso  ",
      "text/html": "<div>\n<style scoped>\n    .dataframe tbody tr th:only-of-type {\n        vertical-align: middle;\n    }\n\n    .dataframe tbody tr th {\n        vertical-align: top;\n    }\n\n    .dataframe thead th {\n        text-align: right;\n    }\n</style>\n<table border=\"1\" class=\"dataframe\">\n  <thead>\n    <tr style=\"text-align: right;\">\n      <th></th>\n      <th>artist</th>\n      <th>artist</th>\n      <th>artist</th>\n      <th>artist</th>\n      <th>artist</th>\n      <th>artist</th>\n    </tr>\n    <tr>\n      <th>id</th>\n      <th></th>\n      <th></th>\n      <th></th>\n      <th></th>\n      <th></th>\n      <th></th>\n    </tr>\n  </thead>\n  <tbody>\n    <tr>\n      <th>TEST_00000</th>\n      <td>Edgar Degas</td>\n      <td>Edgar Degas</td>\n      <td>Edgar Degas</td>\n      <td>Edgar Degas</td>\n      <td>Edgar Degas</td>\n      <td>Edgar Degas</td>\n    </tr>\n    <tr>\n      <th>TEST_00001</th>\n      <td>Amedeo Modigliani</td>\n      <td>Amedeo Modigliani</td>\n      <td>Amedeo Modigliani</td>\n      <td>Amedeo Modigliani</td>\n      <td>Amedeo Modigliani</td>\n      <td>Amedeo Modigliani</td>\n    </tr>\n    <tr>\n      <th>TEST_00002</th>\n      <td>Caravaggio</td>\n      <td>Caravaggio</td>\n      <td>Caravaggio</td>\n      <td>Caravaggio</td>\n      <td>Caravaggio</td>\n      <td>Caravaggio</td>\n    </tr>\n    <tr>\n      <th>TEST_00003</th>\n      <td>Albrecht Du rer</td>\n      <td>Albrecht Du rer</td>\n      <td>Albrecht Du rer</td>\n      <td>Albrecht Du rer</td>\n      <td>Albrecht Du rer</td>\n      <td>Albrecht Du rer</td>\n    </tr>\n    <tr>\n      <th>TEST_00004</th>\n      <td>Pablo Picasso</td>\n      <td>Edgar Degas</td>\n      <td>Pablo Picasso</td>\n      <td>Pablo Picasso</td>\n      <td>Pablo Picasso</td>\n      <td>Pablo Picasso</td>\n    </tr>\n  </tbody>\n</table>\n</div>"
     },
     "execution_count": 52,
     "metadata": {},
     "output_type": "execute_result"
    }
   ],
   "source": [
    "# hard\n",
    "# concaed_df = pd.concat([kfold_df, tta10_df, tta7_df, tta5_df, ensemble_df], axis=1)\n",
    "concaed_df = pd.concat([vit_tta10_df, kfold_efficient_df, kfold_caformer_df, tta5_df, tta5_softmax_df, soft_df], axis=1)\n",
    "concaed_df.columnus = ['tta10', 'kfold-efficient', 'kfold-caformer', 'tta5', 'tta5_softmax', 'soft_df']\n",
    "concaed_df.head()"
   ],
   "metadata": {
    "collapsed": false,
    "ExecuteTime": {
     "end_time": "2023-12-28T15:08:22.880171Z",
     "start_time": "2023-12-28T15:08:22.829127100Z"
    }
   },
   "id": "d826d0ae90d66010"
  },
  {
   "cell_type": "code",
   "execution_count": 53,
   "outputs": [
    {
     "data": {
      "text/plain": "                            0    1    2\nid                                     \nTEST_00000        Edgar Degas  NaN  NaN\nTEST_00001  Amedeo Modigliani  NaN  NaN\nTEST_00002         Caravaggio  NaN  NaN\nTEST_00003    Albrecht Du rer  NaN  NaN\nTEST_00004      Pablo Picasso  NaN  NaN\n...                       ...  ...  ...\nTEST_12665        Edgar Degas  NaN  NaN\nTEST_12666    Diego Velazquez  NaN  NaN\nTEST_12667  Amedeo Modigliani  NaN  NaN\nTEST_12668             Titian  NaN  NaN\nTEST_12669   Vincent van Gogh  NaN  NaN\n\n[12670 rows x 3 columns]",
      "text/html": "<div>\n<style scoped>\n    .dataframe tbody tr th:only-of-type {\n        vertical-align: middle;\n    }\n\n    .dataframe tbody tr th {\n        vertical-align: top;\n    }\n\n    .dataframe thead th {\n        text-align: right;\n    }\n</style>\n<table border=\"1\" class=\"dataframe\">\n  <thead>\n    <tr style=\"text-align: right;\">\n      <th></th>\n      <th>0</th>\n      <th>1</th>\n      <th>2</th>\n    </tr>\n    <tr>\n      <th>id</th>\n      <th></th>\n      <th></th>\n      <th></th>\n    </tr>\n  </thead>\n  <tbody>\n    <tr>\n      <th>TEST_00000</th>\n      <td>Edgar Degas</td>\n      <td>NaN</td>\n      <td>NaN</td>\n    </tr>\n    <tr>\n      <th>TEST_00001</th>\n      <td>Amedeo Modigliani</td>\n      <td>NaN</td>\n      <td>NaN</td>\n    </tr>\n    <tr>\n      <th>TEST_00002</th>\n      <td>Caravaggio</td>\n      <td>NaN</td>\n      <td>NaN</td>\n    </tr>\n    <tr>\n      <th>TEST_00003</th>\n      <td>Albrecht Du rer</td>\n      <td>NaN</td>\n      <td>NaN</td>\n    </tr>\n    <tr>\n      <th>TEST_00004</th>\n      <td>Pablo Picasso</td>\n      <td>NaN</td>\n      <td>NaN</td>\n    </tr>\n    <tr>\n      <th>...</th>\n      <td>...</td>\n      <td>...</td>\n      <td>...</td>\n    </tr>\n    <tr>\n      <th>TEST_12665</th>\n      <td>Edgar Degas</td>\n      <td>NaN</td>\n      <td>NaN</td>\n    </tr>\n    <tr>\n      <th>TEST_12666</th>\n      <td>Diego Velazquez</td>\n      <td>NaN</td>\n      <td>NaN</td>\n    </tr>\n    <tr>\n      <th>TEST_12667</th>\n      <td>Amedeo Modigliani</td>\n      <td>NaN</td>\n      <td>NaN</td>\n    </tr>\n    <tr>\n      <th>TEST_12668</th>\n      <td>Titian</td>\n      <td>NaN</td>\n      <td>NaN</td>\n    </tr>\n    <tr>\n      <th>TEST_12669</th>\n      <td>Vincent van Gogh</td>\n      <td>NaN</td>\n      <td>NaN</td>\n    </tr>\n  </tbody>\n</table>\n<p>12670 rows × 3 columns</p>\n</div>"
     },
     "execution_count": 53,
     "metadata": {},
     "output_type": "execute_result"
    }
   ],
   "source": [
    "preds_mode = concaed_df.mode(axis=1)\n",
    "preds_mode"
   ],
   "metadata": {
    "collapsed": false,
    "ExecuteTime": {
     "end_time": "2023-12-28T15:08:25.384142700Z",
     "start_time": "2023-12-28T15:08:22.849039700Z"
    }
   },
   "id": "557a1f990a098551"
  },
  {
   "cell_type": "code",
   "execution_count": 54,
   "outputs": [
    {
     "data": {
      "text/plain": "id\nTEST_00000          Edgar Degas\nTEST_00001    Amedeo Modigliani\nTEST_00002           Caravaggio\nTEST_00003      Albrecht Du rer\nTEST_00004        Pablo Picasso\n                    ...        \nTEST_12665          Edgar Degas\nTEST_12666      Diego Velazquez\nTEST_12667    Amedeo Modigliani\nTEST_12668               Titian\nTEST_12669     Vincent van Gogh\nName: 0, Length: 12670, dtype: object"
     },
     "execution_count": 54,
     "metadata": {},
     "output_type": "execute_result"
    }
   ],
   "source": [
    "preds = preds_mode[0].copy()\n",
    "preds"
   ],
   "metadata": {
    "collapsed": false,
    "ExecuteTime": {
     "end_time": "2023-12-28T15:08:25.414825300Z",
     "start_time": "2023-12-28T15:08:25.379896900Z"
    }
   },
   "id": "3e0fba7b7ebd1e9c"
  },
  {
   "cell_type": "code",
   "execution_count": 55,
   "outputs": [
    {
     "data": {
      "text/plain": "                            0                   1    2\nid                                                    \nTEST_00051   Kazimir Malevich  Vasiliy Kandinskiy  NaN\nTEST_00262       Gustav Klimt   Leonardo da Vinci  NaN\nTEST_00263        Edgar Degas       Edouard Manet  NaN\nTEST_00291      Pablo Picasso    Vincent van Gogh  NaN\nTEST_00321      Pablo Picasso    Vincent van Gogh  NaN\n...                       ...                 ...  ...\nTEST_12027     Georges Seurat    Vincent van Gogh  NaN\nTEST_12034        Edgar Degas       Pablo Picasso  NaN\nTEST_12111  Sandro Botticelli              Titian  NaN\nTEST_12392     Pieter Bruegel              Titian  NaN\nTEST_12431       Diego Rivera       Pablo Picasso  NaN\n\n[115 rows x 3 columns]",
      "text/html": "<div>\n<style scoped>\n    .dataframe tbody tr th:only-of-type {\n        vertical-align: middle;\n    }\n\n    .dataframe tbody tr th {\n        vertical-align: top;\n    }\n\n    .dataframe thead th {\n        text-align: right;\n    }\n</style>\n<table border=\"1\" class=\"dataframe\">\n  <thead>\n    <tr style=\"text-align: right;\">\n      <th></th>\n      <th>0</th>\n      <th>1</th>\n      <th>2</th>\n    </tr>\n    <tr>\n      <th>id</th>\n      <th></th>\n      <th></th>\n      <th></th>\n    </tr>\n  </thead>\n  <tbody>\n    <tr>\n      <th>TEST_00051</th>\n      <td>Kazimir Malevich</td>\n      <td>Vasiliy Kandinskiy</td>\n      <td>NaN</td>\n    </tr>\n    <tr>\n      <th>TEST_00262</th>\n      <td>Gustav Klimt</td>\n      <td>Leonardo da Vinci</td>\n      <td>NaN</td>\n    </tr>\n    <tr>\n      <th>TEST_00263</th>\n      <td>Edgar Degas</td>\n      <td>Edouard Manet</td>\n      <td>NaN</td>\n    </tr>\n    <tr>\n      <th>TEST_00291</th>\n      <td>Pablo Picasso</td>\n      <td>Vincent van Gogh</td>\n      <td>NaN</td>\n    </tr>\n    <tr>\n      <th>TEST_00321</th>\n      <td>Pablo Picasso</td>\n      <td>Vincent van Gogh</td>\n      <td>NaN</td>\n    </tr>\n    <tr>\n      <th>...</th>\n      <td>...</td>\n      <td>...</td>\n      <td>...</td>\n    </tr>\n    <tr>\n      <th>TEST_12027</th>\n      <td>Georges Seurat</td>\n      <td>Vincent van Gogh</td>\n      <td>NaN</td>\n    </tr>\n    <tr>\n      <th>TEST_12034</th>\n      <td>Edgar Degas</td>\n      <td>Pablo Picasso</td>\n      <td>NaN</td>\n    </tr>\n    <tr>\n      <th>TEST_12111</th>\n      <td>Sandro Botticelli</td>\n      <td>Titian</td>\n      <td>NaN</td>\n    </tr>\n    <tr>\n      <th>TEST_12392</th>\n      <td>Pieter Bruegel</td>\n      <td>Titian</td>\n      <td>NaN</td>\n    </tr>\n    <tr>\n      <th>TEST_12431</th>\n      <td>Diego Rivera</td>\n      <td>Pablo Picasso</td>\n      <td>NaN</td>\n    </tr>\n  </tbody>\n</table>\n<p>115 rows × 3 columns</p>\n</div>"
     },
     "execution_count": 55,
     "metadata": {},
     "output_type": "execute_result"
    }
   ],
   "source": [
    "preds_mode[~preds_mode[1].isnull()]"
   ],
   "metadata": {
    "collapsed": false,
    "ExecuteTime": {
     "end_time": "2023-12-28T15:08:25.445816400Z",
     "start_time": "2023-12-28T15:08:25.399901900Z"
    }
   },
   "id": "51d1f0260db375f2"
  },
  {
   "cell_type": "code",
   "execution_count": 56,
   "outputs": [
    {
     "data": {
      "text/plain": "id\nTEST_00051     Kazimir Malevich\nTEST_00262    Leonardo da Vinci\nTEST_00263          Edgar Degas\nTEST_00291     Vincent van Gogh\nTEST_00321     Vincent van Gogh\n                    ...        \nTEST_12027     Vincent van Gogh\nTEST_12034          Edgar Degas\nTEST_12111               Titian\nTEST_12392               Titian\nTEST_12431        Pablo Picasso\nLength: 115, dtype: object"
     },
     "execution_count": 56,
     "metadata": {},
     "output_type": "execute_result"
    }
   ],
   "source": [
    "def get_most_common_artist(artists, target):\n",
    "    for artist in artists:\n",
    "        if artist in target:\n",
    "            return artist\n",
    "preds_mode[~preds_mode[1].isnull()].apply(lambda x: get_most_common_artist(most_common_artist, x.values), axis=1)"
   ],
   "metadata": {
    "collapsed": false,
    "ExecuteTime": {
     "end_time": "2023-12-28T15:08:25.468420300Z",
     "start_time": "2023-12-28T15:08:25.414825300Z"
    }
   },
   "id": "b2b6eb25d0212cac"
  },
  {
   "cell_type": "code",
   "execution_count": 57,
   "outputs": [],
   "source": [
    "# preds.loc[preds_mode[~preds_mode[1].isnull()].index] = tta10_df.loc[preds_mode[~preds_mode[1].isnull()].index].values.reshape(-1)\n",
    "# preds.loc[preds_mode[~preds_mode[1].isnull()].index] = preds_mode[~preds_mode[1].isnull()].apply(lambda x: get_most_common_artist(most_common_artist, x.values), axis=1)\n",
    "# preds"
   ],
   "metadata": {
    "collapsed": false,
    "ExecuteTime": {
     "end_time": "2023-12-28T15:08:25.525845300Z",
     "start_time": "2023-12-28T15:08:25.430638100Z"
    }
   },
   "id": "c3351aa889f6dbea"
  },
  {
   "cell_type": "code",
   "execution_count": 58,
   "outputs": [],
   "source": [
    "preds.loc[preds_mode[~preds_mode[1].isnull()].index] = soft_df.loc[preds_mode[~preds_mode[1].isnull()].index].values.reshape(-1)"
   ],
   "metadata": {
    "collapsed": false,
    "ExecuteTime": {
     "end_time": "2023-12-28T15:08:25.525845300Z",
     "start_time": "2023-12-28T15:08:25.454811700Z"
    }
   },
   "id": "4e78455ec572dc98"
  },
  {
   "cell_type": "code",
   "execution_count": 59,
   "outputs": [],
   "source": [
    "submit = pd.read_csv(os.path.join(data_path, './sample_submission.csv'))"
   ],
   "metadata": {
    "collapsed": false,
    "ExecuteTime": {
     "end_time": "2023-12-28T15:08:25.525845300Z",
     "start_time": "2023-12-28T15:08:25.465125400Z"
    }
   },
   "id": "9b5b870ffd31fd5c"
  },
  {
   "cell_type": "code",
   "execution_count": 60,
   "outputs": [],
   "source": [
    "submit['artist'] = preds.values"
   ],
   "metadata": {
    "collapsed": false,
    "ExecuteTime": {
     "end_time": "2023-12-28T15:08:25.557090300Z",
     "start_time": "2023-12-28T15:08:25.484072100Z"
    }
   },
   "id": "dd377984854ac245"
  },
  {
   "cell_type": "code",
   "execution_count": 61,
   "outputs": [
    {
     "data": {
      "text/plain": "           id             artist\n0  TEST_00000        Edgar Degas\n1  TEST_00001  Amedeo Modigliani\n2  TEST_00002         Caravaggio\n3  TEST_00003    Albrecht Du rer\n4  TEST_00004      Pablo Picasso",
      "text/html": "<div>\n<style scoped>\n    .dataframe tbody tr th:only-of-type {\n        vertical-align: middle;\n    }\n\n    .dataframe tbody tr th {\n        vertical-align: top;\n    }\n\n    .dataframe thead th {\n        text-align: right;\n    }\n</style>\n<table border=\"1\" class=\"dataframe\">\n  <thead>\n    <tr style=\"text-align: right;\">\n      <th></th>\n      <th>id</th>\n      <th>artist</th>\n    </tr>\n  </thead>\n  <tbody>\n    <tr>\n      <th>0</th>\n      <td>TEST_00000</td>\n      <td>Edgar Degas</td>\n    </tr>\n    <tr>\n      <th>1</th>\n      <td>TEST_00001</td>\n      <td>Amedeo Modigliani</td>\n    </tr>\n    <tr>\n      <th>2</th>\n      <td>TEST_00002</td>\n      <td>Caravaggio</td>\n    </tr>\n    <tr>\n      <th>3</th>\n      <td>TEST_00003</td>\n      <td>Albrecht Du rer</td>\n    </tr>\n    <tr>\n      <th>4</th>\n      <td>TEST_00004</td>\n      <td>Pablo Picasso</td>\n    </tr>\n  </tbody>\n</table>\n</div>"
     },
     "execution_count": 61,
     "metadata": {},
     "output_type": "execute_result"
    }
   ],
   "source": [
    "submit.head()"
   ],
   "metadata": {
    "collapsed": false,
    "ExecuteTime": {
     "end_time": "2023-12-28T15:08:25.557090300Z",
     "start_time": "2023-12-28T15:08:25.494366600Z"
    }
   },
   "id": "e54f96ae42ffdf36"
  },
  {
   "cell_type": "code",
   "execution_count": 62,
   "outputs": [],
   "source": [
    "submit.to_csv(os.path.join(data_path, f\"./submit_hard.csv\"), index=False)"
   ],
   "metadata": {
    "collapsed": false,
    "ExecuteTime": {
     "end_time": "2023-12-28T15:08:25.588349Z",
     "start_time": "2023-12-28T15:08:25.510095900Z"
    }
   },
   "id": "f735a944fc1f2176"
  },
  {
   "cell_type": "code",
   "execution_count": 15,
   "outputs": [],
   "source": [],
   "metadata": {
    "collapsed": false,
    "ExecuteTime": {
     "end_time": "2023-12-27T23:35:29.766290600Z",
     "start_time": "2023-12-27T23:35:29.719499700Z"
    }
   },
   "id": "b3649632a984a3f0"
  }
 ],
 "metadata": {
  "kernelspec": {
   "display_name": "Python 3",
   "language": "python",
   "name": "python3"
  },
  "language_info": {
   "codemirror_mode": {
    "name": "ipython",
    "version": 2
   },
   "file_extension": ".py",
   "mimetype": "text/x-python",
   "name": "python",
   "nbconvert_exporter": "python",
   "pygments_lexer": "ipython2",
   "version": "2.7.6"
  }
 },
 "nbformat": 4,
 "nbformat_minor": 5
}
