{
 "cells": [
  {
   "cell_type": "markdown",
   "source": [
    "#  tta\n",
    "* models\n",
    "    - vit\n",
    "    - efficient\n",
    "    - caformer\n",
    "- kfold\n",
    "- tta\n",
    "* result\n",
    "    - tta5\n",
    "    - public 점수 : 0.8613488426\n",
    "    - private 점수 : 0.8672446236\n",
    "    - tta7 \n",
    "    - public 점수 : 0.8612270892\n",
    "    - private 점수 : 0.8644435004"
   ],
   "metadata": {
    "collapsed": false
   },
   "id": "620cd5abd3c2cbe6"
  },
  {
   "cell_type": "code",
   "execution_count": 1,
   "outputs": [],
   "source": [
    "import gc\n",
    "import os\n",
    "import random\n",
    "from datetime import datetime\n",
    "\n",
    "import pandas as pd\n",
    "import numpy as np\n",
    "import matplotlib.pyplot as plt\n",
    "import seaborn as sns\n",
    "import cv2\n",
    "\n",
    "from sklearn import preprocessing\n",
    "from sklearn.model_selection import train_test_split, StratifiedKFold\n",
    "from sklearn.metrics import f1_score\n",
    "\n",
    "import torch\n",
    "import torch.nn as nn\n",
    "import torch.optim as optim\n",
    "import torch.nn.functional as F\n",
    "from torch.utils.data import Dataset, DataLoader\n",
    "\n",
    "from tqdm.auto import tqdm\n",
    "\n",
    "import albumentations as A\n",
    "from albumentations.pytorch.transforms import ToTensorV2\n",
    "\n",
    "import timm\n",
    "\n",
    "import warnings\n",
    "warnings.filterwarnings(action='ignore') "
   ],
   "metadata": {
    "collapsed": false,
    "ExecuteTime": {
     "end_time": "2023-12-28T13:44:08.494776200Z",
     "start_time": "2023-12-28T13:44:05.726892300Z"
    }
   },
   "id": "initial_id"
  },
  {
   "cell_type": "code",
   "execution_count": 2,
   "outputs": [],
   "source": [
    "device = torch.device('cuda') if torch.cuda.is_available() else torch.device('cpu')"
   ],
   "metadata": {
    "collapsed": false,
    "ExecuteTime": {
     "end_time": "2023-12-28T13:44:08.525975600Z",
     "start_time": "2023-12-28T13:44:08.515288700Z"
    }
   },
   "id": "5fc1ff58a4a9d6d1"
  },
  {
   "cell_type": "code",
   "execution_count": 3,
   "outputs": [],
   "source": [
    "CFG = {\n",
    "    'IMG_SIZE_VIT': 260,\n",
    "    'IMG_SIZE_EFFICIENT': 300,\n",
    "    'IMG_SIZE_CAFORMER': 272,\n",
    "    'BATCH_SIZE': 16,\n",
    "    'K-FOLD': 5,\n",
    "    'NUM_TTA': 7,\n",
    "    'FILENAME': 'tta7',\n",
    "    'SEED': 6\n",
    "}"
   ],
   "metadata": {
    "collapsed": false,
    "ExecuteTime": {
     "end_time": "2023-12-28T13:44:08.542770Z",
     "start_time": "2023-12-28T13:44:08.525975600Z"
    }
   },
   "id": "5c99354cb0d52004"
  },
  {
   "cell_type": "code",
   "execution_count": 4,
   "outputs": [],
   "source": [
    "def seed_everything(seed):\n",
    "    random.seed(seed)\n",
    "    os.environ['PYTHONHASHSEED'] = str(seed)\n",
    "    np.random.seed(seed)\n",
    "    torch.manual_seed(seed)\n",
    "    torch.cuda.manual_seed(seed)\n",
    "    torch.cuda.manual_seed_all(seed)\n",
    "    torch.backends.cudnn.deterministic = True\n",
    "    torch.backends.cudnn.benchmark = False\n",
    "\n",
    "seed_everything(CFG['SEED']) # Seed 고정"
   ],
   "metadata": {
    "collapsed": false,
    "ExecuteTime": {
     "end_time": "2023-12-28T13:44:08.557413800Z",
     "start_time": "2023-12-28T13:44:08.545152400Z"
    }
   },
   "id": "57142b16a76126df"
  },
  {
   "cell_type": "code",
   "execution_count": 5,
   "outputs": [],
   "source": [
    "running_colab = 'google.colab' in str(get_ipython()) if hasattr(__builtins__,'__IPYTHON__') else False\n",
    "if running_colab:\n",
    "    from google.colab import drive\n",
    "    drive.mount('/content/drive')\n",
    "if running_colab:\n",
    "    data_path = '/content/drive/MyDrive/Colab Notebooks/ai6th/data/optiver/'\n",
    "else:\n",
    "    data_path = '../../data/'"
   ],
   "metadata": {
    "collapsed": false,
    "ExecuteTime": {
     "end_time": "2023-12-28T13:44:08.573243300Z",
     "start_time": "2023-12-28T13:44:08.557413800Z"
    }
   },
   "id": "858b421c8c479378"
  },
  {
   "cell_type": "code",
   "execution_count": 6,
   "outputs": [
    {
     "data": {
      "text/plain": "   id          img_path            artist\n0   0  ./train/0000.jpg   Diego Velazquez\n1   1  ./train/0001.jpg  Vincent van Gogh\n2   2  ./train/0002.jpg      Claude Monet\n3   3  ./train/0003.jpg       Edgar Degas\n4   4  ./train/0004.jpg  Hieronymus Bosch",
      "text/html": "<div>\n<style scoped>\n    .dataframe tbody tr th:only-of-type {\n        vertical-align: middle;\n    }\n\n    .dataframe tbody tr th {\n        vertical-align: top;\n    }\n\n    .dataframe thead th {\n        text-align: right;\n    }\n</style>\n<table border=\"1\" class=\"dataframe\">\n  <thead>\n    <tr style=\"text-align: right;\">\n      <th></th>\n      <th>id</th>\n      <th>img_path</th>\n      <th>artist</th>\n    </tr>\n  </thead>\n  <tbody>\n    <tr>\n      <th>0</th>\n      <td>0</td>\n      <td>./train/0000.jpg</td>\n      <td>Diego Velazquez</td>\n    </tr>\n    <tr>\n      <th>1</th>\n      <td>1</td>\n      <td>./train/0001.jpg</td>\n      <td>Vincent van Gogh</td>\n    </tr>\n    <tr>\n      <th>2</th>\n      <td>2</td>\n      <td>./train/0002.jpg</td>\n      <td>Claude Monet</td>\n    </tr>\n    <tr>\n      <th>3</th>\n      <td>3</td>\n      <td>./train/0003.jpg</td>\n      <td>Edgar Degas</td>\n    </tr>\n    <tr>\n      <th>4</th>\n      <td>4</td>\n      <td>./train/0004.jpg</td>\n      <td>Hieronymus Bosch</td>\n    </tr>\n  </tbody>\n</table>\n</div>"
     },
     "execution_count": 6,
     "metadata": {},
     "output_type": "execute_result"
    }
   ],
   "source": [
    "df = pd.read_csv(os.path.join(data_path, 'train.csv'))\n",
    "df.loc[3896, 'artist'] = 'Titian'\n",
    "df.loc[3986, 'artist'] = 'Alfred Sisley'\n",
    "df.head()"
   ],
   "metadata": {
    "collapsed": false,
    "ExecuteTime": {
     "end_time": "2023-12-28T13:44:08.605002800Z",
     "start_time": "2023-12-28T13:44:08.573243300Z"
    }
   },
   "id": "60ed6dfb973bafc5"
  },
  {
   "cell_type": "code",
   "execution_count": 7,
   "outputs": [],
   "source": [
    "# Label Encoding\n",
    "le = preprocessing.LabelEncoder()\n",
    "df['artist'] = le.fit_transform(df['artist'].values)"
   ],
   "metadata": {
    "collapsed": false,
    "ExecuteTime": {
     "end_time": "2023-12-28T13:44:08.620729900Z",
     "start_time": "2023-12-28T13:44:08.605002800Z"
    }
   },
   "id": "2ae8b183518c9394"
  },
  {
   "cell_type": "code",
   "execution_count": 8,
   "outputs": [],
   "source": [
    "def get_data(df, infer=False):\n",
    "    if infer:\n",
    "        return df['img_path'].apply(lambda p: os.path.join(data_path, p)).values\n",
    "    return df['img_path'].apply(lambda p: os.path.join(data_path, p)).values, df['artist'].values"
   ],
   "metadata": {
    "collapsed": false,
    "ExecuteTime": {
     "end_time": "2023-12-28T13:44:08.699351300Z",
     "start_time": "2023-12-28T13:44:08.620729900Z"
    }
   },
   "id": "db002acff51c03bd"
  },
  {
   "cell_type": "code",
   "execution_count": 9,
   "outputs": [],
   "source": [
    "from torchvision.transforms import ToTensor\n",
    "\n",
    "\n",
    "class CustomDataset(Dataset):\n",
    "    def __init__(self, img_paths, labels, transforms=None):\n",
    "        self.img_paths = img_paths\n",
    "        self.labels = labels\n",
    "        self.transforms = transforms if transforms else ToTensor()\n",
    "\n",
    "    def __getitem__(self, index):\n",
    "        img_path = self.img_paths[index]\n",
    "        image = cv2.imread(img_path)\n",
    "        image = cv2.cvtColor(image, cv2.COLOR_BGR2RGB)\n",
    "        image = self.transforms(image=image)['image']\n",
    "        \n",
    "        if self.labels is not None:\n",
    "            label = self.labels[index]\n",
    "            return image, label\n",
    "        else:\n",
    "            return image\n",
    "    \n",
    "    def __len__(self):\n",
    "        return len(self.img_paths)"
   ],
   "metadata": {
    "collapsed": false,
    "ExecuteTime": {
     "end_time": "2023-12-28T13:44:08.714992800Z",
     "start_time": "2023-12-28T13:44:08.636253400Z"
    }
   },
   "id": "daa8f5c45d3e6316"
  },
  {
   "cell_type": "code",
   "execution_count": 10,
   "outputs": [],
   "source": [
    "train_transform_vit = A.Compose([\n",
    "    A.Resize(CFG['IMG_SIZE_VIT']*2,CFG['IMG_SIZE_VIT']*2),\n",
    "    A.RandomCrop(CFG['IMG_SIZE_VIT'],CFG['IMG_SIZE_VIT']),\n",
    "    A.Transpose(p=0.5), # 행렬 스왑\n",
    "    A.HorizontalFlip(p=0.5), # 좌우 반전\n",
    "    A.VerticalFlip(p=0.5), # 상하 반전\n",
    "    A.ShiftScaleRotate(p=0.5), # 랜덤하게 옮기고, scale, 회전\n",
    "    A.HueSaturationValue(hue_shift_limit=20, sat_shift_limit=20, val_shift_limit=20, p=0.5), # 빛깔, 색조, 값 변환\n",
    "    A.RandomBrightnessContrast(brightness_limit=(-0.1,0.1), contrast_limit=(-0.1, 0.1), p=0.5), # 명도 대비\n",
    "    A.ChannelShuffle(), # RGB 채널 간 shuffle\n",
    "    A.Normalize(mean=(0.485, 0.456, 0.406), std=(0.229, 0.224, 0.225), max_pixel_value=255.0, always_apply=False, p=1.0),\n",
    "    ToTensorV2()\n",
    "])\n",
    "\n",
    "test_transform_vit = A.Compose([\n",
    "    A.Resize(CFG['IMG_SIZE_VIT'],CFG['IMG_SIZE_VIT']),\n",
    "    A.Transpose(p=0.5), # 행렬 스왑\n",
    "    A.HorizontalFlip(p=0.5), # 좌우 반전\n",
    "    A.VerticalFlip(p=0.5), # 상하 반전\n",
    "    A.ShiftScaleRotate(p=0.5), # 랜덤하게 옮기고, scale, 회전\n",
    "    A.HueSaturationValue(hue_shift_limit=20, sat_shift_limit=20, val_shift_limit=20, p=0.5), # 빛깔, 색조, 값 변환\n",
    "    A.RandomBrightnessContrast(brightness_limit=(-0.1,0.1), contrast_limit=(-0.1, 0.1), p=0.5), # 명도 대비\n",
    "    A.ChannelShuffle(), # RGB 채널 간 shuffle\n",
    "    A.Normalize(mean=(0.485, 0.456, 0.406), std=(0.229, 0.224, 0.225), max_pixel_value=255.0, always_apply=False, p=1.0),\n",
    "    ToTensorV2()\n",
    "])"
   ],
   "metadata": {
    "collapsed": false,
    "ExecuteTime": {
     "end_time": "2023-12-28T13:44:08.714992800Z",
     "start_time": "2023-12-28T13:44:08.651941100Z"
    }
   },
   "id": "b3fe95b41eeff11d"
  },
  {
   "cell_type": "code",
   "execution_count": 11,
   "outputs": [],
   "source": [
    "train_transform_efficient = A.Compose([\n",
    "    A.Resize(CFG['IMG_SIZE_EFFICIENT']*2,CFG['IMG_SIZE_EFFICIENT']*2),\n",
    "    A.RandomCrop(CFG['IMG_SIZE_EFFICIENT'],CFG['IMG_SIZE_EFFICIENT']),\n",
    "    A.Transpose(p=0.5), # 행렬 스왑\n",
    "    A.HorizontalFlip(p=0.5), # 좌우 반전\n",
    "    A.VerticalFlip(p=0.5), # 상하 반전\n",
    "    A.Normalize(mean=(0.485, 0.456, 0.406), std=(0.229, 0.224, 0.225), max_pixel_value=255.0, always_apply=False, p=1.0),\n",
    "    A.CoarseDropout(p=0.5),\n",
    "    ToTensorV2()\n",
    "])\n",
    "\n",
    "test_transform_efficient = A.Compose([\n",
    "    A.Resize(CFG['IMG_SIZE_EFFICIENT'],CFG['IMG_SIZE_EFFICIENT']),\n",
    "    A.Transpose(p=0.5), # 행렬 스왑\n",
    "    A.HorizontalFlip(p=0.5), # 좌우 반전\n",
    "    A.VerticalFlip(p=0.5), # 상하 반전\n",
    "    A.Normalize(mean=(0.485, 0.456, 0.406), std=(0.229, 0.224, 0.225), max_pixel_value=255.0, always_apply=False, p=1.0),\n",
    "    A.CoarseDropout(p=0.5),\n",
    "    ToTensorV2()\n",
    "])"
   ],
   "metadata": {
    "collapsed": false,
    "ExecuteTime": {
     "end_time": "2023-12-28T13:44:08.714992800Z",
     "start_time": "2023-12-28T13:44:08.667585900Z"
    }
   },
   "id": "39b2eac6616de7e"
  },
  {
   "cell_type": "code",
   "execution_count": 12,
   "outputs": [],
   "source": [
    "train_transform_caformer = A.Compose([\n",
    "    A.Resize(CFG['IMG_SIZE_CAFORMER']*2,CFG['IMG_SIZE_CAFORMER']*2),\n",
    "    A.RandomCrop(CFG['IMG_SIZE_CAFORMER'],CFG['IMG_SIZE_CAFORMER']),\n",
    "    A.Transpose(p=0.5), # 행렬 스왑\n",
    "    A.HorizontalFlip(p=0.5), # 좌우 반전\n",
    "    A.VerticalFlip(p=0.5), # 상하 반전\n",
    "    A.Normalize(mean=(0.485, 0.456, 0.406), std=(0.229, 0.224, 0.225), max_pixel_value=255.0, always_apply=False, p=1.0),\n",
    "    A.CoarseDropout(p=0.5),\n",
    "    ToTensorV2()\n",
    "])\n",
    "\n",
    "test_transform_caformer = A.Compose([\n",
    "    A.Resize(CFG['IMG_SIZE_CAFORMER'],CFG['IMG_SIZE_CAFORMER']),\n",
    "    A.Transpose(p=0.5), # 행렬 스왑\n",
    "    A.HorizontalFlip(p=0.5), # 좌우 반전\n",
    "    A.VerticalFlip(p=0.5), # 상하 반전\n",
    "    A.Normalize(mean=(0.485, 0.456, 0.406), std=(0.229, 0.224, 0.225), max_pixel_value=255.0, always_apply=False, p=1.0),\n",
    "    A.CoarseDropout(p=0.5),\n",
    "    ToTensorV2()\n",
    "])"
   ],
   "metadata": {
    "collapsed": false,
    "ExecuteTime": {
     "end_time": "2023-12-28T13:44:08.730612600Z",
     "start_time": "2023-12-28T13:44:08.686831700Z"
    }
   },
   "id": "17b5b770a5fb4839"
  },
  {
   "cell_type": "code",
   "execution_count": 13,
   "outputs": [
    {
     "data": {
      "text/plain": "<torch._C.Generator at 0x1b8e1c7deb0>"
     },
     "execution_count": 13,
     "metadata": {},
     "output_type": "execute_result"
    }
   ],
   "source": [
    "def seed_worker(worker_id):\n",
    "    worker_seed = torch.initial_seed() % 2 ** 32\n",
    "    np.random.seed(worker_seed)\n",
    "    random.seed(worker_seed)\n",
    "g = torch.Generator()\n",
    "g.manual_seed(0)"
   ],
   "metadata": {
    "collapsed": false,
    "ExecuteTime": {
     "end_time": "2023-12-28T13:44:08.746251400Z",
     "start_time": "2023-12-28T13:44:08.699351300Z"
    }
   },
   "id": "c69fe868589b1093"
  },
  {
   "cell_type": "code",
   "execution_count": 14,
   "outputs": [],
   "source": [
    "class VitModel(nn.Module):\n",
    "    def __init__(self, num_classes=len(le.classes_)):\n",
    "        super(VitModel, self).__init__()\n",
    "        self.backbone = timm.create_model('tiny_vit_21m_384.dist_in22k_ft_in1k', pretrained=True, num_classes=0)\n",
    "        self.classifier = nn.Sequential(\n",
    "            nn.LayerNorm(576),\n",
    "            nn.GELU(),\n",
    "            nn.Dropout(p=0.4),\n",
    "            nn.Linear(576, num_classes)\n",
    "        )\n",
    "            \n",
    "    def forward(self, x):\n",
    "        x = self.backbone(x)\n",
    "        x = self.classifier(x)\n",
    "        return x"
   ],
   "metadata": {
    "collapsed": false,
    "ExecuteTime": {
     "end_time": "2023-12-28T13:44:08.746251400Z",
     "start_time": "2023-12-28T13:44:08.714992800Z"
    }
   },
   "id": "642a8d2bdc18ab96"
  },
  {
   "cell_type": "code",
   "execution_count": 15,
   "outputs": [],
   "source": [
    "class EfficientNetModel(nn.Module):\n",
    "    def __init__(self, num_classes=len(le.classes_)):\n",
    "        super(EfficientNetModel, self).__init__()\n",
    "        self.backbone = timm.create_model('efficientnet_b3', pretrained=True, num_classes=512)\n",
    "        self.classifier = nn.Sequential(\n",
    "            nn.LayerNorm(512),\n",
    "            nn.GELU(),\n",
    "            nn.Dropout(p=0.4),\n",
    "            nn.Linear(512, num_classes)\n",
    "        )\n",
    "\n",
    "    def forward(self, x):\n",
    "        x = self.backbone(x)\n",
    "        x = self.classifier(x)\n",
    "        return x"
   ],
   "metadata": {
    "collapsed": false,
    "ExecuteTime": {
     "end_time": "2023-12-28T13:44:08.746251400Z",
     "start_time": "2023-12-28T13:44:08.730612600Z"
    }
   },
   "id": "ec6aaed6e50ff183"
  },
  {
   "cell_type": "code",
   "execution_count": 16,
   "outputs": [],
   "source": [
    "class CAFormerModel(nn.Module):\n",
    "    def __init__(self, num_classes=len(le.classes_)):\n",
    "        super(CAFormerModel, self).__init__()\n",
    "        self.backbone = timm.create_model('caformer_s18.sail_in22k_ft_in1k_384', pretrained=True, num_classes=0)\n",
    "        self.classifier = nn.Sequential(\n",
    "            nn.LayerNorm(512),\n",
    "            nn.GELU(),\n",
    "            nn.Dropout(p=0.4),\n",
    "            nn.Linear(512, num_classes)\n",
    "        )\n",
    "            \n",
    "    def forward(self, x):\n",
    "        x = self.backbone(x)\n",
    "        x = self.classifier(x)\n",
    "        return x"
   ],
   "metadata": {
    "collapsed": false,
    "ExecuteTime": {
     "end_time": "2023-12-28T13:44:08.793881300Z",
     "start_time": "2023-12-28T13:44:08.746251400Z"
    }
   },
   "id": "cd5ecc94fada5c8b"
  },
  {
   "cell_type": "code",
   "execution_count": 17,
   "outputs": [],
   "source": [
    "def clear_mem():\n",
    "    gc.collect()\n",
    "    torch.cuda.empty_cache()"
   ],
   "metadata": {
    "collapsed": false,
    "ExecuteTime": {
     "end_time": "2023-12-28T13:44:08.793881300Z",
     "start_time": "2023-12-28T13:44:08.762267400Z"
    }
   },
   "id": "ecce2baec16e71e7"
  },
  {
   "cell_type": "code",
   "execution_count": 18,
   "outputs": [
    {
     "name": "stdout",
     "output_type": "stream",
     "text": [
      "time_now=datetime.datetime(2023, 12, 28, 22, 44, 8, 777890)\n"
     ]
    }
   ],
   "source": [
    "time_now = datetime.now()\n",
    "print(f'{time_now=}')"
   ],
   "metadata": {
    "collapsed": false,
    "ExecuteTime": {
     "end_time": "2023-12-28T13:44:08.798630700Z",
     "start_time": "2023-12-28T13:44:08.777890900Z"
    }
   },
   "id": "17fc703a3126967"
  },
  {
   "cell_type": "code",
   "execution_count": 19,
   "outputs": [
    {
     "data": {
      "text/plain": "           id               img_path\n0  TEST_00000  ./test/TEST_00000.jpg\n1  TEST_00001  ./test/TEST_00001.jpg\n2  TEST_00002  ./test/TEST_00002.jpg\n3  TEST_00003  ./test/TEST_00003.jpg\n4  TEST_00004  ./test/TEST_00004.jpg",
      "text/html": "<div>\n<style scoped>\n    .dataframe tbody tr th:only-of-type {\n        vertical-align: middle;\n    }\n\n    .dataframe tbody tr th {\n        vertical-align: top;\n    }\n\n    .dataframe thead th {\n        text-align: right;\n    }\n</style>\n<table border=\"1\" class=\"dataframe\">\n  <thead>\n    <tr style=\"text-align: right;\">\n      <th></th>\n      <th>id</th>\n      <th>img_path</th>\n    </tr>\n  </thead>\n  <tbody>\n    <tr>\n      <th>0</th>\n      <td>TEST_00000</td>\n      <td>./test/TEST_00000.jpg</td>\n    </tr>\n    <tr>\n      <th>1</th>\n      <td>TEST_00001</td>\n      <td>./test/TEST_00001.jpg</td>\n    </tr>\n    <tr>\n      <th>2</th>\n      <td>TEST_00002</td>\n      <td>./test/TEST_00002.jpg</td>\n    </tr>\n    <tr>\n      <th>3</th>\n      <td>TEST_00003</td>\n      <td>./test/TEST_00003.jpg</td>\n    </tr>\n    <tr>\n      <th>4</th>\n      <td>TEST_00004</td>\n      <td>./test/TEST_00004.jpg</td>\n    </tr>\n  </tbody>\n</table>\n</div>"
     },
     "execution_count": 19,
     "metadata": {},
     "output_type": "execute_result"
    }
   ],
   "source": [
    "test_df = pd.read_csv(os.path.join(data_path, './test.csv'))\n",
    "test_df.head()"
   ],
   "metadata": {
    "collapsed": false,
    "ExecuteTime": {
     "end_time": "2023-12-28T13:44:08.866207200Z",
     "start_time": "2023-12-28T13:44:08.793881300Z"
    }
   },
   "id": "9c8fff1a450556ec"
  },
  {
   "cell_type": "code",
   "execution_count": 20,
   "outputs": [],
   "source": [
    "test_img_paths = get_data(test_df, infer=True)"
   ],
   "metadata": {
    "collapsed": false,
    "ExecuteTime": {
     "end_time": "2023-12-28T13:44:08.930714900Z",
     "start_time": "2023-12-28T13:44:08.866207200Z"
    }
   },
   "id": "6a50c39d21de27ed"
  },
  {
   "cell_type": "code",
   "execution_count": 21,
   "outputs": [],
   "source": [
    "test_dataset_vit = CustomDataset(test_img_paths, None, test_transform_vit)\n",
    "test_loader_vit = DataLoader(test_dataset_vit, batch_size=CFG['BATCH_SIZE'], shuffle=False, num_workers=0)"
   ],
   "metadata": {
    "collapsed": false,
    "ExecuteTime": {
     "end_time": "2023-12-28T13:44:08.946327200Z",
     "start_time": "2023-12-28T13:44:08.886823200Z"
    }
   },
   "id": "66859c2e35131aae"
  },
  {
   "cell_type": "code",
   "execution_count": 22,
   "outputs": [],
   "source": [
    "test_dataset_efficient = CustomDataset(test_img_paths, None, test_transform_efficient)\n",
    "test_loader_efficient = DataLoader(test_dataset_efficient, batch_size=CFG['BATCH_SIZE'], shuffle=False, num_workers=0)"
   ],
   "metadata": {
    "collapsed": false,
    "ExecuteTime": {
     "end_time": "2023-12-28T13:44:08.946327200Z",
     "start_time": "2023-12-28T13:44:08.899383200Z"
    }
   },
   "id": "94e7ad2159a4964c"
  },
  {
   "cell_type": "code",
   "execution_count": 23,
   "outputs": [],
   "source": [
    "test_dataset_caformer = CustomDataset(test_img_paths, None, test_transform_caformer)\n",
    "test_loader_caformer = DataLoader(test_dataset_caformer, batch_size=CFG['BATCH_SIZE'], shuffle=False, num_workers=0)"
   ],
   "metadata": {
    "collapsed": false,
    "ExecuteTime": {
     "end_time": "2023-12-28T13:44:08.993861800Z",
     "start_time": "2023-12-28T13:44:08.915070400Z"
    }
   },
   "id": "c79bfdf6bbf78401"
  },
  {
   "cell_type": "code",
   "execution_count": 24,
   "outputs": [],
   "source": [
    "def inference(model, test_loader, device):\n",
    "    model.to(device)\n",
    "    model.eval()\n",
    "    \n",
    "    model_preds = []\n",
    "    \n",
    "    with torch.no_grad():\n",
    "        for idx, img in enumerate(test_loader):\n",
    "            img = img.float().to(device)\n",
    "            \n",
    "            model_pred = model(img).detach().cpu()\n",
    "            model_pred = F.softmax(model_pred, dim=1)\n",
    "            model_preds.extend(model_pred.numpy().tolist())\n",
    "    \n",
    "    print('Done.')\n",
    "    return model_preds"
   ],
   "metadata": {
    "collapsed": false,
    "ExecuteTime": {
     "end_time": "2023-12-28T13:44:08.993861800Z",
     "start_time": "2023-12-28T13:44:08.930714900Z"
    }
   },
   "id": "60aba723872ee62e"
  },
  {
   "cell_type": "code",
   "execution_count": 25,
   "outputs": [
    {
     "name": "stdout",
     "output_type": "stream",
     "text": [
      "0-fold CHECKPOINT LOADED: ../../data/runs/kfold_vit/best_model_0.pt\n",
      "Done.\n",
      "Done.\n",
      "Done.\n",
      "Done.\n",
      "Done.\n",
      "Done.\n",
      "Done.\n",
      "1-fold CHECKPOINT LOADED: ../../data/runs/kfold_vit/best_model_1.pt\n",
      "Done.\n",
      "Done.\n",
      "Done.\n",
      "Done.\n",
      "Done.\n",
      "Done.\n",
      "Done.\n",
      "2-fold CHECKPOINT LOADED: ../../data/runs/kfold_vit/best_model_2.pt\n",
      "Done.\n",
      "Done.\n",
      "Done.\n",
      "Done.\n",
      "Done.\n",
      "Done.\n",
      "Done.\n",
      "3-fold CHECKPOINT LOADED: ../../data/runs/kfold_vit/best_model_3.pt\n",
      "Done.\n",
      "Done.\n",
      "Done.\n",
      "Done.\n",
      "Done.\n",
      "Done.\n",
      "Done.\n",
      "4-fold CHECKPOINT LOADED: ../../data/runs/kfold_vit/best_model_4.pt\n",
      "Done.\n",
      "Done.\n",
      "Done.\n",
      "Done.\n",
      "Done.\n",
      "Done.\n",
      "Done.\n",
      "0-fold CHECKPOINT LOADED: ../../data/runs/kfold_efficientnet/best_model_0.pt\n",
      "Done.\n",
      "Done.\n",
      "Done.\n",
      "Done.\n",
      "Done.\n",
      "Done.\n",
      "Done.\n",
      "1-fold CHECKPOINT LOADED: ../../data/runs/kfold_efficientnet/best_model_1.pt\n",
      "Done.\n",
      "Done.\n",
      "Done.\n",
      "Done.\n",
      "Done.\n",
      "Done.\n",
      "Done.\n",
      "2-fold CHECKPOINT LOADED: ../../data/runs/kfold_efficientnet/best_model_2.pt\n",
      "Done.\n",
      "Done.\n",
      "Done.\n",
      "Done.\n",
      "Done.\n",
      "Done.\n",
      "Done.\n",
      "3-fold CHECKPOINT LOADED: ../../data/runs/kfold_efficientnet/best_model_3.pt\n",
      "Done.\n",
      "Done.\n",
      "Done.\n",
      "Done.\n",
      "Done.\n",
      "Done.\n",
      "Done.\n",
      "4-fold CHECKPOINT LOADED: ../../data/runs/kfold_efficientnet/best_model_4.pt\n",
      "Done.\n",
      "Done.\n",
      "Done.\n",
      "Done.\n",
      "Done.\n",
      "Done.\n",
      "Done.\n",
      "0-fold CHECKPOINT LOADED: ../../data/runs/kfold_caformer/best_model_0.pt\n",
      "Done.\n",
      "Done.\n",
      "Done.\n",
      "Done.\n",
      "Done.\n",
      "Done.\n",
      "Done.\n",
      "1-fold CHECKPOINT LOADED: ../../data/runs/kfold_caformer/best_model_1.pt\n",
      "Done.\n",
      "Done.\n",
      "Done.\n",
      "Done.\n",
      "Done.\n",
      "Done.\n",
      "Done.\n",
      "2-fold CHECKPOINT LOADED: ../../data/runs/kfold_caformer/best_model_2.pt\n",
      "Done.\n",
      "Done.\n",
      "Done.\n",
      "Done.\n",
      "Done.\n",
      "Done.\n",
      "Done.\n",
      "3-fold CHECKPOINT LOADED: ../../data/runs/kfold_caformer/best_model_3.pt\n",
      "Done.\n",
      "Done.\n",
      "Done.\n",
      "Done.\n",
      "Done.\n",
      "Done.\n",
      "Done.\n",
      "4-fold CHECKPOINT LOADED: ../../data/runs/kfold_caformer/best_model_4.pt\n",
      "Done.\n",
      "Done.\n",
      "Done.\n",
      "Done.\n",
      "Done.\n",
      "Done.\n",
      "Done.\n"
     ]
    }
   ],
   "source": [
    "preds_tta = np.zeros((len(test_df), len(le.classes_)))\n",
    "test_targets = [\n",
    "    (test_loader_vit, 'kfold_vit'),\n",
    "    (test_loader_efficient, 'kfold_efficientnet'),\n",
    "    (test_loader_caformer, 'kfold_caformer')\n",
    "]\n",
    "for loader, run_id in test_targets:\n",
    "    for k_ in range(CFG['K-FOLD']):\n",
    "        checkpoint = os.path.join(data_path, f'runs/{run_id}/best_model_{k_}.pt')\n",
    "        print(f'{k_}-fold CHECKPOINT LOADED: {checkpoint}')\n",
    "        infer_model = torch.load(checkpoint)\n",
    "        for t_ in range(CFG['NUM_TTA']):\n",
    "            preds_tta += np.array(inference(infer_model, loader, device))"
   ],
   "metadata": {
    "collapsed": false,
    "ExecuteTime": {
     "end_time": "2023-12-28T16:33:04.017195100Z",
     "start_time": "2023-12-28T13:44:08.946327200Z"
    }
   },
   "id": "eb268f8a50f8f1ff"
  },
  {
   "cell_type": "code",
   "execution_count": 26,
   "outputs": [
    {
     "data": {
      "text/plain": "array([[3.93546038e-02, 1.88333291e-01, 7.17476744e-02, 9.40155775e-02,\n        3.13911152e-02, 5.31454685e-02, 8.50061306e-02, 9.66850150e-02,\n        1.37719830e-02, 5.77412460e-01, 8.68181823e+01, 9.95824838e-01,\n        1.14705161e-01, 3.53681662e-02, 2.96101108e-02, 4.28905097e-01,\n        3.22870021e-02, 2.09567065e-02, 2.72733955e-01, 2.81361716e-01,\n        1.59169089e-01, 4.10604815e-02, 6.26692310e-02, 8.45099158e-02,\n        1.63070876e-01, 9.50511496e-03, 8.62218876e-01, 1.97596509e-02,\n        8.02647693e-02, 1.04504121e-01, 1.62442401e-01, 2.39142172e-02,\n        1.47428531e-01, 1.64144386e+00, 2.81161956e-02, 2.74751768e-01,\n        1.08183028e-01, 4.80738153e-02, 2.97520455e-01, 5.88237604e-02,\n        4.51288657e-01, 1.53676032e-01, 5.98268895e-01, 1.73213647e-01,\n        1.71598682e-01, 2.85329154e-01, 1.66647303e+00, 5.14733234e-02,\n        6.72358208e+00, 6.68696333e-02],\n       [1.10446302e-01, 1.04646748e-01, 9.73525238e+01, 4.93605862e-02,\n        7.46376227e-02, 3.53027088e-02, 2.28137398e-02, 5.69704983e-02,\n        2.83658530e-01, 8.90407031e-02, 3.23118309e-01, 2.34293086e-01,\n        6.70061379e-01, 2.60022083e-01, 9.02192736e-03, 2.20759934e-01,\n        9.30046356e-01, 1.83836507e-02, 3.66644897e-02, 1.25755808e-01,\n        7.30575853e-02, 6.00116235e-02, 3.09336750e-02, 6.47332190e-02,\n        5.54400690e-02, 2.18216117e-02, 5.95012671e-02, 5.90716540e-02,\n        7.66728111e-02, 8.06835275e-02, 1.37873020e-01, 3.13981053e-02,\n        7.29806956e-02, 1.32313778e+00, 7.77542150e-02, 8.40458694e-02,\n        1.15319063e-01, 1.75198872e-01, 1.42126075e-01, 8.14246582e-02,\n        7.65179033e-02, 4.88950890e-02, 7.90220583e-02, 2.76355448e-01,\n        5.43874999e-02, 5.77094500e-02, 1.33116945e-01, 3.24529664e-02,\n        3.69804180e-01, 4.10250362e-02],\n       [1.52456839e-01, 1.06928688e-01, 4.53357366e-02, 5.26049191e-02,\n        5.34563359e-02, 3.15457417e-02, 8.29223353e+01, 3.43085156e-02,\n        4.14279015e-02, 1.69722590e+00, 5.63895858e-01, 8.99547294e-02,\n        2.78178313e-02, 8.71141969e-02, 9.13739661e-02, 2.41199853e-01,\n        5.42984043e-02, 1.91245030e-02, 7.93213536e-02, 7.85949252e-02,\n        1.33852489e-01, 4.08128077e-02, 3.95810872e-02, 3.52127221e-02,\n        1.38017457e-01, 2.23889136e-02, 3.11678378e-01, 4.06790851e-02,\n        5.61503924e-02, 7.97338162e+00, 1.03915280e-01, 2.83767028e-01,\n        7.18100571e-02, 2.41484880e-01, 3.65380543e-02, 1.25974704e-01,\n        6.22129171e-02, 5.61873862e-01, 1.04889297e-01, 4.84034783e-02,\n        7.50415129e-02, 1.27579566e+00, 2.68303517e-01, 1.02858999e-01,\n        1.75696886e+00, 2.06191936e-01, 4.13257523e+00, 3.93939564e-02,\n        1.88172031e-01, 5.17519266e-02],\n       [1.00613065e+02, 1.00098593e-01, 5.85918487e-02, 6.68426826e-02,\n        4.05245778e-02, 3.41875077e-02, 1.31618931e-02, 6.40904101e-02,\n        2.26398925e-02, 3.02833164e-02, 1.28162569e-01, 2.70914699e-02,\n        2.30784140e-02, 3.86700846e-02, 1.00802044e-02, 2.00398576e-01,\n        3.13469793e-02, 9.39412186e-03, 3.76394705e-02, 8.82445592e-02,\n        2.28761373e-02, 3.69194307e-02, 2.46159592e-02, 2.03535851e-02,\n        4.96232926e-02, 9.23154128e-03, 5.54332986e-02, 3.56092964e-02,\n        4.38526171e-02, 1.77710006e-01, 1.21722631e-01, 3.43351825e-02,\n        1.80682978e-01, 1.49649181e-01, 1.65487565e-02, 8.42151052e-02,\n        1.29332646e-01, 1.31843923e-01, 8.23646997e-02, 7.05816673e-02,\n        5.86133544e-01, 2.99970522e-02, 5.20752280e-02, 1.01459606e-01,\n        2.80098113e-02, 4.03646024e-02, 5.97562593e-02, 2.96316737e-02,\n        9.09873411e-01, 4.76044194e-02],\n       [8.56527126e-02, 1.02152936e+00, 1.13778047e+01, 1.30805234e-01,\n        9.11403882e-02, 2.83750365e-01, 1.31797612e-02, 4.89365957e-01,\n        3.08113627e-01, 6.20222663e-02, 1.97510197e+01, 2.39532995e-01,\n        9.63191404e-01, 1.68783853e-01, 1.35003564e-02, 1.78922266e-01,\n        2.26746051e-01, 2.89933591e-02, 3.06916337e-02, 1.87072935e-01,\n        1.39315448e-01, 3.31570642e-01, 6.55212229e-02, 2.25843216e+00,\n        5.60469987e-02, 4.97621323e-02, 3.60282071e-02, 4.25988505e-02,\n        9.53375465e-02, 6.91763439e-02, 5.51324623e-01, 1.15210975e-02,\n        1.54029833e-01, 3.80638572e+01, 2.50444627e-01, 4.70125221e-01,\n        2.66629684e-01, 1.07401003e-01, 3.20685604e-01, 2.38008446e-01,\n        1.26227359e-01, 2.12201739e-02, 6.99449341e-02, 1.23967199e-01,\n        3.33051549e-02, 5.08313788e-02, 8.80770441e-02, 8.18960757e-02,\n        2.51405671e+01, 3.43271768e-02],\n       [1.18896341e-01, 1.71995926e-01, 9.67950969e-01, 1.79374381e-01,\n        1.32733426e+00, 8.74078402e-02, 8.17577186e-02, 8.87654712e-02,\n        8.50740259e+00, 1.32257105e-01, 3.98654513e-01, 4.67268741e-02,\n        9.32043946e-01, 1.65405160e-01, 8.74476710e-02, 3.28807237e-01,\n        2.26559508e+00, 3.84854042e-01, 1.44855079e-01, 1.59003731e-01,\n        7.42949087e-02, 4.72979750e+00, 3.61531011e+00, 1.75463485e-01,\n        8.72488535e-01, 8.88924691e-02, 1.39760283e-01, 5.77603402e+00,\n        1.99650152e-01, 1.06358122e-01, 9.92058404e-01, 5.34429513e-02,\n        1.09792964e-01, 6.09371407e+01, 2.52505163e-01, 1.56236357e-01,\n        1.58036904e+00, 1.88526876e-01, 2.81056540e-01, 1.00426469e+00,\n        1.70369068e-01, 1.54221094e-01, 1.26981399e-01, 2.85350294e+00,\n        1.73659225e-01, 2.53838616e-01, 1.70074470e-01, 4.48001150e-01,\n        2.66144075e+00, 7.79319983e-02],\n       [1.70066582e-01, 1.36989783e-01, 2.11647568e+00, 5.39673386e-02,\n        1.76083470e-01, 3.99363645e-02, 2.91317603e-02, 6.90523973e-02,\n        4.87497822e-02, 8.40486365e-02, 4.68040803e-01, 6.44437988e-01,\n        1.48317304e-01, 4.30618433e+00, 4.82950588e-02, 4.12707932e+00,\n        2.44172152e-01, 1.12842992e-02, 5.30599344e-02, 3.52297022e-02,\n        1.33736435e-01, 9.47470983e-02, 3.17345540e-02, 5.03052026e-01,\n        1.24297771e-01, 2.87666096e-02, 4.86447155e-02, 2.26711372e-02,\n        1.35875493e-01, 4.28798157e-01, 1.26603958e-01, 1.70457392e-02,\n        6.76123674e-01, 8.55764527e+01, 9.04173556e-02, 7.91847581e-02,\n        1.76096287e-01, 8.23926328e-01, 2.65959327e-01, 1.88708772e-01,\n        4.59765595e-02, 3.68764431e-02, 6.43283821e-02, 6.45587480e-01,\n        4.65376290e-02, 4.49463727e-02, 1.61908826e-01, 6.03654410e-02,\n        1.10651905e+00, 2.03506977e-01],\n       [8.51522161e-02, 1.27370700e-01, 4.97665168e-02, 4.07784101e-02,\n        3.16665652e-02, 5.63366152e-02, 8.26972821e-03, 2.38724117e-01,\n        1.94535991e-02, 3.85594338e-02, 2.25623143e-01, 1.33060949e-01,\n        4.28894489e-02, 3.63926028e-02, 2.10931560e-02, 1.49933191e-01,\n        9.73522697e-02, 7.95117943e-03, 2.10650369e-02, 7.05396221e-02,\n        1.62330050e-02, 4.03081213e-02, 1.62618441e-02, 1.79994826e-01,\n        2.97239092e-02, 2.02099990e-02, 3.10430692e-02, 2.07304426e-02,\n        4.44208983e-02, 4.89210245e-02, 8.05809504e-02, 8.66072003e-03,\n        8.63603856e-02, 4.82702532e-01, 1.77151889e-02, 1.41372997e-01,\n        6.46029177e-02, 5.10484827e-02, 5.09279082e+00, 4.71213577e-02,\n        5.77791360e-02, 2.37371721e-02, 7.40227598e-02, 2.14512927e-01,\n        3.11344347e-02, 5.20720996e-02, 6.04886574e-02, 3.13339509e-02,\n        9.64022436e+01, 2.98929595e-02],\n       [4.39143133e-02, 2.05065914e+00, 5.87989028e-01, 2.50431729e-02,\n        3.70916350e-02, 2.48914868e-01, 3.46900279e-02, 1.20870116e+00,\n        1.53828296e-02, 1.74369860e-01, 1.03596135e+00, 9.27067882e+01,\n        3.51075504e-01, 5.37861678e-01, 3.19437239e-02, 6.14137369e-01,\n        5.79406724e-02, 1.13377397e-02, 2.82906065e-02, 5.58126749e-02,\n        3.75676840e-01, 8.62160819e-02, 3.17358585e-02, 1.18459121e-01,\n        3.53669557e-02, 3.24028499e-02, 4.05827853e-02, 2.16595070e-02,\n        4.58576732e-02, 4.26307718e-02, 5.86030266e-02, 1.84052725e-02,\n        9.35389262e-02, 4.92051947e-01, 7.95898922e-02, 2.33495352e-01,\n        5.94569985e-02, 5.97351520e-02, 1.72410147e+00, 7.58932543e-02,\n        5.37165314e-02, 3.05854739e-02, 6.96474435e-02, 3.37336061e-01,\n        2.91432592e-02, 4.35535017e-02, 9.08871462e-02, 2.88059706e-02,\n        6.39826430e-01, 9.31317738e-02],\n       [8.49428434e-01, 2.23117659e-01, 9.27504327e-02, 8.71346227e-02,\n        1.93536058e-01, 1.27724399e-01, 2.82168325e-02, 2.40247412e-01,\n        7.52617901e-02, 8.55560972e-02, 6.84826259e-01, 1.12423505e+00,\n        1.12754588e-01, 9.16372862e-01, 2.34229251e-02, 1.35598205e+00,\n        5.50298950e-02, 2.65824286e-02, 5.62204716e-02, 5.96138607e-02,\n        8.00752637e-02, 1.31499981e-01, 9.90692982e-02, 5.42131776e-02,\n        2.17147522e-01, 6.95365459e-02, 6.87317571e-02, 9.47189682e-02,\n        1.40496260e-01, 1.65173841e-01, 1.95032243e-01, 3.91571361e-02,\n        1.70552434e-01, 7.03887110e-01, 3.69565689e-02, 3.02555372e-01,\n        2.11542652e-01, 1.36908768e-01, 3.95963114e-01, 4.82833682e-02,\n        8.75287956e+01, 3.56401063e-02, 8.87751265e-02, 2.55325426e+00,\n        3.88822413e-02, 8.80366806e-02, 1.44089477e-01, 3.14941858e-01,\n        4.37832200e+00, 4.97492195e-02]])"
     },
     "execution_count": 26,
     "metadata": {},
     "output_type": "execute_result"
    }
   ],
   "source": [
    "preds_tta[:10]"
   ],
   "metadata": {
    "collapsed": false,
    "ExecuteTime": {
     "end_time": "2023-12-28T16:33:04.041197700Z",
     "start_time": "2023-12-28T16:33:04.025266700Z"
    }
   },
   "id": "7f4094794fa731b8"
  },
  {
   "cell_type": "code",
   "execution_count": 27,
   "outputs": [],
   "source": [
    "preds = preds_tta.argmax(axis=1)"
   ],
   "metadata": {
    "collapsed": false,
    "ExecuteTime": {
     "end_time": "2023-12-28T16:33:04.056917100Z",
     "start_time": "2023-12-28T16:33:04.041197700Z"
    }
   },
   "id": "7fd493b0d8b9cee2"
  },
  {
   "cell_type": "code",
   "execution_count": 28,
   "outputs": [],
   "source": [
    "preds = le.inverse_transform(preds)"
   ],
   "metadata": {
    "collapsed": false,
    "ExecuteTime": {
     "end_time": "2023-12-28T16:33:04.076866600Z",
     "start_time": "2023-12-28T16:33:04.056917100Z"
    }
   },
   "id": "37b7f04a0b4de44f"
  },
  {
   "cell_type": "code",
   "execution_count": 29,
   "outputs": [],
   "source": [
    "submit = pd.read_csv(os.path.join(data_path, './sample_submission.csv'))"
   ],
   "metadata": {
    "collapsed": false,
    "ExecuteTime": {
     "end_time": "2023-12-28T16:33:04.093250600Z",
     "start_time": "2023-12-28T16:33:04.072462800Z"
    }
   },
   "id": "fe59292099a9b96e"
  },
  {
   "cell_type": "code",
   "execution_count": 30,
   "outputs": [],
   "source": [
    "submit['artist'] = preds"
   ],
   "metadata": {
    "collapsed": false,
    "ExecuteTime": {
     "end_time": "2023-12-28T16:33:04.108977100Z",
     "start_time": "2023-12-28T16:33:04.093250600Z"
    }
   },
   "id": "8582475a6cb3db6f"
  },
  {
   "cell_type": "code",
   "execution_count": 31,
   "outputs": [
    {
     "data": {
      "text/plain": "           id             artist\n0  TEST_00000        Edgar Degas\n1  TEST_00001  Amedeo Modigliani\n2  TEST_00002         Caravaggio\n3  TEST_00003    Albrecht Du rer\n4  TEST_00004      Pablo Picasso",
      "text/html": "<div>\n<style scoped>\n    .dataframe tbody tr th:only-of-type {\n        vertical-align: middle;\n    }\n\n    .dataframe tbody tr th {\n        vertical-align: top;\n    }\n\n    .dataframe thead th {\n        text-align: right;\n    }\n</style>\n<table border=\"1\" class=\"dataframe\">\n  <thead>\n    <tr style=\"text-align: right;\">\n      <th></th>\n      <th>id</th>\n      <th>artist</th>\n    </tr>\n  </thead>\n  <tbody>\n    <tr>\n      <th>0</th>\n      <td>TEST_00000</td>\n      <td>Edgar Degas</td>\n    </tr>\n    <tr>\n      <th>1</th>\n      <td>TEST_00001</td>\n      <td>Amedeo Modigliani</td>\n    </tr>\n    <tr>\n      <th>2</th>\n      <td>TEST_00002</td>\n      <td>Caravaggio</td>\n    </tr>\n    <tr>\n      <th>3</th>\n      <td>TEST_00003</td>\n      <td>Albrecht Du rer</td>\n    </tr>\n    <tr>\n      <th>4</th>\n      <td>TEST_00004</td>\n      <td>Pablo Picasso</td>\n    </tr>\n  </tbody>\n</table>\n</div>"
     },
     "execution_count": 31,
     "metadata": {},
     "output_type": "execute_result"
    }
   ],
   "source": [
    "submit.head()"
   ],
   "metadata": {
    "collapsed": false,
    "ExecuteTime": {
     "end_time": "2023-12-28T16:33:04.140144300Z",
     "start_time": "2023-12-28T16:33:04.108977100Z"
    }
   },
   "id": "15bd98c5d6b59bf4"
  },
  {
   "cell_type": "code",
   "execution_count": 32,
   "outputs": [],
   "source": [
    "submit.to_csv(os.path.join(data_path, f\"./submit_{CFG['FILENAME']}.csv\"), index=False)"
   ],
   "metadata": {
    "collapsed": false,
    "ExecuteTime": {
     "end_time": "2023-12-28T16:33:04.234509200Z",
     "start_time": "2023-12-28T16:33:04.124521800Z"
    }
   },
   "id": "eed3cb0dc59f47f7"
  },
  {
   "cell_type": "code",
   "execution_count": 32,
   "outputs": [],
   "source": [],
   "metadata": {
    "collapsed": false,
    "ExecuteTime": {
     "end_time": "2023-12-28T16:33:04.250052900Z",
     "start_time": "2023-12-28T16:33:04.155769500Z"
    }
   },
   "id": "479c26c8a5a70d89"
  }
 ],
 "metadata": {
  "kernelspec": {
   "display_name": "Python 3",
   "language": "python",
   "name": "python3"
  },
  "language_info": {
   "codemirror_mode": {
    "name": "ipython",
    "version": 2
   },
   "file_extension": ".py",
   "mimetype": "text/x-python",
   "name": "python",
   "nbconvert_exporter": "python",
   "pygments_lexer": "ipython2",
   "version": "2.7.6"
  }
 },
 "nbformat": 4,
 "nbformat_minor": 5
}
