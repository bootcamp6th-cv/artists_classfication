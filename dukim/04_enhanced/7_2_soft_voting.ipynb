{
 "cells": [
  {
   "cell_type": "markdown",
   "source": [
    "#  softvoting\n",
    "* models\n",
    "    - vit\n",
    "    - efficient\n",
    "    - caformer\n",
    "- kfold\n",
    "* result\n",
    "    - public 점수 : 0.8619097833\n",
    "    - private 점수 : 0.864669898"
   ],
   "metadata": {
    "collapsed": false
   },
   "id": "2e4b98229307fe40"
  },
  {
   "cell_type": "code",
   "execution_count": 11,
   "outputs": [],
   "source": [
    "import gc\n",
    "import os\n",
    "import random\n",
    "from datetime import datetime\n",
    "\n",
    "import pandas as pd\n",
    "import numpy as np\n",
    "import matplotlib.pyplot as plt\n",
    "import seaborn as sns\n",
    "import cv2\n",
    "\n",
    "from sklearn import preprocessing\n",
    "from sklearn.model_selection import train_test_split, StratifiedKFold\n",
    "from sklearn.metrics import f1_score\n",
    "\n",
    "import torch\n",
    "import torch.nn as nn\n",
    "import torch.optim as optim\n",
    "import torch.nn.functional as F\n",
    "from torch.utils.data import Dataset, DataLoader\n",
    "\n",
    "from tqdm.auto import tqdm\n",
    "\n",
    "import albumentations as A\n",
    "from albumentations.pytorch.transforms import ToTensorV2\n",
    "\n",
    "import timm\n",
    "\n",
    "import warnings\n",
    "warnings.filterwarnings(action='ignore') "
   ],
   "metadata": {
    "collapsed": false,
    "ExecuteTime": {
     "start_time": "2023-12-28T01:23:05.161924100Z"
    }
   },
   "id": "initial_id"
  },
  {
   "cell_type": "code",
   "execution_count": 12,
   "outputs": [],
   "source": [
    "device = torch.device('cuda') if torch.cuda.is_available() else torch.device('cpu')"
   ],
   "metadata": {
    "collapsed": false,
    "ExecuteTime": {
     "end_time": "2023-12-28T01:23:05.432174500Z",
     "start_time": "2023-12-28T01:23:05.178405400Z"
    }
   },
   "id": "5fc1ff58a4a9d6d1"
  },
  {
   "cell_type": "code",
   "execution_count": 13,
   "outputs": [],
   "source": [
    "CFG = {\n",
    "    'IMG_SIZE_VIT': 260,\n",
    "    'IMG_SIZE_EFFICIENT': 300,\n",
    "    'IMG_SIZE_CAFORMER': 272,\n",
    "    'BATCH_SIZE': 16,\n",
    "    'K-FOLD': 5,\n",
    "    'FILENAME': 'soft',\n",
    "    'SEED': 6\n",
    "}"
   ],
   "metadata": {
    "collapsed": false,
    "ExecuteTime": {
     "end_time": "2023-12-28T01:23:05.432174500Z",
     "start_time": "2023-12-28T01:23:05.193927200Z"
    }
   },
   "id": "5c99354cb0d52004"
  },
  {
   "cell_type": "code",
   "execution_count": 14,
   "outputs": [],
   "source": [
    "def seed_everything(seed):\n",
    "    random.seed(seed)\n",
    "    os.environ['PYTHONHASHSEED'] = str(seed)\n",
    "    np.random.seed(seed)\n",
    "    torch.manual_seed(seed)\n",
    "    torch.cuda.manual_seed(seed)\n",
    "    torch.cuda.manual_seed_all(seed)\n",
    "    torch.backends.cudnn.deterministic = True\n",
    "    torch.backends.cudnn.benchmark = False\n",
    "\n",
    "seed_everything(CFG['SEED']) # Seed 고정"
   ],
   "metadata": {
    "collapsed": false,
    "ExecuteTime": {
     "end_time": "2023-12-28T01:23:05.432174500Z",
     "start_time": "2023-12-28T01:23:05.212079400Z"
    }
   },
   "id": "57142b16a76126df"
  },
  {
   "cell_type": "code",
   "execution_count": 15,
   "outputs": [],
   "source": [
    "running_colab = 'google.colab' in str(get_ipython()) if hasattr(__builtins__,'__IPYTHON__') else False\n",
    "if running_colab:\n",
    "    from google.colab import drive\n",
    "    drive.mount('/content/drive')\n",
    "if running_colab:\n",
    "    data_path = '/content/drive/MyDrive/Colab Notebooks/ai6th/data/optiver/'\n",
    "else:\n",
    "    data_path = '../../data/'"
   ],
   "metadata": {
    "collapsed": false,
    "ExecuteTime": {
     "end_time": "2023-12-28T01:23:05.432174500Z",
     "start_time": "2023-12-28T01:23:05.229305Z"
    }
   },
   "id": "858b421c8c479378"
  },
  {
   "cell_type": "code",
   "execution_count": 16,
   "outputs": [
    {
     "data": {
      "text/plain": "   id          img_path            artist\n0   0  ./train/0000.jpg   Diego Velazquez\n1   1  ./train/0001.jpg  Vincent van Gogh\n2   2  ./train/0002.jpg      Claude Monet\n3   3  ./train/0003.jpg       Edgar Degas\n4   4  ./train/0004.jpg  Hieronymus Bosch",
      "text/html": "<div>\n<style scoped>\n    .dataframe tbody tr th:only-of-type {\n        vertical-align: middle;\n    }\n\n    .dataframe tbody tr th {\n        vertical-align: top;\n    }\n\n    .dataframe thead th {\n        text-align: right;\n    }\n</style>\n<table border=\"1\" class=\"dataframe\">\n  <thead>\n    <tr style=\"text-align: right;\">\n      <th></th>\n      <th>id</th>\n      <th>img_path</th>\n      <th>artist</th>\n    </tr>\n  </thead>\n  <tbody>\n    <tr>\n      <th>0</th>\n      <td>0</td>\n      <td>./train/0000.jpg</td>\n      <td>Diego Velazquez</td>\n    </tr>\n    <tr>\n      <th>1</th>\n      <td>1</td>\n      <td>./train/0001.jpg</td>\n      <td>Vincent van Gogh</td>\n    </tr>\n    <tr>\n      <th>2</th>\n      <td>2</td>\n      <td>./train/0002.jpg</td>\n      <td>Claude Monet</td>\n    </tr>\n    <tr>\n      <th>3</th>\n      <td>3</td>\n      <td>./train/0003.jpg</td>\n      <td>Edgar Degas</td>\n    </tr>\n    <tr>\n      <th>4</th>\n      <td>4</td>\n      <td>./train/0004.jpg</td>\n      <td>Hieronymus Bosch</td>\n    </tr>\n  </tbody>\n</table>\n</div>"
     },
     "execution_count": 16,
     "metadata": {},
     "output_type": "execute_result"
    }
   ],
   "source": [
    "df = pd.read_csv(os.path.join(data_path, 'train.csv'))\n",
    "df.loc[3896, 'artist'] = 'Titian'\n",
    "df.loc[3986, 'artist'] = 'Alfred Sisley'\n",
    "df.head()"
   ],
   "metadata": {
    "collapsed": false,
    "ExecuteTime": {
     "end_time": "2023-12-28T01:23:05.433168100Z",
     "start_time": "2023-12-28T01:23:05.239837900Z"
    }
   },
   "id": "60ed6dfb973bafc5"
  },
  {
   "cell_type": "code",
   "execution_count": 17,
   "outputs": [],
   "source": [
    "# Label Encoding\n",
    "le = preprocessing.LabelEncoder()\n",
    "df['artist'] = le.fit_transform(df['artist'].values)"
   ],
   "metadata": {
    "collapsed": false,
    "ExecuteTime": {
     "end_time": "2023-12-28T01:23:05.433168100Z",
     "start_time": "2023-12-28T01:23:05.274000900Z"
    }
   },
   "id": "2ae8b183518c9394"
  },
  {
   "cell_type": "code",
   "execution_count": 18,
   "outputs": [],
   "source": [
    "def get_data(df, infer=False):\n",
    "    if infer:\n",
    "        return df['img_path'].apply(lambda p: os.path.join(data_path, p)).values\n",
    "    return df['img_path'].apply(lambda p: os.path.join(data_path, p)).values, df['artist'].values"
   ],
   "metadata": {
    "collapsed": false,
    "ExecuteTime": {
     "end_time": "2023-12-28T01:23:05.444516800Z",
     "start_time": "2023-12-28T01:23:05.287497700Z"
    }
   },
   "id": "db002acff51c03bd"
  },
  {
   "cell_type": "code",
   "execution_count": 19,
   "outputs": [],
   "source": [
    "from torchvision.transforms import ToTensor\n",
    "\n",
    "\n",
    "class CustomDataset(Dataset):\n",
    "    def __init__(self, img_paths, labels, transforms=None):\n",
    "        self.img_paths = img_paths\n",
    "        self.labels = labels\n",
    "        self.transforms = transforms if transforms else ToTensor()\n",
    "\n",
    "    def __getitem__(self, index):\n",
    "        img_path = self.img_paths[index]\n",
    "        image = cv2.imread(img_path)\n",
    "        image = cv2.cvtColor(image, cv2.COLOR_BGR2RGB)\n",
    "        image = self.transforms(image=image)['image']\n",
    "        \n",
    "        if self.labels is not None:\n",
    "            label = self.labels[index]\n",
    "            return image, label\n",
    "        else:\n",
    "            return image\n",
    "    \n",
    "    def __len__(self):\n",
    "        return len(self.img_paths)"
   ],
   "metadata": {
    "collapsed": false,
    "ExecuteTime": {
     "end_time": "2023-12-28T01:23:05.444516800Z",
     "start_time": "2023-12-28T01:23:05.305151500Z"
    }
   },
   "id": "daa8f5c45d3e6316"
  },
  {
   "cell_type": "code",
   "execution_count": 20,
   "outputs": [],
   "source": [
    "train_transform_vit = A.Compose([\n",
    "    A.Resize(CFG['IMG_SIZE_VIT']*2,CFG['IMG_SIZE_VIT']*2),\n",
    "    A.RandomCrop(CFG['IMG_SIZE_VIT'],CFG['IMG_SIZE_VIT']),\n",
    "    A.Transpose(p=0.5), # 행렬 스왑\n",
    "    A.HorizontalFlip(p=0.5), # 좌우 반전\n",
    "    A.VerticalFlip(p=0.5), # 상하 반전\n",
    "    A.ShiftScaleRotate(p=0.5), # 랜덤하게 옮기고, scale, 회전\n",
    "    A.HueSaturationValue(hue_shift_limit=20, sat_shift_limit=20, val_shift_limit=20, p=0.5), # 빛깔, 색조, 값 변환\n",
    "    A.RandomBrightnessContrast(brightness_limit=(-0.1,0.1), contrast_limit=(-0.1, 0.1), p=0.5), # 명도 대비\n",
    "    A.ChannelShuffle(), # RGB 채널 간 shuffle\n",
    "    A.Normalize(mean=(0.485, 0.456, 0.406), std=(0.229, 0.224, 0.225), max_pixel_value=255.0, always_apply=False, p=1.0),\n",
    "    ToTensorV2()\n",
    "])\n",
    "\n",
    "test_transform_vit = A.Compose([\n",
    "    A.Resize(CFG['IMG_SIZE_VIT'],CFG['IMG_SIZE_VIT']),\n",
    "    A.Normalize(mean=(0.485, 0.456, 0.406), std=(0.229, 0.224, 0.225), max_pixel_value=255.0, always_apply=False, p=1.0),\n",
    "    ToTensorV2()\n",
    "])"
   ],
   "metadata": {
    "collapsed": false,
    "ExecuteTime": {
     "end_time": "2023-12-28T01:23:05.446087600Z",
     "start_time": "2023-12-28T01:23:05.321069Z"
    }
   },
   "id": "b3fe95b41eeff11d"
  },
  {
   "cell_type": "code",
   "execution_count": 21,
   "outputs": [],
   "source": [
    "train_transform_efficient = A.Compose([\n",
    "    A.Resize(CFG['IMG_SIZE_EFFICIENT']*2,CFG['IMG_SIZE_EFFICIENT']*2),\n",
    "    A.RandomCrop(CFG['IMG_SIZE_EFFICIENT'],CFG['IMG_SIZE_EFFICIENT']),\n",
    "    A.Transpose(p=0.5), # 행렬 스왑\n",
    "    A.HorizontalFlip(p=0.5), # 좌우 반전\n",
    "    A.VerticalFlip(p=0.5), # 상하 반전\n",
    "    A.Normalize(mean=(0.485, 0.456, 0.406), std=(0.229, 0.224, 0.225), max_pixel_value=255.0, always_apply=False, p=1.0),\n",
    "    A.CoarseDropout(p=0.5),\n",
    "    ToTensorV2()\n",
    "])\n",
    "\n",
    "test_transform_efficient = A.Compose([\n",
    "    A.Resize(CFG['IMG_SIZE_EFFICIENT'],CFG['IMG_SIZE_EFFICIENT']),\n",
    "    A.Normalize(mean=(0.485, 0.456, 0.406), std=(0.229, 0.224, 0.225), max_pixel_value=255.0, always_apply=False, p=1.0),\n",
    "    ToTensorV2()\n",
    "])"
   ],
   "metadata": {
    "collapsed": false,
    "ExecuteTime": {
     "end_time": "2023-12-28T01:23:05.447055600Z",
     "start_time": "2023-12-28T01:23:05.334608600Z"
    }
   },
   "id": "39b2eac6616de7e"
  },
  {
   "cell_type": "code",
   "execution_count": 22,
   "outputs": [],
   "source": [
    "train_transform_caformer = A.Compose([\n",
    "    A.Resize(CFG['IMG_SIZE_CAFORMER']*2,CFG['IMG_SIZE_CAFORMER']*2),\n",
    "    A.RandomCrop(CFG['IMG_SIZE_CAFORMER'],CFG['IMG_SIZE_CAFORMER']),\n",
    "    A.Transpose(p=0.5), # 행렬 스왑\n",
    "    A.HorizontalFlip(p=0.5), # 좌우 반전\n",
    "    A.VerticalFlip(p=0.5), # 상하 반전\n",
    "    A.Normalize(mean=(0.485, 0.456, 0.406), std=(0.229, 0.224, 0.225), max_pixel_value=255.0, always_apply=False, p=1.0),\n",
    "    A.CoarseDropout(p=0.5),\n",
    "    ToTensorV2()\n",
    "])\n",
    "\n",
    "test_transform_caformer = A.Compose([\n",
    "    A.Resize(CFG['IMG_SIZE_CAFORMER'],CFG['IMG_SIZE_CAFORMER']),\n",
    "    A.Normalize(mean=(0.485, 0.456, 0.406), std=(0.229, 0.224, 0.225), max_pixel_value=255.0, always_apply=False, p=1.0),\n",
    "    ToTensorV2()\n",
    "])"
   ],
   "metadata": {
    "collapsed": false,
    "ExecuteTime": {
     "end_time": "2023-12-28T01:23:05.447055600Z",
     "start_time": "2023-12-28T01:23:05.350535600Z"
    }
   },
   "id": "17b5b770a5fb4839"
  },
  {
   "cell_type": "code",
   "execution_count": 23,
   "outputs": [
    {
     "data": {
      "text/plain": "<torch._C.Generator at 0x15414b82db0>"
     },
     "execution_count": 23,
     "metadata": {},
     "output_type": "execute_result"
    }
   ],
   "source": [
    "def seed_worker(worker_id):\n",
    "    worker_seed = torch.initial_seed() % 2 ** 32\n",
    "    np.random.seed(worker_seed)\n",
    "    random.seed(worker_seed)\n",
    "g = torch.Generator()\n",
    "g.manual_seed(0)"
   ],
   "metadata": {
    "collapsed": false,
    "ExecuteTime": {
     "end_time": "2023-12-28T01:23:05.447055600Z",
     "start_time": "2023-12-28T01:23:05.364060300Z"
    }
   },
   "id": "c69fe868589b1093"
  },
  {
   "cell_type": "code",
   "execution_count": 24,
   "outputs": [],
   "source": [
    "class VitModel(nn.Module):\n",
    "    def __init__(self, num_classes=len(le.classes_)):\n",
    "        super(VitModel, self).__init__()\n",
    "        self.backbone = timm.create_model('tiny_vit_21m_384.dist_in22k_ft_in1k', pretrained=True, num_classes=0)\n",
    "        self.classifier = nn.Sequential(\n",
    "            nn.LayerNorm(576),\n",
    "            nn.GELU(),\n",
    "            nn.Dropout(p=0.4),\n",
    "            nn.Linear(576, num_classes)\n",
    "        )\n",
    "            \n",
    "    def forward(self, x):\n",
    "        x = self.backbone(x)\n",
    "        x = self.classifier(x)\n",
    "        return x"
   ],
   "metadata": {
    "collapsed": false,
    "ExecuteTime": {
     "end_time": "2023-12-28T01:23:05.447055600Z",
     "start_time": "2023-12-28T01:23:05.382767600Z"
    }
   },
   "id": "642a8d2bdc18ab96"
  },
  {
   "cell_type": "code",
   "execution_count": 25,
   "outputs": [],
   "source": [
    "class EfficientNetModel(nn.Module):\n",
    "    def __init__(self, num_classes=len(le.classes_)):\n",
    "        super(EfficientNetModel, self).__init__()\n",
    "        self.backbone = timm.create_model('efficientnet_b3', pretrained=True, num_classes=512)\n",
    "        self.classifier = nn.Sequential(\n",
    "            nn.LayerNorm(512),\n",
    "            nn.GELU(),\n",
    "            nn.Dropout(p=0.4),\n",
    "            nn.Linear(512, num_classes)\n",
    "        )\n",
    "\n",
    "    def forward(self, x):\n",
    "        x = self.backbone(x)\n",
    "        x = self.classifier(x)\n",
    "        return x"
   ],
   "metadata": {
    "collapsed": false,
    "ExecuteTime": {
     "end_time": "2023-12-28T01:23:05.447055600Z",
     "start_time": "2023-12-28T01:23:05.396820200Z"
    }
   },
   "id": "ec6aaed6e50ff183"
  },
  {
   "cell_type": "code",
   "execution_count": 26,
   "outputs": [],
   "source": [
    "class CAFormerModel(nn.Module):\n",
    "    def __init__(self, num_classes=len(le.classes_)):\n",
    "        super(CAFormerModel, self).__init__()\n",
    "        self.backbone = timm.create_model('caformer_s18.sail_in22k_ft_in1k_384', pretrained=True, num_classes=0)\n",
    "        self.classifier = nn.Sequential(\n",
    "            nn.LayerNorm(512),\n",
    "            nn.GELU(),\n",
    "            nn.Dropout(p=0.4),\n",
    "            nn.Linear(512, num_classes)\n",
    "        )\n",
    "            \n",
    "    def forward(self, x):\n",
    "        x = self.backbone(x)\n",
    "        x = self.classifier(x)\n",
    "        return x"
   ],
   "metadata": {
    "collapsed": false,
    "ExecuteTime": {
     "end_time": "2023-12-28T01:23:05.447055600Z",
     "start_time": "2023-12-28T01:23:05.410364700Z"
    }
   },
   "id": "cd5ecc94fada5c8b"
  },
  {
   "cell_type": "code",
   "execution_count": 27,
   "outputs": [],
   "source": [
    "def clear_mem():\n",
    "    gc.collect()\n",
    "    torch.cuda.empty_cache()"
   ],
   "metadata": {
    "collapsed": false,
    "ExecuteTime": {
     "end_time": "2023-12-28T01:23:05.463136500Z",
     "start_time": "2023-12-28T01:23:05.425876900Z"
    }
   },
   "id": "ecce2baec16e71e7"
  },
  {
   "cell_type": "code",
   "execution_count": 28,
   "outputs": [
    {
     "name": "stdout",
     "output_type": "stream",
     "text": [
      "time_now=datetime.datetime(2023, 12, 28, 10, 23, 5, 441516)\n"
     ]
    }
   ],
   "source": [
    "time_now = datetime.now()\n",
    "print(f'{time_now=}')"
   ],
   "metadata": {
    "collapsed": false,
    "ExecuteTime": {
     "end_time": "2023-12-28T01:23:05.547913200Z",
     "start_time": "2023-12-28T01:23:05.443516200Z"
    }
   },
   "id": "17fc703a3126967"
  },
  {
   "cell_type": "code",
   "execution_count": 29,
   "outputs": [
    {
     "data": {
      "text/plain": "           id               img_path\n0  TEST_00000  ./test/TEST_00000.jpg\n1  TEST_00001  ./test/TEST_00001.jpg\n2  TEST_00002  ./test/TEST_00002.jpg\n3  TEST_00003  ./test/TEST_00003.jpg\n4  TEST_00004  ./test/TEST_00004.jpg",
      "text/html": "<div>\n<style scoped>\n    .dataframe tbody tr th:only-of-type {\n        vertical-align: middle;\n    }\n\n    .dataframe tbody tr th {\n        vertical-align: top;\n    }\n\n    .dataframe thead th {\n        text-align: right;\n    }\n</style>\n<table border=\"1\" class=\"dataframe\">\n  <thead>\n    <tr style=\"text-align: right;\">\n      <th></th>\n      <th>id</th>\n      <th>img_path</th>\n    </tr>\n  </thead>\n  <tbody>\n    <tr>\n      <th>0</th>\n      <td>TEST_00000</td>\n      <td>./test/TEST_00000.jpg</td>\n    </tr>\n    <tr>\n      <th>1</th>\n      <td>TEST_00001</td>\n      <td>./test/TEST_00001.jpg</td>\n    </tr>\n    <tr>\n      <th>2</th>\n      <td>TEST_00002</td>\n      <td>./test/TEST_00002.jpg</td>\n    </tr>\n    <tr>\n      <th>3</th>\n      <td>TEST_00003</td>\n      <td>./test/TEST_00003.jpg</td>\n    </tr>\n    <tr>\n      <th>4</th>\n      <td>TEST_00004</td>\n      <td>./test/TEST_00004.jpg</td>\n    </tr>\n  </tbody>\n</table>\n</div>"
     },
     "execution_count": 29,
     "metadata": {},
     "output_type": "execute_result"
    }
   ],
   "source": [
    "test_df = pd.read_csv(os.path.join(data_path, './test.csv'))\n",
    "test_df.head()"
   ],
   "metadata": {
    "collapsed": false,
    "ExecuteTime": {
     "end_time": "2023-12-28T01:23:05.551925700Z",
     "start_time": "2023-12-28T01:23:05.457137400Z"
    }
   },
   "id": "9c8fff1a450556ec"
  },
  {
   "cell_type": "code",
   "execution_count": 30,
   "outputs": [],
   "source": [
    "test_img_paths = get_data(test_df, infer=True)"
   ],
   "metadata": {
    "collapsed": false,
    "ExecuteTime": {
     "end_time": "2023-12-28T01:23:05.591955900Z",
     "start_time": "2023-12-28T01:23:05.489327Z"
    }
   },
   "id": "6a50c39d21de27ed"
  },
  {
   "cell_type": "code",
   "execution_count": 31,
   "outputs": [],
   "source": [
    "test_dataset_vit = CustomDataset(test_img_paths, None, test_transform_vit)\n",
    "test_loader_vit = DataLoader(test_dataset_vit, batch_size=CFG['BATCH_SIZE'], shuffle=False, num_workers=0)"
   ],
   "metadata": {
    "collapsed": false,
    "ExecuteTime": {
     "end_time": "2023-12-28T01:23:05.621086Z",
     "start_time": "2023-12-28T01:23:05.536072100Z"
    }
   },
   "id": "66859c2e35131aae"
  },
  {
   "cell_type": "code",
   "execution_count": 32,
   "outputs": [],
   "source": [
    "test_dataset_efficient = CustomDataset(test_img_paths, None, test_transform_efficient)\n",
    "test_loader_efficient = DataLoader(test_dataset_efficient, batch_size=CFG['BATCH_SIZE'], shuffle=False, num_workers=0)"
   ],
   "metadata": {
    "collapsed": false,
    "ExecuteTime": {
     "end_time": "2023-12-28T01:23:05.654644800Z",
     "start_time": "2023-12-28T01:23:05.548914100Z"
    }
   },
   "id": "94e7ad2159a4964c"
  },
  {
   "cell_type": "code",
   "execution_count": 33,
   "outputs": [],
   "source": [
    "test_dataset_caformer = CustomDataset(test_img_paths, None, test_transform_caformer)\n",
    "test_loader_caformer = DataLoader(test_dataset_caformer, batch_size=CFG['BATCH_SIZE'], shuffle=False, num_workers=0)"
   ],
   "metadata": {
    "collapsed": false,
    "ExecuteTime": {
     "end_time": "2023-12-28T01:23:05.688754200Z",
     "start_time": "2023-12-28T01:23:05.566877200Z"
    }
   },
   "id": "c79bfdf6bbf78401"
  },
  {
   "cell_type": "code",
   "execution_count": 34,
   "outputs": [],
   "source": [
    "def inference(model, test_loader, device):\n",
    "    model.to(device)\n",
    "    model.eval()\n",
    "    \n",
    "    model_preds = []\n",
    "    \n",
    "    with torch.no_grad():\n",
    "        for idx, img in enumerate(test_loader):\n",
    "            img = img.float().to(device)\n",
    "            \n",
    "            model_pred = model(img).detach().cpu()\n",
    "            model_pred = F.softmax(model_pred, dim=1)\n",
    "            model_preds.extend(model_pred.numpy().tolist())\n",
    "    \n",
    "    print('Done.')\n",
    "    return model_preds"
   ],
   "metadata": {
    "collapsed": false,
    "ExecuteTime": {
     "end_time": "2023-12-28T01:23:05.690759900Z",
     "start_time": "2023-12-28T01:23:05.582419100Z"
    }
   },
   "id": "60aba723872ee62e"
  },
  {
   "cell_type": "code",
   "execution_count": 35,
   "outputs": [
    {
     "name": "stdout",
     "output_type": "stream",
     "text": [
      "0-fold CHECKPOINT LOADED: ../../data/runs/kfold_vit/best_model_0.pt\n",
      "Done.\n",
      "1-fold CHECKPOINT LOADED: ../../data/runs/kfold_vit/best_model_1.pt\n",
      "Done.\n",
      "2-fold CHECKPOINT LOADED: ../../data/runs/kfold_vit/best_model_2.pt\n",
      "Done.\n",
      "3-fold CHECKPOINT LOADED: ../../data/runs/kfold_vit/best_model_3.pt\n",
      "Done.\n",
      "4-fold CHECKPOINT LOADED: ../../data/runs/kfold_vit/best_model_4.pt\n",
      "Done.\n",
      "0-fold CHECKPOINT LOADED: ../../data/runs/kfold_efficientnet/best_model_0.pt\n",
      "Done.\n",
      "1-fold CHECKPOINT LOADED: ../../data/runs/kfold_efficientnet/best_model_1.pt\n",
      "Done.\n",
      "2-fold CHECKPOINT LOADED: ../../data/runs/kfold_efficientnet/best_model_2.pt\n",
      "Done.\n",
      "3-fold CHECKPOINT LOADED: ../../data/runs/kfold_efficientnet/best_model_3.pt\n",
      "Done.\n",
      "4-fold CHECKPOINT LOADED: ../../data/runs/kfold_efficientnet/best_model_4.pt\n",
      "Done.\n",
      "0-fold CHECKPOINT LOADED: ../../data/runs/kfold_caformer/best_model_0.pt\n",
      "Done.\n",
      "1-fold CHECKPOINT LOADED: ../../data/runs/kfold_caformer/best_model_1.pt\n",
      "Done.\n",
      "2-fold CHECKPOINT LOADED: ../../data/runs/kfold_caformer/best_model_2.pt\n",
      "Done.\n",
      "3-fold CHECKPOINT LOADED: ../../data/runs/kfold_caformer/best_model_3.pt\n",
      "Done.\n",
      "4-fold CHECKPOINT LOADED: ../../data/runs/kfold_caformer/best_model_4.pt\n",
      "Done.\n"
     ]
    }
   ],
   "source": [
    "preds_kfold = np.zeros((len(test_df), len(le.classes_)))\n",
    "test_targets = [\n",
    "    (test_loader_vit, 'kfold_vit'),\n",
    "    (test_loader_efficient, 'kfold_efficientnet'),\n",
    "    (test_loader_caformer, 'kfold_caformer')\n",
    "]\n",
    "for loader, run_id in test_targets:\n",
    "    for k_ in range(CFG['K-FOLD']):\n",
    "        checkpoint = os.path.join(data_path, f'runs/{run_id}/best_model_{k_}.pt')\n",
    "        print(f'{k_}-fold CHECKPOINT LOADED: {checkpoint}')\n",
    "        infer_model = torch.load(checkpoint)\n",
    "        ret = inference(infer_model, loader, device)\n",
    "        preds_kfold += np.array(ret)"
   ],
   "metadata": {
    "collapsed": false,
    "ExecuteTime": {
     "end_time": "2023-12-28T01:49:25.653517800Z",
     "start_time": "2023-12-28T01:23:05.600002600Z"
    }
   },
   "id": "eb268f8a50f8f1ff"
  },
  {
   "cell_type": "code",
   "execution_count": 36,
   "outputs": [
    {
     "data": {
      "text/plain": "          0         1          2         3         4         5          6   \\\n0   0.005496  0.027346   0.012067  0.014264  0.004366  0.008614   0.011494   \n1   0.014726  0.014147  14.005913  0.006503  0.009794  0.004523   0.002861   \n2   0.019637  0.016027   0.005989  0.006498  0.007108  0.004041  12.361973   \n3  14.294950  0.017102   0.008565  0.009153  0.006390  0.005516   0.001851   \n4   0.012188  0.120251   1.479323  0.015547  0.011573  0.042609   0.002000   \n\n         7         8         9   ...        40        41        42        43  \\\n0  0.015468  0.002160  0.078608  ...  0.055010  0.031977  0.087596  0.017154   \n1  0.007013  0.041538  0.011429  ...  0.010602  0.006560  0.010462  0.051714   \n2  0.004771  0.006017  0.209205  ...  0.009100  0.193100  0.041416  0.013944   \n3  0.010596  0.003374  0.004476  ...  0.117263  0.003873  0.007805  0.017470   \n4  0.054094  0.063222  0.009724  ...  0.022550  0.003423  0.010805  0.019424   \n\n         44        45        46        47        48        49  \n0  0.021281  0.055630  0.332400  0.008772  1.039908  0.009672  \n1  0.007542  0.007914  0.016960  0.004358  0.050175  0.006135  \n2  0.149779  0.023629  0.626744  0.005324  0.023706  0.006364  \n3  0.004143  0.006000  0.009181  0.004133  0.160420  0.007656  \n4  0.004506  0.007089  0.016069  0.009677  3.789705  0.004692  \n\n[5 rows x 50 columns]",
      "text/html": "<div>\n<style scoped>\n    .dataframe tbody tr th:only-of-type {\n        vertical-align: middle;\n    }\n\n    .dataframe tbody tr th {\n        vertical-align: top;\n    }\n\n    .dataframe thead th {\n        text-align: right;\n    }\n</style>\n<table border=\"1\" class=\"dataframe\">\n  <thead>\n    <tr style=\"text-align: right;\">\n      <th></th>\n      <th>0</th>\n      <th>1</th>\n      <th>2</th>\n      <th>3</th>\n      <th>4</th>\n      <th>5</th>\n      <th>6</th>\n      <th>7</th>\n      <th>8</th>\n      <th>9</th>\n      <th>...</th>\n      <th>40</th>\n      <th>41</th>\n      <th>42</th>\n      <th>43</th>\n      <th>44</th>\n      <th>45</th>\n      <th>46</th>\n      <th>47</th>\n      <th>48</th>\n      <th>49</th>\n    </tr>\n  </thead>\n  <tbody>\n    <tr>\n      <th>0</th>\n      <td>0.005496</td>\n      <td>0.027346</td>\n      <td>0.012067</td>\n      <td>0.014264</td>\n      <td>0.004366</td>\n      <td>0.008614</td>\n      <td>0.011494</td>\n      <td>0.015468</td>\n      <td>0.002160</td>\n      <td>0.078608</td>\n      <td>...</td>\n      <td>0.055010</td>\n      <td>0.031977</td>\n      <td>0.087596</td>\n      <td>0.017154</td>\n      <td>0.021281</td>\n      <td>0.055630</td>\n      <td>0.332400</td>\n      <td>0.008772</td>\n      <td>1.039908</td>\n      <td>0.009672</td>\n    </tr>\n    <tr>\n      <th>1</th>\n      <td>0.014726</td>\n      <td>0.014147</td>\n      <td>14.005913</td>\n      <td>0.006503</td>\n      <td>0.009794</td>\n      <td>0.004523</td>\n      <td>0.002861</td>\n      <td>0.007013</td>\n      <td>0.041538</td>\n      <td>0.011429</td>\n      <td>...</td>\n      <td>0.010602</td>\n      <td>0.006560</td>\n      <td>0.010462</td>\n      <td>0.051714</td>\n      <td>0.007542</td>\n      <td>0.007914</td>\n      <td>0.016960</td>\n      <td>0.004358</td>\n      <td>0.050175</td>\n      <td>0.006135</td>\n    </tr>\n    <tr>\n      <th>2</th>\n      <td>0.019637</td>\n      <td>0.016027</td>\n      <td>0.005989</td>\n      <td>0.006498</td>\n      <td>0.007108</td>\n      <td>0.004041</td>\n      <td>12.361973</td>\n      <td>0.004771</td>\n      <td>0.006017</td>\n      <td>0.209205</td>\n      <td>...</td>\n      <td>0.009100</td>\n      <td>0.193100</td>\n      <td>0.041416</td>\n      <td>0.013944</td>\n      <td>0.149779</td>\n      <td>0.023629</td>\n      <td>0.626744</td>\n      <td>0.005324</td>\n      <td>0.023706</td>\n      <td>0.006364</td>\n    </tr>\n    <tr>\n      <th>3</th>\n      <td>14.294950</td>\n      <td>0.017102</td>\n      <td>0.008565</td>\n      <td>0.009153</td>\n      <td>0.006390</td>\n      <td>0.005516</td>\n      <td>0.001851</td>\n      <td>0.010596</td>\n      <td>0.003374</td>\n      <td>0.004476</td>\n      <td>...</td>\n      <td>0.117263</td>\n      <td>0.003873</td>\n      <td>0.007805</td>\n      <td>0.017470</td>\n      <td>0.004143</td>\n      <td>0.006000</td>\n      <td>0.009181</td>\n      <td>0.004133</td>\n      <td>0.160420</td>\n      <td>0.007656</td>\n    </tr>\n    <tr>\n      <th>4</th>\n      <td>0.012188</td>\n      <td>0.120251</td>\n      <td>1.479323</td>\n      <td>0.015547</td>\n      <td>0.011573</td>\n      <td>0.042609</td>\n      <td>0.002000</td>\n      <td>0.054094</td>\n      <td>0.063222</td>\n      <td>0.009724</td>\n      <td>...</td>\n      <td>0.022550</td>\n      <td>0.003423</td>\n      <td>0.010805</td>\n      <td>0.019424</td>\n      <td>0.004506</td>\n      <td>0.007089</td>\n      <td>0.016069</td>\n      <td>0.009677</td>\n      <td>3.789705</td>\n      <td>0.004692</td>\n    </tr>\n  </tbody>\n</table>\n<p>5 rows × 50 columns</p>\n</div>"
     },
     "execution_count": 36,
     "metadata": {},
     "output_type": "execute_result"
    }
   ],
   "source": [
    "preds_kfold[:10]"
   ],
   "metadata": {
    "collapsed": false,
    "ExecuteTime": {
     "end_time": "2023-12-28T01:49:25.701356100Z",
     "start_time": "2023-12-28T01:49:25.654956500Z"
    }
   },
   "id": "7f4094794fa731b8"
  },
  {
   "cell_type": "code",
   "execution_count": 37,
   "outputs": [],
   "source": [
    "preds = preds_kfold.argmax(axis=1)"
   ],
   "metadata": {
    "collapsed": false,
    "ExecuteTime": {
     "end_time": "2023-12-28T01:49:25.724575500Z",
     "start_time": "2023-12-28T01:49:25.685296700Z"
    }
   },
   "id": "7fd493b0d8b9cee2"
  },
  {
   "cell_type": "code",
   "execution_count": 38,
   "outputs": [],
   "source": [
    "preds = le.inverse_transform(preds)"
   ],
   "metadata": {
    "collapsed": false,
    "ExecuteTime": {
     "end_time": "2023-12-28T01:49:25.790818500Z",
     "start_time": "2023-12-28T01:49:25.716578600Z"
    }
   },
   "id": "37b7f04a0b4de44f"
  },
  {
   "cell_type": "code",
   "execution_count": 39,
   "outputs": [],
   "source": [
    "submit = pd.read_csv(os.path.join(data_path, './sample_submission.csv'))"
   ],
   "metadata": {
    "collapsed": false,
    "ExecuteTime": {
     "end_time": "2023-12-28T01:49:25.815461400Z",
     "start_time": "2023-12-28T01:49:25.732108100Z"
    }
   },
   "id": "fe59292099a9b96e"
  },
  {
   "cell_type": "code",
   "execution_count": 40,
   "outputs": [],
   "source": [
    "submit['artist'] = preds"
   ],
   "metadata": {
    "collapsed": false,
    "ExecuteTime": {
     "end_time": "2023-12-28T01:49:25.826857Z",
     "start_time": "2023-12-28T01:49:25.747690100Z"
    }
   },
   "id": "8582475a6cb3db6f"
  },
  {
   "cell_type": "code",
   "execution_count": 41,
   "outputs": [
    {
     "data": {
      "text/plain": "           id             artist\n0  TEST_00000        Edgar Degas\n1  TEST_00001  Amedeo Modigliani\n2  TEST_00002         Caravaggio\n3  TEST_00003    Albrecht Du rer\n4  TEST_00004      Pablo Picasso",
      "text/html": "<div>\n<style scoped>\n    .dataframe tbody tr th:only-of-type {\n        vertical-align: middle;\n    }\n\n    .dataframe tbody tr th {\n        vertical-align: top;\n    }\n\n    .dataframe thead th {\n        text-align: right;\n    }\n</style>\n<table border=\"1\" class=\"dataframe\">\n  <thead>\n    <tr style=\"text-align: right;\">\n      <th></th>\n      <th>id</th>\n      <th>artist</th>\n    </tr>\n  </thead>\n  <tbody>\n    <tr>\n      <th>0</th>\n      <td>TEST_00000</td>\n      <td>Edgar Degas</td>\n    </tr>\n    <tr>\n      <th>1</th>\n      <td>TEST_00001</td>\n      <td>Amedeo Modigliani</td>\n    </tr>\n    <tr>\n      <th>2</th>\n      <td>TEST_00002</td>\n      <td>Caravaggio</td>\n    </tr>\n    <tr>\n      <th>3</th>\n      <td>TEST_00003</td>\n      <td>Albrecht Du rer</td>\n    </tr>\n    <tr>\n      <th>4</th>\n      <td>TEST_00004</td>\n      <td>Pablo Picasso</td>\n    </tr>\n  </tbody>\n</table>\n</div>"
     },
     "execution_count": 41,
     "metadata": {},
     "output_type": "execute_result"
    }
   ],
   "source": [
    "submit.head()"
   ],
   "metadata": {
    "collapsed": false,
    "ExecuteTime": {
     "end_time": "2023-12-28T01:49:25.827857300Z",
     "start_time": "2023-12-28T01:49:25.764268800Z"
    }
   },
   "id": "15bd98c5d6b59bf4"
  },
  {
   "cell_type": "code",
   "execution_count": 42,
   "outputs": [],
   "source": [
    "submit.to_csv(os.path.join(data_path, f\"./submit_{CFG['FILENAME']}.csv\"), index=False)"
   ],
   "metadata": {
    "collapsed": false,
    "ExecuteTime": {
     "end_time": "2023-12-28T01:49:25.829858400Z",
     "start_time": "2023-12-28T01:49:25.781303800Z"
    }
   },
   "id": "eed3cb0dc59f47f7"
  },
  {
   "cell_type": "code",
   "execution_count": 42,
   "outputs": [],
   "source": [],
   "metadata": {
    "collapsed": false,
    "ExecuteTime": {
     "end_time": "2023-12-28T01:49:25.831869500Z",
     "start_time": "2023-12-28T01:49:25.810839100Z"
    }
   },
   "id": "479c26c8a5a70d89"
  }
 ],
 "metadata": {
  "kernelspec": {
   "display_name": "Python 3",
   "language": "python",
   "name": "python3"
  },
  "language_info": {
   "codemirror_mode": {
    "name": "ipython",
    "version": 2
   },
   "file_extension": ".py",
   "mimetype": "text/x-python",
   "name": "python",
   "nbconvert_exporter": "python",
   "pygments_lexer": "ipython2",
   "version": "2.7.6"
  }
 },
 "nbformat": 4,
 "nbformat_minor": 5
}
