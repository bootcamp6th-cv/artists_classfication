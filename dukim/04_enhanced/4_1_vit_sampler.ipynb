{
 "cells": [
  {
   "cell_type": "markdown",
   "source": [
    "# augmentation\n",
    "* vit model 적용\n",
    "    - tiny_vit_21m_384.dist_in22k_ft_in1k\n",
    "    - dropout, normalization 적용\n",
    "* Augmentation\n",
    "    - Transpose # 행렬 스왑\n",
    "    - HorizontalFlip # 좌우 반전\n",
    "    - VerticalFlip # 상하 반전\n",
    "    - ShiftScaleRotate # 랜덤하게 옮기고, scale, 회전\n",
    "* lr scheduler\n",
    "    - Custom CosineAnnealingWarmUpRestarts\n",
    "* optimizer\n",
    "    - AdamW\n",
    "* sampler 적용\n",
    "* result\n",
    "    - train loss : 0.0888\n",
    "    - validation loss : 0.5362 \n",
    "    - f1 score : 0.8332 \n",
    "    - epoch : 49\n",
    "    - public 점수 : 0.8171594325\n",
    "    - private 점수 : 0.8122174051"
   ],
   "metadata": {
    "collapsed": false
   },
   "id": "35ad6a7e30f8925e"
  },
  {
   "cell_type": "code",
   "execution_count": 1,
   "outputs": [],
   "source": [
    "import gc\n",
    "import os\n",
    "import random\n",
    "from datetime import datetime\n",
    "\n",
    "import pandas as pd\n",
    "import numpy as np\n",
    "import matplotlib.pyplot as plt\n",
    "import seaborn as sns\n",
    "import cv2\n",
    "\n",
    "from sklearn import preprocessing\n",
    "from sklearn.model_selection import train_test_split\n",
    "from sklearn.metrics import f1_score\n",
    "\n",
    "import torch\n",
    "import torch.nn as nn\n",
    "import torch.optim as optim\n",
    "import torch.nn.functional as F\n",
    "from torch.utils.data import Dataset, DataLoader\n",
    "\n",
    "from tqdm.auto import tqdm\n",
    "\n",
    "import albumentations as A\n",
    "from albumentations.pytorch.transforms import ToTensorV2\n",
    "\n",
    "import timm\n",
    "\n",
    "import warnings\n",
    "warnings.filterwarnings(action='ignore') "
   ],
   "metadata": {
    "collapsed": false,
    "ExecuteTime": {
     "end_time": "2023-12-18T10:50:41.207683Z",
     "start_time": "2023-12-18T10:50:38.729953100Z"
    }
   },
   "id": "initial_id"
  },
  {
   "cell_type": "code",
   "execution_count": 2,
   "outputs": [],
   "source": [
    "device = torch.device('cuda') if torch.cuda.is_available() else torch.device('cpu')"
   ],
   "metadata": {
    "collapsed": false,
    "ExecuteTime": {
     "end_time": "2023-12-18T10:50:41.254378Z",
     "start_time": "2023-12-18T10:50:41.207683Z"
    }
   },
   "id": "5fc1ff58a4a9d6d1"
  },
  {
   "cell_type": "code",
   "execution_count": 3,
   "outputs": [],
   "source": [
    "CFG = {\n",
    "    'IMG_SIZE': 260,\n",
    "    'EPOCHS': 1000,\n",
    "    'LEARNING_RATE': 8e-6,\n",
    "    'BATCH_SIZE': 16,\n",
    "    'PATIENCE': 10,\n",
    "    'WARMUP': 5,\n",
    "    'FILENAME': 'tiny_vit_sam',\n",
    "    'SEED': 6\n",
    "}"
   ],
   "metadata": {
    "collapsed": false,
    "ExecuteTime": {
     "end_time": "2023-12-18T10:50:41.254378Z",
     "start_time": "2023-12-18T10:50:41.241379500Z"
    }
   },
   "id": "5c99354cb0d52004"
  },
  {
   "cell_type": "code",
   "execution_count": 4,
   "outputs": [],
   "source": [
    "def seed_everything(seed):\n",
    "    random.seed(seed)\n",
    "    os.environ['PYTHONHASHSEED'] = str(seed)\n",
    "    np.random.seed(seed)\n",
    "    torch.manual_seed(seed)\n",
    "    torch.cuda.manual_seed(seed)\n",
    "    torch.cuda.manual_seed_all(seed)\n",
    "    torch.backends.cudnn.deterministic = True\n",
    "    torch.backends.cudnn.benchmark = False\n",
    "\n",
    "seed_everything(CFG['SEED']) # Seed 고정"
   ],
   "metadata": {
    "collapsed": false,
    "ExecuteTime": {
     "end_time": "2023-12-18T10:50:41.272381700Z",
     "start_time": "2023-12-18T10:50:41.254378Z"
    }
   },
   "id": "57142b16a76126df"
  },
  {
   "cell_type": "code",
   "execution_count": 5,
   "outputs": [],
   "source": [
    "running_colab = 'google.colab' in str(get_ipython()) if hasattr(__builtins__,'__IPYTHON__') else False\n",
    "if running_colab:\n",
    "    from google.colab import drive\n",
    "    drive.mount('/content/drive')\n",
    "if running_colab:\n",
    "    data_path = '/content/drive/MyDrive/Colab Notebooks/ai6th/data/optiver/'\n",
    "else:\n",
    "    data_path = '../../data/'"
   ],
   "metadata": {
    "collapsed": false,
    "ExecuteTime": {
     "end_time": "2023-12-18T10:50:41.300594700Z",
     "start_time": "2023-12-18T10:50:41.272381700Z"
    }
   },
   "id": "858b421c8c479378"
  },
  {
   "cell_type": "code",
   "execution_count": 6,
   "outputs": [
    {
     "data": {
      "text/plain": "   id          img_path            artist\n0   0  ./train/0000.jpg   Diego Velazquez\n1   1  ./train/0001.jpg  Vincent van Gogh\n2   2  ./train/0002.jpg      Claude Monet\n3   3  ./train/0003.jpg       Edgar Degas\n4   4  ./train/0004.jpg  Hieronymus Bosch",
      "text/html": "<div>\n<style scoped>\n    .dataframe tbody tr th:only-of-type {\n        vertical-align: middle;\n    }\n\n    .dataframe tbody tr th {\n        vertical-align: top;\n    }\n\n    .dataframe thead th {\n        text-align: right;\n    }\n</style>\n<table border=\"1\" class=\"dataframe\">\n  <thead>\n    <tr style=\"text-align: right;\">\n      <th></th>\n      <th>id</th>\n      <th>img_path</th>\n      <th>artist</th>\n    </tr>\n  </thead>\n  <tbody>\n    <tr>\n      <th>0</th>\n      <td>0</td>\n      <td>./train/0000.jpg</td>\n      <td>Diego Velazquez</td>\n    </tr>\n    <tr>\n      <th>1</th>\n      <td>1</td>\n      <td>./train/0001.jpg</td>\n      <td>Vincent van Gogh</td>\n    </tr>\n    <tr>\n      <th>2</th>\n      <td>2</td>\n      <td>./train/0002.jpg</td>\n      <td>Claude Monet</td>\n    </tr>\n    <tr>\n      <th>3</th>\n      <td>3</td>\n      <td>./train/0003.jpg</td>\n      <td>Edgar Degas</td>\n    </tr>\n    <tr>\n      <th>4</th>\n      <td>4</td>\n      <td>./train/0004.jpg</td>\n      <td>Hieronymus Bosch</td>\n    </tr>\n  </tbody>\n</table>\n</div>"
     },
     "execution_count": 6,
     "metadata": {},
     "output_type": "execute_result"
    }
   ],
   "source": [
    "df = pd.read_csv(os.path.join(data_path, 'train.csv'))\n",
    "df.loc[3896, 'artist'] = 'Titian'\n",
    "df.loc[3986, 'artist'] = 'Alfred Sisley'\n",
    "df.head()"
   ],
   "metadata": {
    "collapsed": false,
    "ExecuteTime": {
     "end_time": "2023-12-18T10:50:41.323727300Z",
     "start_time": "2023-12-18T10:50:41.286378600Z"
    }
   },
   "id": "60ed6dfb973bafc5"
  },
  {
   "cell_type": "code",
   "execution_count": 7,
   "outputs": [],
   "source": [
    "artists = df.groupby('artist')[['id']].count().rename(columns={'id':'count'}).reset_index()"
   ],
   "metadata": {
    "collapsed": false,
    "ExecuteTime": {
     "end_time": "2023-12-18T10:50:41.357379Z",
     "start_time": "2023-12-18T10:50:41.320609500Z"
    }
   },
   "id": "c031773f1ed5ca85"
  },
  {
   "cell_type": "code",
   "execution_count": 8,
   "outputs": [],
   "source": [
    "# Label Encoding\n",
    "le = preprocessing.LabelEncoder()\n",
    "df['artist'] = le.fit_transform(df['artist'].values)"
   ],
   "metadata": {
    "collapsed": false,
    "ExecuteTime": {
     "end_time": "2023-12-18T10:50:41.359380100Z",
     "start_time": "2023-12-18T10:50:41.335141200Z"
    }
   },
   "id": "2ae8b183518c9394"
  },
  {
   "cell_type": "code",
   "execution_count": 9,
   "outputs": [],
   "source": [
    "train_df, val_df = train_test_split(df, test_size=0.2, random_state=CFG['SEED'], stratify=df['artist'])"
   ],
   "metadata": {
    "collapsed": false,
    "ExecuteTime": {
     "end_time": "2023-12-18T10:50:41.391379500Z",
     "start_time": "2023-12-18T10:50:41.350374500Z"
    }
   },
   "id": "71c56b6890f87998"
  },
  {
   "cell_type": "code",
   "execution_count": 10,
   "outputs": [
    {
     "data": {
      "text/plain": "   id          img_path  artist\n0   0  ./train/0000.jpg       9\n1   1  ./train/0001.jpg      48\n2   2  ./train/0002.jpg       7\n3   3  ./train/0003.jpg      10\n4   4  ./train/0004.jpg      24",
      "text/html": "<div>\n<style scoped>\n    .dataframe tbody tr th:only-of-type {\n        vertical-align: middle;\n    }\n\n    .dataframe tbody tr th {\n        vertical-align: top;\n    }\n\n    .dataframe thead th {\n        text-align: right;\n    }\n</style>\n<table border=\"1\" class=\"dataframe\">\n  <thead>\n    <tr style=\"text-align: right;\">\n      <th></th>\n      <th>id</th>\n      <th>img_path</th>\n      <th>artist</th>\n    </tr>\n  </thead>\n  <tbody>\n    <tr>\n      <th>0</th>\n      <td>0</td>\n      <td>./train/0000.jpg</td>\n      <td>9</td>\n    </tr>\n    <tr>\n      <th>1</th>\n      <td>1</td>\n      <td>./train/0001.jpg</td>\n      <td>48</td>\n    </tr>\n    <tr>\n      <th>2</th>\n      <td>2</td>\n      <td>./train/0002.jpg</td>\n      <td>7</td>\n    </tr>\n    <tr>\n      <th>3</th>\n      <td>3</td>\n      <td>./train/0003.jpg</td>\n      <td>10</td>\n    </tr>\n    <tr>\n      <th>4</th>\n      <td>4</td>\n      <td>./train/0004.jpg</td>\n      <td>24</td>\n    </tr>\n  </tbody>\n</table>\n</div>"
     },
     "execution_count": 10,
     "metadata": {},
     "output_type": "execute_result"
    }
   ],
   "source": [
    "train_df = train_df.sort_values(by=['id'])\n",
    "train_df.head()"
   ],
   "metadata": {
    "collapsed": false,
    "ExecuteTime": {
     "end_time": "2023-12-18T10:50:41.470050400Z",
     "start_time": "2023-12-18T10:50:41.364381100Z"
    }
   },
   "id": "3146f5ea6c5ce2c4"
  },
  {
   "cell_type": "code",
   "execution_count": 11,
   "outputs": [
    {
     "data": {
      "text/plain": "      id          img_path  artist\n14    14  ./train/0014.jpg      15\n19    19  ./train/0019.jpg      46\n20    20  ./train/0020.jpg      32\n26    26  ./train/0026.jpg      37\n27    27  ./train/0027.jpg      15\n28    28  ./train/0028.jpg      47\n29    29  ./train/0029.jpg      28\n32    32  ./train/0032.jpg       4\n33    33  ./train/0033.jpg      33\n37    37  ./train/0037.jpg      33\n44    44  ./train/0044.jpg      15\n54    54  ./train/0054.jpg       0\n65    65  ./train/0065.jpg      14\n72    72  ./train/0072.jpg      10\n86    86  ./train/0086.jpg      10\n96    96  ./train/0096.jpg      13\n97    97  ./train/0097.jpg      43\n98    98  ./train/0098.jpg       1\n108  108  ./train/0108.jpg      36\n116  116  ./train/0116.jpg      29",
      "text/html": "<div>\n<style scoped>\n    .dataframe tbody tr th:only-of-type {\n        vertical-align: middle;\n    }\n\n    .dataframe tbody tr th {\n        vertical-align: top;\n    }\n\n    .dataframe thead th {\n        text-align: right;\n    }\n</style>\n<table border=\"1\" class=\"dataframe\">\n  <thead>\n    <tr style=\"text-align: right;\">\n      <th></th>\n      <th>id</th>\n      <th>img_path</th>\n      <th>artist</th>\n    </tr>\n  </thead>\n  <tbody>\n    <tr>\n      <th>14</th>\n      <td>14</td>\n      <td>./train/0014.jpg</td>\n      <td>15</td>\n    </tr>\n    <tr>\n      <th>19</th>\n      <td>19</td>\n      <td>./train/0019.jpg</td>\n      <td>46</td>\n    </tr>\n    <tr>\n      <th>20</th>\n      <td>20</td>\n      <td>./train/0020.jpg</td>\n      <td>32</td>\n    </tr>\n    <tr>\n      <th>26</th>\n      <td>26</td>\n      <td>./train/0026.jpg</td>\n      <td>37</td>\n    </tr>\n    <tr>\n      <th>27</th>\n      <td>27</td>\n      <td>./train/0027.jpg</td>\n      <td>15</td>\n    </tr>\n    <tr>\n      <th>28</th>\n      <td>28</td>\n      <td>./train/0028.jpg</td>\n      <td>47</td>\n    </tr>\n    <tr>\n      <th>29</th>\n      <td>29</td>\n      <td>./train/0029.jpg</td>\n      <td>28</td>\n    </tr>\n    <tr>\n      <th>32</th>\n      <td>32</td>\n      <td>./train/0032.jpg</td>\n      <td>4</td>\n    </tr>\n    <tr>\n      <th>33</th>\n      <td>33</td>\n      <td>./train/0033.jpg</td>\n      <td>33</td>\n    </tr>\n    <tr>\n      <th>37</th>\n      <td>37</td>\n      <td>./train/0037.jpg</td>\n      <td>33</td>\n    </tr>\n    <tr>\n      <th>44</th>\n      <td>44</td>\n      <td>./train/0044.jpg</td>\n      <td>15</td>\n    </tr>\n    <tr>\n      <th>54</th>\n      <td>54</td>\n      <td>./train/0054.jpg</td>\n      <td>0</td>\n    </tr>\n    <tr>\n      <th>65</th>\n      <td>65</td>\n      <td>./train/0065.jpg</td>\n      <td>14</td>\n    </tr>\n    <tr>\n      <th>72</th>\n      <td>72</td>\n      <td>./train/0072.jpg</td>\n      <td>10</td>\n    </tr>\n    <tr>\n      <th>86</th>\n      <td>86</td>\n      <td>./train/0086.jpg</td>\n      <td>10</td>\n    </tr>\n    <tr>\n      <th>96</th>\n      <td>96</td>\n      <td>./train/0096.jpg</td>\n      <td>13</td>\n    </tr>\n    <tr>\n      <th>97</th>\n      <td>97</td>\n      <td>./train/0097.jpg</td>\n      <td>43</td>\n    </tr>\n    <tr>\n      <th>98</th>\n      <td>98</td>\n      <td>./train/0098.jpg</td>\n      <td>1</td>\n    </tr>\n    <tr>\n      <th>108</th>\n      <td>108</td>\n      <td>./train/0108.jpg</td>\n      <td>36</td>\n    </tr>\n    <tr>\n      <th>116</th>\n      <td>116</td>\n      <td>./train/0116.jpg</td>\n      <td>29</td>\n    </tr>\n  </tbody>\n</table>\n</div>"
     },
     "execution_count": 11,
     "metadata": {},
     "output_type": "execute_result"
    }
   ],
   "source": [
    "val_df = val_df.sort_values(by=['id'])\n",
    "val_df.head(20)"
   ],
   "metadata": {
    "collapsed": false,
    "ExecuteTime": {
     "end_time": "2023-12-18T10:50:41.528180200Z",
     "start_time": "2023-12-18T10:50:41.381380400Z"
    }
   },
   "id": "e4849ea7a525c8cf"
  },
  {
   "cell_type": "code",
   "execution_count": 12,
   "outputs": [],
   "source": [
    "def get_data(df, infer=False):\n",
    "    if infer:\n",
    "        return df['img_path'].apply(lambda p: os.path.join(data_path, p)).values\n",
    "    return df['img_path'].apply(lambda p: os.path.join(data_path, p)).values, df['artist'].values"
   ],
   "metadata": {
    "collapsed": false,
    "ExecuteTime": {
     "end_time": "2023-12-18T10:50:41.528180200Z",
     "start_time": "2023-12-18T10:50:41.396385Z"
    }
   },
   "id": "db002acff51c03bd"
  },
  {
   "cell_type": "code",
   "execution_count": 13,
   "outputs": [],
   "source": [
    "train_img_paths, train_labels = get_data(train_df)\n",
    "val_img_paths, val_labels = get_data(val_df)"
   ],
   "metadata": {
    "collapsed": false,
    "ExecuteTime": {
     "end_time": "2023-12-18T10:50:41.531180600Z",
     "start_time": "2023-12-18T10:50:41.410382Z"
    }
   },
   "id": "6a8806270c88c0be"
  },
  {
   "cell_type": "code",
   "execution_count": 14,
   "outputs": [],
   "source": [
    "from torchvision.transforms import ToTensor\n",
    "\n",
    "\n",
    "class CustomDataset(Dataset):\n",
    "    def __init__(self, img_paths, labels, transforms=None):\n",
    "        self.img_paths = img_paths\n",
    "        self.labels = labels\n",
    "        self.transforms = transforms if transforms else ToTensor()\n",
    "\n",
    "    def __getitem__(self, index):\n",
    "        img_path = self.img_paths[index]\n",
    "        image = cv2.imread(img_path)\n",
    "        image = cv2.cvtColor(image, cv2.COLOR_BGR2RGB)\n",
    "        image = self.transforms(image=image)['image']\n",
    "        \n",
    "        if self.labels is not None:\n",
    "            label = self.labels[index]\n",
    "            return image, label\n",
    "        else:\n",
    "            return image\n",
    "    \n",
    "    def __len__(self):\n",
    "        return len(self.img_paths)"
   ],
   "metadata": {
    "collapsed": false,
    "ExecuteTime": {
     "end_time": "2023-12-18T10:50:41.531180600Z",
     "start_time": "2023-12-18T10:50:41.447051600Z"
    }
   },
   "id": "daa8f5c45d3e6316"
  },
  {
   "cell_type": "code",
   "execution_count": 15,
   "outputs": [],
   "source": [
    "train_transform = A.Compose([\n",
    "    A.Resize(CFG['IMG_SIZE']*2,CFG['IMG_SIZE']*2),\n",
    "    A.RandomCrop(CFG['IMG_SIZE'],CFG['IMG_SIZE']),\n",
    "    A.Transpose(p=0.5), # 행렬 스왑\n",
    "    A.HorizontalFlip(p=0.5), # 좌우 반전\n",
    "    A.VerticalFlip(p=0.5), # 상하 반전\n",
    "    A.ShiftScaleRotate(p=0.5), # 랜덤하게 옮기고, scale, 회전\n",
    "    # A.HueSaturationValue(hue_shift_limit=20, sat_shift_limit=20, val_shift_limit=20, p=0.5), # 빛깔, 색조, 값 변환\n",
    "    # A.RandomBrightnessContrast(brightness_limit=(-0.1,0.1), contrast_limit=(-0.1, 0.1), p=0.5), # 명도 대비\n",
    "    # A.ChannelShuffle(), # RGB 채널 간 shuffle\n",
    "    A.Normalize(mean=(0.485, 0.456, 0.406), std=(0.229, 0.224, 0.225), max_pixel_value=255.0, always_apply=False, p=1.0),\n",
    "    # A.CoarseDropout(p=0.5),\n",
    "    ToTensorV2()\n",
    "])\n",
    "\n",
    "validation_transform = A.Compose([\n",
    "    A.Resize(CFG['IMG_SIZE']*2,CFG['IMG_SIZE']*2),\n",
    "    A.RandomCrop(CFG['IMG_SIZE'],CFG['IMG_SIZE']),\n",
    "    A.Normalize(mean=(0.485, 0.456, 0.406), std=(0.229, 0.224, 0.225), max_pixel_value=255.0, always_apply=False, p=1.0),\n",
    "    ToTensorV2()\n",
    "])\n",
    "\n",
    "test_transform = A.Compose([\n",
    "    A.Resize(CFG['IMG_SIZE'],CFG['IMG_SIZE']),\n",
    "    A.Normalize(mean=(0.485, 0.456, 0.406), std=(0.229, 0.224, 0.225), max_pixel_value=255.0, always_apply=False, p=1.0),\n",
    "    ToTensorV2()\n",
    "])"
   ],
   "metadata": {
    "collapsed": false,
    "ExecuteTime": {
     "end_time": "2023-12-18T10:50:41.548172500Z",
     "start_time": "2023-12-18T10:50:41.463050400Z"
    }
   },
   "id": "17b5b770a5fb4839"
  },
  {
   "cell_type": "code",
   "execution_count": 16,
   "outputs": [
    {
     "data": {
      "text/plain": "<torch._C.Generator at 0x2a260976b30>"
     },
     "execution_count": 16,
     "metadata": {},
     "output_type": "execute_result"
    }
   ],
   "source": [
    "def seed_worker(worker_id):\n",
    "    worker_seed = torch.initial_seed() % 2 ** 32\n",
    "    np.random.seed(worker_seed)\n",
    "    random.seed(worker_seed)\n",
    "g = torch.Generator()\n",
    "g.manual_seed(0)"
   ],
   "metadata": {
    "collapsed": false,
    "ExecuteTime": {
     "end_time": "2023-12-18T10:50:41.553181300Z",
     "start_time": "2023-12-18T10:50:41.474428300Z"
    }
   },
   "id": "c69fe868589b1093"
  },
  {
   "cell_type": "code",
   "execution_count": 17,
   "outputs": [],
   "source": [
    "from torch.utils.data import Sampler\n",
    "\n",
    "# https://hackmd.io/@antolaga/H1rGPefeK\n",
    "class CustomSampler(Sampler):\n",
    "    def __init__(self, df_):\n",
    "        super(CustomSampler).__init__()\n",
    "        self.num_samples = len(df_)\n",
    "        self.indices = list(range(self.num_samples))\n",
    "        class_counts = df_['artist'].value_counts(sort=False).to_dict()\n",
    "        class_weights = {artist_id:round(self.num_samples/class_counts[artist_id], 2) for artist_id in class_counts.keys()}\n",
    "        labels = df_['artist'].value\n",
    "        weights = [class_weights[labels[i]] for i in range(int(self.num_samples))]\n",
    "        self.weights = torch.tensor(weights, dtype=torch.double)\n",
    "        \n",
    "    def __iter__(self):\n",
    "        return (self.indices[i] for i in torch.multinomial(self.weights, self.num_samples, replacement=False))\n",
    "    \n",
    "    def __len__(self):\n",
    "        return self.num_samples  "
   ],
   "metadata": {
    "collapsed": false,
    "ExecuteTime": {
     "end_time": "2023-12-18T10:50:41.612627600Z",
     "start_time": "2023-12-18T10:50:41.492802300Z"
    }
   },
   "id": "b340de05ef9b159c"
  },
  {
   "cell_type": "code",
   "execution_count": 18,
   "outputs": [],
   "source": [
    "class_counts = train_df['artist'].value_counts(sort=False).to_dict()\n",
    "num_samples = sum(class_counts.values())\n",
    "labels = train_df['artist'].to_list()\n",
    "class_weights = {l:round(num_samples/np.log(class_counts[l]), 2) for l in class_counts.keys()}\n",
    "weights = [class_weights[labels[i]] for i in range(int(num_samples))] \n",
    "sampler = torch.utils.data.WeightedRandomSampler(torch.DoubleTensor(weights), int(num_samples))\n",
    "\n",
    "train_dataset = CustomDataset(train_img_paths, train_labels, train_transform)\n",
    "train_loader = DataLoader(\n",
    "    train_dataset, batch_size = CFG['BATCH_SIZE'], shuffle=False, sampler=sampler, \n",
    "    worker_init_fn=seed_worker, generator=g, num_workers=0\n",
    ")\n",
    "\n",
    "val_dataset = CustomDataset(val_img_paths, val_labels, validation_transform)\n",
    "val_loader = DataLoader(val_dataset, batch_size=CFG['BATCH_SIZE'], shuffle=False, worker_init_fn=seed_worker, generator=g, num_workers=0)"
   ],
   "metadata": {
    "collapsed": false,
    "ExecuteTime": {
     "end_time": "2023-12-18T10:50:41.634620800Z",
     "start_time": "2023-12-18T10:50:41.508172800Z"
    }
   },
   "id": "3fdc1f9a44a2408e"
  },
  {
   "cell_type": "code",
   "execution_count": 19,
   "outputs": [],
   "source": [
    "class VitModel(nn.Module):\n",
    "    def __init__(self, num_classes=len(le.classes_)):\n",
    "        super(VitModel, self).__init__()\n",
    "        self.backbone = timm.create_model('tiny_vit_21m_384.dist_in22k_ft_in1k', pretrained=True, num_classes=0)\n",
    "        self.classifier = nn.Sequential(\n",
    "            nn.LayerNorm(576),\n",
    "            nn.GELU(),\n",
    "            nn.Dropout(p=0.4),\n",
    "            nn.Linear(576, num_classes)\n",
    "        )\n",
    "            \n",
    "    def forward(self, x):\n",
    "        x = self.backbone(x)\n",
    "        x = self.classifier(x)\n",
    "        return x"
   ],
   "metadata": {
    "collapsed": false,
    "ExecuteTime": {
     "end_time": "2023-12-18T10:50:41.660622Z",
     "start_time": "2023-12-18T10:50:41.522175300Z"
    }
   },
   "id": "cd5ecc94fada5c8b"
  },
  {
   "cell_type": "code",
   "execution_count": 20,
   "outputs": [],
   "source": [
    "def clear_mem():\n",
    "    gc.collect()\n",
    "    torch.cuda.empty_cache()"
   ],
   "metadata": {
    "collapsed": false,
    "ExecuteTime": {
     "end_time": "2023-12-18T10:50:41.663621800Z",
     "start_time": "2023-12-18T10:50:41.537172900Z"
    }
   },
   "id": "ecce2baec16e71e7"
  },
  {
   "cell_type": "code",
   "execution_count": 21,
   "outputs": [],
   "source": [
    "class EarlyStopping:\n",
    "    def __init__(self, patience=10, verbose=False, delta=0):\n",
    "        self.patience = patience\n",
    "        self.verbose = verbose\n",
    "        self.counter = 0\n",
    "        self.best_score = None\n",
    "        self.early_stop = False\n",
    "        self.val_loss_min = np.Inf\n",
    "        self.delta = delta\n",
    "\n",
    "    def __call__(self, score):\n",
    "        if self.best_score is None:\n",
    "            self.best_score = score\n",
    "        elif score < self.best_score + self.delta:\n",
    "            self.counter += 1\n",
    "            print(f'EarlyStopping counter: {self.counter} out of {self.patience}')\n",
    "            print(f'Best F1 score from now: {self.best_score}')\n",
    "            if self.counter >= self.patience:\n",
    "                self.early_stop = True\n",
    "        else:\n",
    "            self.best_score = score\n",
    "            self.counter = 0\n",
    "        \n",
    "        return self.early_stop"
   ],
   "metadata": {
    "collapsed": false,
    "ExecuteTime": {
     "end_time": "2023-12-18T10:50:41.740629100Z",
     "start_time": "2023-12-18T10:50:41.552173700Z"
    }
   },
   "id": "51d7e36eb5ffba31"
  },
  {
   "cell_type": "code",
   "execution_count": 22,
   "outputs": [],
   "source": [
    "import math\n",
    "from torch.optim.lr_scheduler import LRScheduler\n",
    "\n",
    "class CosineAnnealingWarmUpRestarts(LRScheduler):\n",
    "    def __init__(self, optimizer, T_0, T_mult=1, eta_max=0.1, T_up=0, gamma=1., last_epoch=-1):\n",
    "        if T_0 <= 0 or not isinstance(T_0, int):\n",
    "            raise ValueError(\"Expected positive integer T_0, but got {}\".format(T_0))\n",
    "        if T_mult < 1 or not isinstance(T_mult, int):\n",
    "            raise ValueError(\"Expected integer T_mult >= 1, but got {}\".format(T_mult))\n",
    "        if T_up < 0 or not isinstance(T_up, int):\n",
    "            raise ValueError(\"Expected positive integer T_up, but got {}\".format(T_up))\n",
    "        self.T_0 = T_0\n",
    "        self.T_mult = T_mult\n",
    "        self.base_eta_max = eta_max\n",
    "        self.eta_max = eta_max\n",
    "        self.T_up = T_up\n",
    "        self.T_i = T_0\n",
    "        self.gamma = gamma\n",
    "        self.cycle = 0\n",
    "        self.T_cur = last_epoch\n",
    "        super(CosineAnnealingWarmUpRestarts, self).__init__(optimizer, last_epoch)\n",
    "    \n",
    "    def get_lr(self):\n",
    "        if self.T_cur == -1:\n",
    "            return self.base_lrs\n",
    "        elif self.T_cur < self.T_up:\n",
    "            return [(self.eta_max - base_lr)*self.T_cur / self.T_up + base_lr for base_lr in self.base_lrs]\n",
    "        else:\n",
    "            return [base_lr + (self.eta_max - base_lr) * (1 + math.cos(math.pi * (self.T_cur-self.T_up) / (self.T_i - self.T_up))) / 2\n",
    "                    for base_lr in self.base_lrs]\n",
    "\n",
    "    def step(self, epoch=None):\n",
    "        if epoch is None:\n",
    "            epoch = self.last_epoch + 1\n",
    "            self.T_cur = self.T_cur + 1\n",
    "            if self.T_cur >= self.T_i:\n",
    "                self.cycle += 1\n",
    "                self.T_cur = self.T_cur - self.T_i\n",
    "                self.T_i = (self.T_i - self.T_up) * self.T_mult + self.T_up\n",
    "        else:\n",
    "            if epoch >= self.T_0:\n",
    "                if self.T_mult == 1:\n",
    "                    self.T_cur = epoch % self.T_0\n",
    "                    self.cycle = epoch // self.T_0\n",
    "                else:\n",
    "                    n = int(math.log((epoch / self.T_0 * (self.T_mult - 1) + 1), self.T_mult))\n",
    "                    self.cycle = n\n",
    "                    self.T_cur = epoch - self.T_0 * (self.T_mult ** n - 1) / (self.T_mult - 1)\n",
    "                    self.T_i = self.T_0 * self.T_mult ** (n)\n",
    "            else:\n",
    "                self.T_i = self.T_0\n",
    "                self.T_cur = epoch\n",
    "                \n",
    "        self.eta_max = self.base_eta_max * (self.gamma**self.cycle)\n",
    "        self.last_epoch = math.floor(epoch)\n",
    "        for param_group, lr in zip(self.optimizer.param_groups, self.get_lr()):\n",
    "            param_group['lr'] = lr"
   ],
   "metadata": {
    "collapsed": false,
    "ExecuteTime": {
     "end_time": "2023-12-18T10:50:41.756620900Z",
     "start_time": "2023-12-18T10:50:41.568174100Z"
    }
   },
   "id": "66827c3c4d6466cd"
  },
  {
   "cell_type": "code",
   "execution_count": 23,
   "outputs": [
    {
     "name": "stdout",
     "output_type": "stream",
     "text": [
      "run_id=0\n"
     ]
    }
   ],
   "source": [
    "time_now = datetime.now()\n",
    "run_id = 0# time_now.strftime(\"%Y%m%d%H%M%S\")\n",
    "os.makedirs(os.path.join(data_path, f'./runs/{run_id}'), exist_ok=True)\n",
    "print(f'{run_id=}')"
   ],
   "metadata": {
    "collapsed": false,
    "ExecuteTime": {
     "end_time": "2023-12-18T10:50:41.836628600Z",
     "start_time": "2023-12-18T10:50:41.585811500Z"
    }
   },
   "id": "17fc703a3126967"
  },
  {
   "cell_type": "code",
   "execution_count": 24,
   "outputs": [],
   "source": [
    "def train(epoch, model, optimizer, criterion, train_loader, device, lr_scheduler=None):\n",
    "    model.train()\n",
    "    train_loss = []\n",
    "    lr_list = []\n",
    "    bar = tqdm(enumerate(train_loader), total = len(train_loader), desc='Train Loop')\n",
    "    for idx, (img, label) in bar:\n",
    "        img, label = img.float().to(device), label.long().to(device)\n",
    "        \n",
    "        optimizer.zero_grad()\n",
    "\n",
    "        model_pred = model(img)\n",
    "        loss = criterion(model_pred, label)\n",
    "\n",
    "        loss.backward()\n",
    "        if (epoch*idx)%10 == 0:\n",
    "            lr_list.append(optimizer.param_groups[0]['lr'])\n",
    "        optimizer.step()\n",
    "        train_loss.append(loss.item())\n",
    "        bar.set_postfix(train_loss = f'{loss.item():.4f}', lr = f\"{optimizer.param_groups[0]['lr']:.6f}\")\n",
    "        if lr_scheduler:\n",
    "            lr_scheduler.step()\n",
    "    return np.mean(train_loss), lr_list"
   ],
   "metadata": {
    "collapsed": false,
    "ExecuteTime": {
     "end_time": "2023-12-18T10:50:41.852738300Z",
     "start_time": "2023-12-18T10:50:41.600620400Z"
    }
   },
   "id": "8837f76bd55e594f"
  },
  {
   "cell_type": "code",
   "execution_count": 25,
   "outputs": [],
   "source": [
    "def competition_metric(true, pred):\n",
    "    return f1_score(true, pred, average=\"macro\")\n",
    "\n",
    "def validation(model, criterion, test_loader, device):\n",
    "    model.eval()\n",
    "    \n",
    "    model_preds = []\n",
    "    true_labels = []\n",
    "    \n",
    "    val_loss = []\n",
    "    \n",
    "    with torch.no_grad():\n",
    "        for img, label in iter(test_loader):\n",
    "            img, label = img.float().to(device), label.long().to(device)\n",
    "            \n",
    "            model_pred = model(img)\n",
    "            \n",
    "            loss = criterion(model_pred, label)\n",
    "            \n",
    "            val_loss.append(loss.item())\n",
    "            \n",
    "            model_preds += model_pred.argmax(1).detach().cpu().numpy().tolist()\n",
    "            true_labels += label.detach().cpu().numpy().tolist()\n",
    "        \n",
    "    val_f1 = competition_metric(true_labels, model_preds)\n",
    "    return np.mean(val_loss), val_f1"
   ],
   "metadata": {
    "collapsed": false,
    "ExecuteTime": {
     "end_time": "2023-12-18T10:50:41.853622700Z",
     "start_time": "2023-12-18T10:50:41.618619800Z"
    }
   },
   "id": "6e0713601b2fa53a"
  },
  {
   "cell_type": "code",
   "execution_count": 26,
   "outputs": [],
   "source": [
    "def train_epoch(model, optimizer, train_loader, test_loader, lr_scheduler, device):\n",
    "    model.to(device)\n",
    "\n",
    "    criterion = nn.CrossEntropyLoss().to(device)\n",
    "    early_stopping = EarlyStopping(patience=CFG['PATIENCE'], verbose=True)\n",
    "    \n",
    "    best_score = 0\n",
    "    lr_list = []\n",
    "    train_loss_list, val_loss_list = [], []\n",
    "    \n",
    "    for epoch in range(1,CFG[\"EPOCHS\"]+1):\n",
    "        tr_loss, lr_ = train(epoch, model, optimizer, criterion, train_loader, device, lr_scheduler)\n",
    "        val_loss, val_score = validation(model, criterion, test_loader, device)\n",
    "        train_loss_list.append(tr_loss)\n",
    "        val_loss_list.append(val_loss)\n",
    "        \n",
    "        if lr_scheduler is not None:\n",
    "            lr_list.extend(lr_)\n",
    "            \n",
    "        if best_score < val_score:\n",
    "            print(f'**Epoch [{epoch}], Train Loss : [{tr_loss:.5f}] Val Loss : [{val_loss:.5f}] Val F1 Score : [{val_score:.5f}]')\n",
    "            best_score = val_score\n",
    "            torch.save(model, os.path.join(data_path, f'runs/{run_id}/best_model.pt'))\n",
    "        else:\n",
    "            print(f'Epoch [{epoch}], Train Loss : [{tr_loss:.5f}] Val Loss : [{val_loss:.5f}] Val F1 Score : [{val_score:.5f}]')\n",
    "        clear_mem()\n",
    "        if early_stopping(val_score):\n",
    "            print(f'Epoch [{epoch}], early stopping')\n",
    "            break\n",
    "    if lr_list:\n",
    "        return (train_loss_list, val_loss_list, lr_list)\n",
    "    else:\n",
    "        return (train_loss_list, val_loss_list, None)"
   ],
   "metadata": {
    "collapsed": false,
    "ExecuteTime": {
     "end_time": "2023-12-18T10:50:41.862620100Z",
     "start_time": "2023-12-18T10:50:41.635624800Z"
    }
   },
   "id": "533c937dd1370a10"
  },
  {
   "cell_type": "code",
   "execution_count": 27,
   "outputs": [
    {
     "name": "stdout",
     "output_type": "stream",
     "text": [
      "===============================================================================================\n",
      "Layer (type:depth-idx)                        Output Shape              Param #\n",
      "===============================================================================================\n",
      "├─TinyVit: 1-1                                [-1, 576]                 --\n",
      "|    └─PatchEmbed: 2-1                        [-1, 96, 72, 72]          --\n",
      "|    |    └─ConvNorm: 3-1                     [-1, 48, 144, 144]        1,392\n",
      "|    |    └─GELU: 3-2                         [-1, 48, 144, 144]        --\n",
      "|    |    └─ConvNorm: 3-3                     [-1, 96, 72, 72]          41,664\n",
      "|    └─Sequential: 2-2                        [-1, 576, 9, 9]           --\n",
      "|    |    └─ConvLayer: 3-4                    [-1, 96, 72, 72]          157,824\n",
      "|    |    └─TinyVitStage: 3-5                 [-1, 192, 36, 36]         953,856\n",
      "|    |    └─TinyVitStage: 3-6                 [-1, 384, 18, 18]         10,940,544\n",
      "|    |    └─TinyVitStage: 3-7                 [-1, 576, 9, 9]           8,557,056\n",
      "|    └─NormMlpClassifierHead: 2-3             [-1, 576]                 --\n",
      "|    |    └─SelectAdaptivePool2d: 3-8         [-1, 576, 1, 1]           --\n",
      "|    |    └─LayerNorm2d: 3-9                  [-1, 576, 1, 1]           1,152\n",
      "|    |    └─Flatten: 3-10                     [-1, 576]                 --\n",
      "|    |    └─Identity: 3-11                    [-1, 576]                 --\n",
      "|    |    └─Dropout: 3-12                     [-1, 576]                 --\n",
      "|    |    └─Identity: 3-13                    [-1, 576]                 --\n",
      "├─Sequential: 1-2                             [-1, 50]                  --\n",
      "|    └─LayerNorm: 2-4                         [-1, 576]                 1,152\n",
      "|    └─GELU: 2-5                              [-1, 576]                 --\n",
      "|    └─Dropout: 2-6                           [-1, 576]                 --\n",
      "|    └─Linear: 2-7                            [-1, 50]                  28,850\n",
      "===============================================================================================\n",
      "Total params: 20,683,490\n",
      "Trainable params: 20,683,490\n",
      "Non-trainable params: 0\n",
      "Total mult-adds (M): 324.09\n",
      "===============================================================================================\n",
      "Input size (MB): 0.95\n",
      "Forward/backward pass size (MB): 22.79\n",
      "Params size (MB): 78.90\n",
      "Estimated Total Size (MB): 102.64\n",
      "===============================================================================================\n"
     ]
    },
    {
     "data": {
      "text/plain": "===============================================================================================\nLayer (type:depth-idx)                        Output Shape              Param #\n===============================================================================================\n├─TinyVit: 1-1                                [-1, 576]                 --\n|    └─PatchEmbed: 2-1                        [-1, 96, 72, 72]          --\n|    |    └─ConvNorm: 3-1                     [-1, 48, 144, 144]        1,392\n|    |    └─GELU: 3-2                         [-1, 48, 144, 144]        --\n|    |    └─ConvNorm: 3-3                     [-1, 96, 72, 72]          41,664\n|    └─Sequential: 2-2                        [-1, 576, 9, 9]           --\n|    |    └─ConvLayer: 3-4                    [-1, 96, 72, 72]          157,824\n|    |    └─TinyVitStage: 3-5                 [-1, 192, 36, 36]         953,856\n|    |    └─TinyVitStage: 3-6                 [-1, 384, 18, 18]         10,940,544\n|    |    └─TinyVitStage: 3-7                 [-1, 576, 9, 9]           8,557,056\n|    └─NormMlpClassifierHead: 2-3             [-1, 576]                 --\n|    |    └─SelectAdaptivePool2d: 3-8         [-1, 576, 1, 1]           --\n|    |    └─LayerNorm2d: 3-9                  [-1, 576, 1, 1]           1,152\n|    |    └─Flatten: 3-10                     [-1, 576]                 --\n|    |    └─Identity: 3-11                    [-1, 576]                 --\n|    |    └─Dropout: 3-12                     [-1, 576]                 --\n|    |    └─Identity: 3-13                    [-1, 576]                 --\n├─Sequential: 1-2                             [-1, 50]                  --\n|    └─LayerNorm: 2-4                         [-1, 576]                 1,152\n|    └─GELU: 2-5                              [-1, 576]                 --\n|    └─Dropout: 2-6                           [-1, 576]                 --\n|    └─Linear: 2-7                            [-1, 50]                  28,850\n===============================================================================================\nTotal params: 20,683,490\nTrainable params: 20,683,490\nNon-trainable params: 0\nTotal mult-adds (M): 324.09\n===============================================================================================\nInput size (MB): 0.95\nForward/backward pass size (MB): 22.79\nParams size (MB): 78.90\nEstimated Total Size (MB): 102.64\n==============================================================================================="
     },
     "execution_count": 27,
     "metadata": {},
     "output_type": "execute_result"
    }
   ],
   "source": [
    "from torchsummary import summary\n",
    "\n",
    "model = VitModel()\n",
    "summary(model, (3,288,288))"
   ],
   "metadata": {
    "collapsed": false,
    "ExecuteTime": {
     "end_time": "2023-12-18T10:50:46.544816200Z",
     "start_time": "2023-12-18T10:50:41.650620500Z"
    }
   },
   "id": "67da3204ab03efc8"
  },
  {
   "cell_type": "code",
   "execution_count": 28,
   "outputs": [
    {
     "data": {
      "text/plain": "Train Loop:   0%|          | 0/296 [00:00<?, ?it/s]",
      "application/vnd.jupyter.widget-view+json": {
       "version_major": 2,
       "version_minor": 0,
       "model_id": "17473e6cfc6e41cfa60b87534775a537"
      }
     },
     "metadata": {},
     "output_type": "display_data"
    },
    {
     "name": "stdout",
     "output_type": "stream",
     "text": [
      "**Epoch [1], Train Loss : [2.89153] Val Loss : [2.14673] Val F1 Score : [0.29997]\n"
     ]
    },
    {
     "data": {
      "text/plain": "Train Loop:   0%|          | 0/296 [00:00<?, ?it/s]",
      "application/vnd.jupyter.widget-view+json": {
       "version_major": 2,
       "version_minor": 0,
       "model_id": "f2ef45d942ce4ed2899453042653b381"
      }
     },
     "metadata": {},
     "output_type": "display_data"
    },
    {
     "name": "stdout",
     "output_type": "stream",
     "text": [
      "**Epoch [2], Train Loss : [1.97836] Val Loss : [1.52080] Val F1 Score : [0.49170]\n"
     ]
    },
    {
     "data": {
      "text/plain": "Train Loop:   0%|          | 0/296 [00:00<?, ?it/s]",
      "application/vnd.jupyter.widget-view+json": {
       "version_major": 2,
       "version_minor": 0,
       "model_id": "9f8a5e19d7804190a3dfa7a638c96ad1"
      }
     },
     "metadata": {},
     "output_type": "display_data"
    },
    {
     "name": "stdout",
     "output_type": "stream",
     "text": [
      "**Epoch [3], Train Loss : [1.44120] Val Loss : [1.08510] Val F1 Score : [0.65083]\n"
     ]
    },
    {
     "data": {
      "text/plain": "Train Loop:   0%|          | 0/296 [00:00<?, ?it/s]",
      "application/vnd.jupyter.widget-view+json": {
       "version_major": 2,
       "version_minor": 0,
       "model_id": "a28231ea6de34f6b9e9b0e1ac1add7b8"
      }
     },
     "metadata": {},
     "output_type": "display_data"
    },
    {
     "name": "stdout",
     "output_type": "stream",
     "text": [
      "**Epoch [4], Train Loss : [1.05950] Val Loss : [0.85071] Val F1 Score : [0.70524]\n"
     ]
    },
    {
     "data": {
      "text/plain": "Train Loop:   0%|          | 0/296 [00:00<?, ?it/s]",
      "application/vnd.jupyter.widget-view+json": {
       "version_major": 2,
       "version_minor": 0,
       "model_id": "f5035b40cba740fcbcce000ce61f45b3"
      }
     },
     "metadata": {},
     "output_type": "display_data"
    },
    {
     "name": "stdout",
     "output_type": "stream",
     "text": [
      "Epoch [5], Train Loss : [0.89409] Val Loss : [0.85047] Val F1 Score : [0.69221]\n",
      "EarlyStopping counter: 1 out of 10\n",
      "Best F1 score from now: 0.7052406521208192\n"
     ]
    },
    {
     "data": {
      "text/plain": "Train Loop:   0%|          | 0/296 [00:00<?, ?it/s]",
      "application/vnd.jupyter.widget-view+json": {
       "version_major": 2,
       "version_minor": 0,
       "model_id": "efaeb70514884879af34de2a70f728e5"
      }
     },
     "metadata": {},
     "output_type": "display_data"
    },
    {
     "name": "stdout",
     "output_type": "stream",
     "text": [
      "Epoch [6], Train Loss : [1.34283] Val Loss : [1.31364] Val F1 Score : [0.54781]\n",
      "EarlyStopping counter: 2 out of 10\n",
      "Best F1 score from now: 0.7052406521208192\n"
     ]
    },
    {
     "data": {
      "text/plain": "Train Loop:   0%|          | 0/296 [00:00<?, ?it/s]",
      "application/vnd.jupyter.widget-view+json": {
       "version_major": 2,
       "version_minor": 0,
       "model_id": "d8111afc5e7645878dd6ad2aca34a3ce"
      }
     },
     "metadata": {},
     "output_type": "display_data"
    },
    {
     "name": "stdout",
     "output_type": "stream",
     "text": [
      "Epoch [7], Train Loss : [1.24309] Val Loss : [0.97034] Val F1 Score : [0.67070]\n",
      "EarlyStopping counter: 3 out of 10\n",
      "Best F1 score from now: 0.7052406521208192\n"
     ]
    },
    {
     "data": {
      "text/plain": "Train Loop:   0%|          | 0/296 [00:00<?, ?it/s]",
      "application/vnd.jupyter.widget-view+json": {
       "version_major": 2,
       "version_minor": 0,
       "model_id": "929c30e82f7740ab8cc631b0245795fe"
      }
     },
     "metadata": {},
     "output_type": "display_data"
    },
    {
     "name": "stdout",
     "output_type": "stream",
     "text": [
      "Epoch [8], Train Loss : [0.88132] Val Loss : [0.79111] Val F1 Score : [0.69821]\n",
      "EarlyStopping counter: 4 out of 10\n",
      "Best F1 score from now: 0.7052406521208192\n"
     ]
    },
    {
     "data": {
      "text/plain": "Train Loop:   0%|          | 0/296 [00:00<?, ?it/s]",
      "application/vnd.jupyter.widget-view+json": {
       "version_major": 2,
       "version_minor": 0,
       "model_id": "3c722e4f26864ae1954a383791f8b5bf"
      }
     },
     "metadata": {},
     "output_type": "display_data"
    },
    {
     "name": "stdout",
     "output_type": "stream",
     "text": [
      "**Epoch [9], Train Loss : [0.67936] Val Loss : [0.65890] Val F1 Score : [0.78191]\n"
     ]
    },
    {
     "data": {
      "text/plain": "Train Loop:   0%|          | 0/296 [00:00<?, ?it/s]",
      "application/vnd.jupyter.widget-view+json": {
       "version_major": 2,
       "version_minor": 0,
       "model_id": "a1160394b34b4882b1047eef2ecbb5bb"
      }
     },
     "metadata": {},
     "output_type": "display_data"
    },
    {
     "name": "stdout",
     "output_type": "stream",
     "text": [
      "Epoch [10], Train Loss : [0.59884] Val Loss : [0.65895] Val F1 Score : [0.76753]\n",
      "EarlyStopping counter: 1 out of 10\n",
      "Best F1 score from now: 0.781906659055806\n"
     ]
    },
    {
     "data": {
      "text/plain": "Train Loop:   0%|          | 0/296 [00:00<?, ?it/s]",
      "application/vnd.jupyter.widget-view+json": {
       "version_major": 2,
       "version_minor": 0,
       "model_id": "2c49136a6e77453e8c713db220bc5e53"
      }
     },
     "metadata": {},
     "output_type": "display_data"
    },
    {
     "name": "stdout",
     "output_type": "stream",
     "text": [
      "Epoch [11], Train Loss : [0.87411] Val Loss : [1.04779] Val F1 Score : [0.63479]\n",
      "EarlyStopping counter: 2 out of 10\n",
      "Best F1 score from now: 0.781906659055806\n"
     ]
    },
    {
     "data": {
      "text/plain": "Train Loop:   0%|          | 0/296 [00:00<?, ?it/s]",
      "application/vnd.jupyter.widget-view+json": {
       "version_major": 2,
       "version_minor": 0,
       "model_id": "428a5175f0624f26ad026fde761d8ddc"
      }
     },
     "metadata": {},
     "output_type": "display_data"
    },
    {
     "name": "stdout",
     "output_type": "stream",
     "text": [
      "Epoch [12], Train Loss : [0.81445] Val Loss : [0.93010] Val F1 Score : [0.71258]\n",
      "EarlyStopping counter: 3 out of 10\n",
      "Best F1 score from now: 0.781906659055806\n"
     ]
    },
    {
     "data": {
      "text/plain": "Train Loop:   0%|          | 0/296 [00:00<?, ?it/s]",
      "application/vnd.jupyter.widget-view+json": {
       "version_major": 2,
       "version_minor": 0,
       "model_id": "a435fb8da07f4f6894f0b35425990663"
      }
     },
     "metadata": {},
     "output_type": "display_data"
    },
    {
     "name": "stdout",
     "output_type": "stream",
     "text": [
      "Epoch [13], Train Loss : [0.60917] Val Loss : [0.74603] Val F1 Score : [0.76348]\n",
      "EarlyStopping counter: 4 out of 10\n",
      "Best F1 score from now: 0.781906659055806\n"
     ]
    },
    {
     "data": {
      "text/plain": "Train Loop:   0%|          | 0/296 [00:00<?, ?it/s]",
      "application/vnd.jupyter.widget-view+json": {
       "version_major": 2,
       "version_minor": 0,
       "model_id": "64bad06d447349478165221234bc1050"
      }
     },
     "metadata": {},
     "output_type": "display_data"
    },
    {
     "name": "stdout",
     "output_type": "stream",
     "text": [
      "Epoch [14], Train Loss : [0.44164] Val Loss : [0.64233] Val F1 Score : [0.76750]\n",
      "EarlyStopping counter: 5 out of 10\n",
      "Best F1 score from now: 0.781906659055806\n"
     ]
    },
    {
     "data": {
      "text/plain": "Train Loop:   0%|          | 0/296 [00:00<?, ?it/s]",
      "application/vnd.jupyter.widget-view+json": {
       "version_major": 2,
       "version_minor": 0,
       "model_id": "14862b33b82c4ef58e0dca5001efc2c4"
      }
     },
     "metadata": {},
     "output_type": "display_data"
    },
    {
     "name": "stdout",
     "output_type": "stream",
     "text": [
      "**Epoch [15], Train Loss : [0.37803] Val Loss : [0.60801] Val F1 Score : [0.78736]\n"
     ]
    },
    {
     "data": {
      "text/plain": "Train Loop:   0%|          | 0/296 [00:00<?, ?it/s]",
      "application/vnd.jupyter.widget-view+json": {
       "version_major": 2,
       "version_minor": 0,
       "model_id": "de30b95929c44cccbe0b2ae8d07eeef3"
      }
     },
     "metadata": {},
     "output_type": "display_data"
    },
    {
     "name": "stdout",
     "output_type": "stream",
     "text": [
      "Epoch [16], Train Loss : [0.57859] Val Loss : [0.99375] Val F1 Score : [0.68103]\n",
      "EarlyStopping counter: 1 out of 10\n",
      "Best F1 score from now: 0.7873588805343132\n"
     ]
    },
    {
     "data": {
      "text/plain": "Train Loop:   0%|          | 0/296 [00:00<?, ?it/s]",
      "application/vnd.jupyter.widget-view+json": {
       "version_major": 2,
       "version_minor": 0,
       "model_id": "f5ee3fda76174a3ba0a05fe55f4634c8"
      }
     },
     "metadata": {},
     "output_type": "display_data"
    },
    {
     "name": "stdout",
     "output_type": "stream",
     "text": [
      "Epoch [17], Train Loss : [0.58196] Val Loss : [0.72273] Val F1 Score : [0.75267]\n",
      "EarlyStopping counter: 2 out of 10\n",
      "Best F1 score from now: 0.7873588805343132\n"
     ]
    },
    {
     "data": {
      "text/plain": "Train Loop:   0%|          | 0/296 [00:00<?, ?it/s]",
      "application/vnd.jupyter.widget-view+json": {
       "version_major": 2,
       "version_minor": 0,
       "model_id": "28c032ad03504c9c9e2e1d65766d503c"
      }
     },
     "metadata": {},
     "output_type": "display_data"
    },
    {
     "name": "stdout",
     "output_type": "stream",
     "text": [
      "Epoch [18], Train Loss : [0.42840] Val Loss : [0.66980] Val F1 Score : [0.77384]\n",
      "EarlyStopping counter: 3 out of 10\n",
      "Best F1 score from now: 0.7873588805343132\n"
     ]
    },
    {
     "data": {
      "text/plain": "Train Loop:   0%|          | 0/296 [00:00<?, ?it/s]",
      "application/vnd.jupyter.widget-view+json": {
       "version_major": 2,
       "version_minor": 0,
       "model_id": "7eca944dd94b4f8d8272a1c2f4279491"
      }
     },
     "metadata": {},
     "output_type": "display_data"
    },
    {
     "name": "stdout",
     "output_type": "stream",
     "text": [
      "**Epoch [19], Train Loss : [0.32097] Val Loss : [0.62345] Val F1 Score : [0.78803]\n"
     ]
    },
    {
     "data": {
      "text/plain": "Train Loop:   0%|          | 0/296 [00:00<?, ?it/s]",
      "application/vnd.jupyter.widget-view+json": {
       "version_major": 2,
       "version_minor": 0,
       "model_id": "b6a0551132a14206a7684c9db5e4e736"
      }
     },
     "metadata": {},
     "output_type": "display_data"
    },
    {
     "name": "stdout",
     "output_type": "stream",
     "text": [
      "**Epoch [20], Train Loss : [0.28505] Val Loss : [0.60543] Val F1 Score : [0.79063]\n"
     ]
    },
    {
     "data": {
      "text/plain": "Train Loop:   0%|          | 0/296 [00:00<?, ?it/s]",
      "application/vnd.jupyter.widget-view+json": {
       "version_major": 2,
       "version_minor": 0,
       "model_id": "5a94b042e2344c82bdc96995bcacade6"
      }
     },
     "metadata": {},
     "output_type": "display_data"
    },
    {
     "name": "stdout",
     "output_type": "stream",
     "text": [
      "Epoch [21], Train Loss : [0.39772] Val Loss : [0.78518] Val F1 Score : [0.75393]\n",
      "EarlyStopping counter: 1 out of 10\n",
      "Best F1 score from now: 0.7906257024222471\n"
     ]
    },
    {
     "data": {
      "text/plain": "Train Loop:   0%|          | 0/296 [00:00<?, ?it/s]",
      "application/vnd.jupyter.widget-view+json": {
       "version_major": 2,
       "version_minor": 0,
       "model_id": "61d51083c32c4f81a6b2ab2550c9fd98"
      }
     },
     "metadata": {},
     "output_type": "display_data"
    },
    {
     "name": "stdout",
     "output_type": "stream",
     "text": [
      "Epoch [22], Train Loss : [0.42135] Val Loss : [0.71984] Val F1 Score : [0.77363]\n",
      "EarlyStopping counter: 2 out of 10\n",
      "Best F1 score from now: 0.7906257024222471\n"
     ]
    },
    {
     "data": {
      "text/plain": "Train Loop:   0%|          | 0/296 [00:00<?, ?it/s]",
      "application/vnd.jupyter.widget-view+json": {
       "version_major": 2,
       "version_minor": 0,
       "model_id": "336b170a37f24c66a090f248cf8d970d"
      }
     },
     "metadata": {},
     "output_type": "display_data"
    },
    {
     "name": "stdout",
     "output_type": "stream",
     "text": [
      "Epoch [23], Train Loss : [0.34211] Val Loss : [0.69112] Val F1 Score : [0.77095]\n",
      "EarlyStopping counter: 3 out of 10\n",
      "Best F1 score from now: 0.7906257024222471\n"
     ]
    },
    {
     "data": {
      "text/plain": "Train Loop:   0%|          | 0/296 [00:00<?, ?it/s]",
      "application/vnd.jupyter.widget-view+json": {
       "version_major": 2,
       "version_minor": 0,
       "model_id": "c88be45c0fa34ce792d1dae875060927"
      }
     },
     "metadata": {},
     "output_type": "display_data"
    },
    {
     "name": "stdout",
     "output_type": "stream",
     "text": [
      "Epoch [24], Train Loss : [0.24543] Val Loss : [0.68897] Val F1 Score : [0.75821]\n",
      "EarlyStopping counter: 4 out of 10\n",
      "Best F1 score from now: 0.7906257024222471\n"
     ]
    },
    {
     "data": {
      "text/plain": "Train Loop:   0%|          | 0/296 [00:00<?, ?it/s]",
      "application/vnd.jupyter.widget-view+json": {
       "version_major": 2,
       "version_minor": 0,
       "model_id": "ebccd33302c84c6d81e0aa8b3358b1bf"
      }
     },
     "metadata": {},
     "output_type": "display_data"
    },
    {
     "name": "stdout",
     "output_type": "stream",
     "text": [
      "**Epoch [25], Train Loss : [0.22892] Val Loss : [0.59696] Val F1 Score : [0.80720]\n"
     ]
    },
    {
     "data": {
      "text/plain": "Train Loop:   0%|          | 0/296 [00:00<?, ?it/s]",
      "application/vnd.jupyter.widget-view+json": {
       "version_major": 2,
       "version_minor": 0,
       "model_id": "1d08d096f17d48da80bc42a1afaf927a"
      }
     },
     "metadata": {},
     "output_type": "display_data"
    },
    {
     "name": "stdout",
     "output_type": "stream",
     "text": [
      "Epoch [26], Train Loss : [0.28602] Val Loss : [0.75380] Val F1 Score : [0.76338]\n",
      "EarlyStopping counter: 1 out of 10\n",
      "Best F1 score from now: 0.8072012011710139\n"
     ]
    },
    {
     "data": {
      "text/plain": "Train Loop:   0%|          | 0/296 [00:00<?, ?it/s]",
      "application/vnd.jupyter.widget-view+json": {
       "version_major": 2,
       "version_minor": 0,
       "model_id": "c9d1d9a1a849412682c7be780e8173b1"
      }
     },
     "metadata": {},
     "output_type": "display_data"
    },
    {
     "name": "stdout",
     "output_type": "stream",
     "text": [
      "Epoch [27], Train Loss : [0.28511] Val Loss : [0.73535] Val F1 Score : [0.74611]\n",
      "EarlyStopping counter: 2 out of 10\n",
      "Best F1 score from now: 0.8072012011710139\n"
     ]
    },
    {
     "data": {
      "text/plain": "Train Loop:   0%|          | 0/296 [00:00<?, ?it/s]",
      "application/vnd.jupyter.widget-view+json": {
       "version_major": 2,
       "version_minor": 0,
       "model_id": "0b634c52f068425b90324664c7f704fe"
      }
     },
     "metadata": {},
     "output_type": "display_data"
    },
    {
     "name": "stdout",
     "output_type": "stream",
     "text": [
      "Epoch [28], Train Loss : [0.23443] Val Loss : [0.64720] Val F1 Score : [0.77526]\n",
      "EarlyStopping counter: 3 out of 10\n",
      "Best F1 score from now: 0.8072012011710139\n"
     ]
    },
    {
     "data": {
      "text/plain": "Train Loop:   0%|          | 0/296 [00:00<?, ?it/s]",
      "application/vnd.jupyter.widget-view+json": {
       "version_major": 2,
       "version_minor": 0,
       "model_id": "4014bb1583a54c0f92a767121cd4aa16"
      }
     },
     "metadata": {},
     "output_type": "display_data"
    },
    {
     "name": "stdout",
     "output_type": "stream",
     "text": [
      "Epoch [29], Train Loss : [0.17304] Val Loss : [0.62507] Val F1 Score : [0.79158]\n",
      "EarlyStopping counter: 4 out of 10\n",
      "Best F1 score from now: 0.8072012011710139\n"
     ]
    },
    {
     "data": {
      "text/plain": "Train Loop:   0%|          | 0/296 [00:00<?, ?it/s]",
      "application/vnd.jupyter.widget-view+json": {
       "version_major": 2,
       "version_minor": 0,
       "model_id": "fdb99a7014c14922bbbebc4c41b44532"
      }
     },
     "metadata": {},
     "output_type": "display_data"
    },
    {
     "name": "stdout",
     "output_type": "stream",
     "text": [
      "**Epoch [30], Train Loss : [0.17117] Val Loss : [0.57780] Val F1 Score : [0.81360]\n"
     ]
    },
    {
     "data": {
      "text/plain": "Train Loop:   0%|          | 0/296 [00:00<?, ?it/s]",
      "application/vnd.jupyter.widget-view+json": {
       "version_major": 2,
       "version_minor": 0,
       "model_id": "cf9cbb23459c40ec966cf381a5b73106"
      }
     },
     "metadata": {},
     "output_type": "display_data"
    },
    {
     "name": "stdout",
     "output_type": "stream",
     "text": [
      "Epoch [31], Train Loss : [0.23006] Val Loss : [0.65420] Val F1 Score : [0.78141]\n",
      "EarlyStopping counter: 1 out of 10\n",
      "Best F1 score from now: 0.8135992966296263\n"
     ]
    },
    {
     "data": {
      "text/plain": "Train Loop:   0%|          | 0/296 [00:00<?, ?it/s]",
      "application/vnd.jupyter.widget-view+json": {
       "version_major": 2,
       "version_minor": 0,
       "model_id": "98fafc127a094f2ea9f20e3772094ef8"
      }
     },
     "metadata": {},
     "output_type": "display_data"
    },
    {
     "name": "stdout",
     "output_type": "stream",
     "text": [
      "Epoch [32], Train Loss : [0.25172] Val Loss : [0.64838] Val F1 Score : [0.80275]\n",
      "EarlyStopping counter: 2 out of 10\n",
      "Best F1 score from now: 0.8135992966296263\n"
     ]
    },
    {
     "data": {
      "text/plain": "Train Loop:   0%|          | 0/296 [00:00<?, ?it/s]",
      "application/vnd.jupyter.widget-view+json": {
       "version_major": 2,
       "version_minor": 0,
       "model_id": "d3325fff9f4b4c5ab2347864af8090a6"
      }
     },
     "metadata": {},
     "output_type": "display_data"
    },
    {
     "name": "stdout",
     "output_type": "stream",
     "text": [
      "Epoch [33], Train Loss : [0.19679] Val Loss : [0.67847] Val F1 Score : [0.80290]\n",
      "EarlyStopping counter: 3 out of 10\n",
      "Best F1 score from now: 0.8135992966296263\n"
     ]
    },
    {
     "data": {
      "text/plain": "Train Loop:   0%|          | 0/296 [00:00<?, ?it/s]",
      "application/vnd.jupyter.widget-view+json": {
       "version_major": 2,
       "version_minor": 0,
       "model_id": "916927bfeedb414c804c089eb839433c"
      }
     },
     "metadata": {},
     "output_type": "display_data"
    },
    {
     "name": "stdout",
     "output_type": "stream",
     "text": [
      "Epoch [34], Train Loss : [0.15147] Val Loss : [0.58339] Val F1 Score : [0.79424]\n",
      "EarlyStopping counter: 4 out of 10\n",
      "Best F1 score from now: 0.8135992966296263\n"
     ]
    },
    {
     "data": {
      "text/plain": "Train Loop:   0%|          | 0/296 [00:00<?, ?it/s]",
      "application/vnd.jupyter.widget-view+json": {
       "version_major": 2,
       "version_minor": 0,
       "model_id": "65a7bdb3adcb4a99b360da8f606f9397"
      }
     },
     "metadata": {},
     "output_type": "display_data"
    },
    {
     "name": "stdout",
     "output_type": "stream",
     "text": [
      "Epoch [35], Train Loss : [0.13145] Val Loss : [0.60266] Val F1 Score : [0.80322]\n",
      "EarlyStopping counter: 5 out of 10\n",
      "Best F1 score from now: 0.8135992966296263\n"
     ]
    },
    {
     "data": {
      "text/plain": "Train Loop:   0%|          | 0/296 [00:00<?, ?it/s]",
      "application/vnd.jupyter.widget-view+json": {
       "version_major": 2,
       "version_minor": 0,
       "model_id": "eacd7ae32e684de599d09312b41e6f73"
      }
     },
     "metadata": {},
     "output_type": "display_data"
    },
    {
     "name": "stdout",
     "output_type": "stream",
     "text": [
      "Epoch [36], Train Loss : [0.15827] Val Loss : [0.65059] Val F1 Score : [0.79909]\n",
      "EarlyStopping counter: 6 out of 10\n",
      "Best F1 score from now: 0.8135992966296263\n"
     ]
    },
    {
     "data": {
      "text/plain": "Train Loop:   0%|          | 0/296 [00:00<?, ?it/s]",
      "application/vnd.jupyter.widget-view+json": {
       "version_major": 2,
       "version_minor": 0,
       "model_id": "57585444d60946a9af58d9971135bb35"
      }
     },
     "metadata": {},
     "output_type": "display_data"
    },
    {
     "name": "stdout",
     "output_type": "stream",
     "text": [
      "**Epoch [37], Train Loss : [0.17824] Val Loss : [0.59874] Val F1 Score : [0.81856]\n"
     ]
    },
    {
     "data": {
      "text/plain": "Train Loop:   0%|          | 0/296 [00:00<?, ?it/s]",
      "application/vnd.jupyter.widget-view+json": {
       "version_major": 2,
       "version_minor": 0,
       "model_id": "57f20bb2c41d4cc795baa59602e76bae"
      }
     },
     "metadata": {},
     "output_type": "display_data"
    },
    {
     "name": "stdout",
     "output_type": "stream",
     "text": [
      "Epoch [38], Train Loss : [0.13368] Val Loss : [0.62203] Val F1 Score : [0.80528]\n",
      "EarlyStopping counter: 1 out of 10\n",
      "Best F1 score from now: 0.8185586234973067\n"
     ]
    },
    {
     "data": {
      "text/plain": "Train Loop:   0%|          | 0/296 [00:00<?, ?it/s]",
      "application/vnd.jupyter.widget-view+json": {
       "version_major": 2,
       "version_minor": 0,
       "model_id": "4be84ea95e7c49df9e013e72849571a7"
      }
     },
     "metadata": {},
     "output_type": "display_data"
    },
    {
     "name": "stdout",
     "output_type": "stream",
     "text": [
      "Epoch [39], Train Loss : [0.11634] Val Loss : [0.59796] Val F1 Score : [0.79999]\n",
      "EarlyStopping counter: 2 out of 10\n",
      "Best F1 score from now: 0.8185586234973067\n"
     ]
    },
    {
     "data": {
      "text/plain": "Train Loop:   0%|          | 0/296 [00:00<?, ?it/s]",
      "application/vnd.jupyter.widget-view+json": {
       "version_major": 2,
       "version_minor": 0,
       "model_id": "73d6eddc477447dd96e1e93ce55c15a6"
      }
     },
     "metadata": {},
     "output_type": "display_data"
    },
    {
     "name": "stdout",
     "output_type": "stream",
     "text": [
      "Epoch [40], Train Loss : [0.10566] Val Loss : [0.62094] Val F1 Score : [0.80472]\n",
      "EarlyStopping counter: 3 out of 10\n",
      "Best F1 score from now: 0.8185586234973067\n"
     ]
    },
    {
     "data": {
      "text/plain": "Train Loop:   0%|          | 0/296 [00:00<?, ?it/s]",
      "application/vnd.jupyter.widget-view+json": {
       "version_major": 2,
       "version_minor": 0,
       "model_id": "a9c8f453095c41ebac4a28c426ef9984"
      }
     },
     "metadata": {},
     "output_type": "display_data"
    },
    {
     "name": "stdout",
     "output_type": "stream",
     "text": [
      "Epoch [41], Train Loss : [0.13062] Val Loss : [0.60430] Val F1 Score : [0.81270]\n",
      "EarlyStopping counter: 4 out of 10\n",
      "Best F1 score from now: 0.8185586234973067\n"
     ]
    },
    {
     "data": {
      "text/plain": "Train Loop:   0%|          | 0/296 [00:00<?, ?it/s]",
      "application/vnd.jupyter.widget-view+json": {
       "version_major": 2,
       "version_minor": 0,
       "model_id": "a94d3f767e59497c91643ca8e22f6803"
      }
     },
     "metadata": {},
     "output_type": "display_data"
    },
    {
     "name": "stdout",
     "output_type": "stream",
     "text": [
      "Epoch [42], Train Loss : [0.13433] Val Loss : [0.60621] Val F1 Score : [0.81621]\n",
      "EarlyStopping counter: 5 out of 10\n",
      "Best F1 score from now: 0.8185586234973067\n"
     ]
    },
    {
     "data": {
      "text/plain": "Train Loop:   0%|          | 0/296 [00:00<?, ?it/s]",
      "application/vnd.jupyter.widget-view+json": {
       "version_major": 2,
       "version_minor": 0,
       "model_id": "7a3b00a668f34ebeb2ea26d152220d2a"
      }
     },
     "metadata": {},
     "output_type": "display_data"
    },
    {
     "name": "stdout",
     "output_type": "stream",
     "text": [
      "**Epoch [43], Train Loss : [0.11336] Val Loss : [0.60603] Val F1 Score : [0.82599]\n"
     ]
    },
    {
     "data": {
      "text/plain": "Train Loop:   0%|          | 0/296 [00:00<?, ?it/s]",
      "application/vnd.jupyter.widget-view+json": {
       "version_major": 2,
       "version_minor": 0,
       "model_id": "1dcae1f655424972852f1beef7ea30c2"
      }
     },
     "metadata": {},
     "output_type": "display_data"
    },
    {
     "name": "stdout",
     "output_type": "stream",
     "text": [
      "Epoch [44], Train Loss : [0.09484] Val Loss : [0.59791] Val F1 Score : [0.80895]\n",
      "EarlyStopping counter: 1 out of 10\n",
      "Best F1 score from now: 0.8259930120610772\n"
     ]
    },
    {
     "data": {
      "text/plain": "Train Loop:   0%|          | 0/296 [00:00<?, ?it/s]",
      "application/vnd.jupyter.widget-view+json": {
       "version_major": 2,
       "version_minor": 0,
       "model_id": "6bb2cb98e33f44e6b6a7e7d272cec4e9"
      }
     },
     "metadata": {},
     "output_type": "display_data"
    },
    {
     "name": "stdout",
     "output_type": "stream",
     "text": [
      "Epoch [45], Train Loss : [0.08744] Val Loss : [0.61552] Val F1 Score : [0.82262]\n",
      "EarlyStopping counter: 2 out of 10\n",
      "Best F1 score from now: 0.8259930120610772\n"
     ]
    },
    {
     "data": {
      "text/plain": "Train Loop:   0%|          | 0/296 [00:00<?, ?it/s]",
      "application/vnd.jupyter.widget-view+json": {
       "version_major": 2,
       "version_minor": 0,
       "model_id": "3a19d6f9ae1b4ce8ad971588425d3ea2"
      }
     },
     "metadata": {},
     "output_type": "display_data"
    },
    {
     "name": "stdout",
     "output_type": "stream",
     "text": [
      "Epoch [46], Train Loss : [0.10657] Val Loss : [0.64240] Val F1 Score : [0.79664]\n",
      "EarlyStopping counter: 3 out of 10\n",
      "Best F1 score from now: 0.8259930120610772\n"
     ]
    },
    {
     "data": {
      "text/plain": "Train Loop:   0%|          | 0/296 [00:00<?, ?it/s]",
      "application/vnd.jupyter.widget-view+json": {
       "version_major": 2,
       "version_minor": 0,
       "model_id": "a1c1d0cf849f4ff39d02cf488b33486e"
      }
     },
     "metadata": {},
     "output_type": "display_data"
    },
    {
     "name": "stdout",
     "output_type": "stream",
     "text": [
      "Epoch [47], Train Loss : [0.11048] Val Loss : [0.62193] Val F1 Score : [0.81630]\n",
      "EarlyStopping counter: 4 out of 10\n",
      "Best F1 score from now: 0.8259930120610772\n"
     ]
    },
    {
     "data": {
      "text/plain": "Train Loop:   0%|          | 0/296 [00:00<?, ?it/s]",
      "application/vnd.jupyter.widget-view+json": {
       "version_major": 2,
       "version_minor": 0,
       "model_id": "2e43f24b988744b58fa765a9ead7d9a2"
      }
     },
     "metadata": {},
     "output_type": "display_data"
    },
    {
     "name": "stdout",
     "output_type": "stream",
     "text": [
      "Epoch [48], Train Loss : [0.10405] Val Loss : [0.61287] Val F1 Score : [0.80714]\n",
      "EarlyStopping counter: 5 out of 10\n",
      "Best F1 score from now: 0.8259930120610772\n"
     ]
    },
    {
     "data": {
      "text/plain": "Train Loop:   0%|          | 0/296 [00:00<?, ?it/s]",
      "application/vnd.jupyter.widget-view+json": {
       "version_major": 2,
       "version_minor": 0,
       "model_id": "4a5925a34643430a8e80a2779b4a45c5"
      }
     },
     "metadata": {},
     "output_type": "display_data"
    },
    {
     "name": "stdout",
     "output_type": "stream",
     "text": [
      "**Epoch [49], Train Loss : [0.08882] Val Loss : [0.53619] Val F1 Score : [0.83324]\n"
     ]
    },
    {
     "data": {
      "text/plain": "Train Loop:   0%|          | 0/296 [00:00<?, ?it/s]",
      "application/vnd.jupyter.widget-view+json": {
       "version_major": 2,
       "version_minor": 0,
       "model_id": "36117503af5e4a0ba658a3a301cb4507"
      }
     },
     "metadata": {},
     "output_type": "display_data"
    },
    {
     "name": "stdout",
     "output_type": "stream",
     "text": [
      "Epoch [50], Train Loss : [0.09119] Val Loss : [0.58216] Val F1 Score : [0.81849]\n",
      "EarlyStopping counter: 1 out of 10\n",
      "Best F1 score from now: 0.8332389675285619\n"
     ]
    },
    {
     "data": {
      "text/plain": "Train Loop:   0%|          | 0/296 [00:00<?, ?it/s]",
      "application/vnd.jupyter.widget-view+json": {
       "version_major": 2,
       "version_minor": 0,
       "model_id": "a4578df01cb847959b006a86f1db60ec"
      }
     },
     "metadata": {},
     "output_type": "display_data"
    },
    {
     "name": "stdout",
     "output_type": "stream",
     "text": [
      "Epoch [51], Train Loss : [0.08462] Val Loss : [0.64340] Val F1 Score : [0.80514]\n",
      "EarlyStopping counter: 2 out of 10\n",
      "Best F1 score from now: 0.8332389675285619\n"
     ]
    },
    {
     "data": {
      "text/plain": "Train Loop:   0%|          | 0/296 [00:00<?, ?it/s]",
      "application/vnd.jupyter.widget-view+json": {
       "version_major": 2,
       "version_minor": 0,
       "model_id": "b29ca8f7d342427ab29bf19032f3279f"
      }
     },
     "metadata": {},
     "output_type": "display_data"
    },
    {
     "name": "stdout",
     "output_type": "stream",
     "text": [
      "Epoch [52], Train Loss : [0.08192] Val Loss : [0.61230] Val F1 Score : [0.80036]\n",
      "EarlyStopping counter: 3 out of 10\n",
      "Best F1 score from now: 0.8332389675285619\n"
     ]
    },
    {
     "data": {
      "text/plain": "Train Loop:   0%|          | 0/296 [00:00<?, ?it/s]",
      "application/vnd.jupyter.widget-view+json": {
       "version_major": 2,
       "version_minor": 0,
       "model_id": "01cafa1b7a734d4b9d85dbc6e35b3b3f"
      }
     },
     "metadata": {},
     "output_type": "display_data"
    },
    {
     "name": "stdout",
     "output_type": "stream",
     "text": [
      "Epoch [53], Train Loss : [0.07829] Val Loss : [0.58912] Val F1 Score : [0.82458]\n",
      "EarlyStopping counter: 4 out of 10\n",
      "Best F1 score from now: 0.8332389675285619\n"
     ]
    },
    {
     "data": {
      "text/plain": "Train Loop:   0%|          | 0/296 [00:00<?, ?it/s]",
      "application/vnd.jupyter.widget-view+json": {
       "version_major": 2,
       "version_minor": 0,
       "model_id": "8298d0d5707746d5a610edf904fdf948"
      }
     },
     "metadata": {},
     "output_type": "display_data"
    },
    {
     "name": "stdout",
     "output_type": "stream",
     "text": [
      "Epoch [54], Train Loss : [0.07731] Val Loss : [0.61107] Val F1 Score : [0.81220]\n",
      "EarlyStopping counter: 5 out of 10\n",
      "Best F1 score from now: 0.8332389675285619\n"
     ]
    },
    {
     "data": {
      "text/plain": "Train Loop:   0%|          | 0/296 [00:00<?, ?it/s]",
      "application/vnd.jupyter.widget-view+json": {
       "version_major": 2,
       "version_minor": 0,
       "model_id": "9d38572480df4dbe82439fb70c753755"
      }
     },
     "metadata": {},
     "output_type": "display_data"
    },
    {
     "name": "stdout",
     "output_type": "stream",
     "text": [
      "Epoch [55], Train Loss : [0.06633] Val Loss : [0.59446] Val F1 Score : [0.82409]\n",
      "EarlyStopping counter: 6 out of 10\n",
      "Best F1 score from now: 0.8332389675285619\n"
     ]
    },
    {
     "data": {
      "text/plain": "Train Loop:   0%|          | 0/296 [00:00<?, ?it/s]",
      "application/vnd.jupyter.widget-view+json": {
       "version_major": 2,
       "version_minor": 0,
       "model_id": "7c54ff2a6a4443b28f7a27ea3be61902"
      }
     },
     "metadata": {},
     "output_type": "display_data"
    },
    {
     "name": "stdout",
     "output_type": "stream",
     "text": [
      "Epoch [56], Train Loss : [0.07501] Val Loss : [0.60154] Val F1 Score : [0.82268]\n",
      "EarlyStopping counter: 7 out of 10\n",
      "Best F1 score from now: 0.8332389675285619\n"
     ]
    },
    {
     "data": {
      "text/plain": "Train Loop:   0%|          | 0/296 [00:00<?, ?it/s]",
      "application/vnd.jupyter.widget-view+json": {
       "version_major": 2,
       "version_minor": 0,
       "model_id": "971eddc4da864f62b3f50ec75a4936a8"
      }
     },
     "metadata": {},
     "output_type": "display_data"
    },
    {
     "name": "stdout",
     "output_type": "stream",
     "text": [
      "Epoch [57], Train Loss : [0.07570] Val Loss : [0.62118] Val F1 Score : [0.81091]\n",
      "EarlyStopping counter: 8 out of 10\n",
      "Best F1 score from now: 0.8332389675285619\n"
     ]
    },
    {
     "data": {
      "text/plain": "Train Loop:   0%|          | 0/296 [00:00<?, ?it/s]",
      "application/vnd.jupyter.widget-view+json": {
       "version_major": 2,
       "version_minor": 0,
       "model_id": "745ab8f6858c4246a5a8ccdd1faba0da"
      }
     },
     "metadata": {},
     "output_type": "display_data"
    },
    {
     "name": "stdout",
     "output_type": "stream",
     "text": [
      "Epoch [58], Train Loss : [0.06844] Val Loss : [0.61566] Val F1 Score : [0.82454]\n",
      "EarlyStopping counter: 9 out of 10\n",
      "Best F1 score from now: 0.8332389675285619\n"
     ]
    },
    {
     "data": {
      "text/plain": "Train Loop:   0%|          | 0/296 [00:00<?, ?it/s]",
      "application/vnd.jupyter.widget-view+json": {
       "version_major": 2,
       "version_minor": 0,
       "model_id": "2f77543ba0c84d9085110da012203a97"
      }
     },
     "metadata": {},
     "output_type": "display_data"
    },
    {
     "name": "stdout",
     "output_type": "stream",
     "text": [
      "Epoch [59], Train Loss : [0.05829] Val Loss : [0.62999] Val F1 Score : [0.81476]\n",
      "EarlyStopping counter: 10 out of 10\n",
      "Best F1 score from now: 0.8332389675285619\n",
      "Epoch [59], early stopping\n"
     ]
    }
   ],
   "source": [
    "model.eval()\n",
    "optimizer = torch.optim.AdamW(params = model.parameters(), lr = CFG['LEARNING_RATE'])\n",
    "# lr : 10epochs 동안 0.01->0\n",
    "lr_scheduler = CosineAnnealingWarmUpRestarts(optimizer, T_0=CFG['WARMUP']*len(train_loader), T_mult=1, eta_max=0.001, T_up=50, gamma=0.8)\n",
    "\n",
    "train_loss_list, val_loss_list, lr_list = train_epoch(model, optimizer, train_loader, val_loader, lr_scheduler, device)"
   ],
   "metadata": {
    "collapsed": false,
    "ExecuteTime": {
     "end_time": "2023-12-18T13:13:27.847632400Z",
     "start_time": "2023-12-18T10:50:46.550817Z"
    }
   },
   "id": "e59465d8032710f4"
  },
  {
   "cell_type": "code",
   "execution_count": 30,
   "outputs": [
    {
     "data": {
      "text/plain": "<Figure size 640x480 with 1 Axes>",
      "image/png": "[encoded data removed]"
     },
     "metadata": {},
     "output_type": "display_data"
    }
   ],
   "source": [
    "sns.lineplot(train_loss_list, label='train loss')\n",
    "sns.lineplot(val_loss_list, label='validation loss')\n",
    "plt.xlabel(\"epoch\")\n",
    "plt.ylabel('loss')\n",
    "plt.title('train/validation loss')\n",
    "plt.show()"
   ],
   "metadata": {
    "collapsed": false,
    "ExecuteTime": {
     "end_time": "2023-12-18T13:13:28.064436Z",
     "start_time": "2023-12-18T13:13:27.865278500Z"
    }
   },
   "id": "b46be9d6d827da9a"
  },
  {
   "cell_type": "code",
   "execution_count": 31,
   "outputs": [
    {
     "data": {
      "text/plain": "<Axes: >"
     },
     "execution_count": 31,
     "metadata": {},
     "output_type": "execute_result"
    },
    {
     "data": {
      "text/plain": "<Figure size 640x480 with 1 Axes>",
      "image/png": "[encoded data removed]"
     },
     "metadata": {},
     "output_type": "display_data"
    }
   ],
   "source": [
    "sns.lineplot(lr_list)"
   ],
   "metadata": {
    "collapsed": false,
    "ExecuteTime": {
     "end_time": "2023-12-18T13:13:28.234758900Z",
     "start_time": "2023-12-18T13:13:28.077027900Z"
    }
   },
   "id": "10b70a182b34ab37"
  },
  {
   "cell_type": "code",
   "execution_count": 32,
   "outputs": [
    {
     "data": {
      "text/plain": "           id               img_path\n0  TEST_00000  ./test/TEST_00000.jpg\n1  TEST_00001  ./test/TEST_00001.jpg\n2  TEST_00002  ./test/TEST_00002.jpg\n3  TEST_00003  ./test/TEST_00003.jpg\n4  TEST_00004  ./test/TEST_00004.jpg",
      "text/html": "<div>\n<style scoped>\n    .dataframe tbody tr th:only-of-type {\n        vertical-align: middle;\n    }\n\n    .dataframe tbody tr th {\n        vertical-align: top;\n    }\n\n    .dataframe thead th {\n        text-align: right;\n    }\n</style>\n<table border=\"1\" class=\"dataframe\">\n  <thead>\n    <tr style=\"text-align: right;\">\n      <th></th>\n      <th>id</th>\n      <th>img_path</th>\n    </tr>\n  </thead>\n  <tbody>\n    <tr>\n      <th>0</th>\n      <td>TEST_00000</td>\n      <td>./test/TEST_00000.jpg</td>\n    </tr>\n    <tr>\n      <th>1</th>\n      <td>TEST_00001</td>\n      <td>./test/TEST_00001.jpg</td>\n    </tr>\n    <tr>\n      <th>2</th>\n      <td>TEST_00002</td>\n      <td>./test/TEST_00002.jpg</td>\n    </tr>\n    <tr>\n      <th>3</th>\n      <td>TEST_00003</td>\n      <td>./test/TEST_00003.jpg</td>\n    </tr>\n    <tr>\n      <th>4</th>\n      <td>TEST_00004</td>\n      <td>./test/TEST_00004.jpg</td>\n    </tr>\n  </tbody>\n</table>\n</div>"
     },
     "execution_count": 32,
     "metadata": {},
     "output_type": "execute_result"
    }
   ],
   "source": [
    "test_df = pd.read_csv(os.path.join(data_path, './test.csv'))\n",
    "test_df.head()"
   ],
   "metadata": {
    "collapsed": false,
    "ExecuteTime": {
     "end_time": "2023-12-18T13:13:28.276194Z",
     "start_time": "2023-12-18T13:13:28.231759300Z"
    }
   },
   "id": "9c8fff1a450556ec"
  },
  {
   "cell_type": "code",
   "execution_count": 33,
   "outputs": [],
   "source": [
    "test_img_paths = get_data(test_df, infer=True)"
   ],
   "metadata": {
    "collapsed": false,
    "ExecuteTime": {
     "end_time": "2023-12-18T13:13:28.295261900Z",
     "start_time": "2023-12-18T13:13:28.263128100Z"
    }
   },
   "id": "6a50c39d21de27ed"
  },
  {
   "cell_type": "code",
   "execution_count": 34,
   "outputs": [],
   "source": [
    "test_dataset = CustomDataset(test_img_paths, None, test_transform)\n",
    "test_loader = DataLoader(test_dataset, batch_size=CFG['BATCH_SIZE'], shuffle=False, num_workers=0)"
   ],
   "metadata": {
    "collapsed": false,
    "ExecuteTime": {
     "end_time": "2023-12-18T13:13:28.326210200Z",
     "start_time": "2023-12-18T13:13:28.296257300Z"
    }
   },
   "id": "66859c2e35131aae"
  },
  {
   "cell_type": "code",
   "execution_count": 35,
   "outputs": [],
   "source": [
    "def inference(model, test_loader, device):\n",
    "    model.to(device)\n",
    "    model.eval()\n",
    "    \n",
    "    model_preds = []\n",
    "    \n",
    "    with torch.no_grad():\n",
    "        for img in test_loader:\n",
    "            img = img.float().to(device)\n",
    "            \n",
    "            model_pred = model(img)\n",
    "            model_preds += model_pred.argmax(1).detach().cpu().numpy().tolist()\n",
    "    \n",
    "    print('Done.')\n",
    "    return model_preds"
   ],
   "metadata": {
    "collapsed": false,
    "ExecuteTime": {
     "end_time": "2023-12-18T13:13:28.353999200Z",
     "start_time": "2023-12-18T13:13:28.312210800Z"
    }
   },
   "id": "60aba723872ee62e"
  },
  {
   "cell_type": "code",
   "execution_count": 36,
   "outputs": [
    {
     "name": "stdout",
     "output_type": "stream",
     "text": [
      "CHECKPOINT LOADED: ../../data/runs/0/best_model.pt\n"
     ]
    },
    {
     "data": {
      "text/plain": "VitModel(\n  (backbone): TinyVit(\n    (patch_embed): PatchEmbed(\n      (conv1): ConvNorm(\n        (conv): Conv2d(3, 48, kernel_size=(3, 3), stride=(2, 2), padding=(1, 1), bias=False)\n        (bn): BatchNorm2d(48, eps=1e-05, momentum=0.1, affine=True, track_running_stats=True)\n      )\n      (act): GELU(approximate='none')\n      (conv2): ConvNorm(\n        (conv): Conv2d(48, 96, kernel_size=(3, 3), stride=(2, 2), padding=(1, 1), bias=False)\n        (bn): BatchNorm2d(96, eps=1e-05, momentum=0.1, affine=True, track_running_stats=True)\n      )\n    )\n    (stages): Sequential(\n      (0): ConvLayer(\n        (blocks): Sequential(\n          (0): MBConv(\n            (conv1): ConvNorm(\n              (conv): Conv2d(96, 384, kernel_size=(1, 1), stride=(1, 1), bias=False)\n              (bn): BatchNorm2d(384, eps=1e-05, momentum=0.1, affine=True, track_running_stats=True)\n            )\n            (act1): GELU(approximate='none')\n            (conv2): ConvNorm(\n              (conv): Conv2d(384, 384, kernel_size=(3, 3), stride=(1, 1), padding=(1, 1), groups=384, bias=False)\n              (bn): BatchNorm2d(384, eps=1e-05, momentum=0.1, affine=True, track_running_stats=True)\n            )\n            (act2): GELU(approximate='none')\n            (conv3): ConvNorm(\n              (conv): Conv2d(384, 96, kernel_size=(1, 1), stride=(1, 1), bias=False)\n              (bn): BatchNorm2d(96, eps=1e-05, momentum=0.1, affine=True, track_running_stats=True)\n            )\n            (act3): GELU(approximate='none')\n            (drop_path): Identity()\n          )\n          (1): MBConv(\n            (conv1): ConvNorm(\n              (conv): Conv2d(96, 384, kernel_size=(1, 1), stride=(1, 1), bias=False)\n              (bn): BatchNorm2d(384, eps=1e-05, momentum=0.1, affine=True, track_running_stats=True)\n            )\n            (act1): GELU(approximate='none')\n            (conv2): ConvNorm(\n              (conv): Conv2d(384, 384, kernel_size=(3, 3), stride=(1, 1), padding=(1, 1), groups=384, bias=False)\n              (bn): BatchNorm2d(384, eps=1e-05, momentum=0.1, affine=True, track_running_stats=True)\n            )\n            (act2): GELU(approximate='none')\n            (conv3): ConvNorm(\n              (conv): Conv2d(384, 96, kernel_size=(1, 1), stride=(1, 1), bias=False)\n              (bn): BatchNorm2d(96, eps=1e-05, momentum=0.1, affine=True, track_running_stats=True)\n            )\n            (act3): GELU(approximate='none')\n            (drop_path): DropPath(drop_prob=0.009)\n          )\n        )\n      )\n      (1): TinyVitStage(\n        dim=192, depth=2\n        (downsample): PatchMerging(\n          (conv1): ConvNorm(\n            (conv): Conv2d(96, 192, kernel_size=(1, 1), stride=(1, 1), bias=False)\n            (bn): BatchNorm2d(192, eps=1e-05, momentum=0.1, affine=True, track_running_stats=True)\n          )\n          (act1): GELU(approximate='none')\n          (conv2): ConvNorm(\n            (conv): Conv2d(192, 192, kernel_size=(3, 3), stride=(2, 2), padding=(1, 1), groups=192, bias=False)\n            (bn): BatchNorm2d(192, eps=1e-05, momentum=0.1, affine=True, track_running_stats=True)\n          )\n          (act2): GELU(approximate='none')\n          (conv3): ConvNorm(\n            (conv): Conv2d(192, 192, kernel_size=(1, 1), stride=(1, 1), bias=False)\n            (bn): BatchNorm2d(192, eps=1e-05, momentum=0.1, affine=True, track_running_stats=True)\n          )\n        )\n        (blocks): Sequential(\n          (0): TinyVitBlock(\n            dim=192, num_heads=6, window_size=12, mlp_ratio=4.0\n            (attn): Attention(\n              (norm): LayerNorm((192,), eps=1e-05, elementwise_affine=True)\n              (qkv): Linear(in_features=192, out_features=576, bias=True)\n              (proj): Linear(in_features=192, out_features=192, bias=True)\n            )\n            (drop_path1): DropPath(drop_prob=0.018)\n            (mlp): NormMlp(\n              (norm): LayerNorm((192,), eps=1e-05, elementwise_affine=True)\n              (fc1): Linear(in_features=192, out_features=768, bias=True)\n              (act): GELU(approximate='none')\n              (drop1): Dropout(p=0.0, inplace=False)\n              (fc2): Linear(in_features=768, out_features=192, bias=True)\n              (drop2): Dropout(p=0.0, inplace=False)\n            )\n            (drop_path2): DropPath(drop_prob=0.018)\n            (local_conv): ConvNorm(\n              (conv): Conv2d(192, 192, kernel_size=(3, 3), stride=(1, 1), padding=(1, 1), groups=192, bias=False)\n              (bn): BatchNorm2d(192, eps=1e-05, momentum=0.1, affine=True, track_running_stats=True)\n            )\n          )\n          (1): TinyVitBlock(\n            dim=192, num_heads=6, window_size=12, mlp_ratio=4.0\n            (attn): Attention(\n              (norm): LayerNorm((192,), eps=1e-05, elementwise_affine=True)\n              (qkv): Linear(in_features=192, out_features=576, bias=True)\n              (proj): Linear(in_features=192, out_features=192, bias=True)\n            )\n            (drop_path1): DropPath(drop_prob=0.027)\n            (mlp): NormMlp(\n              (norm): LayerNorm((192,), eps=1e-05, elementwise_affine=True)\n              (fc1): Linear(in_features=192, out_features=768, bias=True)\n              (act): GELU(approximate='none')\n              (drop1): Dropout(p=0.0, inplace=False)\n              (fc2): Linear(in_features=768, out_features=192, bias=True)\n              (drop2): Dropout(p=0.0, inplace=False)\n            )\n            (drop_path2): DropPath(drop_prob=0.027)\n            (local_conv): ConvNorm(\n              (conv): Conv2d(192, 192, kernel_size=(3, 3), stride=(1, 1), padding=(1, 1), groups=192, bias=False)\n              (bn): BatchNorm2d(192, eps=1e-05, momentum=0.1, affine=True, track_running_stats=True)\n            )\n          )\n        )\n      )\n      (2): TinyVitStage(\n        dim=384, depth=6\n        (downsample): PatchMerging(\n          (conv1): ConvNorm(\n            (conv): Conv2d(192, 384, kernel_size=(1, 1), stride=(1, 1), bias=False)\n            (bn): BatchNorm2d(384, eps=1e-05, momentum=0.1, affine=True, track_running_stats=True)\n          )\n          (act1): GELU(approximate='none')\n          (conv2): ConvNorm(\n            (conv): Conv2d(384, 384, kernel_size=(3, 3), stride=(2, 2), padding=(1, 1), groups=384, bias=False)\n            (bn): BatchNorm2d(384, eps=1e-05, momentum=0.1, affine=True, track_running_stats=True)\n          )\n          (act2): GELU(approximate='none')\n          (conv3): ConvNorm(\n            (conv): Conv2d(384, 384, kernel_size=(1, 1), stride=(1, 1), bias=False)\n            (bn): BatchNorm2d(384, eps=1e-05, momentum=0.1, affine=True, track_running_stats=True)\n          )\n        )\n        (blocks): Sequential(\n          (0): TinyVitBlock(\n            dim=384, num_heads=12, window_size=24, mlp_ratio=4.0\n            (attn): Attention(\n              (norm): LayerNorm((384,), eps=1e-05, elementwise_affine=True)\n              (qkv): Linear(in_features=384, out_features=1152, bias=True)\n              (proj): Linear(in_features=384, out_features=384, bias=True)\n            )\n            (drop_path1): DropPath(drop_prob=0.036)\n            (mlp): NormMlp(\n              (norm): LayerNorm((384,), eps=1e-05, elementwise_affine=True)\n              (fc1): Linear(in_features=384, out_features=1536, bias=True)\n              (act): GELU(approximate='none')\n              (drop1): Dropout(p=0.0, inplace=False)\n              (fc2): Linear(in_features=1536, out_features=384, bias=True)\n              (drop2): Dropout(p=0.0, inplace=False)\n            )\n            (drop_path2): DropPath(drop_prob=0.036)\n            (local_conv): ConvNorm(\n              (conv): Conv2d(384, 384, kernel_size=(3, 3), stride=(1, 1), padding=(1, 1), groups=384, bias=False)\n              (bn): BatchNorm2d(384, eps=1e-05, momentum=0.1, affine=True, track_running_stats=True)\n            )\n          )\n          (1): TinyVitBlock(\n            dim=384, num_heads=12, window_size=24, mlp_ratio=4.0\n            (attn): Attention(\n              (norm): LayerNorm((384,), eps=1e-05, elementwise_affine=True)\n              (qkv): Linear(in_features=384, out_features=1152, bias=True)\n              (proj): Linear(in_features=384, out_features=384, bias=True)\n            )\n            (drop_path1): DropPath(drop_prob=0.045)\n            (mlp): NormMlp(\n              (norm): LayerNorm((384,), eps=1e-05, elementwise_affine=True)\n              (fc1): Linear(in_features=384, out_features=1536, bias=True)\n              (act): GELU(approximate='none')\n              (drop1): Dropout(p=0.0, inplace=False)\n              (fc2): Linear(in_features=1536, out_features=384, bias=True)\n              (drop2): Dropout(p=0.0, inplace=False)\n            )\n            (drop_path2): DropPath(drop_prob=0.045)\n            (local_conv): ConvNorm(\n              (conv): Conv2d(384, 384, kernel_size=(3, 3), stride=(1, 1), padding=(1, 1), groups=384, bias=False)\n              (bn): BatchNorm2d(384, eps=1e-05, momentum=0.1, affine=True, track_running_stats=True)\n            )\n          )\n          (2): TinyVitBlock(\n            dim=384, num_heads=12, window_size=24, mlp_ratio=4.0\n            (attn): Attention(\n              (norm): LayerNorm((384,), eps=1e-05, elementwise_affine=True)\n              (qkv): Linear(in_features=384, out_features=1152, bias=True)\n              (proj): Linear(in_features=384, out_features=384, bias=True)\n            )\n            (drop_path1): DropPath(drop_prob=0.055)\n            (mlp): NormMlp(\n              (norm): LayerNorm((384,), eps=1e-05, elementwise_affine=True)\n              (fc1): Linear(in_features=384, out_features=1536, bias=True)\n              (act): GELU(approximate='none')\n              (drop1): Dropout(p=0.0, inplace=False)\n              (fc2): Linear(in_features=1536, out_features=384, bias=True)\n              (drop2): Dropout(p=0.0, inplace=False)\n            )\n            (drop_path2): DropPath(drop_prob=0.055)\n            (local_conv): ConvNorm(\n              (conv): Conv2d(384, 384, kernel_size=(3, 3), stride=(1, 1), padding=(1, 1), groups=384, bias=False)\n              (bn): BatchNorm2d(384, eps=1e-05, momentum=0.1, affine=True, track_running_stats=True)\n            )\n          )\n          (3): TinyVitBlock(\n            dim=384, num_heads=12, window_size=24, mlp_ratio=4.0\n            (attn): Attention(\n              (norm): LayerNorm((384,), eps=1e-05, elementwise_affine=True)\n              (qkv): Linear(in_features=384, out_features=1152, bias=True)\n              (proj): Linear(in_features=384, out_features=384, bias=True)\n            )\n            (drop_path1): DropPath(drop_prob=0.064)\n            (mlp): NormMlp(\n              (norm): LayerNorm((384,), eps=1e-05, elementwise_affine=True)\n              (fc1): Linear(in_features=384, out_features=1536, bias=True)\n              (act): GELU(approximate='none')\n              (drop1): Dropout(p=0.0, inplace=False)\n              (fc2): Linear(in_features=1536, out_features=384, bias=True)\n              (drop2): Dropout(p=0.0, inplace=False)\n            )\n            (drop_path2): DropPath(drop_prob=0.064)\n            (local_conv): ConvNorm(\n              (conv): Conv2d(384, 384, kernel_size=(3, 3), stride=(1, 1), padding=(1, 1), groups=384, bias=False)\n              (bn): BatchNorm2d(384, eps=1e-05, momentum=0.1, affine=True, track_running_stats=True)\n            )\n          )\n          (4): TinyVitBlock(\n            dim=384, num_heads=12, window_size=24, mlp_ratio=4.0\n            (attn): Attention(\n              (norm): LayerNorm((384,), eps=1e-05, elementwise_affine=True)\n              (qkv): Linear(in_features=384, out_features=1152, bias=True)\n              (proj): Linear(in_features=384, out_features=384, bias=True)\n            )\n            (drop_path1): DropPath(drop_prob=0.073)\n            (mlp): NormMlp(\n              (norm): LayerNorm((384,), eps=1e-05, elementwise_affine=True)\n              (fc1): Linear(in_features=384, out_features=1536, bias=True)\n              (act): GELU(approximate='none')\n              (drop1): Dropout(p=0.0, inplace=False)\n              (fc2): Linear(in_features=1536, out_features=384, bias=True)\n              (drop2): Dropout(p=0.0, inplace=False)\n            )\n            (drop_path2): DropPath(drop_prob=0.073)\n            (local_conv): ConvNorm(\n              (conv): Conv2d(384, 384, kernel_size=(3, 3), stride=(1, 1), padding=(1, 1), groups=384, bias=False)\n              (bn): BatchNorm2d(384, eps=1e-05, momentum=0.1, affine=True, track_running_stats=True)\n            )\n          )\n          (5): TinyVitBlock(\n            dim=384, num_heads=12, window_size=24, mlp_ratio=4.0\n            (attn): Attention(\n              (norm): LayerNorm((384,), eps=1e-05, elementwise_affine=True)\n              (qkv): Linear(in_features=384, out_features=1152, bias=True)\n              (proj): Linear(in_features=384, out_features=384, bias=True)\n            )\n            (drop_path1): DropPath(drop_prob=0.082)\n            (mlp): NormMlp(\n              (norm): LayerNorm((384,), eps=1e-05, elementwise_affine=True)\n              (fc1): Linear(in_features=384, out_features=1536, bias=True)\n              (act): GELU(approximate='none')\n              (drop1): Dropout(p=0.0, inplace=False)\n              (fc2): Linear(in_features=1536, out_features=384, bias=True)\n              (drop2): Dropout(p=0.0, inplace=False)\n            )\n            (drop_path2): DropPath(drop_prob=0.082)\n            (local_conv): ConvNorm(\n              (conv): Conv2d(384, 384, kernel_size=(3, 3), stride=(1, 1), padding=(1, 1), groups=384, bias=False)\n              (bn): BatchNorm2d(384, eps=1e-05, momentum=0.1, affine=True, track_running_stats=True)\n            )\n          )\n        )\n      )\n      (3): TinyVitStage(\n        dim=576, depth=2\n        (downsample): PatchMerging(\n          (conv1): ConvNorm(\n            (conv): Conv2d(384, 576, kernel_size=(1, 1), stride=(1, 1), bias=False)\n            (bn): BatchNorm2d(576, eps=1e-05, momentum=0.1, affine=True, track_running_stats=True)\n          )\n          (act1): GELU(approximate='none')\n          (conv2): ConvNorm(\n            (conv): Conv2d(576, 576, kernel_size=(3, 3), stride=(2, 2), padding=(1, 1), groups=576, bias=False)\n            (bn): BatchNorm2d(576, eps=1e-05, momentum=0.1, affine=True, track_running_stats=True)\n          )\n          (act2): GELU(approximate='none')\n          (conv3): ConvNorm(\n            (conv): Conv2d(576, 576, kernel_size=(1, 1), stride=(1, 1), bias=False)\n            (bn): BatchNorm2d(576, eps=1e-05, momentum=0.1, affine=True, track_running_stats=True)\n          )\n        )\n        (blocks): Sequential(\n          (0): TinyVitBlock(\n            dim=576, num_heads=18, window_size=12, mlp_ratio=4.0\n            (attn): Attention(\n              (norm): LayerNorm((576,), eps=1e-05, elementwise_affine=True)\n              (qkv): Linear(in_features=576, out_features=1728, bias=True)\n              (proj): Linear(in_features=576, out_features=576, bias=True)\n            )\n            (drop_path1): DropPath(drop_prob=0.091)\n            (mlp): NormMlp(\n              (norm): LayerNorm((576,), eps=1e-05, elementwise_affine=True)\n              (fc1): Linear(in_features=576, out_features=2304, bias=True)\n              (act): GELU(approximate='none')\n              (drop1): Dropout(p=0.0, inplace=False)\n              (fc2): Linear(in_features=2304, out_features=576, bias=True)\n              (drop2): Dropout(p=0.0, inplace=False)\n            )\n            (drop_path2): DropPath(drop_prob=0.091)\n            (local_conv): ConvNorm(\n              (conv): Conv2d(576, 576, kernel_size=(3, 3), stride=(1, 1), padding=(1, 1), groups=576, bias=False)\n              (bn): BatchNorm2d(576, eps=1e-05, momentum=0.1, affine=True, track_running_stats=True)\n            )\n          )\n          (1): TinyVitBlock(\n            dim=576, num_heads=18, window_size=12, mlp_ratio=4.0\n            (attn): Attention(\n              (norm): LayerNorm((576,), eps=1e-05, elementwise_affine=True)\n              (qkv): Linear(in_features=576, out_features=1728, bias=True)\n              (proj): Linear(in_features=576, out_features=576, bias=True)\n            )\n            (drop_path1): DropPath(drop_prob=0.100)\n            (mlp): NormMlp(\n              (norm): LayerNorm((576,), eps=1e-05, elementwise_affine=True)\n              (fc1): Linear(in_features=576, out_features=2304, bias=True)\n              (act): GELU(approximate='none')\n              (drop1): Dropout(p=0.0, inplace=False)\n              (fc2): Linear(in_features=2304, out_features=576, bias=True)\n              (drop2): Dropout(p=0.0, inplace=False)\n            )\n            (drop_path2): DropPath(drop_prob=0.100)\n            (local_conv): ConvNorm(\n              (conv): Conv2d(576, 576, kernel_size=(3, 3), stride=(1, 1), padding=(1, 1), groups=576, bias=False)\n              (bn): BatchNorm2d(576, eps=1e-05, momentum=0.1, affine=True, track_running_stats=True)\n            )\n          )\n        )\n      )\n    )\n    (head): NormMlpClassifierHead(\n      (global_pool): SelectAdaptivePool2d(pool_type=avg, flatten=Identity())\n      (norm): LayerNorm2d((576,), eps=1e-05, elementwise_affine=True)\n      (flatten): Flatten(start_dim=1, end_dim=-1)\n      (pre_logits): Identity()\n      (drop): Dropout(p=0.0, inplace=False)\n      (fc): Identity()\n    )\n  )\n  (classifier): Sequential(\n    (0): LayerNorm((576,), eps=1e-05, elementwise_affine=True)\n    (1): GELU(approximate='none')\n    (2): Dropout(p=0.4, inplace=False)\n    (3): Linear(in_features=576, out_features=50, bias=True)\n  )\n)"
     },
     "execution_count": 36,
     "metadata": {},
     "output_type": "execute_result"
    }
   ],
   "source": [
    "checkpoint = os.path.join(data_path, f'runs/{run_id}/best_model.pt')\n",
    "print(f'CHECKPOINT LOADED: {checkpoint}')\n",
    "infer_model = torch.load(checkpoint)\n",
    "infer_model.to(device)\n",
    "infer_model.eval()"
   ],
   "metadata": {
    "collapsed": false,
    "ExecuteTime": {
     "end_time": "2023-12-18T13:13:28.464823500Z",
     "start_time": "2023-12-18T13:13:28.328210400Z"
    }
   },
   "id": "605d913e0df9b6"
  },
  {
   "cell_type": "code",
   "execution_count": 37,
   "outputs": [
    {
     "name": "stdout",
     "output_type": "stream",
     "text": [
      "Done.\n"
     ]
    }
   ],
   "source": [
    "preds = inference(infer_model, test_loader, device)"
   ],
   "metadata": {
    "collapsed": false,
    "ExecuteTime": {
     "end_time": "2023-12-18T13:15:12.406549700Z",
     "start_time": "2023-12-18T13:13:28.467824600Z"
    }
   },
   "id": "9df29cbb4653101f"
  },
  {
   "cell_type": "code",
   "execution_count": 38,
   "outputs": [],
   "source": [
    "preds = le.inverse_transform(preds)"
   ],
   "metadata": {
    "collapsed": false,
    "ExecuteTime": {
     "end_time": "2023-12-18T13:15:12.440818400Z",
     "start_time": "2023-12-18T13:15:12.285780Z"
    }
   },
   "id": "37b7f04a0b4de44f"
  },
  {
   "cell_type": "code",
   "execution_count": 39,
   "outputs": [],
   "source": [
    "submit = pd.read_csv(os.path.join(data_path, './sample_submission.csv'))"
   ],
   "metadata": {
    "collapsed": false,
    "ExecuteTime": {
     "end_time": "2023-12-18T13:15:12.440818400Z",
     "start_time": "2023-12-18T13:15:12.301780Z"
    }
   },
   "id": "fe59292099a9b96e"
  },
  {
   "cell_type": "code",
   "execution_count": 40,
   "outputs": [],
   "source": [
    "submit['artist'] = preds"
   ],
   "metadata": {
    "collapsed": false,
    "ExecuteTime": {
     "end_time": "2023-12-18T13:15:12.442864500Z",
     "start_time": "2023-12-18T13:15:12.317072200Z"
    }
   },
   "id": "8582475a6cb3db6f"
  },
  {
   "cell_type": "code",
   "execution_count": 41,
   "outputs": [
    {
     "data": {
      "text/plain": "           id             artist\n0  TEST_00000        Edgar Degas\n1  TEST_00001  Amedeo Modigliani\n2  TEST_00002         Caravaggio\n3  TEST_00003    Albrecht Du rer\n4  TEST_00004      Pablo Picasso",
      "text/html": "<div>\n<style scoped>\n    .dataframe tbody tr th:only-of-type {\n        vertical-align: middle;\n    }\n\n    .dataframe tbody tr th {\n        vertical-align: top;\n    }\n\n    .dataframe thead th {\n        text-align: right;\n    }\n</style>\n<table border=\"1\" class=\"dataframe\">\n  <thead>\n    <tr style=\"text-align: right;\">\n      <th></th>\n      <th>id</th>\n      <th>artist</th>\n    </tr>\n  </thead>\n  <tbody>\n    <tr>\n      <th>0</th>\n      <td>TEST_00000</td>\n      <td>Edgar Degas</td>\n    </tr>\n    <tr>\n      <th>1</th>\n      <td>TEST_00001</td>\n      <td>Amedeo Modigliani</td>\n    </tr>\n    <tr>\n      <th>2</th>\n      <td>TEST_00002</td>\n      <td>Caravaggio</td>\n    </tr>\n    <tr>\n      <th>3</th>\n      <td>TEST_00003</td>\n      <td>Albrecht Du rer</td>\n    </tr>\n    <tr>\n      <th>4</th>\n      <td>TEST_00004</td>\n      <td>Pablo Picasso</td>\n    </tr>\n  </tbody>\n</table>\n</div>"
     },
     "execution_count": 41,
     "metadata": {},
     "output_type": "execute_result"
    }
   ],
   "source": [
    "submit.head()"
   ],
   "metadata": {
    "collapsed": false,
    "ExecuteTime": {
     "end_time": "2023-12-18T13:15:12.443871700Z",
     "start_time": "2023-12-18T13:15:12.334526800Z"
    }
   },
   "id": "15bd98c5d6b59bf4"
  },
  {
   "cell_type": "code",
   "execution_count": 42,
   "outputs": [],
   "source": [
    "submit.to_csv(os.path.join(data_path, f\"./submit_{CFG['FILENAME']}.csv\"), index=False)"
   ],
   "metadata": {
    "collapsed": false,
    "ExecuteTime": {
     "end_time": "2023-12-18T13:15:12.443871700Z",
     "start_time": "2023-12-18T13:15:12.349735900Z"
    }
   },
   "id": "eed3cb0dc59f47f7"
  },
  {
   "cell_type": "code",
   "execution_count": 42,
   "outputs": [],
   "source": [],
   "metadata": {
    "collapsed": false,
    "ExecuteTime": {
     "end_time": "2023-12-18T13:15:12.443871700Z",
     "start_time": "2023-12-18T13:15:12.381635400Z"
    }
   },
   "id": "d3ed2b836c4e558b"
  }
 ],
 "metadata": {
  "kernelspec": {
   "display_name": "Python 3",
   "language": "python",
   "name": "python3"
  },
  "language_info": {
   "codemirror_mode": {
    "name": "ipython",
    "version": 2
   },
   "file_extension": ".py",
   "mimetype": "text/x-python",
   "name": "python",
   "nbconvert_exporter": "python",
   "pygments_lexer": "ipython2",
   "version": "2.7.6"
  }
 },
 "nbformat": 4,
 "nbformat_minor": 5
}
