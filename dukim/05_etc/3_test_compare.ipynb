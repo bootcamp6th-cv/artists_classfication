{
 "cells": [
  {
   "cell_type": "code",
   "execution_count": 44,
   "id": "initial_id",
   "metadata": {
    "collapsed": true,
    "ExecuteTime": {
     "end_time": "2023-12-28T22:14:42.722980100Z",
     "start_time": "2023-12-28T22:14:42.665608400Z"
    }
   },
   "outputs": [],
   "source": [
    "import os\n",
    "\n",
    "import pandas as pd\n",
    "import numpy as np\n",
    "import matplotlib.pyplot as plt\n",
    "import seaborn as sns"
   ]
  },
  {
   "cell_type": "code",
   "execution_count": 45,
   "outputs": [],
   "source": [
    "data_path = '../../data/'"
   ],
   "metadata": {
    "collapsed": false,
    "ExecuteTime": {
     "end_time": "2023-12-28T22:14:42.729561600Z",
     "start_time": "2023-12-28T22:14:42.691728100Z"
    }
   },
   "id": "7d3800aa11579c31"
  },
  {
   "cell_type": "code",
   "execution_count": 46,
   "outputs": [],
   "source": [
    "train_df = pd.read_csv(os.path.join(data_path, 'train.csv'))\n",
    "train_df.loc[3896, 'artist'] = 'Titian'\n",
    "train_df.loc[3986, 'artist'] = 'Alfred Sisley'"
   ],
   "metadata": {
    "collapsed": false,
    "ExecuteTime": {
     "end_time": "2023-12-28T22:14:42.739069900Z",
     "start_time": "2023-12-28T22:14:42.707353600Z"
    }
   },
   "id": "7ec5b2774afeac47"
  },
  {
   "cell_type": "code",
   "execution_count": 47,
   "outputs": [],
   "source": [
    "vit_tta10_df = pd.read_csv(os.path.join(data_path, 'submit_vit_tta_10.csv'))\n",
    "vit_tta7_df = pd.read_csv(os.path.join(data_path, 'submit_vit_tta_7.csv'))\n",
    "kfold_efficient_df = pd.read_csv(os.path.join(data_path, 'submit_kfold_efficientnet.csv'))\n",
    "kfold_caformer_df = pd.read_csv(os.path.join(data_path, 'submit_kfold_caformer.csv'))\n",
    "# most_common_df = pd.read_csv(os.path.join(data_path, 'submit_most_common.csv'))\n",
    "soft_df = pd.read_csv(os.path.join(data_path, 'submit_soft.csv'))\n",
    "tta5_df = pd.read_csv(os.path.join(data_path, 'submit_tta5.csv'))\n",
    "tta7_df = pd.read_csv(os.path.join(data_path, 'submit_tta7.csv'))\n",
    "tta5_softmax_df = pd.read_csv(os.path.join(data_path, 'submit_tta5_softmax.csv'))\n",
    "# tta10_df = pd.read_csv(os.path.join(data_path, 'submit_tta10.csv.csv'))\n",
    "# tta5_df = pd.read_csv(os.path.join(data_path, 'submit_tta_5.csv'))\n",
    "hard_df = pd.read_csv(os.path.join(data_path, 'submit_hard.csv'))\n",
    "# hard2_df = pd.read_csv(os.path.join(data_path, 'submit_hard2.csv'))\n",
    "# hard3_df = pd.read_csv(os.path.join(data_path, 'submit_hard3.csv'))\n",
    "# hard4_df = pd.read_csv(os.path.join(data_path, 'submit_hard4.csv'))\n",
    "# hard5_df = pd.read_csv(os.path.join(data_path, 'submit_hard5.csv'))\n",
    "# ensemble_df = pd.read_csv(os.path.join(data_path, 'ensemble(efficientnet+tinyvit).csv'))\n"
   ],
   "metadata": {
    "collapsed": false,
    "ExecuteTime": {
     "end_time": "2023-12-28T22:14:42.871455700Z",
     "start_time": "2023-12-28T22:14:42.739069900Z"
    }
   },
   "id": "f7d26d77aa8aa975"
  },
  {
   "cell_type": "code",
   "execution_count": 48,
   "outputs": [],
   "source": [
    "# 작품수 차이\n",
    "def diff_df(df1, df2, message):\n",
    "    diff_df = df1['artist'] != df2['artist']\n",
    "    concated_data = pd.concat([df1.loc[diff_df, ['artist']],df2.loc[diff_df, ['artist']]], axis=0)\n",
    "    artist_name = concated_data['artist'].mode()[0]\n",
    "    print(f'[{message}] {len(diff_df)}개 작품 중 {diff_df.sum()}개 작품의 작가가 다릅니다.({artist_name})')    "
   ],
   "metadata": {
    "collapsed": false,
    "ExecuteTime": {
     "end_time": "2023-12-28T22:14:42.887094500Z",
     "start_time": "2023-12-28T22:14:42.871455700Z"
    }
   },
   "id": "3e65ec89c567d8c0"
  },
  {
   "cell_type": "code",
   "execution_count": 49,
   "outputs": [
    {
     "name": "stdout",
     "output_type": "stream",
     "text": [
      "[tta5 vs vit_tta10] 12670개 작품 중 822개 작품의 작가가 다릅니다.(Vincent van Gogh)\n",
      "[tta5 vs vit_tta7] 12670개 작품 중 835개 작품의 작가가 다릅니다.(Pablo Picasso)\n",
      "[tta5 vs kfold_efficient] 12670개 작품 중 990개 작품의 작가가 다릅니다.(Vincent van Gogh)\n",
      "[tta5 vs kfold_caformer] 12670개 작품 중 855개 작품의 작가가 다릅니다.(Vincent van Gogh)\n",
      "[tta5 vs tta7] 12670개 작품 중 120개 작품의 작가가 다릅니다.(Alfred Sisley)\n"
     ]
    }
   ],
   "source": [
    "diff_df(tta5_df, vit_tta10_df, 'tta5 vs vit_tta10')\n",
    "diff_df(tta5_df, vit_tta7_df, 'tta5 vs vit_tta7')\n",
    "diff_df(tta5_df, kfold_efficient_df, 'tta5 vs kfold_efficient')\n",
    "diff_df(tta5_df, kfold_caformer_df, 'tta5 vs kfold_caformer')\n",
    "diff_df(tta5_df, tta7_df, 'tta5 vs tta7')"
   ],
   "metadata": {
    "collapsed": false,
    "ExecuteTime": {
     "end_time": "2023-12-28T22:14:42.934063800Z",
     "start_time": "2023-12-28T22:14:42.887094500Z"
    }
   },
   "id": "c7900533e41faf0b"
  },
  {
   "cell_type": "code",
   "execution_count": 42,
   "outputs": [
    {
     "name": "stdout",
     "output_type": "stream",
     "text": [
      "[tta5_softmax vs vit_tta10] 12670개 작품 중 807개 작품의 작가가 다릅니다.(Pablo Picasso)\n",
      "[tta5_softmax vs vit_tta7] 12670개 작품 중 808개 작품의 작가가 다릅니다.(Pablo Picasso)\n",
      "[tta5_softmax vs kfold_efficient] 12670개 작품 중 1078개 작품의 작가가 다릅니다.(Vincent van Gogh)\n",
      "[tta5_softmax vs kfold_caformer] 12670개 작품 중 850개 작품의 작가가 다릅니다.(Vincent van Gogh)\n"
     ]
    }
   ],
   "source": [
    "diff_df(tta5_softmax_df, vit_tta10_df, 'tta5_softmax vs vit_tta10')\n",
    "diff_df(tta5_softmax_df, vit_tta7_df, 'tta5_softmax vs vit_tta7')\n",
    "diff_df(tta5_softmax_df, kfold_efficient_df, 'tta5_softmax vs kfold_efficient')\n",
    "diff_df(tta5_softmax_df, kfold_caformer_df, 'tta5_softmax vs kfold_caformer')"
   ],
   "metadata": {
    "collapsed": false,
    "ExecuteTime": {
     "end_time": "2023-12-28T15:18:40.596251700Z",
     "start_time": "2023-12-28T15:18:40.530954500Z"
    }
   },
   "id": "4de7e9825766215"
  },
  {
   "cell_type": "code",
   "execution_count": 43,
   "outputs": [
    {
     "name": "stdout",
     "output_type": "stream",
     "text": [
      "[tta5 vs soft] 12670개 작품 중 274개 작품의 작가가 다릅니다.(Pablo Picasso)\n",
      "[tta5_softmax vs soft] 12670개 작품 중 331개 작품의 작가가 다릅니다.(Pablo Picasso)\n",
      "[tta5 vs tta5_softmax] 12670개 작품 중 197개 작품의 작가가 다릅니다.(Pablo Picasso)\n",
      "[hard vs tta5] 12670개 작품 중 142개 작품의 작가가 다릅니다.(Pablo Picasso)\n",
      "[hard vs tta5_softmax] 12670개 작품 중 203개 작품의 작가가 다릅니다.(Pablo Picasso)\n",
      "[hard vs soft] 12670개 작품 중 133개 작품의 작가가 다릅니다.(Edgar Degas)\n"
     ]
    }
   ],
   "source": [
    "diff_df(tta5_df, soft_df, 'tta5 vs soft')\n",
    "diff_df(tta5_softmax_df, soft_df, 'tta5_softmax vs soft')\n",
    "diff_df(tta5_df, tta5_softmax_df, 'tta5 vs tta5_softmax')\n",
    "diff_df(hard_df, tta5_df, 'hard vs tta5')\n",
    "diff_df(hard_df, tta5_softmax_df, 'hard vs tta5_softmax')\n",
    "diff_df(hard_df, soft_df, 'hard vs soft')"
   ],
   "metadata": {
    "collapsed": false,
    "ExecuteTime": {
     "end_time": "2023-12-28T15:18:40.627494600Z",
     "start_time": "2023-12-28T15:18:40.564893400Z"
    }
   },
   "id": "1e0a748901d48d01"
  },
  {
   "cell_type": "code",
   "execution_count": null,
   "outputs": [],
   "source": [
    "# 작가 작품수 비교\n",
    "def figure_piture_count(data1, data2):\n",
    "    df1_ = (\n",
    "        data1[0]\n",
    "        .groupby('artist')\n",
    "        .agg('count')\n",
    "        .rename(columns={'id':'count'})\n",
    "        .reset_index()\n",
    "        .sort_values(by='count', ascending=False)\n",
    "    )\n",
    "    df2_ = (\n",
    "        data2[0]\n",
    "        .groupby('artist')\n",
    "        .agg('count')\n",
    "        .rename(columns={'id':'count'})\n",
    "        .reset_index()\n",
    "        .sort_values(by='count', ascending=False)\n",
    "    )\n",
    "    plt.figure(figsize=(20,4))\n",
    "    plt.subplot(1, 2, 1)\n",
    "    plt.xticks(rotation=90)\n",
    "    sns.barplot(x=df1_['artist'], y=df1_['count'])\n",
    "    plt.title(data1[1])\n",
    "    \n",
    "    plt.subplot(1, 2, 2)\n",
    "    plt.xticks(rotation=90)\n",
    "    sns.barplot(x=df2_['artist'], y=df2_['count'])\n",
    "    plt.title(data2[1])"
   ],
   "metadata": {
    "collapsed": false,
    "ExecuteTime": {
     "end_time": "2023-12-22T23:37:57.122604100Z",
     "start_time": "2023-12-22T23:37:57.119576900Z"
    }
   },
   "id": "b9da7aec70100b91"
  },
  {
   "cell_type": "code",
   "execution_count": null,
   "outputs": [],
   "source": [
    "figure_piture_count((kfold_df, 'kfold'), (vit_tta10_df, 'tta10'))"
   ],
   "metadata": {
    "collapsed": false,
    "ExecuteTime": {
     "start_time": "2023-12-22T23:37:57.120472900Z"
    }
   },
   "id": "644293eea5445942"
  },
  {
   "cell_type": "code",
   "execution_count": null,
   "outputs": [],
   "source": [
    "figure_piture_count((vit_tta10_df, 'tta10'), (vit_tta7_df, 'tta7'))"
   ],
   "metadata": {
    "collapsed": false,
    "ExecuteTime": {
     "start_time": "2023-12-22T23:37:57.122604100Z"
    }
   },
   "id": "cf9e04a25c7cf2d8"
  },
  {
   "cell_type": "code",
   "execution_count": null,
   "outputs": [],
   "source": [
    "figure_piture_count((kfold_df,'kfold'), (ensemble_df, 'ensemble'))"
   ],
   "metadata": {
    "collapsed": false,
    "ExecuteTime": {
     "end_time": "2023-12-22T23:37:57.141543700Z",
     "start_time": "2023-12-22T23:37:57.125904300Z"
    }
   },
   "id": "19dfa59e1aa5868d"
  },
  {
   "cell_type": "code",
   "execution_count": null,
   "outputs": [],
   "source": [
    "figure_piture_count((vit_tta10_df, 'tta10'), (hard_df, 'hard'))"
   ],
   "metadata": {
    "collapsed": false,
    "ExecuteTime": {
     "start_time": "2023-12-22T23:37:57.125904300Z"
    }
   },
   "id": "be4bfbe8fb2e5b78"
  },
  {
   "cell_type": "code",
   "execution_count": null,
   "outputs": [],
   "source": [],
   "metadata": {
    "collapsed": false,
    "ExecuteTime": {
     "start_time": "2023-12-22T23:37:57.125904300Z"
    }
   },
   "id": "f0a437854d9568d2"
  }
 ],
 "metadata": {
  "kernelspec": {
   "display_name": "Python 3",
   "language": "python",
   "name": "python3"
  },
  "language_info": {
   "codemirror_mode": {
    "name": "ipython",
    "version": 2
   },
   "file_extension": ".py",
   "mimetype": "text/x-python",
   "name": "python",
   "nbconvert_exporter": "python",
   "pygments_lexer": "ipython2",
   "version": "2.7.6"
  }
 },
 "nbformat": 4,
 "nbformat_minor": 5
}
