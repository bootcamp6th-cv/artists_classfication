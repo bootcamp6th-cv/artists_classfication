{
 "cells": [
  {
   "cell_type": "markdown",
   "source": [
    "# Style Transfer\n",
    "* https://www.kaggle.com/code/ohseokkim/transfering-style"
   ],
   "metadata": {
    "collapsed": false,
    "id": "35ad6a7e30f8925e"
   },
   "id": "35ad6a7e30f8925e"
  },
  {
   "cell_type": "code",
   "execution_count": 1,
   "outputs": [],
   "source": [
    "import os\n",
    "import gc\n",
    "import random\n",
    "from datetime import datetime\n",
    "import requests\n",
    "from io import BytesIO\n",
    "\n",
    "from PIL import Image\n",
    "\n",
    "import pandas as pd\n",
    "import numpy as np\n",
    "import cv2\n",
    "import matplotlib.pyplot as plt\n",
    "\n",
    "from sklearn import preprocessing\n",
    "from sklearn.model_selection import train_test_split\n",
    "\n",
    "import torch\n",
    "import torch.nn as nn\n",
    "import torch.optim as optim\n",
    "import torch.nn.functional as F\n",
    "from torch.utils.data import Dataset, DataLoader\n",
    "from torchvision import transforms, models\n",
    "\n",
    "from tqdm.auto import tqdm\n",
    "\n",
    "import albumentations as A\n",
    "from albumentations.pytorch.transforms import ToTensorV2\n",
    "\n",
    "from sklearn.metrics import f1_score\n",
    "\n",
    "import warnings\n",
    "warnings.filterwarnings(action='ignore')"
   ],
   "metadata": {
    "id": "initial_id",
    "ExecuteTime": {
     "end_time": "2023-12-18T18:23:29.852955Z",
     "start_time": "2023-12-18T18:23:27.150884700Z"
    }
   },
   "id": "initial_id"
  },
  {
   "cell_type": "code",
   "execution_count": 2,
   "outputs": [],
   "source": [
    "device = torch.device('cuda') if torch.cuda.is_available() else torch.device('cpu')"
   ],
   "metadata": {
    "id": "5fc1ff58a4a9d6d1",
    "ExecuteTime": {
     "end_time": "2023-12-18T18:23:29.885258400Z",
     "start_time": "2023-12-18T18:23:29.868982800Z"
    }
   },
   "id": "5fc1ff58a4a9d6d1"
  },
  {
   "cell_type": "code",
   "execution_count": 3,
   "outputs": [],
   "source": [
    "def seed_everything(seed):\n",
    "    random.seed(seed)\n",
    "    os.environ['PYTHONHASHSEED'] = str(seed)\n",
    "    np.random.seed(seed)\n",
    "    torch.manual_seed(seed)\n",
    "    torch.cuda.manual_seed(seed)\n",
    "    torch.cuda.manual_seed_all(seed)\n",
    "    torch.backends.cudnn.deterministic = True\n",
    "    torch.backends.cudnn.benchmark = False\n",
    "\n",
    "seed_everything(6) # Seed 고정"
   ],
   "metadata": {
    "id": "57142b16a76126df",
    "ExecuteTime": {
     "end_time": "2023-12-18T18:23:29.900294900Z",
     "start_time": "2023-12-18T18:23:29.887260200Z"
    }
   },
   "id": "57142b16a76126df"
  },
  {
   "cell_type": "code",
   "execution_count": 4,
   "outputs": [],
   "source": [
    "running_colab = 'google.colab' in str(get_ipython()) if hasattr(__builtins__,'__IPYTHON__') else False\n",
    "if running_colab:\n",
    "    from google.colab import drive\n",
    "    drive.mount('/content/drive')\n",
    "if running_colab:\n",
    "    data_path = '/content/drive/MyDrive/Colab Notebooks/ai6th/data/artists/'\n",
    "\n",
    "else:\n",
    "    data_path = '../../data/'"
   ],
   "metadata": {
    "colab": {
     "base_uri": "https://localhost:8080/"
    },
    "id": "858b421c8c479378",
    "outputId": "477fba20-e5f3-4325-a22f-2ea0500f7d8d",
    "ExecuteTime": {
     "end_time": "2023-12-18T18:23:29.918441100Z",
     "start_time": "2023-12-18T18:23:29.903295800Z"
    }
   },
   "id": "858b421c8c479378"
  },
  {
   "cell_type": "code",
   "execution_count": 5,
   "outputs": [],
   "source": [
    "if not os.path.exists(os.path.join(data_path, 'train_gen.csv')):\n",
    "    df = pd.read_csv(os.path.join(data_path, 'train.csv'), index_col='id')\n",
    "    df.loc[3896, 'artist'] = 'Titian'\n",
    "    df.loc[3986, 'artist'] = 'Alfred Sisley'\n",
    "    df.to_csv(os.path.join(data_path, 'train_gen.csv'))"
   ],
   "metadata": {
    "colab": {
     "base_uri": "https://localhost:8080/",
     "height": 206
    },
    "id": "60ed6dfb973bafc5",
    "outputId": "4878684c-a8b9-41ba-ce91-edb585ef8552",
    "ExecuteTime": {
     "end_time": "2023-12-18T18:23:29.931437900Z",
     "start_time": "2023-12-18T18:23:29.918441100Z"
    }
   },
   "id": "60ed6dfb973bafc5"
  },
  {
   "cell_type": "code",
   "source": [
    "def get_artist_base(df_, user_count, gen_file_count,reverse=False):\n",
    "    count_df = df_.groupby('artist')[['img_path']].agg('count').rename(columns={'img_path': 'count'}).sort_values(by='count')[:user_count].reset_index()\n",
    "    for count in range(gen_file_count):\n",
    "        if reverse:\n",
    "            count_df[f'img_path_{count}']=count_df['artist'].apply(lambda name: df_.loc[df['artist']==name, 'img_path'].values[count])\n",
    "        else:\n",
    "            count_df[f'img_path_{count}']=count_df['artist'].apply(lambda name: df_.loc[df['artist']==name, 'img_path'].values[-count-1])\n",
    "    return count_df"
   ],
   "metadata": {
    "colab": {
     "base_uri": "https://localhost:8080/",
     "height": 332
    },
    "id": "gm8VqeEnwdcT",
    "outputId": "bfe86fec-42d1-459c-975a-fc510fd10b52",
    "ExecuteTime": {
     "end_time": "2023-12-18T18:23:29.950253300Z",
     "start_time": "2023-12-18T18:23:29.933438Z"
    }
   },
   "id": "gm8VqeEnwdcT",
   "execution_count": 6,
   "outputs": []
  },
  {
   "cell_type": "code",
   "execution_count": 7,
   "outputs": [],
   "source": [
    "def get_data(df, idx):\n",
    "    return df[f'img_path_{idx}'].apply(lambda p: os.path.join(data_path, p)).values, df['artist'].values"
   ],
   "metadata": {
    "id": "db002acff51c03bd",
    "ExecuteTime": {
     "end_time": "2023-12-18T18:23:29.964254600Z",
     "start_time": "2023-12-18T18:23:29.950253300Z"
    }
   },
   "id": "db002acff51c03bd"
  },
  {
   "cell_type": "code",
   "source": [
    "def load_image(img_path, image_size=520):\n",
    "    image = Image.open(img_path).convert('RGB')\n",
    "    in_transform = transforms.Compose(\n",
    "        [\n",
    "            transforms.Resize(image_size),\n",
    "            transforms.CenterCrop(image_size),\n",
    "            transforms.ToTensor(),\n",
    "            transforms.Normalize(mean=(0.485, 0.456, 0.406),std=(0.229, 0.224, 0.225))\n",
    "        ]\n",
    "    )\n",
    "\n",
    "    # discard the transparent, alpha channel (that's the :3) and add the batch dimension\n",
    "    image = in_transform(image)[:3,:,:].unsqueeze(0)\n",
    "\n",
    "    return image"
   ],
   "metadata": {
    "id": "B2Mkl0kurY0X",
    "ExecuteTime": {
     "end_time": "2023-12-18T18:23:29.984255400Z",
     "start_time": "2023-12-18T18:23:29.967253800Z"
    }
   },
   "id": "B2Mkl0kurY0X",
   "execution_count": 8,
   "outputs": []
  },
  {
   "cell_type": "code",
   "source": [
    "def im_convert(tensor):\n",
    "    \"\"\" Display a tensor as an image. \"\"\"\n",
    "    image = tensor.detach().to(\"cpu\").clone()\n",
    "    image = image.numpy().squeeze()\n",
    "    image = image.transpose(1,2,0)\n",
    "    image = image * np.array((0.229, 0.224, 0.225)) + np.array((0.485, 0.456, 0.406))\n",
    "    image = image.clip(0, 1)\n",
    "\n",
    "    return image"
   ],
   "metadata": {
    "id": "XhD-pK08rY7R",
    "ExecuteTime": {
     "end_time": "2023-12-18T18:23:29.993252900Z",
     "start_time": "2023-12-18T18:23:29.984255400Z"
    }
   },
   "id": "XhD-pK08rY7R",
   "execution_count": 9,
   "outputs": []
  },
  {
   "cell_type": "code",
   "source": [
    "def get_features(image, model):\n",
    "    \"\"\" Run an image forward through a model and get the features for\n",
    "        a set of layers. Default layers are for VGGNet matching Gatys et al (2016)\n",
    "    \"\"\"\n",
    "    layers = {\n",
    "        '0': 'conv1_1',\n",
    "        '5': 'conv2_1',\n",
    "        '10': 'conv3_1',\n",
    "        '19': 'conv4_1',\n",
    "        '21': 'conv4_2',\n",
    "        '28': 'conv5_1'\n",
    "    }\n",
    "\n",
    "    features = {}\n",
    "    x = image\n",
    "    # model._modules is a dictionary holding each module in the model\n",
    "    for name, layer in model._modules.items():\n",
    "        x = layer(x)\n",
    "        if name in layers:\n",
    "            features[layers[name]] = x\n",
    "\n",
    "    return features"
   ],
   "metadata": {
    "id": "MKeABDqQrZEf",
    "ExecuteTime": {
     "end_time": "2023-12-18T18:23:30.010777200Z",
     "start_time": "2023-12-18T18:23:29.995254700Z"
    }
   },
   "id": "MKeABDqQrZEf",
   "execution_count": 10,
   "outputs": []
  },
  {
   "cell_type": "code",
   "source": [
    "def gram_matrix(tensor):\n",
    "    \"\"\" Calculate the Gram Matrix of a given tensor\n",
    "    \"\"\"\n",
    "\n",
    "    # get the batch_size, depth, height, and width of the Tensor\n",
    "    _, d, h, w = tensor.size()\n",
    "\n",
    "    # reshape so we're multiplying the features for each channel\n",
    "    tensor = tensor.view(d, h * w)\n",
    "\n",
    "    # calculate the gram matrix\n",
    "    gram = torch.mm(tensor, tensor.t())\n",
    "\n",
    "    return gram"
   ],
   "metadata": {
    "id": "GQhZrGbYrZIE",
    "ExecuteTime": {
     "end_time": "2023-12-18T18:23:30.024175100Z",
     "start_time": "2023-12-18T18:23:30.010777200Z"
    }
   },
   "id": "GQhZrGbYrZIE",
   "execution_count": 11,
   "outputs": []
  },
  {
   "cell_type": "code",
   "source": [
    "def clear_mem():\n",
    "    gc.collect()\n",
    "    torch.cuda.empty_cache()"
   ],
   "metadata": {
    "id": "UJroVYw3ylQS",
    "ExecuteTime": {
     "end_time": "2023-12-18T18:23:30.042862300Z",
     "start_time": "2023-12-18T18:23:30.028176Z"
    }
   },
   "id": "UJroVYw3ylQS",
   "execution_count": 12,
   "outputs": []
  },
  {
   "cell_type": "code",
   "source": [
    "style_weights = {\n",
    "    'conv1_1': 1,\n",
    "    'conv2_1': 0.75,\n",
    "    'conv3_1': 0.2,\n",
    "    'conv4_1': 0.2,\n",
    "    'conv5_1': 0.2\n",
    "}\n",
    "\n",
    "content_weight = 1  # alpha\n",
    "style_weight = 1e3  # beta"
   ],
   "metadata": {
    "id": "F1mCw3ZZrZSg",
    "ExecuteTime": {
     "end_time": "2023-12-18T18:23:30.056857200Z",
     "start_time": "2023-12-18T18:23:30.041852500Z"
    }
   },
   "id": "F1mCw3ZZrZSg",
   "execution_count": 13,
   "outputs": []
  },
  {
   "cell_type": "code",
   "source": [
    "# iteration hyperparameters\n",
    "def train(vgg, optimizer, target, style_grams, content_features):\n",
    "    steps = 10000\n",
    "    loss_threshold = 300\n",
    "\n",
    "    for ii in range(1, steps+1):\n",
    "\n",
    "        # get the features from your target image\n",
    "        target_features = get_features(target, vgg)\n",
    "\n",
    "        # the content loss\n",
    "        content_loss = torch.mean((target_features['conv4_2'] - content_features['conv4_2'])**2)\n",
    "\n",
    "        # the style loss\n",
    "        # initialize the style loss to 0\n",
    "        style_loss = 0\n",
    "        # then add to it for each layer's gram matrix loss\n",
    "        for layer in style_weights:\n",
    "            # get the \"target\" style representation for the layer\n",
    "            target_feature = target_features[layer]\n",
    "            target_gram = gram_matrix(target_feature)\n",
    "            _, d, h, w = target_feature.shape\n",
    "            # get the \"style\" style representation\n",
    "            style_gram = style_grams[layer]\n",
    "            # the style loss for one layer, weighted appropriately\n",
    "            layer_style_loss = style_weights[layer] * torch.mean((target_gram - style_gram)**2)\n",
    "            # add to the style loss\n",
    "            style_loss += layer_style_loss / (d * h * w)\n",
    "\n",
    "        # calculate the *total* loss\n",
    "        total_loss = content_weight * content_loss + style_weight * style_loss\n",
    "\n",
    "        # update your target image\n",
    "        optimizer.zero_grad()\n",
    "        total_loss.backward()\n",
    "        optimizer.step()\n",
    "\n",
    "        if  ii % 2000 == 0:\n",
    "            print(f'{ii}, Total loss : {total_loss.item()}')\n",
    "        if total_loss.item() < loss_threshold:\n",
    "            print(f'{ii}, early stopping, Total loss : {total_loss.item()}')\n",
    "            break"
   ],
   "metadata": {
    "id": "dBnntbuYrZWg",
    "ExecuteTime": {
     "end_time": "2023-12-18T18:23:30.074854600Z",
     "start_time": "2023-12-18T18:23:30.061853Z"
    }
   },
   "id": "dBnntbuYrZWg",
   "execution_count": 14,
   "outputs": []
  },
  {
   "cell_type": "code",
   "execution_count": 15,
   "outputs": [],
   "source": [
    "base_path = os.path.join(data_path, 'base_images')\n",
    "gen_path = os.path.join(data_path, 'gen_images')\n",
    "os.makedirs(gen_path, exist_ok=True)"
   ],
   "metadata": {
    "id": "d3ed2b836c4e558b",
    "colab": {
     "base_uri": "https://localhost:8080/"
    },
    "outputId": "cba0b3ff-6db6-4688-84a9-2c5b691ef926",
    "ExecuteTime": {
     "end_time": "2023-12-18T18:23:30.091854300Z",
     "start_time": "2023-12-18T18:23:30.075853700Z"
    }
   },
   "id": "10d1bd5c9207157d"
  },
  {
   "cell_type": "code",
   "execution_count": 16,
   "outputs": [],
   "source": [
    "def generate_image(df_, gen_file_count, count_df, start_base_idx=0):\n",
    "    df_ = df_.copy()\n",
    "    for file_idx in range(gen_file_count):\n",
    "        img_paths, labels = get_data(count_df, file_idx)\n",
    "        for artist_idx in range(len(img_paths)):\n",
    "            vgg = models.vgg19(pretrained=True).features\n",
    "            for param in vgg.parameters():\n",
    "                param.requires_grad_(False)\n",
    "            vgg.to(device)\n",
    "    \n",
    "            content = load_image(os.path.join(base_path, f'base_{start_base_idx+file_idx}.jpg')).to(device)\n",
    "            style = load_image(img_paths[artist_idx]).to(device)\n",
    "            artist = labels[artist_idx]\n",
    "    \n",
    "            content_features = get_features(content, vgg)\n",
    "            style_features = get_features(style, vgg)\n",
    "    \n",
    "            style_grams = {layer: gram_matrix(style_features[layer]) for layer in style_features}\n",
    "            target = content.clone().requires_grad_(True).to(device)\n",
    "            optimizer = optim.Adam([target], lr=0.003)\n",
    "    \n",
    "            train(vgg, optimizer, target, style_grams, content_features)\n",
    "    \n",
    "            image = im_convert(target)\n",
    "            img_test = Image.fromarray(np.uint8(image*255)) # NumPy array to PIL image\n",
    "            output_file_name = f'./gen_images/base_{start_base_idx+file_idx}_{artist_idx}_gen.jpg'\n",
    "            img_test.save(os.path.join(data_path, output_file_name),'JPEG')\n",
    "            df_ = pd.concat([df_, pd.DataFrame({'artist':[artist], 'img_path':[output_file_name]})], ignore_index=True)\n",
    "            clear_mem()\n",
    "    df_.to_csv(os.path.join(data_path, 'train_gen.csv'), index_label='id')"
   ],
   "metadata": {
    "collapsed": false,
    "ExecuteTime": {
     "end_time": "2023-12-18T18:23:30.130855100Z",
     "start_time": "2023-12-18T18:23:30.101853900Z"
    }
   },
   "id": "d3ed2b836c4e558b"
  },
  {
   "cell_type": "code",
   "source": [
    "user_count = 11\n",
    "gen_count = 5\n",
    "df = pd.read_csv(os.path.join(data_path, 'train_gen.csv'), index_col='id')\n",
    "base_df = get_artist_base(df, user_count, gen_count)\n",
    "generate_image(df, gen_count, base_df)"
   ],
   "metadata": {
    "id": "714SPdr08SkP",
    "ExecuteTime": {
     "end_time": "2023-12-18T22:32:22.254904100Z",
     "start_time": "2023-12-18T18:23:30.125927400Z"
    }
   },
   "id": "714SPdr08SkP",
   "execution_count": 17,
   "outputs": [
    {
     "name": "stdout",
     "output_type": "stream",
     "text": [
      "2000, Total loss : 4059.814208984375\n",
      "4000, Total loss : 630.328369140625\n",
      "5055, early stopping, Total loss : 299.8684387207031\n",
      "2000, Total loss : 6848.2470703125\n",
      "4000, Total loss : 3477.07568359375\n",
      "5868, early stopping, Total loss : 299.942626953125\n",
      "2000, Total loss : 1775.8865966796875\n",
      "3426, early stopping, Total loss : 299.9168701171875\n",
      "2000, Total loss : 11778.0673828125\n",
      "4000, Total loss : 2065.3974609375\n",
      "5231, early stopping, Total loss : 299.5995788574219\n",
      "2000, Total loss : 1847.9959716796875\n",
      "4000, Total loss : 877.720703125\n",
      "5798, early stopping, Total loss : 299.8532409667969\n",
      "2000, Total loss : 1577.840576171875\n",
      "4000, Total loss : 807.8175659179688\n",
      "5712, early stopping, Total loss : 299.85968017578125\n",
      "2000, Total loss : 6698.2392578125\n",
      "4000, Total loss : 1314.00927734375\n",
      "4658, early stopping, Total loss : 299.6548156738281\n",
      "2000, Total loss : 7042.5244140625\n",
      "4000, Total loss : 3032.26806640625\n",
      "6000, Total loss : 1345.3369140625\n",
      "8000, Total loss : 365.87652587890625\n",
      "8277, early stopping, Total loss : 299.8597412109375\n",
      "520, early stopping, Total loss : 299.6363220214844\n",
      "2000, Total loss : 15935.1962890625\n",
      "4000, Total loss : 5193.078125\n",
      "6000, Total loss : 1920.5750732421875\n",
      "8000, Total loss : 696.9224853515625\n",
      "9589, early stopping, Total loss : 299.9312438964844\n",
      "2000, Total loss : 1720.97314453125\n",
      "4000, Total loss : 846.239013671875\n",
      "6000, Total loss : 412.6026611328125\n",
      "6558, early stopping, Total loss : 299.9885559082031\n",
      "2000, Total loss : 24356.8984375\n",
      "4000, Total loss : 5994.92724609375\n",
      "6000, Total loss : 1631.5152587890625\n",
      "8000, Total loss : 431.191650390625\n",
      "8603, early stopping, Total loss : 299.8482666015625\n",
      "2000, Total loss : 7592.1826171875\n",
      "4000, Total loss : 489.1436462402344\n",
      "4428, early stopping, Total loss : 299.9662170410156\n",
      "2000, Total loss : 948.4407348632812\n",
      "3298, early stopping, Total loss : 299.9659118652344\n",
      "2000, Total loss : 7821.8681640625\n",
      "4000, Total loss : 507.5235900878906\n",
      "4369, early stopping, Total loss : 299.8272399902344\n",
      "2000, Total loss : 3284.201904296875\n",
      "4000, Total loss : 922.625732421875\n",
      "5310, early stopping, Total loss : 299.77801513671875\n",
      "2000, Total loss : 1101.8468017578125\n",
      "4000, Total loss : 348.52215576171875\n",
      "4382, early stopping, Total loss : 299.9651184082031\n",
      "2000, Total loss : 2357.330078125\n",
      "4000, Total loss : 469.6376037597656\n",
      "4419, early stopping, Total loss : 299.7256774902344\n",
      "2000, Total loss : 9420.96484375\n",
      "4000, Total loss : 3115.37109375\n",
      "6000, Total loss : 549.1453857421875\n",
      "6838, early stopping, Total loss : 299.90576171875\n",
      "2000, Total loss : 483.96453857421875\n",
      "2289, early stopping, Total loss : 299.96337890625\n",
      "2000, Total loss : 10049.5908203125\n",
      "4000, Total loss : 2194.125\n",
      "6000, Total loss : 797.7081909179688\n",
      "7641, early stopping, Total loss : 299.9329833984375\n",
      "2000, Total loss : 2875.881103515625\n",
      "4000, Total loss : 674.014404296875\n",
      "4651, early stopping, Total loss : 299.8146057128906\n",
      "2000, Total loss : 56978.63671875\n",
      "4000, Total loss : 13532.63671875\n",
      "6000, Total loss : 4034.68359375\n",
      "8000, Total loss : 1084.068359375\n",
      "9910, early stopping, Total loss : 299.9053039550781\n",
      "2000, Total loss : 35855.80859375\n",
      "4000, Total loss : 20427.21484375\n",
      "6000, Total loss : 11416.265625\n",
      "8000, Total loss : 1626.53857421875\n",
      "8864, early stopping, Total loss : 299.56781005859375\n",
      "2000, Total loss : 11716.8359375\n",
      "4000, Total loss : 2320.920654296875\n",
      "6000, Total loss : 978.7648315429688\n",
      "7524, early stopping, Total loss : 299.94171142578125\n",
      "2000, Total loss : 11634.0712890625\n",
      "4000, Total loss : 5727.38232421875\n",
      "6000, Total loss : 2875.69580078125\n",
      "8000, Total loss : 1248.540283203125\n",
      "8949, early stopping, Total loss : 299.8006896972656\n",
      "2000, Total loss : 12426.1103515625\n",
      "4000, Total loss : 5446.25\n",
      "6000, Total loss : 1900.314453125\n",
      "8000, Total loss : 523.1184692382812\n",
      "8367, early stopping, Total loss : 299.75640869140625\n",
      "2000, Total loss : 4118.35986328125\n",
      "4000, Total loss : 737.6963500976562\n",
      "6000, Total loss : 369.75872802734375\n",
      "6633, early stopping, Total loss : 299.96563720703125\n",
      "2000, Total loss : 16289.685546875\n",
      "4000, Total loss : 7661.6474609375\n",
      "6000, Total loss : 3325.51953125\n",
      "8000, Total loss : 1211.05419921875\n",
      "8782, early stopping, Total loss : 299.9229431152344\n",
      "2000, Total loss : 10916.1572265625\n",
      "4000, Total loss : 2340.8447265625\n",
      "6000, Total loss : 1074.081787109375\n",
      "8000, Total loss : 412.0165100097656\n",
      "8601, early stopping, Total loss : 299.8611755371094\n",
      "2000, Total loss : 9282.560546875\n",
      "4000, Total loss : 2355.56494140625\n",
      "6000, Total loss : 1240.488037109375\n",
      "8000, Total loss : 512.757080078125\n",
      "8554, early stopping, Total loss : 299.6830139160156\n",
      "2000, Total loss : 36703.859375\n",
      "4000, Total loss : 13691.3759765625\n",
      "6000, Total loss : 6352.96923828125\n",
      "8000, Total loss : 927.2262573242188\n",
      "8699, early stopping, Total loss : 299.9591064453125\n",
      "2000, Total loss : 4871.71875\n",
      "4000, Total loss : 1458.389892578125\n",
      "6000, Total loss : 809.0003051757812\n",
      "8000, Total loss : 348.2605285644531\n",
      "8241, early stopping, Total loss : 299.902099609375\n",
      "2000, Total loss : 24168.423828125\n",
      "4000, Total loss : 4785.79248046875\n",
      "6000, Total loss : 1387.0726318359375\n",
      "8000, Total loss : 483.96148681640625\n",
      "9199, early stopping, Total loss : 299.9420166015625\n",
      "2000, Total loss : 6594.09619140625\n",
      "4000, Total loss : 2295.25634765625\n",
      "6000, Total loss : 809.7154541015625\n",
      "7482, early stopping, Total loss : 299.938720703125\n",
      "2000, Total loss : 1991.314453125\n",
      "4000, Total loss : 369.1104736328125\n",
      "4290, early stopping, Total loss : 299.9754943847656\n",
      "2000, Total loss : 14594.5615234375\n",
      "4000, Total loss : 4946.36279296875\n",
      "6000, Total loss : 1750.411865234375\n",
      "8000, Total loss : 365.643798828125\n",
      "8281, early stopping, Total loss : 299.91546630859375\n",
      "2000, Total loss : 4959.93798828125\n",
      "4000, Total loss : 682.4354248046875\n",
      "4755, early stopping, Total loss : 299.9750671386719\n",
      "2000, Total loss : 1663.3082275390625\n",
      "4000, Total loss : 397.0661926269531\n",
      "4544, early stopping, Total loss : 299.87530517578125\n",
      "2000, Total loss : 5115.7333984375\n",
      "4000, Total loss : 1618.8568115234375\n",
      "6000, Total loss : 729.9393920898438\n",
      "7702, early stopping, Total loss : 299.9921875\n",
      "2000, Total loss : 2887.427734375\n",
      "4000, Total loss : 372.2255554199219\n",
      "4242, early stopping, Total loss : 299.78070068359375\n",
      "2000, Total loss : 821.1926879882812\n",
      "3042, early stopping, Total loss : 299.865234375\n",
      "2000, Total loss : 3770.397705078125\n",
      "4000, Total loss : 970.7880249023438\n",
      "6000, Total loss : 335.3072204589844\n",
      "6235, early stopping, Total loss : 299.937255859375\n",
      "2000, Total loss : 6240.57421875\n",
      "4000, Total loss : 2094.0263671875\n",
      "6000, Total loss : 934.4267578125\n",
      "8000, Total loss : 348.37646484375\n",
      "8217, early stopping, Total loss : 299.83734130859375\n",
      "2000, Total loss : 14294.9990234375\n",
      "4000, Total loss : 3186.69580078125\n",
      "6000, Total loss : 638.6002197265625\n",
      "7002, early stopping, Total loss : 299.9777526855469\n",
      "2000, Total loss : 1210.189208984375\n",
      "3918, early stopping, Total loss : 299.9873962402344\n",
      "2000, Total loss : 765.8729248046875\n",
      "2883, early stopping, Total loss : 299.98577880859375\n",
      "2000, Total loss : 7361.30712890625\n",
      "4000, Total loss : 3524.53369140625\n",
      "6000, Total loss : 1045.1346435546875\n",
      "7457, early stopping, Total loss : 299.8074951171875\n",
      "2000, Total loss : 2055.477783203125\n",
      "4000, Total loss : 526.5950317382812\n",
      "5381, early stopping, Total loss : 299.92340087890625\n",
      "2000, Total loss : 471.4050598144531\n",
      "2506, early stopping, Total loss : 299.7926330566406\n",
      "2000, Total loss : 6979.86474609375\n",
      "4000, Total loss : 2516.38037109375\n",
      "6000, Total loss : 984.9536743164062\n",
      "7855, early stopping, Total loss : 299.8365173339844\n",
      "2000, Total loss : 3809.694580078125\n",
      "4000, Total loss : 1225.6461181640625\n",
      "6000, Total loss : 570.1485595703125\n",
      "7646, early stopping, Total loss : 299.90716552734375\n",
      "1159, early stopping, Total loss : 299.5624694824219\n",
      "2000, Total loss : 5462.052734375\n",
      "4000, Total loss : 847.6741333007812\n",
      "5829, early stopping, Total loss : 299.9442138671875\n",
      "2000, Total loss : 1123.47998046875\n",
      "3286, early stopping, Total loss : 299.9972839355469\n"
     ]
    }
   ]
  },
  {
   "cell_type": "code",
   "source": [
    "user_count = 6\n",
    "gen_count = 5\n",
    "df = pd.read_csv(os.path.join(data_path, 'train_gen.csv'), index_col='id')\n",
    "base_df = get_artist_base(df, user_count, gen_count, reverse=True)\n",
    "generate_image(df, gen_count, base_df,start_base_idx=5)"
   ],
   "metadata": {
    "id": "ZgHnS-UkCo1f",
    "ExecuteTime": {
     "end_time": "2023-12-19T00:48:50.275437Z",
     "start_time": "2023-12-18T22:59:50.988708100Z"
    }
   },
   "id": "ZgHnS-UkCo1f",
   "execution_count": 20,
   "outputs": [
    {
     "name": "stdout",
     "output_type": "stream",
     "text": [
      "2000, Total loss : 8034.77099609375\n",
      "4000, Total loss : 1729.24267578125\n",
      "6000, Total loss : 508.617919921875\n",
      "7011, early stopping, Total loss : 299.87109375\n",
      "2000, Total loss : 8519.498046875\n",
      "4000, Total loss : 2289.568603515625\n",
      "6000, Total loss : 699.0438842773438\n",
      "7435, early stopping, Total loss : 299.9486083984375\n",
      "2000, Total loss : 1204.4188232421875\n",
      "3647, early stopping, Total loss : 299.84698486328125\n",
      "2000, Total loss : 6000.48681640625\n",
      "4000, Total loss : 1866.5767822265625\n",
      "6000, Total loss : 795.3182983398438\n",
      "7840, early stopping, Total loss : 299.9988098144531\n",
      "2000, Total loss : 880.1299438476562\n",
      "3887, early stopping, Total loss : 299.9652099609375\n",
      "2000, Total loss : 455.875732421875\n",
      "2744, early stopping, Total loss : 299.85467529296875\n",
      "2000, Total loss : 5010.11328125\n",
      "4000, Total loss : 1122.9619140625\n",
      "6000, Total loss : 396.2369384765625\n",
      "6696, early stopping, Total loss : 299.945068359375\n",
      "2000, Total loss : 4669.13623046875\n",
      "4000, Total loss : 1946.615966796875\n",
      "6000, Total loss : 959.1464233398438\n",
      "7672, early stopping, Total loss : 299.7448425292969\n",
      "2000, Total loss : 815.4080200195312\n",
      "2881, early stopping, Total loss : 299.7922058105469\n",
      "2000, Total loss : 19474.181640625\n",
      "4000, Total loss : 8915.4462890625\n",
      "6000, Total loss : 4017.834228515625\n",
      "8000, Total loss : 374.48748779296875\n",
      "8180, early stopping, Total loss : 299.67388916015625\n",
      "2000, Total loss : 861.656982421875\n",
      "3307, early stopping, Total loss : 299.8763122558594\n",
      "2000, Total loss : 1330.423095703125\n",
      "3665, early stopping, Total loss : 299.9588623046875\n",
      "2000, Total loss : 1924.2685546875\n",
      "4000, Total loss : 474.2073669433594\n",
      "4987, early stopping, Total loss : 299.91473388671875\n",
      "2000, Total loss : 950.2704467773438\n",
      "3927, early stopping, Total loss : 299.8986511230469\n",
      "2000, Total loss : 806.8496704101562\n",
      "3617, early stopping, Total loss : 299.99365234375\n",
      "2000, Total loss : 1053.11474609375\n",
      "4000, Total loss : 302.8243103027344\n",
      "4017, early stopping, Total loss : 299.962890625\n",
      "2000, Total loss : 437.1917419433594\n",
      "2722, early stopping, Total loss : 299.8749084472656\n",
      "2000, Total loss : 1580.4163818359375\n",
      "4000, Total loss : 442.34735107421875\n",
      "4800, early stopping, Total loss : 299.9914855957031\n",
      "2000, Total loss : 15420.0234375\n",
      "4000, Total loss : 2640.5517578125\n",
      "6000, Total loss : 802.52783203125\n",
      "8000, Total loss : 306.14422607421875\n",
      "8043, early stopping, Total loss : 299.8861389160156\n",
      "1794, early stopping, Total loss : 299.9445495605469\n",
      "2000, Total loss : 3724.013916015625\n",
      "4000, Total loss : 1247.327880859375\n",
      "6000, Total loss : 358.9510498046875\n",
      "6261, early stopping, Total loss : 299.8936767578125\n",
      "1546, early stopping, Total loss : 299.7531433105469\n",
      "2000, Total loss : 1252.6453857421875\n",
      "4000, Total loss : 356.2496032714844\n",
      "4251, early stopping, Total loss : 299.821533203125\n",
      "2000, Total loss : 655.314453125\n",
      "3471, early stopping, Total loss : 299.8315124511719\n",
      "2000, Total loss : 6015.81298828125\n",
      "4000, Total loss : 2791.368408203125\n",
      "6000, Total loss : 1489.9854736328125\n",
      "8000, Total loss : 610.4365234375\n",
      "9371, early stopping, Total loss : 299.9739990234375\n",
      "2000, Total loss : 685.0570068359375\n",
      "4000, Total loss : 309.82781982421875\n",
      "4068, early stopping, Total loss : 299.8844909667969\n",
      "2000, Total loss : 611.7215576171875\n",
      "3373, early stopping, Total loss : 299.9577941894531\n",
      "2000, Total loss : 1487.429931640625\n",
      "4000, Total loss : 638.7927856445312\n",
      "5126, early stopping, Total loss : 299.8481140136719\n",
      "2000, Total loss : 5858.90869140625\n",
      "4000, Total loss : 1672.3131103515625\n",
      "5935, early stopping, Total loss : 299.8809814453125\n",
      "2000, Total loss : 638.2214965820312\n",
      "3435, early stopping, Total loss : 299.9687805175781\n"
     ]
    }
   ]
  },
  {
   "cell_type": "code",
   "execution_count": 28,
   "outputs": [
    {
     "data": {
      "text/plain": "                           img_path\nartist                             \nAlbrecht Du rer                 220\nAlfred Sisley                   164\nAmedeo Modigliani               132\nAndrei Rublev                    74\nAndy Warhol                     132\nCamille Pissarro                 64\nCaravaggio                       42\nClaude Monet                     59\nDiego Rivera                     55\nDiego Velazquez                  81\nEdgar Degas                     489\nEdouard Manet                    62\nEdvard Munch                     49\nEl Greco                         65\nEugene Delacroix                 36\nFrancisco Goya                  204\nFrida Kahlo                      84\nGeorges Seurat                   40\nGiotto di Bondone                72\nGustav Klimt                     69\nGustave Courbet                  47\nHenri Matisse                   121\nHenri Rousseau                   57\nHenri de Toulouse-Lautrec        61\nHieronymus Bosch                115\nJackson Pollock                  31\nJan van Eyck                     64\nJoan Miro                        76\nKazimir Malevich                 91\nLeonardo da Vinci               101\nMarc Chagall                    173\nMichelangelo                     44\nMikhail Vrubel                  118\nPablo Picasso                   303\nPaul Cezanne                     43\nPaul Gauguin                    220\nPaul Klee                       142\nPeter Paul Rubens                97\nPierre-Auguste Renoir           233\nPiet Mondrian                    59\nPieter Bruegel                   85\nRaphael                          73\nRembrandt                       181\nRene Magritte                   137\nSalvador Dali                    99\nSandro Botticelli               120\nTitian                          174\nVasiliy Kandinskiy               60\nVincent van Gogh                629\nWilliam Turner                   49",
      "text/html": "<div>\n<style scoped>\n    .dataframe tbody tr th:only-of-type {\n        vertical-align: middle;\n    }\n\n    .dataframe tbody tr th {\n        vertical-align: top;\n    }\n\n    .dataframe thead th {\n        text-align: right;\n    }\n</style>\n<table border=\"1\" class=\"dataframe\">\n  <thead>\n    <tr style=\"text-align: right;\">\n      <th></th>\n      <th>img_path</th>\n    </tr>\n    <tr>\n      <th>artist</th>\n      <th></th>\n    </tr>\n  </thead>\n  <tbody>\n    <tr>\n      <th>Albrecht Du rer</th>\n      <td>220</td>\n    </tr>\n    <tr>\n      <th>Alfred Sisley</th>\n      <td>164</td>\n    </tr>\n    <tr>\n      <th>Amedeo Modigliani</th>\n      <td>132</td>\n    </tr>\n    <tr>\n      <th>Andrei Rublev</th>\n      <td>74</td>\n    </tr>\n    <tr>\n      <th>Andy Warhol</th>\n      <td>132</td>\n    </tr>\n    <tr>\n      <th>Camille Pissarro</th>\n      <td>64</td>\n    </tr>\n    <tr>\n      <th>Caravaggio</th>\n      <td>42</td>\n    </tr>\n    <tr>\n      <th>Claude Monet</th>\n      <td>59</td>\n    </tr>\n    <tr>\n      <th>Diego Rivera</th>\n      <td>55</td>\n    </tr>\n    <tr>\n      <th>Diego Velazquez</th>\n      <td>81</td>\n    </tr>\n    <tr>\n      <th>Edgar Degas</th>\n      <td>489</td>\n    </tr>\n    <tr>\n      <th>Edouard Manet</th>\n      <td>62</td>\n    </tr>\n    <tr>\n      <th>Edvard Munch</th>\n      <td>49</td>\n    </tr>\n    <tr>\n      <th>El Greco</th>\n      <td>65</td>\n    </tr>\n    <tr>\n      <th>Eugene Delacroix</th>\n      <td>36</td>\n    </tr>\n    <tr>\n      <th>Francisco Goya</th>\n      <td>204</td>\n    </tr>\n    <tr>\n      <th>Frida Kahlo</th>\n      <td>84</td>\n    </tr>\n    <tr>\n      <th>Georges Seurat</th>\n      <td>40</td>\n    </tr>\n    <tr>\n      <th>Giotto di Bondone</th>\n      <td>72</td>\n    </tr>\n    <tr>\n      <th>Gustav Klimt</th>\n      <td>69</td>\n    </tr>\n    <tr>\n      <th>Gustave Courbet</th>\n      <td>47</td>\n    </tr>\n    <tr>\n      <th>Henri Matisse</th>\n      <td>121</td>\n    </tr>\n    <tr>\n      <th>Henri Rousseau</th>\n      <td>57</td>\n    </tr>\n    <tr>\n      <th>Henri de Toulouse-Lautrec</th>\n      <td>61</td>\n    </tr>\n    <tr>\n      <th>Hieronymus Bosch</th>\n      <td>115</td>\n    </tr>\n    <tr>\n      <th>Jackson Pollock</th>\n      <td>31</td>\n    </tr>\n    <tr>\n      <th>Jan van Eyck</th>\n      <td>64</td>\n    </tr>\n    <tr>\n      <th>Joan Miro</th>\n      <td>76</td>\n    </tr>\n    <tr>\n      <th>Kazimir Malevich</th>\n      <td>91</td>\n    </tr>\n    <tr>\n      <th>Leonardo da Vinci</th>\n      <td>101</td>\n    </tr>\n    <tr>\n      <th>Marc Chagall</th>\n      <td>173</td>\n    </tr>\n    <tr>\n      <th>Michelangelo</th>\n      <td>44</td>\n    </tr>\n    <tr>\n      <th>Mikhail Vrubel</th>\n      <td>118</td>\n    </tr>\n    <tr>\n      <th>Pablo Picasso</th>\n      <td>303</td>\n    </tr>\n    <tr>\n      <th>Paul Cezanne</th>\n      <td>43</td>\n    </tr>\n    <tr>\n      <th>Paul Gauguin</th>\n      <td>220</td>\n    </tr>\n    <tr>\n      <th>Paul Klee</th>\n      <td>142</td>\n    </tr>\n    <tr>\n      <th>Peter Paul Rubens</th>\n      <td>97</td>\n    </tr>\n    <tr>\n      <th>Pierre-Auguste Renoir</th>\n      <td>233</td>\n    </tr>\n    <tr>\n      <th>Piet Mondrian</th>\n      <td>59</td>\n    </tr>\n    <tr>\n      <th>Pieter Bruegel</th>\n      <td>85</td>\n    </tr>\n    <tr>\n      <th>Raphael</th>\n      <td>73</td>\n    </tr>\n    <tr>\n      <th>Rembrandt</th>\n      <td>181</td>\n    </tr>\n    <tr>\n      <th>Rene Magritte</th>\n      <td>137</td>\n    </tr>\n    <tr>\n      <th>Salvador Dali</th>\n      <td>99</td>\n    </tr>\n    <tr>\n      <th>Sandro Botticelli</th>\n      <td>120</td>\n    </tr>\n    <tr>\n      <th>Titian</th>\n      <td>174</td>\n    </tr>\n    <tr>\n      <th>Vasiliy Kandinskiy</th>\n      <td>60</td>\n    </tr>\n    <tr>\n      <th>Vincent van Gogh</th>\n      <td>629</td>\n    </tr>\n    <tr>\n      <th>William Turner</th>\n      <td>49</td>\n    </tr>\n  </tbody>\n</table>\n</div>"
     },
     "execution_count": 28,
     "metadata": {},
     "output_type": "execute_result"
    }
   ],
   "source": [
    "df = pd.read_csv(os.path.join(data_path, 'train_gen.csv'), index_col='id')\n",
    "count_df = df.groupby(['artist']).agg('count')\n",
    "count_df"
   ],
   "metadata": {
    "collapsed": false,
    "ExecuteTime": {
     "end_time": "2023-12-19T00:53:24.691817900Z",
     "start_time": "2023-12-19T00:53:24.638813900Z"
    }
   },
   "id": "f4a11c4fde1a9531"
  },
  {
   "cell_type": "code",
   "execution_count": 32,
   "outputs": [
    {
     "data": {
      "text/plain": "<Axes: >"
     },
     "execution_count": 32,
     "metadata": {},
     "output_type": "execute_result"
    },
    {
     "data": {
      "text/plain": "<Figure size 640x480 with 1 Axes>",
      "image/png": "[encoded data removed]"
     },
     "metadata": {},
     "output_type": "display_data"
    }
   ],
   "source": [
    "import seaborn as sns\n",
    "import matplotlib.pyplot as plt\n",
    "\n",
    "sns.barplot(x=list(count_df.index), y=list(count_df['img_path']))"
   ],
   "metadata": {
    "collapsed": false,
    "ExecuteTime": {
     "end_time": "2023-12-19T00:54:54.321535300Z",
     "start_time": "2023-12-19T00:54:53.817477100Z"
    }
   },
   "id": "2733948923198270"
  },
  {
   "cell_type": "code",
   "execution_count": null,
   "outputs": [],
   "source": [],
   "metadata": {
    "collapsed": false
   },
   "id": "4668159ea5c82ec2"
  }
 ],
 "metadata": {
  "kernelspec": {
   "name": "python3",
   "language": "python",
   "display_name": "Python 3 (ipykernel)"
  },
  "language_info": {
   "codemirror_mode": {
    "name": "ipython",
    "version": 2
   },
   "file_extension": ".py",
   "mimetype": "text/x-python",
   "name": "python",
   "nbconvert_exporter": "python",
   "pygments_lexer": "ipython2",
   "version": "2.7.6"
  },
  "colab": {
   "provenance": [],
   "gpuType": "T4"
  },
  "accelerator": "GPU"
 },
 "nbformat": 4,
 "nbformat_minor": 5
}
